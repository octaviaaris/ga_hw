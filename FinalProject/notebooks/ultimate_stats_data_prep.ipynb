{
 "cells": [
  {
   "cell_type": "markdown",
   "metadata": {},
   "source": [
    "## 2013 Club Championship Stats"
   ]
  },
  {
   "cell_type": "code",
   "execution_count": 1,
   "metadata": {
    "collapsed": true
   },
   "outputs": [],
   "source": [
    "from bs4 import BeautifulSoup\n",
    "import numpy as np\n",
    "import pandas as pd\n",
    "from pandas import DataFrame, Series\n",
    "import requests"
   ]
  },
  {
   "cell_type": "code",
   "execution_count": 312,
   "metadata": {
    "collapsed": false
   },
   "outputs": [],
   "source": [
    "stats = pd.read_html('../../data/2013ClubChampStats.html')"
   ]
  },
  {
   "cell_type": "code",
   "execution_count": 313,
   "metadata": {
    "collapsed": false
   },
   "outputs": [
    {
     "data": {
      "text/html": [
       "<div>\n",
       "<table border=\"1\" class=\"dataframe\">\n",
       "  <thead>\n",
       "    <tr style=\"text-align: right;\">\n",
       "      <th></th>\n",
       "      <th>Team</th>\n",
       "      <th>Number</th>\n",
       "      <th>Name</th>\n",
       "      <th>Goal</th>\n",
       "      <th>Assist</th>\n",
       "      <th>Block</th>\n",
       "      <th>Turn</th>\n",
       "      <th>Tournament</th>\n",
       "    </tr>\n",
       "  </thead>\n",
       "  <tbody>\n",
       "    <tr>\n",
       "      <th>0</th>\n",
       "      <td>BENT</td>\n",
       "      <td>0</td>\n",
       "      <td>BRITTANY KAPLAN</td>\n",
       "      <td>0</td>\n",
       "      <td>3</td>\n",
       "      <td>2</td>\n",
       "      <td>5</td>\n",
       "      <td>2013 USAU Club Championships</td>\n",
       "    </tr>\n",
       "    <tr>\n",
       "      <th>1</th>\n",
       "      <td>BENT</td>\n",
       "      <td>1</td>\n",
       "      <td>LEXI ZALK</td>\n",
       "      <td>4</td>\n",
       "      <td>1</td>\n",
       "      <td>4</td>\n",
       "      <td>0</td>\n",
       "      <td>2013 USAU Club Championships</td>\n",
       "    </tr>\n",
       "  </tbody>\n",
       "</table>\n",
       "</div>"
      ],
      "text/plain": [
       "   Team Number             Name  Goal  Assist  Block  Turn  \\\n",
       "0  BENT      0  BRITTANY KAPLAN     0       3      2     5   \n",
       "1  BENT      1        LEXI ZALK     4       1      4     0   \n",
       "\n",
       "                     Tournament  \n",
       "0  2013 USAU Club Championships  \n",
       "1  2013 USAU Club Championships  "
      ]
     },
     "execution_count": 313,
     "metadata": {},
     "output_type": "execute_result"
    }
   ],
   "source": [
    "stats_13 = stats[0]\n",
    "stats_13.rename(columns={'Player':'Name', '#':'Number', 'Goals':'Goal', 'Assists':'Assist', 'Ds':'Block', 'TOs':'Turn'}, inplace=True)\n",
    "stats_13['Tournament'] = '2013 USAU Club Championships'\n",
    "for item in stats_13.Name:\n",
    "    stats_13['Name'].replace(item, item.upper(), inplace=True)\n",
    "for item in stats_13.Team:\n",
    "    stats_13['Team'].replace(item, item.upper(), inplace=True)\n",
    "stats_13.head(2)"
   ]
  },
  {
   "cell_type": "markdown",
   "metadata": {},
   "source": [
    "Games"
   ]
  },
  {
   "cell_type": "code",
   "execution_count": 314,
   "metadata": {
    "collapsed": true
   },
   "outputs": [],
   "source": [
    "games_13 = {'BENT': 6,\n",
    " 'BRUTE SQUAD': 6,\n",
    " 'CAPITALS': 6,\n",
    " 'FURY': 7,\n",
    " 'HEIST': 6,\n",
    " 'MOLLY BROWN': 6,\n",
    " 'NEMESIS': 6,\n",
    " 'NIGHTLOCK': 6,\n",
    " 'NOVA': 6,\n",
    " 'OZONE': 6,\n",
    " 'PHOENIX': 6,\n",
    " 'RIOT': 7,\n",
    " 'SCANDAL': 7,\n",
    " 'SCHWA': 6,\n",
    " 'SHOWDOWN': 7,\n",
    " 'TRAFFIC': 6}"
   ]
  },
  {
   "cell_type": "code",
   "execution_count": 315,
   "metadata": {
    "collapsed": true
   },
   "outputs": [],
   "source": [
    "games_list_13 = []\n",
    "for item in stats_13.Team:\n",
    "    games_list_13.append(games_13[item])"
   ]
  },
  {
   "cell_type": "code",
   "execution_count": 316,
   "metadata": {
    "collapsed": true
   },
   "outputs": [],
   "source": [
    "stats_13['Games'] = games_list_13"
   ]
  },
  {
   "cell_type": "markdown",
   "metadata": {},
   "source": [
    "Final standings"
   ]
  },
  {
   "cell_type": "code",
   "execution_count": 317,
   "metadata": {
    "collapsed": true
   },
   "outputs": [],
   "source": [
    "standing_13 = {'BENT': 13,\n",
    " 'BRUTE SQUAD': 6,\n",
    " 'CAPITALS': 7,\n",
    " 'FURY': 2,\n",
    " 'HEIST': 12,\n",
    " 'MOLLY BROWN': 11,\n",
    " 'NEMESIS': 5,\n",
    " 'NIGHTLOCK': 9,\n",
    " 'NOVA': 16,\n",
    " 'OZONE': 9,\n",
    " 'PHOENIX': 14,\n",
    " 'RIOT': 3,\n",
    " 'SCANDAL': 1,\n",
    " 'SCHWA': 15,\n",
    " 'SHOWDOWN': 4,\n",
    " 'TRAFFIC': 7}"
   ]
  },
  {
   "cell_type": "code",
   "execution_count": 318,
   "metadata": {
    "collapsed": true
   },
   "outputs": [],
   "source": [
    "standing_list_13 = []\n",
    "for item in stats_13.Team:\n",
    "    standing_list_13.append(standing_13[item])"
   ]
  },
  {
   "cell_type": "code",
   "execution_count": 319,
   "metadata": {
    "collapsed": true
   },
   "outputs": [],
   "source": [
    "stats_13['Standing'] = standing_list_13"
   ]
  },
  {
   "cell_type": "markdown",
   "metadata": {},
   "source": [
    "Spirit"
   ]
  },
  {
   "cell_type": "code",
   "execution_count": 320,
   "metadata": {
    "collapsed": false
   },
   "outputs": [],
   "source": [
    "r = requests.get('http://www.usaultimate.org/news/2013-national-championships--spirit-of-the-game/?')\n",
    "b = BeautifulSoup(r.text, 'html.parser')"
   ]
  },
  {
   "cell_type": "code",
   "execution_count": 321,
   "metadata": {
    "collapsed": false
   },
   "outputs": [
    {
     "data": {
      "text/plain": [
       "<table border=\"1\" cellpadding=\"1\" cellspacing=\"1\" class=\"tablesorter\" style=\"font-size: 11px; font-style: normal; color: rgb(0, 0, 0);\" width=\"198\">\\n<thead>\\n<tr>\\n<th><strong>Score</strong></th>\\n<th><strong>Team</strong></th>\\n</tr>\\n</thead>\\n<tbody>\\n<tr>\\n<td>4.43</td>\\n<td bgcolor=\"#00ff00\"><span style=\"background-color: rgb(0, 255, 0);\">Riot</span></td>\\n</tr>\\n<tr>\\n<td>4.36</td>\\n<td>Scandal</td>\\n</tr>\\n<tr>\\n<td>4.33</td>\\n<td>Phoenix</td>\\n</tr>\\n<tr>\\n<td>4.33</td>\\n<td>Schwa</td>\\n</tr>\\n<tr>\\n<td>4.17</td>\\n<td>Heist</td>\\n</tr>\\n<tr>\\n<td>4.17</td>\\n<td>Nemesis</td>\\n</tr>\\n<tr>\\n<td>4.14</td>\\n<td>Fury</td>\\n</tr>\\n<tr>\\n<td>4.14</td>\\n<td>Showdown</td>\\n</tr>\\n<tr>\\n<td>4.00</td>\\n<td>Bent</td>\\n</tr>\\n<tr>\\n<td>4.00</td>\\n<td>Brute Squad</td>\\n</tr>\\n<tr>\\n<td>4.00</td>\\n<td>Nova</td>\\n</tr>\\n<tr>\\n<td>3.83</td>\\n<td>Capitals</td>\\n</tr>\\n<tr>\\n<td>3.83</td>\\n<td>Molly Brown</td>\\n</tr>\\n<tr>\\n<td>3.83</td>\\n<td>Traffic</td>\\n</tr>\\n<tr>\\n<td>3.67</td>\\n<td>Nightlock</td>\\n</tr>\\n<tr>\\n<td>3.00</td>\\n<td>Ozone</td>\\n</tr>\\n</tbody>\\n</table>"
      ]
     },
     "execution_count": 321,
     "metadata": {},
     "output_type": "execute_result"
    }
   ],
   "source": [
    "b.find_all('table',{'width':'198'})[2]"
   ]
  },
  {
   "cell_type": "code",
   "execution_count": 322,
   "metadata": {
    "collapsed": false
   },
   "outputs": [
    {
     "data": {
      "text/plain": [
       "{'BENT': 4.0,\n",
       " 'BRUTE SQUAD': 4.0,\n",
       " 'CAPITALS': 3.83,\n",
       " 'FURY': 4.14,\n",
       " 'HEIST': 4.17,\n",
       " 'MOLLY BROWN': 3.83,\n",
       " 'NEMESIS': 4.17,\n",
       " 'NIGHTLOCK': 3.67,\n",
       " 'NOVA': 4.0,\n",
       " 'OZONE': 3.0,\n",
       " 'PHOENIX': 4.33,\n",
       " 'RIOT': 4.43,\n",
       " 'SCANDAL': 4.36,\n",
       " 'SCHWA': 4.33,\n",
       " 'SHOWDOWN': 4.14,\n",
       " 'TRAFFIC': 3.83}"
      ]
     },
     "execution_count": 322,
     "metadata": {},
     "output_type": "execute_result"
    }
   ],
   "source": [
    "import re\n",
    "\n",
    "temp_scores = [str(item).split('\\n') for item in b.find_all('table',{'width':'198'})[2].find('tbody')]\n",
    "\n",
    "scores_13 = []\n",
    "\n",
    "for item in temp_scores[1::2]:\n",
    "    scores_13.append(item[1:3])\n",
    "\n",
    "scores_13\n",
    "\n",
    "spirit_13 = {}\n",
    "count = 0\n",
    "\n",
    "while count < len(scores_13):\n",
    "    spirit_13[re.findall('([^>]*)</', scores_13[count][1])[0].upper()] = float(re.findall('([^>]*)</', scores_13[count][0])[0])\n",
    "\n",
    "    count += 1\n",
    "    \n",
    "spirit_13"
   ]
  },
  {
   "cell_type": "code",
   "execution_count": 323,
   "metadata": {
    "collapsed": false
   },
   "outputs": [],
   "source": [
    "scores_list_13 = []\n",
    "for item in stats_13.Team:\n",
    "    scores_list_13.append(spirit_13[item])"
   ]
  },
  {
   "cell_type": "code",
   "execution_count": 324,
   "metadata": {
    "collapsed": false
   },
   "outputs": [],
   "source": [
    "stats_13['Spirit'] = scores_list_13\n",
    "stats_13 = stats_13[['Team', 'Number', 'Name', 'Goal', 'Assist', 'Block', 'Turn', 'Games', 'Tournament', 'Standing', 'Spirit']]"
   ]
  },
  {
   "cell_type": "code",
   "execution_count": 325,
   "metadata": {
    "collapsed": false
   },
   "outputs": [
    {
     "data": {
      "text/html": [
       "<div>\n",
       "<table border=\"1\" class=\"dataframe\">\n",
       "  <thead>\n",
       "    <tr style=\"text-align: right;\">\n",
       "      <th></th>\n",
       "      <th>Team</th>\n",
       "      <th>Number</th>\n",
       "      <th>Name</th>\n",
       "      <th>Goal</th>\n",
       "      <th>Assist</th>\n",
       "      <th>Block</th>\n",
       "      <th>Turn</th>\n",
       "      <th>Games</th>\n",
       "      <th>Tournament</th>\n",
       "      <th>Standing</th>\n",
       "      <th>Spirit</th>\n",
       "    </tr>\n",
       "  </thead>\n",
       "  <tbody>\n",
       "    <tr>\n",
       "      <th>379</th>\n",
       "      <td>TRAFFIC</td>\n",
       "      <td>0</td>\n",
       "      <td>TERRI WHITEHEAD</td>\n",
       "      <td>11</td>\n",
       "      <td>0</td>\n",
       "      <td>5</td>\n",
       "      <td>2</td>\n",
       "      <td>6</td>\n",
       "      <td>2013 USAU Club Championships</td>\n",
       "      <td>7</td>\n",
       "      <td>3.83</td>\n",
       "    </tr>\n",
       "    <tr>\n",
       "      <th>380</th>\n",
       "      <td>TRAFFIC</td>\n",
       "      <td>2</td>\n",
       "      <td>DANIELLE FORTIN</td>\n",
       "      <td>3</td>\n",
       "      <td>12</td>\n",
       "      <td>3</td>\n",
       "      <td>16</td>\n",
       "      <td>6</td>\n",
       "      <td>2013 USAU Club Championships</td>\n",
       "      <td>7</td>\n",
       "      <td>3.83</td>\n",
       "    </tr>\n",
       "    <tr>\n",
       "      <th>381</th>\n",
       "      <td>TRAFFIC</td>\n",
       "      <td>3</td>\n",
       "      <td>MICHELLE NING</td>\n",
       "      <td>0</td>\n",
       "      <td>3</td>\n",
       "      <td>1</td>\n",
       "      <td>2</td>\n",
       "      <td>6</td>\n",
       "      <td>2013 USAU Club Championships</td>\n",
       "      <td>7</td>\n",
       "      <td>3.83</td>\n",
       "    </tr>\n",
       "    <tr>\n",
       "      <th>382</th>\n",
       "      <td>TRAFFIC</td>\n",
       "      <td>4</td>\n",
       "      <td>KATIE BEREZAN</td>\n",
       "      <td>1</td>\n",
       "      <td>2</td>\n",
       "      <td>1</td>\n",
       "      <td>1</td>\n",
       "      <td>6</td>\n",
       "      <td>2013 USAU Club Championships</td>\n",
       "      <td>7</td>\n",
       "      <td>3.83</td>\n",
       "    </tr>\n",
       "    <tr>\n",
       "      <th>383</th>\n",
       "      <td>TRAFFIC</td>\n",
       "      <td>5</td>\n",
       "      <td>ASHLEE DAVISON</td>\n",
       "      <td>7</td>\n",
       "      <td>6</td>\n",
       "      <td>6</td>\n",
       "      <td>3</td>\n",
       "      <td>6</td>\n",
       "      <td>2013 USAU Club Championships</td>\n",
       "      <td>7</td>\n",
       "      <td>3.83</td>\n",
       "    </tr>\n",
       "  </tbody>\n",
       "</table>\n",
       "</div>"
      ],
      "text/plain": [
       "        Team Number             Name  Goal  Assist  Block  Turn  Games  \\\n",
       "379  TRAFFIC      0  TERRI WHITEHEAD    11       0      5     2      6   \n",
       "380  TRAFFIC      2  DANIELLE FORTIN     3      12      3    16      6   \n",
       "381  TRAFFIC      3    MICHELLE NING     0       3      1     2      6   \n",
       "382  TRAFFIC      4    KATIE BEREZAN     1       2      1     1      6   \n",
       "383  TRAFFIC      5   ASHLEE DAVISON     7       6      6     3      6   \n",
       "\n",
       "                       Tournament  Standing  Spirit  \n",
       "379  2013 USAU Club Championships         7    3.83  \n",
       "380  2013 USAU Club Championships         7    3.83  \n",
       "381  2013 USAU Club Championships         7    3.83  \n",
       "382  2013 USAU Club Championships         7    3.83  \n",
       "383  2013 USAU Club Championships         7    3.83  "
      ]
     },
     "execution_count": 325,
     "metadata": {},
     "output_type": "execute_result"
    }
   ],
   "source": [
    "stats_13[stats_13.Team == 'TRAFFIC'].head()"
   ]
  },
  {
   "cell_type": "markdown",
   "metadata": {
    "collapsed": true
   },
   "source": [
    "## 2014 Club Championship Stats"
   ]
  },
  {
   "cell_type": "code",
   "execution_count": 326,
   "metadata": {
    "collapsed": false
   },
   "outputs": [],
   "source": [
    "import requests\n",
    "from bs4 import BeautifulSoup\n",
    "import pandas as pd"
   ]
  },
  {
   "cell_type": "code",
   "execution_count": 327,
   "metadata": {
    "collapsed": true
   },
   "outputs": [],
   "source": [
    "def get_team_stat_urls(Championship_Page_URL):\n",
    "    import requests\n",
    "    from bs4 import BeautifulSoup\n",
    "    \n",
    "    r = requests.get(Championship_Page_URL) \n",
    "    b = BeautifulSoup(r.text, 'html.parser')\n",
    "\n",
    "    step1 = [str(item).split('\\n') for item in b.find_all('tr', style='border: 1px solid #eee;')]\n",
    "    step2 = [item[1][13:-9] for item in step1]\n",
    "    step3 = [item.split('\">') for item in step2]\n",
    "    step4 = [item[1].split(' (') for item in step3]\n",
    "    \n",
    "    dict_name = {}\n",
    "    \n",
    "    for item in range(16):\n",
    "        dict_name[step4[item][0]] = step3[item][0] \n",
    "    \n",
    "    return dict_name"
   ]
  },
  {
   "cell_type": "code",
   "execution_count": 328,
   "metadata": {
    "collapsed": false
   },
   "outputs": [],
   "source": [
    "teams_2014 = get_team_stat_urls('http://play.usaultimate.org/events/USA-Ultimate-National-Championships/schedule/Women/Club-Women/')"
   ]
  },
  {
   "cell_type": "code",
   "execution_count": 329,
   "metadata": {
    "collapsed": false
   },
   "outputs": [
    {
     "data": {
      "text/plain": [
       "{'Brute Squad': '/events/teams/?EventTeamId=xp%2bejIJBOcfXXkdUBdhyKw7QdaKTsy2msZaYJsN0QFI%3d',\n",
       " 'Capitals': '/events/teams/?EventTeamId=QMEULDssKTN4OuwrBMNq94efa7qxYCOB39XjXXvDBuY%3d',\n",
       " 'Fury': '/events/teams/?EventTeamId=CBkbxJkqtPUazzlNKxrMYL476TAvWyT%2b%2bII9vIya7AM%3d',\n",
       " 'Green Means Go': '/events/teams/?EventTeamId=ejfj3ptI1RiAMMNBDBMR%2bOWMPBwsN0Y86S%2fuCAYPw9U%3d',\n",
       " 'Heist': '/events/teams/?EventTeamId=h%2bkaG2ZXhVd798X3lGV7PeEc5SUIuvMgQy9BNMokNsM%3d',\n",
       " 'Molly Brown': '/events/teams/?EventTeamId=cKqY9nt%2bZuiYvmdlJ2MwdG0cK1L9yUN%2bWnowMqR1zKg%3d',\n",
       " 'Nemesis': '/events/teams/?EventTeamId=mIbs2PBWcyioQl2JAuLt1FjcCr3eIAK7iEJX3hRzIO8%3d',\n",
       " 'Nightlock': '/events/teams/?EventTeamId=KWGXFcYyimfQtEQ%2fDYoEE7kZ1HzzEC0yN7KIfYlhSWg%3d',\n",
       " 'Ozone': '/events/teams/?EventTeamId=01oilPzTzWp6xnsGkQ0uJtZl64NEdUOHJ0wQZrvMnNY%3d',\n",
       " 'Riot': '/events/teams/?EventTeamId=ddLOZCRcEzHqNrt1jat3nz4wNJ%2f7YNKK5OZQonhRuaQ%3d',\n",
       " 'Scandal': '/events/teams/?EventTeamId=m%2f3%2f0BtHZz5iI3aEgO1fqtpMAlDOwL7dnQ9uEQk0EK8%3d',\n",
       " 'Schwa': '/events/teams/?EventTeamId=esap3%2bfn3sLLAi%2bd1CxTiw7BVTCxjkAJdsoGTOIgx%2bc%3d',\n",
       " 'Showdown': '/events/teams/?EventTeamId=i9PHtiZOwQbftmahwj7ZWJSPQInr4SNYpfhAUtOB3xo%3d',\n",
       " 'Tabby Rosa': '/events/teams/?EventTeamId=BsdQC%2fDwobEqjntQ3M%2bPsGxZBLsy7MKdvHHcjWZszdU%3d',\n",
       " 'Traffic': '/events/teams/?EventTeamId=lz7rHLVbDRM0KJ9kdEdQCmulguSFhgEyLZE8x%2fjkm5A%3d',\n",
       " 'Underground': '/events/teams/?EventTeamId=3sDF4XVM1iwycJyXOa%2fItCAuNm%2b40z%2bEJPmAfa7S2BA%3d'}"
      ]
     },
     "execution_count": 329,
     "metadata": {},
     "output_type": "execute_result"
    }
   ],
   "source": [
    "teams_2014"
   ]
  },
  {
   "cell_type": "code",
   "execution_count": 330,
   "metadata": {
    "collapsed": false
   },
   "outputs": [],
   "source": [
    "# explore existing columns\n",
    "\n",
    "r = requests.get('http://play.usaultimate.org' + teams_2014['Traffic']) #any team name will do\n",
    "team_page = BeautifulSoup(r.text, 'html.parser')"
   ]
  },
  {
   "cell_type": "code",
   "execution_count": 331,
   "metadata": {
    "collapsed": false
   },
   "outputs": [],
   "source": [
    "columns_2014 = [str(item)[15:-5] for item in team_page.find('div', id='roster_list').find_all('th', span='col')]"
   ]
  },
  {
   "cell_type": "code",
   "execution_count": 332,
   "metadata": {
    "collapsed": false
   },
   "outputs": [
    {
     "data": {
      "text/plain": [
       "['No.',\n",
       " 'Name',\n",
       " 'Position',\n",
       " 'Year',\n",
       " 'Height',\n",
       " 'Goals',\n",
       " 'Assists',\n",
       " 'Ds',\n",
       " 'Turns']"
      ]
     },
     "execution_count": 332,
     "metadata": {},
     "output_type": "execute_result"
    }
   ],
   "source": [
    "columns_2014"
   ]
  },
  {
   "cell_type": "code",
   "execution_count": 333,
   "metadata": {
    "collapsed": true
   },
   "outputs": [],
   "source": [
    "def get_stats_page(team_name, dict_name):\n",
    "    # get html of team stats page\n",
    "    r = requests.get('http://play.usaultimate.org' + dict_name[team_name])\n",
    "    team_page = BeautifulSoup(r.text, 'html.parser')\n",
    "    return team_page.find('div', id='roster_list')"
   ]
  },
  {
   "cell_type": "code",
   "execution_count": 334,
   "metadata": {
    "collapsed": false
   },
   "outputs": [],
   "source": [
    "def player_info(team_name, dict_name):\n",
    "    \n",
    "    List1 = [str(item)[4:-5] for item in get_stats_page(team_name, dict_name).find_all('td')]\n",
    "    \n",
    "    playerInfo = []\n",
    "    count = 0\n",
    "    \n",
    "    while count < len(List1):\n",
    "        \n",
    "        info = {}\n",
    "\n",
    "        info['Number'] = List1[count]\n",
    "        info['Name'] = List1[count+1].upper()\n",
    "#         info['Position'] = List1[count+2]\n",
    "#         info['Year'] = List1[count+3]\n",
    "#         info['Height'] = List1[count+4]\n",
    "        info['Goal'] = int(List1[count+5])\n",
    "        info['Assist'] = int(List1[count+6])\n",
    "        info['Block'] = np.nan # int(List1[count+7])\n",
    "        info['Turn'] = np.nan # int(List1[count+8])\n",
    "        info['Team'] = team_name.upper()\n",
    "        \n",
    "        count += 9\n",
    "        playerInfo.append(info)\n",
    "    \n",
    "    return playerInfo"
   ]
  },
  {
   "cell_type": "code",
   "execution_count": 335,
   "metadata": {
    "collapsed": false
   },
   "outputs": [],
   "source": [
    "def get_stats(dict_name):\n",
    "    stats = []\n",
    "\n",
    "    for team in dict_name:\n",
    "        stats += player_info(str(team), dict_name)\n",
    "    \n",
    "    return stats"
   ]
  },
  {
   "cell_type": "code",
   "execution_count": 336,
   "metadata": {
    "collapsed": false
   },
   "outputs": [
    {
     "data": {
      "text/html": [
       "<div>\n",
       "<table border=\"1\" class=\"dataframe\">\n",
       "  <thead>\n",
       "    <tr style=\"text-align: right;\">\n",
       "      <th></th>\n",
       "      <th>Assist</th>\n",
       "      <th>Block</th>\n",
       "      <th>Goal</th>\n",
       "      <th>Name</th>\n",
       "      <th>Number</th>\n",
       "      <th>Team</th>\n",
       "      <th>Turn</th>\n",
       "    </tr>\n",
       "  </thead>\n",
       "  <tbody>\n",
       "    <tr>\n",
       "      <th>0</th>\n",
       "      <td>0</td>\n",
       "      <td>NaN</td>\n",
       "      <td>0</td>\n",
       "      <td>KARA KELLY</td>\n",
       "      <td>00</td>\n",
       "      <td>NIGHTLOCK</td>\n",
       "      <td>NaN</td>\n",
       "    </tr>\n",
       "    <tr>\n",
       "      <th>1</th>\n",
       "      <td>2</td>\n",
       "      <td>NaN</td>\n",
       "      <td>2</td>\n",
       "      <td>SHARON TSENG</td>\n",
       "      <td>01</td>\n",
       "      <td>NIGHTLOCK</td>\n",
       "      <td>NaN</td>\n",
       "    </tr>\n",
       "    <tr>\n",
       "      <th>2</th>\n",
       "      <td>7</td>\n",
       "      <td>NaN</td>\n",
       "      <td>5</td>\n",
       "      <td>MARISA RAFTER</td>\n",
       "      <td>02</td>\n",
       "      <td>NIGHTLOCK</td>\n",
       "      <td>NaN</td>\n",
       "    </tr>\n",
       "    <tr>\n",
       "      <th>3</th>\n",
       "      <td>3</td>\n",
       "      <td>NaN</td>\n",
       "      <td>3</td>\n",
       "      <td>MICHAELA LEE</td>\n",
       "      <td>03</td>\n",
       "      <td>NIGHTLOCK</td>\n",
       "      <td>NaN</td>\n",
       "    </tr>\n",
       "    <tr>\n",
       "      <th>4</th>\n",
       "      <td>5</td>\n",
       "      <td>NaN</td>\n",
       "      <td>3</td>\n",
       "      <td>MARIKA AUSTIN</td>\n",
       "      <td>04</td>\n",
       "      <td>NIGHTLOCK</td>\n",
       "      <td>NaN</td>\n",
       "    </tr>\n",
       "  </tbody>\n",
       "</table>\n",
       "</div>"
      ],
      "text/plain": [
       "   Assist  Block  Goal           Name Number       Team  Turn\n",
       "0       0    NaN     0     KARA KELLY     00  NIGHTLOCK   NaN\n",
       "1       2    NaN     2   SHARON TSENG     01  NIGHTLOCK   NaN\n",
       "2       7    NaN     5  MARISA RAFTER     02  NIGHTLOCK   NaN\n",
       "3       3    NaN     3   MICHAELA LEE     03  NIGHTLOCK   NaN\n",
       "4       5    NaN     3  MARIKA AUSTIN     04  NIGHTLOCK   NaN"
      ]
     },
     "execution_count": 336,
     "metadata": {},
     "output_type": "execute_result"
    }
   ],
   "source": [
    "import numpy as np\n",
    "from pandas import DataFrame, Series\n",
    "\n",
    "stats_14 = DataFrame.from_dict(get_stats(teams_2014))\n",
    "stats_14.head()"
   ]
  },
  {
   "cell_type": "code",
   "execution_count": 337,
   "metadata": {
    "collapsed": false,
    "scrolled": true
   },
   "outputs": [
    {
     "data": {
      "text/html": [
       "<div>\n",
       "<table border=\"1\" class=\"dataframe\">\n",
       "  <thead>\n",
       "    <tr style=\"text-align: right;\">\n",
       "      <th></th>\n",
       "      <th>Team</th>\n",
       "      <th>Number</th>\n",
       "      <th>Name</th>\n",
       "      <th>Goal</th>\n",
       "      <th>Assist</th>\n",
       "      <th>Block</th>\n",
       "      <th>Turn</th>\n",
       "      <th>Tournament</th>\n",
       "    </tr>\n",
       "  </thead>\n",
       "  <tbody>\n",
       "    <tr>\n",
       "      <th>386</th>\n",
       "      <td>GREEN MEANS GO</td>\n",
       "      <td>44</td>\n",
       "      <td>NATALIE GUSTAFSON</td>\n",
       "      <td>1</td>\n",
       "      <td>0</td>\n",
       "      <td>NaN</td>\n",
       "      <td>NaN</td>\n",
       "      <td>2014 USAU Club Championships</td>\n",
       "    </tr>\n",
       "    <tr>\n",
       "      <th>387</th>\n",
       "      <td>GREEN MEANS GO</td>\n",
       "      <td>51</td>\n",
       "      <td>JAMIE BARR</td>\n",
       "      <td>0</td>\n",
       "      <td>0</td>\n",
       "      <td>NaN</td>\n",
       "      <td>NaN</td>\n",
       "      <td>2014 USAU Club Championships</td>\n",
       "    </tr>\n",
       "    <tr>\n",
       "      <th>388</th>\n",
       "      <td>GREEN MEANS GO</td>\n",
       "      <td>53</td>\n",
       "      <td>MARGIE GUY</td>\n",
       "      <td>0</td>\n",
       "      <td>0</td>\n",
       "      <td>NaN</td>\n",
       "      <td>NaN</td>\n",
       "      <td>2014 USAU Club Championships</td>\n",
       "    </tr>\n",
       "    <tr>\n",
       "      <th>389</th>\n",
       "      <td>GREEN MEANS GO</td>\n",
       "      <td>66</td>\n",
       "      <td>SHERRY LI</td>\n",
       "      <td>1</td>\n",
       "      <td>1</td>\n",
       "      <td>NaN</td>\n",
       "      <td>NaN</td>\n",
       "      <td>2014 USAU Club Championships</td>\n",
       "    </tr>\n",
       "    <tr>\n",
       "      <th>390</th>\n",
       "      <td>GREEN MEANS GO</td>\n",
       "      <td>88</td>\n",
       "      <td>EILEEN PEACH REGAN</td>\n",
       "      <td>0</td>\n",
       "      <td>0</td>\n",
       "      <td>NaN</td>\n",
       "      <td>NaN</td>\n",
       "      <td>2014 USAU Club Championships</td>\n",
       "    </tr>\n",
       "  </tbody>\n",
       "</table>\n",
       "</div>"
      ],
      "text/plain": [
       "               Team Number                Name  Goal  Assist  Block  Turn  \\\n",
       "386  GREEN MEANS GO     44   NATALIE GUSTAFSON     1       0    NaN   NaN   \n",
       "387  GREEN MEANS GO     51          JAMIE BARR     0       0    NaN   NaN   \n",
       "388  GREEN MEANS GO     53          MARGIE GUY     0       0    NaN   NaN   \n",
       "389  GREEN MEANS GO     66           SHERRY LI     1       1    NaN   NaN   \n",
       "390  GREEN MEANS GO     88  EILEEN PEACH REGAN     0       0    NaN   NaN   \n",
       "\n",
       "                       Tournament  \n",
       "386  2014 USAU Club Championships  \n",
       "387  2014 USAU Club Championships  \n",
       "388  2014 USAU Club Championships  \n",
       "389  2014 USAU Club Championships  \n",
       "390  2014 USAU Club Championships  "
      ]
     },
     "execution_count": 337,
     "metadata": {},
     "output_type": "execute_result"
    }
   ],
   "source": [
    "cols = ['Team', 'Number', 'Name', 'Goal', 'Assist', 'Block', 'Turn']\n",
    "stats_14 = stats_14[cols]\n",
    "stats_14['Tournament'] = '2014 USAU Club Championships'\n",
    "stats_14.tail()"
   ]
  },
  {
   "cell_type": "markdown",
   "metadata": {},
   "source": [
    "Games"
   ]
  },
  {
   "cell_type": "code",
   "execution_count": 338,
   "metadata": {
    "collapsed": true
   },
   "outputs": [],
   "source": [
    "games_14 = {'BRUTE SQUAD': 6,\n",
    " 'CAPITALS': 4,\n",
    " 'FURY': 7,\n",
    " 'GREEN MEANS GO': 4,\n",
    " 'HEIST': 4,\n",
    " 'MOLLY BROWN': 5,\n",
    " 'NEMESIS': 4,\n",
    " 'NIGHTLOCK': 4,\n",
    " 'OZONE': 5,\n",
    " 'RIOT': 6,\n",
    " 'SCANDAL': 7,\n",
    " 'SCHWA': 4,\n",
    " 'SHOWDOWN': 5,\n",
    " 'TABBY ROSA': 4,\n",
    " 'TRAFFIC': 5,\n",
    " 'UNDERGROUND': 4}"
   ]
  },
  {
   "cell_type": "code",
   "execution_count": 339,
   "metadata": {
    "collapsed": true
   },
   "outputs": [],
   "source": [
    "games_list_14 = []\n",
    "for item in stats_14.Team:\n",
    "    games_list_14.append(games_14[item])"
   ]
  },
  {
   "cell_type": "code",
   "execution_count": 340,
   "metadata": {
    "collapsed": true
   },
   "outputs": [],
   "source": [
    "stats_14['Games'] = games_list_14"
   ]
  },
  {
   "cell_type": "markdown",
   "metadata": {},
   "source": [
    "Standing"
   ]
  },
  {
   "cell_type": "code",
   "execution_count": 341,
   "metadata": {
    "collapsed": true
   },
   "outputs": [],
   "source": [
    "standing_14 = {'BRUTE SQUAD': 3,\n",
    " 'CAPITALS': 14,\n",
    " 'FURY': 2,\n",
    " 'GREEN MEANS GO': 15,\n",
    " 'HEIST': 11,\n",
    " 'MOLLY BROWN': 9,\n",
    " 'NEMESIS': 13,\n",
    " 'NIGHTLOCK': 7,\n",
    " 'OZONE': 5,\n",
    " 'RIOT': 3,\n",
    " 'SCANDAL': 1,\n",
    " 'SCHWA': 9,\n",
    " 'SHOWDOWN': 6,\n",
    " 'TABBY ROSA': 16,\n",
    " 'TRAFFIC': 7,\n",
    " 'UNDERGROUND': 12}"
   ]
  },
  {
   "cell_type": "code",
   "execution_count": 342,
   "metadata": {
    "collapsed": true
   },
   "outputs": [],
   "source": [
    "standing_list_14 = []\n",
    "for item in stats_14.Team:\n",
    "    standing_list_14.append(standing_14[item])"
   ]
  },
  {
   "cell_type": "code",
   "execution_count": 343,
   "metadata": {
    "collapsed": true
   },
   "outputs": [],
   "source": [
    "stats_14['Standing'] = standing_list_14"
   ]
  },
  {
   "cell_type": "markdown",
   "metadata": {},
   "source": [
    "Spirit"
   ]
  },
  {
   "cell_type": "code",
   "execution_count": 344,
   "metadata": {
    "collapsed": false
   },
   "outputs": [
    {
     "data": {
      "text/plain": [
       "[['<td width=\"150\"><strong>Team</strong></td>',\n",
       "  '<td width=\"100\"><strong>Spirit Score</strong></td>'],\n",
       " ['<td>Scandal</td>', '<td>\\xc2\\xa012.71</td>'],\n",
       " ['<td>Fury</td>', '<td>\\xc2\\xa013.43</td>'],\n",
       " ['<td>Brute Squad</td>', '<td>\\xc2\\xa013.40</td>'],\n",
       " ['<td>Riot</td>', '<td>\\xc2\\xa014.17</td>'],\n",
       " ['<td><span style=\"font-size: 10.9090909957886px;\">Ozone</span></td>',\n",
       "  '<td>\\xc2\\xa010.86</td>'],\n",
       " ['<td>Showdown</td>', '<td>\\xc2\\xa011.17</td>'],\n",
       " ['<td>Traffic</td>', '<td>\\xc2\\xa012.14</td>'],\n",
       " ['<td>Nightlock</td>', '<td>\\xc2\\xa013.71</td>'],\n",
       " ['<td>Molly Brown</td>', '<td>\\xc2\\xa013.71</td>'],\n",
       " ['<td>Schwa</td>', '<td>\\xc2\\xa014.07</td>'],\n",
       " ['<td>Heist</td>', '<td>\\xc2\\xa014.71</td>'],\n",
       " ['<td>Underground</td>', '<td>\\xc2\\xa012.71</td>'],\n",
       " ['<td>Nemesis</td>', '<td>\\xc2\\xa011.71</td>'],\n",
       " ['<td>Capitals</td>', '<td>\\xc2\\xa013.17</td>'],\n",
       " ['<td>Green Means Go</td>', '<td>\\xc2\\xa013.43</td>'],\n",
       " ['<td>Tabby Rosa</td>', '<td>\\xc2\\xa015.29</td>']]"
      ]
     },
     "execution_count": 344,
     "metadata": {},
     "output_type": "execute_result"
    }
   ],
   "source": [
    "# spirit scores\n",
    "r = requests.get('http://play.usaultimate.org/events/usa-ultimate-national-championships/')\n",
    "b = BeautifulSoup(r.text, 'html.parser')\n",
    "\n",
    "scores_14 = [str(item).split('\\n')[2:5:2] for item in b.find_all('table',{'width':'400'})[2].find_all('tr')]\n",
    "scores_14"
   ]
  },
  {
   "cell_type": "code",
   "execution_count": 345,
   "metadata": {
    "collapsed": false
   },
   "outputs": [],
   "source": [
    "# re.findall('([^>]*)</', scores_14[1][0])[0].upper() # for team\n",
    "# scores_14[count][1][6:-5] # score\n",
    "# float(re.findall('([^>]*)</', scores[count][0])[0])"
   ]
  },
  {
   "cell_type": "code",
   "execution_count": 346,
   "metadata": {
    "collapsed": false
   },
   "outputs": [
    {
     "data": {
      "text/plain": [
       "{'BRUTE SQUAD': 13.4,\n",
       " 'CAPITALS': 13.17,\n",
       " 'FURY': 13.43,\n",
       " 'GREEN MEANS GO': 13.43,\n",
       " 'HEIST': 14.71,\n",
       " 'MOLLY BROWN': 13.71,\n",
       " 'NEMESIS': 11.71,\n",
       " 'NIGHTLOCK': 13.71,\n",
       " 'OZONE': 10.86,\n",
       " 'RIOT': 14.17,\n",
       " 'SCANDAL': 12.71,\n",
       " 'SCHWA': 14.07,\n",
       " 'SHOWDOWN': 11.17,\n",
       " 'TABBY ROSA': 15.29,\n",
       " 'TRAFFIC': 12.14,\n",
       " 'UNDERGROUND': 12.71}"
      ]
     },
     "execution_count": 346,
     "metadata": {},
     "output_type": "execute_result"
    }
   ],
   "source": [
    "import re\n",
    "\n",
    "spirit_14 = {}\n",
    "count = 1\n",
    "\n",
    "while count < len(scores_14):\n",
    "    spirit_14[re.findall('([^>]*)</', scores_14[count][0])[0].upper()] = float(scores_14[count][1][6:-5])\n",
    "\n",
    "    count += 1\n",
    "    \n",
    "spirit_14"
   ]
  },
  {
   "cell_type": "code",
   "execution_count": 347,
   "metadata": {
    "collapsed": false
   },
   "outputs": [],
   "source": [
    "scores_list_14 = []\n",
    "for item in stats_14.Team:\n",
    "    scores_list_14.append(spirit_14[item])"
   ]
  },
  {
   "cell_type": "code",
   "execution_count": 348,
   "metadata": {
    "collapsed": false
   },
   "outputs": [
    {
     "data": {
      "text/html": [
       "<div>\n",
       "<table border=\"1\" class=\"dataframe\">\n",
       "  <thead>\n",
       "    <tr style=\"text-align: right;\">\n",
       "      <th></th>\n",
       "      <th>Team</th>\n",
       "      <th>Number</th>\n",
       "      <th>Name</th>\n",
       "      <th>Goal</th>\n",
       "      <th>Assist</th>\n",
       "      <th>Block</th>\n",
       "      <th>Turn</th>\n",
       "      <th>Games</th>\n",
       "      <th>Tournament</th>\n",
       "      <th>Standing</th>\n",
       "      <th>Spirit</th>\n",
       "    </tr>\n",
       "  </thead>\n",
       "  <tbody>\n",
       "    <tr>\n",
       "      <th>355</th>\n",
       "      <td>TABBY ROSA</td>\n",
       "      <td>15</td>\n",
       "      <td>AMANDA SCHWORM</td>\n",
       "      <td>3</td>\n",
       "      <td>0</td>\n",
       "      <td>NaN</td>\n",
       "      <td>NaN</td>\n",
       "      <td>4</td>\n",
       "      <td>2014 USAU Club Championships</td>\n",
       "      <td>16</td>\n",
       "      <td>15.29</td>\n",
       "    </tr>\n",
       "    <tr>\n",
       "      <th>356</th>\n",
       "      <td>TABBY ROSA</td>\n",
       "      <td>18</td>\n",
       "      <td>SHAYNA BROCK</td>\n",
       "      <td>2</td>\n",
       "      <td>0</td>\n",
       "      <td>NaN</td>\n",
       "      <td>NaN</td>\n",
       "      <td>4</td>\n",
       "      <td>2014 USAU Club Championships</td>\n",
       "      <td>16</td>\n",
       "      <td>15.29</td>\n",
       "    </tr>\n",
       "    <tr>\n",
       "      <th>349</th>\n",
       "      <td>TABBY ROSA</td>\n",
       "      <td>05</td>\n",
       "      <td>DIANA ELSNER</td>\n",
       "      <td>0</td>\n",
       "      <td>1</td>\n",
       "      <td>NaN</td>\n",
       "      <td>NaN</td>\n",
       "      <td>4</td>\n",
       "      <td>2014 USAU Club Championships</td>\n",
       "      <td>16</td>\n",
       "      <td>15.29</td>\n",
       "    </tr>\n",
       "    <tr>\n",
       "      <th>350</th>\n",
       "      <td>TABBY ROSA</td>\n",
       "      <td>06</td>\n",
       "      <td>ALEXA WOOD</td>\n",
       "      <td>0</td>\n",
       "      <td>0</td>\n",
       "      <td>NaN</td>\n",
       "      <td>NaN</td>\n",
       "      <td>4</td>\n",
       "      <td>2014 USAU Club Championships</td>\n",
       "      <td>16</td>\n",
       "      <td>15.29</td>\n",
       "    </tr>\n",
       "    <tr>\n",
       "      <th>351</th>\n",
       "      <td>TABBY ROSA</td>\n",
       "      <td>07</td>\n",
       "      <td>KELSEY VIARS</td>\n",
       "      <td>14</td>\n",
       "      <td>3</td>\n",
       "      <td>NaN</td>\n",
       "      <td>NaN</td>\n",
       "      <td>4</td>\n",
       "      <td>2014 USAU Club Championships</td>\n",
       "      <td>16</td>\n",
       "      <td>15.29</td>\n",
       "    </tr>\n",
       "  </tbody>\n",
       "</table>\n",
       "</div>"
      ],
      "text/plain": [
       "           Team Number            Name  Goal  Assist  Block  Turn  Games  \\\n",
       "355  TABBY ROSA     15  AMANDA SCHWORM     3       0    NaN   NaN      4   \n",
       "356  TABBY ROSA     18    SHAYNA BROCK     2       0    NaN   NaN      4   \n",
       "349  TABBY ROSA     05    DIANA ELSNER     0       1    NaN   NaN      4   \n",
       "350  TABBY ROSA     06      ALEXA WOOD     0       0    NaN   NaN      4   \n",
       "351  TABBY ROSA     07    KELSEY VIARS    14       3    NaN   NaN      4   \n",
       "\n",
       "                       Tournament  Standing  Spirit  \n",
       "355  2014 USAU Club Championships        16   15.29  \n",
       "356  2014 USAU Club Championships        16   15.29  \n",
       "349  2014 USAU Club Championships        16   15.29  \n",
       "350  2014 USAU Club Championships        16   15.29  \n",
       "351  2014 USAU Club Championships        16   15.29  "
      ]
     },
     "execution_count": 348,
     "metadata": {},
     "output_type": "execute_result"
    }
   ],
   "source": [
    "stats_14['Spirit'] = scores_list_14\n",
    "stats_14 = stats_14[['Team', 'Number', 'Name', 'Goal', 'Assist', 'Block', 'Turn', 'Games', 'Tournament', 'Standing', 'Spirit']]\n",
    "stats_14.sort_values('Standing', ascending=False).head()"
   ]
  },
  {
   "cell_type": "code",
   "execution_count": 349,
   "metadata": {
    "collapsed": false
   },
   "outputs": [
    {
     "data": {
      "text/html": [
       "<div>\n",
       "<table border=\"1\" class=\"dataframe\">\n",
       "  <thead>\n",
       "    <tr style=\"text-align: right;\">\n",
       "      <th></th>\n",
       "      <th>Team</th>\n",
       "      <th>Number</th>\n",
       "      <th>Name</th>\n",
       "      <th>Goal</th>\n",
       "      <th>Assist</th>\n",
       "      <th>Block</th>\n",
       "      <th>Turn</th>\n",
       "      <th>Games</th>\n",
       "      <th>Tournament</th>\n",
       "      <th>Standing</th>\n",
       "      <th>Spirit</th>\n",
       "    </tr>\n",
       "  </thead>\n",
       "  <tbody>\n",
       "    <tr>\n",
       "      <th>338</th>\n",
       "      <td>SCANDAL</td>\n",
       "      <td>37</td>\n",
       "      <td>SANDRA JORGENSEN</td>\n",
       "      <td>21</td>\n",
       "      <td>4</td>\n",
       "      <td>NaN</td>\n",
       "      <td>NaN</td>\n",
       "      <td>7</td>\n",
       "      <td>2014 USAU Club Championships</td>\n",
       "      <td>1</td>\n",
       "      <td>12.71</td>\n",
       "    </tr>\n",
       "    <tr>\n",
       "      <th>333</th>\n",
       "      <td>SCANDAL</td>\n",
       "      <td>19</td>\n",
       "      <td>ALICIA WHITE</td>\n",
       "      <td>10</td>\n",
       "      <td>5</td>\n",
       "      <td>NaN</td>\n",
       "      <td>NaN</td>\n",
       "      <td>7</td>\n",
       "      <td>2014 USAU Club Championships</td>\n",
       "      <td>1</td>\n",
       "      <td>12.71</td>\n",
       "    </tr>\n",
       "    <tr>\n",
       "      <th>323</th>\n",
       "      <td>SCANDAL</td>\n",
       "      <td>04</td>\n",
       "      <td>SARAH ITOH</td>\n",
       "      <td>8</td>\n",
       "      <td>4</td>\n",
       "      <td>NaN</td>\n",
       "      <td>NaN</td>\n",
       "      <td>7</td>\n",
       "      <td>2014 USAU Club Championships</td>\n",
       "      <td>1</td>\n",
       "      <td>12.71</td>\n",
       "    </tr>\n",
       "    <tr>\n",
       "      <th>325</th>\n",
       "      <td>SCANDAL</td>\n",
       "      <td>06</td>\n",
       "      <td>ASHLEY DALY MORGAN</td>\n",
       "      <td>7</td>\n",
       "      <td>3</td>\n",
       "      <td>NaN</td>\n",
       "      <td>NaN</td>\n",
       "      <td>7</td>\n",
       "      <td>2014 USAU Club Championships</td>\n",
       "      <td>1</td>\n",
       "      <td>12.71</td>\n",
       "    </tr>\n",
       "    <tr>\n",
       "      <th>326</th>\n",
       "      <td>SCANDAL</td>\n",
       "      <td>07</td>\n",
       "      <td>KIMBERLY BEACH</td>\n",
       "      <td>7</td>\n",
       "      <td>2</td>\n",
       "      <td>NaN</td>\n",
       "      <td>NaN</td>\n",
       "      <td>7</td>\n",
       "      <td>2014 USAU Club Championships</td>\n",
       "      <td>1</td>\n",
       "      <td>12.71</td>\n",
       "    </tr>\n",
       "  </tbody>\n",
       "</table>\n",
       "</div>"
      ],
      "text/plain": [
       "        Team Number                Name  Goal  Assist  Block  Turn  Games  \\\n",
       "338  SCANDAL     37    SANDRA JORGENSEN    21       4    NaN   NaN      7   \n",
       "333  SCANDAL     19        ALICIA WHITE    10       5    NaN   NaN      7   \n",
       "323  SCANDAL     04          SARAH ITOH     8       4    NaN   NaN      7   \n",
       "325  SCANDAL     06  ASHLEY DALY MORGAN     7       3    NaN   NaN      7   \n",
       "326  SCANDAL     07      KIMBERLY BEACH     7       2    NaN   NaN      7   \n",
       "\n",
       "                       Tournament  Standing  Spirit  \n",
       "338  2014 USAU Club Championships         1   12.71  \n",
       "333  2014 USAU Club Championships         1   12.71  \n",
       "323  2014 USAU Club Championships         1   12.71  \n",
       "325  2014 USAU Club Championships         1   12.71  \n",
       "326  2014 USAU Club Championships         1   12.71  "
      ]
     },
     "execution_count": 349,
     "metadata": {},
     "output_type": "execute_result"
    }
   ],
   "source": [
    "stats_14[stats_14.Team == 'SCANDAL'].sort_values('Goal', ascending=False).head()"
   ]
  },
  {
   "cell_type": "markdown",
   "metadata": {},
   "source": [
    "## 2015 Club Championship Stats"
   ]
  },
  {
   "cell_type": "code",
   "execution_count": 350,
   "metadata": {
    "collapsed": false
   },
   "outputs": [],
   "source": [
    "teams_2015 = get_team_stat_urls('http://play.usaultimate.org/events/USA-Ultimate-National-Championships-2015/schedule/Women/Club-Women/')"
   ]
  },
  {
   "cell_type": "code",
   "execution_count": 351,
   "metadata": {
    "collapsed": false
   },
   "outputs": [
    {
     "data": {
      "text/plain": [
       "{'BENT': '/events/teams/?EventTeamId=tl1rkVLjdczXVbOWzjG8T6fVjubOyhxGoQqAHV0da4g%3d',\n",
       " 'Brute Squad': '/events/teams/?EventTeamId=c%2bbyh9S9ANQUYGFX55jj2huoFtowEZg%2fAyga4pprMQ0%3d',\n",
       " 'Capitals': '/events/teams/?EventTeamId=x4u7Gvp5rOjImw437isTD%2fs%2bQ06953u7JY%2f95O2ZmYY%3d',\n",
       " 'Fury': '/events/teams/?EventTeamId=32oHgC3wTopGTV3EhDSbH36OX0nyemEg%2bP5KQfBRE1g%3d',\n",
       " 'Heist': '/events/teams/?EventTeamId=CpQQbzcjJ0UXcqhrXjm3d8zVp0%2fIhQBVr%2fCVAX8yEAY%3d',\n",
       " 'Iris': '/events/teams/?EventTeamId=Wy3HoIVoyiewP6W0uRSYiIJo8RJY0m3zrLvGpRwtEwI%3d',\n",
       " 'Molly Brown': '/events/teams/?EventTeamId=RbDtI%2bYRGJIFXwMyY2GXHZNkAP4TG3e5cYp%2bwYagX5s%3d',\n",
       " 'Nemesis': '/events/teams/?EventTeamId=crhCXpLrJODvUJL6ppk9K1V8i2mXHNLATKv1ZOibPUc%3d',\n",
       " 'Nightlock': '/events/teams/?EventTeamId=EfdvGasY6mEwfXfzbwlKQKOo3de2IF4mbYrPHnmtd2Q%3d',\n",
       " 'Ozone': '/events/teams/?EventTeamId=iAImqQuifQ77w%2bC0P2niH56jBIDV%2fpmjWfCpaiDP%2brQ%3d',\n",
       " 'Phoenix': '/events/teams/?EventTeamId=CB%2br3JHfJtcIvZONww0nNVHSZZMq9jH%2frilvqOvHLyk%3d',\n",
       " 'Scandal': '/events/teams/?EventTeamId=1p1xfsPWLSJo49m2wW6PLGWhf64z3TbBK80VQYupjH4%3d',\n",
       " 'Schwa': '/events/teams/?EventTeamId=tVfG9QyqwGVHTA9%2bJr5%2f2OCqzoOVdKoauqT3wHzADl8%3d',\n",
       " 'Seattle Riot': '/events/teams/?EventTeamId=rL6ZybguUwJ2d26MOqTQkrgsVAuQwZmdj07a9vAJNiY%3d',\n",
       " 'Showdown': '/events/teams/?EventTeamId=2rKdDwlJsGvedI6QGcXrsJNiSoqMED%2fY0ah5QVEvfuU%3d',\n",
       " 'Traffic': '/events/teams/?EventTeamId=b6KwKgl3XZF4UGZSITU4rrdMUuX4kEWeE%2fOrNp3ceDg%3d'}"
      ]
     },
     "execution_count": 351,
     "metadata": {},
     "output_type": "execute_result"
    }
   ],
   "source": [
    "teams_2015"
   ]
  },
  {
   "cell_type": "code",
   "execution_count": 352,
   "metadata": {
    "collapsed": true
   },
   "outputs": [],
   "source": [
    "stats_15 = DataFrame.from_dict(get_stats(teams_2015))"
   ]
  },
  {
   "cell_type": "code",
   "execution_count": 353,
   "metadata": {
    "collapsed": false
   },
   "outputs": [],
   "source": [
    "stats_15 = stats_15[cols]\n",
    "stats_15['Tournament'] = '2015 USAU Club Championships'"
   ]
  },
  {
   "cell_type": "code",
   "execution_count": 354,
   "metadata": {
    "collapsed": false
   },
   "outputs": [],
   "source": [
    "for item in stats_15.Team:\n",
    "    if item == 'SEATTLE RIOT':\n",
    "        stats_15['Team'].replace(item, 'RIOT', inplace=True)"
   ]
  },
  {
   "cell_type": "markdown",
   "metadata": {},
   "source": [
    "Games"
   ]
  },
  {
   "cell_type": "code",
   "execution_count": 355,
   "metadata": {
    "collapsed": true
   },
   "outputs": [],
   "source": [
    "games_15 = {'BENT': 7,\n",
    " 'BRUTE SQUAD': 7,\n",
    " 'CAPITALS': 7,\n",
    " 'FURY': 6,\n",
    " 'HEIST': 7,\n",
    " 'IRIS': 7,\n",
    " 'MOLLY BROWN': 6,\n",
    " 'NEMESIS': 7,\n",
    " 'NIGHTLOCK': 7,\n",
    " 'OZONE': 7,\n",
    " 'PHOENIX': 7,\n",
    " 'RIOT': 7,\n",
    " 'SCANDAL': 7,\n",
    " 'SCHWA': 7,\n",
    " 'SHOWDOWN': 7,\n",
    " 'TRAFFIC': 7}"
   ]
  },
  {
   "cell_type": "code",
   "execution_count": 356,
   "metadata": {
    "collapsed": true
   },
   "outputs": [],
   "source": [
    "games_list_15 = []\n",
    "for item in stats_15.Team:\n",
    "    games_list_15.append(games_15[item])"
   ]
  },
  {
   "cell_type": "code",
   "execution_count": 357,
   "metadata": {
    "collapsed": false
   },
   "outputs": [],
   "source": [
    "stats_15['Games'] = games_list_15"
   ]
  },
  {
   "cell_type": "markdown",
   "metadata": {},
   "source": [
    "Standing"
   ]
  },
  {
   "cell_type": "code",
   "execution_count": 358,
   "metadata": {
    "collapsed": true
   },
   "outputs": [],
   "source": [
    "standing_15 = {'BENT': 14,\n",
    " 'BRUTE SQUAD': 1,\n",
    " 'CAPITALS': 13,\n",
    " 'FURY': 3,\n",
    " 'HEIST': 9,\n",
    " 'IRIS': 12,\n",
    " 'MOLLY BROWN': 3,\n",
    " 'NEMESIS': 16,\n",
    " 'NIGHTLOCK': 7,\n",
    " 'OZONE': 9,\n",
    " 'PHOENIX': 7,\n",
    " 'RIOT': 2,\n",
    " 'SCANDAL': 6,\n",
    " 'SCHWA': 11,\n",
    " 'SHOWDOWN': 15,\n",
    " 'TRAFFIC': 5}"
   ]
  },
  {
   "cell_type": "code",
   "execution_count": 359,
   "metadata": {
    "collapsed": true
   },
   "outputs": [],
   "source": [
    "standing_list_15 = []\n",
    "for item in stats_15.Team:\n",
    "    standing_list_15.append(standing_15[item])"
   ]
  },
  {
   "cell_type": "code",
   "execution_count": 360,
   "metadata": {
    "collapsed": true
   },
   "outputs": [],
   "source": [
    "stats_15['Standing'] = standing_list_15"
   ]
  },
  {
   "cell_type": "markdown",
   "metadata": {},
   "source": [
    "Spirit Scores"
   ]
  },
  {
   "cell_type": "code",
   "execution_count": 361,
   "metadata": {
    "collapsed": false
   },
   "outputs": [
    {
     "data": {
      "text/plain": [
       "[['<td width=\"150\"><strong>Team</strong></td>',\n",
       "  '<td width=\"100\"><strong>Spirit Score</strong></td>'],\n",
       " ['<td>Brute Squad</td>', '<td>\\xc2\\xa011.00</td>'],\n",
       " ['<td>Riot</td>', '<td>\\xc2\\xa014.00</td>'],\n",
       " ['<td>Fury</td>', '<td>\\xc2\\xa013.60</td>'],\n",
       " ['<td>Molly Brown</td>', '<td>\\xc2\\xa011.33</td>'],\n",
       " ['<td><span style=\"font-size: 10.9091px;\">Traffic</span></td>',\n",
       "  '<td>\\xc2\\xa012.00</td>'],\n",
       " ['<td>Scandal</td>', '<td>\\xc2\\xa011.64</td>'],\n",
       " ['<td>Nightlock</td>', '<td>\\xc2\\xa010.43</td>'],\n",
       " ['<td>Phoenix</td>', '<td>\\xc2\\xa012.00</td>'],\n",
       " ['<td>Ozone</td>', '<td>\\xc2\\xa010.71</td>'],\n",
       " ['<td>Heist</td>', '<td>\\xc2\\xa011.00</td>'],\n",
       " ['<td>Schwa</td>', '<td>\\xc2\\xa011.67</td>'],\n",
       " ['<td>Iris</td>', '<td>\\xc2\\xa011.29</td>'],\n",
       " ['<td>Capitals</td>', '<td>\\xc2\\xa010.43</td>'],\n",
       " ['<td>Bent</td>', '<td>\\xc2\\xa07.43</td>'],\n",
       " ['<td>Showdown</td>', '<td>\\xc2\\xa08.14</td>'],\n",
       " ['<td>Nemesis</td>', '<td>\\xc2\\xa011.00</td>']]"
      ]
     },
     "execution_count": 361,
     "metadata": {},
     "output_type": "execute_result"
    }
   ],
   "source": [
    "# spirit scores\n",
    "r = requests.get('http://play.usaultimate.org/events/usa-ultimate-national-championships-2015/')\n",
    "b = BeautifulSoup(r.text, 'html.parser')\n",
    "\n",
    "scores_15 = [str(item).split('\\n')[2:5:2] for item in b.find_all('table',{'width':'400'})[2].find_all('tr')]\n",
    "scores_15"
   ]
  },
  {
   "cell_type": "code",
   "execution_count": 362,
   "metadata": {
    "collapsed": false
   },
   "outputs": [
    {
     "data": {
      "text/plain": [
       "{'BENT': 7.43,\n",
       " 'BRUTE SQUAD': 11.0,\n",
       " 'CAPITALS': 10.43,\n",
       " 'FURY': 13.6,\n",
       " 'HEIST': 11.0,\n",
       " 'IRIS': 11.29,\n",
       " 'MOLLY BROWN': 11.33,\n",
       " 'NEMESIS': 11.0,\n",
       " 'NIGHTLOCK': 10.43,\n",
       " 'OZONE': 10.71,\n",
       " 'PHOENIX': 12.0,\n",
       " 'RIOT': 14.0,\n",
       " 'SCANDAL': 11.64,\n",
       " 'SCHWA': 11.67,\n",
       " 'SHOWDOWN': 8.14,\n",
       " 'TRAFFIC': 12.0}"
      ]
     },
     "execution_count": 362,
     "metadata": {},
     "output_type": "execute_result"
    }
   ],
   "source": [
    "import re\n",
    "\n",
    "spirit_15 = {}\n",
    "count = 1\n",
    "\n",
    "while count < len(scores_14):\n",
    "    spirit_15[re.findall('([^>]*)</', scores_15[count][0])[0].upper()] = float(scores_15[count][1][6:-5])\n",
    "\n",
    "    count += 1\n",
    "    \n",
    "spirit_15"
   ]
  },
  {
   "cell_type": "code",
   "execution_count": 363,
   "metadata": {
    "collapsed": false
   },
   "outputs": [],
   "source": [
    "scores_list_15 = []\n",
    "for item in stats_15.Team:\n",
    "    scores_list_15.append(spirit_15[item])"
   ]
  },
  {
   "cell_type": "code",
   "execution_count": 364,
   "metadata": {
    "collapsed": false
   },
   "outputs": [
    {
     "data": {
      "text/html": [
       "<div>\n",
       "<table border=\"1\" class=\"dataframe\">\n",
       "  <thead>\n",
       "    <tr style=\"text-align: right;\">\n",
       "      <th></th>\n",
       "      <th>Team</th>\n",
       "      <th>Number</th>\n",
       "      <th>Name</th>\n",
       "      <th>Goal</th>\n",
       "      <th>Assist</th>\n",
       "      <th>Block</th>\n",
       "      <th>Turn</th>\n",
       "      <th>Games</th>\n",
       "      <th>Tournament</th>\n",
       "      <th>Standing</th>\n",
       "      <th>Spirit</th>\n",
       "    </tr>\n",
       "  </thead>\n",
       "  <tbody>\n",
       "    <tr>\n",
       "      <th>0</th>\n",
       "      <td>IRIS</td>\n",
       "      <td>00</td>\n",
       "      <td>CAROLINE CADOTTE</td>\n",
       "      <td>0</td>\n",
       "      <td>0</td>\n",
       "      <td>NaN</td>\n",
       "      <td>NaN</td>\n",
       "      <td>7</td>\n",
       "      <td>2015 USAU Club Championships</td>\n",
       "      <td>12</td>\n",
       "      <td>11.29</td>\n",
       "    </tr>\n",
       "    <tr>\n",
       "      <th>1</th>\n",
       "      <td>IRIS</td>\n",
       "      <td>00</td>\n",
       "      <td>MARIANNE PILON</td>\n",
       "      <td>0</td>\n",
       "      <td>0</td>\n",
       "      <td>NaN</td>\n",
       "      <td>NaN</td>\n",
       "      <td>7</td>\n",
       "      <td>2015 USAU Club Championships</td>\n",
       "      <td>12</td>\n",
       "      <td>11.29</td>\n",
       "    </tr>\n",
       "    <tr>\n",
       "      <th>2</th>\n",
       "      <td>IRIS</td>\n",
       "      <td>00</td>\n",
       "      <td>STéPHANIE  VILLANUEVA</td>\n",
       "      <td>0</td>\n",
       "      <td>0</td>\n",
       "      <td>NaN</td>\n",
       "      <td>NaN</td>\n",
       "      <td>7</td>\n",
       "      <td>2015 USAU Club Championships</td>\n",
       "      <td>12</td>\n",
       "      <td>11.29</td>\n",
       "    </tr>\n",
       "    <tr>\n",
       "      <th>3</th>\n",
       "      <td>IRIS</td>\n",
       "      <td>01</td>\n",
       "      <td>JULIE DAVIAU</td>\n",
       "      <td>9</td>\n",
       "      <td>1</td>\n",
       "      <td>NaN</td>\n",
       "      <td>NaN</td>\n",
       "      <td>7</td>\n",
       "      <td>2015 USAU Club Championships</td>\n",
       "      <td>12</td>\n",
       "      <td>11.29</td>\n",
       "    </tr>\n",
       "    <tr>\n",
       "      <th>4</th>\n",
       "      <td>IRIS</td>\n",
       "      <td>04</td>\n",
       "      <td>MARIE GENEST</td>\n",
       "      <td>6</td>\n",
       "      <td>19</td>\n",
       "      <td>NaN</td>\n",
       "      <td>NaN</td>\n",
       "      <td>7</td>\n",
       "      <td>2015 USAU Club Championships</td>\n",
       "      <td>12</td>\n",
       "      <td>11.29</td>\n",
       "    </tr>\n",
       "  </tbody>\n",
       "</table>\n",
       "</div>"
      ],
      "text/plain": [
       "   Team Number                   Name  Goal  Assist  Block  Turn  Games  \\\n",
       "0  IRIS     00       CAROLINE CADOTTE     0       0    NaN   NaN      7   \n",
       "1  IRIS     00         MARIANNE PILON     0       0    NaN   NaN      7   \n",
       "2  IRIS     00  STéPHANIE  VILLANUEVA     0       0    NaN   NaN      7   \n",
       "3  IRIS     01           JULIE DAVIAU     9       1    NaN   NaN      7   \n",
       "4  IRIS     04           MARIE GENEST     6      19    NaN   NaN      7   \n",
       "\n",
       "                     Tournament  Standing  Spirit  \n",
       "0  2015 USAU Club Championships        12   11.29  \n",
       "1  2015 USAU Club Championships        12   11.29  \n",
       "2  2015 USAU Club Championships        12   11.29  \n",
       "3  2015 USAU Club Championships        12   11.29  \n",
       "4  2015 USAU Club Championships        12   11.29  "
      ]
     },
     "execution_count": 364,
     "metadata": {},
     "output_type": "execute_result"
    }
   ],
   "source": [
    "stats_15['Spirit'] = scores_list_15\n",
    "stats_15 = stats_15[['Team', 'Number', 'Name', 'Goal', 'Assist', 'Block', 'Turn', 'Games', 'Tournament', 'Standing', 'Spirit']]\n",
    "stats_15.head()"
   ]
  },
  {
   "cell_type": "markdown",
   "metadata": {},
   "source": [
    "## 2012 WUGC Stats"
   ]
  },
  {
   "cell_type": "code",
   "execution_count": 365,
   "metadata": {
    "collapsed": false
   },
   "outputs": [
    {
     "data": {
      "text/plain": [
       "[u'', u'#', u'Player', u'Games', u'Assist', u'Goal', u'Tot.', u'block', u'']"
      ]
     },
     "execution_count": 365,
     "metadata": {},
     "output_type": "execute_result"
    }
   ],
   "source": [
    "# http://fdsys.jfda.or.jp/pscore/scv_team/open/85?lang=en\n",
    "\n",
    "import requests\n",
    "from bs4 import BeautifulSoup\n",
    "import pandas as pd\n",
    "\n",
    "r = requests.get('http://fdsys.jfda.or.jp/pscore/scv_team/open/85?lang=en') \n",
    "b = BeautifulSoup(r.text, 'html.parser')\n",
    "\n",
    "# b.findAll('span',{'class':'SCV_MIDA_M'})\n",
    "b.find('table',{'style':'width: 95%'}).find('tr',{'class':''}).text.split('\\n')"
   ]
  },
  {
   "cell_type": "code",
   "execution_count": 366,
   "metadata": {
    "collapsed": false
   },
   "outputs": [
    {
     "data": {
      "text/plain": [
       "[u'#', u'Player', u'Games', u'Assist', u'Goal', u'Tot.', u'block']"
      ]
     },
     "execution_count": 366,
     "metadata": {},
     "output_type": "execute_result"
    }
   ],
   "source": [
    "columns_2012WUGC = b.find('table',{'style':'width: 95%'}).find('tr',{'class':''}).text.split('\\n')[1:-1]\n",
    "columns_2012WUGC"
   ]
  },
  {
   "cell_type": "code",
   "execution_count": 367,
   "metadata": {
    "collapsed": false
   },
   "outputs": [],
   "source": [
    "# b.find('table',{'style':'width: 95%'}).find_all('td')[7:]"
   ]
  },
  {
   "cell_type": "code",
   "execution_count": 368,
   "metadata": {
    "collapsed": false
   },
   "outputs": [
    {
     "data": {
      "text/plain": [
       "35"
      ]
     },
     "execution_count": 368,
     "metadata": {},
     "output_type": "execute_result"
    }
   ],
   "source": [
    "List1 = [str(item)[15:-5] for item in b.find('table',{'style':'width: 95%'}).find_all('td')[7:]]\n",
    "List1\n",
    "# List1[1].split('</span>')[1][:-5]\n",
    "int(List1[5][:-2])"
   ]
  },
  {
   "cell_type": "code",
   "execution_count": 369,
   "metadata": {
    "collapsed": true
   },
   "outputs": [],
   "source": [
    "def player_info_dict():\n",
    "    \n",
    "    List1 = [str(item)[15:-5] for item in b.find('table',{'style':'width: 95%'}).find_all('td')[7:]]\n",
    "    \n",
    "    playerInfo = []\n",
    "    count = 0\n",
    "    \n",
    "    while count < len(List1):\n",
    "        \n",
    "        info = {}\n",
    "\n",
    "        info['#'] = List1[count]\n",
    "        info['Player'] = List1[count+1].split('</span>')[1][:-5].upper()\n",
    "        info['Games'] = int(List1[count+2])\n",
    "        info['Assist'] = int(List1[count+3])\n",
    "        info['Goals'] = int(List1[count+4])\n",
    "        info['Team'] = 'FURY'\n",
    "        info['Block'] = np.nan\n",
    "        info['Turn'] = np.nan\n",
    "        \n",
    "        count += 7\n",
    "        playerInfo.append(info)\n",
    "    \n",
    "    return playerInfo"
   ]
  },
  {
   "cell_type": "code",
   "execution_count": 370,
   "metadata": {
    "collapsed": false
   },
   "outputs": [],
   "source": [
    "# player_info_dict()"
   ]
  },
  {
   "cell_type": "code",
   "execution_count": 371,
   "metadata": {
    "collapsed": false
   },
   "outputs": [
    {
     "data": {
      "text/html": [
       "<div>\n",
       "<table border=\"1\" class=\"dataframe\">\n",
       "  <thead>\n",
       "    <tr style=\"text-align: right;\">\n",
       "      <th></th>\n",
       "      <th>Team</th>\n",
       "      <th>Number</th>\n",
       "      <th>Name</th>\n",
       "      <th>Goal</th>\n",
       "      <th>Assist</th>\n",
       "      <th>Block</th>\n",
       "      <th>Turn</th>\n",
       "      <th>Games</th>\n",
       "      <th>Tournament</th>\n",
       "      <th>Standing</th>\n",
       "    </tr>\n",
       "  </thead>\n",
       "  <tbody>\n",
       "    <tr>\n",
       "      <th>0</th>\n",
       "      <td>FURY</td>\n",
       "      <td>4</td>\n",
       "      <td>ALEX SNYDER</td>\n",
       "      <td>3</td>\n",
       "      <td>32</td>\n",
       "      <td>NaN</td>\n",
       "      <td>NaN</td>\n",
       "      <td>12</td>\n",
       "      <td>2012 WUGC</td>\n",
       "      <td>2</td>\n",
       "    </tr>\n",
       "    <tr>\n",
       "      <th>1</th>\n",
       "      <td>FURY</td>\n",
       "      <td>19</td>\n",
       "      <td>GEORGIA BOSSCHER</td>\n",
       "      <td>13</td>\n",
       "      <td>14</td>\n",
       "      <td>NaN</td>\n",
       "      <td>NaN</td>\n",
       "      <td>12</td>\n",
       "      <td>2012 WUGC</td>\n",
       "      <td>2</td>\n",
       "    </tr>\n",
       "    <tr>\n",
       "      <th>2</th>\n",
       "      <td>FURY</td>\n",
       "      <td>7</td>\n",
       "      <td>KAELA JORGENSON</td>\n",
       "      <td>12</td>\n",
       "      <td>10</td>\n",
       "      <td>NaN</td>\n",
       "      <td>NaN</td>\n",
       "      <td>12</td>\n",
       "      <td>2012 WUGC</td>\n",
       "      <td>2</td>\n",
       "    </tr>\n",
       "    <tr>\n",
       "      <th>3</th>\n",
       "      <td>FURY</td>\n",
       "      <td>13</td>\n",
       "      <td>CREE HOWARD</td>\n",
       "      <td>15</td>\n",
       "      <td>6</td>\n",
       "      <td>NaN</td>\n",
       "      <td>NaN</td>\n",
       "      <td>12</td>\n",
       "      <td>2012 WUGC</td>\n",
       "      <td>2</td>\n",
       "    </tr>\n",
       "    <tr>\n",
       "      <th>4</th>\n",
       "      <td>FURY</td>\n",
       "      <td>26</td>\n",
       "      <td>ALICIA WHITE</td>\n",
       "      <td>16</td>\n",
       "      <td>2</td>\n",
       "      <td>NaN</td>\n",
       "      <td>NaN</td>\n",
       "      <td>12</td>\n",
       "      <td>2012 WUGC</td>\n",
       "      <td>2</td>\n",
       "    </tr>\n",
       "  </tbody>\n",
       "</table>\n",
       "</div>"
      ],
      "text/plain": [
       "   Team Number              Name  Goal  Assist  Block  Turn  Games Tournament  \\\n",
       "0  FURY      4       ALEX SNYDER     3      32    NaN   NaN     12  2012 WUGC   \n",
       "1  FURY     19  GEORGIA BOSSCHER    13      14    NaN   NaN     12  2012 WUGC   \n",
       "2  FURY      7   KAELA JORGENSON    12      10    NaN   NaN     12  2012 WUGC   \n",
       "3  FURY     13       CREE HOWARD    15       6    NaN   NaN     12  2012 WUGC   \n",
       "4  FURY     26      ALICIA WHITE    16       2    NaN   NaN     12  2012 WUGC   \n",
       "\n",
       "   Standing  \n",
       "0         2  \n",
       "1         2  \n",
       "2         2  \n",
       "3         2  \n",
       "4         2  "
      ]
     },
     "execution_count": 371,
     "metadata": {},
     "output_type": "execute_result"
    }
   ],
   "source": [
    "from pandas import DataFrame, Series\n",
    "stats_12WUGC = DataFrame.from_dict(player_info_dict())\n",
    "\n",
    "stats_12WUGC.rename(columns={'#':'Number', 'Goals':'Goal', 'Player':'Name'}, inplace=True)\n",
    "stats_12WUGC = stats_12WUGC[['Team', 'Number', 'Name', 'Goal', 'Assist', 'Block', 'Turn']]\n",
    "stats_12WUGC['Games'] = 12\n",
    "stats_12WUGC['Tournament'] = '2012 WUGC'\n",
    "stats_12WUGC['Standing'] = 2\n",
    "stats_12WUGC.head()"
   ]
  },
  {
   "cell_type": "code",
   "execution_count": 372,
   "metadata": {
    "collapsed": true
   },
   "outputs": [],
   "source": [
    "# SOTG Score http://www.wfdf.org/news-media/news/news/463-world-flying-disc-federation-releases-spirit-scores-from-2012-world-ultimate-championships\n",
    "stats_12WUGC['Spirit'] = 12.00"
   ]
  },
  {
   "cell_type": "code",
   "execution_count": 373,
   "metadata": {
    "collapsed": false
   },
   "outputs": [
    {
     "data": {
      "text/html": [
       "<div>\n",
       "<table border=\"1\" class=\"dataframe\">\n",
       "  <thead>\n",
       "    <tr style=\"text-align: right;\">\n",
       "      <th></th>\n",
       "      <th>Team</th>\n",
       "      <th>Number</th>\n",
       "      <th>Name</th>\n",
       "      <th>Goal</th>\n",
       "      <th>Assist</th>\n",
       "      <th>Block</th>\n",
       "      <th>Turn</th>\n",
       "      <th>Games</th>\n",
       "      <th>Tournament</th>\n",
       "      <th>Standing</th>\n",
       "      <th>Spirit</th>\n",
       "    </tr>\n",
       "  </thead>\n",
       "  <tbody>\n",
       "    <tr>\n",
       "      <th>0</th>\n",
       "      <td>FURY</td>\n",
       "      <td>4</td>\n",
       "      <td>ALEX SNYDER</td>\n",
       "      <td>3</td>\n",
       "      <td>32</td>\n",
       "      <td>NaN</td>\n",
       "      <td>NaN</td>\n",
       "      <td>12</td>\n",
       "      <td>2012 WUGC</td>\n",
       "      <td>2</td>\n",
       "      <td>12</td>\n",
       "    </tr>\n",
       "    <tr>\n",
       "      <th>1</th>\n",
       "      <td>FURY</td>\n",
       "      <td>19</td>\n",
       "      <td>GEORGIA BOSSCHER</td>\n",
       "      <td>13</td>\n",
       "      <td>14</td>\n",
       "      <td>NaN</td>\n",
       "      <td>NaN</td>\n",
       "      <td>12</td>\n",
       "      <td>2012 WUGC</td>\n",
       "      <td>2</td>\n",
       "      <td>12</td>\n",
       "    </tr>\n",
       "    <tr>\n",
       "      <th>2</th>\n",
       "      <td>FURY</td>\n",
       "      <td>7</td>\n",
       "      <td>KAELA JORGENSON</td>\n",
       "      <td>12</td>\n",
       "      <td>10</td>\n",
       "      <td>NaN</td>\n",
       "      <td>NaN</td>\n",
       "      <td>12</td>\n",
       "      <td>2012 WUGC</td>\n",
       "      <td>2</td>\n",
       "      <td>12</td>\n",
       "    </tr>\n",
       "    <tr>\n",
       "      <th>3</th>\n",
       "      <td>FURY</td>\n",
       "      <td>13</td>\n",
       "      <td>CREE HOWARD</td>\n",
       "      <td>15</td>\n",
       "      <td>6</td>\n",
       "      <td>NaN</td>\n",
       "      <td>NaN</td>\n",
       "      <td>12</td>\n",
       "      <td>2012 WUGC</td>\n",
       "      <td>2</td>\n",
       "      <td>12</td>\n",
       "    </tr>\n",
       "    <tr>\n",
       "      <th>4</th>\n",
       "      <td>FURY</td>\n",
       "      <td>26</td>\n",
       "      <td>ALICIA WHITE</td>\n",
       "      <td>16</td>\n",
       "      <td>2</td>\n",
       "      <td>NaN</td>\n",
       "      <td>NaN</td>\n",
       "      <td>12</td>\n",
       "      <td>2012 WUGC</td>\n",
       "      <td>2</td>\n",
       "      <td>12</td>\n",
       "    </tr>\n",
       "  </tbody>\n",
       "</table>\n",
       "</div>"
      ],
      "text/plain": [
       "   Team Number              Name  Goal  Assist  Block  Turn  Games Tournament  \\\n",
       "0  FURY      4       ALEX SNYDER     3      32    NaN   NaN     12  2012 WUGC   \n",
       "1  FURY     19  GEORGIA BOSSCHER    13      14    NaN   NaN     12  2012 WUGC   \n",
       "2  FURY      7   KAELA JORGENSON    12      10    NaN   NaN     12  2012 WUGC   \n",
       "3  FURY     13       CREE HOWARD    15       6    NaN   NaN     12  2012 WUGC   \n",
       "4  FURY     26      ALICIA WHITE    16       2    NaN   NaN     12  2012 WUGC   \n",
       "\n",
       "   Standing  Spirit  \n",
       "0         2      12  \n",
       "1         2      12  \n",
       "2         2      12  \n",
       "3         2      12  \n",
       "4         2      12  "
      ]
     },
     "execution_count": 373,
     "metadata": {},
     "output_type": "execute_result"
    }
   ],
   "source": [
    "stats_12WUGC.head()"
   ]
  },
  {
   "cell_type": "markdown",
   "metadata": {},
   "source": [
    "## 2013 WG Stats"
   ]
  },
  {
   "cell_type": "code",
   "execution_count": 374,
   "metadata": {
    "collapsed": false
   },
   "outputs": [],
   "source": [
    "import requests\n",
    "from bs4 import BeautifulSoup\n",
    "\n",
    "r = requests.get('http://results.wfdf.org/?view=teamcard&Team=1469') \n",
    "b = BeautifulSoup(r.text, 'html.parser')\n",
    "\n",
    "# b.find('table', {'style':'width:80%'})"
   ]
  },
  {
   "cell_type": "code",
   "execution_count": 375,
   "metadata": {
    "collapsed": false
   },
   "outputs": [],
   "source": [
    "b.find('table', {'style':'width:80%'}).find_all('td')[15:-5]\n",
    "List = [str(item)[19:-5] for item in b.find('table', {'style':'width:80%'}).find_all('td')]\n",
    "# List[0].split(' ')[0].split('#')[1]\n",
    "# List[0].split(' ')\n",
    "# List[10][List[10].find(' ')+1:List[10].find('<')]\n",
    "# List[count].split(' ')[0].split('#')[1]\n",
    "# List[0][List[0].find('#')+1:List[0].find(' ')]\n",
    "# List[0:5]"
   ]
  },
  {
   "cell_type": "code",
   "execution_count": 376,
   "metadata": {
    "collapsed": true
   },
   "outputs": [],
   "source": [
    "def player_info_WG():\n",
    "    \n",
    "    List = [str(item)[19:-5] for item in b.find('table', {'style':'width:80%'}).find_all('td')]\n",
    "    \n",
    "    playerInfo = []\n",
    "    count = 0\n",
    "    \n",
    "    while count < len(List):\n",
    "        \n",
    "        info = {}\n",
    "\n",
    "        info['Number'] = List[count][List[count].find('#')+1:List[count].find(' ')]\n",
    "        info['Name'] = List[count][List[count].find(' ')+1:List[count].find('<')].upper()\n",
    "        info['Games'] = int(List[count+1])\n",
    "        info['Assist'] = int(List[count+2])\n",
    "        info['Goal'] = int(List[count+3])\n",
    "        info['Team'] = 'TEAM USA'\n",
    "        info['Block'] = np.nan\n",
    "        info['Turn'] = np.nan\n",
    "        \n",
    "        count += 5\n",
    "        playerInfo.append(info)\n",
    "    \n",
    "    return playerInfo"
   ]
  },
  {
   "cell_type": "code",
   "execution_count": 377,
   "metadata": {
    "collapsed": false
   },
   "outputs": [
    {
     "data": {
      "text/html": [
       "<div>\n",
       "<table border=\"1\" class=\"dataframe\">\n",
       "  <thead>\n",
       "    <tr style=\"text-align: right;\">\n",
       "      <th></th>\n",
       "      <th>Team</th>\n",
       "      <th>Number</th>\n",
       "      <th>Name</th>\n",
       "      <th>Goal</th>\n",
       "      <th>Assist</th>\n",
       "      <th>Block</th>\n",
       "      <th>Turn</th>\n",
       "      <th>Games</th>\n",
       "      <th>Tournament</th>\n",
       "      <th>Standing</th>\n",
       "      <th>Spirit</th>\n",
       "    </tr>\n",
       "  </thead>\n",
       "  <tbody>\n",
       "    <tr>\n",
       "      <th>0</th>\n",
       "      <td>TEAM USA</td>\n",
       "      <td>24</td>\n",
       "      <td>ALEX SNYDER</td>\n",
       "      <td>1</td>\n",
       "      <td>10</td>\n",
       "      <td>NaN</td>\n",
       "      <td>NaN</td>\n",
       "      <td>6</td>\n",
       "      <td>2013 World Games</td>\n",
       "      <td>1</td>\n",
       "      <td>NaN</td>\n",
       "    </tr>\n",
       "    <tr>\n",
       "      <th>1</th>\n",
       "      <td>TEAM USA</td>\n",
       "      <td>27</td>\n",
       "      <td>ASHLIN JOYE</td>\n",
       "      <td>3</td>\n",
       "      <td>6</td>\n",
       "      <td>NaN</td>\n",
       "      <td>NaN</td>\n",
       "      <td>6</td>\n",
       "      <td>2013 World Games</td>\n",
       "      <td>1</td>\n",
       "      <td>NaN</td>\n",
       "    </tr>\n",
       "    <tr>\n",
       "      <th>2</th>\n",
       "      <td>TEAM USA</td>\n",
       "      <td>50</td>\n",
       "      <td>BEAU KITTREDGE</td>\n",
       "      <td>15</td>\n",
       "      <td>7</td>\n",
       "      <td>NaN</td>\n",
       "      <td>NaN</td>\n",
       "      <td>6</td>\n",
       "      <td>2013 World Games</td>\n",
       "      <td>1</td>\n",
       "      <td>NaN</td>\n",
       "    </tr>\n",
       "    <tr>\n",
       "      <th>3</th>\n",
       "      <td>TEAM USA</td>\n",
       "      <td>5</td>\n",
       "      <td>CARA CROUCH</td>\n",
       "      <td>2</td>\n",
       "      <td>3</td>\n",
       "      <td>NaN</td>\n",
       "      <td>NaN</td>\n",
       "      <td>6</td>\n",
       "      <td>2013 World Games</td>\n",
       "      <td>1</td>\n",
       "      <td>NaN</td>\n",
       "    </tr>\n",
       "    <tr>\n",
       "      <th>4</th>\n",
       "      <td>TEAM USA</td>\n",
       "      <td>78</td>\n",
       "      <td>DYLAN TUNNELL</td>\n",
       "      <td>3</td>\n",
       "      <td>12</td>\n",
       "      <td>NaN</td>\n",
       "      <td>NaN</td>\n",
       "      <td>6</td>\n",
       "      <td>2013 World Games</td>\n",
       "      <td>1</td>\n",
       "      <td>NaN</td>\n",
       "    </tr>\n",
       "  </tbody>\n",
       "</table>\n",
       "</div>"
      ],
      "text/plain": [
       "       Team Number            Name  Goal  Assist  Block  Turn  Games  \\\n",
       "0  TEAM USA     24     ALEX SNYDER     1      10    NaN   NaN      6   \n",
       "1  TEAM USA     27     ASHLIN JOYE     3       6    NaN   NaN      6   \n",
       "2  TEAM USA     50  BEAU KITTREDGE    15       7    NaN   NaN      6   \n",
       "3  TEAM USA      5     CARA CROUCH     2       3    NaN   NaN      6   \n",
       "4  TEAM USA     78   DYLAN TUNNELL     3      12    NaN   NaN      6   \n",
       "\n",
       "         Tournament  Standing  Spirit  \n",
       "0  2013 World Games         1     NaN  \n",
       "1  2013 World Games         1     NaN  \n",
       "2  2013 World Games         1     NaN  \n",
       "3  2013 World Games         1     NaN  \n",
       "4  2013 World Games         1     NaN  "
      ]
     },
     "execution_count": 377,
     "metadata": {},
     "output_type": "execute_result"
    }
   ],
   "source": [
    "stats_13WG = DataFrame.from_dict(player_info_WG())\n",
    "stats_13WG = stats_13WG[['Team', 'Number', 'Name', 'Goal', 'Assist', 'Block', 'Turn', 'Games']]\n",
    "stats_13WG['Tournament'] = '2013 World Games'\n",
    "stats_13WG['Standing'] = 1\n",
    "stats_13WG[\"Spirit\"] = np.nan\n",
    "stats_13WG.head()"
   ]
  },
  {
   "cell_type": "markdown",
   "metadata": {},
   "source": [
    "## 2014 WUCC"
   ]
  },
  {
   "cell_type": "code",
   "execution_count": 378,
   "metadata": {
    "collapsed": false
   },
   "outputs": [],
   "source": [
    "import requests\n",
    "from bs4 import BeautifulSoup\n",
    "\n",
    "r = requests.get('http://wucc2014.wfdf.org/?view=scorestatus&Series=3') \n",
    "b = BeautifulSoup(r.text, 'html.parser')\n",
    "\n",
    "b.find('table', {'style':'width:100%'}).find_all('td')\n",
    "List = [str(item) for item in b.find('table', {'style':'width:100%'}).find_all('td')]\n",
    "# List"
   ]
  },
  {
   "cell_type": "code",
   "execution_count": 379,
   "metadata": {
    "collapsed": false,
    "scrolled": true
   },
   "outputs": [],
   "source": [
    "def player_info_WUCC():\n",
    "    \n",
    "    List = [str(item) for item in b.find('table', {'style':'width:100%'}).find_all('td')]\n",
    "    \n",
    "    playerInfo = []\n",
    "    count = 0\n",
    "    \n",
    "    while count < len(List):\n",
    "        \n",
    "        info = {}\n",
    "\n",
    "        info['Number'] = np.nan\n",
    "        info['Name'] = List[count+1][List[count+1].find('\">')+2:List[count+1].find('</a>')].upper()\n",
    "        info['Team'] = List[count+2][List[count+2].find('>')+1:List[count+2].find('</')].upper()\n",
    "        info['Games'] = int(List[count+3][List[count+3].find('>')+1:List[count+3].find('</')])\n",
    "        info['Assist'] = int(List[count+4][List[count+4].find('>')+1:List[count+4].find('</')])\n",
    "        info['Goal'] = int(List[count+5][List[count+5].find('>')+1:List[count+5].find('</')])\n",
    "        info['Block'] = np.nan\n",
    "        info['Turn'] = np.nan\n",
    "        \n",
    "        count += 8\n",
    "        playerInfo.append(info)\n",
    "    \n",
    "    return playerInfo"
   ]
  },
  {
   "cell_type": "code",
   "execution_count": 380,
   "metadata": {
    "collapsed": false
   },
   "outputs": [],
   "source": [
    "stats_14WUCC = DataFrame.from_dict(player_info_WUCC())"
   ]
  },
  {
   "cell_type": "code",
   "execution_count": 381,
   "metadata": {
    "collapsed": false
   },
   "outputs": [
    {
     "data": {
      "text/html": [
       "<div>\n",
       "<table border=\"1\" class=\"dataframe\">\n",
       "  <thead>\n",
       "    <tr style=\"text-align: right;\">\n",
       "      <th></th>\n",
       "      <th>Assist</th>\n",
       "      <th>Block</th>\n",
       "      <th>Games</th>\n",
       "      <th>Goal</th>\n",
       "      <th>Name</th>\n",
       "      <th>Number</th>\n",
       "      <th>Team</th>\n",
       "      <th>Turn</th>\n",
       "    </tr>\n",
       "  </thead>\n",
       "  <tbody>\n",
       "    <tr>\n",
       "      <th>0</th>\n",
       "      <td>2</td>\n",
       "      <td>NaN</td>\n",
       "      <td>1</td>\n",
       "      <td>3</td>\n",
       "      <td>GWEN AMBLER</td>\n",
       "      <td>NaN</td>\n",
       "      <td>RIOT</td>\n",
       "      <td>NaN</td>\n",
       "    </tr>\n",
       "    <tr>\n",
       "      <th>1</th>\n",
       "      <td>2</td>\n",
       "      <td>NaN</td>\n",
       "      <td>1</td>\n",
       "      <td>3</td>\n",
       "      <td>DOMINIQUE FONTENETTE</td>\n",
       "      <td>NaN</td>\n",
       "      <td>RIOT</td>\n",
       "      <td>NaN</td>\n",
       "    </tr>\n",
       "    <tr>\n",
       "      <th>2</th>\n",
       "      <td>2</td>\n",
       "      <td>NaN</td>\n",
       "      <td>1</td>\n",
       "      <td>3</td>\n",
       "      <td>SARAH GRIFFITH</td>\n",
       "      <td>NaN</td>\n",
       "      <td>RIOT</td>\n",
       "      <td>NaN</td>\n",
       "    </tr>\n",
       "    <tr>\n",
       "      <th>3</th>\n",
       "      <td>2</td>\n",
       "      <td>NaN</td>\n",
       "      <td>1</td>\n",
       "      <td>3</td>\n",
       "      <td>LISA PITCAITHLEY</td>\n",
       "      <td>NaN</td>\n",
       "      <td>FURY</td>\n",
       "      <td>NaN</td>\n",
       "    </tr>\n",
       "    <tr>\n",
       "      <th>4</th>\n",
       "      <td>0</td>\n",
       "      <td>NaN</td>\n",
       "      <td>1</td>\n",
       "      <td>4</td>\n",
       "      <td>CLAIRE DESMOND</td>\n",
       "      <td>NaN</td>\n",
       "      <td>FURY</td>\n",
       "      <td>NaN</td>\n",
       "    </tr>\n",
       "  </tbody>\n",
       "</table>\n",
       "</div>"
      ],
      "text/plain": [
       "   Assist  Block  Games  Goal                  Name  Number  Team  Turn\n",
       "0       2    NaN      1     3           GWEN AMBLER     NaN  RIOT   NaN\n",
       "1       2    NaN      1     3  DOMINIQUE FONTENETTE     NaN  RIOT   NaN\n",
       "2       2    NaN      1     3        SARAH GRIFFITH     NaN  RIOT   NaN\n",
       "3       2    NaN      1     3      LISA PITCAITHLEY     NaN  FURY   NaN\n",
       "4       0    NaN      1     4        CLAIRE DESMOND     NaN  FURY   NaN"
      ]
     },
     "execution_count": 381,
     "metadata": {},
     "output_type": "execute_result"
    }
   ],
   "source": [
    "stats_14WUCC.head()"
   ]
  },
  {
   "cell_type": "code",
   "execution_count": 382,
   "metadata": {
    "collapsed": true
   },
   "outputs": [],
   "source": [
    "standing_14WUCC_list = []\n",
    "for item in stats_14WUCC.Team:\n",
    "    if item == 'RIOT':\n",
    "        standing_14WUCC_list.append(1)\n",
    "    else:\n",
    "        standing_14WUCC_list.append(2)"
   ]
  },
  {
   "cell_type": "code",
   "execution_count": 383,
   "metadata": {
    "collapsed": false
   },
   "outputs": [],
   "source": [
    "stats_14WUCC = stats_14WUCC[['Team', 'Number', 'Name', 'Goal', 'Assist', 'Block', 'Turn']]\n",
    "stats_14WUCC['Games'] = 1\n",
    "stats_14WUCC['Tournament'] = '2014 WUCC'\n",
    "stats_14WUCC['Standing'] = standing_14WUCC_list\n",
    "stats_14WUCC['Spirit'] = np.nan"
   ]
  },
  {
   "cell_type": "code",
   "execution_count": 384,
   "metadata": {
    "collapsed": false
   },
   "outputs": [
    {
     "data": {
      "text/html": [
       "<div>\n",
       "<table border=\"1\" class=\"dataframe\">\n",
       "  <thead>\n",
       "    <tr style=\"text-align: right;\">\n",
       "      <th></th>\n",
       "      <th>Team</th>\n",
       "      <th>Number</th>\n",
       "      <th>Name</th>\n",
       "      <th>Goal</th>\n",
       "      <th>Assist</th>\n",
       "      <th>Block</th>\n",
       "      <th>Turn</th>\n",
       "      <th>Games</th>\n",
       "      <th>Tournament</th>\n",
       "      <th>Standing</th>\n",
       "      <th>Spirit</th>\n",
       "    </tr>\n",
       "  </thead>\n",
       "  <tbody>\n",
       "    <tr>\n",
       "      <th>0</th>\n",
       "      <td>RIOT</td>\n",
       "      <td>NaN</td>\n",
       "      <td>GWEN AMBLER</td>\n",
       "      <td>3</td>\n",
       "      <td>2</td>\n",
       "      <td>NaN</td>\n",
       "      <td>NaN</td>\n",
       "      <td>1</td>\n",
       "      <td>2014 WUCC</td>\n",
       "      <td>1</td>\n",
       "      <td>NaN</td>\n",
       "    </tr>\n",
       "    <tr>\n",
       "      <th>1</th>\n",
       "      <td>RIOT</td>\n",
       "      <td>NaN</td>\n",
       "      <td>DOMINIQUE FONTENETTE</td>\n",
       "      <td>3</td>\n",
       "      <td>2</td>\n",
       "      <td>NaN</td>\n",
       "      <td>NaN</td>\n",
       "      <td>1</td>\n",
       "      <td>2014 WUCC</td>\n",
       "      <td>1</td>\n",
       "      <td>NaN</td>\n",
       "    </tr>\n",
       "    <tr>\n",
       "      <th>2</th>\n",
       "      <td>RIOT</td>\n",
       "      <td>NaN</td>\n",
       "      <td>SARAH GRIFFITH</td>\n",
       "      <td>3</td>\n",
       "      <td>2</td>\n",
       "      <td>NaN</td>\n",
       "      <td>NaN</td>\n",
       "      <td>1</td>\n",
       "      <td>2014 WUCC</td>\n",
       "      <td>1</td>\n",
       "      <td>NaN</td>\n",
       "    </tr>\n",
       "    <tr>\n",
       "      <th>3</th>\n",
       "      <td>FURY</td>\n",
       "      <td>NaN</td>\n",
       "      <td>LISA PITCAITHLEY</td>\n",
       "      <td>3</td>\n",
       "      <td>2</td>\n",
       "      <td>NaN</td>\n",
       "      <td>NaN</td>\n",
       "      <td>1</td>\n",
       "      <td>2014 WUCC</td>\n",
       "      <td>2</td>\n",
       "      <td>NaN</td>\n",
       "    </tr>\n",
       "    <tr>\n",
       "      <th>4</th>\n",
       "      <td>FURY</td>\n",
       "      <td>NaN</td>\n",
       "      <td>CLAIRE DESMOND</td>\n",
       "      <td>4</td>\n",
       "      <td>0</td>\n",
       "      <td>NaN</td>\n",
       "      <td>NaN</td>\n",
       "      <td>1</td>\n",
       "      <td>2014 WUCC</td>\n",
       "      <td>2</td>\n",
       "      <td>NaN</td>\n",
       "    </tr>\n",
       "  </tbody>\n",
       "</table>\n",
       "</div>"
      ],
      "text/plain": [
       "   Team  Number                  Name  Goal  Assist  Block  Turn  Games  \\\n",
       "0  RIOT     NaN           GWEN AMBLER     3       2    NaN   NaN      1   \n",
       "1  RIOT     NaN  DOMINIQUE FONTENETTE     3       2    NaN   NaN      1   \n",
       "2  RIOT     NaN        SARAH GRIFFITH     3       2    NaN   NaN      1   \n",
       "3  FURY     NaN      LISA PITCAITHLEY     3       2    NaN   NaN      1   \n",
       "4  FURY     NaN        CLAIRE DESMOND     4       0    NaN   NaN      1   \n",
       "\n",
       "  Tournament  Standing  Spirit  \n",
       "0  2014 WUCC         1     NaN  \n",
       "1  2014 WUCC         1     NaN  \n",
       "2  2014 WUCC         1     NaN  \n",
       "3  2014 WUCC         2     NaN  \n",
       "4  2014 WUCC         2     NaN  "
      ]
     },
     "execution_count": 384,
     "metadata": {},
     "output_type": "execute_result"
    }
   ],
   "source": [
    "stats_14WUCC.head()"
   ]
  },
  {
   "cell_type": "markdown",
   "metadata": {
    "collapsed": true
   },
   "source": [
    "## One Stat Dataframe"
   ]
  },
  {
   "cell_type": "code",
   "execution_count": 385,
   "metadata": {
    "collapsed": false
   },
   "outputs": [],
   "source": [
    "mega_stats = pd.concat([stats_12WUGC, stats_13, stats_13WG, stats_14, stats_14WUCC, stats_15], ignore_index=True)"
   ]
  },
  {
   "cell_type": "code",
   "execution_count": 386,
   "metadata": {
    "collapsed": false
   },
   "outputs": [
    {
     "data": {
      "text/html": [
       "<div>\n",
       "<table border=\"1\" class=\"dataframe\">\n",
       "  <thead>\n",
       "    <tr style=\"text-align: right;\">\n",
       "      <th></th>\n",
       "      <th>Team</th>\n",
       "      <th>Number</th>\n",
       "      <th>Name</th>\n",
       "      <th>Goal</th>\n",
       "      <th>Assist</th>\n",
       "      <th>Block</th>\n",
       "      <th>Turn</th>\n",
       "      <th>Games</th>\n",
       "      <th>Tournament</th>\n",
       "      <th>Standing</th>\n",
       "      <th>Spirit</th>\n",
       "    </tr>\n",
       "  </thead>\n",
       "  <tbody>\n",
       "    <tr>\n",
       "      <th>786</th>\n",
       "      <td>SCANDAL</td>\n",
       "      <td>37</td>\n",
       "      <td>SANDRA JORGENSEN</td>\n",
       "      <td>21</td>\n",
       "      <td>4</td>\n",
       "      <td>NaN</td>\n",
       "      <td>NaN</td>\n",
       "      <td>7</td>\n",
       "      <td>2014 USAU Club Championships</td>\n",
       "      <td>1</td>\n",
       "      <td>12.71</td>\n",
       "    </tr>\n",
       "    <tr>\n",
       "      <th>1223</th>\n",
       "      <td>SCANDAL</td>\n",
       "      <td>37</td>\n",
       "      <td>SANDRA JORGENSEN</td>\n",
       "      <td>8</td>\n",
       "      <td>8</td>\n",
       "      <td>NaN</td>\n",
       "      <td>NaN</td>\n",
       "      <td>7</td>\n",
       "      <td>2015 USAU Club Championships</td>\n",
       "      <td>6</td>\n",
       "      <td>11.64</td>\n",
       "    </tr>\n",
       "  </tbody>\n",
       "</table>\n",
       "</div>"
      ],
      "text/plain": [
       "         Team Number              Name  Goal  Assist  Block  Turn  Games  \\\n",
       "786   SCANDAL     37  SANDRA JORGENSEN    21       4    NaN   NaN      7   \n",
       "1223  SCANDAL     37  SANDRA JORGENSEN     8       8    NaN   NaN      7   \n",
       "\n",
       "                        Tournament  Standing  Spirit  \n",
       "786   2014 USAU Club Championships         1   12.71  \n",
       "1223  2015 USAU Club Championships         6   11.64  "
      ]
     },
     "execution_count": 386,
     "metadata": {},
     "output_type": "execute_result"
    }
   ],
   "source": [
    "mega_stats[mega_stats.Name == 'SANDRA JORGENSEN']"
   ]
  },
  {
   "cell_type": "code",
   "execution_count": 387,
   "metadata": {
    "collapsed": false
   },
   "outputs": [],
   "source": [
    "mega_stats['GPG'] = mega_stats.Goal/mega_stats.Games\n",
    "mega_stats['APG'] = mega_stats.Assist/mega_stats.Games\n",
    "mega_stats['BPG'] = mega_stats.Block/mega_stats.Games\n",
    "mega_stats['TPG'] = mega_stats.Turn/mega_stats.Games"
   ]
  },
  {
   "cell_type": "code",
   "execution_count": 388,
   "metadata": {
    "collapsed": false
   },
   "outputs": [],
   "source": [
    "mega_stats = mega_stats[['Team', 'Number', 'Name', 'Goal', 'GPG','Assist','APG','Block', 'BPG', 'Turn', 'TPG', 'Games', 'Tournament', 'Standing', 'Spirit']]"
   ]
  },
  {
   "cell_type": "code",
   "execution_count": 389,
   "metadata": {
    "collapsed": false
   },
   "outputs": [
    {
     "data": {
      "text/plain": [
       "FURY              130\n",
       "RIOT              105\n",
       "BRUTE SQUAD        80\n",
       "HEIST              79\n",
       "TRAFFIC            78\n",
       "SCHWA              78\n",
       "NIGHTLOCK          78\n",
       "SHOWDOWN           76\n",
       "MOLLY BROWN        75\n",
       "OZONE              71\n",
       "SCANDAL            71\n",
       "NEMESIS            71\n",
       "CAPITALS           66\n",
       "BENT               51\n",
       "PHOENIX            46\n",
       "GREEN MEANS GO     27\n",
       "UNDERGROUND        24\n",
       "IRIS               23\n",
       "NOVA               20\n",
       "TABBY ROSA         19\n",
       "TEAM USA           13\n",
       "Name: Team, dtype: int64"
      ]
     },
     "execution_count": 389,
     "metadata": {},
     "output_type": "execute_result"
    }
   ],
   "source": [
    "mega_stats.Team.value_counts()\n",
    "\n",
    "# mega_stats.Team.values"
   ]
  },
  {
   "cell_type": "code",
   "execution_count": 390,
   "metadata": {
    "collapsed": false
   },
   "outputs": [],
   "source": [
    "mega_stats['Team_Num'] = mega_stats.Team.map({'FURY':0, 'RIOT':1, 'BRUTE SQUAD':2, 'HEIST':3, 'TRAFFIC':4, 'SCHWA':5, 'NIGHTLOCK':6,'SHOWDOWN':7, 'MOLLY BROWN':8, 'OZONE':9, 'SCANDAL':10, 'NEMESIS':11, 'CAPITALS':12, 'BENT':13, 'PHOENIX':14, 'GREEN MEANS GO':15, 'UNDERGROUND':16, 'IRIS':17, 'NOVA':18, 'TABBY ROSA':19, 'TEAM USA':20})"
   ]
  },
  {
   "cell_type": "code",
   "execution_count": 391,
   "metadata": {
    "collapsed": false
   },
   "outputs": [
    {
     "data": {
      "text/html": [
       "<div>\n",
       "<table border=\"1\" class=\"dataframe\">\n",
       "  <thead>\n",
       "    <tr style=\"text-align: right;\">\n",
       "      <th></th>\n",
       "      <th>Goal</th>\n",
       "      <th>GPG</th>\n",
       "      <th>Assist</th>\n",
       "      <th>APG</th>\n",
       "      <th>Block</th>\n",
       "      <th>BPG</th>\n",
       "      <th>Turn</th>\n",
       "      <th>TPG</th>\n",
       "      <th>Games</th>\n",
       "      <th>Standing</th>\n",
       "      <th>Spirit</th>\n",
       "      <th>Team_Num</th>\n",
       "    </tr>\n",
       "  </thead>\n",
       "  <tbody>\n",
       "    <tr>\n",
       "      <th>count</th>\n",
       "      <td>13.000000</td>\n",
       "      <td>13.000000</td>\n",
       "      <td>13.000000</td>\n",
       "      <td>13.000000</td>\n",
       "      <td>0</td>\n",
       "      <td>0</td>\n",
       "      <td>0</td>\n",
       "      <td>0</td>\n",
       "      <td>13</td>\n",
       "      <td>13</td>\n",
       "      <td>0</td>\n",
       "      <td>13</td>\n",
       "    </tr>\n",
       "    <tr>\n",
       "      <th>mean</th>\n",
       "      <td>5.923077</td>\n",
       "      <td>0.987179</td>\n",
       "      <td>5.923077</td>\n",
       "      <td>0.987179</td>\n",
       "      <td>NaN</td>\n",
       "      <td>NaN</td>\n",
       "      <td>NaN</td>\n",
       "      <td>NaN</td>\n",
       "      <td>6</td>\n",
       "      <td>1</td>\n",
       "      <td>NaN</td>\n",
       "      <td>20</td>\n",
       "    </tr>\n",
       "    <tr>\n",
       "      <th>std</th>\n",
       "      <td>3.967819</td>\n",
       "      <td>0.661303</td>\n",
       "      <td>4.923778</td>\n",
       "      <td>0.820630</td>\n",
       "      <td>NaN</td>\n",
       "      <td>NaN</td>\n",
       "      <td>NaN</td>\n",
       "      <td>NaN</td>\n",
       "      <td>0</td>\n",
       "      <td>0</td>\n",
       "      <td>NaN</td>\n",
       "      <td>0</td>\n",
       "    </tr>\n",
       "    <tr>\n",
       "      <th>min</th>\n",
       "      <td>1.000000</td>\n",
       "      <td>0.166667</td>\n",
       "      <td>0.000000</td>\n",
       "      <td>0.000000</td>\n",
       "      <td>NaN</td>\n",
       "      <td>NaN</td>\n",
       "      <td>NaN</td>\n",
       "      <td>NaN</td>\n",
       "      <td>6</td>\n",
       "      <td>1</td>\n",
       "      <td>NaN</td>\n",
       "      <td>20</td>\n",
       "    </tr>\n",
       "    <tr>\n",
       "      <th>25%</th>\n",
       "      <td>3.000000</td>\n",
       "      <td>0.500000</td>\n",
       "      <td>3.000000</td>\n",
       "      <td>0.500000</td>\n",
       "      <td>NaN</td>\n",
       "      <td>NaN</td>\n",
       "      <td>NaN</td>\n",
       "      <td>NaN</td>\n",
       "      <td>6</td>\n",
       "      <td>1</td>\n",
       "      <td>NaN</td>\n",
       "      <td>20</td>\n",
       "    </tr>\n",
       "    <tr>\n",
       "      <th>50%</th>\n",
       "      <td>6.000000</td>\n",
       "      <td>1.000000</td>\n",
       "      <td>6.000000</td>\n",
       "      <td>1.000000</td>\n",
       "      <td>NaN</td>\n",
       "      <td>NaN</td>\n",
       "      <td>NaN</td>\n",
       "      <td>NaN</td>\n",
       "      <td>6</td>\n",
       "      <td>1</td>\n",
       "      <td>NaN</td>\n",
       "      <td>20</td>\n",
       "    </tr>\n",
       "    <tr>\n",
       "      <th>75%</th>\n",
       "      <td>7.000000</td>\n",
       "      <td>1.166667</td>\n",
       "      <td>7.000000</td>\n",
       "      <td>1.166667</td>\n",
       "      <td>NaN</td>\n",
       "      <td>NaN</td>\n",
       "      <td>NaN</td>\n",
       "      <td>NaN</td>\n",
       "      <td>6</td>\n",
       "      <td>1</td>\n",
       "      <td>NaN</td>\n",
       "      <td>20</td>\n",
       "    </tr>\n",
       "    <tr>\n",
       "      <th>max</th>\n",
       "      <td>15.000000</td>\n",
       "      <td>2.500000</td>\n",
       "      <td>17.000000</td>\n",
       "      <td>2.833333</td>\n",
       "      <td>NaN</td>\n",
       "      <td>NaN</td>\n",
       "      <td>NaN</td>\n",
       "      <td>NaN</td>\n",
       "      <td>6</td>\n",
       "      <td>1</td>\n",
       "      <td>NaN</td>\n",
       "      <td>20</td>\n",
       "    </tr>\n",
       "  </tbody>\n",
       "</table>\n",
       "</div>"
      ],
      "text/plain": [
       "            Goal        GPG     Assist        APG  Block  BPG  Turn  TPG  \\\n",
       "count  13.000000  13.000000  13.000000  13.000000      0    0     0    0   \n",
       "mean    5.923077   0.987179   5.923077   0.987179    NaN  NaN   NaN  NaN   \n",
       "std     3.967819   0.661303   4.923778   0.820630    NaN  NaN   NaN  NaN   \n",
       "min     1.000000   0.166667   0.000000   0.000000    NaN  NaN   NaN  NaN   \n",
       "25%     3.000000   0.500000   3.000000   0.500000    NaN  NaN   NaN  NaN   \n",
       "50%     6.000000   1.000000   6.000000   1.000000    NaN  NaN   NaN  NaN   \n",
       "75%     7.000000   1.166667   7.000000   1.166667    NaN  NaN   NaN  NaN   \n",
       "max    15.000000   2.500000  17.000000   2.833333    NaN  NaN   NaN  NaN   \n",
       "\n",
       "       Games  Standing  Spirit  Team_Num  \n",
       "count     13        13       0        13  \n",
       "mean       6         1     NaN        20  \n",
       "std        0         0     NaN         0  \n",
       "min        6         1     NaN        20  \n",
       "25%        6         1     NaN        20  \n",
       "50%        6         1     NaN        20  \n",
       "75%        6         1     NaN        20  \n",
       "max        6         1     NaN        20  "
      ]
     },
     "execution_count": 391,
     "metadata": {},
     "output_type": "execute_result"
    }
   ],
   "source": [
    "mega_stats[mega_stats.Team == 'TEAM USA'].describe()"
   ]
  },
  {
   "cell_type": "code",
   "execution_count": 392,
   "metadata": {
    "collapsed": false
   },
   "outputs": [],
   "source": [
    "# save df as csv\n",
    "mega_stats.to_csv('one_stat.csv', sep=',', encoding='utf-8')"
   ]
  },
  {
   "cell_type": "markdown",
   "metadata": {},
   "source": [
    "## Rid of male players"
   ]
  },
  {
   "cell_type": "code",
   "execution_count": 206,
   "metadata": {
    "collapsed": false
   },
   "outputs": [],
   "source": [
    "import pandas as pd\n",
    "stats = pd.read_csv('../data/one_stat.csv', sep=',')"
   ]
  },
  {
   "cell_type": "code",
   "execution_count": 207,
   "metadata": {
    "collapsed": false
   },
   "outputs": [
    {
     "data": {
      "text/html": [
       "<div>\n",
       "<table border=\"1\" class=\"dataframe\">\n",
       "  <thead>\n",
       "    <tr style=\"text-align: right;\">\n",
       "      <th></th>\n",
       "      <th>Unnamed: 0</th>\n",
       "      <th>Team</th>\n",
       "      <th>Number</th>\n",
       "      <th>Name</th>\n",
       "      <th>Goal</th>\n",
       "      <th>GPG</th>\n",
       "      <th>Assist</th>\n",
       "      <th>APG</th>\n",
       "      <th>Block</th>\n",
       "      <th>BPG</th>\n",
       "      <th>Turn</th>\n",
       "      <th>TPG</th>\n",
       "      <th>Games</th>\n",
       "      <th>Tournament</th>\n",
       "      <th>Standing</th>\n",
       "      <th>Spirit</th>\n",
       "      <th>Team_Num</th>\n",
       "    </tr>\n",
       "  </thead>\n",
       "  <tbody>\n",
       "    <tr>\n",
       "      <th>435</th>\n",
       "      <td>435</td>\n",
       "      <td>TEAM USA</td>\n",
       "      <td>24</td>\n",
       "      <td>ALEX SNYDER</td>\n",
       "      <td>1</td>\n",
       "      <td>0.166667</td>\n",
       "      <td>10</td>\n",
       "      <td>1.666667</td>\n",
       "      <td>NaN</td>\n",
       "      <td>NaN</td>\n",
       "      <td>NaN</td>\n",
       "      <td>NaN</td>\n",
       "      <td>6</td>\n",
       "      <td>2013 World Games</td>\n",
       "      <td>1</td>\n",
       "      <td>NaN</td>\n",
       "      <td>20</td>\n",
       "    </tr>\n",
       "    <tr>\n",
       "      <th>436</th>\n",
       "      <td>436</td>\n",
       "      <td>TEAM USA</td>\n",
       "      <td>27</td>\n",
       "      <td>ASHLIN JOYE</td>\n",
       "      <td>3</td>\n",
       "      <td>0.500000</td>\n",
       "      <td>6</td>\n",
       "      <td>1.000000</td>\n",
       "      <td>NaN</td>\n",
       "      <td>NaN</td>\n",
       "      <td>NaN</td>\n",
       "      <td>NaN</td>\n",
       "      <td>6</td>\n",
       "      <td>2013 World Games</td>\n",
       "      <td>1</td>\n",
       "      <td>NaN</td>\n",
       "      <td>20</td>\n",
       "    </tr>\n",
       "    <tr>\n",
       "      <th>437</th>\n",
       "      <td>437</td>\n",
       "      <td>TEAM USA</td>\n",
       "      <td>50</td>\n",
       "      <td>BEAU KITTREDGE</td>\n",
       "      <td>15</td>\n",
       "      <td>2.500000</td>\n",
       "      <td>7</td>\n",
       "      <td>1.166667</td>\n",
       "      <td>NaN</td>\n",
       "      <td>NaN</td>\n",
       "      <td>NaN</td>\n",
       "      <td>NaN</td>\n",
       "      <td>6</td>\n",
       "      <td>2013 World Games</td>\n",
       "      <td>1</td>\n",
       "      <td>NaN</td>\n",
       "      <td>20</td>\n",
       "    </tr>\n",
       "    <tr>\n",
       "      <th>438</th>\n",
       "      <td>438</td>\n",
       "      <td>TEAM USA</td>\n",
       "      <td>5</td>\n",
       "      <td>CARA CROUCH</td>\n",
       "      <td>2</td>\n",
       "      <td>0.333333</td>\n",
       "      <td>3</td>\n",
       "      <td>0.500000</td>\n",
       "      <td>NaN</td>\n",
       "      <td>NaN</td>\n",
       "      <td>NaN</td>\n",
       "      <td>NaN</td>\n",
       "      <td>6</td>\n",
       "      <td>2013 World Games</td>\n",
       "      <td>1</td>\n",
       "      <td>NaN</td>\n",
       "      <td>20</td>\n",
       "    </tr>\n",
       "    <tr>\n",
       "      <th>439</th>\n",
       "      <td>439</td>\n",
       "      <td>TEAM USA</td>\n",
       "      <td>78</td>\n",
       "      <td>DYLAN TUNNELL</td>\n",
       "      <td>3</td>\n",
       "      <td>0.500000</td>\n",
       "      <td>12</td>\n",
       "      <td>2.000000</td>\n",
       "      <td>NaN</td>\n",
       "      <td>NaN</td>\n",
       "      <td>NaN</td>\n",
       "      <td>NaN</td>\n",
       "      <td>6</td>\n",
       "      <td>2013 World Games</td>\n",
       "      <td>1</td>\n",
       "      <td>NaN</td>\n",
       "      <td>20</td>\n",
       "    </tr>\n",
       "    <tr>\n",
       "      <th>440</th>\n",
       "      <td>440</td>\n",
       "      <td>TEAM USA</td>\n",
       "      <td>3</td>\n",
       "      <td>GEORGE STUBBS</td>\n",
       "      <td>9</td>\n",
       "      <td>1.500000</td>\n",
       "      <td>7</td>\n",
       "      <td>1.166667</td>\n",
       "      <td>NaN</td>\n",
       "      <td>NaN</td>\n",
       "      <td>NaN</td>\n",
       "      <td>NaN</td>\n",
       "      <td>6</td>\n",
       "      <td>2013 World Games</td>\n",
       "      <td>1</td>\n",
       "      <td>NaN</td>\n",
       "      <td>20</td>\n",
       "    </tr>\n",
       "    <tr>\n",
       "      <th>441</th>\n",
       "      <td>441</td>\n",
       "      <td>TEAM USA</td>\n",
       "      <td>19</td>\n",
       "      <td>GEORGIA BOSSCHER</td>\n",
       "      <td>3</td>\n",
       "      <td>0.500000</td>\n",
       "      <td>3</td>\n",
       "      <td>0.500000</td>\n",
       "      <td>NaN</td>\n",
       "      <td>NaN</td>\n",
       "      <td>NaN</td>\n",
       "      <td>NaN</td>\n",
       "      <td>6</td>\n",
       "      <td>2013 World Games</td>\n",
       "      <td>1</td>\n",
       "      <td>NaN</td>\n",
       "      <td>20</td>\n",
       "    </tr>\n",
       "    <tr>\n",
       "      <th>442</th>\n",
       "      <td>442</td>\n",
       "      <td>TEAM USA</td>\n",
       "      <td>40</td>\n",
       "      <td>MAC TAYLOR</td>\n",
       "      <td>7</td>\n",
       "      <td>1.166667</td>\n",
       "      <td>17</td>\n",
       "      <td>2.833333</td>\n",
       "      <td>NaN</td>\n",
       "      <td>NaN</td>\n",
       "      <td>NaN</td>\n",
       "      <td>NaN</td>\n",
       "      <td>6</td>\n",
       "      <td>2013 World Games</td>\n",
       "      <td>1</td>\n",
       "      <td>NaN</td>\n",
       "      <td>20</td>\n",
       "    </tr>\n",
       "    <tr>\n",
       "      <th>443</th>\n",
       "      <td>443</td>\n",
       "      <td>TEAM USA</td>\n",
       "      <td>18</td>\n",
       "      <td>MICHAEL NATENBERG</td>\n",
       "      <td>7</td>\n",
       "      <td>1.166667</td>\n",
       "      <td>5</td>\n",
       "      <td>0.833333</td>\n",
       "      <td>NaN</td>\n",
       "      <td>NaN</td>\n",
       "      <td>NaN</td>\n",
       "      <td>NaN</td>\n",
       "      <td>6</td>\n",
       "      <td>2013 World Games</td>\n",
       "      <td>1</td>\n",
       "      <td>NaN</td>\n",
       "      <td>20</td>\n",
       "    </tr>\n",
       "    <tr>\n",
       "      <th>444</th>\n",
       "      <td>444</td>\n",
       "      <td>TEAM USA</td>\n",
       "      <td>9</td>\n",
       "      <td>OCTAVIA PAYNE</td>\n",
       "      <td>4</td>\n",
       "      <td>0.666667</td>\n",
       "      <td>1</td>\n",
       "      <td>0.166667</td>\n",
       "      <td>NaN</td>\n",
       "      <td>NaN</td>\n",
       "      <td>NaN</td>\n",
       "      <td>NaN</td>\n",
       "      <td>6</td>\n",
       "      <td>2013 World Games</td>\n",
       "      <td>1</td>\n",
       "      <td>NaN</td>\n",
       "      <td>20</td>\n",
       "    </tr>\n",
       "    <tr>\n",
       "      <th>445</th>\n",
       "      <td>445</td>\n",
       "      <td>TEAM USA</td>\n",
       "      <td>16</td>\n",
       "      <td>RYAN FARRELL</td>\n",
       "      <td>6</td>\n",
       "      <td>1.000000</td>\n",
       "      <td>6</td>\n",
       "      <td>1.000000</td>\n",
       "      <td>NaN</td>\n",
       "      <td>NaN</td>\n",
       "      <td>NaN</td>\n",
       "      <td>NaN</td>\n",
       "      <td>6</td>\n",
       "      <td>2013 World Games</td>\n",
       "      <td>1</td>\n",
       "      <td>NaN</td>\n",
       "      <td>20</td>\n",
       "    </tr>\n",
       "    <tr>\n",
       "      <th>446</th>\n",
       "      <td>446</td>\n",
       "      <td>TEAM USA</td>\n",
       "      <td>6</td>\n",
       "      <td>SARAH GRIFFITH</td>\n",
       "      <td>11</td>\n",
       "      <td>1.833333</td>\n",
       "      <td>0</td>\n",
       "      <td>0.000000</td>\n",
       "      <td>NaN</td>\n",
       "      <td>NaN</td>\n",
       "      <td>NaN</td>\n",
       "      <td>NaN</td>\n",
       "      <td>6</td>\n",
       "      <td>2013 World Games</td>\n",
       "      <td>1</td>\n",
       "      <td>NaN</td>\n",
       "      <td>20</td>\n",
       "    </tr>\n",
       "    <tr>\n",
       "      <th>447</th>\n",
       "      <td>447</td>\n",
       "      <td>TEAM USA</td>\n",
       "      <td>13</td>\n",
       "      <td>VIRGINIA HOWARD</td>\n",
       "      <td>6</td>\n",
       "      <td>1.000000</td>\n",
       "      <td>0</td>\n",
       "      <td>0.000000</td>\n",
       "      <td>NaN</td>\n",
       "      <td>NaN</td>\n",
       "      <td>NaN</td>\n",
       "      <td>NaN</td>\n",
       "      <td>6</td>\n",
       "      <td>2013 World Games</td>\n",
       "      <td>1</td>\n",
       "      <td>NaN</td>\n",
       "      <td>20</td>\n",
       "    </tr>\n",
       "  </tbody>\n",
       "</table>\n",
       "</div>"
      ],
      "text/plain": [
       "     Unnamed: 0      Team Number               Name  Goal       GPG  Assist  \\\n",
       "435         435  TEAM USA     24        ALEX SNYDER     1  0.166667      10   \n",
       "436         436  TEAM USA     27        ASHLIN JOYE     3  0.500000       6   \n",
       "437         437  TEAM USA     50     BEAU KITTREDGE    15  2.500000       7   \n",
       "438         438  TEAM USA      5        CARA CROUCH     2  0.333333       3   \n",
       "439         439  TEAM USA     78      DYLAN TUNNELL     3  0.500000      12   \n",
       "440         440  TEAM USA      3      GEORGE STUBBS     9  1.500000       7   \n",
       "441         441  TEAM USA     19   GEORGIA BOSSCHER     3  0.500000       3   \n",
       "442         442  TEAM USA     40         MAC TAYLOR     7  1.166667      17   \n",
       "443         443  TEAM USA     18  MICHAEL NATENBERG     7  1.166667       5   \n",
       "444         444  TEAM USA      9      OCTAVIA PAYNE     4  0.666667       1   \n",
       "445         445  TEAM USA     16       RYAN FARRELL     6  1.000000       6   \n",
       "446         446  TEAM USA      6     SARAH GRIFFITH    11  1.833333       0   \n",
       "447         447  TEAM USA     13    VIRGINIA HOWARD     6  1.000000       0   \n",
       "\n",
       "          APG  Block  BPG  Turn  TPG  Games        Tournament  Standing  \\\n",
       "435  1.666667    NaN  NaN   NaN  NaN      6  2013 World Games         1   \n",
       "436  1.000000    NaN  NaN   NaN  NaN      6  2013 World Games         1   \n",
       "437  1.166667    NaN  NaN   NaN  NaN      6  2013 World Games         1   \n",
       "438  0.500000    NaN  NaN   NaN  NaN      6  2013 World Games         1   \n",
       "439  2.000000    NaN  NaN   NaN  NaN      6  2013 World Games         1   \n",
       "440  1.166667    NaN  NaN   NaN  NaN      6  2013 World Games         1   \n",
       "441  0.500000    NaN  NaN   NaN  NaN      6  2013 World Games         1   \n",
       "442  2.833333    NaN  NaN   NaN  NaN      6  2013 World Games         1   \n",
       "443  0.833333    NaN  NaN   NaN  NaN      6  2013 World Games         1   \n",
       "444  0.166667    NaN  NaN   NaN  NaN      6  2013 World Games         1   \n",
       "445  1.000000    NaN  NaN   NaN  NaN      6  2013 World Games         1   \n",
       "446  0.000000    NaN  NaN   NaN  NaN      6  2013 World Games         1   \n",
       "447  0.000000    NaN  NaN   NaN  NaN      6  2013 World Games         1   \n",
       "\n",
       "     Spirit  Team_Num  \n",
       "435     NaN        20  \n",
       "436     NaN        20  \n",
       "437     NaN        20  \n",
       "438     NaN        20  \n",
       "439     NaN        20  \n",
       "440     NaN        20  \n",
       "441     NaN        20  \n",
       "442     NaN        20  \n",
       "443     NaN        20  \n",
       "444     NaN        20  \n",
       "445     NaN        20  \n",
       "446     NaN        20  \n",
       "447     NaN        20  "
      ]
     },
     "execution_count": 207,
     "metadata": {},
     "output_type": "execute_result"
    }
   ],
   "source": [
    "stats[stats.Team == 'TEAM USA']"
   ]
  },
  {
   "cell_type": "code",
   "execution_count": 208,
   "metadata": {
    "collapsed": false
   },
   "outputs": [],
   "source": [
    "female_stats = stats.drop(stats.index[[436,437,439,440,442,443,445]])"
   ]
  },
  {
   "cell_type": "code",
   "execution_count": 209,
   "metadata": {
    "collapsed": false,
    "scrolled": true
   },
   "outputs": [
    {
     "data": {
      "text/html": [
       "<div>\n",
       "<table border=\"1\" class=\"dataframe\">\n",
       "  <thead>\n",
       "    <tr style=\"text-align: right;\">\n",
       "      <th></th>\n",
       "      <th>Unnamed: 0</th>\n",
       "      <th>Team</th>\n",
       "      <th>Number</th>\n",
       "      <th>Name</th>\n",
       "      <th>Goal</th>\n",
       "      <th>GPG</th>\n",
       "      <th>Assist</th>\n",
       "      <th>APG</th>\n",
       "      <th>Block</th>\n",
       "      <th>BPG</th>\n",
       "      <th>Turn</th>\n",
       "      <th>TPG</th>\n",
       "      <th>Games</th>\n",
       "      <th>Tournament</th>\n",
       "      <th>Standing</th>\n",
       "      <th>Spirit</th>\n",
       "      <th>Team_Num</th>\n",
       "    </tr>\n",
       "  </thead>\n",
       "  <tbody>\n",
       "    <tr>\n",
       "      <th>435</th>\n",
       "      <td>435</td>\n",
       "      <td>TEAM USA</td>\n",
       "      <td>24</td>\n",
       "      <td>ALEX SNYDER</td>\n",
       "      <td>1</td>\n",
       "      <td>0.166667</td>\n",
       "      <td>10</td>\n",
       "      <td>1.666667</td>\n",
       "      <td>NaN</td>\n",
       "      <td>NaN</td>\n",
       "      <td>NaN</td>\n",
       "      <td>NaN</td>\n",
       "      <td>6</td>\n",
       "      <td>2013 World Games</td>\n",
       "      <td>1</td>\n",
       "      <td>NaN</td>\n",
       "      <td>20</td>\n",
       "    </tr>\n",
       "    <tr>\n",
       "      <th>438</th>\n",
       "      <td>438</td>\n",
       "      <td>TEAM USA</td>\n",
       "      <td>5</td>\n",
       "      <td>CARA CROUCH</td>\n",
       "      <td>2</td>\n",
       "      <td>0.333333</td>\n",
       "      <td>3</td>\n",
       "      <td>0.500000</td>\n",
       "      <td>NaN</td>\n",
       "      <td>NaN</td>\n",
       "      <td>NaN</td>\n",
       "      <td>NaN</td>\n",
       "      <td>6</td>\n",
       "      <td>2013 World Games</td>\n",
       "      <td>1</td>\n",
       "      <td>NaN</td>\n",
       "      <td>20</td>\n",
       "    </tr>\n",
       "    <tr>\n",
       "      <th>441</th>\n",
       "      <td>441</td>\n",
       "      <td>TEAM USA</td>\n",
       "      <td>19</td>\n",
       "      <td>GEORGIA BOSSCHER</td>\n",
       "      <td>3</td>\n",
       "      <td>0.500000</td>\n",
       "      <td>3</td>\n",
       "      <td>0.500000</td>\n",
       "      <td>NaN</td>\n",
       "      <td>NaN</td>\n",
       "      <td>NaN</td>\n",
       "      <td>NaN</td>\n",
       "      <td>6</td>\n",
       "      <td>2013 World Games</td>\n",
       "      <td>1</td>\n",
       "      <td>NaN</td>\n",
       "      <td>20</td>\n",
       "    </tr>\n",
       "    <tr>\n",
       "      <th>444</th>\n",
       "      <td>444</td>\n",
       "      <td>TEAM USA</td>\n",
       "      <td>9</td>\n",
       "      <td>OCTAVIA PAYNE</td>\n",
       "      <td>4</td>\n",
       "      <td>0.666667</td>\n",
       "      <td>1</td>\n",
       "      <td>0.166667</td>\n",
       "      <td>NaN</td>\n",
       "      <td>NaN</td>\n",
       "      <td>NaN</td>\n",
       "      <td>NaN</td>\n",
       "      <td>6</td>\n",
       "      <td>2013 World Games</td>\n",
       "      <td>1</td>\n",
       "      <td>NaN</td>\n",
       "      <td>20</td>\n",
       "    </tr>\n",
       "    <tr>\n",
       "      <th>446</th>\n",
       "      <td>446</td>\n",
       "      <td>TEAM USA</td>\n",
       "      <td>6</td>\n",
       "      <td>SARAH GRIFFITH</td>\n",
       "      <td>11</td>\n",
       "      <td>1.833333</td>\n",
       "      <td>0</td>\n",
       "      <td>0.000000</td>\n",
       "      <td>NaN</td>\n",
       "      <td>NaN</td>\n",
       "      <td>NaN</td>\n",
       "      <td>NaN</td>\n",
       "      <td>6</td>\n",
       "      <td>2013 World Games</td>\n",
       "      <td>1</td>\n",
       "      <td>NaN</td>\n",
       "      <td>20</td>\n",
       "    </tr>\n",
       "    <tr>\n",
       "      <th>447</th>\n",
       "      <td>447</td>\n",
       "      <td>TEAM USA</td>\n",
       "      <td>13</td>\n",
       "      <td>VIRGINIA HOWARD</td>\n",
       "      <td>6</td>\n",
       "      <td>1.000000</td>\n",
       "      <td>0</td>\n",
       "      <td>0.000000</td>\n",
       "      <td>NaN</td>\n",
       "      <td>NaN</td>\n",
       "      <td>NaN</td>\n",
       "      <td>NaN</td>\n",
       "      <td>6</td>\n",
       "      <td>2013 World Games</td>\n",
       "      <td>1</td>\n",
       "      <td>NaN</td>\n",
       "      <td>20</td>\n",
       "    </tr>\n",
       "  </tbody>\n",
       "</table>\n",
       "</div>"
      ],
      "text/plain": [
       "     Unnamed: 0      Team Number              Name  Goal       GPG  Assist  \\\n",
       "435         435  TEAM USA     24       ALEX SNYDER     1  0.166667      10   \n",
       "438         438  TEAM USA      5       CARA CROUCH     2  0.333333       3   \n",
       "441         441  TEAM USA     19  GEORGIA BOSSCHER     3  0.500000       3   \n",
       "444         444  TEAM USA      9     OCTAVIA PAYNE     4  0.666667       1   \n",
       "446         446  TEAM USA      6    SARAH GRIFFITH    11  1.833333       0   \n",
       "447         447  TEAM USA     13   VIRGINIA HOWARD     6  1.000000       0   \n",
       "\n",
       "          APG  Block  BPG  Turn  TPG  Games        Tournament  Standing  \\\n",
       "435  1.666667    NaN  NaN   NaN  NaN      6  2013 World Games         1   \n",
       "438  0.500000    NaN  NaN   NaN  NaN      6  2013 World Games         1   \n",
       "441  0.500000    NaN  NaN   NaN  NaN      6  2013 World Games         1   \n",
       "444  0.166667    NaN  NaN   NaN  NaN      6  2013 World Games         1   \n",
       "446  0.000000    NaN  NaN   NaN  NaN      6  2013 World Games         1   \n",
       "447  0.000000    NaN  NaN   NaN  NaN      6  2013 World Games         1   \n",
       "\n",
       "     Spirit  Team_Num  \n",
       "435     NaN        20  \n",
       "438     NaN        20  \n",
       "441     NaN        20  \n",
       "444     NaN        20  \n",
       "446     NaN        20  \n",
       "447     NaN        20  "
      ]
     },
     "execution_count": 209,
     "metadata": {},
     "output_type": "execute_result"
    }
   ],
   "source": [
    "female_stats[female_stats.Team == 'TEAM USA']"
   ]
  },
  {
   "cell_type": "code",
   "execution_count": 210,
   "metadata": {
    "collapsed": false
   },
   "outputs": [],
   "source": [
    "female_stats.replace('SANDRA JORGENSEN', 'SANDY JORGENSEN', inplace=True)\n",
    "female_stats.replace('VIRGINIA HOWARD', 'CREE HOWARD', inplace=True)"
   ]
  },
  {
   "cell_type": "code",
   "execution_count": 211,
   "metadata": {
    "collapsed": false
   },
   "outputs": [
    {
     "data": {
      "text/html": [
       "<div>\n",
       "<table border=\"1\" class=\"dataframe\">\n",
       "  <thead>\n",
       "    <tr style=\"text-align: right;\">\n",
       "      <th></th>\n",
       "      <th>Unnamed: 0</th>\n",
       "      <th>Team</th>\n",
       "      <th>Number</th>\n",
       "      <th>Name</th>\n",
       "      <th>Goal</th>\n",
       "      <th>GPG</th>\n",
       "      <th>Assist</th>\n",
       "      <th>APG</th>\n",
       "      <th>Block</th>\n",
       "      <th>BPG</th>\n",
       "      <th>Turn</th>\n",
       "      <th>TPG</th>\n",
       "      <th>Games</th>\n",
       "      <th>Tournament</th>\n",
       "      <th>Standing</th>\n",
       "      <th>Spirit</th>\n",
       "      <th>Team_Num</th>\n",
       "    </tr>\n",
       "  </thead>\n",
       "  <tbody>\n",
       "    <tr>\n",
       "      <th>3</th>\n",
       "      <td>3</td>\n",
       "      <td>FURY</td>\n",
       "      <td>13</td>\n",
       "      <td>CREE HOWARD</td>\n",
       "      <td>15</td>\n",
       "      <td>1.250000</td>\n",
       "      <td>6</td>\n",
       "      <td>0.500000</td>\n",
       "      <td>NaN</td>\n",
       "      <td>NaN</td>\n",
       "      <td>NaN</td>\n",
       "      <td>NaN</td>\n",
       "      <td>12</td>\n",
       "      <td>2012 WUGC</td>\n",
       "      <td>2</td>\n",
       "      <td>12.00</td>\n",
       "      <td>0</td>\n",
       "    </tr>\n",
       "    <tr>\n",
       "      <th>116</th>\n",
       "      <td>116</td>\n",
       "      <td>FURY</td>\n",
       "      <td>13</td>\n",
       "      <td>CREE HOWARD</td>\n",
       "      <td>5</td>\n",
       "      <td>0.714286</td>\n",
       "      <td>1</td>\n",
       "      <td>0.142857</td>\n",
       "      <td>3</td>\n",
       "      <td>0.428571</td>\n",
       "      <td>4</td>\n",
       "      <td>0.571429</td>\n",
       "      <td>7</td>\n",
       "      <td>2013 USAU Club Championships</td>\n",
       "      <td>2</td>\n",
       "      <td>4.14</td>\n",
       "      <td>0</td>\n",
       "    </tr>\n",
       "    <tr>\n",
       "      <th>447</th>\n",
       "      <td>447</td>\n",
       "      <td>TEAM USA</td>\n",
       "      <td>13</td>\n",
       "      <td>CREE HOWARD</td>\n",
       "      <td>6</td>\n",
       "      <td>1.000000</td>\n",
       "      <td>0</td>\n",
       "      <td>0.000000</td>\n",
       "      <td>NaN</td>\n",
       "      <td>NaN</td>\n",
       "      <td>NaN</td>\n",
       "      <td>NaN</td>\n",
       "      <td>6</td>\n",
       "      <td>2013 World Games</td>\n",
       "      <td>1</td>\n",
       "      <td>NaN</td>\n",
       "      <td>20</td>\n",
       "    </tr>\n",
       "    <tr>\n",
       "      <th>558</th>\n",
       "      <td>558</td>\n",
       "      <td>FURY</td>\n",
       "      <td>13</td>\n",
       "      <td>CREE HOWARD</td>\n",
       "      <td>4</td>\n",
       "      <td>0.571429</td>\n",
       "      <td>3</td>\n",
       "      <td>0.428571</td>\n",
       "      <td>NaN</td>\n",
       "      <td>NaN</td>\n",
       "      <td>NaN</td>\n",
       "      <td>NaN</td>\n",
       "      <td>7</td>\n",
       "      <td>2014 USAU Club Championships</td>\n",
       "      <td>2</td>\n",
       "      <td>13.43</td>\n",
       "      <td>0</td>\n",
       "    </tr>\n",
       "    <tr>\n",
       "      <th>845</th>\n",
       "      <td>845</td>\n",
       "      <td>FURY</td>\n",
       "      <td>NaN</td>\n",
       "      <td>CREE HOWARD</td>\n",
       "      <td>1</td>\n",
       "      <td>1.000000</td>\n",
       "      <td>2</td>\n",
       "      <td>2.000000</td>\n",
       "      <td>NaN</td>\n",
       "      <td>NaN</td>\n",
       "      <td>NaN</td>\n",
       "      <td>NaN</td>\n",
       "      <td>1</td>\n",
       "      <td>2014 WUCC</td>\n",
       "      <td>2</td>\n",
       "      <td>NaN</td>\n",
       "      <td>0</td>\n",
       "    </tr>\n",
       "    <tr>\n",
       "      <th>1016</th>\n",
       "      <td>1016</td>\n",
       "      <td>FURY</td>\n",
       "      <td>13</td>\n",
       "      <td>CREE HOWARD</td>\n",
       "      <td>4</td>\n",
       "      <td>0.666667</td>\n",
       "      <td>5</td>\n",
       "      <td>0.833333</td>\n",
       "      <td>NaN</td>\n",
       "      <td>NaN</td>\n",
       "      <td>NaN</td>\n",
       "      <td>NaN</td>\n",
       "      <td>6</td>\n",
       "      <td>2015 USAU Club Championships</td>\n",
       "      <td>3</td>\n",
       "      <td>13.60</td>\n",
       "      <td>0</td>\n",
       "    </tr>\n",
       "  </tbody>\n",
       "</table>\n",
       "</div>"
      ],
      "text/plain": [
       "      Unnamed: 0      Team Number         Name  Goal       GPG  Assist  \\\n",
       "3              3      FURY     13  CREE HOWARD    15  1.250000       6   \n",
       "116          116      FURY     13  CREE HOWARD     5  0.714286       1   \n",
       "447          447  TEAM USA     13  CREE HOWARD     6  1.000000       0   \n",
       "558          558      FURY     13  CREE HOWARD     4  0.571429       3   \n",
       "845          845      FURY    NaN  CREE HOWARD     1  1.000000       2   \n",
       "1016        1016      FURY     13  CREE HOWARD     4  0.666667       5   \n",
       "\n",
       "           APG  Block       BPG  Turn       TPG  Games  \\\n",
       "3     0.500000    NaN       NaN   NaN       NaN     12   \n",
       "116   0.142857      3  0.428571     4  0.571429      7   \n",
       "447   0.000000    NaN       NaN   NaN       NaN      6   \n",
       "558   0.428571    NaN       NaN   NaN       NaN      7   \n",
       "845   2.000000    NaN       NaN   NaN       NaN      1   \n",
       "1016  0.833333    NaN       NaN   NaN       NaN      6   \n",
       "\n",
       "                        Tournament  Standing  Spirit  Team_Num  \n",
       "3                        2012 WUGC         2   12.00         0  \n",
       "116   2013 USAU Club Championships         2    4.14         0  \n",
       "447               2013 World Games         1     NaN        20  \n",
       "558   2014 USAU Club Championships         2   13.43         0  \n",
       "845                      2014 WUCC         2     NaN         0  \n",
       "1016  2015 USAU Club Championships         3   13.60         0  "
      ]
     },
     "execution_count": 211,
     "metadata": {},
     "output_type": "execute_result"
    }
   ],
   "source": [
    "female_stats[female_stats.Name == 'CREE HOWARD']"
   ]
  },
  {
   "cell_type": "code",
   "execution_count": 212,
   "metadata": {
    "collapsed": true
   },
   "outputs": [],
   "source": [
    "# add WG13 column (i.e. players who made WG13)\n",
    "wg13_players = ['ALEX SNYDER', 'CARA CROUCH', 'GEORGIA BOSSCHER', 'OCTAVIA PAYNE', 'SARAH GRIFFITH', 'CREE HOWARD', 'ROHRE TITCOMB', 'SANDY JORGENSEN', 'ANNA NAZAROV']"
   ]
  },
  {
   "cell_type": "code",
   "execution_count": 213,
   "metadata": {
    "collapsed": false
   },
   "outputs": [
    {
     "data": {
      "text/html": [
       "<div>\n",
       "<table border=\"1\" class=\"dataframe\">\n",
       "  <thead>\n",
       "    <tr style=\"text-align: right;\">\n",
       "      <th></th>\n",
       "      <th>Unnamed: 0</th>\n",
       "      <th>Team</th>\n",
       "      <th>Number</th>\n",
       "      <th>Name</th>\n",
       "      <th>Goal</th>\n",
       "      <th>GPG</th>\n",
       "      <th>Assist</th>\n",
       "      <th>APG</th>\n",
       "      <th>Block</th>\n",
       "      <th>BPG</th>\n",
       "      <th>Turn</th>\n",
       "      <th>TPG</th>\n",
       "      <th>Games</th>\n",
       "      <th>Tournament</th>\n",
       "      <th>Standing</th>\n",
       "      <th>Spirit</th>\n",
       "      <th>Team_Num</th>\n",
       "    </tr>\n",
       "  </thead>\n",
       "  <tbody>\n",
       "    <tr>\n",
       "      <th>0</th>\n",
       "      <td>0</td>\n",
       "      <td>FURY</td>\n",
       "      <td>4</td>\n",
       "      <td>ALEX SNYDER</td>\n",
       "      <td>3</td>\n",
       "      <td>0.250000</td>\n",
       "      <td>32</td>\n",
       "      <td>2.666667</td>\n",
       "      <td>NaN</td>\n",
       "      <td>NaN</td>\n",
       "      <td>NaN</td>\n",
       "      <td>NaN</td>\n",
       "      <td>12</td>\n",
       "      <td>2012 WUGC</td>\n",
       "      <td>2</td>\n",
       "      <td>12</td>\n",
       "      <td>0</td>\n",
       "    </tr>\n",
       "    <tr>\n",
       "      <th>1</th>\n",
       "      <td>1</td>\n",
       "      <td>FURY</td>\n",
       "      <td>19</td>\n",
       "      <td>GEORGIA BOSSCHER</td>\n",
       "      <td>13</td>\n",
       "      <td>1.083333</td>\n",
       "      <td>14</td>\n",
       "      <td>1.166667</td>\n",
       "      <td>NaN</td>\n",
       "      <td>NaN</td>\n",
       "      <td>NaN</td>\n",
       "      <td>NaN</td>\n",
       "      <td>12</td>\n",
       "      <td>2012 WUGC</td>\n",
       "      <td>2</td>\n",
       "      <td>12</td>\n",
       "      <td>0</td>\n",
       "    </tr>\n",
       "  </tbody>\n",
       "</table>\n",
       "</div>"
      ],
      "text/plain": [
       "   Unnamed: 0  Team Number              Name  Goal       GPG  Assist  \\\n",
       "0           0  FURY      4       ALEX SNYDER     3  0.250000      32   \n",
       "1           1  FURY     19  GEORGIA BOSSCHER    13  1.083333      14   \n",
       "\n",
       "        APG  Block  BPG  Turn  TPG  Games Tournament  Standing  Spirit  \\\n",
       "0  2.666667    NaN  NaN   NaN  NaN     12  2012 WUGC         2      12   \n",
       "1  1.166667    NaN  NaN   NaN  NaN     12  2012 WUGC         2      12   \n",
       "\n",
       "   Team_Num  \n",
       "0         0  \n",
       "1         0  "
      ]
     },
     "execution_count": 213,
     "metadata": {},
     "output_type": "execute_result"
    }
   ],
   "source": [
    "female_stats.head(2)"
   ]
  },
  {
   "cell_type": "markdown",
   "metadata": {},
   "source": [
    "## Add wg13"
   ]
  },
  {
   "cell_type": "code",
   "execution_count": 214,
   "metadata": {
    "collapsed": false
   },
   "outputs": [],
   "source": [
    "wg13 = []\n",
    "for item in female_stats.Name:\n",
    "    if item in wg13_players:\n",
    "        wg13.append(1)\n",
    "    else:\n",
    "        wg13.append(0)"
   ]
  },
  {
   "cell_type": "code",
   "execution_count": 215,
   "metadata": {
    "collapsed": false
   },
   "outputs": [],
   "source": [
    "female_stats['wg13'] = wg13"
   ]
  },
  {
   "cell_type": "code",
   "execution_count": 216,
   "metadata": {
    "collapsed": false
   },
   "outputs": [],
   "source": [
    "female_stats.drop('Unnamed: 0', axis=1, inplace=True)"
   ]
  },
  {
   "cell_type": "code",
   "execution_count": 217,
   "metadata": {
    "collapsed": true
   },
   "outputs": [],
   "source": [
    "# rid of Canadian teams\n",
    "us_female_stats = female_stats[(female_stats.Team != 'TRAFFIC') & (female_stats.Team != 'CAPITALS') & (female_stats.Team != 'IRIS') & (female_stats.Team != 'NOVA')]"
   ]
  },
  {
   "cell_type": "code",
   "execution_count": 218,
   "metadata": {
    "collapsed": false,
    "scrolled": true
   },
   "outputs": [
    {
     "data": {
      "text/html": [
       "<div>\n",
       "<table border=\"1\" class=\"dataframe\">\n",
       "  <thead>\n",
       "    <tr style=\"text-align: right;\">\n",
       "      <th></th>\n",
       "      <th>Number</th>\n",
       "      <th>Name</th>\n",
       "      <th>Goal</th>\n",
       "      <th>GPG</th>\n",
       "      <th>Assist</th>\n",
       "      <th>APG</th>\n",
       "      <th>Block</th>\n",
       "      <th>BPG</th>\n",
       "      <th>Turn</th>\n",
       "      <th>TPG</th>\n",
       "      <th>Games</th>\n",
       "      <th>Tournament</th>\n",
       "      <th>Standing</th>\n",
       "      <th>Spirit</th>\n",
       "      <th>Team_Num</th>\n",
       "      <th>wg13</th>\n",
       "    </tr>\n",
       "    <tr>\n",
       "      <th>Team</th>\n",
       "      <th></th>\n",
       "      <th></th>\n",
       "      <th></th>\n",
       "      <th></th>\n",
       "      <th></th>\n",
       "      <th></th>\n",
       "      <th></th>\n",
       "      <th></th>\n",
       "      <th></th>\n",
       "      <th></th>\n",
       "      <th></th>\n",
       "      <th></th>\n",
       "      <th></th>\n",
       "      <th></th>\n",
       "      <th></th>\n",
       "      <th></th>\n",
       "    </tr>\n",
       "  </thead>\n",
       "  <tbody>\n",
       "    <tr>\n",
       "      <th>BENT</th>\n",
       "      <td>51</td>\n",
       "      <td>51</td>\n",
       "      <td>51</td>\n",
       "      <td>51</td>\n",
       "      <td>51</td>\n",
       "      <td>51</td>\n",
       "      <td>26</td>\n",
       "      <td>26</td>\n",
       "      <td>26</td>\n",
       "      <td>26</td>\n",
       "      <td>51</td>\n",
       "      <td>51</td>\n",
       "      <td>51</td>\n",
       "      <td>51</td>\n",
       "      <td>51</td>\n",
       "      <td>51</td>\n",
       "    </tr>\n",
       "    <tr>\n",
       "      <th>BRUTE SQUAD</th>\n",
       "      <td>80</td>\n",
       "      <td>80</td>\n",
       "      <td>80</td>\n",
       "      <td>80</td>\n",
       "      <td>80</td>\n",
       "      <td>80</td>\n",
       "      <td>27</td>\n",
       "      <td>27</td>\n",
       "      <td>27</td>\n",
       "      <td>27</td>\n",
       "      <td>80</td>\n",
       "      <td>80</td>\n",
       "      <td>80</td>\n",
       "      <td>80</td>\n",
       "      <td>80</td>\n",
       "      <td>80</td>\n",
       "    </tr>\n",
       "    <tr>\n",
       "      <th>FURY</th>\n",
       "      <td>106</td>\n",
       "      <td>130</td>\n",
       "      <td>130</td>\n",
       "      <td>130</td>\n",
       "      <td>130</td>\n",
       "      <td>130</td>\n",
       "      <td>26</td>\n",
       "      <td>26</td>\n",
       "      <td>26</td>\n",
       "      <td>26</td>\n",
       "      <td>130</td>\n",
       "      <td>130</td>\n",
       "      <td>130</td>\n",
       "      <td>106</td>\n",
       "      <td>130</td>\n",
       "      <td>130</td>\n",
       "    </tr>\n",
       "    <tr>\n",
       "      <th>GREEN MEANS GO</th>\n",
       "      <td>26</td>\n",
       "      <td>27</td>\n",
       "      <td>27</td>\n",
       "      <td>27</td>\n",
       "      <td>27</td>\n",
       "      <td>27</td>\n",
       "      <td>0</td>\n",
       "      <td>0</td>\n",
       "      <td>0</td>\n",
       "      <td>0</td>\n",
       "      <td>27</td>\n",
       "      <td>27</td>\n",
       "      <td>27</td>\n",
       "      <td>27</td>\n",
       "      <td>27</td>\n",
       "      <td>27</td>\n",
       "    </tr>\n",
       "    <tr>\n",
       "      <th>HEIST</th>\n",
       "      <td>79</td>\n",
       "      <td>79</td>\n",
       "      <td>79</td>\n",
       "      <td>79</td>\n",
       "      <td>79</td>\n",
       "      <td>79</td>\n",
       "      <td>25</td>\n",
       "      <td>25</td>\n",
       "      <td>25</td>\n",
       "      <td>25</td>\n",
       "      <td>79</td>\n",
       "      <td>79</td>\n",
       "      <td>79</td>\n",
       "      <td>79</td>\n",
       "      <td>79</td>\n",
       "      <td>79</td>\n",
       "    </tr>\n",
       "    <tr>\n",
       "      <th>MOLLY BROWN</th>\n",
       "      <td>74</td>\n",
       "      <td>75</td>\n",
       "      <td>75</td>\n",
       "      <td>75</td>\n",
       "      <td>75</td>\n",
       "      <td>75</td>\n",
       "      <td>25</td>\n",
       "      <td>25</td>\n",
       "      <td>25</td>\n",
       "      <td>25</td>\n",
       "      <td>75</td>\n",
       "      <td>75</td>\n",
       "      <td>75</td>\n",
       "      <td>75</td>\n",
       "      <td>75</td>\n",
       "      <td>75</td>\n",
       "    </tr>\n",
       "    <tr>\n",
       "      <th>NEMESIS</th>\n",
       "      <td>71</td>\n",
       "      <td>71</td>\n",
       "      <td>71</td>\n",
       "      <td>71</td>\n",
       "      <td>71</td>\n",
       "      <td>71</td>\n",
       "      <td>25</td>\n",
       "      <td>25</td>\n",
       "      <td>25</td>\n",
       "      <td>25</td>\n",
       "      <td>71</td>\n",
       "      <td>71</td>\n",
       "      <td>71</td>\n",
       "      <td>71</td>\n",
       "      <td>71</td>\n",
       "      <td>71</td>\n",
       "    </tr>\n",
       "    <tr>\n",
       "      <th>NIGHTLOCK</th>\n",
       "      <td>78</td>\n",
       "      <td>78</td>\n",
       "      <td>78</td>\n",
       "      <td>78</td>\n",
       "      <td>78</td>\n",
       "      <td>78</td>\n",
       "      <td>26</td>\n",
       "      <td>26</td>\n",
       "      <td>26</td>\n",
       "      <td>26</td>\n",
       "      <td>78</td>\n",
       "      <td>78</td>\n",
       "      <td>78</td>\n",
       "      <td>78</td>\n",
       "      <td>78</td>\n",
       "      <td>78</td>\n",
       "    </tr>\n",
       "    <tr>\n",
       "      <th>OZONE</th>\n",
       "      <td>71</td>\n",
       "      <td>71</td>\n",
       "      <td>71</td>\n",
       "      <td>71</td>\n",
       "      <td>71</td>\n",
       "      <td>71</td>\n",
       "      <td>25</td>\n",
       "      <td>25</td>\n",
       "      <td>25</td>\n",
       "      <td>25</td>\n",
       "      <td>71</td>\n",
       "      <td>71</td>\n",
       "      <td>71</td>\n",
       "      <td>71</td>\n",
       "      <td>71</td>\n",
       "      <td>71</td>\n",
       "    </tr>\n",
       "    <tr>\n",
       "      <th>PHOENIX</th>\n",
       "      <td>46</td>\n",
       "      <td>46</td>\n",
       "      <td>46</td>\n",
       "      <td>46</td>\n",
       "      <td>46</td>\n",
       "      <td>46</td>\n",
       "      <td>23</td>\n",
       "      <td>23</td>\n",
       "      <td>23</td>\n",
       "      <td>23</td>\n",
       "      <td>46</td>\n",
       "      <td>46</td>\n",
       "      <td>46</td>\n",
       "      <td>46</td>\n",
       "      <td>46</td>\n",
       "      <td>46</td>\n",
       "    </tr>\n",
       "    <tr>\n",
       "      <th>RIOT</th>\n",
       "      <td>81</td>\n",
       "      <td>105</td>\n",
       "      <td>105</td>\n",
       "      <td>105</td>\n",
       "      <td>105</td>\n",
       "      <td>105</td>\n",
       "      <td>28</td>\n",
       "      <td>28</td>\n",
       "      <td>28</td>\n",
       "      <td>28</td>\n",
       "      <td>105</td>\n",
       "      <td>105</td>\n",
       "      <td>105</td>\n",
       "      <td>81</td>\n",
       "      <td>105</td>\n",
       "      <td>105</td>\n",
       "    </tr>\n",
       "    <tr>\n",
       "      <th>SCANDAL</th>\n",
       "      <td>71</td>\n",
       "      <td>71</td>\n",
       "      <td>71</td>\n",
       "      <td>71</td>\n",
       "      <td>71</td>\n",
       "      <td>71</td>\n",
       "      <td>26</td>\n",
       "      <td>26</td>\n",
       "      <td>26</td>\n",
       "      <td>26</td>\n",
       "      <td>71</td>\n",
       "      <td>71</td>\n",
       "      <td>71</td>\n",
       "      <td>71</td>\n",
       "      <td>71</td>\n",
       "      <td>71</td>\n",
       "    </tr>\n",
       "    <tr>\n",
       "      <th>SCHWA</th>\n",
       "      <td>78</td>\n",
       "      <td>78</td>\n",
       "      <td>78</td>\n",
       "      <td>78</td>\n",
       "      <td>78</td>\n",
       "      <td>78</td>\n",
       "      <td>26</td>\n",
       "      <td>26</td>\n",
       "      <td>26</td>\n",
       "      <td>26</td>\n",
       "      <td>78</td>\n",
       "      <td>78</td>\n",
       "      <td>78</td>\n",
       "      <td>78</td>\n",
       "      <td>78</td>\n",
       "      <td>78</td>\n",
       "    </tr>\n",
       "    <tr>\n",
       "      <th>SHOWDOWN</th>\n",
       "      <td>76</td>\n",
       "      <td>76</td>\n",
       "      <td>76</td>\n",
       "      <td>76</td>\n",
       "      <td>76</td>\n",
       "      <td>76</td>\n",
       "      <td>26</td>\n",
       "      <td>26</td>\n",
       "      <td>26</td>\n",
       "      <td>26</td>\n",
       "      <td>76</td>\n",
       "      <td>76</td>\n",
       "      <td>76</td>\n",
       "      <td>76</td>\n",
       "      <td>76</td>\n",
       "      <td>76</td>\n",
       "    </tr>\n",
       "    <tr>\n",
       "      <th>TABBY ROSA</th>\n",
       "      <td>19</td>\n",
       "      <td>19</td>\n",
       "      <td>19</td>\n",
       "      <td>19</td>\n",
       "      <td>19</td>\n",
       "      <td>19</td>\n",
       "      <td>0</td>\n",
       "      <td>0</td>\n",
       "      <td>0</td>\n",
       "      <td>0</td>\n",
       "      <td>19</td>\n",
       "      <td>19</td>\n",
       "      <td>19</td>\n",
       "      <td>19</td>\n",
       "      <td>19</td>\n",
       "      <td>19</td>\n",
       "    </tr>\n",
       "    <tr>\n",
       "      <th>TEAM USA</th>\n",
       "      <td>6</td>\n",
       "      <td>6</td>\n",
       "      <td>6</td>\n",
       "      <td>6</td>\n",
       "      <td>6</td>\n",
       "      <td>6</td>\n",
       "      <td>0</td>\n",
       "      <td>0</td>\n",
       "      <td>0</td>\n",
       "      <td>0</td>\n",
       "      <td>6</td>\n",
       "      <td>6</td>\n",
       "      <td>6</td>\n",
       "      <td>0</td>\n",
       "      <td>6</td>\n",
       "      <td>6</td>\n",
       "    </tr>\n",
       "    <tr>\n",
       "      <th>UNDERGROUND</th>\n",
       "      <td>24</td>\n",
       "      <td>24</td>\n",
       "      <td>24</td>\n",
       "      <td>24</td>\n",
       "      <td>24</td>\n",
       "      <td>24</td>\n",
       "      <td>0</td>\n",
       "      <td>0</td>\n",
       "      <td>0</td>\n",
       "      <td>0</td>\n",
       "      <td>24</td>\n",
       "      <td>24</td>\n",
       "      <td>24</td>\n",
       "      <td>24</td>\n",
       "      <td>24</td>\n",
       "      <td>24</td>\n",
       "    </tr>\n",
       "  </tbody>\n",
       "</table>\n",
       "</div>"
      ],
      "text/plain": [
       "                Number  Name  Goal  GPG  Assist  APG  Block  BPG  Turn  TPG  \\\n",
       "Team                                                                          \n",
       "BENT                51    51    51   51      51   51     26   26    26   26   \n",
       "BRUTE SQUAD         80    80    80   80      80   80     27   27    27   27   \n",
       "FURY               106   130   130  130     130  130     26   26    26   26   \n",
       "GREEN MEANS GO      26    27    27   27      27   27      0    0     0    0   \n",
       "HEIST               79    79    79   79      79   79     25   25    25   25   \n",
       "MOLLY BROWN         74    75    75   75      75   75     25   25    25   25   \n",
       "NEMESIS             71    71    71   71      71   71     25   25    25   25   \n",
       "NIGHTLOCK           78    78    78   78      78   78     26   26    26   26   \n",
       "OZONE               71    71    71   71      71   71     25   25    25   25   \n",
       "PHOENIX             46    46    46   46      46   46     23   23    23   23   \n",
       "RIOT                81   105   105  105     105  105     28   28    28   28   \n",
       "SCANDAL             71    71    71   71      71   71     26   26    26   26   \n",
       "SCHWA               78    78    78   78      78   78     26   26    26   26   \n",
       "SHOWDOWN            76    76    76   76      76   76     26   26    26   26   \n",
       "TABBY ROSA          19    19    19   19      19   19      0    0     0    0   \n",
       "TEAM USA             6     6     6    6       6    6      0    0     0    0   \n",
       "UNDERGROUND         24    24    24   24      24   24      0    0     0    0   \n",
       "\n",
       "                Games  Tournament  Standing  Spirit  Team_Num  wg13  \n",
       "Team                                                                 \n",
       "BENT               51          51        51      51        51    51  \n",
       "BRUTE SQUAD        80          80        80      80        80    80  \n",
       "FURY              130         130       130     106       130   130  \n",
       "GREEN MEANS GO     27          27        27      27        27    27  \n",
       "HEIST              79          79        79      79        79    79  \n",
       "MOLLY BROWN        75          75        75      75        75    75  \n",
       "NEMESIS            71          71        71      71        71    71  \n",
       "NIGHTLOCK          78          78        78      78        78    78  \n",
       "OZONE              71          71        71      71        71    71  \n",
       "PHOENIX            46          46        46      46        46    46  \n",
       "RIOT              105         105       105      81       105   105  \n",
       "SCANDAL            71          71        71      71        71    71  \n",
       "SCHWA              78          78        78      78        78    78  \n",
       "SHOWDOWN           76          76        76      76        76    76  \n",
       "TABBY ROSA         19          19        19      19        19    19  \n",
       "TEAM USA            6           6         6       0         6     6  \n",
       "UNDERGROUND        24          24        24      24        24    24  "
      ]
     },
     "execution_count": 218,
     "metadata": {},
     "output_type": "execute_result"
    }
   ],
   "source": [
    "us_female_stats.groupby('Team').count()"
   ]
  },
  {
   "cell_type": "markdown",
   "metadata": {},
   "source": [
    "## Team Names into numbers"
   ]
  },
  {
   "cell_type": "code",
   "execution_count": 219,
   "metadata": {
    "collapsed": true
   },
   "outputs": [],
   "source": [
    "#use dummies to turn team names into numbers\n",
    "# team_dummies = pd.get_dummies(us_female_stats.Team, prefix='Team')\n",
    "# us_female_stats = pd.concat([us_female_stats, team_dummies], axis=1)"
   ]
  },
  {
   "cell_type": "code",
   "execution_count": 220,
   "metadata": {
    "collapsed": false,
    "scrolled": true
   },
   "outputs": [
    {
     "data": {
      "text/html": [
       "<div>\n",
       "<table border=\"1\" class=\"dataframe\">\n",
       "  <thead>\n",
       "    <tr style=\"text-align: right;\">\n",
       "      <th></th>\n",
       "      <th>Goal</th>\n",
       "      <th>GPG</th>\n",
       "      <th>Assist</th>\n",
       "      <th>APG</th>\n",
       "      <th>Block</th>\n",
       "      <th>BPG</th>\n",
       "      <th>Turn</th>\n",
       "      <th>TPG</th>\n",
       "      <th>Games</th>\n",
       "      <th>Standing</th>\n",
       "      <th>Spirit</th>\n",
       "      <th>Team_Num</th>\n",
       "      <th>wg13</th>\n",
       "    </tr>\n",
       "    <tr>\n",
       "      <th>Name</th>\n",
       "      <th></th>\n",
       "      <th></th>\n",
       "      <th></th>\n",
       "      <th></th>\n",
       "      <th></th>\n",
       "      <th></th>\n",
       "      <th></th>\n",
       "      <th></th>\n",
       "      <th></th>\n",
       "      <th></th>\n",
       "      <th></th>\n",
       "      <th></th>\n",
       "      <th></th>\n",
       "    </tr>\n",
       "  </thead>\n",
       "  <tbody>\n",
       "    <tr>\n",
       "      <th>ABBEY HEWITT</th>\n",
       "      <td>16.000000</td>\n",
       "      <td>3.200000</td>\n",
       "      <td>3.000000</td>\n",
       "      <td>0.600000</td>\n",
       "      <td>NaN</td>\n",
       "      <td>NaN</td>\n",
       "      <td>NaN</td>\n",
       "      <td>NaN</td>\n",
       "      <td>5.000000</td>\n",
       "      <td>5.000000</td>\n",
       "      <td>10.860000</td>\n",
       "      <td>9.000000</td>\n",
       "      <td>0</td>\n",
       "    </tr>\n",
       "    <tr>\n",
       "      <th>ABBY CHRISTOPHER</th>\n",
       "      <td>3.000000</td>\n",
       "      <td>0.250000</td>\n",
       "      <td>3.000000</td>\n",
       "      <td>0.250000</td>\n",
       "      <td>NaN</td>\n",
       "      <td>NaN</td>\n",
       "      <td>NaN</td>\n",
       "      <td>NaN</td>\n",
       "      <td>12.000000</td>\n",
       "      <td>2.000000</td>\n",
       "      <td>12.000000</td>\n",
       "      <td>0.000000</td>\n",
       "      <td>0</td>\n",
       "    </tr>\n",
       "    <tr>\n",
       "      <th>ABBY SHURE</th>\n",
       "      <td>6.000000</td>\n",
       "      <td>0.857143</td>\n",
       "      <td>3.000000</td>\n",
       "      <td>0.428571</td>\n",
       "      <td>NaN</td>\n",
       "      <td>NaN</td>\n",
       "      <td>NaN</td>\n",
       "      <td>NaN</td>\n",
       "      <td>7.000000</td>\n",
       "      <td>16.000000</td>\n",
       "      <td>11.000000</td>\n",
       "      <td>11.000000</td>\n",
       "      <td>0</td>\n",
       "    </tr>\n",
       "    <tr>\n",
       "      <th>ABBY VANMUIJEN</th>\n",
       "      <td>1.000000</td>\n",
       "      <td>0.166667</td>\n",
       "      <td>2.000000</td>\n",
       "      <td>0.333333</td>\n",
       "      <td>3.000000</td>\n",
       "      <td>0.500000</td>\n",
       "      <td>3.000000</td>\n",
       "      <td>0.500000</td>\n",
       "      <td>6.000000</td>\n",
       "      <td>9.000000</td>\n",
       "      <td>3.670000</td>\n",
       "      <td>6.000000</td>\n",
       "      <td>0</td>\n",
       "    </tr>\n",
       "    <tr>\n",
       "      <th>ABIGAIL EDWARDSVANMUIJEN</th>\n",
       "      <td>0.500000</td>\n",
       "      <td>0.125000</td>\n",
       "      <td>0.500000</td>\n",
       "      <td>0.125000</td>\n",
       "      <td>NaN</td>\n",
       "      <td>NaN</td>\n",
       "      <td>NaN</td>\n",
       "      <td>NaN</td>\n",
       "      <td>5.500000</td>\n",
       "      <td>7.000000</td>\n",
       "      <td>12.070000</td>\n",
       "      <td>6.000000</td>\n",
       "      <td>0</td>\n",
       "    </tr>\n",
       "    <tr>\n",
       "      <th>ABIGAIL NEWSOME</th>\n",
       "      <td>0.000000</td>\n",
       "      <td>0.000000</td>\n",
       "      <td>0.000000</td>\n",
       "      <td>0.000000</td>\n",
       "      <td>NaN</td>\n",
       "      <td>NaN</td>\n",
       "      <td>NaN</td>\n",
       "      <td>NaN</td>\n",
       "      <td>4.000000</td>\n",
       "      <td>15.000000</td>\n",
       "      <td>13.430000</td>\n",
       "      <td>15.000000</td>\n",
       "      <td>0</td>\n",
       "    </tr>\n",
       "    <tr>\n",
       "      <th>ADRIENNE BOVEE</th>\n",
       "      <td>0.000000</td>\n",
       "      <td>0.000000</td>\n",
       "      <td>0.000000</td>\n",
       "      <td>0.000000</td>\n",
       "      <td>0.000000</td>\n",
       "      <td>0.000000</td>\n",
       "      <td>0.000000</td>\n",
       "      <td>0.000000</td>\n",
       "      <td>5.000000</td>\n",
       "      <td>12.000000</td>\n",
       "      <td>9.200000</td>\n",
       "      <td>5.000000</td>\n",
       "      <td>0</td>\n",
       "    </tr>\n",
       "    <tr>\n",
       "      <th>ADRIENNE LEMBERGER</th>\n",
       "      <td>3.000000</td>\n",
       "      <td>0.750000</td>\n",
       "      <td>5.000000</td>\n",
       "      <td>1.089286</td>\n",
       "      <td>NaN</td>\n",
       "      <td>NaN</td>\n",
       "      <td>NaN</td>\n",
       "      <td>NaN</td>\n",
       "      <td>5.500000</td>\n",
       "      <td>9.500000</td>\n",
       "      <td>11.570000</td>\n",
       "      <td>11.000000</td>\n",
       "      <td>0</td>\n",
       "    </tr>\n",
       "    <tr>\n",
       "      <th>ADRIENNE WELLS</th>\n",
       "      <td>1.500000</td>\n",
       "      <td>0.321429</td>\n",
       "      <td>0.500000</td>\n",
       "      <td>0.125000</td>\n",
       "      <td>NaN</td>\n",
       "      <td>NaN</td>\n",
       "      <td>NaN</td>\n",
       "      <td>NaN</td>\n",
       "      <td>5.500000</td>\n",
       "      <td>10.000000</td>\n",
       "      <td>12.855000</td>\n",
       "      <td>3.000000</td>\n",
       "      <td>0</td>\n",
       "    </tr>\n",
       "    <tr>\n",
       "      <th>AIDEEN COSTELLO</th>\n",
       "      <td>1.000000</td>\n",
       "      <td>0.142857</td>\n",
       "      <td>0.000000</td>\n",
       "      <td>0.000000</td>\n",
       "      <td>NaN</td>\n",
       "      <td>NaN</td>\n",
       "      <td>NaN</td>\n",
       "      <td>NaN</td>\n",
       "      <td>7.000000</td>\n",
       "      <td>14.000000</td>\n",
       "      <td>7.430000</td>\n",
       "      <td>13.000000</td>\n",
       "      <td>0</td>\n",
       "    </tr>\n",
       "    <tr>\n",
       "      <th>AKINA YOUNGE</th>\n",
       "      <td>0.500000</td>\n",
       "      <td>0.071429</td>\n",
       "      <td>2.000000</td>\n",
       "      <td>0.333333</td>\n",
       "      <td>2.000000</td>\n",
       "      <td>0.333333</td>\n",
       "      <td>3.000000</td>\n",
       "      <td>0.500000</td>\n",
       "      <td>6.500000</td>\n",
       "      <td>13.500000</td>\n",
       "      <td>5.715000</td>\n",
       "      <td>13.000000</td>\n",
       "      <td>0</td>\n",
       "    </tr>\n",
       "    <tr>\n",
       "      <th>ALDEN FLETCHER</th>\n",
       "      <td>3.600000</td>\n",
       "      <td>0.423810</td>\n",
       "      <td>0.400000</td>\n",
       "      <td>0.045238</td>\n",
       "      <td>2.000000</td>\n",
       "      <td>0.285714</td>\n",
       "      <td>3.000000</td>\n",
       "      <td>0.428571</td>\n",
       "      <td>6.600000</td>\n",
       "      <td>2.200000</td>\n",
       "      <td>10.792500</td>\n",
       "      <td>0.000000</td>\n",
       "      <td>0</td>\n",
       "    </tr>\n",
       "    <tr>\n",
       "      <th>ALEX CHLEBECK</th>\n",
       "      <td>0.000000</td>\n",
       "      <td>0.000000</td>\n",
       "      <td>0.000000</td>\n",
       "      <td>0.000000</td>\n",
       "      <td>NaN</td>\n",
       "      <td>NaN</td>\n",
       "      <td>NaN</td>\n",
       "      <td>NaN</td>\n",
       "      <td>4.000000</td>\n",
       "      <td>13.000000</td>\n",
       "      <td>11.710000</td>\n",
       "      <td>11.000000</td>\n",
       "      <td>0</td>\n",
       "    </tr>\n",
       "    <tr>\n",
       "      <th>ALEX FUSSELL</th>\n",
       "      <td>4.000000</td>\n",
       "      <td>1.000000</td>\n",
       "      <td>0.000000</td>\n",
       "      <td>0.000000</td>\n",
       "      <td>NaN</td>\n",
       "      <td>NaN</td>\n",
       "      <td>NaN</td>\n",
       "      <td>NaN</td>\n",
       "      <td>4.000000</td>\n",
       "      <td>12.000000</td>\n",
       "      <td>12.710000</td>\n",
       "      <td>16.000000</td>\n",
       "      <td>0</td>\n",
       "    </tr>\n",
       "    <tr>\n",
       "      <th>ALEX ODE</th>\n",
       "      <td>2.000000</td>\n",
       "      <td>0.333333</td>\n",
       "      <td>1.000000</td>\n",
       "      <td>0.166667</td>\n",
       "      <td>1.000000</td>\n",
       "      <td>0.166667</td>\n",
       "      <td>6.000000</td>\n",
       "      <td>1.000000</td>\n",
       "      <td>6.000000</td>\n",
       "      <td>15.000000</td>\n",
       "      <td>4.330000</td>\n",
       "      <td>5.000000</td>\n",
       "      <td>0</td>\n",
       "    </tr>\n",
       "    <tr>\n",
       "      <th>ALEX SNYDER</th>\n",
       "      <td>1.333333</td>\n",
       "      <td>0.172619</td>\n",
       "      <td>12.000000</td>\n",
       "      <td>1.480159</td>\n",
       "      <td>7.000000</td>\n",
       "      <td>1.000000</td>\n",
       "      <td>9.000000</td>\n",
       "      <td>1.285714</td>\n",
       "      <td>6.500000</td>\n",
       "      <td>2.000000</td>\n",
       "      <td>10.792500</td>\n",
       "      <td>3.333333</td>\n",
       "      <td>1</td>\n",
       "    </tr>\n",
       "    <tr>\n",
       "      <th>ALEXA DIX</th>\n",
       "      <td>0.000000</td>\n",
       "      <td>0.000000</td>\n",
       "      <td>0.000000</td>\n",
       "      <td>0.000000</td>\n",
       "      <td>0.000000</td>\n",
       "      <td>0.000000</td>\n",
       "      <td>6.000000</td>\n",
       "      <td>1.000000</td>\n",
       "      <td>6.000000</td>\n",
       "      <td>15.000000</td>\n",
       "      <td>4.330000</td>\n",
       "      <td>5.000000</td>\n",
       "      <td>0</td>\n",
       "    </tr>\n",
       "    <tr>\n",
       "      <th>ALEXA WOOD</th>\n",
       "      <td>0.000000</td>\n",
       "      <td>0.000000</td>\n",
       "      <td>0.000000</td>\n",
       "      <td>0.000000</td>\n",
       "      <td>NaN</td>\n",
       "      <td>NaN</td>\n",
       "      <td>NaN</td>\n",
       "      <td>NaN</td>\n",
       "      <td>4.000000</td>\n",
       "      <td>16.000000</td>\n",
       "      <td>15.290000</td>\n",
       "      <td>19.000000</td>\n",
       "      <td>0</td>\n",
       "    </tr>\n",
       "    <tr>\n",
       "      <th>ALEXANDRA CHUDLER</th>\n",
       "      <td>2.000000</td>\n",
       "      <td>0.285714</td>\n",
       "      <td>6.000000</td>\n",
       "      <td>0.857143</td>\n",
       "      <td>NaN</td>\n",
       "      <td>NaN</td>\n",
       "      <td>NaN</td>\n",
       "      <td>NaN</td>\n",
       "      <td>7.000000</td>\n",
       "      <td>16.000000</td>\n",
       "      <td>11.000000</td>\n",
       "      <td>11.000000</td>\n",
       "      <td>0</td>\n",
       "    </tr>\n",
       "    <tr>\n",
       "      <th>ALEXANDRA HU</th>\n",
       "      <td>0.000000</td>\n",
       "      <td>0.000000</td>\n",
       "      <td>0.000000</td>\n",
       "      <td>0.000000</td>\n",
       "      <td>NaN</td>\n",
       "      <td>NaN</td>\n",
       "      <td>NaN</td>\n",
       "      <td>NaN</td>\n",
       "      <td>7.000000</td>\n",
       "      <td>16.000000</td>\n",
       "      <td>11.000000</td>\n",
       "      <td>11.000000</td>\n",
       "      <td>0</td>\n",
       "    </tr>\n",
       "    <tr>\n",
       "      <th>ALEXANDRA ODE</th>\n",
       "      <td>1.500000</td>\n",
       "      <td>0.214286</td>\n",
       "      <td>0.500000</td>\n",
       "      <td>0.071429</td>\n",
       "      <td>NaN</td>\n",
       "      <td>NaN</td>\n",
       "      <td>NaN</td>\n",
       "      <td>NaN</td>\n",
       "      <td>5.500000</td>\n",
       "      <td>10.000000</td>\n",
       "      <td>12.870000</td>\n",
       "      <td>5.000000</td>\n",
       "      <td>0</td>\n",
       "    </tr>\n",
       "    <tr>\n",
       "      <th>ALEXANDRA STAMBAUGH</th>\n",
       "      <td>4.000000</td>\n",
       "      <td>0.571429</td>\n",
       "      <td>1.000000</td>\n",
       "      <td>0.142857</td>\n",
       "      <td>NaN</td>\n",
       "      <td>NaN</td>\n",
       "      <td>NaN</td>\n",
       "      <td>NaN</td>\n",
       "      <td>7.000000</td>\n",
       "      <td>7.000000</td>\n",
       "      <td>10.430000</td>\n",
       "      <td>6.000000</td>\n",
       "      <td>0</td>\n",
       "    </tr>\n",
       "    <tr>\n",
       "      <th>ALEXI ZALK</th>\n",
       "      <td>15.000000</td>\n",
       "      <td>2.142857</td>\n",
       "      <td>7.000000</td>\n",
       "      <td>1.000000</td>\n",
       "      <td>NaN</td>\n",
       "      <td>NaN</td>\n",
       "      <td>NaN</td>\n",
       "      <td>NaN</td>\n",
       "      <td>7.000000</td>\n",
       "      <td>14.000000</td>\n",
       "      <td>7.430000</td>\n",
       "      <td>13.000000</td>\n",
       "      <td>0</td>\n",
       "    </tr>\n",
       "    <tr>\n",
       "      <th>ALICE WHITE-CYR</th>\n",
       "      <td>2.000000</td>\n",
       "      <td>0.285714</td>\n",
       "      <td>0.000000</td>\n",
       "      <td>0.000000</td>\n",
       "      <td>NaN</td>\n",
       "      <td>NaN</td>\n",
       "      <td>NaN</td>\n",
       "      <td>NaN</td>\n",
       "      <td>7.000000</td>\n",
       "      <td>11.000000</td>\n",
       "      <td>11.670000</td>\n",
       "      <td>5.000000</td>\n",
       "      <td>0</td>\n",
       "    </tr>\n",
       "    <tr>\n",
       "      <th>ALICIA DANTZKER</th>\n",
       "      <td>2.250000</td>\n",
       "      <td>0.247024</td>\n",
       "      <td>0.500000</td>\n",
       "      <td>0.071429</td>\n",
       "      <td>0.000000</td>\n",
       "      <td>0.000000</td>\n",
       "      <td>3.000000</td>\n",
       "      <td>0.428571</td>\n",
       "      <td>6.750000</td>\n",
       "      <td>2.000000</td>\n",
       "      <td>9.856667</td>\n",
       "      <td>0.000000</td>\n",
       "      <td>0</td>\n",
       "    </tr>\n",
       "    <tr>\n",
       "      <th>ALICIA WHITE</th>\n",
       "      <td>10.000000</td>\n",
       "      <td>1.220238</td>\n",
       "      <td>4.500000</td>\n",
       "      <td>0.625000</td>\n",
       "      <td>5.000000</td>\n",
       "      <td>0.714286</td>\n",
       "      <td>5.000000</td>\n",
       "      <td>0.714286</td>\n",
       "      <td>8.000000</td>\n",
       "      <td>1.750000</td>\n",
       "      <td>10.100000</td>\n",
       "      <td>7.000000</td>\n",
       "      <td>0</td>\n",
       "    </tr>\n",
       "    <tr>\n",
       "      <th>ALIKA JOHNSTON</th>\n",
       "      <td>5.333333</td>\n",
       "      <td>0.761905</td>\n",
       "      <td>8.000000</td>\n",
       "      <td>1.142857</td>\n",
       "      <td>2.000000</td>\n",
       "      <td>0.285714</td>\n",
       "      <td>2.000000</td>\n",
       "      <td>0.285714</td>\n",
       "      <td>7.000000</td>\n",
       "      <td>2.666667</td>\n",
       "      <td>9.570000</td>\n",
       "      <td>10.000000</td>\n",
       "      <td>0</td>\n",
       "    </tr>\n",
       "    <tr>\n",
       "      <th>ALINA KAGAN</th>\n",
       "      <td>1.666667</td>\n",
       "      <td>0.317460</td>\n",
       "      <td>3.333333</td>\n",
       "      <td>0.535714</td>\n",
       "      <td>1.000000</td>\n",
       "      <td>0.166667</td>\n",
       "      <td>4.000000</td>\n",
       "      <td>0.666667</td>\n",
       "      <td>5.666667</td>\n",
       "      <td>7.666667</td>\n",
       "      <td>9.270000</td>\n",
       "      <td>6.000000</td>\n",
       "      <td>0</td>\n",
       "    </tr>\n",
       "    <tr>\n",
       "      <th>ALISHA KRAMER</th>\n",
       "      <td>1.000000</td>\n",
       "      <td>0.171429</td>\n",
       "      <td>0.000000</td>\n",
       "      <td>0.000000</td>\n",
       "      <td>2.000000</td>\n",
       "      <td>0.285714</td>\n",
       "      <td>2.000000</td>\n",
       "      <td>0.285714</td>\n",
       "      <td>6.000000</td>\n",
       "      <td>3.000000</td>\n",
       "      <td>7.610000</td>\n",
       "      <td>9.500000</td>\n",
       "      <td>0</td>\n",
       "    </tr>\n",
       "    <tr>\n",
       "      <th>ALISON DOUGLAS</th>\n",
       "      <td>0.500000</td>\n",
       "      <td>0.100000</td>\n",
       "      <td>3.500000</td>\n",
       "      <td>0.700000</td>\n",
       "      <td>1.000000</td>\n",
       "      <td>0.166667</td>\n",
       "      <td>3.000000</td>\n",
       "      <td>0.500000</td>\n",
       "      <td>5.500000</td>\n",
       "      <td>7.000000</td>\n",
       "      <td>6.930000</td>\n",
       "      <td>9.000000</td>\n",
       "      <td>0</td>\n",
       "    </tr>\n",
       "    <tr>\n",
       "      <th>...</th>\n",
       "      <td>...</td>\n",
       "      <td>...</td>\n",
       "      <td>...</td>\n",
       "      <td>...</td>\n",
       "      <td>...</td>\n",
       "      <td>...</td>\n",
       "      <td>...</td>\n",
       "      <td>...</td>\n",
       "      <td>...</td>\n",
       "      <td>...</td>\n",
       "      <td>...</td>\n",
       "      <td>...</td>\n",
       "      <td>...</td>\n",
       "    </tr>\n",
       "    <tr>\n",
       "      <th>SOPHIE DARCH</th>\n",
       "      <td>1.500000</td>\n",
       "      <td>0.267857</td>\n",
       "      <td>6.000000</td>\n",
       "      <td>1.392857</td>\n",
       "      <td>NaN</td>\n",
       "      <td>NaN</td>\n",
       "      <td>NaN</td>\n",
       "      <td>NaN</td>\n",
       "      <td>5.500000</td>\n",
       "      <td>9.000000</td>\n",
       "      <td>12.390000</td>\n",
       "      <td>7.000000</td>\n",
       "      <td>0</td>\n",
       "    </tr>\n",
       "    <tr>\n",
       "      <th>SOPHIE HULBERT</th>\n",
       "      <td>9.000000</td>\n",
       "      <td>1.285714</td>\n",
       "      <td>3.000000</td>\n",
       "      <td>0.428571</td>\n",
       "      <td>NaN</td>\n",
       "      <td>NaN</td>\n",
       "      <td>NaN</td>\n",
       "      <td>NaN</td>\n",
       "      <td>7.000000</td>\n",
       "      <td>14.000000</td>\n",
       "      <td>7.430000</td>\n",
       "      <td>13.000000</td>\n",
       "      <td>0</td>\n",
       "    </tr>\n",
       "    <tr>\n",
       "      <th>STEPH LIM</th>\n",
       "      <td>0.000000</td>\n",
       "      <td>0.000000</td>\n",
       "      <td>1.000000</td>\n",
       "      <td>0.166667</td>\n",
       "      <td>0.000000</td>\n",
       "      <td>0.000000</td>\n",
       "      <td>4.000000</td>\n",
       "      <td>0.666667</td>\n",
       "      <td>6.000000</td>\n",
       "      <td>9.000000</td>\n",
       "      <td>3.670000</td>\n",
       "      <td>6.000000</td>\n",
       "      <td>0</td>\n",
       "    </tr>\n",
       "    <tr>\n",
       "      <th>STEPHANIE FROST</th>\n",
       "      <td>0.000000</td>\n",
       "      <td>0.000000</td>\n",
       "      <td>0.000000</td>\n",
       "      <td>0.000000</td>\n",
       "      <td>NaN</td>\n",
       "      <td>NaN</td>\n",
       "      <td>NaN</td>\n",
       "      <td>NaN</td>\n",
       "      <td>5.000000</td>\n",
       "      <td>9.000000</td>\n",
       "      <td>13.710000</td>\n",
       "      <td>8.000000</td>\n",
       "      <td>0</td>\n",
       "    </tr>\n",
       "    <tr>\n",
       "      <th>STEPHANIE LIM</th>\n",
       "      <td>2.000000</td>\n",
       "      <td>0.458333</td>\n",
       "      <td>2.500000</td>\n",
       "      <td>0.541667</td>\n",
       "      <td>NaN</td>\n",
       "      <td>NaN</td>\n",
       "      <td>NaN</td>\n",
       "      <td>NaN</td>\n",
       "      <td>5.000000</td>\n",
       "      <td>5.000000</td>\n",
       "      <td>13.655000</td>\n",
       "      <td>3.000000</td>\n",
       "      <td>0</td>\n",
       "    </tr>\n",
       "    <tr>\n",
       "      <th>SYDNEY DOBKIN</th>\n",
       "      <td>1.000000</td>\n",
       "      <td>0.142857</td>\n",
       "      <td>0.500000</td>\n",
       "      <td>0.071429</td>\n",
       "      <td>0.000000</td>\n",
       "      <td>0.000000</td>\n",
       "      <td>6.000000</td>\n",
       "      <td>1.000000</td>\n",
       "      <td>6.500000</td>\n",
       "      <td>6.500000</td>\n",
       "      <td>7.585000</td>\n",
       "      <td>2.500000</td>\n",
       "      <td>0</td>\n",
       "    </tr>\n",
       "    <tr>\n",
       "      <th>TANIA REITZ</th>\n",
       "      <td>6.000000</td>\n",
       "      <td>1.000000</td>\n",
       "      <td>2.000000</td>\n",
       "      <td>0.333333</td>\n",
       "      <td>NaN</td>\n",
       "      <td>NaN</td>\n",
       "      <td>NaN</td>\n",
       "      <td>NaN</td>\n",
       "      <td>6.000000</td>\n",
       "      <td>3.000000</td>\n",
       "      <td>11.330000</td>\n",
       "      <td>8.000000</td>\n",
       "      <td>0</td>\n",
       "    </tr>\n",
       "    <tr>\n",
       "      <th>TEAL DABNEY</th>\n",
       "      <td>3.000000</td>\n",
       "      <td>0.750000</td>\n",
       "      <td>4.000000</td>\n",
       "      <td>1.000000</td>\n",
       "      <td>NaN</td>\n",
       "      <td>NaN</td>\n",
       "      <td>NaN</td>\n",
       "      <td>NaN</td>\n",
       "      <td>4.000000</td>\n",
       "      <td>16.000000</td>\n",
       "      <td>15.290000</td>\n",
       "      <td>19.000000</td>\n",
       "      <td>0</td>\n",
       "    </tr>\n",
       "    <tr>\n",
       "      <th>TERESA FENG</th>\n",
       "      <td>0.000000</td>\n",
       "      <td>0.000000</td>\n",
       "      <td>3.000000</td>\n",
       "      <td>0.428571</td>\n",
       "      <td>NaN</td>\n",
       "      <td>NaN</td>\n",
       "      <td>NaN</td>\n",
       "      <td>NaN</td>\n",
       "      <td>7.000000</td>\n",
       "      <td>7.000000</td>\n",
       "      <td>10.430000</td>\n",
       "      <td>6.000000</td>\n",
       "      <td>0</td>\n",
       "    </tr>\n",
       "    <tr>\n",
       "      <th>TIFFANI TENG</th>\n",
       "      <td>0.000000</td>\n",
       "      <td>0.000000</td>\n",
       "      <td>0.000000</td>\n",
       "      <td>0.000000</td>\n",
       "      <td>NaN</td>\n",
       "      <td>NaN</td>\n",
       "      <td>NaN</td>\n",
       "      <td>NaN</td>\n",
       "      <td>7.000000</td>\n",
       "      <td>14.000000</td>\n",
       "      <td>7.430000</td>\n",
       "      <td>13.000000</td>\n",
       "      <td>0</td>\n",
       "    </tr>\n",
       "    <tr>\n",
       "      <th>TIFFANY HENDERSON</th>\n",
       "      <td>6.000000</td>\n",
       "      <td>1.000000</td>\n",
       "      <td>1.000000</td>\n",
       "      <td>0.166667</td>\n",
       "      <td>2.000000</td>\n",
       "      <td>0.333333</td>\n",
       "      <td>7.000000</td>\n",
       "      <td>1.166667</td>\n",
       "      <td>6.000000</td>\n",
       "      <td>15.000000</td>\n",
       "      <td>4.330000</td>\n",
       "      <td>5.000000</td>\n",
       "      <td>0</td>\n",
       "    </tr>\n",
       "    <tr>\n",
       "      <th>TIFFANY SCHUMACHER</th>\n",
       "      <td>0.000000</td>\n",
       "      <td>0.000000</td>\n",
       "      <td>2.000000</td>\n",
       "      <td>0.285714</td>\n",
       "      <td>NaN</td>\n",
       "      <td>NaN</td>\n",
       "      <td>NaN</td>\n",
       "      <td>NaN</td>\n",
       "      <td>7.000000</td>\n",
       "      <td>15.000000</td>\n",
       "      <td>8.140000</td>\n",
       "      <td>7.000000</td>\n",
       "      <td>0</td>\n",
       "    </tr>\n",
       "    <tr>\n",
       "      <th>TINA MCDOWELL</th>\n",
       "      <td>4.000000</td>\n",
       "      <td>0.666667</td>\n",
       "      <td>14.000000</td>\n",
       "      <td>2.333333</td>\n",
       "      <td>2.000000</td>\n",
       "      <td>0.333333</td>\n",
       "      <td>3.000000</td>\n",
       "      <td>0.500000</td>\n",
       "      <td>6.000000</td>\n",
       "      <td>11.000000</td>\n",
       "      <td>3.830000</td>\n",
       "      <td>8.000000</td>\n",
       "      <td>0</td>\n",
       "    </tr>\n",
       "    <tr>\n",
       "      <th>TINA SNODGRASS</th>\n",
       "      <td>12.000000</td>\n",
       "      <td>2.000000</td>\n",
       "      <td>0.000000</td>\n",
       "      <td>0.000000</td>\n",
       "      <td>2.000000</td>\n",
       "      <td>0.333333</td>\n",
       "      <td>3.000000</td>\n",
       "      <td>0.500000</td>\n",
       "      <td>6.000000</td>\n",
       "      <td>11.000000</td>\n",
       "      <td>3.830000</td>\n",
       "      <td>8.000000</td>\n",
       "      <td>0</td>\n",
       "    </tr>\n",
       "    <tr>\n",
       "      <th>TINA WOODINGS</th>\n",
       "      <td>1.333333</td>\n",
       "      <td>0.228571</td>\n",
       "      <td>5.333333</td>\n",
       "      <td>0.952381</td>\n",
       "      <td>4.000000</td>\n",
       "      <td>0.571429</td>\n",
       "      <td>6.000000</td>\n",
       "      <td>0.857143</td>\n",
       "      <td>6.333333</td>\n",
       "      <td>8.333333</td>\n",
       "      <td>7.816667</td>\n",
       "      <td>7.000000</td>\n",
       "      <td>0</td>\n",
       "    </tr>\n",
       "    <tr>\n",
       "      <th>TRISHA THOMS</th>\n",
       "      <td>5.000000</td>\n",
       "      <td>0.982143</td>\n",
       "      <td>1.000000</td>\n",
       "      <td>0.196429</td>\n",
       "      <td>NaN</td>\n",
       "      <td>NaN</td>\n",
       "      <td>NaN</td>\n",
       "      <td>NaN</td>\n",
       "      <td>5.500000</td>\n",
       "      <td>10.000000</td>\n",
       "      <td>12.870000</td>\n",
       "      <td>5.000000</td>\n",
       "      <td>0</td>\n",
       "    </tr>\n",
       "    <tr>\n",
       "      <th>TRUDY PHILIP</th>\n",
       "      <td>2.000000</td>\n",
       "      <td>0.500000</td>\n",
       "      <td>2.000000</td>\n",
       "      <td>0.500000</td>\n",
       "      <td>NaN</td>\n",
       "      <td>NaN</td>\n",
       "      <td>NaN</td>\n",
       "      <td>NaN</td>\n",
       "      <td>4.000000</td>\n",
       "      <td>12.000000</td>\n",
       "      <td>12.710000</td>\n",
       "      <td>16.000000</td>\n",
       "      <td>0</td>\n",
       "    </tr>\n",
       "    <tr>\n",
       "      <th>UNKNOWN</th>\n",
       "      <td>0.230769</td>\n",
       "      <td>0.036630</td>\n",
       "      <td>0.153846</td>\n",
       "      <td>0.025641</td>\n",
       "      <td>0.076923</td>\n",
       "      <td>0.012821</td>\n",
       "      <td>1.153846</td>\n",
       "      <td>0.181319</td>\n",
       "      <td>6.307692</td>\n",
       "      <td>8.000000</td>\n",
       "      <td>4.043846</td>\n",
       "      <td>6.846154</td>\n",
       "      <td>0</td>\n",
       "    </tr>\n",
       "    <tr>\n",
       "      <th>V.Y. CHOW</th>\n",
       "      <td>3.500000</td>\n",
       "      <td>0.571429</td>\n",
       "      <td>4.500000</td>\n",
       "      <td>0.750000</td>\n",
       "      <td>0.000000</td>\n",
       "      <td>0.000000</td>\n",
       "      <td>5.000000</td>\n",
       "      <td>0.833333</td>\n",
       "      <td>6.500000</td>\n",
       "      <td>4.000000</td>\n",
       "      <td>8.715000</td>\n",
       "      <td>1.000000</td>\n",
       "      <td>0</td>\n",
       "    </tr>\n",
       "    <tr>\n",
       "      <th>VICKI CHANG</th>\n",
       "      <td>1.000000</td>\n",
       "      <td>0.166667</td>\n",
       "      <td>3.000000</td>\n",
       "      <td>0.500000</td>\n",
       "      <td>NaN</td>\n",
       "      <td>NaN</td>\n",
       "      <td>NaN</td>\n",
       "      <td>NaN</td>\n",
       "      <td>6.000000</td>\n",
       "      <td>3.000000</td>\n",
       "      <td>13.400000</td>\n",
       "      <td>2.000000</td>\n",
       "      <td>0</td>\n",
       "    </tr>\n",
       "    <tr>\n",
       "      <th>VICKI CHEN</th>\n",
       "      <td>2.000000</td>\n",
       "      <td>0.500000</td>\n",
       "      <td>6.000000</td>\n",
       "      <td>1.500000</td>\n",
       "      <td>NaN</td>\n",
       "      <td>NaN</td>\n",
       "      <td>NaN</td>\n",
       "      <td>NaN</td>\n",
       "      <td>4.000000</td>\n",
       "      <td>15.000000</td>\n",
       "      <td>13.430000</td>\n",
       "      <td>15.000000</td>\n",
       "      <td>0</td>\n",
       "    </tr>\n",
       "    <tr>\n",
       "      <th>VICKY NEGUS</th>\n",
       "      <td>1.000000</td>\n",
       "      <td>0.166667</td>\n",
       "      <td>0.000000</td>\n",
       "      <td>0.000000</td>\n",
       "      <td>2.000000</td>\n",
       "      <td>0.333333</td>\n",
       "      <td>2.000000</td>\n",
       "      <td>0.333333</td>\n",
       "      <td>6.000000</td>\n",
       "      <td>6.000000</td>\n",
       "      <td>4.000000</td>\n",
       "      <td>2.000000</td>\n",
       "      <td>0</td>\n",
       "    </tr>\n",
       "    <tr>\n",
       "      <th>VICTORIA NEGUS</th>\n",
       "      <td>2.500000</td>\n",
       "      <td>0.404762</td>\n",
       "      <td>0.500000</td>\n",
       "      <td>0.083333</td>\n",
       "      <td>NaN</td>\n",
       "      <td>NaN</td>\n",
       "      <td>NaN</td>\n",
       "      <td>NaN</td>\n",
       "      <td>6.500000</td>\n",
       "      <td>2.000000</td>\n",
       "      <td>12.200000</td>\n",
       "      <td>2.000000</td>\n",
       "      <td>0</td>\n",
       "    </tr>\n",
       "    <tr>\n",
       "      <th>VIRGINIA CONOVER</th>\n",
       "      <td>1.000000</td>\n",
       "      <td>0.166667</td>\n",
       "      <td>0.000000</td>\n",
       "      <td>0.000000</td>\n",
       "      <td>0.000000</td>\n",
       "      <td>0.000000</td>\n",
       "      <td>2.000000</td>\n",
       "      <td>0.333333</td>\n",
       "      <td>6.000000</td>\n",
       "      <td>14.000000</td>\n",
       "      <td>4.330000</td>\n",
       "      <td>14.000000</td>\n",
       "      <td>0</td>\n",
       "    </tr>\n",
       "    <tr>\n",
       "      <th>WHITNEY MOUNT</th>\n",
       "      <td>3.000000</td>\n",
       "      <td>0.750000</td>\n",
       "      <td>2.000000</td>\n",
       "      <td>0.500000</td>\n",
       "      <td>NaN</td>\n",
       "      <td>NaN</td>\n",
       "      <td>NaN</td>\n",
       "      <td>NaN</td>\n",
       "      <td>4.000000</td>\n",
       "      <td>9.000000</td>\n",
       "      <td>14.070000</td>\n",
       "      <td>5.000000</td>\n",
       "      <td>0</td>\n",
       "    </tr>\n",
       "    <tr>\n",
       "      <th>WHITNEY VIETS</th>\n",
       "      <td>3.000000</td>\n",
       "      <td>0.750000</td>\n",
       "      <td>2.000000</td>\n",
       "      <td>0.500000</td>\n",
       "      <td>NaN</td>\n",
       "      <td>NaN</td>\n",
       "      <td>NaN</td>\n",
       "      <td>NaN</td>\n",
       "      <td>4.000000</td>\n",
       "      <td>15.000000</td>\n",
       "      <td>13.430000</td>\n",
       "      <td>15.000000</td>\n",
       "      <td>0</td>\n",
       "    </tr>\n",
       "    <tr>\n",
       "      <th>XENIA RUDENKO</th>\n",
       "      <td>5.000000</td>\n",
       "      <td>1.250000</td>\n",
       "      <td>0.000000</td>\n",
       "      <td>0.000000</td>\n",
       "      <td>NaN</td>\n",
       "      <td>NaN</td>\n",
       "      <td>NaN</td>\n",
       "      <td>NaN</td>\n",
       "      <td>4.000000</td>\n",
       "      <td>15.000000</td>\n",
       "      <td>13.430000</td>\n",
       "      <td>15.000000</td>\n",
       "      <td>0</td>\n",
       "    </tr>\n",
       "    <tr>\n",
       "      <th>YELENA GORLIN</th>\n",
       "      <td>7.000000</td>\n",
       "      <td>0.583333</td>\n",
       "      <td>3.000000</td>\n",
       "      <td>0.250000</td>\n",
       "      <td>NaN</td>\n",
       "      <td>NaN</td>\n",
       "      <td>NaN</td>\n",
       "      <td>NaN</td>\n",
       "      <td>12.000000</td>\n",
       "      <td>2.000000</td>\n",
       "      <td>12.000000</td>\n",
       "      <td>0.000000</td>\n",
       "      <td>0</td>\n",
       "    </tr>\n",
       "    <tr>\n",
       "      <th>YOLANDA SCARPATI</th>\n",
       "      <td>4.000000</td>\n",
       "      <td>1.000000</td>\n",
       "      <td>2.000000</td>\n",
       "      <td>0.500000</td>\n",
       "      <td>NaN</td>\n",
       "      <td>NaN</td>\n",
       "      <td>NaN</td>\n",
       "      <td>NaN</td>\n",
       "      <td>4.000000</td>\n",
       "      <td>15.000000</td>\n",
       "      <td>13.430000</td>\n",
       "      <td>15.000000</td>\n",
       "      <td>0</td>\n",
       "    </tr>\n",
       "    <tr>\n",
       "      <th>ZOE STAPLETON</th>\n",
       "      <td>1.000000</td>\n",
       "      <td>0.250000</td>\n",
       "      <td>0.000000</td>\n",
       "      <td>0.000000</td>\n",
       "      <td>NaN</td>\n",
       "      <td>NaN</td>\n",
       "      <td>NaN</td>\n",
       "      <td>NaN</td>\n",
       "      <td>4.000000</td>\n",
       "      <td>16.000000</td>\n",
       "      <td>15.290000</td>\n",
       "      <td>19.000000</td>\n",
       "      <td>0</td>\n",
       "    </tr>\n",
       "  </tbody>\n",
       "</table>\n",
       "<p>592 rows × 13 columns</p>\n",
       "</div>"
      ],
      "text/plain": [
       "                               Goal       GPG     Assist       APG     Block  \\\n",
       "Name                                                                           \n",
       "ABBEY HEWITT              16.000000  3.200000   3.000000  0.600000       NaN   \n",
       "ABBY CHRISTOPHER           3.000000  0.250000   3.000000  0.250000       NaN   \n",
       "ABBY SHURE                 6.000000  0.857143   3.000000  0.428571       NaN   \n",
       "ABBY VANMUIJEN             1.000000  0.166667   2.000000  0.333333  3.000000   \n",
       "ABIGAIL EDWARDSVANMUIJEN   0.500000  0.125000   0.500000  0.125000       NaN   \n",
       "ABIGAIL NEWSOME            0.000000  0.000000   0.000000  0.000000       NaN   \n",
       "ADRIENNE BOVEE             0.000000  0.000000   0.000000  0.000000  0.000000   \n",
       "ADRIENNE LEMBERGER         3.000000  0.750000   5.000000  1.089286       NaN   \n",
       "ADRIENNE WELLS             1.500000  0.321429   0.500000  0.125000       NaN   \n",
       "AIDEEN COSTELLO            1.000000  0.142857   0.000000  0.000000       NaN   \n",
       "AKINA YOUNGE               0.500000  0.071429   2.000000  0.333333  2.000000   \n",
       "ALDEN FLETCHER             3.600000  0.423810   0.400000  0.045238  2.000000   \n",
       "ALEX CHLEBECK              0.000000  0.000000   0.000000  0.000000       NaN   \n",
       "ALEX FUSSELL               4.000000  1.000000   0.000000  0.000000       NaN   \n",
       "ALEX ODE                   2.000000  0.333333   1.000000  0.166667  1.000000   \n",
       "ALEX SNYDER                1.333333  0.172619  12.000000  1.480159  7.000000   \n",
       "ALEXA DIX                  0.000000  0.000000   0.000000  0.000000  0.000000   \n",
       "ALEXA WOOD                 0.000000  0.000000   0.000000  0.000000       NaN   \n",
       "ALEXANDRA CHUDLER          2.000000  0.285714   6.000000  0.857143       NaN   \n",
       "ALEXANDRA HU               0.000000  0.000000   0.000000  0.000000       NaN   \n",
       "ALEXANDRA ODE              1.500000  0.214286   0.500000  0.071429       NaN   \n",
       "ALEXANDRA STAMBAUGH        4.000000  0.571429   1.000000  0.142857       NaN   \n",
       "ALEXI ZALK                15.000000  2.142857   7.000000  1.000000       NaN   \n",
       "ALICE WHITE-CYR            2.000000  0.285714   0.000000  0.000000       NaN   \n",
       "ALICIA DANTZKER            2.250000  0.247024   0.500000  0.071429  0.000000   \n",
       "ALICIA WHITE              10.000000  1.220238   4.500000  0.625000  5.000000   \n",
       "ALIKA JOHNSTON             5.333333  0.761905   8.000000  1.142857  2.000000   \n",
       "ALINA KAGAN                1.666667  0.317460   3.333333  0.535714  1.000000   \n",
       "ALISHA KRAMER              1.000000  0.171429   0.000000  0.000000  2.000000   \n",
       "ALISON DOUGLAS             0.500000  0.100000   3.500000  0.700000  1.000000   \n",
       "...                             ...       ...        ...       ...       ...   \n",
       "SOPHIE DARCH               1.500000  0.267857   6.000000  1.392857       NaN   \n",
       "SOPHIE HULBERT             9.000000  1.285714   3.000000  0.428571       NaN   \n",
       "STEPH LIM                  0.000000  0.000000   1.000000  0.166667  0.000000   \n",
       "STEPHANIE FROST            0.000000  0.000000   0.000000  0.000000       NaN   \n",
       "STEPHANIE LIM              2.000000  0.458333   2.500000  0.541667       NaN   \n",
       "SYDNEY DOBKIN              1.000000  0.142857   0.500000  0.071429  0.000000   \n",
       "TANIA REITZ                6.000000  1.000000   2.000000  0.333333       NaN   \n",
       "TEAL DABNEY                3.000000  0.750000   4.000000  1.000000       NaN   \n",
       "TERESA FENG                0.000000  0.000000   3.000000  0.428571       NaN   \n",
       "TIFFANI TENG               0.000000  0.000000   0.000000  0.000000       NaN   \n",
       "TIFFANY HENDERSON          6.000000  1.000000   1.000000  0.166667  2.000000   \n",
       "TIFFANY SCHUMACHER         0.000000  0.000000   2.000000  0.285714       NaN   \n",
       "TINA MCDOWELL              4.000000  0.666667  14.000000  2.333333  2.000000   \n",
       "TINA SNODGRASS            12.000000  2.000000   0.000000  0.000000  2.000000   \n",
       "TINA WOODINGS              1.333333  0.228571   5.333333  0.952381  4.000000   \n",
       "TRISHA THOMS               5.000000  0.982143   1.000000  0.196429       NaN   \n",
       "TRUDY PHILIP               2.000000  0.500000   2.000000  0.500000       NaN   \n",
       "UNKNOWN                    0.230769  0.036630   0.153846  0.025641  0.076923   \n",
       "V.Y. CHOW                  3.500000  0.571429   4.500000  0.750000  0.000000   \n",
       "VICKI CHANG                1.000000  0.166667   3.000000  0.500000       NaN   \n",
       "VICKI CHEN                 2.000000  0.500000   6.000000  1.500000       NaN   \n",
       "VICKY NEGUS                1.000000  0.166667   0.000000  0.000000  2.000000   \n",
       "VICTORIA NEGUS             2.500000  0.404762   0.500000  0.083333       NaN   \n",
       "VIRGINIA CONOVER           1.000000  0.166667   0.000000  0.000000  0.000000   \n",
       "WHITNEY MOUNT              3.000000  0.750000   2.000000  0.500000       NaN   \n",
       "WHITNEY VIETS              3.000000  0.750000   2.000000  0.500000       NaN   \n",
       "XENIA RUDENKO              5.000000  1.250000   0.000000  0.000000       NaN   \n",
       "YELENA GORLIN              7.000000  0.583333   3.000000  0.250000       NaN   \n",
       "YOLANDA SCARPATI           4.000000  1.000000   2.000000  0.500000       NaN   \n",
       "ZOE STAPLETON              1.000000  0.250000   0.000000  0.000000       NaN   \n",
       "\n",
       "                               BPG      Turn       TPG      Games   Standing  \\\n",
       "Name                                                                           \n",
       "ABBEY HEWITT                   NaN       NaN       NaN   5.000000   5.000000   \n",
       "ABBY CHRISTOPHER               NaN       NaN       NaN  12.000000   2.000000   \n",
       "ABBY SHURE                     NaN       NaN       NaN   7.000000  16.000000   \n",
       "ABBY VANMUIJEN            0.500000  3.000000  0.500000   6.000000   9.000000   \n",
       "ABIGAIL EDWARDSVANMUIJEN       NaN       NaN       NaN   5.500000   7.000000   \n",
       "ABIGAIL NEWSOME                NaN       NaN       NaN   4.000000  15.000000   \n",
       "ADRIENNE BOVEE            0.000000  0.000000  0.000000   5.000000  12.000000   \n",
       "ADRIENNE LEMBERGER             NaN       NaN       NaN   5.500000   9.500000   \n",
       "ADRIENNE WELLS                 NaN       NaN       NaN   5.500000  10.000000   \n",
       "AIDEEN COSTELLO                NaN       NaN       NaN   7.000000  14.000000   \n",
       "AKINA YOUNGE              0.333333  3.000000  0.500000   6.500000  13.500000   \n",
       "ALDEN FLETCHER            0.285714  3.000000  0.428571   6.600000   2.200000   \n",
       "ALEX CHLEBECK                  NaN       NaN       NaN   4.000000  13.000000   \n",
       "ALEX FUSSELL                   NaN       NaN       NaN   4.000000  12.000000   \n",
       "ALEX ODE                  0.166667  6.000000  1.000000   6.000000  15.000000   \n",
       "ALEX SNYDER               1.000000  9.000000  1.285714   6.500000   2.000000   \n",
       "ALEXA DIX                 0.000000  6.000000  1.000000   6.000000  15.000000   \n",
       "ALEXA WOOD                     NaN       NaN       NaN   4.000000  16.000000   \n",
       "ALEXANDRA CHUDLER              NaN       NaN       NaN   7.000000  16.000000   \n",
       "ALEXANDRA HU                   NaN       NaN       NaN   7.000000  16.000000   \n",
       "ALEXANDRA ODE                  NaN       NaN       NaN   5.500000  10.000000   \n",
       "ALEXANDRA STAMBAUGH            NaN       NaN       NaN   7.000000   7.000000   \n",
       "ALEXI ZALK                     NaN       NaN       NaN   7.000000  14.000000   \n",
       "ALICE WHITE-CYR                NaN       NaN       NaN   7.000000  11.000000   \n",
       "ALICIA DANTZKER           0.000000  3.000000  0.428571   6.750000   2.000000   \n",
       "ALICIA WHITE              0.714286  5.000000  0.714286   8.000000   1.750000   \n",
       "ALIKA JOHNSTON            0.285714  2.000000  0.285714   7.000000   2.666667   \n",
       "ALINA KAGAN               0.166667  4.000000  0.666667   5.666667   7.666667   \n",
       "ALISHA KRAMER             0.285714  2.000000  0.285714   6.000000   3.000000   \n",
       "ALISON DOUGLAS            0.166667  3.000000  0.500000   5.500000   7.000000   \n",
       "...                            ...       ...       ...        ...        ...   \n",
       "SOPHIE DARCH                   NaN       NaN       NaN   5.500000   9.000000   \n",
       "SOPHIE HULBERT                 NaN       NaN       NaN   7.000000  14.000000   \n",
       "STEPH LIM                 0.000000  4.000000  0.666667   6.000000   9.000000   \n",
       "STEPHANIE FROST                NaN       NaN       NaN   5.000000   9.000000   \n",
       "STEPHANIE LIM                  NaN       NaN       NaN   5.000000   5.000000   \n",
       "SYDNEY DOBKIN             0.000000  6.000000  1.000000   6.500000   6.500000   \n",
       "TANIA REITZ                    NaN       NaN       NaN   6.000000   3.000000   \n",
       "TEAL DABNEY                    NaN       NaN       NaN   4.000000  16.000000   \n",
       "TERESA FENG                    NaN       NaN       NaN   7.000000   7.000000   \n",
       "TIFFANI TENG                   NaN       NaN       NaN   7.000000  14.000000   \n",
       "TIFFANY HENDERSON         0.333333  7.000000  1.166667   6.000000  15.000000   \n",
       "TIFFANY SCHUMACHER             NaN       NaN       NaN   7.000000  15.000000   \n",
       "TINA MCDOWELL             0.333333  3.000000  0.500000   6.000000  11.000000   \n",
       "TINA SNODGRASS            0.333333  3.000000  0.500000   6.000000  11.000000   \n",
       "TINA WOODINGS             0.571429  6.000000  0.857143   6.333333   8.333333   \n",
       "TRISHA THOMS                   NaN       NaN       NaN   5.500000  10.000000   \n",
       "TRUDY PHILIP                   NaN       NaN       NaN   4.000000  12.000000   \n",
       "UNKNOWN                   0.012821  1.153846  0.181319   6.307692   8.000000   \n",
       "V.Y. CHOW                 0.000000  5.000000  0.833333   6.500000   4.000000   \n",
       "VICKI CHANG                    NaN       NaN       NaN   6.000000   3.000000   \n",
       "VICKI CHEN                     NaN       NaN       NaN   4.000000  15.000000   \n",
       "VICKY NEGUS               0.333333  2.000000  0.333333   6.000000   6.000000   \n",
       "VICTORIA NEGUS                 NaN       NaN       NaN   6.500000   2.000000   \n",
       "VIRGINIA CONOVER          0.000000  2.000000  0.333333   6.000000  14.000000   \n",
       "WHITNEY MOUNT                  NaN       NaN       NaN   4.000000   9.000000   \n",
       "WHITNEY VIETS                  NaN       NaN       NaN   4.000000  15.000000   \n",
       "XENIA RUDENKO                  NaN       NaN       NaN   4.000000  15.000000   \n",
       "YELENA GORLIN                  NaN       NaN       NaN  12.000000   2.000000   \n",
       "YOLANDA SCARPATI               NaN       NaN       NaN   4.000000  15.000000   \n",
       "ZOE STAPLETON                  NaN       NaN       NaN   4.000000  16.000000   \n",
       "\n",
       "                             Spirit   Team_Num  wg13  \n",
       "Name                                                  \n",
       "ABBEY HEWITT              10.860000   9.000000     0  \n",
       "ABBY CHRISTOPHER          12.000000   0.000000     0  \n",
       "ABBY SHURE                11.000000  11.000000     0  \n",
       "ABBY VANMUIJEN             3.670000   6.000000     0  \n",
       "ABIGAIL EDWARDSVANMUIJEN  12.070000   6.000000     0  \n",
       "ABIGAIL NEWSOME           13.430000  15.000000     0  \n",
       "ADRIENNE BOVEE             9.200000   5.000000     0  \n",
       "ADRIENNE LEMBERGER        11.570000  11.000000     0  \n",
       "ADRIENNE WELLS            12.855000   3.000000     0  \n",
       "AIDEEN COSTELLO            7.430000  13.000000     0  \n",
       "AKINA YOUNGE               5.715000  13.000000     0  \n",
       "ALDEN FLETCHER            10.792500   0.000000     0  \n",
       "ALEX CHLEBECK             11.710000  11.000000     0  \n",
       "ALEX FUSSELL              12.710000  16.000000     0  \n",
       "ALEX ODE                   4.330000   5.000000     0  \n",
       "ALEX SNYDER               10.792500   3.333333     1  \n",
       "ALEXA DIX                  4.330000   5.000000     0  \n",
       "ALEXA WOOD                15.290000  19.000000     0  \n",
       "ALEXANDRA CHUDLER         11.000000  11.000000     0  \n",
       "ALEXANDRA HU              11.000000  11.000000     0  \n",
       "ALEXANDRA ODE             12.870000   5.000000     0  \n",
       "ALEXANDRA STAMBAUGH       10.430000   6.000000     0  \n",
       "ALEXI ZALK                 7.430000  13.000000     0  \n",
       "ALICE WHITE-CYR           11.670000   5.000000     0  \n",
       "ALICIA DANTZKER            9.856667   0.000000     0  \n",
       "ALICIA WHITE              10.100000   7.000000     0  \n",
       "ALIKA JOHNSTON             9.570000  10.000000     0  \n",
       "ALINA KAGAN                9.270000   6.000000     0  \n",
       "ALISHA KRAMER              7.610000   9.500000     0  \n",
       "ALISON DOUGLAS             6.930000   9.000000     0  \n",
       "...                             ...        ...   ...  \n",
       "SOPHIE DARCH              12.390000   7.000000     0  \n",
       "SOPHIE HULBERT             7.430000  13.000000     0  \n",
       "STEPH LIM                  3.670000   6.000000     0  \n",
       "STEPHANIE FROST           13.710000   8.000000     0  \n",
       "STEPHANIE LIM             13.655000   3.000000     0  \n",
       "SYDNEY DOBKIN              7.585000   2.500000     0  \n",
       "TANIA REITZ               11.330000   8.000000     0  \n",
       "TEAL DABNEY               15.290000  19.000000     0  \n",
       "TERESA FENG               10.430000   6.000000     0  \n",
       "TIFFANI TENG               7.430000  13.000000     0  \n",
       "TIFFANY HENDERSON          4.330000   5.000000     0  \n",
       "TIFFANY SCHUMACHER         8.140000   7.000000     0  \n",
       "TINA MCDOWELL              3.830000   8.000000     0  \n",
       "TINA SNODGRASS             3.830000   8.000000     0  \n",
       "TINA WOODINGS              7.816667   7.000000     0  \n",
       "TRISHA THOMS              12.870000   5.000000     0  \n",
       "TRUDY PHILIP              12.710000  16.000000     0  \n",
       "UNKNOWN                    4.043846   6.846154     0  \n",
       "V.Y. CHOW                  8.715000   1.000000     0  \n",
       "VICKI CHANG               13.400000   2.000000     0  \n",
       "VICKI CHEN                13.430000  15.000000     0  \n",
       "VICKY NEGUS                4.000000   2.000000     0  \n",
       "VICTORIA NEGUS            12.200000   2.000000     0  \n",
       "VIRGINIA CONOVER           4.330000  14.000000     0  \n",
       "WHITNEY MOUNT             14.070000   5.000000     0  \n",
       "WHITNEY VIETS             13.430000  15.000000     0  \n",
       "XENIA RUDENKO             13.430000  15.000000     0  \n",
       "YELENA GORLIN             12.000000   0.000000     0  \n",
       "YOLANDA SCARPATI          13.430000  15.000000     0  \n",
       "ZOE STAPLETON             15.290000  19.000000     0  \n",
       "\n",
       "[592 rows x 13 columns]"
      ]
     },
     "execution_count": 220,
     "metadata": {},
     "output_type": "execute_result"
    }
   ],
   "source": [
    "us_female_stats.groupby('Name').mean()"
   ]
  },
  {
   "cell_type": "code",
   "execution_count": 221,
   "metadata": {
    "collapsed": false
   },
   "outputs": [
    {
     "name": "stderr",
     "output_type": "stream",
     "text": [
      "/Users/octaviapayne/anaconda/lib/python2.7/site-packages/ipykernel/__main__.py:1: SettingWithCopyWarning: \n",
      "A value is trying to be set on a copy of a slice from a DataFrame\n",
      "\n",
      "See the caveats in the documentation: http://pandas.pydata.org/pandas-docs/stable/indexing.html#indexing-view-versus-copy\n",
      "  if __name__ == '__main__':\n"
     ]
    }
   ],
   "source": [
    "us_female_stats.replace('ABIGAIL EDWARDSVANMUIJEN', 'ABBY VANMUIJEN', inplace=True)"
   ]
  },
  {
   "cell_type": "code",
   "execution_count": 225,
   "metadata": {
    "collapsed": false
   },
   "outputs": [
    {
     "data": {
      "text/html": [
       "<div>\n",
       "<table border=\"1\" class=\"dataframe\">\n",
       "  <thead>\n",
       "    <tr style=\"text-align: right;\">\n",
       "      <th></th>\n",
       "      <th>Team</th>\n",
       "      <th>Number</th>\n",
       "      <th>Name</th>\n",
       "      <th>Goal</th>\n",
       "      <th>GPG</th>\n",
       "      <th>Assist</th>\n",
       "      <th>APG</th>\n",
       "      <th>Block</th>\n",
       "      <th>BPG</th>\n",
       "      <th>Turn</th>\n",
       "      <th>TPG</th>\n",
       "      <th>Games</th>\n",
       "      <th>Tournament</th>\n",
       "      <th>Standing</th>\n",
       "      <th>Spirit</th>\n",
       "      <th>Team_Num</th>\n",
       "      <th>wg13</th>\n",
       "    </tr>\n",
       "  </thead>\n",
       "  <tbody>\n",
       "  </tbody>\n",
       "</table>\n",
       "</div>"
      ],
      "text/plain": [
       "Empty DataFrame\n",
       "Columns: [Team, Number, Name, Goal, GPG, Assist, APG, Block, BPG, Turn, TPG, Games, Tournament, Standing, Spirit, Team_Num, wg13]\n",
       "Index: []"
      ]
     },
     "execution_count": 225,
     "metadata": {},
     "output_type": "execute_result"
    }
   ],
   "source": [
    "us_female_stats[us_female_stats.Name == 'ABIGAIL EDWARDSVANMUIJEN']"
   ]
  },
  {
   "cell_type": "code",
   "execution_count": 226,
   "metadata": {
    "collapsed": false
   },
   "outputs": [],
   "source": [
    "# us_female_stats.groupby('Name').mean().Goal"
   ]
  },
  {
   "cell_type": "code",
   "execution_count": 227,
   "metadata": {
    "collapsed": false
   },
   "outputs": [],
   "source": [
    "# us_female_stats.sort_values(by='Name').Name"
   ]
  },
  {
   "cell_type": "code",
   "execution_count": 228,
   "metadata": {
    "collapsed": false
   },
   "outputs": [],
   "source": [
    "# rid of UNKNOWNs\n",
    "us_female_stats = us_female_stats[us_female_stats.Name != 'UNKNOWN']"
   ]
  },
  {
   "cell_type": "code",
   "execution_count": 229,
   "metadata": {
    "collapsed": false
   },
   "outputs": [],
   "source": [
    "us_female_stats.replace('ASHLEY DALY', 'ASHLEY DALY MORGAN', inplace=True)\n",
    "us_female_stats.replace('ANGELICA GELI\"\" BOYDEN', 'ANGELICA BOYDEN', inplace=True)"
   ]
  },
  {
   "cell_type": "code",
   "execution_count": 251,
   "metadata": {
    "collapsed": false
   },
   "outputs": [],
   "source": [
    "# player_stats = us_female_stats.groupby('Name').mean()"
   ]
  },
  {
   "cell_type": "code",
   "execution_count": 252,
   "metadata": {
    "collapsed": true
   },
   "outputs": [],
   "source": [
    "# player_stats = player_stats.reset_index()"
   ]
  },
  {
   "cell_type": "code",
   "execution_count": 253,
   "metadata": {
    "collapsed": false
   },
   "outputs": [],
   "source": [
    "# player_stats[player_stats.Name == 'OCTAVIA PAYNE']"
   ]
  },
  {
   "cell_type": "markdown",
   "metadata": {},
   "source": [
    "## Add tryouts"
   ]
  },
  {
   "cell_type": "code",
   "execution_count": 254,
   "metadata": {
    "collapsed": true
   },
   "outputs": [],
   "source": [
    "# scrape USAU for tryout list\n",
    "r = requests.get('http://www.usaultimate.org/news/tryout-attendees-announced-for-2016-wugc-teams/')\n",
    "b = BeautifulSoup(r.text, 'html.parser')"
   ]
  },
  {
   "cell_type": "code",
   "execution_count": 255,
   "metadata": {
    "collapsed": false
   },
   "outputs": [],
   "source": [
    "tryouts = [str(item).upper()[8:-10] for item in b.find('table').find_all('td')[::3]]"
   ]
  },
  {
   "cell_type": "code",
   "execution_count": 256,
   "metadata": {
    "collapsed": false
   },
   "outputs": [],
   "source": [
    "# add tryouts column\n",
    "\n",
    "wugc16_tryouts = []\n",
    "for item in us_female_stats.Name:\n",
    "    if item in tryouts:\n",
    "        wugc16_tryouts.append(1)\n",
    "    else:\n",
    "        wugc16_tryouts.append(0)"
   ]
  },
  {
   "cell_type": "code",
   "execution_count": 257,
   "metadata": {
    "collapsed": true
   },
   "outputs": [],
   "source": [
    "us_female_stats['wugc16_tryouts'] = wugc16_tryouts"
   ]
  },
  {
   "cell_type": "code",
   "execution_count": 258,
   "metadata": {
    "collapsed": false
   },
   "outputs": [
    {
     "data": {
      "text/plain": [
       "Team              241\n",
       "Number            219\n",
       "Name              241\n",
       "Goal              241\n",
       "GPG               241\n",
       "Assist            241\n",
       "APG               241\n",
       "Block              65\n",
       "BPG                65\n",
       "Turn               65\n",
       "TPG                65\n",
       "Games             241\n",
       "Tournament        241\n",
       "Standing          241\n",
       "Spirit            214\n",
       "Team_Num          241\n",
       "wg13              241\n",
       "wugc16_tryouts    241\n",
       "dtype: int64"
      ]
     },
     "execution_count": 258,
     "metadata": {},
     "output_type": "execute_result"
    }
   ],
   "source": [
    "us_female_stats[us_female_stats.wugc16_tryouts == 1].count()"
   ]
  },
  {
   "cell_type": "markdown",
   "metadata": {},
   "source": [
    "## Add wugc16 roster"
   ]
  },
  {
   "cell_type": "code",
   "execution_count": 259,
   "metadata": {
    "collapsed": true
   },
   "outputs": [],
   "source": [
    "# scrape USAU for wugc16 women's roster\n",
    "r = requests.get('http://www.usaultimate.org/news/usa-ultimate-announces-womens-team-for-2016-wugc/')\n",
    "b = BeautifulSoup(r.text, 'html.parser')"
   ]
  },
  {
   "cell_type": "code",
   "execution_count": 260,
   "metadata": {
    "collapsed": false
   },
   "outputs": [
    {
     "data": {
      "text/plain": [
       "[<td>Sarah Anciaux\\xa0</td>,\n",
       " <td>Georgia Bosscher\\xa0</td>,\n",
       " <td>Calise Cardenas\\xa0</td>,\n",
       " <td>Claire Chastain\\xa0</td>,\n",
       " <td>Katy Craley\\xa0</td>,\n",
       " <td>Claire Desmond\\xa0</td>,\n",
       " <td>Jenny Fey\\xa0</td>,\n",
       " <td>Katey Forth\\xa0</td>,\n",
       " <td>Sarah Griffith\\xa0</td>,\n",
       " <td>Kami Groom\\xa0</td>,\n",
       " <td>Lien Hoffmann\\xa0</td>,\n",
       " <td>Kaela Jorgenson\\xa0</td>,\n",
       " <td>Hana Kawai\\xa0</td>,\n",
       " <td>Anna Nazarov\\xa0</td>,\n",
       " <td>Octavia Payne\\xa0</td>,\n",
       " <td>Maggie Ruden\\xa0</td>,\n",
       " <td>Lauren Sadler\\xa0</td>,\n",
       " <td>Amber Sinicrope\\xa0</td>,\n",
       " <td>Dena Slattery\\xa0</td>,\n",
       " <td>Tina Snodgrass\\xa0</td>,\n",
       " <td>Alex Snyder\\xa0</td>,\n",
       " <td>Rohre Titcomb\\xa0</td>,\n",
       " <td>Leila Tunnell</td>,\n",
       " <td>Mira Walker\\xa0</td>]"
      ]
     },
     "execution_count": 260,
     "metadata": {},
     "output_type": "execute_result"
    }
   ],
   "source": [
    "b.find('table').find_all('td')[::4]"
   ]
  },
  {
   "cell_type": "code",
   "execution_count": 261,
   "metadata": {
    "collapsed": false
   },
   "outputs": [],
   "source": [
    "# import re\n",
    "# b = str(b.find('table').find_all('td')[::4][-2])"
   ]
  },
  {
   "cell_type": "code",
   "execution_count": 262,
   "metadata": {
    "collapsed": false
   },
   "outputs": [],
   "source": [
    "# re.findall('([^>]*)</', a)\n",
    "# re.findall('([^>]*)\\W?', a)\n",
    "# re.findall('\\w*\\w', b)[1] + \" \" + re.findall('\\w*\\w', b)[2]"
   ]
  },
  {
   "cell_type": "code",
   "execution_count": 263,
   "metadata": {
    "collapsed": false
   },
   "outputs": [],
   "source": [
    "# wugc16 = [str(item).upper()[str(item).index('>')+1:-7] for item in b.find('table').find_all('td')[::4]]\n",
    "import re\n",
    "\n",
    "roster = []\n",
    "\n",
    "for item in b.find('table').find_all('td')[::4]:\n",
    "    roster.append(re.findall('\\w*\\w', str(item).upper())[1] + \" \" + re.findall('\\w*\\w', str(item).upper())[2])"
   ]
  },
  {
   "cell_type": "code",
   "execution_count": 264,
   "metadata": {
    "collapsed": false
   },
   "outputs": [
    {
     "data": {
      "text/plain": [
       "['SARAH ANCIAUX',\n",
       " 'GEORGIA BOSSCHER',\n",
       " 'CALISE CARDENAS',\n",
       " 'CLAIRE CHASTAIN',\n",
       " 'KATY CRALEY',\n",
       " 'CLAIRE DESMOND',\n",
       " 'JENNY FEY',\n",
       " 'KATEY FORTH',\n",
       " 'SARAH GRIFFITH',\n",
       " 'KAMI GROOM',\n",
       " 'LIEN HOFFMANN',\n",
       " 'KAELA JORGENSON',\n",
       " 'HANA KAWAI',\n",
       " 'ANNA NAZAROV',\n",
       " 'OCTAVIA PAYNE',\n",
       " 'MAGGIE RUDEN',\n",
       " 'LAUREN SADLER',\n",
       " 'AMBER SINICROPE',\n",
       " 'DENA SLATTERY',\n",
       " 'TINA SNODGRASS',\n",
       " 'ALEX SNYDER',\n",
       " 'ROHRE TITCOMB',\n",
       " 'LEILA TUNNELL',\n",
       " 'MIRA WALKER']"
      ]
     },
     "execution_count": 264,
     "metadata": {},
     "output_type": "execute_result"
    }
   ],
   "source": [
    "roster"
   ]
  },
  {
   "cell_type": "code",
   "execution_count": 265,
   "metadata": {
    "collapsed": true
   },
   "outputs": [],
   "source": [
    "wugc16 = []\n",
    "\n",
    "for item in us_female_stats.Name:\n",
    "    if item in roster:\n",
    "        wugc16.append(1)\n",
    "    else:\n",
    "        wugc16.append(0)"
   ]
  },
  {
   "cell_type": "code",
   "execution_count": 266,
   "metadata": {
    "collapsed": true
   },
   "outputs": [],
   "source": [
    "us_female_stats['Team_WUGC16'] = wugc16"
   ]
  },
  {
   "cell_type": "code",
   "execution_count": 269,
   "metadata": {
    "collapsed": false
   },
   "outputs": [
    {
     "data": {
      "text/html": [
       "<div>\n",
       "<table border=\"1\" class=\"dataframe\">\n",
       "  <thead>\n",
       "    <tr style=\"text-align: right;\">\n",
       "      <th></th>\n",
       "      <th>Team</th>\n",
       "      <th>Number</th>\n",
       "      <th>Goal</th>\n",
       "      <th>GPG</th>\n",
       "      <th>Assist</th>\n",
       "      <th>APG</th>\n",
       "      <th>Block</th>\n",
       "      <th>BPG</th>\n",
       "      <th>Turn</th>\n",
       "      <th>TPG</th>\n",
       "      <th>Games</th>\n",
       "      <th>Tournament</th>\n",
       "      <th>Standing</th>\n",
       "      <th>Spirit</th>\n",
       "      <th>Team_Num</th>\n",
       "      <th>wg13</th>\n",
       "      <th>wugc16_tryouts</th>\n",
       "      <th>Team_WUGC16</th>\n",
       "    </tr>\n",
       "    <tr>\n",
       "      <th>Name</th>\n",
       "      <th></th>\n",
       "      <th></th>\n",
       "      <th></th>\n",
       "      <th></th>\n",
       "      <th></th>\n",
       "      <th></th>\n",
       "      <th></th>\n",
       "      <th></th>\n",
       "      <th></th>\n",
       "      <th></th>\n",
       "      <th></th>\n",
       "      <th></th>\n",
       "      <th></th>\n",
       "      <th></th>\n",
       "      <th></th>\n",
       "      <th></th>\n",
       "      <th></th>\n",
       "      <th></th>\n",
       "    </tr>\n",
       "  </thead>\n",
       "  <tbody>\n",
       "    <tr>\n",
       "      <th>ALEX SNYDER</th>\n",
       "      <td>6</td>\n",
       "      <td>5</td>\n",
       "      <td>6</td>\n",
       "      <td>6</td>\n",
       "      <td>6</td>\n",
       "      <td>6</td>\n",
       "      <td>1</td>\n",
       "      <td>1</td>\n",
       "      <td>1</td>\n",
       "      <td>1</td>\n",
       "      <td>6</td>\n",
       "      <td>6</td>\n",
       "      <td>6</td>\n",
       "      <td>4</td>\n",
       "      <td>6</td>\n",
       "      <td>6</td>\n",
       "      <td>6</td>\n",
       "      <td>6</td>\n",
       "    </tr>\n",
       "    <tr>\n",
       "      <th>AMBER SINICROPE</th>\n",
       "      <td>2</td>\n",
       "      <td>2</td>\n",
       "      <td>2</td>\n",
       "      <td>2</td>\n",
       "      <td>2</td>\n",
       "      <td>2</td>\n",
       "      <td>1</td>\n",
       "      <td>1</td>\n",
       "      <td>1</td>\n",
       "      <td>1</td>\n",
       "      <td>2</td>\n",
       "      <td>2</td>\n",
       "      <td>2</td>\n",
       "      <td>2</td>\n",
       "      <td>2</td>\n",
       "      <td>2</td>\n",
       "      <td>2</td>\n",
       "      <td>2</td>\n",
       "    </tr>\n",
       "    <tr>\n",
       "      <th>ANNA NAZAROV</th>\n",
       "      <td>5</td>\n",
       "      <td>4</td>\n",
       "      <td>5</td>\n",
       "      <td>5</td>\n",
       "      <td>5</td>\n",
       "      <td>5</td>\n",
       "      <td>1</td>\n",
       "      <td>1</td>\n",
       "      <td>1</td>\n",
       "      <td>1</td>\n",
       "      <td>5</td>\n",
       "      <td>5</td>\n",
       "      <td>5</td>\n",
       "      <td>4</td>\n",
       "      <td>5</td>\n",
       "      <td>5</td>\n",
       "      <td>5</td>\n",
       "      <td>5</td>\n",
       "    </tr>\n",
       "    <tr>\n",
       "      <th>CALISE CARDENAS</th>\n",
       "      <td>4</td>\n",
       "      <td>3</td>\n",
       "      <td>4</td>\n",
       "      <td>4</td>\n",
       "      <td>4</td>\n",
       "      <td>4</td>\n",
       "      <td>1</td>\n",
       "      <td>1</td>\n",
       "      <td>1</td>\n",
       "      <td>1</td>\n",
       "      <td>4</td>\n",
       "      <td>4</td>\n",
       "      <td>4</td>\n",
       "      <td>3</td>\n",
       "      <td>4</td>\n",
       "      <td>4</td>\n",
       "      <td>4</td>\n",
       "      <td>4</td>\n",
       "    </tr>\n",
       "    <tr>\n",
       "      <th>CLAIRE CHASTAIN</th>\n",
       "      <td>3</td>\n",
       "      <td>3</td>\n",
       "      <td>3</td>\n",
       "      <td>3</td>\n",
       "      <td>3</td>\n",
       "      <td>3</td>\n",
       "      <td>1</td>\n",
       "      <td>1</td>\n",
       "      <td>1</td>\n",
       "      <td>1</td>\n",
       "      <td>3</td>\n",
       "      <td>3</td>\n",
       "      <td>3</td>\n",
       "      <td>3</td>\n",
       "      <td>3</td>\n",
       "      <td>3</td>\n",
       "      <td>3</td>\n",
       "      <td>3</td>\n",
       "    </tr>\n",
       "    <tr>\n",
       "      <th>CLAIRE DESMOND</th>\n",
       "      <td>5</td>\n",
       "      <td>4</td>\n",
       "      <td>5</td>\n",
       "      <td>5</td>\n",
       "      <td>5</td>\n",
       "      <td>5</td>\n",
       "      <td>1</td>\n",
       "      <td>1</td>\n",
       "      <td>1</td>\n",
       "      <td>1</td>\n",
       "      <td>5</td>\n",
       "      <td>5</td>\n",
       "      <td>5</td>\n",
       "      <td>4</td>\n",
       "      <td>5</td>\n",
       "      <td>5</td>\n",
       "      <td>5</td>\n",
       "      <td>5</td>\n",
       "    </tr>\n",
       "    <tr>\n",
       "      <th>DENA SLATTERY</th>\n",
       "      <td>3</td>\n",
       "      <td>3</td>\n",
       "      <td>3</td>\n",
       "      <td>3</td>\n",
       "      <td>3</td>\n",
       "      <td>3</td>\n",
       "      <td>1</td>\n",
       "      <td>1</td>\n",
       "      <td>1</td>\n",
       "      <td>1</td>\n",
       "      <td>3</td>\n",
       "      <td>3</td>\n",
       "      <td>3</td>\n",
       "      <td>3</td>\n",
       "      <td>3</td>\n",
       "      <td>3</td>\n",
       "      <td>3</td>\n",
       "      <td>3</td>\n",
       "    </tr>\n",
       "    <tr>\n",
       "      <th>GEORGIA BOSSCHER</th>\n",
       "      <td>4</td>\n",
       "      <td>4</td>\n",
       "      <td>4</td>\n",
       "      <td>4</td>\n",
       "      <td>4</td>\n",
       "      <td>4</td>\n",
       "      <td>1</td>\n",
       "      <td>1</td>\n",
       "      <td>1</td>\n",
       "      <td>1</td>\n",
       "      <td>4</td>\n",
       "      <td>4</td>\n",
       "      <td>4</td>\n",
       "      <td>3</td>\n",
       "      <td>4</td>\n",
       "      <td>4</td>\n",
       "      <td>4</td>\n",
       "      <td>4</td>\n",
       "    </tr>\n",
       "    <tr>\n",
       "      <th>HANA KAWAI</th>\n",
       "      <td>4</td>\n",
       "      <td>3</td>\n",
       "      <td>4</td>\n",
       "      <td>4</td>\n",
       "      <td>4</td>\n",
       "      <td>4</td>\n",
       "      <td>1</td>\n",
       "      <td>1</td>\n",
       "      <td>1</td>\n",
       "      <td>1</td>\n",
       "      <td>4</td>\n",
       "      <td>4</td>\n",
       "      <td>4</td>\n",
       "      <td>3</td>\n",
       "      <td>4</td>\n",
       "      <td>4</td>\n",
       "      <td>4</td>\n",
       "      <td>4</td>\n",
       "    </tr>\n",
       "    <tr>\n",
       "      <th>JENNY FEY</th>\n",
       "      <td>2</td>\n",
       "      <td>2</td>\n",
       "      <td>2</td>\n",
       "      <td>2</td>\n",
       "      <td>2</td>\n",
       "      <td>2</td>\n",
       "      <td>1</td>\n",
       "      <td>1</td>\n",
       "      <td>1</td>\n",
       "      <td>1</td>\n",
       "      <td>2</td>\n",
       "      <td>2</td>\n",
       "      <td>2</td>\n",
       "      <td>2</td>\n",
       "      <td>2</td>\n",
       "      <td>2</td>\n",
       "      <td>2</td>\n",
       "      <td>2</td>\n",
       "    </tr>\n",
       "    <tr>\n",
       "      <th>KAELA JORGENSON</th>\n",
       "      <td>5</td>\n",
       "      <td>4</td>\n",
       "      <td>5</td>\n",
       "      <td>5</td>\n",
       "      <td>5</td>\n",
       "      <td>5</td>\n",
       "      <td>1</td>\n",
       "      <td>1</td>\n",
       "      <td>1</td>\n",
       "      <td>1</td>\n",
       "      <td>5</td>\n",
       "      <td>5</td>\n",
       "      <td>5</td>\n",
       "      <td>4</td>\n",
       "      <td>5</td>\n",
       "      <td>5</td>\n",
       "      <td>5</td>\n",
       "      <td>5</td>\n",
       "    </tr>\n",
       "    <tr>\n",
       "      <th>KAMI GROOM</th>\n",
       "      <td>3</td>\n",
       "      <td>3</td>\n",
       "      <td>3</td>\n",
       "      <td>3</td>\n",
       "      <td>3</td>\n",
       "      <td>3</td>\n",
       "      <td>1</td>\n",
       "      <td>1</td>\n",
       "      <td>1</td>\n",
       "      <td>1</td>\n",
       "      <td>3</td>\n",
       "      <td>3</td>\n",
       "      <td>3</td>\n",
       "      <td>3</td>\n",
       "      <td>3</td>\n",
       "      <td>3</td>\n",
       "      <td>3</td>\n",
       "      <td>3</td>\n",
       "    </tr>\n",
       "    <tr>\n",
       "      <th>KATEY FORTH</th>\n",
       "      <td>3</td>\n",
       "      <td>3</td>\n",
       "      <td>3</td>\n",
       "      <td>3</td>\n",
       "      <td>3</td>\n",
       "      <td>3</td>\n",
       "      <td>1</td>\n",
       "      <td>1</td>\n",
       "      <td>1</td>\n",
       "      <td>1</td>\n",
       "      <td>3</td>\n",
       "      <td>3</td>\n",
       "      <td>3</td>\n",
       "      <td>3</td>\n",
       "      <td>3</td>\n",
       "      <td>3</td>\n",
       "      <td>3</td>\n",
       "      <td>3</td>\n",
       "    </tr>\n",
       "    <tr>\n",
       "      <th>KATY CRALEY</th>\n",
       "      <td>2</td>\n",
       "      <td>2</td>\n",
       "      <td>2</td>\n",
       "      <td>2</td>\n",
       "      <td>2</td>\n",
       "      <td>2</td>\n",
       "      <td>1</td>\n",
       "      <td>1</td>\n",
       "      <td>1</td>\n",
       "      <td>1</td>\n",
       "      <td>2</td>\n",
       "      <td>2</td>\n",
       "      <td>2</td>\n",
       "      <td>2</td>\n",
       "      <td>2</td>\n",
       "      <td>2</td>\n",
       "      <td>2</td>\n",
       "      <td>2</td>\n",
       "    </tr>\n",
       "    <tr>\n",
       "      <th>LAUREN SADLER</th>\n",
       "      <td>3</td>\n",
       "      <td>3</td>\n",
       "      <td>3</td>\n",
       "      <td>3</td>\n",
       "      <td>3</td>\n",
       "      <td>3</td>\n",
       "      <td>1</td>\n",
       "      <td>1</td>\n",
       "      <td>1</td>\n",
       "      <td>1</td>\n",
       "      <td>3</td>\n",
       "      <td>3</td>\n",
       "      <td>3</td>\n",
       "      <td>3</td>\n",
       "      <td>3</td>\n",
       "      <td>3</td>\n",
       "      <td>3</td>\n",
       "      <td>3</td>\n",
       "    </tr>\n",
       "    <tr>\n",
       "      <th>LEILA TUNNELL</th>\n",
       "      <td>3</td>\n",
       "      <td>3</td>\n",
       "      <td>3</td>\n",
       "      <td>3</td>\n",
       "      <td>3</td>\n",
       "      <td>3</td>\n",
       "      <td>1</td>\n",
       "      <td>1</td>\n",
       "      <td>1</td>\n",
       "      <td>1</td>\n",
       "      <td>3</td>\n",
       "      <td>3</td>\n",
       "      <td>3</td>\n",
       "      <td>3</td>\n",
       "      <td>3</td>\n",
       "      <td>3</td>\n",
       "      <td>3</td>\n",
       "      <td>3</td>\n",
       "    </tr>\n",
       "    <tr>\n",
       "      <th>LIEN HOFFMANN</th>\n",
       "      <td>3</td>\n",
       "      <td>3</td>\n",
       "      <td>3</td>\n",
       "      <td>3</td>\n",
       "      <td>3</td>\n",
       "      <td>3</td>\n",
       "      <td>1</td>\n",
       "      <td>1</td>\n",
       "      <td>1</td>\n",
       "      <td>1</td>\n",
       "      <td>3</td>\n",
       "      <td>3</td>\n",
       "      <td>3</td>\n",
       "      <td>3</td>\n",
       "      <td>3</td>\n",
       "      <td>3</td>\n",
       "      <td>3</td>\n",
       "      <td>3</td>\n",
       "    </tr>\n",
       "    <tr>\n",
       "      <th>MAGGIE RUDEN</th>\n",
       "      <td>5</td>\n",
       "      <td>4</td>\n",
       "      <td>5</td>\n",
       "      <td>5</td>\n",
       "      <td>5</td>\n",
       "      <td>5</td>\n",
       "      <td>1</td>\n",
       "      <td>1</td>\n",
       "      <td>1</td>\n",
       "      <td>1</td>\n",
       "      <td>5</td>\n",
       "      <td>5</td>\n",
       "      <td>5</td>\n",
       "      <td>4</td>\n",
       "      <td>5</td>\n",
       "      <td>5</td>\n",
       "      <td>5</td>\n",
       "      <td>5</td>\n",
       "    </tr>\n",
       "    <tr>\n",
       "      <th>MIRA WALKER</th>\n",
       "      <td>3</td>\n",
       "      <td>3</td>\n",
       "      <td>3</td>\n",
       "      <td>3</td>\n",
       "      <td>3</td>\n",
       "      <td>3</td>\n",
       "      <td>1</td>\n",
       "      <td>1</td>\n",
       "      <td>1</td>\n",
       "      <td>1</td>\n",
       "      <td>3</td>\n",
       "      <td>3</td>\n",
       "      <td>3</td>\n",
       "      <td>3</td>\n",
       "      <td>3</td>\n",
       "      <td>3</td>\n",
       "      <td>3</td>\n",
       "      <td>3</td>\n",
       "    </tr>\n",
       "    <tr>\n",
       "      <th>OCTAVIA PAYNE</th>\n",
       "      <td>4</td>\n",
       "      <td>4</td>\n",
       "      <td>4</td>\n",
       "      <td>4</td>\n",
       "      <td>4</td>\n",
       "      <td>4</td>\n",
       "      <td>1</td>\n",
       "      <td>1</td>\n",
       "      <td>1</td>\n",
       "      <td>1</td>\n",
       "      <td>4</td>\n",
       "      <td>4</td>\n",
       "      <td>4</td>\n",
       "      <td>3</td>\n",
       "      <td>4</td>\n",
       "      <td>4</td>\n",
       "      <td>4</td>\n",
       "      <td>4</td>\n",
       "    </tr>\n",
       "    <tr>\n",
       "      <th>ROHRE TITCOMB</th>\n",
       "      <td>4</td>\n",
       "      <td>3</td>\n",
       "      <td>4</td>\n",
       "      <td>4</td>\n",
       "      <td>4</td>\n",
       "      <td>4</td>\n",
       "      <td>1</td>\n",
       "      <td>1</td>\n",
       "      <td>1</td>\n",
       "      <td>1</td>\n",
       "      <td>4</td>\n",
       "      <td>4</td>\n",
       "      <td>4</td>\n",
       "      <td>3</td>\n",
       "      <td>4</td>\n",
       "      <td>4</td>\n",
       "      <td>4</td>\n",
       "      <td>4</td>\n",
       "    </tr>\n",
       "    <tr>\n",
       "      <th>SARAH GRIFFITH</th>\n",
       "      <td>5</td>\n",
       "      <td>4</td>\n",
       "      <td>5</td>\n",
       "      <td>5</td>\n",
       "      <td>5</td>\n",
       "      <td>5</td>\n",
       "      <td>1</td>\n",
       "      <td>1</td>\n",
       "      <td>1</td>\n",
       "      <td>1</td>\n",
       "      <td>5</td>\n",
       "      <td>5</td>\n",
       "      <td>5</td>\n",
       "      <td>3</td>\n",
       "      <td>5</td>\n",
       "      <td>5</td>\n",
       "      <td>5</td>\n",
       "      <td>5</td>\n",
       "    </tr>\n",
       "    <tr>\n",
       "      <th>TINA SNODGRASS</th>\n",
       "      <td>1</td>\n",
       "      <td>1</td>\n",
       "      <td>1</td>\n",
       "      <td>1</td>\n",
       "      <td>1</td>\n",
       "      <td>1</td>\n",
       "      <td>1</td>\n",
       "      <td>1</td>\n",
       "      <td>1</td>\n",
       "      <td>1</td>\n",
       "      <td>1</td>\n",
       "      <td>1</td>\n",
       "      <td>1</td>\n",
       "      <td>1</td>\n",
       "      <td>1</td>\n",
       "      <td>1</td>\n",
       "      <td>1</td>\n",
       "      <td>1</td>\n",
       "    </tr>\n",
       "  </tbody>\n",
       "</table>\n",
       "</div>"
      ],
      "text/plain": [
       "                  Team  Number  Goal  GPG  Assist  APG  Block  BPG  Turn  TPG  \\\n",
       "Name                                                                            \n",
       "ALEX SNYDER          6       5     6    6       6    6      1    1     1    1   \n",
       "AMBER SINICROPE      2       2     2    2       2    2      1    1     1    1   \n",
       "ANNA NAZAROV         5       4     5    5       5    5      1    1     1    1   \n",
       "CALISE CARDENAS      4       3     4    4       4    4      1    1     1    1   \n",
       "CLAIRE CHASTAIN      3       3     3    3       3    3      1    1     1    1   \n",
       "CLAIRE DESMOND       5       4     5    5       5    5      1    1     1    1   \n",
       "DENA SLATTERY        3       3     3    3       3    3      1    1     1    1   \n",
       "GEORGIA BOSSCHER     4       4     4    4       4    4      1    1     1    1   \n",
       "HANA KAWAI           4       3     4    4       4    4      1    1     1    1   \n",
       "JENNY FEY            2       2     2    2       2    2      1    1     1    1   \n",
       "KAELA JORGENSON      5       4     5    5       5    5      1    1     1    1   \n",
       "KAMI GROOM           3       3     3    3       3    3      1    1     1    1   \n",
       "KATEY FORTH          3       3     3    3       3    3      1    1     1    1   \n",
       "KATY CRALEY          2       2     2    2       2    2      1    1     1    1   \n",
       "LAUREN SADLER        3       3     3    3       3    3      1    1     1    1   \n",
       "LEILA TUNNELL        3       3     3    3       3    3      1    1     1    1   \n",
       "LIEN HOFFMANN        3       3     3    3       3    3      1    1     1    1   \n",
       "MAGGIE RUDEN         5       4     5    5       5    5      1    1     1    1   \n",
       "MIRA WALKER          3       3     3    3       3    3      1    1     1    1   \n",
       "OCTAVIA PAYNE        4       4     4    4       4    4      1    1     1    1   \n",
       "ROHRE TITCOMB        4       3     4    4       4    4      1    1     1    1   \n",
       "SARAH GRIFFITH       5       4     5    5       5    5      1    1     1    1   \n",
       "TINA SNODGRASS       1       1     1    1       1    1      1    1     1    1   \n",
       "\n",
       "                  Games  Tournament  Standing  Spirit  Team_Num  wg13  \\\n",
       "Name                                                                    \n",
       "ALEX SNYDER           6           6         6       4         6     6   \n",
       "AMBER SINICROPE       2           2         2       2         2     2   \n",
       "ANNA NAZAROV          5           5         5       4         5     5   \n",
       "CALISE CARDENAS       4           4         4       3         4     4   \n",
       "CLAIRE CHASTAIN       3           3         3       3         3     3   \n",
       "CLAIRE DESMOND        5           5         5       4         5     5   \n",
       "DENA SLATTERY         3           3         3       3         3     3   \n",
       "GEORGIA BOSSCHER      4           4         4       3         4     4   \n",
       "HANA KAWAI            4           4         4       3         4     4   \n",
       "JENNY FEY             2           2         2       2         2     2   \n",
       "KAELA JORGENSON       5           5         5       4         5     5   \n",
       "KAMI GROOM            3           3         3       3         3     3   \n",
       "KATEY FORTH           3           3         3       3         3     3   \n",
       "KATY CRALEY           2           2         2       2         2     2   \n",
       "LAUREN SADLER         3           3         3       3         3     3   \n",
       "LEILA TUNNELL         3           3         3       3         3     3   \n",
       "LIEN HOFFMANN         3           3         3       3         3     3   \n",
       "MAGGIE RUDEN          5           5         5       4         5     5   \n",
       "MIRA WALKER           3           3         3       3         3     3   \n",
       "OCTAVIA PAYNE         4           4         4       3         4     4   \n",
       "ROHRE TITCOMB         4           4         4       3         4     4   \n",
       "SARAH GRIFFITH        5           5         5       3         5     5   \n",
       "TINA SNODGRASS        1           1         1       1         1     1   \n",
       "\n",
       "                  wugc16_tryouts  Team_WUGC16  \n",
       "Name                                           \n",
       "ALEX SNYDER                    6            6  \n",
       "AMBER SINICROPE                2            2  \n",
       "ANNA NAZAROV                   5            5  \n",
       "CALISE CARDENAS                4            4  \n",
       "CLAIRE CHASTAIN                3            3  \n",
       "CLAIRE DESMOND                 5            5  \n",
       "DENA SLATTERY                  3            3  \n",
       "GEORGIA BOSSCHER               4            4  \n",
       "HANA KAWAI                     4            4  \n",
       "JENNY FEY                      2            2  \n",
       "KAELA JORGENSON                5            5  \n",
       "KAMI GROOM                     3            3  \n",
       "KATEY FORTH                    3            3  \n",
       "KATY CRALEY                    2            2  \n",
       "LAUREN SADLER                  3            3  \n",
       "LEILA TUNNELL                  3            3  \n",
       "LIEN HOFFMANN                  3            3  \n",
       "MAGGIE RUDEN                   5            5  \n",
       "MIRA WALKER                    3            3  \n",
       "OCTAVIA PAYNE                  4            4  \n",
       "ROHRE TITCOMB                  4            4  \n",
       "SARAH GRIFFITH                 5            5  \n",
       "TINA SNODGRASS                 1            1  "
      ]
     },
     "execution_count": 269,
     "metadata": {},
     "output_type": "execute_result"
    }
   ],
   "source": [
    "us_female_stats[us_female_stats.Team_WUGC16 == 1].groupby('Name').count()"
   ]
  },
  {
   "cell_type": "code",
   "execution_count": 271,
   "metadata": {
    "collapsed": false
   },
   "outputs": [],
   "source": [
    "## Drop Team_Num\n",
    "us_female_stats.drop(\"Team_Num\", axis=1, inplace=True)"
   ]
  },
  {
   "cell_type": "code",
   "execution_count": 203,
   "metadata": {
    "collapsed": true
   },
   "outputs": [],
   "source": [
    "player_stats.rename(columns={'Team_TABBY ROSA':'Team_TABBYROSA', 'Team_BRUTE SQUAD':'Team_BRUTESQUAD', 'Team_GREEN MEANS GO':'Team_GREENMEANSGO', 'Team_MOLLY BROWN':'Team_MOLLYBROWN', 'Team_TEAM USA':'Team_TEAMUSA', 'Team_TABBY ROSA':'Team_TABBYROSA'}, inplace=True)"
   ]
  },
  {
   "cell_type": "code",
   "execution_count": 204,
   "metadata": {
    "collapsed": false
   },
   "outputs": [
    {
     "data": {
      "text/html": [
       "<div>\n",
       "<table border=\"1\" class=\"dataframe\">\n",
       "  <thead>\n",
       "    <tr style=\"text-align: right;\">\n",
       "      <th></th>\n",
       "      <th>Name</th>\n",
       "      <th>Goal</th>\n",
       "      <th>GPG</th>\n",
       "      <th>Assist</th>\n",
       "      <th>APG</th>\n",
       "      <th>Block</th>\n",
       "      <th>BPG</th>\n",
       "      <th>Turn</th>\n",
       "      <th>TPG</th>\n",
       "      <th>Games</th>\n",
       "      <th>...</th>\n",
       "      <th>Team_PHOENIX</th>\n",
       "      <th>Team_RIOT</th>\n",
       "      <th>Team_SCANDAL</th>\n",
       "      <th>Team_SCHWA</th>\n",
       "      <th>Team_SHOWDOWN</th>\n",
       "      <th>Team_TABBYROSA</th>\n",
       "      <th>Team_TEAMUSA</th>\n",
       "      <th>Team_UNDERGROUND</th>\n",
       "      <th>wugc16_tryouts</th>\n",
       "      <th>Team_WUGC16</th>\n",
       "    </tr>\n",
       "  </thead>\n",
       "  <tbody>\n",
       "    <tr>\n",
       "      <th>0</th>\n",
       "      <td>ABBEY HEWITT</td>\n",
       "      <td>16</td>\n",
       "      <td>3.2</td>\n",
       "      <td>3</td>\n",
       "      <td>0.6</td>\n",
       "      <td>NaN</td>\n",
       "      <td>NaN</td>\n",
       "      <td>NaN</td>\n",
       "      <td>NaN</td>\n",
       "      <td>5</td>\n",
       "      <td>...</td>\n",
       "      <td>0</td>\n",
       "      <td>0</td>\n",
       "      <td>0</td>\n",
       "      <td>0</td>\n",
       "      <td>0</td>\n",
       "      <td>0</td>\n",
       "      <td>0</td>\n",
       "      <td>0</td>\n",
       "      <td>0</td>\n",
       "      <td>0</td>\n",
       "    </tr>\n",
       "  </tbody>\n",
       "</table>\n",
       "<p>1 rows × 32 columns</p>\n",
       "</div>"
      ],
      "text/plain": [
       "           Name  Goal  GPG  Assist  APG  Block  BPG  Turn  TPG  Games  \\\n",
       "0  ABBEY HEWITT    16  3.2       3  0.6    NaN  NaN   NaN  NaN      5   \n",
       "\n",
       "      ...       Team_PHOENIX  Team_RIOT  Team_SCANDAL  Team_SCHWA  \\\n",
       "0     ...                  0          0             0           0   \n",
       "\n",
       "   Team_SHOWDOWN  Team_TABBYROSA  Team_TEAMUSA  Team_UNDERGROUND  \\\n",
       "0              0               0             0                 0   \n",
       "\n",
       "   wugc16_tryouts  Team_WUGC16  \n",
       "0               0            0  \n",
       "\n",
       "[1 rows x 32 columns]"
      ]
     },
     "execution_count": 204,
     "metadata": {},
     "output_type": "execute_result"
    }
   ],
   "source": [
    "player_stats.head(1)"
   ]
  },
  {
   "cell_type": "markdown",
   "metadata": {},
   "source": [
    "## Save to csv"
   ]
  },
  {
   "cell_type": "code",
   "execution_count": 205,
   "metadata": {
    "collapsed": true
   },
   "outputs": [],
   "source": [
    "# save df as csv\n",
    "player_stats.to_csv('player_stats.csv', sep=',', encoding='utf-8')"
   ]
  },
  {
   "cell_type": "code",
   "execution_count": null,
   "metadata": {
    "collapsed": true
   },
   "outputs": [],
   "source": []
  },
  {
   "cell_type": "code",
   "execution_count": 262,
   "metadata": {
    "collapsed": false
   },
   "outputs": [
    {
     "data": {
      "text/plain": [
       "<matplotlib.axes._subplots.AxesSubplot at 0x11048f990>"
      ]
     },
     "execution_count": 262,
     "metadata": {},
     "output_type": "execute_result"
    },
    {
     "data": {
      "image/png": "[encoded data removed]",
      "text/plain": [
       "<matplotlib.figure.Figure at 0x10f0b4310>"
      ]
     },
     "metadata": {},
     "output_type": "display_data"
    }
   ],
   "source": [
    "sns.boxplot(x=\"Team\", y=\"APG\", data=furyriotusa)"
   ]
  },
  {
   "cell_type": "code",
   "execution_count": 270,
   "metadata": {
    "collapsed": false
   },
   "outputs": [
    {
     "data": {
      "text/plain": [
       "<matplotlib.axes._subplots.AxesSubplot at 0x1136ad210>"
      ]
     },
     "execution_count": 270,
     "metadata": {},
     "output_type": "execute_result"
    },
    {
     "data": {
      "image/png": "[encoded data removed]",
      "text/plain": [
       "<matplotlib.figure.Figure at 0x1145e3150>"
      ]
     },
     "metadata": {},
     "output_type": "display_data"
    },
    {
     "data": {
      "image/png": "[encoded data removed]",
      "text/plain": [
       "<matplotlib.figure.Figure at 0x114fa4790>"
      ]
     },
     "metadata": {},
     "output_type": "display_data"
    },
    {
     "data": {
      "image/png": "[encoded data removed]",
      "text/plain": [
       "<matplotlib.figure.Figure at 0x114d53650>"
      ]
     },
     "metadata": {},
     "output_type": "display_data"
    },
    {
     "data": {
      "image/png": "[encoded data removed]",
      "text/plain": [
       "<matplotlib.figure.Figure at 0x113986a50>"
      ]
     },
     "metadata": {},
     "output_type": "display_data"
    }
   ],
   "source": [
    "mega_stats.boxplot(column='GPG', by='Team')\n",
    "mega_stats.boxplot(column='APG', by='Team')\n",
    "mega_stats.boxplot(column='BPG', by='Team')\n",
    "mega_stats.boxplot(column='TPG', by='Team')"
   ]
  },
  {
   "cell_type": "code",
   "execution_count": 271,
   "metadata": {
    "collapsed": false
   },
   "outputs": [
    {
     "data": {
      "text/plain": [
       "<matplotlib.axes._subplots.AxesSubplot at 0x11459e190>"
      ]
     },
     "execution_count": 271,
     "metadata": {},
     "output_type": "execute_result"
    },
    {
     "data": {
      "image/png": "[encoded data removed]",
      "text/plain": [
       "<matplotlib.figure.Figure at 0x1158ade50>"
      ]
     },
     "metadata": {},
     "output_type": "display_data"
    },
    {
     "data": {
      "image/png": "[encoded data removed]",
      "text/plain": [
       "<matplotlib.figure.Figure at 0x1136ade50>"
      ]
     },
     "metadata": {},
     "output_type": "display_data"
    },
    {
     "data": {
      "image/png": "[encoded data removed]",
      "text/plain": [
       "<matplotlib.figure.Figure at 0x1136ad890>"
      ]
     },
     "metadata": {},
     "output_type": "display_data"
    },
    {
     "data": {
      "image/png": "[encoded data removed]",
      "text/plain": [
       "<matplotlib.figure.Figure at 0x1136ad650>"
      ]
     },
     "metadata": {},
     "output_type": "display_data"
    }
   ],
   "source": [
    "furyriotusa.boxplot(column='GPG', by='Team')\n",
    "furyriotusa.boxplot(column='APG', by='Team')\n",
    "furyriotusa.boxplot(column='TPG', by='Team')\n",
    "furyriotusa.boxplot(column='BPG', by='Team')"
   ]
  },
  {
   "cell_type": "code",
   "execution_count": null,
   "metadata": {
    "collapsed": false
   },
   "outputs": [],
   "source": [
    "sns.boxplot(x=\"Team\",y=\"Goals\",data=stats_13[(stats_13.Team == 'Fury') | (stats_13.Team == 'Riot') | (stats_13.Team == 'Scandal')])"
   ]
  },
  {
   "cell_type": "code",
   "execution_count": null,
   "metadata": {
    "collapsed": false
   },
   "outputs": [],
   "source": [
    "sns.boxplot(x=\"Team\",y=\"Assists\",data=stats_13[(stats_13.Team == 'Fury') | (stats_13.Team == 'Riot') | (stats_13.Team == 'Scandal')])"
   ]
  },
  {
   "cell_type": "code",
   "execution_count": null,
   "metadata": {
    "collapsed": false
   },
   "outputs": [],
   "source": [
    "sns.boxplot(x=\"Team\",y=\"Ds\",data=stats_13[(stats_13.Team == 'Fury') | (stats_13.Team == 'Riot') | (stats_13.Team == 'Scandal')])"
   ]
  },
  {
   "cell_type": "code",
   "execution_count": null,
   "metadata": {
    "collapsed": false
   },
   "outputs": [],
   "source": [
    "sns.boxplot(x=\"Team\",y=\"TOs\",data=stats_13[(stats_13.Team == 'Fury') | (stats_13.Team == 'Riot') | (stats_13.Team == 'Scandal')])"
   ]
  },
  {
   "cell_type": "code",
   "execution_count": 145,
   "metadata": {
    "collapsed": false
   },
   "outputs": [
    {
     "data": {
      "text/plain": [
       "<matplotlib.axes._subplots.AxesSubplot at 0x117217590>"
      ]
     },
     "execution_count": 145,
     "metadata": {},
     "output_type": "execute_result"
    },
    {
     "data": {
      "image/png": "[encoded data removed]",
      "text/plain": [
       "<matplotlib.figure.Figure at 0x116f2f350>"
      ]
     },
     "metadata": {},
     "output_type": "display_data"
    }
   ],
   "source": [
    "sns.distplot(stats_13[stats_13.Team == 'Fury'].Ds,  rug=True)"
   ]
  },
  {
   "cell_type": "code",
   "execution_count": 146,
   "metadata": {
    "collapsed": false
   },
   "outputs": [
    {
     "data": {
      "text/plain": [
       "<matplotlib.axes._subplots.AxesSubplot at 0x118f615d0>"
      ]
     },
     "execution_count": 146,
     "metadata": {},
     "output_type": "execute_result"
    },
    {
     "data": {
      "image/png": "[encoded data removed]",
      "text/plain": [
       "<matplotlib.figure.Figure at 0x116f3b4d0>"
      ]
     },
     "metadata": {},
     "output_type": "display_data"
    }
   ],
   "source": [
    "sns.distplot(stats_13[stats_13.Team == 'Fury'].TOs,  rug=True)"
   ]
  },
  {
   "cell_type": "code",
   "execution_count": 147,
   "metadata": {
    "collapsed": false
   },
   "outputs": [
    {
     "data": {
      "text/plain": [
       "<matplotlib.axes._subplots.AxesSubplot at 0x11266f3d0>"
      ]
     },
     "execution_count": 147,
     "metadata": {},
     "output_type": "execute_result"
    },
    {
     "data": {
      "image/png": "[encoded data removed]",
      "text/plain": [
       "<matplotlib.figure.Figure at 0x117b97e90>"
      ]
     },
     "metadata": {},
     "output_type": "display_data"
    }
   ],
   "source": [
    "sns.distplot(stats_13[stats_13.Team == 'Riot'].Ds,  rug=True)"
   ]
  },
  {
   "cell_type": "code",
   "execution_count": 148,
   "metadata": {
    "collapsed": false
   },
   "outputs": [
    {
     "data": {
      "text/plain": [
       "<matplotlib.axes._subplots.AxesSubplot at 0x108dbce10>"
      ]
     },
     "execution_count": 148,
     "metadata": {},
     "output_type": "execute_result"
    },
    {
     "data": {
      "image/png": "[encoded data removed]",
      "text/plain": [
       "<matplotlib.figure.Figure at 0x116f3b510>"
      ]
     },
     "metadata": {},
     "output_type": "display_data"
    }
   ],
   "source": [
    "sns.distplot(stats_13[stats_13.Team == 'Riot'].TOs,  rug=True)"
   ]
  },
  {
   "cell_type": "code",
   "execution_count": 149,
   "metadata": {
    "collapsed": false
   },
   "outputs": [
    {
     "data": {
      "text/plain": [
       "<seaborn.axisgrid.JointGrid at 0x118a07dd0>"
      ]
     },
     "execution_count": 149,
     "metadata": {},
     "output_type": "execute_result"
    },
    {
     "data": {
      "image/png": "[encoded data removed]",
      "text/plain": [
       "<matplotlib.figure.Figure at 0x117e45e50>"
      ]
     },
     "metadata": {},
     "output_type": "display_data"
    }
   ],
   "source": [
    "sns.jointplot(\"Goals\",\"Assists\",data=stats_13[stats_13.Team == 'Fury'], kind='kde')"
   ]
  },
  {
   "cell_type": "code",
   "execution_count": 150,
   "metadata": {
    "collapsed": false
   },
   "outputs": [
    {
     "data": {
      "text/plain": [
       "<seaborn.axisgrid.JointGrid at 0x1183bde10>"
      ]
     },
     "execution_count": 150,
     "metadata": {},
     "output_type": "execute_result"
    },
    {
     "data": {
      "image/png": "[encoded data removed]",
      "text/plain": [
       "<matplotlib.figure.Figure at 0x1183bddd0>"
      ]
     },
     "metadata": {},
     "output_type": "display_data"
    }
   ],
   "source": [
    "sns.jointplot(\"Goals\",\"Assists\",data=stats_13[stats_13.Team == 'Riot'], kind='kde')"
   ]
  },
  {
   "cell_type": "code",
   "execution_count": 151,
   "metadata": {
    "collapsed": false
   },
   "outputs": [
    {
     "data": {
      "text/plain": [
       "<seaborn.axisgrid.JointGrid at 0x1188cbb10>"
      ]
     },
     "execution_count": 151,
     "metadata": {},
     "output_type": "execute_result"
    },
    {
     "data": {
      "image/png": "[encoded data removed]",
      "text/plain": [
       "<matplotlib.figure.Figure at 0x1188cbb50>"
      ]
     },
     "metadata": {},
     "output_type": "display_data"
    }
   ],
   "source": [
    "sns.jointplot(\"Goals\",\"Assists\",data=stats_13[stats_13.Team == 'Scandal'], kind='kde')"
   ]
  },
  {
   "cell_type": "code",
   "execution_count": 152,
   "metadata": {
    "collapsed": false
   },
   "outputs": [
    {
     "data": {
      "text/plain": [
       "<matplotlib.axes._subplots.AxesSubplot at 0x1183f9390>"
      ]
     },
     "execution_count": 152,
     "metadata": {},
     "output_type": "execute_result"
    },
    {
     "data": {
      "image/png": "[encoded data removed]",
      "text/plain": [
       "<matplotlib.figure.Figure at 0x11868b650>"
      ]
     },
     "metadata": {},
     "output_type": "display_data"
    }
   ],
   "source": [
    "# stats_15[stats_15.Team == 'Fury'].Goals.plot(kind=\"hist\")\n",
    "sns.distplot(stats_15[stats_15.Team == 'Fury'].Goals,  rug=True)"
   ]
  },
  {
   "cell_type": "code",
   "execution_count": 153,
   "metadata": {
    "collapsed": false
   },
   "outputs": [
    {
     "data": {
      "text/plain": [
       "<matplotlib.axes._subplots.AxesSubplot at 0x118790e90>"
      ]
     },
     "execution_count": 153,
     "metadata": {},
     "output_type": "execute_result"
    },
    {
     "data": {
      "image/png": "[encoded data removed]",
      "text/plain": [
       "<matplotlib.figure.Figure at 0x1187b8510>"
      ]
     },
     "metadata": {},
     "output_type": "display_data"
    }
   ],
   "source": [
    "# stats_15[stats_15.Team == 'Scandal'].Goals.plot(kind=\"hist\")\n",
    "sns.distplot(stats_15[stats_15.Team == 'Scandal'].Goals,  rug=True)"
   ]
  },
  {
   "cell_type": "code",
   "execution_count": 154,
   "metadata": {
    "collapsed": false
   },
   "outputs": [
    {
     "data": {
      "text/plain": [
       "<matplotlib.axes._subplots.AxesSubplot at 0x117eec650>"
      ]
     },
     "execution_count": 154,
     "metadata": {},
     "output_type": "execute_result"
    },
    {
     "data": {
      "image/png": "[encoded data removed]",
      "text/plain": [
       "<matplotlib.figure.Figure at 0x1178c2dd0>"
      ]
     },
     "metadata": {},
     "output_type": "display_data"
    }
   ],
   "source": [
    "# stats_14[stats_14.Team == 'Fury'].Goals.plot(kind=\"hist\")\n",
    "sns.distplot(stats_14[stats_14.Team == 'Fury'].Goals,  rug=True)"
   ]
  },
  {
   "cell_type": "code",
   "execution_count": 155,
   "metadata": {
    "collapsed": false
   },
   "outputs": [
    {
     "data": {
      "text/plain": [
       "<matplotlib.axes._subplots.AxesSubplot at 0x117d2a350>"
      ]
     },
     "execution_count": 155,
     "metadata": {},
     "output_type": "execute_result"
    },
    {
     "data": {
      "image/png": "[encoded data removed]",
      "text/plain": [
       "<matplotlib.figure.Figure at 0x117c6fc50>"
      ]
     },
     "metadata": {},
     "output_type": "display_data"
    }
   ],
   "source": [
    "# stats_14[stats_14.Team == 'Scandal'].Goals.plot(kind=\"hist\")\n",
    "sns.distplot(stats_14[stats_14.Team == 'Scandal'].Goals,  rug=True)"
   ]
  },
  {
   "cell_type": "code",
   "execution_count": 156,
   "metadata": {
    "collapsed": false
   },
   "outputs": [
    {
     "data": {
      "text/plain": [
       "<seaborn.axisgrid.JointGrid at 0x118ef4090>"
      ]
     },
     "execution_count": 156,
     "metadata": {},
     "output_type": "execute_result"
    },
    {
     "data": {
      "image/png": "[encoded data removed]",
      "text/plain": [
       "<matplotlib.figure.Figure at 0x118ec3d10>"
      ]
     },
     "metadata": {},
     "output_type": "display_data"
    }
   ],
   "source": [
    "sns.jointplot(\"Goals\",\"Assists\",data=stats_14[stats_14.Team == 'Fury'], kind='kde')"
   ]
  },
  {
   "cell_type": "code",
   "execution_count": 157,
   "metadata": {
    "collapsed": false
   },
   "outputs": [
    {
     "data": {
      "text/plain": [
       "<seaborn.axisgrid.JointGrid at 0x11b56a290>"
      ]
     },
     "execution_count": 157,
     "metadata": {},
     "output_type": "execute_result"
    },
    {
     "data": {
      "image/png": "[encoded data removed]",
      "text/plain": [
       "<matplotlib.figure.Figure at 0x11b56ab50>"
      ]
     },
     "metadata": {},
     "output_type": "display_data"
    }
   ],
   "source": [
    "sns.jointplot(\"Goals\",\"Assists\",data=stats_14[stats_14.Team == 'Scandal'], kind='kde')"
   ]
  },
  {
   "cell_type": "code",
   "execution_count": 158,
   "metadata": {
    "collapsed": false
   },
   "outputs": [
    {
     "data": {
      "text/plain": [
       "<seaborn.axisgrid.JointGrid at 0x11b859750>"
      ]
     },
     "execution_count": 158,
     "metadata": {},
     "output_type": "execute_result"
    },
    {
     "data": {
      "image/png": "[encoded data removed]",
      "text/plain": [
       "<matplotlib.figure.Figure at 0x11b8592d0>"
      ]
     },
     "metadata": {},
     "output_type": "display_data"
    }
   ],
   "source": [
    "sns.jointplot(\"Goals\",\"Assists\",data=stats_14[stats_14.Team == 'Riot'], kind='kde')"
   ]
  },
  {
   "cell_type": "code",
   "execution_count": 159,
   "metadata": {
    "collapsed": false
   },
   "outputs": [
    {
     "data": {
      "text/plain": [
       "<seaborn.axisgrid.JointGrid at 0x11bc4e5d0>"
      ]
     },
     "execution_count": 159,
     "metadata": {},
     "output_type": "execute_result"
    },
    {
     "data": {
      "image/png": "[encoded data removed]",
      "text/plain": [
       "<matplotlib.figure.Figure at 0x11bc4e650>"
      ]
     },
     "metadata": {},
     "output_type": "display_data"
    }
   ],
   "source": [
    "sns.jointplot(\"Goals\",\"Assists\",data=stats_15[stats_15.Team == 'Fury'], kind='kde')"
   ]
  },
  {
   "cell_type": "code",
   "execution_count": 160,
   "metadata": {
    "collapsed": false
   },
   "outputs": [
    {
     "data": {
      "text/plain": [
       "<seaborn.axisgrid.JointGrid at 0x11c122810>"
      ]
     },
     "execution_count": 160,
     "metadata": {},
     "output_type": "execute_result"
    },
    {
     "data": {
      "image/png": "[encoded data removed]",
      "text/plain": [
       "<matplotlib.figure.Figure at 0x11c1225d0>"
      ]
     },
     "metadata": {},
     "output_type": "display_data"
    }
   ],
   "source": [
    "sns.jointplot(\"Goals\",\"Assists\",data=stats_15[stats_15.Team == 'Scandal'], kind='kde')"
   ]
  },
  {
   "cell_type": "code",
   "execution_count": 161,
   "metadata": {
    "collapsed": false
   },
   "outputs": [
    {
     "data": {
      "text/plain": [
       "<seaborn.axisgrid.JointGrid at 0x11c874310>"
      ]
     },
     "execution_count": 161,
     "metadata": {},
     "output_type": "execute_result"
    },
    {
     "data": {
      "image/png": "[encoded data removed]",
      "text/plain": [
       "<matplotlib.figure.Figure at 0x11c874290>"
      ]
     },
     "metadata": {},
     "output_type": "display_data"
    }
   ],
   "source": [
    "sns.jointplot(\"Goals\",\"Assists\",data=stats_15[stats_15.Team == 'Seattle Riot'], kind='kde')"
   ]
  },
  {
   "cell_type": "code",
   "execution_count": 162,
   "metadata": {
    "collapsed": false
   },
   "outputs": [
    {
     "data": {
      "text/plain": [
       "Green Means Go    27\n",
       "Heist             27\n",
       "Showdown          26\n",
       "Fury              26\n",
       "Riot              26\n",
       "Nightlock         26\n",
       "Brute Squad       26\n",
       "Schwa             25\n",
       "Scandal           24\n",
       "Traffic           24\n",
       "Underground       24\n",
       "Molly Brown       23\n",
       "Capitals          23\n",
       "Nemesis           23\n",
       "Ozone             22\n",
       "Tabby Rosa        19\n",
       "Name: Team, dtype: int64"
      ]
     },
     "execution_count": 162,
     "metadata": {},
     "output_type": "execute_result"
    }
   ],
   "source": [
    "stats_14.Team.value_counts()"
   ]
  },
  {
   "cell_type": "code",
   "execution_count": 163,
   "metadata": {
    "collapsed": false
   },
   "outputs": [],
   "source": [
    "stats_14['Team_num'] = stats_14.Team.map({'Fury':0, 'Riot':1, 'Scandal':2})"
   ]
  },
  {
   "cell_type": "code",
   "execution_count": 164,
   "metadata": {
    "collapsed": false
   },
   "outputs": [
    {
     "ename": "ValueError",
     "evalue": "to_rgba: Invalid rgba arg \"T\"\nto_rgb: Invalid rgb arg \"T\"\ncould not convert string to float: t",
     "output_type": "error",
     "traceback": [
      "\u001b[0;31m---------------------------------------------------------------------------\u001b[0m",
      "\u001b[0;31mValueError\u001b[0m                                Traceback (most recent call last)",
      "\u001b[0;32m<ipython-input-164-6712bf423823>\u001b[0m in \u001b[0;36m<module>\u001b[0;34m()\u001b[0m\n\u001b[1;32m      5\u001b[0m \u001b[0;34m\u001b[0m\u001b[0m\n\u001b[1;32m      6\u001b[0m \u001b[0;31m# create a scatter plot of PETAL LENGTH versus PETAL WIDTH and color by SPECIES\u001b[0m\u001b[0;34m\u001b[0m\u001b[0;34m\u001b[0m\u001b[0m\n\u001b[0;32m----> 7\u001b[0;31m \u001b[0mstats_14\u001b[0m\u001b[0;34m[\u001b[0m\u001b[0;34m(\u001b[0m\u001b[0mstats_14\u001b[0m\u001b[0;34m.\u001b[0m\u001b[0mTeam\u001b[0m \u001b[0;34m==\u001b[0m \u001b[0;34m'Fury'\u001b[0m\u001b[0;34m)\u001b[0m \u001b[0;34m|\u001b[0m \u001b[0;34m(\u001b[0m\u001b[0mstats_14\u001b[0m\u001b[0;34m.\u001b[0m\u001b[0mTeam\u001b[0m \u001b[0;34m==\u001b[0m \u001b[0;34m'Riot'\u001b[0m\u001b[0;34m)\u001b[0m \u001b[0;34m|\u001b[0m \u001b[0;34m(\u001b[0m\u001b[0mstats_14\u001b[0m\u001b[0;34m.\u001b[0m\u001b[0mTeam\u001b[0m \u001b[0;34m==\u001b[0m \u001b[0;34m'Scandal'\u001b[0m\u001b[0;34m)\u001b[0m\u001b[0;34m]\u001b[0m\u001b[0;34m.\u001b[0m\u001b[0mplot\u001b[0m\u001b[0;34m(\u001b[0m\u001b[0mkind\u001b[0m\u001b[0;34m=\u001b[0m\u001b[0;34m\"scatter\"\u001b[0m\u001b[0;34m,\u001b[0m\u001b[0mx\u001b[0m\u001b[0;34m=\u001b[0m\u001b[0;34m\"Goals\"\u001b[0m\u001b[0;34m,\u001b[0m\u001b[0my\u001b[0m\u001b[0;34m=\u001b[0m\u001b[0;34m\"Assists\"\u001b[0m\u001b[0;34m,\u001b[0m\u001b[0mc\u001b[0m\u001b[0;34m=\u001b[0m\u001b[0;34m\"Team\"\u001b[0m\u001b[0;34m,\u001b[0m\u001b[0mcmap\u001b[0m\u001b[0;34m=\u001b[0m\u001b[0mcol_map\u001b[0m\u001b[0;34m)\u001b[0m\u001b[0;34m\u001b[0m\u001b[0m\n\u001b[0m",
      "\u001b[0;32m/Users/octaviapayne/anaconda/lib/python2.7/site-packages/pandas/tools/plotting.pyc\u001b[0m in \u001b[0;36m__call__\u001b[0;34m(self, x, y, kind, ax, subplots, sharex, sharey, layout, figsize, use_index, title, grid, legend, style, logx, logy, loglog, xticks, yticks, xlim, ylim, rot, fontsize, colormap, table, yerr, xerr, secondary_y, sort_columns, **kwds)\u001b[0m\n\u001b[1;32m   3669\u001b[0m                           \u001b[0mfontsize\u001b[0m\u001b[0;34m=\u001b[0m\u001b[0mfontsize\u001b[0m\u001b[0;34m,\u001b[0m \u001b[0mcolormap\u001b[0m\u001b[0;34m=\u001b[0m\u001b[0mcolormap\u001b[0m\u001b[0;34m,\u001b[0m \u001b[0mtable\u001b[0m\u001b[0;34m=\u001b[0m\u001b[0mtable\u001b[0m\u001b[0;34m,\u001b[0m\u001b[0;34m\u001b[0m\u001b[0m\n\u001b[1;32m   3670\u001b[0m                           \u001b[0myerr\u001b[0m\u001b[0;34m=\u001b[0m\u001b[0myerr\u001b[0m\u001b[0;34m,\u001b[0m \u001b[0mxerr\u001b[0m\u001b[0;34m=\u001b[0m\u001b[0mxerr\u001b[0m\u001b[0;34m,\u001b[0m \u001b[0msecondary_y\u001b[0m\u001b[0;34m=\u001b[0m\u001b[0msecondary_y\u001b[0m\u001b[0;34m,\u001b[0m\u001b[0;34m\u001b[0m\u001b[0m\n\u001b[0;32m-> 3671\u001b[0;31m                           sort_columns=sort_columns, **kwds)\n\u001b[0m\u001b[1;32m   3672\u001b[0m     \u001b[0m__call__\u001b[0m\u001b[0;34m.\u001b[0m\u001b[0m__doc__\u001b[0m \u001b[0;34m=\u001b[0m \u001b[0mplot_frame\u001b[0m\u001b[0;34m.\u001b[0m\u001b[0m__doc__\u001b[0m\u001b[0;34m\u001b[0m\u001b[0m\n\u001b[1;32m   3673\u001b[0m \u001b[0;34m\u001b[0m\u001b[0m\n",
      "\u001b[0;32m/Users/octaviapayne/anaconda/lib/python2.7/site-packages/pandas/tools/plotting.pyc\u001b[0m in \u001b[0;36mplot_frame\u001b[0;34m(data, x, y, kind, ax, subplots, sharex, sharey, layout, figsize, use_index, title, grid, legend, style, logx, logy, loglog, xticks, yticks, xlim, ylim, rot, fontsize, colormap, table, yerr, xerr, secondary_y, sort_columns, **kwds)\u001b[0m\n\u001b[1;32m   2554\u001b[0m                  \u001b[0myerr\u001b[0m\u001b[0;34m=\u001b[0m\u001b[0myerr\u001b[0m\u001b[0;34m,\u001b[0m \u001b[0mxerr\u001b[0m\u001b[0;34m=\u001b[0m\u001b[0mxerr\u001b[0m\u001b[0;34m,\u001b[0m\u001b[0;34m\u001b[0m\u001b[0m\n\u001b[1;32m   2555\u001b[0m                  \u001b[0msecondary_y\u001b[0m\u001b[0;34m=\u001b[0m\u001b[0msecondary_y\u001b[0m\u001b[0;34m,\u001b[0m \u001b[0msort_columns\u001b[0m\u001b[0;34m=\u001b[0m\u001b[0msort_columns\u001b[0m\u001b[0;34m,\u001b[0m\u001b[0;34m\u001b[0m\u001b[0m\n\u001b[0;32m-> 2556\u001b[0;31m                  **kwds)\n\u001b[0m\u001b[1;32m   2557\u001b[0m \u001b[0;34m\u001b[0m\u001b[0m\n\u001b[1;32m   2558\u001b[0m \u001b[0;34m\u001b[0m\u001b[0m\n",
      "\u001b[0;32m/Users/octaviapayne/anaconda/lib/python2.7/site-packages/pandas/tools/plotting.pyc\u001b[0m in \u001b[0;36m_plot\u001b[0;34m(data, x, y, subplots, ax, kind, **kwds)\u001b[0m\n\u001b[1;32m   2382\u001b[0m         \u001b[0mplot_obj\u001b[0m \u001b[0;34m=\u001b[0m \u001b[0mklass\u001b[0m\u001b[0;34m(\u001b[0m\u001b[0mdata\u001b[0m\u001b[0;34m,\u001b[0m \u001b[0msubplots\u001b[0m\u001b[0;34m=\u001b[0m\u001b[0msubplots\u001b[0m\u001b[0;34m,\u001b[0m \u001b[0max\u001b[0m\u001b[0;34m=\u001b[0m\u001b[0max\u001b[0m\u001b[0;34m,\u001b[0m \u001b[0mkind\u001b[0m\u001b[0;34m=\u001b[0m\u001b[0mkind\u001b[0m\u001b[0;34m,\u001b[0m \u001b[0;34m**\u001b[0m\u001b[0mkwds\u001b[0m\u001b[0;34m)\u001b[0m\u001b[0;34m\u001b[0m\u001b[0m\n\u001b[1;32m   2383\u001b[0m \u001b[0;34m\u001b[0m\u001b[0m\n\u001b[0;32m-> 2384\u001b[0;31m     \u001b[0mplot_obj\u001b[0m\u001b[0;34m.\u001b[0m\u001b[0mgenerate\u001b[0m\u001b[0;34m(\u001b[0m\u001b[0;34m)\u001b[0m\u001b[0;34m\u001b[0m\u001b[0m\n\u001b[0m\u001b[1;32m   2385\u001b[0m     \u001b[0mplot_obj\u001b[0m\u001b[0;34m.\u001b[0m\u001b[0mdraw\u001b[0m\u001b[0;34m(\u001b[0m\u001b[0;34m)\u001b[0m\u001b[0;34m\u001b[0m\u001b[0m\n\u001b[1;32m   2386\u001b[0m     \u001b[0;32mreturn\u001b[0m \u001b[0mplot_obj\u001b[0m\u001b[0;34m.\u001b[0m\u001b[0mresult\u001b[0m\u001b[0;34m\u001b[0m\u001b[0m\n",
      "\u001b[0;32m/Users/octaviapayne/anaconda/lib/python2.7/site-packages/pandas/tools/plotting.pyc\u001b[0m in \u001b[0;36mgenerate\u001b[0;34m(self)\u001b[0m\n\u001b[1;32m    985\u001b[0m         \u001b[0mself\u001b[0m\u001b[0;34m.\u001b[0m\u001b[0m_compute_plot_data\u001b[0m\u001b[0;34m(\u001b[0m\u001b[0;34m)\u001b[0m\u001b[0;34m\u001b[0m\u001b[0m\n\u001b[1;32m    986\u001b[0m         \u001b[0mself\u001b[0m\u001b[0;34m.\u001b[0m\u001b[0m_setup_subplots\u001b[0m\u001b[0;34m(\u001b[0m\u001b[0;34m)\u001b[0m\u001b[0;34m\u001b[0m\u001b[0m\n\u001b[0;32m--> 987\u001b[0;31m         \u001b[0mself\u001b[0m\u001b[0;34m.\u001b[0m\u001b[0m_make_plot\u001b[0m\u001b[0;34m(\u001b[0m\u001b[0;34m)\u001b[0m\u001b[0;34m\u001b[0m\u001b[0m\n\u001b[0m\u001b[1;32m    988\u001b[0m         \u001b[0mself\u001b[0m\u001b[0;34m.\u001b[0m\u001b[0m_add_table\u001b[0m\u001b[0;34m(\u001b[0m\u001b[0;34m)\u001b[0m\u001b[0;34m\u001b[0m\u001b[0m\n\u001b[1;32m    989\u001b[0m         \u001b[0mself\u001b[0m\u001b[0;34m.\u001b[0m\u001b[0m_make_legend\u001b[0m\u001b[0;34m(\u001b[0m\u001b[0;34m)\u001b[0m\u001b[0;34m\u001b[0m\u001b[0m\n",
      "\u001b[0;32m/Users/octaviapayne/anaconda/lib/python2.7/site-packages/pandas/tools/plotting.pyc\u001b[0m in \u001b[0;36m_make_plot\u001b[0;34m(self)\u001b[0m\n\u001b[1;32m   1557\u001b[0m             \u001b[0mlabel\u001b[0m \u001b[0;34m=\u001b[0m \u001b[0mNone\u001b[0m\u001b[0;34m\u001b[0m\u001b[0m\n\u001b[1;32m   1558\u001b[0m         scatter = ax.scatter(data[x].values, data[y].values, c=c_values,\n\u001b[0;32m-> 1559\u001b[0;31m                              label=label, cmap=cmap, **self.kwds)\n\u001b[0m\u001b[1;32m   1560\u001b[0m         \u001b[0;32mif\u001b[0m \u001b[0mcb\u001b[0m\u001b[0;34m:\u001b[0m\u001b[0;34m\u001b[0m\u001b[0m\n\u001b[1;32m   1561\u001b[0m             \u001b[0mimg\u001b[0m \u001b[0;34m=\u001b[0m \u001b[0max\u001b[0m\u001b[0;34m.\u001b[0m\u001b[0mcollections\u001b[0m\u001b[0;34m[\u001b[0m\u001b[0;36m0\u001b[0m\u001b[0;34m]\u001b[0m\u001b[0;34m\u001b[0m\u001b[0m\n",
      "\u001b[0;32m/Users/octaviapayne/anaconda/lib/python2.7/site-packages/matplotlib/__init__.pyc\u001b[0m in \u001b[0;36minner\u001b[0;34m(ax, *args, **kwargs)\u001b[0m\n\u001b[1;32m   1809\u001b[0m                     warnings.warn(msg % (label_namer, func.__name__),\n\u001b[1;32m   1810\u001b[0m                                   RuntimeWarning, stacklevel=2)\n\u001b[0;32m-> 1811\u001b[0;31m             \u001b[0;32mreturn\u001b[0m \u001b[0mfunc\u001b[0m\u001b[0;34m(\u001b[0m\u001b[0max\u001b[0m\u001b[0;34m,\u001b[0m \u001b[0;34m*\u001b[0m\u001b[0margs\u001b[0m\u001b[0;34m,\u001b[0m \u001b[0;34m**\u001b[0m\u001b[0mkwargs\u001b[0m\u001b[0;34m)\u001b[0m\u001b[0;34m\u001b[0m\u001b[0m\n\u001b[0m\u001b[1;32m   1812\u001b[0m         \u001b[0mpre_doc\u001b[0m \u001b[0;34m=\u001b[0m \u001b[0minner\u001b[0m\u001b[0;34m.\u001b[0m\u001b[0m__doc__\u001b[0m\u001b[0;34m\u001b[0m\u001b[0m\n\u001b[1;32m   1813\u001b[0m         \u001b[0;32mif\u001b[0m \u001b[0mpre_doc\u001b[0m \u001b[0;32mis\u001b[0m \u001b[0mNone\u001b[0m\u001b[0;34m:\u001b[0m\u001b[0;34m\u001b[0m\u001b[0m\n",
      "\u001b[0;32m/Users/octaviapayne/anaconda/lib/python2.7/site-packages/matplotlib/axes/_axes.pyc\u001b[0m in \u001b[0;36mscatter\u001b[0;34m(self, x, y, s, c, marker, cmap, norm, vmin, vmax, alpha, linewidths, verts, edgecolors, **kwargs)\u001b[0m\n\u001b[1;32m   3887\u001b[0m                 \u001b[0moffsets\u001b[0m\u001b[0;34m=\u001b[0m\u001b[0moffsets\u001b[0m\u001b[0;34m,\u001b[0m\u001b[0;34m\u001b[0m\u001b[0m\n\u001b[1;32m   3888\u001b[0m                 \u001b[0mtransOffset\u001b[0m\u001b[0;34m=\u001b[0m\u001b[0mkwargs\u001b[0m\u001b[0;34m.\u001b[0m\u001b[0mpop\u001b[0m\u001b[0;34m(\u001b[0m\u001b[0;34m'transform'\u001b[0m\u001b[0;34m,\u001b[0m \u001b[0mself\u001b[0m\u001b[0;34m.\u001b[0m\u001b[0mtransData\u001b[0m\u001b[0;34m)\u001b[0m\u001b[0;34m,\u001b[0m\u001b[0;34m\u001b[0m\u001b[0m\n\u001b[0;32m-> 3889\u001b[0;31m                 \u001b[0malpha\u001b[0m\u001b[0;34m=\u001b[0m\u001b[0malpha\u001b[0m\u001b[0;34m\u001b[0m\u001b[0m\n\u001b[0m\u001b[1;32m   3890\u001b[0m                 )\n\u001b[1;32m   3891\u001b[0m         \u001b[0mcollection\u001b[0m\u001b[0;34m.\u001b[0m\u001b[0mset_transform\u001b[0m\u001b[0;34m(\u001b[0m\u001b[0mmtransforms\u001b[0m\u001b[0;34m.\u001b[0m\u001b[0mIdentityTransform\u001b[0m\u001b[0;34m(\u001b[0m\u001b[0;34m)\u001b[0m\u001b[0;34m)\u001b[0m\u001b[0;34m\u001b[0m\u001b[0m\n",
      "\u001b[0;32m/Users/octaviapayne/anaconda/lib/python2.7/site-packages/matplotlib/collections.pyc\u001b[0m in \u001b[0;36m__init__\u001b[0;34m(self, paths, sizes, **kwargs)\u001b[0m\n\u001b[1;32m    829\u001b[0m         \"\"\"\n\u001b[1;32m    830\u001b[0m \u001b[0;34m\u001b[0m\u001b[0m\n\u001b[0;32m--> 831\u001b[0;31m         \u001b[0mCollection\u001b[0m\u001b[0;34m.\u001b[0m\u001b[0m__init__\u001b[0m\u001b[0;34m(\u001b[0m\u001b[0mself\u001b[0m\u001b[0;34m,\u001b[0m \u001b[0;34m**\u001b[0m\u001b[0mkwargs\u001b[0m\u001b[0;34m)\u001b[0m\u001b[0;34m\u001b[0m\u001b[0m\n\u001b[0m\u001b[1;32m    832\u001b[0m         \u001b[0mself\u001b[0m\u001b[0;34m.\u001b[0m\u001b[0mset_paths\u001b[0m\u001b[0;34m(\u001b[0m\u001b[0mpaths\u001b[0m\u001b[0;34m)\u001b[0m\u001b[0;34m\u001b[0m\u001b[0m\n\u001b[1;32m    833\u001b[0m         \u001b[0mself\u001b[0m\u001b[0;34m.\u001b[0m\u001b[0mset_sizes\u001b[0m\u001b[0;34m(\u001b[0m\u001b[0msizes\u001b[0m\u001b[0;34m)\u001b[0m\u001b[0;34m\u001b[0m\u001b[0m\n",
      "\u001b[0;32m/Users/octaviapayne/anaconda/lib/python2.7/site-packages/matplotlib/collections.pyc\u001b[0m in \u001b[0;36m__init__\u001b[0;34m(self, edgecolors, facecolors, linewidths, linestyles, antialiaseds, offsets, transOffset, norm, cmap, pickradius, hatch, urls, offset_position, zorder, **kwargs)\u001b[0m\n\u001b[1;32m    115\u001b[0m \u001b[0;34m\u001b[0m\u001b[0m\n\u001b[1;32m    116\u001b[0m         \u001b[0mself\u001b[0m\u001b[0;34m.\u001b[0m\u001b[0mset_edgecolor\u001b[0m\u001b[0;34m(\u001b[0m\u001b[0medgecolors\u001b[0m\u001b[0;34m)\u001b[0m\u001b[0;34m\u001b[0m\u001b[0m\n\u001b[0;32m--> 117\u001b[0;31m         \u001b[0mself\u001b[0m\u001b[0;34m.\u001b[0m\u001b[0mset_facecolor\u001b[0m\u001b[0;34m(\u001b[0m\u001b[0mfacecolors\u001b[0m\u001b[0;34m)\u001b[0m\u001b[0;34m\u001b[0m\u001b[0m\n\u001b[0m\u001b[1;32m    118\u001b[0m         \u001b[0mself\u001b[0m\u001b[0;34m.\u001b[0m\u001b[0mset_linewidth\u001b[0m\u001b[0;34m(\u001b[0m\u001b[0mlinewidths\u001b[0m\u001b[0;34m)\u001b[0m\u001b[0;34m\u001b[0m\u001b[0m\n\u001b[1;32m    119\u001b[0m         \u001b[0mself\u001b[0m\u001b[0;34m.\u001b[0m\u001b[0mset_linestyle\u001b[0m\u001b[0;34m(\u001b[0m\u001b[0mlinestyles\u001b[0m\u001b[0;34m)\u001b[0m\u001b[0;34m\u001b[0m\u001b[0m\n",
      "\u001b[0;32m/Users/octaviapayne/anaconda/lib/python2.7/site-packages/matplotlib/collections.pyc\u001b[0m in \u001b[0;36mset_facecolor\u001b[0;34m(self, c)\u001b[0m\n\u001b[1;32m    610\u001b[0m             \u001b[0mc\u001b[0m \u001b[0;34m=\u001b[0m \u001b[0mmpl\u001b[0m\u001b[0;34m.\u001b[0m\u001b[0mrcParams\u001b[0m\u001b[0;34m[\u001b[0m\u001b[0;34m'patch.facecolor'\u001b[0m\u001b[0;34m]\u001b[0m\u001b[0;34m\u001b[0m\u001b[0m\n\u001b[1;32m    611\u001b[0m         \u001b[0mself\u001b[0m\u001b[0;34m.\u001b[0m\u001b[0m_facecolors_original\u001b[0m \u001b[0;34m=\u001b[0m \u001b[0mc\u001b[0m\u001b[0;34m\u001b[0m\u001b[0m\n\u001b[0;32m--> 612\u001b[0;31m         \u001b[0mself\u001b[0m\u001b[0;34m.\u001b[0m\u001b[0m_facecolors\u001b[0m \u001b[0;34m=\u001b[0m \u001b[0mmcolors\u001b[0m\u001b[0;34m.\u001b[0m\u001b[0mcolorConverter\u001b[0m\u001b[0;34m.\u001b[0m\u001b[0mto_rgba_array\u001b[0m\u001b[0;34m(\u001b[0m\u001b[0mc\u001b[0m\u001b[0;34m,\u001b[0m \u001b[0mself\u001b[0m\u001b[0;34m.\u001b[0m\u001b[0m_alpha\u001b[0m\u001b[0;34m)\u001b[0m\u001b[0;34m\u001b[0m\u001b[0m\n\u001b[0m\u001b[1;32m    613\u001b[0m         \u001b[0mself\u001b[0m\u001b[0;34m.\u001b[0m\u001b[0mstale\u001b[0m \u001b[0;34m=\u001b[0m \u001b[0mTrue\u001b[0m\u001b[0;34m\u001b[0m\u001b[0m\n\u001b[1;32m    614\u001b[0m \u001b[0;34m\u001b[0m\u001b[0m\n",
      "\u001b[0;32m/Users/octaviapayne/anaconda/lib/python2.7/site-packages/matplotlib/colors.pyc\u001b[0m in \u001b[0;36mto_rgba_array\u001b[0;34m(self, c, alpha)\u001b[0m\n\u001b[1;32m    420\u001b[0m             \u001b[0mresult\u001b[0m \u001b[0;34m=\u001b[0m \u001b[0mnp\u001b[0m\u001b[0;34m.\u001b[0m\u001b[0mzeros\u001b[0m\u001b[0;34m(\u001b[0m\u001b[0;34m(\u001b[0m\u001b[0mnc\u001b[0m\u001b[0;34m,\u001b[0m \u001b[0;36m4\u001b[0m\u001b[0;34m)\u001b[0m\u001b[0;34m,\u001b[0m \u001b[0mdtype\u001b[0m\u001b[0;34m=\u001b[0m\u001b[0mnp\u001b[0m\u001b[0;34m.\u001b[0m\u001b[0mfloat\u001b[0m\u001b[0;34m)\u001b[0m\u001b[0;34m\u001b[0m\u001b[0m\n\u001b[1;32m    421\u001b[0m             \u001b[0;32mfor\u001b[0m \u001b[0mi\u001b[0m\u001b[0;34m,\u001b[0m \u001b[0mcc\u001b[0m \u001b[0;32min\u001b[0m \u001b[0menumerate\u001b[0m\u001b[0;34m(\u001b[0m\u001b[0mc\u001b[0m\u001b[0;34m)\u001b[0m\u001b[0;34m:\u001b[0m\u001b[0;34m\u001b[0m\u001b[0m\n\u001b[0;32m--> 422\u001b[0;31m                 \u001b[0mresult\u001b[0m\u001b[0;34m[\u001b[0m\u001b[0mi\u001b[0m\u001b[0;34m]\u001b[0m \u001b[0;34m=\u001b[0m \u001b[0mself\u001b[0m\u001b[0;34m.\u001b[0m\u001b[0mto_rgba\u001b[0m\u001b[0;34m(\u001b[0m\u001b[0mcc\u001b[0m\u001b[0;34m,\u001b[0m \u001b[0malpha\u001b[0m\u001b[0;34m)\u001b[0m\u001b[0;34m\u001b[0m\u001b[0m\n\u001b[0m\u001b[1;32m    423\u001b[0m             \u001b[0;32mreturn\u001b[0m \u001b[0mresult\u001b[0m\u001b[0;34m\u001b[0m\u001b[0m\n\u001b[1;32m    424\u001b[0m \u001b[0;34m\u001b[0m\u001b[0m\n",
      "\u001b[0;32m/Users/octaviapayne/anaconda/lib/python2.7/site-packages/matplotlib/colors.pyc\u001b[0m in \u001b[0;36mto_rgba\u001b[0;34m(self, arg, alpha)\u001b[0m\n\u001b[1;32m    374\u001b[0m         \u001b[0;32mexcept\u001b[0m \u001b[0;34m(\u001b[0m\u001b[0mTypeError\u001b[0m\u001b[0;34m,\u001b[0m \u001b[0mValueError\u001b[0m\u001b[0;34m)\u001b[0m \u001b[0;32mas\u001b[0m \u001b[0mexc\u001b[0m\u001b[0;34m:\u001b[0m\u001b[0;34m\u001b[0m\u001b[0m\n\u001b[1;32m    375\u001b[0m             raise ValueError(\n\u001b[0;32m--> 376\u001b[0;31m                 'to_rgba: Invalid rgba arg \"%s\"\\n%s' % (str(arg), exc))\n\u001b[0m\u001b[1;32m    377\u001b[0m \u001b[0;34m\u001b[0m\u001b[0m\n\u001b[1;32m    378\u001b[0m     \u001b[0;32mdef\u001b[0m \u001b[0mto_rgba_array\u001b[0m\u001b[0;34m(\u001b[0m\u001b[0mself\u001b[0m\u001b[0;34m,\u001b[0m \u001b[0mc\u001b[0m\u001b[0;34m,\u001b[0m \u001b[0malpha\u001b[0m\u001b[0;34m=\u001b[0m\u001b[0mNone\u001b[0m\u001b[0;34m)\u001b[0m\u001b[0;34m:\u001b[0m\u001b[0;34m\u001b[0m\u001b[0m\n",
      "\u001b[0;31mValueError\u001b[0m: to_rgba: Invalid rgba arg \"T\"\nto_rgb: Invalid rgb arg \"T\"\ncould not convert string to float: t"
     ]
    },
    {
     "data": {
      "image/png": "[encoded data removed]",
      "text/plain": [
       "<matplotlib.figure.Figure at 0x11c13e410>"
      ]
     },
     "metadata": {},
     "output_type": "display_data"
    }
   ],
   "source": [
    "from matplotlib import colors\n",
    "\n",
    "# create a custom color scale\n",
    "col_map = colors.ListedColormap(['white', 'red',\"blue\"])\n",
    "\n",
    "# create a scatter plot of PETAL LENGTH versus PETAL WIDTH and color by SPECIES\n",
    "stats_14[(stats_14.Team == 'Fury') | (stats_14.Team == 'Riot') | (stats_14.Team == 'Scandal')].plot(kind=\"scatter\",x=\"Goals\",y=\"Assists\",c=\"Team\",cmap=col_map)"
   ]
  },
  {
   "cell_type": "code",
   "execution_count": null,
   "metadata": {
    "collapsed": true
   },
   "outputs": [],
   "source": [
    "# might consider stats averaged per game to account for teams that have more games"
   ]
  },
  {
   "cell_type": "code",
   "execution_count": null,
   "metadata": {
    "collapsed": true
   },
   "outputs": [],
   "source": []
  },
  {
   "cell_type": "code",
   "execution_count": null,
   "metadata": {
    "collapsed": true
   },
   "outputs": [],
   "source": []
  }
 ],
 "metadata": {
  "kernelspec": {
   "display_name": "Python 2",
   "language": "python",
   "name": "python2"
  },
  "language_info": {
   "codemirror_mode": {
    "name": "ipython",
    "version": 2
   },
   "file_extension": ".py",
   "mimetype": "text/x-python",
   "name": "python",
   "nbconvert_exporter": "python",
   "pygments_lexer": "ipython2",
   "version": "2.7.11"
  }
 },
 "nbformat": 4,
 "nbformat_minor": 0
}
