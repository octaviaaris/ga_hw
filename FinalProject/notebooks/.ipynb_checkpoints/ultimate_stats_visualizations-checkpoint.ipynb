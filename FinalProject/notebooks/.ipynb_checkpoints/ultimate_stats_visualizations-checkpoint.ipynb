{
 "cells": [
  {
   "cell_type": "markdown",
   "metadata": {
    "collapsed": true
   },
   "source": [
    "## Visualization"
   ]
  },
  {
   "cell_type": "code",
   "execution_count": 33,
   "metadata": {
    "collapsed": false
   },
   "outputs": [],
   "source": [
    "import pandas as pd\n",
    "import matplotlib.pyplot as plt\n",
    "import numpy as np\n",
    "import seaborn as sns\n",
    "%matplotlib inline"
   ]
  },
  {
   "cell_type": "code",
   "execution_count": 34,
   "metadata": {
    "collapsed": false
   },
   "outputs": [],
   "source": [
    "player_stats = pd.read_csv('../data/player_stats.csv')"
   ]
  },
  {
   "cell_type": "code",
   "execution_count": 125,
   "metadata": {
    "collapsed": false
   },
   "outputs": [
    {
     "data": {
      "text/html": [
       "<div>\n",
       "<table border=\"1\" class=\"dataframe\">\n",
       "  <thead>\n",
       "    <tr style=\"text-align: right;\">\n",
       "      <th></th>\n",
       "      <th>Unnamed: 0</th>\n",
       "      <th>Team</th>\n",
       "      <th>Number</th>\n",
       "      <th>Name</th>\n",
       "      <th>Goal</th>\n",
       "      <th>GPG</th>\n",
       "      <th>Assist</th>\n",
       "      <th>APG</th>\n",
       "      <th>Block</th>\n",
       "      <th>BPG</th>\n",
       "      <th>Turn</th>\n",
       "      <th>TPG</th>\n",
       "      <th>Games</th>\n",
       "      <th>Tournament</th>\n",
       "      <th>Standing</th>\n",
       "      <th>Spirit</th>\n",
       "      <th>wg13</th>\n",
       "      <th>wugc16_tryouts</th>\n",
       "      <th>Team_WUGC16</th>\n",
       "      <th>team_num</th>\n",
       "    </tr>\n",
       "  </thead>\n",
       "  <tbody>\n",
       "    <tr>\n",
       "      <th>0</th>\n",
       "      <td>0</td>\n",
       "      <td>FURY</td>\n",
       "      <td>4</td>\n",
       "      <td>ALEX SNYDER</td>\n",
       "      <td>3</td>\n",
       "      <td>0.25</td>\n",
       "      <td>32</td>\n",
       "      <td>2.666667</td>\n",
       "      <td>NaN</td>\n",
       "      <td>NaN</td>\n",
       "      <td>NaN</td>\n",
       "      <td>NaN</td>\n",
       "      <td>12</td>\n",
       "      <td>2012 WUGC</td>\n",
       "      <td>2</td>\n",
       "      <td>12</td>\n",
       "      <td>1</td>\n",
       "      <td>1</td>\n",
       "      <td>1</td>\n",
       "      <td>0</td>\n",
       "    </tr>\n",
       "  </tbody>\n",
       "</table>\n",
       "</div>"
      ],
      "text/plain": [
       "   Unnamed: 0  Team  Number         Name  Goal   GPG  Assist       APG  Block  \\\n",
       "0           0  FURY       4  ALEX SNYDER     3  0.25      32  2.666667    NaN   \n",
       "\n",
       "   BPG  Turn  TPG  Games Tournament  Standing  Spirit  wg13  wugc16_tryouts  \\\n",
       "0  NaN   NaN  NaN     12  2012 WUGC         2      12     1               1   \n",
       "\n",
       "   Team_WUGC16  team_num  \n",
       "0            1         0  "
      ]
     },
     "execution_count": 125,
     "metadata": {},
     "output_type": "execute_result"
    }
   ],
   "source": [
    "player_stats.head(1)"
   ]
  },
  {
   "cell_type": "code",
   "execution_count": 36,
   "metadata": {
    "collapsed": false
   },
   "outputs": [
    {
     "data": {
      "text/plain": [
       "<matplotlib.axes._subplots.AxesSubplot at 0x10d90bd10>"
      ]
     },
     "execution_count": 36,
     "metadata": {},
     "output_type": "execute_result"
    },
    {
     "data": {
      "image/png": "[encoded data removed]",
      "text/plain": [
       "<matplotlib.figure.Figure at 0x10d817e10>"
      ]
     },
     "metadata": {},
     "output_type": "display_data"
    }
   ],
   "source": [
    "player_stats.plot(kind='scatter', x='GPG', y='APG')"
   ]
  },
  {
   "cell_type": "code",
   "execution_count": 39,
   "metadata": {
    "collapsed": false,
    "scrolled": true
   },
   "outputs": [
    {
     "data": {
      "text/plain": [
       "<matplotlib.axes._subplots.AxesSubplot at 0x1101086d0>"
      ]
     },
     "execution_count": 39,
     "metadata": {},
     "output_type": "execute_result"
    },
    {
     "data": {
      "image/png": "[encoded data removed]",
      "text/plain": [
       "<matplotlib.figure.Figure at 0x10de2b110>"
      ]
     },
     "metadata": {},
     "output_type": "display_data"
    }
   ],
   "source": [
    "player_stats[player_stats.wg13 ==1].groupby('Name').mean().plot(kind='scatter', x='GPG', y='APG')"
   ]
  },
  {
   "cell_type": "code",
   "execution_count": 40,
   "metadata": {
    "collapsed": false
   },
   "outputs": [
    {
     "data": {
      "text/plain": [
       "<matplotlib.axes._subplots.AxesSubplot at 0x110ac1b10>"
      ]
     },
     "execution_count": 40,
     "metadata": {},
     "output_type": "execute_result"
    },
    {
     "data": {
      "image/png": "[encoded data removed]",
      "text/plain": [
       "<matplotlib.figure.Figure at 0x110c027d0>"
      ]
     },
     "metadata": {},
     "output_type": "display_data"
    }
   ],
   "source": [
    "# APG for wg13 players vs. non\n",
    "sns.boxplot(x=\"wg13\", y=\"APG\", data=player_stats)"
   ]
  },
  {
   "cell_type": "code",
   "execution_count": 41,
   "metadata": {
    "collapsed": false
   },
   "outputs": [
    {
     "data": {
      "text/plain": [
       "<matplotlib.axes._subplots.AxesSubplot at 0x110c467d0>"
      ]
     },
     "execution_count": 41,
     "metadata": {},
     "output_type": "execute_result"
    },
    {
     "data": {
      "image/png": "[encoded data removed]",
      "text/plain": [
       "<matplotlib.figure.Figure at 0x10de2b190>"
      ]
     },
     "metadata": {},
     "output_type": "display_data"
    }
   ],
   "source": [
    "# GPG for wg13 players vs. non\n",
    "sns.boxplot(x=\"wg13\", y=\"GPG\", data=player_stats)"
   ]
  },
  {
   "cell_type": "code",
   "execution_count": 91,
   "metadata": {
    "collapsed": false
   },
   "outputs": [
    {
     "data": {
      "text/plain": [
       "<matplotlib.axes._subplots.AxesSubplot at 0x1114ff6d0>"
      ]
     },
     "execution_count": 91,
     "metadata": {},
     "output_type": "execute_result"
    },
    {
     "data": {
      "image/png": "[encoded data removed]",
      "text/plain": [
       "<matplotlib.figure.Figure at 0x1154a4310>"
      ]
     },
     "metadata": {},
     "output_type": "display_data"
    }
   ],
   "source": [
    "from matplotlib import colors\n",
    "player_stats['team_num'] = player_stats.Team.map({'FURY':0, 'RIOT':1, 'TEAM USA':2})\n",
    "col_map = colors.ListedColormap(['white', 'red', 'blue'])\n",
    "player_stats[(player_stats.Team == 'FURY') | (player_stats.Team == 'RIOT') | (player_stats.Team == 'TEAM USA')].plot(kind='scatter', x='GPG', y='APG', c='team_num', cmap=col_map)\n",
    "# player_stats.plot(kind='scatter', x='Goal', y='Assist', colormap='Accent')"
   ]
  },
  {
   "cell_type": "code",
   "execution_count": 80,
   "metadata": {
    "collapsed": false
   },
   "outputs": [
    {
     "data": {
      "text/html": [
       "<div>\n",
       "<table border=\"1\" class=\"dataframe\">\n",
       "  <thead>\n",
       "    <tr style=\"text-align: right;\">\n",
       "      <th></th>\n",
       "      <th>Unnamed: 0</th>\n",
       "      <th>Team</th>\n",
       "      <th>Number</th>\n",
       "      <th>Name</th>\n",
       "      <th>Goal</th>\n",
       "      <th>GPG</th>\n",
       "      <th>Assist</th>\n",
       "      <th>APG</th>\n",
       "      <th>Block</th>\n",
       "      <th>BPG</th>\n",
       "      <th>Turn</th>\n",
       "      <th>TPG</th>\n",
       "      <th>Games</th>\n",
       "      <th>Tournament</th>\n",
       "      <th>Standing</th>\n",
       "      <th>Spirit</th>\n",
       "      <th>wg13</th>\n",
       "      <th>wugc16_tryouts</th>\n",
       "      <th>Team_WUGC16</th>\n",
       "      <th>team_num</th>\n",
       "    </tr>\n",
       "  </thead>\n",
       "  <tbody>\n",
       "    <tr>\n",
       "      <th>0</th>\n",
       "      <td>0</td>\n",
       "      <td>FURY</td>\n",
       "      <td>4</td>\n",
       "      <td>ALEX SNYDER</td>\n",
       "      <td>3</td>\n",
       "      <td>0.25</td>\n",
       "      <td>32</td>\n",
       "      <td>2.666667</td>\n",
       "      <td>NaN</td>\n",
       "      <td>NaN</td>\n",
       "      <td>NaN</td>\n",
       "      <td>NaN</td>\n",
       "      <td>12</td>\n",
       "      <td>2012 WUGC</td>\n",
       "      <td>2</td>\n",
       "      <td>12</td>\n",
       "      <td>1</td>\n",
       "      <td>1</td>\n",
       "      <td>1</td>\n",
       "      <td>0</td>\n",
       "    </tr>\n",
       "  </tbody>\n",
       "</table>\n",
       "</div>"
      ],
      "text/plain": [
       "   Unnamed: 0  Team  Number         Name  Goal   GPG  Assist       APG  Block  \\\n",
       "0           0  FURY       4  ALEX SNYDER     3  0.25      32  2.666667    NaN   \n",
       "\n",
       "   BPG  Turn  TPG  Games Tournament  Standing  Spirit  wg13  wugc16_tryouts  \\\n",
       "0  NaN   NaN  NaN     12  2012 WUGC         2      12     1               1   \n",
       "\n",
       "   Team_WUGC16  team_num  \n",
       "0            1         0  "
      ]
     },
     "execution_count": 80,
     "metadata": {},
     "output_type": "execute_result"
    }
   ],
   "source": [
    "player_stats.head(1)"
   ]
  },
  {
   "cell_type": "code",
   "execution_count": 86,
   "metadata": {
    "collapsed": false
   },
   "outputs": [
    {
     "data": {
      "text/plain": [
       "<matplotlib.axes._subplots.AxesSubplot at 0x115c30750>"
      ]
     },
     "execution_count": 86,
     "metadata": {},
     "output_type": "execute_result"
    },
    {
     "data": {
      "image/png": "[encoded data removed]",
      "text/plain": [
       "<matplotlib.figure.Figure at 0x1150a4110>"
      ]
     },
     "metadata": {},
     "output_type": "display_data"
    },
    {
     "data": {
      "image/png": "[encoded data removed]",
      "text/plain": [
       "<matplotlib.figure.Figure at 0x11576d150>"
      ]
     },
     "metadata": {},
     "output_type": "display_data"
    },
    {
     "data": {
      "image/png": "[encoded data removed]",
      "text/plain": [
       "<matplotlib.figure.Figure at 0x115a39850>"
      ]
     },
     "metadata": {},
     "output_type": "display_data"
    }
   ],
   "source": [
    "player_stats[player_stats.Team == 'FURY'].plot(kind='scatter', x='GPG', y='APG', color='blue')\n",
    "player_stats[player_stats.Team == 'RIOT'].plot(kind='scatter', x='GPG', y='APG', color='white')\n",
    "player_stats[player_stats.wg13 == 1].groupby('Name').mean().plot(kind='scatter', x='GPG', y='APG', color='red')"
   ]
  },
  {
   "cell_type": "code",
   "execution_count": 112,
   "metadata": {
    "collapsed": false
   },
   "outputs": [
    {
     "data": {
      "text/plain": [
       "<matplotlib.collections.PathCollection at 0x1152ec410>"
      ]
     },
     "execution_count": 112,
     "metadata": {},
     "output_type": "execute_result"
    },
    {
     "data": {
      "image/png": "[encoded data removed]",
      "text/plain": [
       "<matplotlib.figure.Figure at 0x1153fc950>"
      ]
     },
     "metadata": {},
     "output_type": "display_data"
    }
   ],
   "source": [
    "# plt.scatter(x=player_stats[player_stats.Team == 'FURY'].GPG, y=player_stats[player_stats.Team == 'FURY'].APG, color='red')\n",
    "# plt.scatter(x=player_stats[player_stats.Team == 'RIOT'].GPG, y=player_stats[player_stats.Team == 'RIOT'].APG, color='white')\n",
    "plt.scatter(x=player_stats[(player_stats.Team != 'FURY') & (player_stats.Team != 'RIOT')].GPG, y=player_stats[(player_stats.Team != 'FURY') & (player_stats.Team != 'RIOT')].APG, color='yellow')\n",
    "plt.scatter(x=player_stats[player_stats.Team == 'FURY'].GPG, y=player_stats[player_stats.Team == 'FURY'].APG, color='red')\n",
    "plt.scatter(x=player_stats[player_stats.Team == 'RIOT'].GPG, y=player_stats[player_stats.Team == 'RIOT'].APG, color='white')\n",
    "plt.scatter(x=player_stats[player_stats.wg13 == 1].groupby('Name').mean().GPG, y=player_stats[player_stats.wg13 == 1].groupby('Name').mean().APG, color='blue')"
   ]
  },
  {
   "cell_type": "code",
   "execution_count": 62,
   "metadata": {
    "collapsed": false
   },
   "outputs": [
    {
     "data": {
      "text/html": [
       "<div>\n",
       "<table border=\"1\" class=\"dataframe\">\n",
       "  <thead>\n",
       "    <tr style=\"text-align: right;\">\n",
       "      <th></th>\n",
       "      <th>Unnamed: 0</th>\n",
       "      <th>Team</th>\n",
       "      <th>Number</th>\n",
       "      <th>Name</th>\n",
       "      <th>Goal</th>\n",
       "      <th>GPG</th>\n",
       "      <th>Assist</th>\n",
       "      <th>APG</th>\n",
       "      <th>Block</th>\n",
       "      <th>BPG</th>\n",
       "      <th>Turn</th>\n",
       "      <th>TPG</th>\n",
       "      <th>Games</th>\n",
       "      <th>Tournament</th>\n",
       "      <th>Standing</th>\n",
       "      <th>Spirit</th>\n",
       "      <th>wg13</th>\n",
       "      <th>wugc16_tryouts</th>\n",
       "      <th>Team_WUGC16</th>\n",
       "      <th>team_num</th>\n",
       "    </tr>\n",
       "  </thead>\n",
       "  <tbody>\n",
       "    <tr>\n",
       "      <th>0</th>\n",
       "      <td>0</td>\n",
       "      <td>FURY</td>\n",
       "      <td>4</td>\n",
       "      <td>ALEX SNYDER</td>\n",
       "      <td>3</td>\n",
       "      <td>0.250000</td>\n",
       "      <td>32</td>\n",
       "      <td>2.666667</td>\n",
       "      <td>NaN</td>\n",
       "      <td>NaN</td>\n",
       "      <td>NaN</td>\n",
       "      <td>NaN</td>\n",
       "      <td>12</td>\n",
       "      <td>2012 WUGC</td>\n",
       "      <td>2</td>\n",
       "      <td>12.00</td>\n",
       "      <td>1</td>\n",
       "      <td>1</td>\n",
       "      <td>1</td>\n",
       "      <td>0</td>\n",
       "    </tr>\n",
       "    <tr>\n",
       "      <th>1</th>\n",
       "      <td>1</td>\n",
       "      <td>FURY</td>\n",
       "      <td>19</td>\n",
       "      <td>GEORGIA BOSSCHER</td>\n",
       "      <td>13</td>\n",
       "      <td>1.083333</td>\n",
       "      <td>14</td>\n",
       "      <td>1.166667</td>\n",
       "      <td>NaN</td>\n",
       "      <td>NaN</td>\n",
       "      <td>NaN</td>\n",
       "      <td>NaN</td>\n",
       "      <td>12</td>\n",
       "      <td>2012 WUGC</td>\n",
       "      <td>2</td>\n",
       "      <td>12.00</td>\n",
       "      <td>1</td>\n",
       "      <td>1</td>\n",
       "      <td>1</td>\n",
       "      <td>0</td>\n",
       "    </tr>\n",
       "    <tr>\n",
       "      <th>3</th>\n",
       "      <td>3</td>\n",
       "      <td>FURY</td>\n",
       "      <td>13</td>\n",
       "      <td>CREE HOWARD</td>\n",
       "      <td>15</td>\n",
       "      <td>1.250000</td>\n",
       "      <td>6</td>\n",
       "      <td>0.500000</td>\n",
       "      <td>NaN</td>\n",
       "      <td>NaN</td>\n",
       "      <td>NaN</td>\n",
       "      <td>NaN</td>\n",
       "      <td>12</td>\n",
       "      <td>2012 WUGC</td>\n",
       "      <td>2</td>\n",
       "      <td>12.00</td>\n",
       "      <td>1</td>\n",
       "      <td>1</td>\n",
       "      <td>0</td>\n",
       "      <td>0</td>\n",
       "    </tr>\n",
       "    <tr>\n",
       "      <th>15</th>\n",
       "      <td>15</td>\n",
       "      <td>FURY</td>\n",
       "      <td>33</td>\n",
       "      <td>ANNA NAZAROV</td>\n",
       "      <td>4</td>\n",
       "      <td>0.333333</td>\n",
       "      <td>8</td>\n",
       "      <td>0.666667</td>\n",
       "      <td>NaN</td>\n",
       "      <td>NaN</td>\n",
       "      <td>NaN</td>\n",
       "      <td>NaN</td>\n",
       "      <td>12</td>\n",
       "      <td>2012 WUGC</td>\n",
       "      <td>2</td>\n",
       "      <td>12.00</td>\n",
       "      <td>1</td>\n",
       "      <td>1</td>\n",
       "      <td>1</td>\n",
       "      <td>0</td>\n",
       "    </tr>\n",
       "    <tr>\n",
       "      <th>80</th>\n",
       "      <td>107</td>\n",
       "      <td>FURY</td>\n",
       "      <td>4</td>\n",
       "      <td>ALEX SNYDER</td>\n",
       "      <td>2</td>\n",
       "      <td>0.285714</td>\n",
       "      <td>11</td>\n",
       "      <td>1.571429</td>\n",
       "      <td>7</td>\n",
       "      <td>1.000000</td>\n",
       "      <td>9</td>\n",
       "      <td>1.285714</td>\n",
       "      <td>7</td>\n",
       "      <td>2013 USAU Club Championships</td>\n",
       "      <td>2</td>\n",
       "      <td>4.14</td>\n",
       "      <td>1</td>\n",
       "      <td>1</td>\n",
       "      <td>1</td>\n",
       "      <td>0</td>\n",
       "    </tr>\n",
       "    <tr>\n",
       "      <th>89</th>\n",
       "      <td>116</td>\n",
       "      <td>FURY</td>\n",
       "      <td>13</td>\n",
       "      <td>CREE HOWARD</td>\n",
       "      <td>5</td>\n",
       "      <td>0.714286</td>\n",
       "      <td>1</td>\n",
       "      <td>0.142857</td>\n",
       "      <td>3</td>\n",
       "      <td>0.428571</td>\n",
       "      <td>4</td>\n",
       "      <td>0.571429</td>\n",
       "      <td>7</td>\n",
       "      <td>2013 USAU Club Championships</td>\n",
       "      <td>2</td>\n",
       "      <td>4.14</td>\n",
       "      <td>1</td>\n",
       "      <td>1</td>\n",
       "      <td>0</td>\n",
       "      <td>0</td>\n",
       "    </tr>\n",
       "    <tr>\n",
       "      <th>97</th>\n",
       "      <td>124</td>\n",
       "      <td>FURY</td>\n",
       "      <td>33</td>\n",
       "      <td>ANNA NAZAROV</td>\n",
       "      <td>7</td>\n",
       "      <td>1.000000</td>\n",
       "      <td>4</td>\n",
       "      <td>0.571429</td>\n",
       "      <td>7</td>\n",
       "      <td>1.000000</td>\n",
       "      <td>7</td>\n",
       "      <td>1.000000</td>\n",
       "      <td>7</td>\n",
       "      <td>2013 USAU Club Championships</td>\n",
       "      <td>2</td>\n",
       "      <td>4.14</td>\n",
       "      <td>1</td>\n",
       "      <td>1</td>\n",
       "      <td>1</td>\n",
       "      <td>0</td>\n",
       "    </tr>\n",
       "    <tr>\n",
       "      <th>114</th>\n",
       "      <td>142</td>\n",
       "      <td>HEIST</td>\n",
       "      <td>19</td>\n",
       "      <td>GEORGIA BOSSCHER</td>\n",
       "      <td>4</td>\n",
       "      <td>0.666667</td>\n",
       "      <td>4</td>\n",
       "      <td>0.666667</td>\n",
       "      <td>6</td>\n",
       "      <td>1.000000</td>\n",
       "      <td>15</td>\n",
       "      <td>2.500000</td>\n",
       "      <td>6</td>\n",
       "      <td>2013 USAU Club Championships</td>\n",
       "      <td>12</td>\n",
       "      <td>4.17</td>\n",
       "      <td>1</td>\n",
       "      <td>1</td>\n",
       "      <td>1</td>\n",
       "      <td>NaN</td>\n",
       "    </tr>\n",
       "    <tr>\n",
       "      <th>250</th>\n",
       "      <td>304</td>\n",
       "      <td>RIOT</td>\n",
       "      <td>4</td>\n",
       "      <td>ROHRE TITCOMB</td>\n",
       "      <td>0</td>\n",
       "      <td>0.000000</td>\n",
       "      <td>0</td>\n",
       "      <td>0.000000</td>\n",
       "      <td>0</td>\n",
       "      <td>0.000000</td>\n",
       "      <td>0</td>\n",
       "      <td>0.000000</td>\n",
       "      <td>7</td>\n",
       "      <td>2013 USAU Club Championships</td>\n",
       "      <td>3</td>\n",
       "      <td>4.43</td>\n",
       "      <td>1</td>\n",
       "      <td>1</td>\n",
       "      <td>1</td>\n",
       "      <td>1</td>\n",
       "    </tr>\n",
       "    <tr>\n",
       "      <th>252</th>\n",
       "      <td>306</td>\n",
       "      <td>RIOT</td>\n",
       "      <td>6</td>\n",
       "      <td>SARAH GRIFFITH</td>\n",
       "      <td>8</td>\n",
       "      <td>1.142857</td>\n",
       "      <td>17</td>\n",
       "      <td>2.428571</td>\n",
       "      <td>4</td>\n",
       "      <td>0.571429</td>\n",
       "      <td>4</td>\n",
       "      <td>0.571429</td>\n",
       "      <td>7</td>\n",
       "      <td>2013 USAU Club Championships</td>\n",
       "      <td>3</td>\n",
       "      <td>4.43</td>\n",
       "      <td>1</td>\n",
       "      <td>1</td>\n",
       "      <td>1</td>\n",
       "      <td>1</td>\n",
       "    </tr>\n",
       "    <tr>\n",
       "      <th>280</th>\n",
       "      <td>335</td>\n",
       "      <td>SCANDAL</td>\n",
       "      <td>9</td>\n",
       "      <td>OCTAVIA PAYNE</td>\n",
       "      <td>6</td>\n",
       "      <td>0.857143</td>\n",
       "      <td>14</td>\n",
       "      <td>2.000000</td>\n",
       "      <td>8</td>\n",
       "      <td>1.142857</td>\n",
       "      <td>17</td>\n",
       "      <td>2.428571</td>\n",
       "      <td>7</td>\n",
       "      <td>2013 USAU Club Championships</td>\n",
       "      <td>1</td>\n",
       "      <td>4.36</td>\n",
       "      <td>1</td>\n",
       "      <td>1</td>\n",
       "      <td>1</td>\n",
       "      <td>NaN</td>\n",
       "    </tr>\n",
       "    <tr>\n",
       "      <th>292</th>\n",
       "      <td>347</td>\n",
       "      <td>SCANDAL</td>\n",
       "      <td>37</td>\n",
       "      <td>SANDY JORGENSEN</td>\n",
       "      <td>12</td>\n",
       "      <td>1.714286</td>\n",
       "      <td>9</td>\n",
       "      <td>1.285714</td>\n",
       "      <td>15</td>\n",
       "      <td>2.142857</td>\n",
       "      <td>5</td>\n",
       "      <td>0.714286</td>\n",
       "      <td>7</td>\n",
       "      <td>2013 USAU Club Championships</td>\n",
       "      <td>1</td>\n",
       "      <td>4.36</td>\n",
       "      <td>1</td>\n",
       "      <td>1</td>\n",
       "      <td>0</td>\n",
       "      <td>NaN</td>\n",
       "    </tr>\n",
       "    <tr>\n",
       "      <th>326</th>\n",
       "      <td>383</td>\n",
       "      <td>SHOWDOWN</td>\n",
       "      <td>5</td>\n",
       "      <td>CARA CROUCH</td>\n",
       "      <td>5</td>\n",
       "      <td>0.714286</td>\n",
       "      <td>20</td>\n",
       "      <td>2.857143</td>\n",
       "      <td>5</td>\n",
       "      <td>0.714286</td>\n",
       "      <td>8</td>\n",
       "      <td>1.142857</td>\n",
       "      <td>7</td>\n",
       "      <td>2013 USAU Club Championships</td>\n",
       "      <td>4</td>\n",
       "      <td>4.14</td>\n",
       "      <td>1</td>\n",
       "      <td>0</td>\n",
       "      <td>0</td>\n",
       "      <td>NaN</td>\n",
       "    </tr>\n",
       "    <tr>\n",
       "      <th>349</th>\n",
       "      <td>435</td>\n",
       "      <td>TEAM USA</td>\n",
       "      <td>24</td>\n",
       "      <td>ALEX SNYDER</td>\n",
       "      <td>1</td>\n",
       "      <td>0.166667</td>\n",
       "      <td>10</td>\n",
       "      <td>1.666667</td>\n",
       "      <td>NaN</td>\n",
       "      <td>NaN</td>\n",
       "      <td>NaN</td>\n",
       "      <td>NaN</td>\n",
       "      <td>6</td>\n",
       "      <td>2013 World Games</td>\n",
       "      <td>1</td>\n",
       "      <td>NaN</td>\n",
       "      <td>1</td>\n",
       "      <td>1</td>\n",
       "      <td>1</td>\n",
       "      <td>NaN</td>\n",
       "    </tr>\n",
       "    <tr>\n",
       "      <th>350</th>\n",
       "      <td>438</td>\n",
       "      <td>TEAM USA</td>\n",
       "      <td>5</td>\n",
       "      <td>CARA CROUCH</td>\n",
       "      <td>2</td>\n",
       "      <td>0.333333</td>\n",
       "      <td>3</td>\n",
       "      <td>0.500000</td>\n",
       "      <td>NaN</td>\n",
       "      <td>NaN</td>\n",
       "      <td>NaN</td>\n",
       "      <td>NaN</td>\n",
       "      <td>6</td>\n",
       "      <td>2013 World Games</td>\n",
       "      <td>1</td>\n",
       "      <td>NaN</td>\n",
       "      <td>1</td>\n",
       "      <td>0</td>\n",
       "      <td>0</td>\n",
       "      <td>NaN</td>\n",
       "    </tr>\n",
       "    <tr>\n",
       "      <th>351</th>\n",
       "      <td>441</td>\n",
       "      <td>TEAM USA</td>\n",
       "      <td>19</td>\n",
       "      <td>GEORGIA BOSSCHER</td>\n",
       "      <td>3</td>\n",
       "      <td>0.500000</td>\n",
       "      <td>3</td>\n",
       "      <td>0.500000</td>\n",
       "      <td>NaN</td>\n",
       "      <td>NaN</td>\n",
       "      <td>NaN</td>\n",
       "      <td>NaN</td>\n",
       "      <td>6</td>\n",
       "      <td>2013 World Games</td>\n",
       "      <td>1</td>\n",
       "      <td>NaN</td>\n",
       "      <td>1</td>\n",
       "      <td>1</td>\n",
       "      <td>1</td>\n",
       "      <td>NaN</td>\n",
       "    </tr>\n",
       "    <tr>\n",
       "      <th>352</th>\n",
       "      <td>444</td>\n",
       "      <td>TEAM USA</td>\n",
       "      <td>9</td>\n",
       "      <td>OCTAVIA PAYNE</td>\n",
       "      <td>4</td>\n",
       "      <td>0.666667</td>\n",
       "      <td>1</td>\n",
       "      <td>0.166667</td>\n",
       "      <td>NaN</td>\n",
       "      <td>NaN</td>\n",
       "      <td>NaN</td>\n",
       "      <td>NaN</td>\n",
       "      <td>6</td>\n",
       "      <td>2013 World Games</td>\n",
       "      <td>1</td>\n",
       "      <td>NaN</td>\n",
       "      <td>1</td>\n",
       "      <td>1</td>\n",
       "      <td>1</td>\n",
       "      <td>NaN</td>\n",
       "    </tr>\n",
       "    <tr>\n",
       "      <th>353</th>\n",
       "      <td>446</td>\n",
       "      <td>TEAM USA</td>\n",
       "      <td>6</td>\n",
       "      <td>SARAH GRIFFITH</td>\n",
       "      <td>11</td>\n",
       "      <td>1.833333</td>\n",
       "      <td>0</td>\n",
       "      <td>0.000000</td>\n",
       "      <td>NaN</td>\n",
       "      <td>NaN</td>\n",
       "      <td>NaN</td>\n",
       "      <td>NaN</td>\n",
       "      <td>6</td>\n",
       "      <td>2013 World Games</td>\n",
       "      <td>1</td>\n",
       "      <td>NaN</td>\n",
       "      <td>1</td>\n",
       "      <td>1</td>\n",
       "      <td>1</td>\n",
       "      <td>NaN</td>\n",
       "    </tr>\n",
       "    <tr>\n",
       "      <th>354</th>\n",
       "      <td>447</td>\n",
       "      <td>TEAM USA</td>\n",
       "      <td>13</td>\n",
       "      <td>CREE HOWARD</td>\n",
       "      <td>6</td>\n",
       "      <td>1.000000</td>\n",
       "      <td>0</td>\n",
       "      <td>0.000000</td>\n",
       "      <td>NaN</td>\n",
       "      <td>NaN</td>\n",
       "      <td>NaN</td>\n",
       "      <td>NaN</td>\n",
       "      <td>6</td>\n",
       "      <td>2013 World Games</td>\n",
       "      <td>1</td>\n",
       "      <td>NaN</td>\n",
       "      <td>1</td>\n",
       "      <td>1</td>\n",
       "      <td>0</td>\n",
       "      <td>NaN</td>\n",
       "    </tr>\n",
       "    <tr>\n",
       "      <th>384</th>\n",
       "      <td>500</td>\n",
       "      <td>RIOT</td>\n",
       "      <td>4</td>\n",
       "      <td>ROHRE TITCOMB</td>\n",
       "      <td>1</td>\n",
       "      <td>0.166667</td>\n",
       "      <td>13</td>\n",
       "      <td>2.166667</td>\n",
       "      <td>NaN</td>\n",
       "      <td>NaN</td>\n",
       "      <td>NaN</td>\n",
       "      <td>NaN</td>\n",
       "      <td>6</td>\n",
       "      <td>2014 USAU Club Championships</td>\n",
       "      <td>3</td>\n",
       "      <td>14.17</td>\n",
       "      <td>1</td>\n",
       "      <td>1</td>\n",
       "      <td>1</td>\n",
       "      <td>1</td>\n",
       "    </tr>\n",
       "    <tr>\n",
       "      <th>386</th>\n",
       "      <td>502</td>\n",
       "      <td>RIOT</td>\n",
       "      <td>6</td>\n",
       "      <td>SARAH GRIFFITH</td>\n",
       "      <td>10</td>\n",
       "      <td>1.666667</td>\n",
       "      <td>7</td>\n",
       "      <td>1.166667</td>\n",
       "      <td>NaN</td>\n",
       "      <td>NaN</td>\n",
       "      <td>NaN</td>\n",
       "      <td>NaN</td>\n",
       "      <td>6</td>\n",
       "      <td>2014 USAU Club Championships</td>\n",
       "      <td>3</td>\n",
       "      <td>14.17</td>\n",
       "      <td>1</td>\n",
       "      <td>1</td>\n",
       "      <td>1</td>\n",
       "      <td>1</td>\n",
       "    </tr>\n",
       "    <tr>\n",
       "      <th>434</th>\n",
       "      <td>550</td>\n",
       "      <td>FURY</td>\n",
       "      <td>4</td>\n",
       "      <td>ALEX SNYDER</td>\n",
       "      <td>0</td>\n",
       "      <td>0.000000</td>\n",
       "      <td>8</td>\n",
       "      <td>1.142857</td>\n",
       "      <td>NaN</td>\n",
       "      <td>NaN</td>\n",
       "      <td>NaN</td>\n",
       "      <td>NaN</td>\n",
       "      <td>7</td>\n",
       "      <td>2014 USAU Club Championships</td>\n",
       "      <td>2</td>\n",
       "      <td>13.43</td>\n",
       "      <td>1</td>\n",
       "      <td>1</td>\n",
       "      <td>1</td>\n",
       "      <td>0</td>\n",
       "    </tr>\n",
       "    <tr>\n",
       "      <th>442</th>\n",
       "      <td>558</td>\n",
       "      <td>FURY</td>\n",
       "      <td>13</td>\n",
       "      <td>CREE HOWARD</td>\n",
       "      <td>4</td>\n",
       "      <td>0.571429</td>\n",
       "      <td>3</td>\n",
       "      <td>0.428571</td>\n",
       "      <td>NaN</td>\n",
       "      <td>NaN</td>\n",
       "      <td>NaN</td>\n",
       "      <td>NaN</td>\n",
       "      <td>7</td>\n",
       "      <td>2014 USAU Club Championships</td>\n",
       "      <td>2</td>\n",
       "      <td>13.43</td>\n",
       "      <td>1</td>\n",
       "      <td>1</td>\n",
       "      <td>0</td>\n",
       "      <td>0</td>\n",
       "    </tr>\n",
       "    <tr>\n",
       "      <th>451</th>\n",
       "      <td>567</td>\n",
       "      <td>FURY</td>\n",
       "      <td>33</td>\n",
       "      <td>ANNA NAZAROV</td>\n",
       "      <td>4</td>\n",
       "      <td>0.571429</td>\n",
       "      <td>7</td>\n",
       "      <td>1.000000</td>\n",
       "      <td>NaN</td>\n",
       "      <td>NaN</td>\n",
       "      <td>NaN</td>\n",
       "      <td>NaN</td>\n",
       "      <td>7</td>\n",
       "      <td>2014 USAU Club Championships</td>\n",
       "      <td>2</td>\n",
       "      <td>13.43</td>\n",
       "      <td>1</td>\n",
       "      <td>1</td>\n",
       "      <td>1</td>\n",
       "      <td>0</td>\n",
       "    </tr>\n",
       "    <tr>\n",
       "      <th>472</th>\n",
       "      <td>588</td>\n",
       "      <td>HEIST</td>\n",
       "      <td>19</td>\n",
       "      <td>GEORGIA BOSSCHER</td>\n",
       "      <td>6</td>\n",
       "      <td>1.500000</td>\n",
       "      <td>12</td>\n",
       "      <td>3.000000</td>\n",
       "      <td>NaN</td>\n",
       "      <td>NaN</td>\n",
       "      <td>NaN</td>\n",
       "      <td>NaN</td>\n",
       "      <td>4</td>\n",
       "      <td>2014 USAU Club Championships</td>\n",
       "      <td>11</td>\n",
       "      <td>14.71</td>\n",
       "      <td>1</td>\n",
       "      <td>1</td>\n",
       "      <td>1</td>\n",
       "      <td>NaN</td>\n",
       "    </tr>\n",
       "    <tr>\n",
       "      <th>636</th>\n",
       "      <td>776</td>\n",
       "      <td>SCANDAL</td>\n",
       "      <td>9</td>\n",
       "      <td>OCTAVIA PAYNE</td>\n",
       "      <td>4</td>\n",
       "      <td>0.571429</td>\n",
       "      <td>23</td>\n",
       "      <td>3.285714</td>\n",
       "      <td>NaN</td>\n",
       "      <td>NaN</td>\n",
       "      <td>NaN</td>\n",
       "      <td>NaN</td>\n",
       "      <td>7</td>\n",
       "      <td>2014 USAU Club Championships</td>\n",
       "      <td>1</td>\n",
       "      <td>12.71</td>\n",
       "      <td>1</td>\n",
       "      <td>1</td>\n",
       "      <td>1</td>\n",
       "      <td>NaN</td>\n",
       "    </tr>\n",
       "    <tr>\n",
       "      <th>646</th>\n",
       "      <td>786</td>\n",
       "      <td>SCANDAL</td>\n",
       "      <td>37</td>\n",
       "      <td>SANDY JORGENSEN</td>\n",
       "      <td>21</td>\n",
       "      <td>3.000000</td>\n",
       "      <td>4</td>\n",
       "      <td>0.571429</td>\n",
       "      <td>NaN</td>\n",
       "      <td>NaN</td>\n",
       "      <td>NaN</td>\n",
       "      <td>NaN</td>\n",
       "      <td>7</td>\n",
       "      <td>2014 USAU Club Championships</td>\n",
       "      <td>1</td>\n",
       "      <td>12.71</td>\n",
       "      <td>1</td>\n",
       "      <td>1</td>\n",
       "      <td>0</td>\n",
       "      <td>NaN</td>\n",
       "    </tr>\n",
       "    <tr>\n",
       "      <th>701</th>\n",
       "      <td>841</td>\n",
       "      <td>RIOT</td>\n",
       "      <td>NaN</td>\n",
       "      <td>SARAH GRIFFITH</td>\n",
       "      <td>3</td>\n",
       "      <td>3.000000</td>\n",
       "      <td>2</td>\n",
       "      <td>2.000000</td>\n",
       "      <td>NaN</td>\n",
       "      <td>NaN</td>\n",
       "      <td>NaN</td>\n",
       "      <td>NaN</td>\n",
       "      <td>1</td>\n",
       "      <td>2014 WUCC</td>\n",
       "      <td>1</td>\n",
       "      <td>NaN</td>\n",
       "      <td>1</td>\n",
       "      <td>1</td>\n",
       "      <td>1</td>\n",
       "      <td>1</td>\n",
       "    </tr>\n",
       "    <tr>\n",
       "      <th>705</th>\n",
       "      <td>845</td>\n",
       "      <td>FURY</td>\n",
       "      <td>NaN</td>\n",
       "      <td>CREE HOWARD</td>\n",
       "      <td>1</td>\n",
       "      <td>1.000000</td>\n",
       "      <td>2</td>\n",
       "      <td>2.000000</td>\n",
       "      <td>NaN</td>\n",
       "      <td>NaN</td>\n",
       "      <td>NaN</td>\n",
       "      <td>NaN</td>\n",
       "      <td>1</td>\n",
       "      <td>2014 WUCC</td>\n",
       "      <td>2</td>\n",
       "      <td>NaN</td>\n",
       "      <td>1</td>\n",
       "      <td>1</td>\n",
       "      <td>0</td>\n",
       "      <td>0</td>\n",
       "    </tr>\n",
       "    <tr>\n",
       "      <th>714</th>\n",
       "      <td>854</td>\n",
       "      <td>RIOT</td>\n",
       "      <td>NaN</td>\n",
       "      <td>ROHRE TITCOMB</td>\n",
       "      <td>1</td>\n",
       "      <td>1.000000</td>\n",
       "      <td>1</td>\n",
       "      <td>1.000000</td>\n",
       "      <td>NaN</td>\n",
       "      <td>NaN</td>\n",
       "      <td>NaN</td>\n",
       "      <td>NaN</td>\n",
       "      <td>1</td>\n",
       "      <td>2014 WUCC</td>\n",
       "      <td>1</td>\n",
       "      <td>NaN</td>\n",
       "      <td>1</td>\n",
       "      <td>1</td>\n",
       "      <td>1</td>\n",
       "      <td>1</td>\n",
       "    </tr>\n",
       "    <tr>\n",
       "      <th>724</th>\n",
       "      <td>864</td>\n",
       "      <td>FURY</td>\n",
       "      <td>NaN</td>\n",
       "      <td>ANNA NAZAROV</td>\n",
       "      <td>0</td>\n",
       "      <td>0.000000</td>\n",
       "      <td>1</td>\n",
       "      <td>1.000000</td>\n",
       "      <td>NaN</td>\n",
       "      <td>NaN</td>\n",
       "      <td>NaN</td>\n",
       "      <td>NaN</td>\n",
       "      <td>1</td>\n",
       "      <td>2014 WUCC</td>\n",
       "      <td>2</td>\n",
       "      <td>NaN</td>\n",
       "      <td>1</td>\n",
       "      <td>1</td>\n",
       "      <td>1</td>\n",
       "      <td>0</td>\n",
       "    </tr>\n",
       "    <tr>\n",
       "      <th>744</th>\n",
       "      <td>884</td>\n",
       "      <td>FURY</td>\n",
       "      <td>NaN</td>\n",
       "      <td>ALEX SNYDER</td>\n",
       "      <td>0</td>\n",
       "      <td>0.000000</td>\n",
       "      <td>0</td>\n",
       "      <td>0.000000</td>\n",
       "      <td>NaN</td>\n",
       "      <td>NaN</td>\n",
       "      <td>NaN</td>\n",
       "      <td>NaN</td>\n",
       "      <td>1</td>\n",
       "      <td>2014 WUCC</td>\n",
       "      <td>2</td>\n",
       "      <td>NaN</td>\n",
       "      <td>1</td>\n",
       "      <td>1</td>\n",
       "      <td>1</td>\n",
       "      <td>0</td>\n",
       "    </tr>\n",
       "    <tr>\n",
       "      <th>845</th>\n",
       "      <td>1008</td>\n",
       "      <td>FURY</td>\n",
       "      <td>4</td>\n",
       "      <td>ALEX SNYDER</td>\n",
       "      <td>2</td>\n",
       "      <td>0.333333</td>\n",
       "      <td>11</td>\n",
       "      <td>1.833333</td>\n",
       "      <td>NaN</td>\n",
       "      <td>NaN</td>\n",
       "      <td>NaN</td>\n",
       "      <td>NaN</td>\n",
       "      <td>6</td>\n",
       "      <td>2015 USAU Club Championships</td>\n",
       "      <td>3</td>\n",
       "      <td>13.60</td>\n",
       "      <td>1</td>\n",
       "      <td>1</td>\n",
       "      <td>1</td>\n",
       "      <td>0</td>\n",
       "    </tr>\n",
       "    <tr>\n",
       "      <th>853</th>\n",
       "      <td>1016</td>\n",
       "      <td>FURY</td>\n",
       "      <td>13</td>\n",
       "      <td>CREE HOWARD</td>\n",
       "      <td>4</td>\n",
       "      <td>0.666667</td>\n",
       "      <td>5</td>\n",
       "      <td>0.833333</td>\n",
       "      <td>NaN</td>\n",
       "      <td>NaN</td>\n",
       "      <td>NaN</td>\n",
       "      <td>NaN</td>\n",
       "      <td>6</td>\n",
       "      <td>2015 USAU Club Championships</td>\n",
       "      <td>3</td>\n",
       "      <td>13.60</td>\n",
       "      <td>1</td>\n",
       "      <td>1</td>\n",
       "      <td>0</td>\n",
       "      <td>0</td>\n",
       "    </tr>\n",
       "    <tr>\n",
       "      <th>864</th>\n",
       "      <td>1027</td>\n",
       "      <td>FURY</td>\n",
       "      <td>33</td>\n",
       "      <td>ANNA NAZAROV</td>\n",
       "      <td>1</td>\n",
       "      <td>0.166667</td>\n",
       "      <td>8</td>\n",
       "      <td>1.333333</td>\n",
       "      <td>NaN</td>\n",
       "      <td>NaN</td>\n",
       "      <td>NaN</td>\n",
       "      <td>NaN</td>\n",
       "      <td>6</td>\n",
       "      <td>2015 USAU Club Championships</td>\n",
       "      <td>3</td>\n",
       "      <td>13.60</td>\n",
       "      <td>1</td>\n",
       "      <td>1</td>\n",
       "      <td>1</td>\n",
       "      <td>0</td>\n",
       "    </tr>\n",
       "    <tr>\n",
       "      <th>926</th>\n",
       "      <td>1107</td>\n",
       "      <td>MOLLY BROWN</td>\n",
       "      <td>9</td>\n",
       "      <td>OCTAVIA PAYNE</td>\n",
       "      <td>1</td>\n",
       "      <td>0.166667</td>\n",
       "      <td>8</td>\n",
       "      <td>1.333333</td>\n",
       "      <td>NaN</td>\n",
       "      <td>NaN</td>\n",
       "      <td>NaN</td>\n",
       "      <td>NaN</td>\n",
       "      <td>6</td>\n",
       "      <td>2015 USAU Club Championships</td>\n",
       "      <td>3</td>\n",
       "      <td>11.33</td>\n",
       "      <td>1</td>\n",
       "      <td>1</td>\n",
       "      <td>1</td>\n",
       "      <td>NaN</td>\n",
       "    </tr>\n",
       "    <tr>\n",
       "      <th>1016</th>\n",
       "      <td>1223</td>\n",
       "      <td>SCANDAL</td>\n",
       "      <td>37</td>\n",
       "      <td>SANDY JORGENSEN</td>\n",
       "      <td>8</td>\n",
       "      <td>1.142857</td>\n",
       "      <td>8</td>\n",
       "      <td>1.142857</td>\n",
       "      <td>NaN</td>\n",
       "      <td>NaN</td>\n",
       "      <td>NaN</td>\n",
       "      <td>NaN</td>\n",
       "      <td>7</td>\n",
       "      <td>2015 USAU Club Championships</td>\n",
       "      <td>6</td>\n",
       "      <td>11.64</td>\n",
       "      <td>1</td>\n",
       "      <td>1</td>\n",
       "      <td>0</td>\n",
       "      <td>NaN</td>\n",
       "    </tr>\n",
       "    <tr>\n",
       "      <th>1051</th>\n",
       "      <td>1258</td>\n",
       "      <td>RIOT</td>\n",
       "      <td>4</td>\n",
       "      <td>ROHRE TITCOMB</td>\n",
       "      <td>2</td>\n",
       "      <td>0.285714</td>\n",
       "      <td>8</td>\n",
       "      <td>1.142857</td>\n",
       "      <td>NaN</td>\n",
       "      <td>NaN</td>\n",
       "      <td>NaN</td>\n",
       "      <td>NaN</td>\n",
       "      <td>7</td>\n",
       "      <td>2015 USAU Club Championships</td>\n",
       "      <td>2</td>\n",
       "      <td>14.00</td>\n",
       "      <td>1</td>\n",
       "      <td>1</td>\n",
       "      <td>1</td>\n",
       "      <td>1</td>\n",
       "    </tr>\n",
       "    <tr>\n",
       "      <th>1053</th>\n",
       "      <td>1260</td>\n",
       "      <td>RIOT</td>\n",
       "      <td>6</td>\n",
       "      <td>SARAH GRIFFITH</td>\n",
       "      <td>13</td>\n",
       "      <td>1.857143</td>\n",
       "      <td>5</td>\n",
       "      <td>0.714286</td>\n",
       "      <td>NaN</td>\n",
       "      <td>NaN</td>\n",
       "      <td>NaN</td>\n",
       "      <td>NaN</td>\n",
       "      <td>7</td>\n",
       "      <td>2015 USAU Club Championships</td>\n",
       "      <td>2</td>\n",
       "      <td>14.00</td>\n",
       "      <td>1</td>\n",
       "      <td>1</td>\n",
       "      <td>1</td>\n",
       "      <td>1</td>\n",
       "    </tr>\n",
       "  </tbody>\n",
       "</table>\n",
       "</div>"
      ],
      "text/plain": [
       "      Unnamed: 0         Team  Number              Name  Goal       GPG  \\\n",
       "0              0         FURY       4       ALEX SNYDER     3  0.250000   \n",
       "1              1         FURY      19  GEORGIA BOSSCHER    13  1.083333   \n",
       "3              3         FURY      13       CREE HOWARD    15  1.250000   \n",
       "15            15         FURY      33      ANNA NAZAROV     4  0.333333   \n",
       "80           107         FURY       4       ALEX SNYDER     2  0.285714   \n",
       "89           116         FURY      13       CREE HOWARD     5  0.714286   \n",
       "97           124         FURY      33      ANNA NAZAROV     7  1.000000   \n",
       "114          142        HEIST      19  GEORGIA BOSSCHER     4  0.666667   \n",
       "250          304         RIOT       4     ROHRE TITCOMB     0  0.000000   \n",
       "252          306         RIOT       6    SARAH GRIFFITH     8  1.142857   \n",
       "280          335      SCANDAL       9     OCTAVIA PAYNE     6  0.857143   \n",
       "292          347      SCANDAL      37   SANDY JORGENSEN    12  1.714286   \n",
       "326          383     SHOWDOWN       5       CARA CROUCH     5  0.714286   \n",
       "349          435     TEAM USA      24       ALEX SNYDER     1  0.166667   \n",
       "350          438     TEAM USA       5       CARA CROUCH     2  0.333333   \n",
       "351          441     TEAM USA      19  GEORGIA BOSSCHER     3  0.500000   \n",
       "352          444     TEAM USA       9     OCTAVIA PAYNE     4  0.666667   \n",
       "353          446     TEAM USA       6    SARAH GRIFFITH    11  1.833333   \n",
       "354          447     TEAM USA      13       CREE HOWARD     6  1.000000   \n",
       "384          500         RIOT       4     ROHRE TITCOMB     1  0.166667   \n",
       "386          502         RIOT       6    SARAH GRIFFITH    10  1.666667   \n",
       "434          550         FURY       4       ALEX SNYDER     0  0.000000   \n",
       "442          558         FURY      13       CREE HOWARD     4  0.571429   \n",
       "451          567         FURY      33      ANNA NAZAROV     4  0.571429   \n",
       "472          588        HEIST      19  GEORGIA BOSSCHER     6  1.500000   \n",
       "636          776      SCANDAL       9     OCTAVIA PAYNE     4  0.571429   \n",
       "646          786      SCANDAL      37   SANDY JORGENSEN    21  3.000000   \n",
       "701          841         RIOT     NaN    SARAH GRIFFITH     3  3.000000   \n",
       "705          845         FURY     NaN       CREE HOWARD     1  1.000000   \n",
       "714          854         RIOT     NaN     ROHRE TITCOMB     1  1.000000   \n",
       "724          864         FURY     NaN      ANNA NAZAROV     0  0.000000   \n",
       "744          884         FURY     NaN       ALEX SNYDER     0  0.000000   \n",
       "845         1008         FURY       4       ALEX SNYDER     2  0.333333   \n",
       "853         1016         FURY      13       CREE HOWARD     4  0.666667   \n",
       "864         1027         FURY      33      ANNA NAZAROV     1  0.166667   \n",
       "926         1107  MOLLY BROWN       9     OCTAVIA PAYNE     1  0.166667   \n",
       "1016        1223      SCANDAL      37   SANDY JORGENSEN     8  1.142857   \n",
       "1051        1258         RIOT       4     ROHRE TITCOMB     2  0.285714   \n",
       "1053        1260         RIOT       6    SARAH GRIFFITH    13  1.857143   \n",
       "\n",
       "      Assist       APG  Block       BPG  Turn       TPG  Games  \\\n",
       "0         32  2.666667    NaN       NaN   NaN       NaN     12   \n",
       "1         14  1.166667    NaN       NaN   NaN       NaN     12   \n",
       "3          6  0.500000    NaN       NaN   NaN       NaN     12   \n",
       "15         8  0.666667    NaN       NaN   NaN       NaN     12   \n",
       "80        11  1.571429      7  1.000000     9  1.285714      7   \n",
       "89         1  0.142857      3  0.428571     4  0.571429      7   \n",
       "97         4  0.571429      7  1.000000     7  1.000000      7   \n",
       "114        4  0.666667      6  1.000000    15  2.500000      6   \n",
       "250        0  0.000000      0  0.000000     0  0.000000      7   \n",
       "252       17  2.428571      4  0.571429     4  0.571429      7   \n",
       "280       14  2.000000      8  1.142857    17  2.428571      7   \n",
       "292        9  1.285714     15  2.142857     5  0.714286      7   \n",
       "326       20  2.857143      5  0.714286     8  1.142857      7   \n",
       "349       10  1.666667    NaN       NaN   NaN       NaN      6   \n",
       "350        3  0.500000    NaN       NaN   NaN       NaN      6   \n",
       "351        3  0.500000    NaN       NaN   NaN       NaN      6   \n",
       "352        1  0.166667    NaN       NaN   NaN       NaN      6   \n",
       "353        0  0.000000    NaN       NaN   NaN       NaN      6   \n",
       "354        0  0.000000    NaN       NaN   NaN       NaN      6   \n",
       "384       13  2.166667    NaN       NaN   NaN       NaN      6   \n",
       "386        7  1.166667    NaN       NaN   NaN       NaN      6   \n",
       "434        8  1.142857    NaN       NaN   NaN       NaN      7   \n",
       "442        3  0.428571    NaN       NaN   NaN       NaN      7   \n",
       "451        7  1.000000    NaN       NaN   NaN       NaN      7   \n",
       "472       12  3.000000    NaN       NaN   NaN       NaN      4   \n",
       "636       23  3.285714    NaN       NaN   NaN       NaN      7   \n",
       "646        4  0.571429    NaN       NaN   NaN       NaN      7   \n",
       "701        2  2.000000    NaN       NaN   NaN       NaN      1   \n",
       "705        2  2.000000    NaN       NaN   NaN       NaN      1   \n",
       "714        1  1.000000    NaN       NaN   NaN       NaN      1   \n",
       "724        1  1.000000    NaN       NaN   NaN       NaN      1   \n",
       "744        0  0.000000    NaN       NaN   NaN       NaN      1   \n",
       "845       11  1.833333    NaN       NaN   NaN       NaN      6   \n",
       "853        5  0.833333    NaN       NaN   NaN       NaN      6   \n",
       "864        8  1.333333    NaN       NaN   NaN       NaN      6   \n",
       "926        8  1.333333    NaN       NaN   NaN       NaN      6   \n",
       "1016       8  1.142857    NaN       NaN   NaN       NaN      7   \n",
       "1051       8  1.142857    NaN       NaN   NaN       NaN      7   \n",
       "1053       5  0.714286    NaN       NaN   NaN       NaN      7   \n",
       "\n",
       "                        Tournament  Standing  Spirit  wg13  wugc16_tryouts  \\\n",
       "0                        2012 WUGC         2   12.00     1               1   \n",
       "1                        2012 WUGC         2   12.00     1               1   \n",
       "3                        2012 WUGC         2   12.00     1               1   \n",
       "15                       2012 WUGC         2   12.00     1               1   \n",
       "80    2013 USAU Club Championships         2    4.14     1               1   \n",
       "89    2013 USAU Club Championships         2    4.14     1               1   \n",
       "97    2013 USAU Club Championships         2    4.14     1               1   \n",
       "114   2013 USAU Club Championships        12    4.17     1               1   \n",
       "250   2013 USAU Club Championships         3    4.43     1               1   \n",
       "252   2013 USAU Club Championships         3    4.43     1               1   \n",
       "280   2013 USAU Club Championships         1    4.36     1               1   \n",
       "292   2013 USAU Club Championships         1    4.36     1               1   \n",
       "326   2013 USAU Club Championships         4    4.14     1               0   \n",
       "349               2013 World Games         1     NaN     1               1   \n",
       "350               2013 World Games         1     NaN     1               0   \n",
       "351               2013 World Games         1     NaN     1               1   \n",
       "352               2013 World Games         1     NaN     1               1   \n",
       "353               2013 World Games         1     NaN     1               1   \n",
       "354               2013 World Games         1     NaN     1               1   \n",
       "384   2014 USAU Club Championships         3   14.17     1               1   \n",
       "386   2014 USAU Club Championships         3   14.17     1               1   \n",
       "434   2014 USAU Club Championships         2   13.43     1               1   \n",
       "442   2014 USAU Club Championships         2   13.43     1               1   \n",
       "451   2014 USAU Club Championships         2   13.43     1               1   \n",
       "472   2014 USAU Club Championships        11   14.71     1               1   \n",
       "636   2014 USAU Club Championships         1   12.71     1               1   \n",
       "646   2014 USAU Club Championships         1   12.71     1               1   \n",
       "701                      2014 WUCC         1     NaN     1               1   \n",
       "705                      2014 WUCC         2     NaN     1               1   \n",
       "714                      2014 WUCC         1     NaN     1               1   \n",
       "724                      2014 WUCC         2     NaN     1               1   \n",
       "744                      2014 WUCC         2     NaN     1               1   \n",
       "845   2015 USAU Club Championships         3   13.60     1               1   \n",
       "853   2015 USAU Club Championships         3   13.60     1               1   \n",
       "864   2015 USAU Club Championships         3   13.60     1               1   \n",
       "926   2015 USAU Club Championships         3   11.33     1               1   \n",
       "1016  2015 USAU Club Championships         6   11.64     1               1   \n",
       "1051  2015 USAU Club Championships         2   14.00     1               1   \n",
       "1053  2015 USAU Club Championships         2   14.00     1               1   \n",
       "\n",
       "      Team_WUGC16  team_num  \n",
       "0               1         0  \n",
       "1               1         0  \n",
       "3               0         0  \n",
       "15              1         0  \n",
       "80              1         0  \n",
       "89              0         0  \n",
       "97              1         0  \n",
       "114             1       NaN  \n",
       "250             1         1  \n",
       "252             1         1  \n",
       "280             1       NaN  \n",
       "292             0       NaN  \n",
       "326             0       NaN  \n",
       "349             1       NaN  \n",
       "350             0       NaN  \n",
       "351             1       NaN  \n",
       "352             1       NaN  \n",
       "353             1       NaN  \n",
       "354             0       NaN  \n",
       "384             1         1  \n",
       "386             1         1  \n",
       "434             1         0  \n",
       "442             0         0  \n",
       "451             1         0  \n",
       "472             1       NaN  \n",
       "636             1       NaN  \n",
       "646             0       NaN  \n",
       "701             1         1  \n",
       "705             0         0  \n",
       "714             1         1  \n",
       "724             1         0  \n",
       "744             1         0  \n",
       "845             1         0  \n",
       "853             0         0  \n",
       "864             1         0  \n",
       "926             1       NaN  \n",
       "1016            0       NaN  \n",
       "1051            1         1  \n",
       "1053            1         1  "
      ]
     },
     "execution_count": 62,
     "metadata": {},
     "output_type": "execute_result"
    }
   ],
   "source": [
    "player_stats[player_stats.wg13 == 1]"
   ]
  },
  {
   "cell_type": "code",
   "execution_count": 151,
   "metadata": {
    "collapsed": false
   },
   "outputs": [],
   "source": [
    "# df without NaN values for Blocks and Turns\n",
    "clean_stats = player_stats.iloc[:, :19].dropna()"
   ]
  },
  {
   "cell_type": "code",
   "execution_count": 152,
   "metadata": {
    "collapsed": false
   },
   "outputs": [
    {
     "data": {
      "text/plain": [
       "(321, 19)"
      ]
     },
     "execution_count": 152,
     "metadata": {},
     "output_type": "execute_result"
    }
   ],
   "source": [
    "clean_stats.shape"
   ]
  },
  {
   "cell_type": "code",
   "execution_count": 154,
   "metadata": {
    "collapsed": false
   },
   "outputs": [
    {
     "data": {
      "text/html": [
       "<div>\n",
       "<table border=\"1\" class=\"dataframe\">\n",
       "  <thead>\n",
       "    <tr style=\"text-align: right;\">\n",
       "      <th></th>\n",
       "      <th>Unnamed: 0</th>\n",
       "      <th>Team</th>\n",
       "      <th>Number</th>\n",
       "      <th>Name</th>\n",
       "      <th>Goal</th>\n",
       "      <th>GPG</th>\n",
       "      <th>Assist</th>\n",
       "      <th>APG</th>\n",
       "      <th>Block</th>\n",
       "      <th>BPG</th>\n",
       "      <th>Turn</th>\n",
       "      <th>TPG</th>\n",
       "      <th>Games</th>\n",
       "      <th>Standing</th>\n",
       "      <th>Spirit</th>\n",
       "      <th>wg13</th>\n",
       "      <th>wugc16_tryouts</th>\n",
       "      <th>Team_WUGC16</th>\n",
       "    </tr>\n",
       "    <tr>\n",
       "      <th>Tournament</th>\n",
       "      <th></th>\n",
       "      <th></th>\n",
       "      <th></th>\n",
       "      <th></th>\n",
       "      <th></th>\n",
       "      <th></th>\n",
       "      <th></th>\n",
       "      <th></th>\n",
       "      <th></th>\n",
       "      <th></th>\n",
       "      <th></th>\n",
       "      <th></th>\n",
       "      <th></th>\n",
       "      <th></th>\n",
       "      <th></th>\n",
       "      <th></th>\n",
       "      <th></th>\n",
       "      <th></th>\n",
       "    </tr>\n",
       "  </thead>\n",
       "  <tbody>\n",
       "    <tr>\n",
       "      <th>2013 USAU Club Championships</th>\n",
       "      <td>321</td>\n",
       "      <td>321</td>\n",
       "      <td>321</td>\n",
       "      <td>321</td>\n",
       "      <td>321</td>\n",
       "      <td>321</td>\n",
       "      <td>321</td>\n",
       "      <td>321</td>\n",
       "      <td>321</td>\n",
       "      <td>321</td>\n",
       "      <td>321</td>\n",
       "      <td>321</td>\n",
       "      <td>321</td>\n",
       "      <td>321</td>\n",
       "      <td>321</td>\n",
       "      <td>321</td>\n",
       "      <td>321</td>\n",
       "      <td>321</td>\n",
       "    </tr>\n",
       "  </tbody>\n",
       "</table>\n",
       "</div>"
      ],
      "text/plain": [
       "                              Unnamed: 0  Team  Number  Name  Goal  GPG  \\\n",
       "Tournament                                                                \n",
       "2013 USAU Club Championships         321   321     321   321   321  321   \n",
       "\n",
       "                              Assist  APG  Block  BPG  Turn  TPG  Games  \\\n",
       "Tournament                                                                \n",
       "2013 USAU Club Championships     321  321    321  321   321  321    321   \n",
       "\n",
       "                              Standing  Spirit  wg13  wugc16_tryouts  \\\n",
       "Tournament                                                             \n",
       "2013 USAU Club Championships       321     321   321             321   \n",
       "\n",
       "                              Team_WUGC16  \n",
       "Tournament                                 \n",
       "2013 USAU Club Championships          321  "
      ]
     },
     "execution_count": 154,
     "metadata": {},
     "output_type": "execute_result"
    }
   ],
   "source": [
    "clean_stats.groupby('Tournament').count()"
   ]
  },
  {
   "cell_type": "code",
   "execution_count": 170,
   "metadata": {
    "collapsed": false
   },
   "outputs": [
    {
     "data": {
      "text/plain": [
       "<matplotlib.collections.PathCollection at 0x119791550>"
      ]
     },
     "execution_count": 170,
     "metadata": {},
     "output_type": "execute_result"
    },
    {
     "data": {
      "image/png": "[encoded data removed]",
      "text/plain": [
       "<matplotlib.figure.Figure at 0x11ac5e710>"
      ]
     },
     "metadata": {},
     "output_type": "display_data"
    }
   ],
   "source": [
    "plt.scatter(x=clean_stats[(clean_stats.Team != 'FURY') & (clean_stats.Team != 'RIOT')].BPG, y=clean_stats[(clean_stats.Team != 'FURY') & (clean_stats.Team != 'RIOT')].TPG, color='yellow')\n",
    "plt.scatter(x=clean_stats[clean_stats.Team == 'FURY'].BPG, y=clean_stats[clean_stats.Team == 'FURY'].TPG, color='blue')\n",
    "plt.scatter(x=clean_stats[clean_stats.Team == 'RIOT'].BPG, y=clean_stats[clean_stats.Team == 'RIOT'].TPG, color='red')\n",
    "plt.scatter(x=clean_stats[clean_stats.wg13 == 1].groupby('Name').mean().BPG, y=clean_stats[clean_stats.wg13 == 1].groupby('Name').mean().TPG, color='black')"
   ]
  },
  {
   "cell_type": "code",
   "execution_count": 159,
   "metadata": {
    "collapsed": false
   },
   "outputs": [
    {
     "data": {
      "text/plain": [
       "<matplotlib.axes._subplots.AxesSubplot at 0x1187198d0>"
      ]
     },
     "execution_count": 159,
     "metadata": {},
     "output_type": "execute_result"
    },
    {
     "data": {
      "image/png": "[encoded data removed]",
      "text/plain": [
       "<matplotlib.figure.Figure at 0x1185b2910>"
      ]
     },
     "metadata": {},
     "output_type": "display_data"
    }
   ],
   "source": [
    "# BPG for wg13 players vs. non\n",
    "sns.boxplot(x=\"wg13\", y=\"BPG\", data=clean_stats)"
   ]
  },
  {
   "cell_type": "code",
   "execution_count": 163,
   "metadata": {
    "collapsed": false
   },
   "outputs": [
    {
     "data": {
      "text/plain": [
       "<matplotlib.axes._subplots.AxesSubplot at 0x1194885d0>"
      ]
     },
     "execution_count": 163,
     "metadata": {},
     "output_type": "execute_result"
    },
    {
     "data": {
      "image/png": "[encoded data removed]",
      "text/plain": [
       "<matplotlib.figure.Figure at 0x1196f31d0>"
      ]
     },
     "metadata": {},
     "output_type": "display_data"
    }
   ],
   "source": [
    "# Blocks for wg13 players vs. non\n",
    "sns.boxplot(x=\"wg13\", y=\"Block\", data=clean_stats)"
   ]
  },
  {
   "cell_type": "markdown",
   "metadata": {},
   "source": [
    "Defensively focused team. Generates more blocks and blocks per game than rest of the field."
   ]
  },
  {
   "cell_type": "code",
   "execution_count": 160,
   "metadata": {
    "collapsed": false
   },
   "outputs": [
    {
     "data": {
      "text/plain": [
       "<matplotlib.axes._subplots.AxesSubplot at 0x118187790>"
      ]
     },
     "execution_count": 160,
     "metadata": {},
     "output_type": "execute_result"
    },
    {
     "data": {
      "image/png": "[encoded data removed]",
      "text/plain": [
       "<matplotlib.figure.Figure at 0x119020c10>"
      ]
     },
     "metadata": {},
     "output_type": "display_data"
    }
   ],
   "source": [
    "# TPG for wg13 players vs. non\n",
    "sns.boxplot(x=\"wg13\", y=\"TPG\", data=clean_stats)"
   ]
  },
  {
   "cell_type": "code",
   "execution_count": 164,
   "metadata": {
    "collapsed": false
   },
   "outputs": [
    {
     "data": {
      "text/plain": [
       "<matplotlib.axes._subplots.AxesSubplot at 0x11a10a5d0>"
      ]
     },
     "execution_count": 164,
     "metadata": {},
     "output_type": "execute_result"
    },
    {
     "data": {
      "image/png": "[encoded data removed]",
      "text/plain": [
       "<matplotlib.figure.Figure at 0x11a201090>"
      ]
     },
     "metadata": {},
     "output_type": "display_data"
    }
   ],
   "source": [
    "# Turns for wg13 players vs. non\n",
    "sns.boxplot(x=\"wg13\", y=\"Turn\", data=clean_stats)"
   ]
  },
  {
   "cell_type": "markdown",
   "metadata": {},
   "source": [
    "Fewer outliers in turns on WG13, but generally higher TOs than rest of the field. Possibly because players are defensively focused, they are weaker on O."
   ]
  },
  {
   "cell_type": "code",
   "execution_count": 161,
   "metadata": {
    "collapsed": false
   },
   "outputs": [
    {
     "data": {
      "text/plain": [
       "<matplotlib.axes._subplots.AxesSubplot at 0x11934de50>"
      ]
     },
     "execution_count": 161,
     "metadata": {},
     "output_type": "execute_result"
    },
    {
     "data": {
      "image/png": "[encoded data removed]",
      "text/plain": [
       "<matplotlib.figure.Figure at 0x119495c10>"
      ]
     },
     "metadata": {},
     "output_type": "display_data"
    }
   ],
   "source": [
    "# Standing for wg13 players vs. non\n",
    "sns.boxplot(x=\"wg13\", y=\"Standing\", data=clean_stats)"
   ]
  },
  {
   "cell_type": "markdown",
   "metadata": {},
   "source": [
    "All players on WG13, except one, played on club teams that finished in the top 4. \n",
    "\n",
    "**Hypothesis:** Playing on top teams develops players and gives them better chance of making Team USA. Georgia, who was the outlier, played on Fury two prior years."
   ]
  },
  {
   "cell_type": "code",
   "execution_count": null,
   "metadata": {
    "collapsed": true
   },
   "outputs": [],
   "source": []
  }
 ],
 "metadata": {
  "kernelspec": {
   "display_name": "Python 2",
   "language": "python",
   "name": "python2"
  },
  "language_info": {
   "codemirror_mode": {
    "name": "ipython",
    "version": 2
   },
   "file_extension": ".py",
   "mimetype": "text/x-python",
   "name": "python",
   "nbconvert_exporter": "python",
   "pygments_lexer": "ipython2",
   "version": "2.7.11"
  }
 },
 "nbformat": 4,
 "nbformat_minor": 0
}
