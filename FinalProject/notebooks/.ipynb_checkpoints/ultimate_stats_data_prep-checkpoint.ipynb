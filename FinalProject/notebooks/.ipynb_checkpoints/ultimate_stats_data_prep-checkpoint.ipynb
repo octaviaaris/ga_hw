{
 "cells": [
  {
   "cell_type": "code",
   "execution_count": 1,
   "metadata": {
    "collapsed": true
   },
   "outputs": [],
   "source": [
    "from bs4 import BeautifulSoup\n",
    "import numpy as np\n",
    "import pandas as pd\n",
    "from pandas import DataFrame, Series\n",
    "import requests\n",
    "import re"
   ]
  },
  {
   "cell_type": "markdown",
   "metadata": {},
   "source": [
    "# 2011 Club Championship\n",
    "http://www.usaultimate.org/news/2011-club-championship-stat-totals/"
   ]
  },
  {
   "cell_type": "code",
   "execution_count": 2,
   "metadata": {
    "collapsed": false
   },
   "outputs": [],
   "source": [
    "stats_11champ = pd.read_html('../data/2011ClubChampionship.html')"
   ]
  },
  {
   "cell_type": "code",
   "execution_count": 5,
   "metadata": {
    "collapsed": false
   },
   "outputs": [
    {
     "data": {
      "text/html": [
       "<div>\n",
       "<table border=\"1\" class=\"dataframe\">\n",
       "  <thead>\n",
       "    <tr style=\"text-align: right;\">\n",
       "      <th></th>\n",
       "      <th>Team</th>\n",
       "      <th>Number</th>\n",
       "      <th>Name</th>\n",
       "      <th>Goal</th>\n",
       "      <th>Assist</th>\n",
       "      <th>Tournament</th>\n",
       "    </tr>\n",
       "  </thead>\n",
       "  <tbody>\n",
       "    <tr>\n",
       "      <th>0</th>\n",
       "      <td>BENT</td>\n",
       "      <td>0</td>\n",
       "      <td>AKINA YOUNGE</td>\n",
       "      <td>3</td>\n",
       "      <td>1</td>\n",
       "      <td>2011 USAU Club Championships</td>\n",
       "    </tr>\n",
       "    <tr>\n",
       "      <th>1</th>\n",
       "      <td>BENT</td>\n",
       "      <td>1</td>\n",
       "      <td>NAOMI BRENDER</td>\n",
       "      <td>0</td>\n",
       "      <td>0</td>\n",
       "      <td>2011 USAU Club Championships</td>\n",
       "    </tr>\n",
       "  </tbody>\n",
       "</table>\n",
       "</div>"
      ],
      "text/plain": [
       "   Team Number           Name  Goal  Assist                    Tournament\n",
       "0  BENT      0   AKINA YOUNGE     3       1  2011 USAU Club Championships\n",
       "1  BENT      1  NAOMI BRENDER     0       0  2011 USAU Club Championships"
      ]
     },
     "execution_count": 5,
     "metadata": {},
     "output_type": "execute_result"
    }
   ],
   "source": [
    "stats_11champ = stats_11champ[0]\n",
    "stats_11champ.rename(columns={'Name':'Name', '#':'Number', 'Goal':'Goal', 'Assist':'Assist', 'Team':'Team'}, inplace=True)\n",
    "stats_11champ['Tournament'] = '2011 USAU Club Championships'\n",
    "for item in stats_11champ.Name:\n",
    "    stats_11champ['Name'].replace(item, item.upper(), inplace=True)\n",
    "for item in stats_11champ.Team:\n",
    "    stats_11champ['Team'].replace(item, item.upper(), inplace=True)\n",
    "stats_11champ.head(2)"
   ]
  },
  {
   "cell_type": "code",
   "execution_count": 6,
   "metadata": {
    "collapsed": false
   },
   "outputs": [
    {
     "data": {
      "text/plain": [
       "PHOENIX        27\n",
       "OZONE          27\n",
       "MOLLY BROWN    26\n",
       "BRUTE SQUAD    25\n",
       "SCANDAL        24\n",
       "SHOWDOWN       24\n",
       "BENT           24\n",
       "CAPITALS       23\n",
       "REVOLOUTION    23\n",
       "FURY           23\n",
       "RIOT           23\n",
       "NEMESIS        23\n",
       "SAFARI         20\n",
       "DESOTO         19\n",
       "FURTHER        16\n",
       "Name: Team, dtype: int64"
      ]
     },
     "execution_count": 6,
     "metadata": {},
     "output_type": "execute_result"
    }
   ],
   "source": [
    "stats_11champ.Team.value_counts()"
   ]
  },
  {
   "cell_type": "markdown",
   "metadata": {},
   "source": [
    "2011 Club Championship Games"
   ]
  },
  {
   "cell_type": "code",
   "execution_count": 7,
   "metadata": {
    "collapsed": true
   },
   "outputs": [],
   "source": [
    "games_11champ = {'PHOENIX': 8,\n",
    " 'OZONE': 7,\n",
    " 'MOLLY BROWN': 8,\n",
    " 'BRUTE SQUAD': 8,\n",
    " 'SCANDAL': 8,\n",
    " 'SHOWDOWN': 9,\n",
    " 'BENT': 7,\n",
    " 'CAPITALS': 8,\n",
    " 'REVOLOUTION': 8,\n",
    " 'FURY': 8,\n",
    " 'RIOT': 8,\n",
    " 'NEMESIS': 7,\n",
    " 'SAFARI': 7,\n",
    " 'DESOTO': 7,\n",
    " 'FURTHER': 7}"
   ]
  },
  {
   "cell_type": "code",
   "execution_count": 8,
   "metadata": {
    "collapsed": false
   },
   "outputs": [],
   "source": [
    "games_list_11champ = []\n",
    "for item in stats_11champ.Team:\n",
    "    games_list_11champ.append(games_11champ[item])"
   ]
  },
  {
   "cell_type": "code",
   "execution_count": 9,
   "metadata": {
    "collapsed": true
   },
   "outputs": [],
   "source": [
    "stats_11champ['Games'] = games_list_11champ"
   ]
  },
  {
   "cell_type": "markdown",
   "metadata": {},
   "source": [
    "2011 Club Championship Standings"
   ]
  },
  {
   "cell_type": "code",
   "execution_count": 10,
   "metadata": {
    "collapsed": true
   },
   "outputs": [],
   "source": [
    "standing_11champ = {'PHOENIX': 3,\n",
    " 'OZONE': 11,\n",
    " 'MOLLY BROWN': 7,\n",
    " 'BRUTE SQUAD': 10,\n",
    " 'SCANDAL': 8,\n",
    " 'SHOWDOWN': 6,\n",
    " 'BENT': 16,\n",
    " 'CAPITALS': 3,\n",
    " 'REVOLOUTION': 12,\n",
    " 'FURY': 1,\n",
    " 'RIOT': 2,\n",
    " 'NEMESIS': 13,\n",
    " 'SAFARI': 14,\n",
    " 'DESOTO': 15,\n",
    " 'FURTHER': 9}"
   ]
  },
  {
   "cell_type": "code",
   "execution_count": 11,
   "metadata": {
    "collapsed": true
   },
   "outputs": [],
   "source": [
    "standing_list_11champ = []\n",
    "for item in stats_11champ.Team:\n",
    "    standing_list_11champ.append(standing_11champ[item])"
   ]
  },
  {
   "cell_type": "code",
   "execution_count": 12,
   "metadata": {
    "collapsed": true
   },
   "outputs": [],
   "source": [
    "stats_11champ['Standing'] = standing_list_11champ"
   ]
  },
  {
   "cell_type": "markdown",
   "metadata": {},
   "source": [
    "2011 Club CHampionship Spirit\n",
    "\n",
    "http://www.usaultimate.org/archives/2011_club.aspx"
   ]
  },
  {
   "cell_type": "code",
   "execution_count": 13,
   "metadata": {
    "collapsed": true
   },
   "outputs": [],
   "source": [
    "spirit_11champ = {'PHOENIX': 3.14,\n",
    " 'OZONE': 4.29,\n",
    " 'MOLLY BROWN': 4.29,\n",
    " 'BRUTE SQUAD': 3.50,\n",
    " 'SCANDAL': 3.75,\n",
    " 'SHOWDOWN': 3.89,\n",
    " 'BENT': 4.29,\n",
    " 'CAPITALS': 3.50,\n",
    " 'REVOLOUTION': 4.38,\n",
    " 'FURY': 4.14,\n",
    " 'RIOT': 3.57,\n",
    " 'NEMESIS': 3.00,\n",
    " 'SAFARI': 4.29,\n",
    " 'DESOTO': 3.86,\n",
    " 'FURTHER': 4.29}"
   ]
  },
  {
   "cell_type": "code",
   "execution_count": 16,
   "metadata": {
    "collapsed": false
   },
   "outputs": [],
   "source": [
    "scores_list_11champ = []\n",
    "for item in stats_11champ.Team:\n",
    "    scores_list_11champ.append(spirit_11champ[item]/5.0)"
   ]
  },
  {
   "cell_type": "code",
   "execution_count": 17,
   "metadata": {
    "collapsed": true
   },
   "outputs": [],
   "source": [
    "stats_11champ['Block'] = np.nan\n",
    "stats_11champ['Turn'] = np.nan"
   ]
  },
  {
   "cell_type": "code",
   "execution_count": 18,
   "metadata": {
    "collapsed": false
   },
   "outputs": [
    {
     "data": {
      "text/html": [
       "<div>\n",
       "<table border=\"1\" class=\"dataframe\">\n",
       "  <thead>\n",
       "    <tr style=\"text-align: right;\">\n",
       "      <th></th>\n",
       "      <th>Team</th>\n",
       "      <th>Number</th>\n",
       "      <th>Name</th>\n",
       "      <th>Goal</th>\n",
       "      <th>Assist</th>\n",
       "      <th>Block</th>\n",
       "      <th>Turn</th>\n",
       "      <th>Games</th>\n",
       "      <th>Tournament</th>\n",
       "      <th>Standing</th>\n",
       "      <th>Spirit</th>\n",
       "    </tr>\n",
       "  </thead>\n",
       "  <tbody>\n",
       "    <tr>\n",
       "      <th>0</th>\n",
       "      <td>BENT</td>\n",
       "      <td>0</td>\n",
       "      <td>AKINA YOUNGE</td>\n",
       "      <td>3</td>\n",
       "      <td>1</td>\n",
       "      <td>NaN</td>\n",
       "      <td>NaN</td>\n",
       "      <td>7</td>\n",
       "      <td>2011 USAU Club Championships</td>\n",
       "      <td>16</td>\n",
       "      <td>0.858</td>\n",
       "    </tr>\n",
       "    <tr>\n",
       "      <th>1</th>\n",
       "      <td>BENT</td>\n",
       "      <td>1</td>\n",
       "      <td>NAOMI BRENDER</td>\n",
       "      <td>0</td>\n",
       "      <td>0</td>\n",
       "      <td>NaN</td>\n",
       "      <td>NaN</td>\n",
       "      <td>7</td>\n",
       "      <td>2011 USAU Club Championships</td>\n",
       "      <td>16</td>\n",
       "      <td>0.858</td>\n",
       "    </tr>\n",
       "    <tr>\n",
       "      <th>2</th>\n",
       "      <td>BENT</td>\n",
       "      <td>2</td>\n",
       "      <td>KAREN CHALIF</td>\n",
       "      <td>4</td>\n",
       "      <td>1</td>\n",
       "      <td>NaN</td>\n",
       "      <td>NaN</td>\n",
       "      <td>7</td>\n",
       "      <td>2011 USAU Club Championships</td>\n",
       "      <td>16</td>\n",
       "      <td>0.858</td>\n",
       "    </tr>\n",
       "    <tr>\n",
       "      <th>3</th>\n",
       "      <td>BENT</td>\n",
       "      <td>7</td>\n",
       "      <td>ANNE SILVER</td>\n",
       "      <td>0</td>\n",
       "      <td>0</td>\n",
       "      <td>NaN</td>\n",
       "      <td>NaN</td>\n",
       "      <td>7</td>\n",
       "      <td>2011 USAU Club Championships</td>\n",
       "      <td>16</td>\n",
       "      <td>0.858</td>\n",
       "    </tr>\n",
       "    <tr>\n",
       "      <th>4</th>\n",
       "      <td>BENT</td>\n",
       "      <td>8</td>\n",
       "      <td>MARISA WESTHEIMER</td>\n",
       "      <td>1</td>\n",
       "      <td>1</td>\n",
       "      <td>NaN</td>\n",
       "      <td>NaN</td>\n",
       "      <td>7</td>\n",
       "      <td>2011 USAU Club Championships</td>\n",
       "      <td>16</td>\n",
       "      <td>0.858</td>\n",
       "    </tr>\n",
       "  </tbody>\n",
       "</table>\n",
       "</div>"
      ],
      "text/plain": [
       "   Team Number               Name  Goal  Assist  Block  Turn  Games  \\\n",
       "0  BENT      0       AKINA YOUNGE     3       1    NaN   NaN      7   \n",
       "1  BENT      1      NAOMI BRENDER     0       0    NaN   NaN      7   \n",
       "2  BENT      2       KAREN CHALIF     4       1    NaN   NaN      7   \n",
       "3  BENT      7        ANNE SILVER     0       0    NaN   NaN      7   \n",
       "4  BENT      8  MARISA WESTHEIMER     1       1    NaN   NaN      7   \n",
       "\n",
       "                     Tournament  Standing  Spirit  \n",
       "0  2011 USAU Club Championships        16   0.858  \n",
       "1  2011 USAU Club Championships        16   0.858  \n",
       "2  2011 USAU Club Championships        16   0.858  \n",
       "3  2011 USAU Club Championships        16   0.858  \n",
       "4  2011 USAU Club Championships        16   0.858  "
      ]
     },
     "execution_count": 18,
     "metadata": {},
     "output_type": "execute_result"
    }
   ],
   "source": [
    "stats_11champ['Spirit'] = scores_list_11champ\n",
    "stats_11champ = stats_11champ[['Team', 'Number', 'Name', 'Goal', 'Assist', 'Block', 'Turn', 'Games', 'Tournament', 'Standing', 'Spirit']]\n",
    "stats_11champ.head()"
   ]
  },
  {
   "cell_type": "markdown",
   "metadata": {},
   "source": [
    "# 2012 US Open\n",
    "http://www.usaultimate.org/news/2012-us-open-statistics/"
   ]
  },
  {
   "cell_type": "code",
   "execution_count": 19,
   "metadata": {
    "collapsed": true
   },
   "outputs": [],
   "source": [
    "r = requests.get('http://www.usaultimate.org/news/2012-us-open-statistics/') \n",
    "b = BeautifulSoup(r.text, 'html.parser')"
   ]
  },
  {
   "cell_type": "code",
   "execution_count": 20,
   "metadata": {
    "collapsed": false
   },
   "outputs": [],
   "source": [
    "# b.find_all('table', {'width':'585'})[2].find_all('td')"
   ]
  },
  {
   "cell_type": "code",
   "execution_count": 21,
   "metadata": {
    "collapsed": false
   },
   "outputs": [],
   "source": [
    "# get out values between td tags\n",
    "List1 = [str(item)[4:-5] for item in b.find_all('table',{'width':'585'})[2].find_all('td')]\n",
    "\n",
    "playerInfo_12usopen = []\n",
    "count = 0\n",
    "\n",
    "while count < len(List1):\n",
    "\n",
    "    info = {}\n",
    "\n",
    "    info['Number'] = List1[count+1]\n",
    "    info['Name'] = List1[count+2].upper()\n",
    "    info['Goal'] = int(List1[count+3])\n",
    "    info['Assist'] = int(List1[count+4])\n",
    "    info['Block'] = int(List1[count+5])\n",
    "    info['Turn'] = int(List1[count+6])\n",
    "    info['Team'] = List1[count].upper()\n",
    "    info['Tournament'] = '2012 US Open'\n",
    "\n",
    "    count += 7\n",
    "    playerInfo_12usopen.append(info)"
   ]
  },
  {
   "cell_type": "code",
   "execution_count": 22,
   "metadata": {
    "collapsed": false
   },
   "outputs": [
    {
     "data": {
      "text/html": [
       "<div>\n",
       "<table border=\"1\" class=\"dataframe\">\n",
       "  <thead>\n",
       "    <tr style=\"text-align: right;\">\n",
       "      <th></th>\n",
       "      <th>Assist</th>\n",
       "      <th>Block</th>\n",
       "      <th>Goal</th>\n",
       "      <th>Name</th>\n",
       "      <th>Number</th>\n",
       "      <th>Team</th>\n",
       "      <th>Tournament</th>\n",
       "      <th>Turn</th>\n",
       "    </tr>\n",
       "  </thead>\n",
       "  <tbody>\n",
       "    <tr>\n",
       "      <th>0</th>\n",
       "      <td>0</td>\n",
       "      <td>0</td>\n",
       "      <td>0</td>\n",
       "      <td>MARISABEL BURBUJA  LOGREIRA</td>\n",
       "      <td>0</td>\n",
       "      <td>AEROSOUL</td>\n",
       "      <td>2012 US Open</td>\n",
       "      <td>7</td>\n",
       "    </tr>\n",
       "    <tr>\n",
       "      <th>1</th>\n",
       "      <td>2</td>\n",
       "      <td>0</td>\n",
       "      <td>2</td>\n",
       "      <td>ANDREA  VACCA</td>\n",
       "      <td>1</td>\n",
       "      <td>AEROSOUL</td>\n",
       "      <td>2012 US Open</td>\n",
       "      <td>3</td>\n",
       "    </tr>\n",
       "    <tr>\n",
       "      <th>2</th>\n",
       "      <td>0</td>\n",
       "      <td>3</td>\n",
       "      <td>1</td>\n",
       "      <td>MAIRA LORENA   WALTERO</td>\n",
       "      <td>2</td>\n",
       "      <td>AEROSOUL</td>\n",
       "      <td>2012 US Open</td>\n",
       "      <td>6</td>\n",
       "    </tr>\n",
       "    <tr>\n",
       "      <th>3</th>\n",
       "      <td>0</td>\n",
       "      <td>1</td>\n",
       "      <td>0</td>\n",
       "      <td>SUZANNE  WAVROCH</td>\n",
       "      <td>02</td>\n",
       "      <td>AEROSOUL</td>\n",
       "      <td>2012 US Open</td>\n",
       "      <td>3</td>\n",
       "    </tr>\n",
       "    <tr>\n",
       "      <th>4</th>\n",
       "      <td>0</td>\n",
       "      <td>0</td>\n",
       "      <td>0</td>\n",
       "      <td>ALEJANDRA  GOMEZ</td>\n",
       "      <td>3</td>\n",
       "      <td>AEROSOUL</td>\n",
       "      <td>2012 US Open</td>\n",
       "      <td>0</td>\n",
       "    </tr>\n",
       "  </tbody>\n",
       "</table>\n",
       "</div>"
      ],
      "text/plain": [
       "   Assist  Block  Goal                         Name Number      Team  \\\n",
       "0       0      0     0  MARISABEL BURBUJA  LOGREIRA      0  AEROSOUL   \n",
       "1       2      0     2                ANDREA  VACCA      1  AEROSOUL   \n",
       "2       0      3     1       MAIRA LORENA   WALTERO      2  AEROSOUL   \n",
       "3       0      1     0             SUZANNE  WAVROCH     02  AEROSOUL   \n",
       "4       0      0     0             ALEJANDRA  GOMEZ      3  AEROSOUL   \n",
       "\n",
       "     Tournament  Turn  \n",
       "0  2012 US Open     7  \n",
       "1  2012 US Open     3  \n",
       "2  2012 US Open     6  \n",
       "3  2012 US Open     3  \n",
       "4  2012 US Open     0  "
      ]
     },
     "execution_count": 22,
     "metadata": {},
     "output_type": "execute_result"
    }
   ],
   "source": [
    "stats_12usopen = DataFrame.from_dict(playerInfo_12usopen)\n",
    "stats_12usopen.head()"
   ]
  },
  {
   "cell_type": "code",
   "execution_count": 23,
   "metadata": {
    "collapsed": false
   },
   "outputs": [
    {
     "data": {
      "text/plain": [
       "MOLLY BROWN    29\n",
       "PHOENIX        28\n",
       "RIOT           25\n",
       "SAFARI         25\n",
       "AEROSOUL       24\n",
       "SHOWDOWN       24\n",
       "SCANDAL        23\n",
       "OZONE          19\n",
       "Name: Team, dtype: int64"
      ]
     },
     "execution_count": 23,
     "metadata": {},
     "output_type": "execute_result"
    }
   ],
   "source": [
    "stats_12usopen.Team.value_counts()"
   ]
  },
  {
   "cell_type": "markdown",
   "metadata": {},
   "source": [
    "2012 US Open Games"
   ]
  },
  {
   "cell_type": "code",
   "execution_count": 24,
   "metadata": {
    "collapsed": true
   },
   "outputs": [],
   "source": [
    "games_12usopen = {'MOLLY BROWN': 7,\n",
    " 'PHOENIX': 8,\n",
    " 'RIOT': 9,\n",
    " 'SAFARI': 7,\n",
    " 'AEROSOUL': 7,\n",
    " 'SHOWDOWN': 8,\n",
    " 'SCANDAL': 9,\n",
    " 'OZONE': 7}"
   ]
  },
  {
   "cell_type": "code",
   "execution_count": 25,
   "metadata": {
    "collapsed": true
   },
   "outputs": [],
   "source": [
    "games_list_12usopen = []\n",
    "for item in stats_12usopen.Team:\n",
    "    games_list_12usopen.append(games_12usopen[item])"
   ]
  },
  {
   "cell_type": "code",
   "execution_count": 26,
   "metadata": {
    "collapsed": true
   },
   "outputs": [],
   "source": [
    "stats_12usopen['Games'] = games_list_12usopen"
   ]
  },
  {
   "cell_type": "markdown",
   "metadata": {},
   "source": [
    "2012 US Open Standings"
   ]
  },
  {
   "cell_type": "code",
   "execution_count": 27,
   "metadata": {
    "collapsed": true
   },
   "outputs": [],
   "source": [
    "standing_12usopen = {'MOLLY BROWN': 6,\n",
    " 'PHOENIX': 3,\n",
    " 'RIOT': 1,\n",
    " 'SAFARI': 7,\n",
    " 'AEROSOUL': 8,\n",
    " 'SHOWDOWN': 3,\n",
    " 'SCANDAL': 2,\n",
    " 'OZONE': 5}"
   ]
  },
  {
   "cell_type": "code",
   "execution_count": 28,
   "metadata": {
    "collapsed": true
   },
   "outputs": [],
   "source": [
    "standing_list_12usopen = []\n",
    "for item in stats_12usopen.Team:\n",
    "    standing_list_12usopen.append(standing_12usopen[item])"
   ]
  },
  {
   "cell_type": "code",
   "execution_count": 29,
   "metadata": {
    "collapsed": true
   },
   "outputs": [],
   "source": [
    "stats_12usopen['Standing'] = standing_list_12usopen"
   ]
  },
  {
   "cell_type": "markdown",
   "metadata": {},
   "source": [
    "2012 US Open Spirit\n",
    "\n",
    "http://www.usaultimate.org/archives/2012_club.aspx#usopen"
   ]
  },
  {
   "cell_type": "code",
   "execution_count": 30,
   "metadata": {
    "collapsed": true
   },
   "outputs": [],
   "source": [
    "r = requests.get('http://www.usaultimate.org/archives/2012_club.aspx#usopen') \n",
    "b = BeautifulSoup(r.text, 'html.parser')"
   ]
  },
  {
   "cell_type": "code",
   "execution_count": 31,
   "metadata": {
    "collapsed": false
   },
   "outputs": [
    {
     "data": {
      "text/plain": [
       "['<td>1</td>',\n",
       " '<td><strong>Riot</strong></td>',\n",
       " '<td>Northwest</td>',\n",
       " '<td>4.44</td>',\n",
       " '<td>2</td>',\n",
       " '<td>Scandal</td>',\n",
       " '<td>Mid-Atlantic</td>',\n",
       " '<td>3.89</td>',\n",
       " '<td>3T</td>',\n",
       " '<td>Phoenix</td>',\n",
       " '<td>Southeast</td>',\n",
       " '<td>4.13</td>',\n",
       " '<td>3T</td>',\n",
       " '<td>Showdown</td>',\n",
       " '<td>South Central</td>',\n",
       " '<td>4.50</td>',\n",
       " '<td>5</td>',\n",
       " '<td>Ozone</td>',\n",
       " '<td>Southeast</td>',\n",
       " '<td>3.00</td>',\n",
       " '<td>6</td>',\n",
       " '<td>Molly Brown</td>',\n",
       " '<td>South Central</td>',\n",
       " '<td><strong>4.57</strong></td>',\n",
       " '<td>7</td>',\n",
       " '<td>Safari</td>',\n",
       " '<td>Southwest</td>',\n",
       " '<td>4.43</td>',\n",
       " '<td>8</td>',\n",
       " '<td>Aerosoul</td>',\n",
       " '<td>International</td>',\n",
       " '<td>4.00</td>']"
      ]
     },
     "execution_count": 31,
     "metadata": {},
     "output_type": "execute_result"
    }
   ],
   "source": [
    "scores_12usopen = [str(item) for item in b.findAll('table', {'width':'480'})[5].findAll('td')]\n",
    "scores_12usopen"
   ]
  },
  {
   "cell_type": "code",
   "execution_count": 32,
   "metadata": {
    "collapsed": false
   },
   "outputs": [
    {
     "data": {
      "text/plain": [
       "{'AEROSOUL': 4.0,\n",
       " 'MOLLY BROWN': 4.57,\n",
       " 'OZONE': 3.0,\n",
       " 'PHOENIX': 4.13,\n",
       " 'RIOT': 4.44,\n",
       " 'SAFARI': 4.43,\n",
       " 'SCANDAL': 3.89,\n",
       " 'SHOWDOWN': 4.5}"
      ]
     },
     "execution_count": 32,
     "metadata": {},
     "output_type": "execute_result"
    }
   ],
   "source": [
    "spirit_12usopen = {}\n",
    "count = 1\n",
    "\n",
    "while count < len(scores_12usopen):\n",
    "    spirit_12usopen[re.findall('([^>]*)</', scores_12usopen[count])[0].upper()] = float(re.findall('([^>]*)</', scores_12usopen[count+2])[0])\n",
    "\n",
    "    count += 4\n",
    "    \n",
    "spirit_12usopen"
   ]
  },
  {
   "cell_type": "code",
   "execution_count": 33,
   "metadata": {
    "collapsed": true
   },
   "outputs": [],
   "source": [
    "scores_list_12usopen = []\n",
    "for item in stats_12usopen.Team:\n",
    "    scores_list_12usopen.append(spirit_12usopen[item]/5.0)"
   ]
  },
  {
   "cell_type": "code",
   "execution_count": 34,
   "metadata": {
    "collapsed": false
   },
   "outputs": [
    {
     "data": {
      "text/html": [
       "<div>\n",
       "<table border=\"1\" class=\"dataframe\">\n",
       "  <thead>\n",
       "    <tr style=\"text-align: right;\">\n",
       "      <th></th>\n",
       "      <th>Team</th>\n",
       "      <th>Number</th>\n",
       "      <th>Name</th>\n",
       "      <th>Goal</th>\n",
       "      <th>Assist</th>\n",
       "      <th>Block</th>\n",
       "      <th>Turn</th>\n",
       "      <th>Games</th>\n",
       "      <th>Tournament</th>\n",
       "      <th>Standing</th>\n",
       "      <th>Spirit</th>\n",
       "    </tr>\n",
       "  </thead>\n",
       "  <tbody>\n",
       "    <tr>\n",
       "      <th>0</th>\n",
       "      <td>AEROSOUL</td>\n",
       "      <td>0</td>\n",
       "      <td>MARISABEL BURBUJA  LOGREIRA</td>\n",
       "      <td>0</td>\n",
       "      <td>0</td>\n",
       "      <td>0</td>\n",
       "      <td>7</td>\n",
       "      <td>7</td>\n",
       "      <td>2012 US Open</td>\n",
       "      <td>8</td>\n",
       "      <td>0.8</td>\n",
       "    </tr>\n",
       "    <tr>\n",
       "      <th>1</th>\n",
       "      <td>AEROSOUL</td>\n",
       "      <td>1</td>\n",
       "      <td>ANDREA  VACCA</td>\n",
       "      <td>2</td>\n",
       "      <td>2</td>\n",
       "      <td>0</td>\n",
       "      <td>3</td>\n",
       "      <td>7</td>\n",
       "      <td>2012 US Open</td>\n",
       "      <td>8</td>\n",
       "      <td>0.8</td>\n",
       "    </tr>\n",
       "    <tr>\n",
       "      <th>2</th>\n",
       "      <td>AEROSOUL</td>\n",
       "      <td>2</td>\n",
       "      <td>MAIRA LORENA   WALTERO</td>\n",
       "      <td>1</td>\n",
       "      <td>0</td>\n",
       "      <td>3</td>\n",
       "      <td>6</td>\n",
       "      <td>7</td>\n",
       "      <td>2012 US Open</td>\n",
       "      <td>8</td>\n",
       "      <td>0.8</td>\n",
       "    </tr>\n",
       "    <tr>\n",
       "      <th>3</th>\n",
       "      <td>AEROSOUL</td>\n",
       "      <td>02</td>\n",
       "      <td>SUZANNE  WAVROCH</td>\n",
       "      <td>0</td>\n",
       "      <td>0</td>\n",
       "      <td>1</td>\n",
       "      <td>3</td>\n",
       "      <td>7</td>\n",
       "      <td>2012 US Open</td>\n",
       "      <td>8</td>\n",
       "      <td>0.8</td>\n",
       "    </tr>\n",
       "    <tr>\n",
       "      <th>4</th>\n",
       "      <td>AEROSOUL</td>\n",
       "      <td>3</td>\n",
       "      <td>ALEJANDRA  GOMEZ</td>\n",
       "      <td>0</td>\n",
       "      <td>0</td>\n",
       "      <td>0</td>\n",
       "      <td>0</td>\n",
       "      <td>7</td>\n",
       "      <td>2012 US Open</td>\n",
       "      <td>8</td>\n",
       "      <td>0.8</td>\n",
       "    </tr>\n",
       "  </tbody>\n",
       "</table>\n",
       "</div>"
      ],
      "text/plain": [
       "       Team Number                         Name  Goal  Assist  Block  Turn  \\\n",
       "0  AEROSOUL      0  MARISABEL BURBUJA  LOGREIRA     0       0      0     7   \n",
       "1  AEROSOUL      1                ANDREA  VACCA     2       2      0     3   \n",
       "2  AEROSOUL      2       MAIRA LORENA   WALTERO     1       0      3     6   \n",
       "3  AEROSOUL     02             SUZANNE  WAVROCH     0       0      1     3   \n",
       "4  AEROSOUL      3             ALEJANDRA  GOMEZ     0       0      0     0   \n",
       "\n",
       "   Games    Tournament  Standing  Spirit  \n",
       "0      7  2012 US Open         8     0.8  \n",
       "1      7  2012 US Open         8     0.8  \n",
       "2      7  2012 US Open         8     0.8  \n",
       "3      7  2012 US Open         8     0.8  \n",
       "4      7  2012 US Open         8     0.8  "
      ]
     },
     "execution_count": 34,
     "metadata": {},
     "output_type": "execute_result"
    }
   ],
   "source": [
    "stats_12usopen['Spirit'] = scores_list_12usopen\n",
    "stats_12usopen = stats_12usopen[['Team', 'Number', 'Name', 'Goal', 'Assist', 'Block', 'Turn', 'Games', 'Tournament', 'Standing', 'Spirit']]\n",
    "stats_12usopen.head()"
   ]
  },
  {
   "cell_type": "markdown",
   "metadata": {},
   "source": [
    "# 2012 Club Championship\n",
    "\n",
    "Not available"
   ]
  },
  {
   "cell_type": "markdown",
   "metadata": {},
   "source": [
    "# 2012 WUGC\n",
    "http://fdsys.jfda.or.jp/pscore/scv_team/open/85?lang=en"
   ]
  },
  {
   "cell_type": "code",
   "execution_count": 35,
   "metadata": {
    "collapsed": false
   },
   "outputs": [
    {
     "data": {
      "text/plain": [
       "[u'', u'#', u'Player', u'Games', u'Assist', u'Goal', u'Tot.', u'block', u'']"
      ]
     },
     "execution_count": 35,
     "metadata": {},
     "output_type": "execute_result"
    }
   ],
   "source": [
    "r = requests.get('http://fdsys.jfda.or.jp/pscore/scv_team/open/85?lang=en') \n",
    "b = BeautifulSoup(r.text, 'html.parser')\n",
    "\n",
    "# b.findAll('span',{'class':'SCV_MIDA_M'})\n",
    "b.find('table',{'style':'width: 95%'}).find('tr',{'class':''}).text.split('\\n')"
   ]
  },
  {
   "cell_type": "code",
   "execution_count": 36,
   "metadata": {
    "collapsed": false
   },
   "outputs": [
    {
     "data": {
      "text/plain": [
       "[u'#', u'Player', u'Games', u'Assist', u'Goal', u'Tot.', u'block']"
      ]
     },
     "execution_count": 36,
     "metadata": {},
     "output_type": "execute_result"
    }
   ],
   "source": [
    "columns_2012WUGC = b.find('table',{'style':'width: 95%'}).find('tr',{'class':''}).text.split('\\n')[1:-1]\n",
    "columns_2012WUGC"
   ]
  },
  {
   "cell_type": "code",
   "execution_count": 37,
   "metadata": {
    "collapsed": false
   },
   "outputs": [
    {
     "data": {
      "text/plain": [
       "35"
      ]
     },
     "execution_count": 37,
     "metadata": {},
     "output_type": "execute_result"
    }
   ],
   "source": [
    "List1 = [str(item)[15:-5] for item in b.find('table',{'style':'width: 95%'}).find_all('td')[7:]]\n",
    "List1\n",
    "# List1[1].split('</span>')[1][:-5]\n",
    "int(List1[5][:-2])"
   ]
  },
  {
   "cell_type": "code",
   "execution_count": 38,
   "metadata": {
    "collapsed": true
   },
   "outputs": [],
   "source": [
    "def player_info_dict():\n",
    "    \n",
    "    List1 = [str(item)[15:-5] for item in b.find('table',{'style':'width: 95%'}).find_all('td')[7:]]\n",
    "    \n",
    "    playerInfo = []\n",
    "    count = 0\n",
    "    \n",
    "    while count < len(List1):\n",
    "        \n",
    "        info = {}\n",
    "\n",
    "        info['#'] = List1[count]\n",
    "        info['Player'] = List1[count+1].split('</span>')[1][:-5].upper()\n",
    "        info['Games'] = int(List1[count+2])\n",
    "        info['Assist'] = int(List1[count+3])\n",
    "        info['Goals'] = int(List1[count+4])\n",
    "        info['Team'] = 'FURY'\n",
    "        info['Block'] = np.nan\n",
    "        info['Turn'] = np.nan\n",
    "        \n",
    "        count += 7\n",
    "        playerInfo.append(info)\n",
    "    \n",
    "    return playerInfo"
   ]
  },
  {
   "cell_type": "code",
   "execution_count": 39,
   "metadata": {
    "collapsed": false
   },
   "outputs": [
    {
     "data": {
      "text/html": [
       "<div>\n",
       "<table border=\"1\" class=\"dataframe\">\n",
       "  <thead>\n",
       "    <tr style=\"text-align: right;\">\n",
       "      <th></th>\n",
       "      <th>Team</th>\n",
       "      <th>Number</th>\n",
       "      <th>Name</th>\n",
       "      <th>Goal</th>\n",
       "      <th>Assist</th>\n",
       "      <th>Block</th>\n",
       "      <th>Turn</th>\n",
       "      <th>Games</th>\n",
       "      <th>Tournament</th>\n",
       "      <th>Standing</th>\n",
       "    </tr>\n",
       "  </thead>\n",
       "  <tbody>\n",
       "    <tr>\n",
       "      <th>0</th>\n",
       "      <td>FURY</td>\n",
       "      <td>4</td>\n",
       "      <td>ALEX SNYDER</td>\n",
       "      <td>3</td>\n",
       "      <td>32</td>\n",
       "      <td>NaN</td>\n",
       "      <td>NaN</td>\n",
       "      <td>12</td>\n",
       "      <td>2012 WUGC</td>\n",
       "      <td>2</td>\n",
       "    </tr>\n",
       "    <tr>\n",
       "      <th>1</th>\n",
       "      <td>FURY</td>\n",
       "      <td>19</td>\n",
       "      <td>GEORGIA BOSSCHER</td>\n",
       "      <td>13</td>\n",
       "      <td>14</td>\n",
       "      <td>NaN</td>\n",
       "      <td>NaN</td>\n",
       "      <td>12</td>\n",
       "      <td>2012 WUGC</td>\n",
       "      <td>2</td>\n",
       "    </tr>\n",
       "    <tr>\n",
       "      <th>2</th>\n",
       "      <td>FURY</td>\n",
       "      <td>7</td>\n",
       "      <td>KAELA JORGENSON</td>\n",
       "      <td>12</td>\n",
       "      <td>10</td>\n",
       "      <td>NaN</td>\n",
       "      <td>NaN</td>\n",
       "      <td>12</td>\n",
       "      <td>2012 WUGC</td>\n",
       "      <td>2</td>\n",
       "    </tr>\n",
       "    <tr>\n",
       "      <th>3</th>\n",
       "      <td>FURY</td>\n",
       "      <td>13</td>\n",
       "      <td>CREE HOWARD</td>\n",
       "      <td>15</td>\n",
       "      <td>6</td>\n",
       "      <td>NaN</td>\n",
       "      <td>NaN</td>\n",
       "      <td>12</td>\n",
       "      <td>2012 WUGC</td>\n",
       "      <td>2</td>\n",
       "    </tr>\n",
       "    <tr>\n",
       "      <th>4</th>\n",
       "      <td>FURY</td>\n",
       "      <td>26</td>\n",
       "      <td>ALICIA WHITE</td>\n",
       "      <td>16</td>\n",
       "      <td>2</td>\n",
       "      <td>NaN</td>\n",
       "      <td>NaN</td>\n",
       "      <td>12</td>\n",
       "      <td>2012 WUGC</td>\n",
       "      <td>2</td>\n",
       "    </tr>\n",
       "  </tbody>\n",
       "</table>\n",
       "</div>"
      ],
      "text/plain": [
       "   Team Number              Name  Goal  Assist  Block  Turn  Games Tournament  \\\n",
       "0  FURY      4       ALEX SNYDER     3      32    NaN   NaN     12  2012 WUGC   \n",
       "1  FURY     19  GEORGIA BOSSCHER    13      14    NaN   NaN     12  2012 WUGC   \n",
       "2  FURY      7   KAELA JORGENSON    12      10    NaN   NaN     12  2012 WUGC   \n",
       "3  FURY     13       CREE HOWARD    15       6    NaN   NaN     12  2012 WUGC   \n",
       "4  FURY     26      ALICIA WHITE    16       2    NaN   NaN     12  2012 WUGC   \n",
       "\n",
       "   Standing  \n",
       "0         2  \n",
       "1         2  \n",
       "2         2  \n",
       "3         2  \n",
       "4         2  "
      ]
     },
     "execution_count": 39,
     "metadata": {},
     "output_type": "execute_result"
    }
   ],
   "source": [
    "stats_12WUGC = DataFrame.from_dict(player_info_dict())\n",
    "\n",
    "stats_12WUGC.rename(columns={'#':'Number', 'Goals':'Goal', 'Player':'Name'}, inplace=True)\n",
    "stats_12WUGC = stats_12WUGC[['Team', 'Number', 'Name', 'Goal', 'Assist', 'Block', 'Turn']]\n",
    "stats_12WUGC['Games'] = 12\n",
    "stats_12WUGC['Tournament'] = '2012 WUGC'\n",
    "stats_12WUGC['Standing'] = 2\n",
    "stats_12WUGC.head()"
   ]
  },
  {
   "cell_type": "markdown",
   "metadata": {},
   "source": [
    "2012 WUGC Spirit \n",
    "\n",
    "http://www.wfdf.org/news-media/news/news/463-world-flying-disc-federation-releases-spirit-scores-from-2012-world-ultimate-championships"
   ]
  },
  {
   "cell_type": "code",
   "execution_count": 40,
   "metadata": {
    "collapsed": true
   },
   "outputs": [],
   "source": [
    "stats_12WUGC['Spirit'] = 12.00/20"
   ]
  },
  {
   "cell_type": "code",
   "execution_count": 41,
   "metadata": {
    "collapsed": false
   },
   "outputs": [
    {
     "data": {
      "text/html": [
       "<div>\n",
       "<table border=\"1\" class=\"dataframe\">\n",
       "  <thead>\n",
       "    <tr style=\"text-align: right;\">\n",
       "      <th></th>\n",
       "      <th>Team</th>\n",
       "      <th>Number</th>\n",
       "      <th>Name</th>\n",
       "      <th>Goal</th>\n",
       "      <th>Assist</th>\n",
       "      <th>Block</th>\n",
       "      <th>Turn</th>\n",
       "      <th>Games</th>\n",
       "      <th>Tournament</th>\n",
       "      <th>Standing</th>\n",
       "      <th>Spirit</th>\n",
       "    </tr>\n",
       "  </thead>\n",
       "  <tbody>\n",
       "    <tr>\n",
       "      <th>0</th>\n",
       "      <td>FURY</td>\n",
       "      <td>4</td>\n",
       "      <td>ALEX SNYDER</td>\n",
       "      <td>3</td>\n",
       "      <td>32</td>\n",
       "      <td>NaN</td>\n",
       "      <td>NaN</td>\n",
       "      <td>12</td>\n",
       "      <td>2012 WUGC</td>\n",
       "      <td>2</td>\n",
       "      <td>0.6</td>\n",
       "    </tr>\n",
       "    <tr>\n",
       "      <th>1</th>\n",
       "      <td>FURY</td>\n",
       "      <td>19</td>\n",
       "      <td>GEORGIA BOSSCHER</td>\n",
       "      <td>13</td>\n",
       "      <td>14</td>\n",
       "      <td>NaN</td>\n",
       "      <td>NaN</td>\n",
       "      <td>12</td>\n",
       "      <td>2012 WUGC</td>\n",
       "      <td>2</td>\n",
       "      <td>0.6</td>\n",
       "    </tr>\n",
       "    <tr>\n",
       "      <th>2</th>\n",
       "      <td>FURY</td>\n",
       "      <td>7</td>\n",
       "      <td>KAELA JORGENSON</td>\n",
       "      <td>12</td>\n",
       "      <td>10</td>\n",
       "      <td>NaN</td>\n",
       "      <td>NaN</td>\n",
       "      <td>12</td>\n",
       "      <td>2012 WUGC</td>\n",
       "      <td>2</td>\n",
       "      <td>0.6</td>\n",
       "    </tr>\n",
       "    <tr>\n",
       "      <th>3</th>\n",
       "      <td>FURY</td>\n",
       "      <td>13</td>\n",
       "      <td>CREE HOWARD</td>\n",
       "      <td>15</td>\n",
       "      <td>6</td>\n",
       "      <td>NaN</td>\n",
       "      <td>NaN</td>\n",
       "      <td>12</td>\n",
       "      <td>2012 WUGC</td>\n",
       "      <td>2</td>\n",
       "      <td>0.6</td>\n",
       "    </tr>\n",
       "    <tr>\n",
       "      <th>4</th>\n",
       "      <td>FURY</td>\n",
       "      <td>26</td>\n",
       "      <td>ALICIA WHITE</td>\n",
       "      <td>16</td>\n",
       "      <td>2</td>\n",
       "      <td>NaN</td>\n",
       "      <td>NaN</td>\n",
       "      <td>12</td>\n",
       "      <td>2012 WUGC</td>\n",
       "      <td>2</td>\n",
       "      <td>0.6</td>\n",
       "    </tr>\n",
       "  </tbody>\n",
       "</table>\n",
       "</div>"
      ],
      "text/plain": [
       "   Team Number              Name  Goal  Assist  Block  Turn  Games Tournament  \\\n",
       "0  FURY      4       ALEX SNYDER     3      32    NaN   NaN     12  2012 WUGC   \n",
       "1  FURY     19  GEORGIA BOSSCHER    13      14    NaN   NaN     12  2012 WUGC   \n",
       "2  FURY      7   KAELA JORGENSON    12      10    NaN   NaN     12  2012 WUGC   \n",
       "3  FURY     13       CREE HOWARD    15       6    NaN   NaN     12  2012 WUGC   \n",
       "4  FURY     26      ALICIA WHITE    16       2    NaN   NaN     12  2012 WUGC   \n",
       "\n",
       "   Standing  Spirit  \n",
       "0         2     0.6  \n",
       "1         2     0.6  \n",
       "2         2     0.6  \n",
       "3         2     0.6  \n",
       "4         2     0.6  "
      ]
     },
     "execution_count": 41,
     "metadata": {},
     "output_type": "execute_result"
    }
   ],
   "source": [
    "stats_12WUGC.head()"
   ]
  },
  {
   "cell_type": "markdown",
   "metadata": {},
   "source": [
    "# 2013 US Open\n",
    "http://www.usaultimate.org/news/2013-us-open-statistics/"
   ]
  },
  {
   "cell_type": "code",
   "execution_count": 42,
   "metadata": {
    "collapsed": true
   },
   "outputs": [],
   "source": [
    "r = requests.get('http://www.usaultimate.org/news/2013-us-open-statistics/')\n",
    "b = BeautifulSoup(r.text, 'html.parser')"
   ]
  },
  {
   "cell_type": "code",
   "execution_count": 43,
   "metadata": {
    "collapsed": false
   },
   "outputs": [
    {
     "data": {
      "text/plain": [
       "[<th>Team</th>,\n",
       " <th>#</th>,\n",
       " <th>Player</th>,\n",
       " <th>Goals</th>,\n",
       " <th>Assists</th>,\n",
       " <th>Ds</th>,\n",
       " <th>TOs</th>]"
      ]
     },
     "execution_count": 43,
     "metadata": {},
     "output_type": "execute_result"
    }
   ],
   "source": [
    "b.find_all('table',{'width':'585'})[2].find_all('th')"
   ]
  },
  {
   "cell_type": "code",
   "execution_count": 44,
   "metadata": {
    "collapsed": true
   },
   "outputs": [],
   "source": [
    "# get out values between td tags\n",
    "List1 = [str(item)[4:-5] for item in b.find_all('table',{'width':'585'})[2].find_all('td')]\n",
    "\n",
    "playerInfo_13usopen = []\n",
    "count = 0\n",
    "\n",
    "while count < len(List1):\n",
    "\n",
    "    info = {}\n",
    "\n",
    "    info['Number'] = List1[count+1]\n",
    "    info['Name'] = List1[count+2].upper()\n",
    "    info['Goal'] = int(List1[count+3])\n",
    "    info['Assist'] = int(List1[count+4])\n",
    "    info['Block'] = int(List1[count+5])\n",
    "    info['Turn'] = int(List1[count+6])\n",
    "    info['Team'] = List1[count].upper()\n",
    "    info['Tournament'] = '2013 US Open'\n",
    "\n",
    "    count += 7\n",
    "    playerInfo_13usopen.append(info)"
   ]
  },
  {
   "cell_type": "code",
   "execution_count": 45,
   "metadata": {
    "collapsed": false
   },
   "outputs": [
    {
     "data": {
      "text/html": [
       "<div>\n",
       "<table border=\"1\" class=\"dataframe\">\n",
       "  <thead>\n",
       "    <tr style=\"text-align: right;\">\n",
       "      <th></th>\n",
       "      <th>Assist</th>\n",
       "      <th>Block</th>\n",
       "      <th>Goal</th>\n",
       "      <th>Name</th>\n",
       "      <th>Number</th>\n",
       "      <th>Team</th>\n",
       "      <th>Tournament</th>\n",
       "      <th>Turn</th>\n",
       "    </tr>\n",
       "  </thead>\n",
       "  <tbody>\n",
       "    <tr>\n",
       "      <th>0</th>\n",
       "      <td>5</td>\n",
       "      <td>2</td>\n",
       "      <td>5</td>\n",
       "      <td>CASTLE SINICROPE</td>\n",
       "      <td>3</td>\n",
       "      <td>FURY</td>\n",
       "      <td>2013 US Open</td>\n",
       "      <td>5</td>\n",
       "    </tr>\n",
       "    <tr>\n",
       "      <th>1</th>\n",
       "      <td>23</td>\n",
       "      <td>5</td>\n",
       "      <td>2</td>\n",
       "      <td>ALEX SNYDER</td>\n",
       "      <td>4</td>\n",
       "      <td>FURY</td>\n",
       "      <td>2013 US Open</td>\n",
       "      <td>12</td>\n",
       "    </tr>\n",
       "    <tr>\n",
       "      <th>2</th>\n",
       "      <td>12</td>\n",
       "      <td>6</td>\n",
       "      <td>6</td>\n",
       "      <td>KAELA JORGENSON</td>\n",
       "      <td>5</td>\n",
       "      <td>FURY</td>\n",
       "      <td>2013 US Open</td>\n",
       "      <td>3</td>\n",
       "    </tr>\n",
       "    <tr>\n",
       "      <th>3</th>\n",
       "      <td>0</td>\n",
       "      <td>1</td>\n",
       "      <td>5</td>\n",
       "      <td>ALICIA DANTZKER</td>\n",
       "      <td>6</td>\n",
       "      <td>FURY</td>\n",
       "      <td>2013 US Open</td>\n",
       "      <td>3</td>\n",
       "    </tr>\n",
       "    <tr>\n",
       "      <th>4</th>\n",
       "      <td>4</td>\n",
       "      <td>5</td>\n",
       "      <td>6</td>\n",
       "      <td>CLAIRE SHARMAN</td>\n",
       "      <td>7</td>\n",
       "      <td>FURY</td>\n",
       "      <td>2013 US Open</td>\n",
       "      <td>2</td>\n",
       "    </tr>\n",
       "  </tbody>\n",
       "</table>\n",
       "</div>"
      ],
      "text/plain": [
       "   Assist  Block  Goal              Name Number  Team    Tournament  Turn\n",
       "0       5      2     5  CASTLE SINICROPE      3  FURY  2013 US Open     5\n",
       "1      23      5     2       ALEX SNYDER      4  FURY  2013 US Open    12\n",
       "2      12      6     6   KAELA JORGENSON      5  FURY  2013 US Open     3\n",
       "3       0      1     5   ALICIA DANTZKER      6  FURY  2013 US Open     3\n",
       "4       4      5     6    CLAIRE SHARMAN      7  FURY  2013 US Open     2"
      ]
     },
     "execution_count": 45,
     "metadata": {},
     "output_type": "execute_result"
    }
   ],
   "source": [
    "stats_13usopen = DataFrame.from_dict(playerInfo_13usopen)\n",
    "stats_13usopen.head()"
   ]
  },
  {
   "cell_type": "markdown",
   "metadata": {},
   "source": [
    "2013 US Open Spirit\n",
    "\n",
    "http://www.usaultimate.org/news/2013-us-open-team-spirit-scores/"
   ]
  },
  {
   "cell_type": "code",
   "execution_count": 46,
   "metadata": {
    "collapsed": true
   },
   "outputs": [],
   "source": [
    "spirit_13usopen = {'REVOLUTION': 13.29,\n",
    "                   'MUD': 13.14, \n",
    "                   'FURY': 13.13, \n",
    "                   'RIOT': 12.63, \n",
    "                   'NOVA': 11.86, \n",
    "                   'PHOENIX': 11.64, \n",
    "                   'SHOWDOWN': 11.63, \n",
    "                   'SCANDAL': 11.38}"
   ]
  },
  {
   "cell_type": "code",
   "execution_count": 47,
   "metadata": {
    "collapsed": true
   },
   "outputs": [],
   "source": [
    "scores_list_13usopen = []\n",
    "for item in stats_13usopen.Team:\n",
    "    scores_list_13usopen.append(spirit_13usopen[item]/16.0)"
   ]
  },
  {
   "cell_type": "code",
   "execution_count": 48,
   "metadata": {
    "collapsed": true
   },
   "outputs": [],
   "source": [
    "stats_13usopen['Spirit'] = scores_list_13usopen"
   ]
  },
  {
   "cell_type": "markdown",
   "metadata": {},
   "source": [
    "2013 US Open Standings"
   ]
  },
  {
   "cell_type": "code",
   "execution_count": 55,
   "metadata": {
    "collapsed": false
   },
   "outputs": [],
   "source": [
    "standing_13usopen = {'REVOLUTION': 6,\n",
    "                     'MUD': 5, \n",
    "                     'FURY': 1, \n",
    "                     'RIOT': 3, \n",
    "                     'NOVA': 8, \n",
    "                     'PHOENIX': 7, \n",
    "                     'SHOWDOWN': 3, \n",
    "                     'SCANDAL': 2}"
   ]
  },
  {
   "cell_type": "code",
   "execution_count": 56,
   "metadata": {
    "collapsed": true
   },
   "outputs": [],
   "source": [
    "standing_list_13usopen = []\n",
    "for item in stats_13usopen.Team:\n",
    "    standing_list_13usopen.append(standing_13usopen[item])"
   ]
  },
  {
   "cell_type": "code",
   "execution_count": 57,
   "metadata": {
    "collapsed": true
   },
   "outputs": [],
   "source": [
    "stats_13usopen['Standing'] = standing_list_13usopen"
   ]
  },
  {
   "cell_type": "markdown",
   "metadata": {},
   "source": [
    "2013 US Open Games"
   ]
  },
  {
   "cell_type": "code",
   "execution_count": 58,
   "metadata": {
    "collapsed": true
   },
   "outputs": [],
   "source": [
    "games_13usopen = {'REVOLUTION': 7,\n",
    "                  'MUD': 7, \n",
    "                  'FURY': 9, \n",
    "                  'RIOT': 8, \n",
    "                  'NOVA': 7, \n",
    "                  'PHOENIX': 7, \n",
    "                  'SHOWDOWN': 8, \n",
    "                  'SCANDAL': 9}"
   ]
  },
  {
   "cell_type": "code",
   "execution_count": 60,
   "metadata": {
    "collapsed": false
   },
   "outputs": [],
   "source": [
    "games_list_13usopen = []\n",
    "for item in stats_13usopen.Team:\n",
    "    games_list_13usopen.append(games_13usopen[item])"
   ]
  },
  {
   "cell_type": "code",
   "execution_count": 61,
   "metadata": {
    "collapsed": true
   },
   "outputs": [],
   "source": [
    "stats_13usopen['Games'] = games_list_13usopen"
   ]
  },
  {
   "cell_type": "code",
   "execution_count": 63,
   "metadata": {
    "collapsed": false
   },
   "outputs": [],
   "source": [
    "stats_13usopen = stats_13usopen[['Team', 'Number', 'Name', 'Goal', 'Assist', 'Block', 'Turn', 'Games', 'Tournament', 'Standing', 'Spirit']]"
   ]
  },
  {
   "cell_type": "code",
   "execution_count": 64,
   "metadata": {
    "collapsed": false
   },
   "outputs": [
    {
     "data": {
      "text/html": [
       "<div>\n",
       "<table border=\"1\" class=\"dataframe\">\n",
       "  <thead>\n",
       "    <tr style=\"text-align: right;\">\n",
       "      <th></th>\n",
       "      <th>Team</th>\n",
       "      <th>Number</th>\n",
       "      <th>Name</th>\n",
       "      <th>Goal</th>\n",
       "      <th>Assist</th>\n",
       "      <th>Block</th>\n",
       "      <th>Turn</th>\n",
       "      <th>Games</th>\n",
       "      <th>Tournament</th>\n",
       "      <th>Standing</th>\n",
       "      <th>Spirit</th>\n",
       "    </tr>\n",
       "  </thead>\n",
       "  <tbody>\n",
       "    <tr>\n",
       "      <th>0</th>\n",
       "      <td>FURY</td>\n",
       "      <td>3</td>\n",
       "      <td>CASTLE SINICROPE</td>\n",
       "      <td>5</td>\n",
       "      <td>5</td>\n",
       "      <td>2</td>\n",
       "      <td>5</td>\n",
       "      <td>9</td>\n",
       "      <td>2013 US Open</td>\n",
       "      <td>1</td>\n",
       "      <td>0.820625</td>\n",
       "    </tr>\n",
       "    <tr>\n",
       "      <th>1</th>\n",
       "      <td>FURY</td>\n",
       "      <td>4</td>\n",
       "      <td>ALEX SNYDER</td>\n",
       "      <td>2</td>\n",
       "      <td>23</td>\n",
       "      <td>5</td>\n",
       "      <td>12</td>\n",
       "      <td>9</td>\n",
       "      <td>2013 US Open</td>\n",
       "      <td>1</td>\n",
       "      <td>0.820625</td>\n",
       "    </tr>\n",
       "    <tr>\n",
       "      <th>2</th>\n",
       "      <td>FURY</td>\n",
       "      <td>5</td>\n",
       "      <td>KAELA JORGENSON</td>\n",
       "      <td>6</td>\n",
       "      <td>12</td>\n",
       "      <td>6</td>\n",
       "      <td>3</td>\n",
       "      <td>9</td>\n",
       "      <td>2013 US Open</td>\n",
       "      <td>1</td>\n",
       "      <td>0.820625</td>\n",
       "    </tr>\n",
       "    <tr>\n",
       "      <th>3</th>\n",
       "      <td>FURY</td>\n",
       "      <td>6</td>\n",
       "      <td>ALICIA DANTZKER</td>\n",
       "      <td>5</td>\n",
       "      <td>0</td>\n",
       "      <td>1</td>\n",
       "      <td>3</td>\n",
       "      <td>9</td>\n",
       "      <td>2013 US Open</td>\n",
       "      <td>1</td>\n",
       "      <td>0.820625</td>\n",
       "    </tr>\n",
       "    <tr>\n",
       "      <th>4</th>\n",
       "      <td>FURY</td>\n",
       "      <td>7</td>\n",
       "      <td>CLAIRE SHARMAN</td>\n",
       "      <td>6</td>\n",
       "      <td>4</td>\n",
       "      <td>5</td>\n",
       "      <td>2</td>\n",
       "      <td>9</td>\n",
       "      <td>2013 US Open</td>\n",
       "      <td>1</td>\n",
       "      <td>0.820625</td>\n",
       "    </tr>\n",
       "  </tbody>\n",
       "</table>\n",
       "</div>"
      ],
      "text/plain": [
       "   Team Number              Name  Goal  Assist  Block  Turn  Games  \\\n",
       "0  FURY      3  CASTLE SINICROPE     5       5      2     5      9   \n",
       "1  FURY      4       ALEX SNYDER     2      23      5    12      9   \n",
       "2  FURY      5   KAELA JORGENSON     6      12      6     3      9   \n",
       "3  FURY      6   ALICIA DANTZKER     5       0      1     3      9   \n",
       "4  FURY      7    CLAIRE SHARMAN     6       4      5     2      9   \n",
       "\n",
       "     Tournament  Standing    Spirit  \n",
       "0  2013 US Open         1  0.820625  \n",
       "1  2013 US Open         1  0.820625  \n",
       "2  2013 US Open         1  0.820625  \n",
       "3  2013 US Open         1  0.820625  \n",
       "4  2013 US Open         1  0.820625  "
      ]
     },
     "execution_count": 64,
     "metadata": {},
     "output_type": "execute_result"
    }
   ],
   "source": [
    "stats_13usopen.head()"
   ]
  },
  {
   "cell_type": "markdown",
   "metadata": {},
   "source": [
    "# 2013 Club Championship"
   ]
  },
  {
   "cell_type": "code",
   "execution_count": 65,
   "metadata": {
    "collapsed": false
   },
   "outputs": [],
   "source": [
    "stats_13champ = pd.read_html('../data/2013ClubChampStats.html')"
   ]
  },
  {
   "cell_type": "code",
   "execution_count": 66,
   "metadata": {
    "collapsed": false
   },
   "outputs": [
    {
     "data": {
      "text/html": [
       "<div>\n",
       "<table border=\"1\" class=\"dataframe\">\n",
       "  <thead>\n",
       "    <tr style=\"text-align: right;\">\n",
       "      <th></th>\n",
       "      <th>Team</th>\n",
       "      <th>Number</th>\n",
       "      <th>Name</th>\n",
       "      <th>Goal</th>\n",
       "      <th>Assist</th>\n",
       "      <th>Block</th>\n",
       "      <th>Turn</th>\n",
       "      <th>Tournament</th>\n",
       "    </tr>\n",
       "  </thead>\n",
       "  <tbody>\n",
       "    <tr>\n",
       "      <th>0</th>\n",
       "      <td>BENT</td>\n",
       "      <td>0</td>\n",
       "      <td>BRITTANY KAPLAN</td>\n",
       "      <td>0</td>\n",
       "      <td>3</td>\n",
       "      <td>2</td>\n",
       "      <td>5</td>\n",
       "      <td>2013 USAU Club Championships</td>\n",
       "    </tr>\n",
       "    <tr>\n",
       "      <th>1</th>\n",
       "      <td>BENT</td>\n",
       "      <td>1</td>\n",
       "      <td>LEXI ZALK</td>\n",
       "      <td>4</td>\n",
       "      <td>1</td>\n",
       "      <td>4</td>\n",
       "      <td>0</td>\n",
       "      <td>2013 USAU Club Championships</td>\n",
       "    </tr>\n",
       "  </tbody>\n",
       "</table>\n",
       "</div>"
      ],
      "text/plain": [
       "   Team Number             Name  Goal  Assist  Block  Turn  \\\n",
       "0  BENT      0  BRITTANY KAPLAN     0       3      2     5   \n",
       "1  BENT      1        LEXI ZALK     4       1      4     0   \n",
       "\n",
       "                     Tournament  \n",
       "0  2013 USAU Club Championships  \n",
       "1  2013 USAU Club Championships  "
      ]
     },
     "execution_count": 66,
     "metadata": {},
     "output_type": "execute_result"
    }
   ],
   "source": [
    "stats_13champ = stats_13champ[0]\n",
    "stats_13champ.rename(columns={'Player':'Name', '#':'Number', 'Goals':'Goal', 'Assists':'Assist', 'Ds':'Block', 'TOs':'Turn'}, inplace=True)\n",
    "stats_13champ['Tournament'] = '2013 USAU Club Championships'\n",
    "for item in stats_13champ.Name:\n",
    "    stats_13champ['Name'].replace(item, item.upper(), inplace=True)\n",
    "for item in stats_13champ.Team:\n",
    "    stats_13champ['Team'].replace(item, item.upper(), inplace=True)\n",
    "stats_13champ.head(2)"
   ]
  },
  {
   "cell_type": "markdown",
   "metadata": {},
   "source": [
    "2013 Club Campionship Games"
   ]
  },
  {
   "cell_type": "code",
   "execution_count": 67,
   "metadata": {
    "collapsed": true
   },
   "outputs": [],
   "source": [
    "games_13champ = {'BENT': 6,\n",
    " 'BRUTE SQUAD': 6,\n",
    " 'CAPITALS': 6,\n",
    " 'FURY': 7,\n",
    " 'HEIST': 6,\n",
    " 'MOLLY BROWN': 6,\n",
    " 'NEMESIS': 6,\n",
    " 'NIGHTLOCK': 6,\n",
    " 'NOVA': 6,\n",
    " 'OZONE': 6,\n",
    " 'PHOENIX': 6,\n",
    " 'RIOT': 7,\n",
    " 'SCANDAL': 7,\n",
    " 'SCHWA': 6,\n",
    " 'SHOWDOWN': 7,\n",
    " 'TRAFFIC': 6}"
   ]
  },
  {
   "cell_type": "code",
   "execution_count": 68,
   "metadata": {
    "collapsed": true
   },
   "outputs": [],
   "source": [
    "games_list_13champ = []\n",
    "for item in stats_13champ.Team:\n",
    "    games_list_13champ.append(games_13champ[item])"
   ]
  },
  {
   "cell_type": "code",
   "execution_count": 69,
   "metadata": {
    "collapsed": true
   },
   "outputs": [],
   "source": [
    "stats_13champ['Games'] = games_list_13champ"
   ]
  },
  {
   "cell_type": "markdown",
   "metadata": {},
   "source": [
    "2013 Club Championship Final standings"
   ]
  },
  {
   "cell_type": "code",
   "execution_count": 70,
   "metadata": {
    "collapsed": true
   },
   "outputs": [],
   "source": [
    "standing_13champ = {'BENT': 13,\n",
    " 'BRUTE SQUAD': 6,\n",
    " 'CAPITALS': 7,\n",
    " 'FURY': 2,\n",
    " 'HEIST': 12,\n",
    " 'MOLLY BROWN': 11,\n",
    " 'NEMESIS': 5,\n",
    " 'NIGHTLOCK': 9,\n",
    " 'NOVA': 16,\n",
    " 'OZONE': 9,\n",
    " 'PHOENIX': 14,\n",
    " 'RIOT': 3,\n",
    " 'SCANDAL': 1,\n",
    " 'SCHWA': 15,\n",
    " 'SHOWDOWN': 4,\n",
    " 'TRAFFIC': 7}"
   ]
  },
  {
   "cell_type": "code",
   "execution_count": 71,
   "metadata": {
    "collapsed": true
   },
   "outputs": [],
   "source": [
    "standing_list_13champ = []\n",
    "for item in stats_13champ.Team:\n",
    "    standing_list_13champ.append(standing_13champ[item])"
   ]
  },
  {
   "cell_type": "code",
   "execution_count": 72,
   "metadata": {
    "collapsed": true
   },
   "outputs": [],
   "source": [
    "stats_13champ['Standing'] = standing_list_13champ"
   ]
  },
  {
   "cell_type": "markdown",
   "metadata": {},
   "source": [
    "2013 Club Championship Spirit"
   ]
  },
  {
   "cell_type": "code",
   "execution_count": 73,
   "metadata": {
    "collapsed": false
   },
   "outputs": [],
   "source": [
    "r = requests.get('http://www.usaultimate.org/news/2013-national-championships--spirit-of-the-game/?')\n",
    "b = BeautifulSoup(r.text, 'html.parser')"
   ]
  },
  {
   "cell_type": "code",
   "execution_count": 74,
   "metadata": {
    "collapsed": false
   },
   "outputs": [
    {
     "data": {
      "text/plain": [
       "<table border=\"1\" cellpadding=\"1\" cellspacing=\"1\" class=\"tablesorter\" style=\"font-size: 11px; font-style: normal; color: rgb(0, 0, 0);\" width=\"198\">\\n<thead>\\n<tr>\\n<th><strong>Score</strong></th>\\n<th><strong>Team</strong></th>\\n</tr>\\n</thead>\\n<tbody>\\n<tr>\\n<td>4.43</td>\\n<td bgcolor=\"#00ff00\"><span style=\"background-color: rgb(0, 255, 0);\">Riot</span></td>\\n</tr>\\n<tr>\\n<td>4.36</td>\\n<td>Scandal</td>\\n</tr>\\n<tr>\\n<td>4.33</td>\\n<td>Phoenix</td>\\n</tr>\\n<tr>\\n<td>4.33</td>\\n<td>Schwa</td>\\n</tr>\\n<tr>\\n<td>4.17</td>\\n<td>Heist</td>\\n</tr>\\n<tr>\\n<td>4.17</td>\\n<td>Nemesis</td>\\n</tr>\\n<tr>\\n<td>4.14</td>\\n<td>Fury</td>\\n</tr>\\n<tr>\\n<td>4.14</td>\\n<td>Showdown</td>\\n</tr>\\n<tr>\\n<td>4.00</td>\\n<td>Bent</td>\\n</tr>\\n<tr>\\n<td>4.00</td>\\n<td>Brute Squad</td>\\n</tr>\\n<tr>\\n<td>4.00</td>\\n<td>Nova</td>\\n</tr>\\n<tr>\\n<td>3.83</td>\\n<td>Capitals</td>\\n</tr>\\n<tr>\\n<td>3.83</td>\\n<td>Molly Brown</td>\\n</tr>\\n<tr>\\n<td>3.83</td>\\n<td>Traffic</td>\\n</tr>\\n<tr>\\n<td>3.67</td>\\n<td>Nightlock</td>\\n</tr>\\n<tr>\\n<td>3.00</td>\\n<td>Ozone</td>\\n</tr>\\n</tbody>\\n</table>"
      ]
     },
     "execution_count": 74,
     "metadata": {},
     "output_type": "execute_result"
    }
   ],
   "source": [
    "b.find_all('table',{'width':'198'})[2]"
   ]
  },
  {
   "cell_type": "code",
   "execution_count": 75,
   "metadata": {
    "collapsed": false
   },
   "outputs": [
    {
     "data": {
      "text/plain": [
       "{'BENT': 4.0,\n",
       " 'BRUTE SQUAD': 4.0,\n",
       " 'CAPITALS': 3.83,\n",
       " 'FURY': 4.14,\n",
       " 'HEIST': 4.17,\n",
       " 'MOLLY BROWN': 3.83,\n",
       " 'NEMESIS': 4.17,\n",
       " 'NIGHTLOCK': 3.67,\n",
       " 'NOVA': 4.0,\n",
       " 'OZONE': 3.0,\n",
       " 'PHOENIX': 4.33,\n",
       " 'RIOT': 4.43,\n",
       " 'SCANDAL': 4.36,\n",
       " 'SCHWA': 4.33,\n",
       " 'SHOWDOWN': 4.14,\n",
       " 'TRAFFIC': 3.83}"
      ]
     },
     "execution_count": 75,
     "metadata": {},
     "output_type": "execute_result"
    }
   ],
   "source": [
    "temp_scores = [str(item).split('\\n') for item in b.find_all('table',{'width':'198'})[2].find('tbody')]\n",
    "\n",
    "scores_13champ = []\n",
    "\n",
    "for item in temp_scores[1::2]:\n",
    "    scores_13champ.append(item[1:3])\n",
    "\n",
    "scores_13champ\n",
    "\n",
    "spirit_13champ = {}\n",
    "count = 0\n",
    "\n",
    "while count < len(scores_13champ):\n",
    "    spirit_13champ[re.findall('([^>]*)</', scores_13champ[count][1])[0].upper()] = float(re.findall('([^>]*)</', scores_13champ[count][0])[0])\n",
    "\n",
    "    count += 1\n",
    "    \n",
    "spirit_13champ"
   ]
  },
  {
   "cell_type": "code",
   "execution_count": 76,
   "metadata": {
    "collapsed": false
   },
   "outputs": [],
   "source": [
    "scores_list_13champ = []\n",
    "for item in stats_13champ.Team:\n",
    "    scores_list_13champ.append(spirit_13champ[item]/5.0)"
   ]
  },
  {
   "cell_type": "code",
   "execution_count": 77,
   "metadata": {
    "collapsed": false
   },
   "outputs": [],
   "source": [
    "stats_13champ['Spirit'] = scores_list_13champ\n",
    "stats_13champ = stats_13champ[['Team', 'Number', 'Name', 'Goal', 'Assist', 'Block', 'Turn', 'Games', 'Tournament', 'Standing', 'Spirit']]"
   ]
  },
  {
   "cell_type": "code",
   "execution_count": 78,
   "metadata": {
    "collapsed": false
   },
   "outputs": [
    {
     "data": {
      "text/html": [
       "<div>\n",
       "<table border=\"1\" class=\"dataframe\">\n",
       "  <thead>\n",
       "    <tr style=\"text-align: right;\">\n",
       "      <th></th>\n",
       "      <th>Team</th>\n",
       "      <th>Number</th>\n",
       "      <th>Name</th>\n",
       "      <th>Goal</th>\n",
       "      <th>Assist</th>\n",
       "      <th>Block</th>\n",
       "      <th>Turn</th>\n",
       "      <th>Games</th>\n",
       "      <th>Tournament</th>\n",
       "      <th>Standing</th>\n",
       "      <th>Spirit</th>\n",
       "    </tr>\n",
       "  </thead>\n",
       "  <tbody>\n",
       "    <tr>\n",
       "      <th>379</th>\n",
       "      <td>TRAFFIC</td>\n",
       "      <td>0</td>\n",
       "      <td>TERRI WHITEHEAD</td>\n",
       "      <td>11</td>\n",
       "      <td>0</td>\n",
       "      <td>5</td>\n",
       "      <td>2</td>\n",
       "      <td>6</td>\n",
       "      <td>2013 USAU Club Championships</td>\n",
       "      <td>7</td>\n",
       "      <td>0.766</td>\n",
       "    </tr>\n",
       "    <tr>\n",
       "      <th>380</th>\n",
       "      <td>TRAFFIC</td>\n",
       "      <td>2</td>\n",
       "      <td>DANIELLE FORTIN</td>\n",
       "      <td>3</td>\n",
       "      <td>12</td>\n",
       "      <td>3</td>\n",
       "      <td>16</td>\n",
       "      <td>6</td>\n",
       "      <td>2013 USAU Club Championships</td>\n",
       "      <td>7</td>\n",
       "      <td>0.766</td>\n",
       "    </tr>\n",
       "    <tr>\n",
       "      <th>381</th>\n",
       "      <td>TRAFFIC</td>\n",
       "      <td>3</td>\n",
       "      <td>MICHELLE NING</td>\n",
       "      <td>0</td>\n",
       "      <td>3</td>\n",
       "      <td>1</td>\n",
       "      <td>2</td>\n",
       "      <td>6</td>\n",
       "      <td>2013 USAU Club Championships</td>\n",
       "      <td>7</td>\n",
       "      <td>0.766</td>\n",
       "    </tr>\n",
       "    <tr>\n",
       "      <th>382</th>\n",
       "      <td>TRAFFIC</td>\n",
       "      <td>4</td>\n",
       "      <td>KATIE BEREZAN</td>\n",
       "      <td>1</td>\n",
       "      <td>2</td>\n",
       "      <td>1</td>\n",
       "      <td>1</td>\n",
       "      <td>6</td>\n",
       "      <td>2013 USAU Club Championships</td>\n",
       "      <td>7</td>\n",
       "      <td>0.766</td>\n",
       "    </tr>\n",
       "    <tr>\n",
       "      <th>383</th>\n",
       "      <td>TRAFFIC</td>\n",
       "      <td>5</td>\n",
       "      <td>ASHLEE DAVISON</td>\n",
       "      <td>7</td>\n",
       "      <td>6</td>\n",
       "      <td>6</td>\n",
       "      <td>3</td>\n",
       "      <td>6</td>\n",
       "      <td>2013 USAU Club Championships</td>\n",
       "      <td>7</td>\n",
       "      <td>0.766</td>\n",
       "    </tr>\n",
       "  </tbody>\n",
       "</table>\n",
       "</div>"
      ],
      "text/plain": [
       "        Team Number             Name  Goal  Assist  Block  Turn  Games  \\\n",
       "379  TRAFFIC      0  TERRI WHITEHEAD    11       0      5     2      6   \n",
       "380  TRAFFIC      2  DANIELLE FORTIN     3      12      3    16      6   \n",
       "381  TRAFFIC      3    MICHELLE NING     0       3      1     2      6   \n",
       "382  TRAFFIC      4    KATIE BEREZAN     1       2      1     1      6   \n",
       "383  TRAFFIC      5   ASHLEE DAVISON     7       6      6     3      6   \n",
       "\n",
       "                       Tournament  Standing  Spirit  \n",
       "379  2013 USAU Club Championships         7   0.766  \n",
       "380  2013 USAU Club Championships         7   0.766  \n",
       "381  2013 USAU Club Championships         7   0.766  \n",
       "382  2013 USAU Club Championships         7   0.766  \n",
       "383  2013 USAU Club Championships         7   0.766  "
      ]
     },
     "execution_count": 78,
     "metadata": {},
     "output_type": "execute_result"
    }
   ],
   "source": [
    "stats_13champ[stats_13champ.Team == 'TRAFFIC'].head()"
   ]
  },
  {
   "cell_type": "markdown",
   "metadata": {},
   "source": [
    "# 2013 World Games\n",
    "http://results.wfdf.org/?view=teamcard&Team=1469"
   ]
  },
  {
   "cell_type": "code",
   "execution_count": 79,
   "metadata": {
    "collapsed": true
   },
   "outputs": [],
   "source": [
    "r = requests.get('http://results.wfdf.org/?view=teamcard&Team=1469') \n",
    "b = BeautifulSoup(r.text, 'html.parser')"
   ]
  },
  {
   "cell_type": "code",
   "execution_count": 80,
   "metadata": {
    "collapsed": true
   },
   "outputs": [],
   "source": [
    "b.find('table', {'style':'width:80%'}).find_all('td')[15:-5]\n",
    "List = [str(item)[19:-5] for item in b.find('table', {'style':'width:80%'}).find_all('td')]\n",
    "# List[0].split(' ')[0].split('#')[1]\n",
    "# List[0].split(' ')\n",
    "# List[10][List[10].find(' ')+1:List[10].find('<')]\n",
    "# List[count].split(' ')[0].split('#')[1]\n",
    "# List[0][List[0].find('#')+1:List[0].find(' ')]\n",
    "# List[0:5]"
   ]
  },
  {
   "cell_type": "code",
   "execution_count": 81,
   "metadata": {
    "collapsed": true
   },
   "outputs": [],
   "source": [
    "def player_info_WG():\n",
    "    \n",
    "    List = [str(item)[19:-5] for item in b.find('table', {'style':'width:80%'}).find_all('td')]\n",
    "    \n",
    "    playerInfo = []\n",
    "    count = 0\n",
    "    \n",
    "    while count < len(List):\n",
    "        \n",
    "        info = {}\n",
    "\n",
    "        info['Number'] = List[count][List[count].find('#')+1:List[count].find(' ')]\n",
    "        info['Name'] = List[count][List[count].find(' ')+1:List[count].find('<')].upper()\n",
    "        info['Games'] = int(List[count+1])\n",
    "        info['Assist'] = int(List[count+2])\n",
    "        info['Goal'] = int(List[count+3])\n",
    "        info['Team'] = 'TEAM USA'\n",
    "        info['Block'] = np.nan\n",
    "        info['Turn'] = np.nan\n",
    "        info['Tournament'] = '2013 World Games'\n",
    "        info['Standing'] = 1\n",
    "        info['Spirit'] = np.nan\n",
    "        \n",
    "        count += 5\n",
    "        playerInfo.append(info)\n",
    "    \n",
    "    return playerInfo"
   ]
  },
  {
   "cell_type": "code",
   "execution_count": 83,
   "metadata": {
    "collapsed": false
   },
   "outputs": [],
   "source": [
    "stats_13WG = DataFrame.from_dict(player_info_WG())\n",
    "stats_13WG = stats_13WG[['Team', 'Number', 'Name', 'Goal', 'Assist', 'Block', 'Turn', 'Games', 'Tournament', 'Standing', 'Spirit']]"
   ]
  },
  {
   "cell_type": "code",
   "execution_count": 84,
   "metadata": {
    "collapsed": false
   },
   "outputs": [
    {
     "data": {
      "text/html": [
       "<div>\n",
       "<table border=\"1\" class=\"dataframe\">\n",
       "  <thead>\n",
       "    <tr style=\"text-align: right;\">\n",
       "      <th></th>\n",
       "      <th>Team</th>\n",
       "      <th>Number</th>\n",
       "      <th>Name</th>\n",
       "      <th>Goal</th>\n",
       "      <th>Assist</th>\n",
       "      <th>Block</th>\n",
       "      <th>Turn</th>\n",
       "      <th>Games</th>\n",
       "      <th>Tournament</th>\n",
       "      <th>Standing</th>\n",
       "      <th>Spirit</th>\n",
       "    </tr>\n",
       "  </thead>\n",
       "  <tbody>\n",
       "    <tr>\n",
       "      <th>0</th>\n",
       "      <td>TEAM USA</td>\n",
       "      <td>24</td>\n",
       "      <td>ALEX SNYDER</td>\n",
       "      <td>1</td>\n",
       "      <td>10</td>\n",
       "      <td>NaN</td>\n",
       "      <td>NaN</td>\n",
       "      <td>6</td>\n",
       "      <td>2013 World Games</td>\n",
       "      <td>1</td>\n",
       "      <td>NaN</td>\n",
       "    </tr>\n",
       "    <tr>\n",
       "      <th>1</th>\n",
       "      <td>TEAM USA</td>\n",
       "      <td>27</td>\n",
       "      <td>ASHLIN JOYE</td>\n",
       "      <td>3</td>\n",
       "      <td>6</td>\n",
       "      <td>NaN</td>\n",
       "      <td>NaN</td>\n",
       "      <td>6</td>\n",
       "      <td>2013 World Games</td>\n",
       "      <td>1</td>\n",
       "      <td>NaN</td>\n",
       "    </tr>\n",
       "    <tr>\n",
       "      <th>2</th>\n",
       "      <td>TEAM USA</td>\n",
       "      <td>50</td>\n",
       "      <td>BEAU KITTREDGE</td>\n",
       "      <td>15</td>\n",
       "      <td>7</td>\n",
       "      <td>NaN</td>\n",
       "      <td>NaN</td>\n",
       "      <td>6</td>\n",
       "      <td>2013 World Games</td>\n",
       "      <td>1</td>\n",
       "      <td>NaN</td>\n",
       "    </tr>\n",
       "    <tr>\n",
       "      <th>3</th>\n",
       "      <td>TEAM USA</td>\n",
       "      <td>5</td>\n",
       "      <td>CARA CROUCH</td>\n",
       "      <td>2</td>\n",
       "      <td>3</td>\n",
       "      <td>NaN</td>\n",
       "      <td>NaN</td>\n",
       "      <td>6</td>\n",
       "      <td>2013 World Games</td>\n",
       "      <td>1</td>\n",
       "      <td>NaN</td>\n",
       "    </tr>\n",
       "    <tr>\n",
       "      <th>4</th>\n",
       "      <td>TEAM USA</td>\n",
       "      <td>78</td>\n",
       "      <td>DYLAN TUNNELL</td>\n",
       "      <td>3</td>\n",
       "      <td>12</td>\n",
       "      <td>NaN</td>\n",
       "      <td>NaN</td>\n",
       "      <td>6</td>\n",
       "      <td>2013 World Games</td>\n",
       "      <td>1</td>\n",
       "      <td>NaN</td>\n",
       "    </tr>\n",
       "    <tr>\n",
       "      <th>5</th>\n",
       "      <td>TEAM USA</td>\n",
       "      <td>3</td>\n",
       "      <td>GEORGE STUBBS</td>\n",
       "      <td>9</td>\n",
       "      <td>7</td>\n",
       "      <td>NaN</td>\n",
       "      <td>NaN</td>\n",
       "      <td>6</td>\n",
       "      <td>2013 World Games</td>\n",
       "      <td>1</td>\n",
       "      <td>NaN</td>\n",
       "    </tr>\n",
       "    <tr>\n",
       "      <th>6</th>\n",
       "      <td>TEAM USA</td>\n",
       "      <td>19</td>\n",
       "      <td>GEORGIA BOSSCHER</td>\n",
       "      <td>3</td>\n",
       "      <td>3</td>\n",
       "      <td>NaN</td>\n",
       "      <td>NaN</td>\n",
       "      <td>6</td>\n",
       "      <td>2013 World Games</td>\n",
       "      <td>1</td>\n",
       "      <td>NaN</td>\n",
       "    </tr>\n",
       "    <tr>\n",
       "      <th>7</th>\n",
       "      <td>TEAM USA</td>\n",
       "      <td>40</td>\n",
       "      <td>MAC TAYLOR</td>\n",
       "      <td>7</td>\n",
       "      <td>17</td>\n",
       "      <td>NaN</td>\n",
       "      <td>NaN</td>\n",
       "      <td>6</td>\n",
       "      <td>2013 World Games</td>\n",
       "      <td>1</td>\n",
       "      <td>NaN</td>\n",
       "    </tr>\n",
       "    <tr>\n",
       "      <th>8</th>\n",
       "      <td>TEAM USA</td>\n",
       "      <td>18</td>\n",
       "      <td>MICHAEL NATENBERG</td>\n",
       "      <td>7</td>\n",
       "      <td>5</td>\n",
       "      <td>NaN</td>\n",
       "      <td>NaN</td>\n",
       "      <td>6</td>\n",
       "      <td>2013 World Games</td>\n",
       "      <td>1</td>\n",
       "      <td>NaN</td>\n",
       "    </tr>\n",
       "    <tr>\n",
       "      <th>9</th>\n",
       "      <td>TEAM USA</td>\n",
       "      <td>9</td>\n",
       "      <td>OCTAVIA PAYNE</td>\n",
       "      <td>4</td>\n",
       "      <td>1</td>\n",
       "      <td>NaN</td>\n",
       "      <td>NaN</td>\n",
       "      <td>6</td>\n",
       "      <td>2013 World Games</td>\n",
       "      <td>1</td>\n",
       "      <td>NaN</td>\n",
       "    </tr>\n",
       "    <tr>\n",
       "      <th>10</th>\n",
       "      <td>TEAM USA</td>\n",
       "      <td>16</td>\n",
       "      <td>RYAN FARRELL</td>\n",
       "      <td>6</td>\n",
       "      <td>6</td>\n",
       "      <td>NaN</td>\n",
       "      <td>NaN</td>\n",
       "      <td>6</td>\n",
       "      <td>2013 World Games</td>\n",
       "      <td>1</td>\n",
       "      <td>NaN</td>\n",
       "    </tr>\n",
       "    <tr>\n",
       "      <th>11</th>\n",
       "      <td>TEAM USA</td>\n",
       "      <td>6</td>\n",
       "      <td>SARAH GRIFFITH</td>\n",
       "      <td>11</td>\n",
       "      <td>0</td>\n",
       "      <td>NaN</td>\n",
       "      <td>NaN</td>\n",
       "      <td>6</td>\n",
       "      <td>2013 World Games</td>\n",
       "      <td>1</td>\n",
       "      <td>NaN</td>\n",
       "    </tr>\n",
       "    <tr>\n",
       "      <th>12</th>\n",
       "      <td>TEAM USA</td>\n",
       "      <td>13</td>\n",
       "      <td>VIRGINIA HOWARD</td>\n",
       "      <td>6</td>\n",
       "      <td>0</td>\n",
       "      <td>NaN</td>\n",
       "      <td>NaN</td>\n",
       "      <td>6</td>\n",
       "      <td>2013 World Games</td>\n",
       "      <td>1</td>\n",
       "      <td>NaN</td>\n",
       "    </tr>\n",
       "  </tbody>\n",
       "</table>\n",
       "</div>"
      ],
      "text/plain": [
       "        Team Number               Name  Goal  Assist  Block  Turn  Games  \\\n",
       "0   TEAM USA     24        ALEX SNYDER     1      10    NaN   NaN      6   \n",
       "1   TEAM USA     27        ASHLIN JOYE     3       6    NaN   NaN      6   \n",
       "2   TEAM USA     50     BEAU KITTREDGE    15       7    NaN   NaN      6   \n",
       "3   TEAM USA      5        CARA CROUCH     2       3    NaN   NaN      6   \n",
       "4   TEAM USA     78      DYLAN TUNNELL     3      12    NaN   NaN      6   \n",
       "5   TEAM USA      3      GEORGE STUBBS     9       7    NaN   NaN      6   \n",
       "6   TEAM USA     19   GEORGIA BOSSCHER     3       3    NaN   NaN      6   \n",
       "7   TEAM USA     40         MAC TAYLOR     7      17    NaN   NaN      6   \n",
       "8   TEAM USA     18  MICHAEL NATENBERG     7       5    NaN   NaN      6   \n",
       "9   TEAM USA      9      OCTAVIA PAYNE     4       1    NaN   NaN      6   \n",
       "10  TEAM USA     16       RYAN FARRELL     6       6    NaN   NaN      6   \n",
       "11  TEAM USA      6     SARAH GRIFFITH    11       0    NaN   NaN      6   \n",
       "12  TEAM USA     13    VIRGINIA HOWARD     6       0    NaN   NaN      6   \n",
       "\n",
       "          Tournament  Standing  Spirit  \n",
       "0   2013 World Games         1     NaN  \n",
       "1   2013 World Games         1     NaN  \n",
       "2   2013 World Games         1     NaN  \n",
       "3   2013 World Games         1     NaN  \n",
       "4   2013 World Games         1     NaN  \n",
       "5   2013 World Games         1     NaN  \n",
       "6   2013 World Games         1     NaN  \n",
       "7   2013 World Games         1     NaN  \n",
       "8   2013 World Games         1     NaN  \n",
       "9   2013 World Games         1     NaN  \n",
       "10  2013 World Games         1     NaN  \n",
       "11  2013 World Games         1     NaN  \n",
       "12  2013 World Games         1     NaN  "
      ]
     },
     "execution_count": 84,
     "metadata": {},
     "output_type": "execute_result"
    }
   ],
   "source": [
    "stats_13WG"
   ]
  },
  {
   "cell_type": "code",
   "execution_count": 85,
   "metadata": {
    "collapsed": false
   },
   "outputs": [],
   "source": [
    "# rid of male players\n",
    "stats_13WG.drop(stats_13WG.index[[1, 2, 4, 5, 7, 8, 10]], inplace=True)"
   ]
  },
  {
   "cell_type": "code",
   "execution_count": 86,
   "metadata": {
    "collapsed": false
   },
   "outputs": [
    {
     "data": {
      "text/html": [
       "<div>\n",
       "<table border=\"1\" class=\"dataframe\">\n",
       "  <thead>\n",
       "    <tr style=\"text-align: right;\">\n",
       "      <th></th>\n",
       "      <th>Team</th>\n",
       "      <th>Number</th>\n",
       "      <th>Name</th>\n",
       "      <th>Goal</th>\n",
       "      <th>Assist</th>\n",
       "      <th>Block</th>\n",
       "      <th>Turn</th>\n",
       "      <th>Games</th>\n",
       "      <th>Tournament</th>\n",
       "      <th>Standing</th>\n",
       "      <th>Spirit</th>\n",
       "    </tr>\n",
       "  </thead>\n",
       "  <tbody>\n",
       "    <tr>\n",
       "      <th>0</th>\n",
       "      <td>TEAM USA</td>\n",
       "      <td>24</td>\n",
       "      <td>ALEX SNYDER</td>\n",
       "      <td>1</td>\n",
       "      <td>10</td>\n",
       "      <td>NaN</td>\n",
       "      <td>NaN</td>\n",
       "      <td>6</td>\n",
       "      <td>2013 World Games</td>\n",
       "      <td>1</td>\n",
       "      <td>NaN</td>\n",
       "    </tr>\n",
       "    <tr>\n",
       "      <th>3</th>\n",
       "      <td>TEAM USA</td>\n",
       "      <td>5</td>\n",
       "      <td>CARA CROUCH</td>\n",
       "      <td>2</td>\n",
       "      <td>3</td>\n",
       "      <td>NaN</td>\n",
       "      <td>NaN</td>\n",
       "      <td>6</td>\n",
       "      <td>2013 World Games</td>\n",
       "      <td>1</td>\n",
       "      <td>NaN</td>\n",
       "    </tr>\n",
       "    <tr>\n",
       "      <th>6</th>\n",
       "      <td>TEAM USA</td>\n",
       "      <td>19</td>\n",
       "      <td>GEORGIA BOSSCHER</td>\n",
       "      <td>3</td>\n",
       "      <td>3</td>\n",
       "      <td>NaN</td>\n",
       "      <td>NaN</td>\n",
       "      <td>6</td>\n",
       "      <td>2013 World Games</td>\n",
       "      <td>1</td>\n",
       "      <td>NaN</td>\n",
       "    </tr>\n",
       "    <tr>\n",
       "      <th>9</th>\n",
       "      <td>TEAM USA</td>\n",
       "      <td>9</td>\n",
       "      <td>OCTAVIA PAYNE</td>\n",
       "      <td>4</td>\n",
       "      <td>1</td>\n",
       "      <td>NaN</td>\n",
       "      <td>NaN</td>\n",
       "      <td>6</td>\n",
       "      <td>2013 World Games</td>\n",
       "      <td>1</td>\n",
       "      <td>NaN</td>\n",
       "    </tr>\n",
       "    <tr>\n",
       "      <th>11</th>\n",
       "      <td>TEAM USA</td>\n",
       "      <td>6</td>\n",
       "      <td>SARAH GRIFFITH</td>\n",
       "      <td>11</td>\n",
       "      <td>0</td>\n",
       "      <td>NaN</td>\n",
       "      <td>NaN</td>\n",
       "      <td>6</td>\n",
       "      <td>2013 World Games</td>\n",
       "      <td>1</td>\n",
       "      <td>NaN</td>\n",
       "    </tr>\n",
       "    <tr>\n",
       "      <th>12</th>\n",
       "      <td>TEAM USA</td>\n",
       "      <td>13</td>\n",
       "      <td>VIRGINIA HOWARD</td>\n",
       "      <td>6</td>\n",
       "      <td>0</td>\n",
       "      <td>NaN</td>\n",
       "      <td>NaN</td>\n",
       "      <td>6</td>\n",
       "      <td>2013 World Games</td>\n",
       "      <td>1</td>\n",
       "      <td>NaN</td>\n",
       "    </tr>\n",
       "  </tbody>\n",
       "</table>\n",
       "</div>"
      ],
      "text/plain": [
       "        Team Number              Name  Goal  Assist  Block  Turn  Games  \\\n",
       "0   TEAM USA     24       ALEX SNYDER     1      10    NaN   NaN      6   \n",
       "3   TEAM USA      5       CARA CROUCH     2       3    NaN   NaN      6   \n",
       "6   TEAM USA     19  GEORGIA BOSSCHER     3       3    NaN   NaN      6   \n",
       "9   TEAM USA      9     OCTAVIA PAYNE     4       1    NaN   NaN      6   \n",
       "11  TEAM USA      6    SARAH GRIFFITH    11       0    NaN   NaN      6   \n",
       "12  TEAM USA     13   VIRGINIA HOWARD     6       0    NaN   NaN      6   \n",
       "\n",
       "          Tournament  Standing  Spirit  \n",
       "0   2013 World Games         1     NaN  \n",
       "3   2013 World Games         1     NaN  \n",
       "6   2013 World Games         1     NaN  \n",
       "9   2013 World Games         1     NaN  \n",
       "11  2013 World Games         1     NaN  \n",
       "12  2013 World Games         1     NaN  "
      ]
     },
     "execution_count": 86,
     "metadata": {},
     "output_type": "execute_result"
    }
   ],
   "source": [
    "stats_13WG"
   ]
  },
  {
   "cell_type": "code",
   "execution_count": 87,
   "metadata": {
    "collapsed": true
   },
   "outputs": [],
   "source": [
    "stats_13WG.replace('VIRGINIA HOWARD', 'CREE HOWARD', inplace=True)"
   ]
  },
  {
   "cell_type": "code",
   "execution_count": 88,
   "metadata": {
    "collapsed": false
   },
   "outputs": [
    {
     "data": {
      "text/html": [
       "<div>\n",
       "<table border=\"1\" class=\"dataframe\">\n",
       "  <thead>\n",
       "    <tr style=\"text-align: right;\">\n",
       "      <th></th>\n",
       "      <th>Team</th>\n",
       "      <th>Number</th>\n",
       "      <th>Name</th>\n",
       "      <th>Goal</th>\n",
       "      <th>Assist</th>\n",
       "      <th>Block</th>\n",
       "      <th>Turn</th>\n",
       "      <th>Games</th>\n",
       "      <th>Tournament</th>\n",
       "      <th>Standing</th>\n",
       "      <th>Spirit</th>\n",
       "    </tr>\n",
       "  </thead>\n",
       "  <tbody>\n",
       "    <tr>\n",
       "      <th>0</th>\n",
       "      <td>TEAM USA</td>\n",
       "      <td>24</td>\n",
       "      <td>ALEX SNYDER</td>\n",
       "      <td>1</td>\n",
       "      <td>10</td>\n",
       "      <td>NaN</td>\n",
       "      <td>NaN</td>\n",
       "      <td>6</td>\n",
       "      <td>2013 World Games</td>\n",
       "      <td>1</td>\n",
       "      <td>NaN</td>\n",
       "    </tr>\n",
       "    <tr>\n",
       "      <th>3</th>\n",
       "      <td>TEAM USA</td>\n",
       "      <td>5</td>\n",
       "      <td>CARA CROUCH</td>\n",
       "      <td>2</td>\n",
       "      <td>3</td>\n",
       "      <td>NaN</td>\n",
       "      <td>NaN</td>\n",
       "      <td>6</td>\n",
       "      <td>2013 World Games</td>\n",
       "      <td>1</td>\n",
       "      <td>NaN</td>\n",
       "    </tr>\n",
       "    <tr>\n",
       "      <th>6</th>\n",
       "      <td>TEAM USA</td>\n",
       "      <td>19</td>\n",
       "      <td>GEORGIA BOSSCHER</td>\n",
       "      <td>3</td>\n",
       "      <td>3</td>\n",
       "      <td>NaN</td>\n",
       "      <td>NaN</td>\n",
       "      <td>6</td>\n",
       "      <td>2013 World Games</td>\n",
       "      <td>1</td>\n",
       "      <td>NaN</td>\n",
       "    </tr>\n",
       "    <tr>\n",
       "      <th>9</th>\n",
       "      <td>TEAM USA</td>\n",
       "      <td>9</td>\n",
       "      <td>OCTAVIA PAYNE</td>\n",
       "      <td>4</td>\n",
       "      <td>1</td>\n",
       "      <td>NaN</td>\n",
       "      <td>NaN</td>\n",
       "      <td>6</td>\n",
       "      <td>2013 World Games</td>\n",
       "      <td>1</td>\n",
       "      <td>NaN</td>\n",
       "    </tr>\n",
       "    <tr>\n",
       "      <th>11</th>\n",
       "      <td>TEAM USA</td>\n",
       "      <td>6</td>\n",
       "      <td>SARAH GRIFFITH</td>\n",
       "      <td>11</td>\n",
       "      <td>0</td>\n",
       "      <td>NaN</td>\n",
       "      <td>NaN</td>\n",
       "      <td>6</td>\n",
       "      <td>2013 World Games</td>\n",
       "      <td>1</td>\n",
       "      <td>NaN</td>\n",
       "    </tr>\n",
       "    <tr>\n",
       "      <th>12</th>\n",
       "      <td>TEAM USA</td>\n",
       "      <td>13</td>\n",
       "      <td>CREE HOWARD</td>\n",
       "      <td>6</td>\n",
       "      <td>0</td>\n",
       "      <td>NaN</td>\n",
       "      <td>NaN</td>\n",
       "      <td>6</td>\n",
       "      <td>2013 World Games</td>\n",
       "      <td>1</td>\n",
       "      <td>NaN</td>\n",
       "    </tr>\n",
       "  </tbody>\n",
       "</table>\n",
       "</div>"
      ],
      "text/plain": [
       "        Team Number              Name  Goal  Assist  Block  Turn  Games  \\\n",
       "0   TEAM USA     24       ALEX SNYDER     1      10    NaN   NaN      6   \n",
       "3   TEAM USA      5       CARA CROUCH     2       3    NaN   NaN      6   \n",
       "6   TEAM USA     19  GEORGIA BOSSCHER     3       3    NaN   NaN      6   \n",
       "9   TEAM USA      9     OCTAVIA PAYNE     4       1    NaN   NaN      6   \n",
       "11  TEAM USA      6    SARAH GRIFFITH    11       0    NaN   NaN      6   \n",
       "12  TEAM USA     13       CREE HOWARD     6       0    NaN   NaN      6   \n",
       "\n",
       "          Tournament  Standing  Spirit  \n",
       "0   2013 World Games         1     NaN  \n",
       "3   2013 World Games         1     NaN  \n",
       "6   2013 World Games         1     NaN  \n",
       "9   2013 World Games         1     NaN  \n",
       "11  2013 World Games         1     NaN  \n",
       "12  2013 World Games         1     NaN  "
      ]
     },
     "execution_count": 88,
     "metadata": {},
     "output_type": "execute_result"
    }
   ],
   "source": [
    "stats_13WG"
   ]
  },
  {
   "cell_type": "markdown",
   "metadata": {},
   "source": [
    "# 2014 US Open\n",
    "http://play.usaultimate.org/events/USA-Ultimate-US-Open/schedule/women/Club-Women/"
   ]
  },
  {
   "cell_type": "code",
   "execution_count": 94,
   "metadata": {
    "collapsed": false
   },
   "outputs": [],
   "source": [
    "teams_14usopen = get_team_stat_urls('http://play.usaultimate.org/events/USA-Ultimate-US-Open/schedule/women/Club-Women/')"
   ]
  },
  {
   "cell_type": "code",
   "execution_count": 95,
   "metadata": {
    "collapsed": false
   },
   "outputs": [],
   "source": [
    "stats_14usopen = DataFrame.from_dict(get_stats(teams_14usopen))"
   ]
  },
  {
   "cell_type": "code",
   "execution_count": 98,
   "metadata": {
    "collapsed": false
   },
   "outputs": [],
   "source": [
    "cols = ['Team', 'Number', 'Name', 'Goal', 'Assist', 'Block', 'Turn']\n",
    "stats_14usopen = stats_14usopen[cols]\n",
    "stats_14usopen['Tournament'] = '2014 US Open'"
   ]
  },
  {
   "cell_type": "code",
   "execution_count": 99,
   "metadata": {
    "collapsed": false
   },
   "outputs": [
    {
     "data": {
      "text/plain": [
       "FURY           26\n",
       "RIOT           25\n",
       "SCANDAL        24\n",
       "TRAFFIC        23\n",
       "BRUTE SQUAD    22\n",
       "SHOWDOWN       22\n",
       "BAMBOO         15\n",
       "ICENI          15\n",
       "Name: Team, dtype: int64"
      ]
     },
     "execution_count": 99,
     "metadata": {},
     "output_type": "execute_result"
    }
   ],
   "source": [
    "stats_14usopen.Team.value_counts()"
   ]
  },
  {
   "cell_type": "markdown",
   "metadata": {},
   "source": [
    "2014 US Open Games"
   ]
  },
  {
   "cell_type": "code",
   "execution_count": 100,
   "metadata": {
    "collapsed": true
   },
   "outputs": [],
   "source": [
    "games_14usopen = {'FURY': 8,\n",
    " 'RIOT': 9,\n",
    " 'SCANDAL': 7,\n",
    " 'TRAFFIC': 8,\n",
    " 'BRUTE SQUAD': 9,\n",
    " 'SHOWDOWN': 7,\n",
    " 'BAMBOO': 7,\n",
    " 'ICENI': 7}"
   ]
  },
  {
   "cell_type": "code",
   "execution_count": 101,
   "metadata": {
    "collapsed": true
   },
   "outputs": [],
   "source": [
    "games_list_14usopen = []\n",
    "for item in stats_14usopen.Team:\n",
    "    games_list_14usopen.append(games_14usopen[item])"
   ]
  },
  {
   "cell_type": "code",
   "execution_count": 102,
   "metadata": {
    "collapsed": true
   },
   "outputs": [],
   "source": [
    "stats_14usopen['Games'] = games_list_14usopen"
   ]
  },
  {
   "cell_type": "markdown",
   "metadata": {},
   "source": [
    "2014 US Open Standings"
   ]
  },
  {
   "cell_type": "code",
   "execution_count": 103,
   "metadata": {
    "collapsed": true
   },
   "outputs": [],
   "source": [
    "standing_14usopen = {'FURY': 3,\n",
    " 'RIOT': 1,\n",
    " 'SCANDAL': 5,\n",
    " 'TRAFFIC': 3,\n",
    " 'BRUTE SQUAD': 2,\n",
    " 'SHOWDOWN': 6,\n",
    " 'BAMBOO': 8,\n",
    " 'ICENI': 7}"
   ]
  },
  {
   "cell_type": "code",
   "execution_count": 104,
   "metadata": {
    "collapsed": true
   },
   "outputs": [],
   "source": [
    "standing_list_14usopen = []\n",
    "for item in stats_14usopen.Team:\n",
    "    standing_list_14usopen.append(standing_14usopen[item])"
   ]
  },
  {
   "cell_type": "code",
   "execution_count": 105,
   "metadata": {
    "collapsed": true
   },
   "outputs": [],
   "source": [
    "stats_14usopen['Standing'] = standing_list_14usopen"
   ]
  },
  {
   "cell_type": "markdown",
   "metadata": {},
   "source": [
    "2014 US Open Spirit Scores\n",
    "\n",
    "http://www.usaultimate.org/archives/2014_club.aspx#usopen"
   ]
  },
  {
   "cell_type": "code",
   "execution_count": 106,
   "metadata": {
    "collapsed": true
   },
   "outputs": [],
   "source": [
    "# spirit scores\n",
    "r = requests.get('http://www.usaultimate.org/archives/2014_club.aspx#usopen')\n",
    "b = BeautifulSoup(r.text, 'html.parser')"
   ]
  },
  {
   "cell_type": "code",
   "execution_count": 107,
   "metadata": {
    "collapsed": false
   },
   "outputs": [
    {
     "data": {
      "text/plain": [
       "['<td>1</td>',\n",
       " '<td>Riot</td>',\n",
       " '<td>Northwest</td>',\n",
       " '<td><span style=\"background-color: rgb(0, 255, 0);\">16.57</span></td>',\n",
       " '<td>2</td>',\n",
       " '<td>Brute Squad</td>',\n",
       " '<td>Northeast</td>',\n",
       " '<td>14.71</td>',\n",
       " '<td>3T</td>',\n",
       " '<td>Traffic</td>',\n",
       " '<td>Northwest</td>',\n",
       " '<td>14.29</td>',\n",
       " '<td>3T</td>',\n",
       " '<td>Fury</td>',\n",
       " '<td>Southwest</td>',\n",
       " '<td>15.43</td>',\n",
       " '<td>5</td>',\n",
       " '<td>Scandal</td>',\n",
       " '<td>Mid-Atlantic</td>',\n",
       " '<td>15.43</td>',\n",
       " '<td>6</td>',\n",
       " '<td>Showdown</td>',\n",
       " '<td>South Central</td>',\n",
       " '<td>13.86</td>',\n",
       " '<td>7</td>',\n",
       " '<td>Iceni</td>',\n",
       " '<td>n/a (United Kingdom)</td>',\n",
       " '<td><span style=\"background-color: rgb(0, 255, 0);\">16.57</span></td>',\n",
       " '<td>8</td>',\n",
       " '<td>Bamboo</td>',\n",
       " '<td>n/a (Colombia)</td>',\n",
       " '<td>15.14</td>']"
      ]
     },
     "execution_count": 107,
     "metadata": {},
     "output_type": "execute_result"
    }
   ],
   "source": [
    "scores_14usopen = [str(item) for item in b.find_all('table',{'width':'480'})[5].find_all('td')]\n",
    "scores_14usopen"
   ]
  },
  {
   "cell_type": "code",
   "execution_count": 108,
   "metadata": {
    "collapsed": false
   },
   "outputs": [
    {
     "data": {
      "text/plain": [
       "{'BAMBOO': 15.14,\n",
       " 'BRUTE SQUAD': 14.71,\n",
       " 'FURY': 15.43,\n",
       " 'ICENI': 16.57,\n",
       " 'RIOT': 16.57,\n",
       " 'SCANDAL': 15.43,\n",
       " 'SHOWDOWN': 13.86,\n",
       " 'TRAFFIC': 14.29}"
      ]
     },
     "execution_count": 108,
     "metadata": {},
     "output_type": "execute_result"
    }
   ],
   "source": [
    "spirit_14usopen = {}\n",
    "count = 1\n",
    "\n",
    "while count < len(scores_14usopen):\n",
    "    spirit_14usopen[re.findall('([^>]*)</', scores_14usopen[count])[0].upper()] = float(re.findall('([^>]*)</', scores_14usopen[count+2])[0])\n",
    "\n",
    "    count += 4\n",
    "    \n",
    "spirit_14usopen"
   ]
  },
  {
   "cell_type": "code",
   "execution_count": 109,
   "metadata": {
    "collapsed": true
   },
   "outputs": [],
   "source": [
    "scores_list_14usopen = []\n",
    "for item in stats_14usopen.Team:\n",
    "    scores_list_14usopen.append(spirit_14usopen[item]/20.0)"
   ]
  },
  {
   "cell_type": "code",
   "execution_count": 110,
   "metadata": {
    "collapsed": false
   },
   "outputs": [
    {
     "data": {
      "text/html": [
       "<div>\n",
       "<table border=\"1\" class=\"dataframe\">\n",
       "  <thead>\n",
       "    <tr style=\"text-align: right;\">\n",
       "      <th></th>\n",
       "      <th>Team</th>\n",
       "      <th>Number</th>\n",
       "      <th>Name</th>\n",
       "      <th>Goal</th>\n",
       "      <th>Assist</th>\n",
       "      <th>Block</th>\n",
       "      <th>Turn</th>\n",
       "      <th>Games</th>\n",
       "      <th>Tournament</th>\n",
       "      <th>Standing</th>\n",
       "      <th>Spirit</th>\n",
       "    </tr>\n",
       "  </thead>\n",
       "  <tbody>\n",
       "    <tr>\n",
       "      <th>0</th>\n",
       "      <td>RIOT</td>\n",
       "      <td>01</td>\n",
       "      <td>KELLY JOHNSON</td>\n",
       "      <td>9</td>\n",
       "      <td>6</td>\n",
       "      <td>NaN</td>\n",
       "      <td>NaN</td>\n",
       "      <td>9</td>\n",
       "      <td>2014 US Open</td>\n",
       "      <td>1</td>\n",
       "      <td>0.8285</td>\n",
       "    </tr>\n",
       "    <tr>\n",
       "      <th>1</th>\n",
       "      <td>RIOT</td>\n",
       "      <td>02</td>\n",
       "      <td>ELLE BURSTEIN</td>\n",
       "      <td>0</td>\n",
       "      <td>0</td>\n",
       "      <td>NaN</td>\n",
       "      <td>NaN</td>\n",
       "      <td>9</td>\n",
       "      <td>2014 US Open</td>\n",
       "      <td>1</td>\n",
       "      <td>0.8285</td>\n",
       "    </tr>\n",
       "    <tr>\n",
       "      <th>2</th>\n",
       "      <td>RIOT</td>\n",
       "      <td>03</td>\n",
       "      <td>GWEN AMBLER</td>\n",
       "      <td>1</td>\n",
       "      <td>6</td>\n",
       "      <td>NaN</td>\n",
       "      <td>NaN</td>\n",
       "      <td>9</td>\n",
       "      <td>2014 US Open</td>\n",
       "      <td>1</td>\n",
       "      <td>0.8285</td>\n",
       "    </tr>\n",
       "    <tr>\n",
       "      <th>3</th>\n",
       "      <td>RIOT</td>\n",
       "      <td>04</td>\n",
       "      <td>ROHRE TITCOMB</td>\n",
       "      <td>5</td>\n",
       "      <td>8</td>\n",
       "      <td>NaN</td>\n",
       "      <td>NaN</td>\n",
       "      <td>9</td>\n",
       "      <td>2014 US Open</td>\n",
       "      <td>1</td>\n",
       "      <td>0.8285</td>\n",
       "    </tr>\n",
       "    <tr>\n",
       "      <th>4</th>\n",
       "      <td>RIOT</td>\n",
       "      <td>05</td>\n",
       "      <td>KATE KINGERY</td>\n",
       "      <td>6</td>\n",
       "      <td>7</td>\n",
       "      <td>NaN</td>\n",
       "      <td>NaN</td>\n",
       "      <td>9</td>\n",
       "      <td>2014 US Open</td>\n",
       "      <td>1</td>\n",
       "      <td>0.8285</td>\n",
       "    </tr>\n",
       "  </tbody>\n",
       "</table>\n",
       "</div>"
      ],
      "text/plain": [
       "   Team Number           Name  Goal  Assist  Block  Turn  Games    Tournament  \\\n",
       "0  RIOT     01  KELLY JOHNSON     9       6    NaN   NaN      9  2014 US Open   \n",
       "1  RIOT     02  ELLE BURSTEIN     0       0    NaN   NaN      9  2014 US Open   \n",
       "2  RIOT     03    GWEN AMBLER     1       6    NaN   NaN      9  2014 US Open   \n",
       "3  RIOT     04  ROHRE TITCOMB     5       8    NaN   NaN      9  2014 US Open   \n",
       "4  RIOT     05   KATE KINGERY     6       7    NaN   NaN      9  2014 US Open   \n",
       "\n",
       "   Standing  Spirit  \n",
       "0         1  0.8285  \n",
       "1         1  0.8285  \n",
       "2         1  0.8285  \n",
       "3         1  0.8285  \n",
       "4         1  0.8285  "
      ]
     },
     "execution_count": 110,
     "metadata": {},
     "output_type": "execute_result"
    }
   ],
   "source": [
    "stats_14usopen['Spirit'] = scores_list_14usopen\n",
    "stats_14usopen = stats_14usopen[['Team', 'Number', 'Name', 'Goal', 'Assist', 'Block', 'Turn', 'Games', 'Tournament', 'Standing', 'Spirit']]\n",
    "stats_14usopen.head()"
   ]
  },
  {
   "cell_type": "markdown",
   "metadata": {
    "collapsed": true
   },
   "source": [
    "# 2014 Club Championship Stats\n",
    "http://play.usaultimate.org/events/usa-ultimate-national-championships/"
   ]
  },
  {
   "cell_type": "code",
   "execution_count": 111,
   "metadata": {
    "collapsed": true
   },
   "outputs": [],
   "source": [
    "def get_team_stat_urls(Championship_Page_URL):\n",
    "    import requests\n",
    "    from bs4 import BeautifulSoup\n",
    "    \n",
    "    r = requests.get(Championship_Page_URL) \n",
    "    b = BeautifulSoup(r.text, 'html.parser')\n",
    "\n",
    "    step1 = [str(item).split('\\n') for item in b.find_all('tr', style='border: 1px solid #eee;')]\n",
    "    step2 = [item[1][13:-9] for item in step1]\n",
    "    step3 = [item.split('\">') for item in step2]\n",
    "    step4 = [item[1].split(' (') for item in step3]\n",
    "    \n",
    "    dict_name = {}\n",
    "    \n",
    "    for item in range(len(step4)):\n",
    "        dict_name[step4[item][0]] = step3[item][0] \n",
    "    \n",
    "    return dict_name"
   ]
  },
  {
   "cell_type": "code",
   "execution_count": 112,
   "metadata": {
    "collapsed": false
   },
   "outputs": [],
   "source": [
    "teams_14champ = get_team_stat_urls('http://play.usaultimate.org/events/USA-Ultimate-National-Championships/schedule/Women/Club-Women/')"
   ]
  },
  {
   "cell_type": "code",
   "execution_count": 113,
   "metadata": {
    "collapsed": false
   },
   "outputs": [
    {
     "data": {
      "text/plain": [
       "{'Brute Squad': '/events/teams/?EventTeamId=xp%2bejIJBOcfXXkdUBdhyKw7QdaKTsy2msZaYJsN0QFI%3d',\n",
       " 'Capitals': '/events/teams/?EventTeamId=QMEULDssKTN4OuwrBMNq94efa7qxYCOB39XjXXvDBuY%3d',\n",
       " 'Fury': '/events/teams/?EventTeamId=CBkbxJkqtPUazzlNKxrMYL476TAvWyT%2b%2bII9vIya7AM%3d',\n",
       " 'Green Means Go': '/events/teams/?EventTeamId=ejfj3ptI1RiAMMNBDBMR%2bOWMPBwsN0Y86S%2fuCAYPw9U%3d',\n",
       " 'Heist': '/events/teams/?EventTeamId=h%2bkaG2ZXhVd798X3lGV7PeEc5SUIuvMgQy9BNMokNsM%3d',\n",
       " 'Molly Brown': '/events/teams/?EventTeamId=cKqY9nt%2bZuiYvmdlJ2MwdG0cK1L9yUN%2bWnowMqR1zKg%3d',\n",
       " 'Nemesis': '/events/teams/?EventTeamId=mIbs2PBWcyioQl2JAuLt1FjcCr3eIAK7iEJX3hRzIO8%3d',\n",
       " 'Nightlock': '/events/teams/?EventTeamId=KWGXFcYyimfQtEQ%2fDYoEE7kZ1HzzEC0yN7KIfYlhSWg%3d',\n",
       " 'Ozone': '/events/teams/?EventTeamId=01oilPzTzWp6xnsGkQ0uJtZl64NEdUOHJ0wQZrvMnNY%3d',\n",
       " 'Riot': '/events/teams/?EventTeamId=ddLOZCRcEzHqNrt1jat3nz4wNJ%2f7YNKK5OZQonhRuaQ%3d',\n",
       " 'Scandal': '/events/teams/?EventTeamId=m%2f3%2f0BtHZz5iI3aEgO1fqtpMAlDOwL7dnQ9uEQk0EK8%3d',\n",
       " 'Schwa': '/events/teams/?EventTeamId=esap3%2bfn3sLLAi%2bd1CxTiw7BVTCxjkAJdsoGTOIgx%2bc%3d',\n",
       " 'Showdown': '/events/teams/?EventTeamId=i9PHtiZOwQbftmahwj7ZWJSPQInr4SNYpfhAUtOB3xo%3d',\n",
       " 'Tabby Rosa': '/events/teams/?EventTeamId=BsdQC%2fDwobEqjntQ3M%2bPsGxZBLsy7MKdvHHcjWZszdU%3d',\n",
       " 'Traffic': '/events/teams/?EventTeamId=lz7rHLVbDRM0KJ9kdEdQCmulguSFhgEyLZE8x%2fjkm5A%3d',\n",
       " 'Underground': '/events/teams/?EventTeamId=3sDF4XVM1iwycJyXOa%2fItCAuNm%2b40z%2bEJPmAfa7S2BA%3d'}"
      ]
     },
     "execution_count": 113,
     "metadata": {},
     "output_type": "execute_result"
    }
   ],
   "source": [
    "teams_14champ"
   ]
  },
  {
   "cell_type": "code",
   "execution_count": 115,
   "metadata": {
    "collapsed": false
   },
   "outputs": [],
   "source": [
    "# explore existing columns\n",
    "\n",
    "r = requests.get('http://play.usaultimate.org' + teams_14champ['Traffic']) #any team name will do\n",
    "team_page = BeautifulSoup(r.text, 'html.parser')"
   ]
  },
  {
   "cell_type": "code",
   "execution_count": 117,
   "metadata": {
    "collapsed": false
   },
   "outputs": [],
   "source": [
    "columns_14champ = [str(item)[15:-5] for item in team_page.find('div', id='roster_list').find_all('th', span='col')]"
   ]
  },
  {
   "cell_type": "code",
   "execution_count": 118,
   "metadata": {
    "collapsed": false
   },
   "outputs": [
    {
     "data": {
      "text/plain": [
       "['No.',\n",
       " 'Name',\n",
       " 'Position',\n",
       " 'Year',\n",
       " 'Height',\n",
       " 'Goals',\n",
       " 'Assists',\n",
       " 'Ds',\n",
       " 'Turns']"
      ]
     },
     "execution_count": 118,
     "metadata": {},
     "output_type": "execute_result"
    }
   ],
   "source": [
    "columns_14champ"
   ]
  },
  {
   "cell_type": "code",
   "execution_count": 119,
   "metadata": {
    "collapsed": true
   },
   "outputs": [],
   "source": [
    "def get_stats_page(team_name, dict_name):\n",
    "    # get html of team stats page\n",
    "    r = requests.get('http://play.usaultimate.org' + dict_name[team_name])\n",
    "    team_page = BeautifulSoup(r.text, 'html.parser')\n",
    "    return team_page.find('div', id='roster_list')"
   ]
  },
  {
   "cell_type": "code",
   "execution_count": 120,
   "metadata": {
    "collapsed": false
   },
   "outputs": [],
   "source": [
    "def player_info(team_name, dict_name):\n",
    "    \n",
    "    List1 = [str(item)[4:-5] for item in get_stats_page(team_name, dict_name).find_all('td')]\n",
    "    \n",
    "    playerInfo = []\n",
    "    count = 0\n",
    "    \n",
    "    while count < len(List1):\n",
    "        \n",
    "        info = {}\n",
    "\n",
    "        info['Number'] = List1[count]\n",
    "        info['Name'] = List1[count+1].upper()\n",
    "#         info['Position'] = List1[count+2]\n",
    "#         info['Year'] = List1[count+3]\n",
    "#         info['Height'] = List1[count+4]\n",
    "        info['Goal'] = int(List1[count+5])\n",
    "        info['Assist'] = int(List1[count+6])\n",
    "        info['Block'] = np.nan # int(List1[count+7])\n",
    "        info['Turn'] = np.nan # int(List1[count+8])\n",
    "        info['Team'] = team_name.upper()\n",
    "        \n",
    "        count += 9\n",
    "        playerInfo.append(info)\n",
    "    \n",
    "    return playerInfo"
   ]
  },
  {
   "cell_type": "code",
   "execution_count": 121,
   "metadata": {
    "collapsed": false
   },
   "outputs": [],
   "source": [
    "def get_stats(dict_name):\n",
    "    stats = []\n",
    "\n",
    "    for team in dict_name:\n",
    "        stats += player_info(str(team), dict_name)\n",
    "    \n",
    "    return stats"
   ]
  },
  {
   "cell_type": "code",
   "execution_count": 122,
   "metadata": {
    "collapsed": false
   },
   "outputs": [
    {
     "data": {
      "text/html": [
       "<div>\n",
       "<table border=\"1\" class=\"dataframe\">\n",
       "  <thead>\n",
       "    <tr style=\"text-align: right;\">\n",
       "      <th></th>\n",
       "      <th>Assist</th>\n",
       "      <th>Block</th>\n",
       "      <th>Goal</th>\n",
       "      <th>Name</th>\n",
       "      <th>Number</th>\n",
       "      <th>Team</th>\n",
       "      <th>Turn</th>\n",
       "    </tr>\n",
       "  </thead>\n",
       "  <tbody>\n",
       "    <tr>\n",
       "      <th>0</th>\n",
       "      <td>0</td>\n",
       "      <td>NaN</td>\n",
       "      <td>0</td>\n",
       "      <td>KARA KELLY</td>\n",
       "      <td>00</td>\n",
       "      <td>NIGHTLOCK</td>\n",
       "      <td>NaN</td>\n",
       "    </tr>\n",
       "    <tr>\n",
       "      <th>1</th>\n",
       "      <td>2</td>\n",
       "      <td>NaN</td>\n",
       "      <td>2</td>\n",
       "      <td>SHARON TSENG</td>\n",
       "      <td>01</td>\n",
       "      <td>NIGHTLOCK</td>\n",
       "      <td>NaN</td>\n",
       "    </tr>\n",
       "    <tr>\n",
       "      <th>2</th>\n",
       "      <td>7</td>\n",
       "      <td>NaN</td>\n",
       "      <td>5</td>\n",
       "      <td>MARISA RAFTER</td>\n",
       "      <td>02</td>\n",
       "      <td>NIGHTLOCK</td>\n",
       "      <td>NaN</td>\n",
       "    </tr>\n",
       "    <tr>\n",
       "      <th>3</th>\n",
       "      <td>3</td>\n",
       "      <td>NaN</td>\n",
       "      <td>3</td>\n",
       "      <td>MICHAELA LEE</td>\n",
       "      <td>03</td>\n",
       "      <td>NIGHTLOCK</td>\n",
       "      <td>NaN</td>\n",
       "    </tr>\n",
       "    <tr>\n",
       "      <th>4</th>\n",
       "      <td>5</td>\n",
       "      <td>NaN</td>\n",
       "      <td>3</td>\n",
       "      <td>MARIKA AUSTIN</td>\n",
       "      <td>04</td>\n",
       "      <td>NIGHTLOCK</td>\n",
       "      <td>NaN</td>\n",
       "    </tr>\n",
       "  </tbody>\n",
       "</table>\n",
       "</div>"
      ],
      "text/plain": [
       "   Assist  Block  Goal           Name Number       Team  Turn\n",
       "0       0    NaN     0     KARA KELLY     00  NIGHTLOCK   NaN\n",
       "1       2    NaN     2   SHARON TSENG     01  NIGHTLOCK   NaN\n",
       "2       7    NaN     5  MARISA RAFTER     02  NIGHTLOCK   NaN\n",
       "3       3    NaN     3   MICHAELA LEE     03  NIGHTLOCK   NaN\n",
       "4       5    NaN     3  MARIKA AUSTIN     04  NIGHTLOCK   NaN"
      ]
     },
     "execution_count": 122,
     "metadata": {},
     "output_type": "execute_result"
    }
   ],
   "source": [
    "stats_14champ = DataFrame.from_dict(get_stats(teams_14champ))\n",
    "stats_14champ.head()"
   ]
  },
  {
   "cell_type": "code",
   "execution_count": 123,
   "metadata": {
    "collapsed": false,
    "scrolled": true
   },
   "outputs": [
    {
     "data": {
      "text/html": [
       "<div>\n",
       "<table border=\"1\" class=\"dataframe\">\n",
       "  <thead>\n",
       "    <tr style=\"text-align: right;\">\n",
       "      <th></th>\n",
       "      <th>Team</th>\n",
       "      <th>Number</th>\n",
       "      <th>Name</th>\n",
       "      <th>Goal</th>\n",
       "      <th>Assist</th>\n",
       "      <th>Block</th>\n",
       "      <th>Turn</th>\n",
       "      <th>Tournament</th>\n",
       "    </tr>\n",
       "  </thead>\n",
       "  <tbody>\n",
       "    <tr>\n",
       "      <th>386</th>\n",
       "      <td>GREEN MEANS GO</td>\n",
       "      <td>44</td>\n",
       "      <td>NATALIE GUSTAFSON</td>\n",
       "      <td>1</td>\n",
       "      <td>0</td>\n",
       "      <td>NaN</td>\n",
       "      <td>NaN</td>\n",
       "      <td>2014 USAU Club Championships</td>\n",
       "    </tr>\n",
       "    <tr>\n",
       "      <th>387</th>\n",
       "      <td>GREEN MEANS GO</td>\n",
       "      <td>51</td>\n",
       "      <td>JAMIE BARR</td>\n",
       "      <td>0</td>\n",
       "      <td>0</td>\n",
       "      <td>NaN</td>\n",
       "      <td>NaN</td>\n",
       "      <td>2014 USAU Club Championships</td>\n",
       "    </tr>\n",
       "    <tr>\n",
       "      <th>388</th>\n",
       "      <td>GREEN MEANS GO</td>\n",
       "      <td>53</td>\n",
       "      <td>MARGIE GUY</td>\n",
       "      <td>0</td>\n",
       "      <td>0</td>\n",
       "      <td>NaN</td>\n",
       "      <td>NaN</td>\n",
       "      <td>2014 USAU Club Championships</td>\n",
       "    </tr>\n",
       "    <tr>\n",
       "      <th>389</th>\n",
       "      <td>GREEN MEANS GO</td>\n",
       "      <td>66</td>\n",
       "      <td>SHERRY LI</td>\n",
       "      <td>1</td>\n",
       "      <td>1</td>\n",
       "      <td>NaN</td>\n",
       "      <td>NaN</td>\n",
       "      <td>2014 USAU Club Championships</td>\n",
       "    </tr>\n",
       "    <tr>\n",
       "      <th>390</th>\n",
       "      <td>GREEN MEANS GO</td>\n",
       "      <td>88</td>\n",
       "      <td>EILEEN PEACH REGAN</td>\n",
       "      <td>0</td>\n",
       "      <td>0</td>\n",
       "      <td>NaN</td>\n",
       "      <td>NaN</td>\n",
       "      <td>2014 USAU Club Championships</td>\n",
       "    </tr>\n",
       "  </tbody>\n",
       "</table>\n",
       "</div>"
      ],
      "text/plain": [
       "               Team Number                Name  Goal  Assist  Block  Turn  \\\n",
       "386  GREEN MEANS GO     44   NATALIE GUSTAFSON     1       0    NaN   NaN   \n",
       "387  GREEN MEANS GO     51          JAMIE BARR     0       0    NaN   NaN   \n",
       "388  GREEN MEANS GO     53          MARGIE GUY     0       0    NaN   NaN   \n",
       "389  GREEN MEANS GO     66           SHERRY LI     1       1    NaN   NaN   \n",
       "390  GREEN MEANS GO     88  EILEEN PEACH REGAN     0       0    NaN   NaN   \n",
       "\n",
       "                       Tournament  \n",
       "386  2014 USAU Club Championships  \n",
       "387  2014 USAU Club Championships  \n",
       "388  2014 USAU Club Championships  \n",
       "389  2014 USAU Club Championships  \n",
       "390  2014 USAU Club Championships  "
      ]
     },
     "execution_count": 123,
     "metadata": {},
     "output_type": "execute_result"
    }
   ],
   "source": [
    "stats_14champ = stats_14champ[cols]\n",
    "stats_14champ['Tournament'] = '2014 USAU Club Championships'\n",
    "stats_14champ.tail()"
   ]
  },
  {
   "cell_type": "markdown",
   "metadata": {},
   "source": [
    "2014 Championship Games"
   ]
  },
  {
   "cell_type": "code",
   "execution_count": 124,
   "metadata": {
    "collapsed": true
   },
   "outputs": [],
   "source": [
    "games_14champ = {'BRUTE SQUAD': 6,\n",
    " 'CAPITALS': 4,\n",
    " 'FURY': 7,\n",
    " 'GREEN MEANS GO': 4,\n",
    " 'HEIST': 4,\n",
    " 'MOLLY BROWN': 5,\n",
    " 'NEMESIS': 4,\n",
    " 'NIGHTLOCK': 4,\n",
    " 'OZONE': 5,\n",
    " 'RIOT': 6,\n",
    " 'SCANDAL': 7,\n",
    " 'SCHWA': 4,\n",
    " 'SHOWDOWN': 5,\n",
    " 'TABBY ROSA': 4,\n",
    " 'TRAFFIC': 5,\n",
    " 'UNDERGROUND': 4}"
   ]
  },
  {
   "cell_type": "code",
   "execution_count": 125,
   "metadata": {
    "collapsed": true
   },
   "outputs": [],
   "source": [
    "games_list_14champ = []\n",
    "for item in stats_14champ.Team:\n",
    "    games_list_14champ.append(games_14champ[item])"
   ]
  },
  {
   "cell_type": "code",
   "execution_count": 126,
   "metadata": {
    "collapsed": true
   },
   "outputs": [],
   "source": [
    "stats_14champ['Games'] = games_list_14champ"
   ]
  },
  {
   "cell_type": "markdown",
   "metadata": {},
   "source": [
    "2014 Championship Standings"
   ]
  },
  {
   "cell_type": "code",
   "execution_count": 127,
   "metadata": {
    "collapsed": true
   },
   "outputs": [],
   "source": [
    "standing_14champ = {'BRUTE SQUAD': 3,\n",
    " 'CAPITALS': 14,\n",
    " 'FURY': 2,\n",
    " 'GREEN MEANS GO': 15,\n",
    " 'HEIST': 11,\n",
    " 'MOLLY BROWN': 9,\n",
    " 'NEMESIS': 13,\n",
    " 'NIGHTLOCK': 7,\n",
    " 'OZONE': 5,\n",
    " 'RIOT': 3,\n",
    " 'SCANDAL': 1,\n",
    " 'SCHWA': 9,\n",
    " 'SHOWDOWN': 6,\n",
    " 'TABBY ROSA': 16,\n",
    " 'TRAFFIC': 7,\n",
    " 'UNDERGROUND': 12}"
   ]
  },
  {
   "cell_type": "code",
   "execution_count": 128,
   "metadata": {
    "collapsed": true
   },
   "outputs": [],
   "source": [
    "standing_list_14champ = []\n",
    "for item in stats_14champ.Team:\n",
    "    standing_list_14champ.append(standing_14champ[item])"
   ]
  },
  {
   "cell_type": "code",
   "execution_count": 129,
   "metadata": {
    "collapsed": true
   },
   "outputs": [],
   "source": [
    "stats_14champ['Standing'] = standing_list_14champ"
   ]
  },
  {
   "cell_type": "markdown",
   "metadata": {},
   "source": [
    "2014 Championship Spirit"
   ]
  },
  {
   "cell_type": "code",
   "execution_count": 130,
   "metadata": {
    "collapsed": false
   },
   "outputs": [],
   "source": [
    "# spirit scores\n",
    "r = requests.get('http://play.usaultimate.org/events/usa-ultimate-national-championships/')\n",
    "b = BeautifulSoup(r.text, 'html.parser')\n",
    "\n",
    "scores_14champ = [str(item).split('\\n')[2:5:2] for item in b.find_all('table',{'width':'400'})[2].find_all('tr')]\n",
    "# scores_14"
   ]
  },
  {
   "cell_type": "code",
   "execution_count": 131,
   "metadata": {
    "collapsed": false
   },
   "outputs": [],
   "source": [
    "# re.findall('([^>]*)</', scores_14[1][0])[0].upper() # for team\n",
    "# scores_14[count][1][6:-5] # score\n",
    "# float(re.findall('([^>]*)</', scores[count][0])[0])"
   ]
  },
  {
   "cell_type": "code",
   "execution_count": 133,
   "metadata": {
    "collapsed": false
   },
   "outputs": [],
   "source": [
    "spirit_14champ = {}\n",
    "count = 1\n",
    "\n",
    "while count < len(scores_14champ):\n",
    "    spirit_14champ[re.findall('([^>]*)</', scores_14champ[count][0])[0].upper()] = float(scores_14champ[count][1][6:-5])\n",
    "\n",
    "    count += 1\n",
    "    \n",
    "# spirit_14champ"
   ]
  },
  {
   "cell_type": "code",
   "execution_count": 134,
   "metadata": {
    "collapsed": false
   },
   "outputs": [],
   "source": [
    "scores_list_14champ = []\n",
    "for item in stats_14champ.Team:\n",
    "    scores_list_14champ.append(spirit_14champ[item]/20.0)"
   ]
  },
  {
   "cell_type": "code",
   "execution_count": 135,
   "metadata": {
    "collapsed": false
   },
   "outputs": [
    {
     "data": {
      "text/html": [
       "<div>\n",
       "<table border=\"1\" class=\"dataframe\">\n",
       "  <thead>\n",
       "    <tr style=\"text-align: right;\">\n",
       "      <th></th>\n",
       "      <th>Team</th>\n",
       "      <th>Number</th>\n",
       "      <th>Name</th>\n",
       "      <th>Goal</th>\n",
       "      <th>Assist</th>\n",
       "      <th>Block</th>\n",
       "      <th>Turn</th>\n",
       "      <th>Games</th>\n",
       "      <th>Tournament</th>\n",
       "      <th>Standing</th>\n",
       "      <th>Spirit</th>\n",
       "    </tr>\n",
       "  </thead>\n",
       "  <tbody>\n",
       "    <tr>\n",
       "      <th>355</th>\n",
       "      <td>TABBY ROSA</td>\n",
       "      <td>15</td>\n",
       "      <td>AMANDA SCHWORM</td>\n",
       "      <td>3</td>\n",
       "      <td>0</td>\n",
       "      <td>NaN</td>\n",
       "      <td>NaN</td>\n",
       "      <td>4</td>\n",
       "      <td>2014 USAU Club Championships</td>\n",
       "      <td>16</td>\n",
       "      <td>0.7645</td>\n",
       "    </tr>\n",
       "    <tr>\n",
       "      <th>356</th>\n",
       "      <td>TABBY ROSA</td>\n",
       "      <td>18</td>\n",
       "      <td>SHAYNA BROCK</td>\n",
       "      <td>2</td>\n",
       "      <td>0</td>\n",
       "      <td>NaN</td>\n",
       "      <td>NaN</td>\n",
       "      <td>4</td>\n",
       "      <td>2014 USAU Club Championships</td>\n",
       "      <td>16</td>\n",
       "      <td>0.7645</td>\n",
       "    </tr>\n",
       "    <tr>\n",
       "      <th>349</th>\n",
       "      <td>TABBY ROSA</td>\n",
       "      <td>05</td>\n",
       "      <td>DIANA ELSNER</td>\n",
       "      <td>0</td>\n",
       "      <td>1</td>\n",
       "      <td>NaN</td>\n",
       "      <td>NaN</td>\n",
       "      <td>4</td>\n",
       "      <td>2014 USAU Club Championships</td>\n",
       "      <td>16</td>\n",
       "      <td>0.7645</td>\n",
       "    </tr>\n",
       "    <tr>\n",
       "      <th>350</th>\n",
       "      <td>TABBY ROSA</td>\n",
       "      <td>06</td>\n",
       "      <td>ALEXA WOOD</td>\n",
       "      <td>0</td>\n",
       "      <td>0</td>\n",
       "      <td>NaN</td>\n",
       "      <td>NaN</td>\n",
       "      <td>4</td>\n",
       "      <td>2014 USAU Club Championships</td>\n",
       "      <td>16</td>\n",
       "      <td>0.7645</td>\n",
       "    </tr>\n",
       "    <tr>\n",
       "      <th>351</th>\n",
       "      <td>TABBY ROSA</td>\n",
       "      <td>07</td>\n",
       "      <td>KELSEY VIARS</td>\n",
       "      <td>14</td>\n",
       "      <td>3</td>\n",
       "      <td>NaN</td>\n",
       "      <td>NaN</td>\n",
       "      <td>4</td>\n",
       "      <td>2014 USAU Club Championships</td>\n",
       "      <td>16</td>\n",
       "      <td>0.7645</td>\n",
       "    </tr>\n",
       "  </tbody>\n",
       "</table>\n",
       "</div>"
      ],
      "text/plain": [
       "           Team Number            Name  Goal  Assist  Block  Turn  Games  \\\n",
       "355  TABBY ROSA     15  AMANDA SCHWORM     3       0    NaN   NaN      4   \n",
       "356  TABBY ROSA     18    SHAYNA BROCK     2       0    NaN   NaN      4   \n",
       "349  TABBY ROSA     05    DIANA ELSNER     0       1    NaN   NaN      4   \n",
       "350  TABBY ROSA     06      ALEXA WOOD     0       0    NaN   NaN      4   \n",
       "351  TABBY ROSA     07    KELSEY VIARS    14       3    NaN   NaN      4   \n",
       "\n",
       "                       Tournament  Standing  Spirit  \n",
       "355  2014 USAU Club Championships        16  0.7645  \n",
       "356  2014 USAU Club Championships        16  0.7645  \n",
       "349  2014 USAU Club Championships        16  0.7645  \n",
       "350  2014 USAU Club Championships        16  0.7645  \n",
       "351  2014 USAU Club Championships        16  0.7645  "
      ]
     },
     "execution_count": 135,
     "metadata": {},
     "output_type": "execute_result"
    }
   ],
   "source": [
    "stats_14champ['Spirit'] = scores_list_14champ\n",
    "stats_14champ = stats_14champ[['Team', 'Number', 'Name', 'Goal', 'Assist', 'Block', 'Turn', 'Games', 'Tournament', 'Standing', 'Spirit']]\n",
    "stats_14champ.sort_values('Standing', ascending=False).head()"
   ]
  },
  {
   "cell_type": "markdown",
   "metadata": {},
   "source": [
    "# 2014 WUCC\n",
    "http://wucc2014.wfdf.org/?view=scorestatus&Series=3"
   ]
  },
  {
   "cell_type": "code",
   "execution_count": 136,
   "metadata": {
    "collapsed": false
   },
   "outputs": [],
   "source": [
    "r = requests.get('http://wucc2014.wfdf.org/?view=scorestatus&Series=3') \n",
    "b = BeautifulSoup(r.text, 'html.parser')\n",
    "\n",
    "b.find('table', {'style':'width:100%'}).find_all('td')\n",
    "List = [str(item) for item in b.find('table', {'style':'width:100%'}).find_all('td')]"
   ]
  },
  {
   "cell_type": "code",
   "execution_count": 137,
   "metadata": {
    "collapsed": true
   },
   "outputs": [],
   "source": [
    "def player_info_WUCC():\n",
    "    \n",
    "    List = [str(item) for item in b.find('table', {'style':'width:100%'}).find_all('td')]\n",
    "    \n",
    "    playerInfo = []\n",
    "    count = 0\n",
    "    \n",
    "    while count < len(List):\n",
    "        \n",
    "        info = {}\n",
    "\n",
    "        info['Number'] = np.nan\n",
    "        info['Name'] = List[count+1][List[count+1].find('\">')+2:List[count+1].find('</a>')].upper()\n",
    "        info['Team'] = List[count+2][List[count+2].find('>')+1:List[count+2].find('</')].upper()\n",
    "        info['Games'] = int(List[count+3][List[count+3].find('>')+1:List[count+3].find('</')])\n",
    "        info['Assist'] = int(List[count+4][List[count+4].find('>')+1:List[count+4].find('</')])\n",
    "        info['Goal'] = int(List[count+5][List[count+5].find('>')+1:List[count+5].find('</')])\n",
    "        info['Block'] = np.nan\n",
    "        info['Turn'] = np.nan\n",
    "        \n",
    "        count += 8\n",
    "        playerInfo.append(info)\n",
    "    \n",
    "    return playerInfo"
   ]
  },
  {
   "cell_type": "code",
   "execution_count": 138,
   "metadata": {
    "collapsed": true
   },
   "outputs": [],
   "source": [
    "stats_14WUCC = DataFrame.from_dict(player_info_WUCC())"
   ]
  },
  {
   "cell_type": "code",
   "execution_count": 139,
   "metadata": {
    "collapsed": false
   },
   "outputs": [],
   "source": [
    "standing_list_14WUCC = []\n",
    "for item in stats_14WUCC.Team:\n",
    "    if item == 'RIOT':\n",
    "        standing_list_14WUCC.append(1)\n",
    "    else:\n",
    "        standing_list_14WUCC.append(2)"
   ]
  },
  {
   "cell_type": "code",
   "execution_count": 140,
   "metadata": {
    "collapsed": true
   },
   "outputs": [],
   "source": [
    "stats_14WUCC = stats_14WUCC[['Team', 'Number', 'Name', 'Goal', 'Assist', 'Block', 'Turn']]\n",
    "stats_14WUCC['Games'] = 1\n",
    "stats_14WUCC['Tournament'] = '2014 WUCC'\n",
    "stats_14WUCC['Standing'] = standing_list_14WUCC\n",
    "stats_14WUCC['Spirit'] = np.nan"
   ]
  },
  {
   "cell_type": "code",
   "execution_count": 141,
   "metadata": {
    "collapsed": false
   },
   "outputs": [
    {
     "data": {
      "text/html": [
       "<div>\n",
       "<table border=\"1\" class=\"dataframe\">\n",
       "  <thead>\n",
       "    <tr style=\"text-align: right;\">\n",
       "      <th></th>\n",
       "      <th>Team</th>\n",
       "      <th>Number</th>\n",
       "      <th>Name</th>\n",
       "      <th>Goal</th>\n",
       "      <th>Assist</th>\n",
       "      <th>Block</th>\n",
       "      <th>Turn</th>\n",
       "      <th>Games</th>\n",
       "      <th>Tournament</th>\n",
       "      <th>Standing</th>\n",
       "      <th>Spirit</th>\n",
       "    </tr>\n",
       "  </thead>\n",
       "  <tbody>\n",
       "    <tr>\n",
       "      <th>0</th>\n",
       "      <td>RIOT</td>\n",
       "      <td>NaN</td>\n",
       "      <td>GWEN AMBLER</td>\n",
       "      <td>3</td>\n",
       "      <td>2</td>\n",
       "      <td>NaN</td>\n",
       "      <td>NaN</td>\n",
       "      <td>1</td>\n",
       "      <td>2014 WUCC</td>\n",
       "      <td>1</td>\n",
       "      <td>NaN</td>\n",
       "    </tr>\n",
       "    <tr>\n",
       "      <th>1</th>\n",
       "      <td>RIOT</td>\n",
       "      <td>NaN</td>\n",
       "      <td>DOMINIQUE FONTENETTE</td>\n",
       "      <td>3</td>\n",
       "      <td>2</td>\n",
       "      <td>NaN</td>\n",
       "      <td>NaN</td>\n",
       "      <td>1</td>\n",
       "      <td>2014 WUCC</td>\n",
       "      <td>1</td>\n",
       "      <td>NaN</td>\n",
       "    </tr>\n",
       "    <tr>\n",
       "      <th>2</th>\n",
       "      <td>RIOT</td>\n",
       "      <td>NaN</td>\n",
       "      <td>SARAH GRIFFITH</td>\n",
       "      <td>3</td>\n",
       "      <td>2</td>\n",
       "      <td>NaN</td>\n",
       "      <td>NaN</td>\n",
       "      <td>1</td>\n",
       "      <td>2014 WUCC</td>\n",
       "      <td>1</td>\n",
       "      <td>NaN</td>\n",
       "    </tr>\n",
       "    <tr>\n",
       "      <th>3</th>\n",
       "      <td>FURY</td>\n",
       "      <td>NaN</td>\n",
       "      <td>LISA PITCAITHLEY</td>\n",
       "      <td>3</td>\n",
       "      <td>2</td>\n",
       "      <td>NaN</td>\n",
       "      <td>NaN</td>\n",
       "      <td>1</td>\n",
       "      <td>2014 WUCC</td>\n",
       "      <td>2</td>\n",
       "      <td>NaN</td>\n",
       "    </tr>\n",
       "    <tr>\n",
       "      <th>4</th>\n",
       "      <td>FURY</td>\n",
       "      <td>NaN</td>\n",
       "      <td>CLAIRE DESMOND</td>\n",
       "      <td>4</td>\n",
       "      <td>0</td>\n",
       "      <td>NaN</td>\n",
       "      <td>NaN</td>\n",
       "      <td>1</td>\n",
       "      <td>2014 WUCC</td>\n",
       "      <td>2</td>\n",
       "      <td>NaN</td>\n",
       "    </tr>\n",
       "  </tbody>\n",
       "</table>\n",
       "</div>"
      ],
      "text/plain": [
       "   Team  Number                  Name  Goal  Assist  Block  Turn  Games  \\\n",
       "0  RIOT     NaN           GWEN AMBLER     3       2    NaN   NaN      1   \n",
       "1  RIOT     NaN  DOMINIQUE FONTENETTE     3       2    NaN   NaN      1   \n",
       "2  RIOT     NaN        SARAH GRIFFITH     3       2    NaN   NaN      1   \n",
       "3  FURY     NaN      LISA PITCAITHLEY     3       2    NaN   NaN      1   \n",
       "4  FURY     NaN        CLAIRE DESMOND     4       0    NaN   NaN      1   \n",
       "\n",
       "  Tournament  Standing  Spirit  \n",
       "0  2014 WUCC         1     NaN  \n",
       "1  2014 WUCC         1     NaN  \n",
       "2  2014 WUCC         1     NaN  \n",
       "3  2014 WUCC         2     NaN  \n",
       "4  2014 WUCC         2     NaN  "
      ]
     },
     "execution_count": 141,
     "metadata": {},
     "output_type": "execute_result"
    }
   ],
   "source": [
    "stats_14WUCC.head()"
   ]
  },
  {
   "cell_type": "markdown",
   "metadata": {},
   "source": [
    "# 2015 US Open\n",
    "http://play.usaultimate.org/events/US-Open-Ultimate-Championships-2015/schedule/Women/Club-Women/"
   ]
  },
  {
   "cell_type": "code",
   "execution_count": 142,
   "metadata": {
    "collapsed": false
   },
   "outputs": [],
   "source": [
    "usopenteams_2015 = get_team_stat_urls('http://play.usaultimate.org/events/US-Open-Ultimate-Championships-2015/schedule/Women/Club-Women/')"
   ]
  },
  {
   "cell_type": "code",
   "execution_count": 143,
   "metadata": {
    "collapsed": false
   },
   "outputs": [
    {
     "data": {
      "text/plain": [
       "{'Brute Squad': '/events/teams/?EventTeamId=84syYg7b3waTyo%2bbqCDAt%2fyfmppoeKiVSQ7PjsbzduA%3d',\n",
       " 'Fury': '/events/teams/?EventTeamId=AEDVG81b%2boVW8gM6T%2b5f1dD1WeP%2f2geY9i554Lh%2bXMU%3d',\n",
       " 'Fusion': '/events/teams/?EventTeamId=tQDuWm1MzQDQCi4uUi2qZLvDYg6eu3sv7hkXHEIsmG4%3d',\n",
       " 'Heist': '/events/teams/?EventTeamId=sUIxx8tFUBogcJDOPFYySpJ0%2bav%2fcFJJw4jWuOk1l1s%3d',\n",
       " 'Nightlock': '/events/teams/?EventTeamId=eKNUj%2btYMEj3%2bM9CvyKlUBF7SHmAIL4aa9T%2bMzGGODI%3d',\n",
       " 'Ozone': '/events/teams/?EventTeamId=1LJqdrLVbRk%2fFgPd0333ycBKDXc%2b0JqMvtCQr5Fk7%2bA%3d',\n",
       " 'Phoenix': '/events/teams/?EventTeamId=nBP8lIGROlKiWNpkgd9hYBu6y%2bU9In24BDeWMq65EmM%3d',\n",
       " 'Scandal': '/events/teams/?EventTeamId=fpEK1OCBGtQhzFGSAcwqEYjPgBo4vogClpCAFESZcQM%3d',\n",
       " 'Schwa': '/events/teams/?EventTeamId=8Xpeb5k5ym8bWV8fuBR0QKKBwtbP%2baAKIfKgIPnAfBo%3d',\n",
       " 'Seattle Riot': '/events/teams/?EventTeamId=Yl9zGzPfGDHJGe9huU2WnzZQvHGJLAywKxZDYg1UKCw%3d',\n",
       " 'Showdown': '/events/teams/?EventTeamId=QlipE96J49016xy2PvJDGOg1XlcNnhAyuUqnuIRoLis%3d',\n",
       " 'Traffic': '/events/teams/?EventTeamId=lEOsY7X1TsgFK7Kw23GlzN1frKJaJnnoYCv0YVvJyoM%3d'}"
      ]
     },
     "execution_count": 143,
     "metadata": {},
     "output_type": "execute_result"
    }
   ],
   "source": [
    "usopenteams_2015"
   ]
  },
  {
   "cell_type": "code",
   "execution_count": 144,
   "metadata": {
    "collapsed": true
   },
   "outputs": [],
   "source": [
    "stats_15usopen = DataFrame.from_dict(get_stats(usopenteams_2015))"
   ]
  },
  {
   "cell_type": "code",
   "execution_count": 145,
   "metadata": {
    "collapsed": false
   },
   "outputs": [],
   "source": [
    "stats_15usopen = stats_15usopen[cols]\n",
    "stats_15usopen['Tournament'] = '2015 US Open'"
   ]
  },
  {
   "cell_type": "code",
   "execution_count": 146,
   "metadata": {
    "collapsed": true
   },
   "outputs": [],
   "source": [
    "for item in stats_15usopen.Team:\n",
    "    if item == 'SEATTLE RIOT':\n",
    "        stats_15usopen['Team'].replace(item, 'RIOT', inplace=True)"
   ]
  },
  {
   "cell_type": "code",
   "execution_count": 147,
   "metadata": {
    "collapsed": false
   },
   "outputs": [
    {
     "data": {
      "text/plain": [
       "RIOT           27\n",
       "BRUTE SQUAD    26\n",
       "SCHWA          26\n",
       "FUSION         25\n",
       "FURY           24\n",
       "PHOENIX        24\n",
       "OZONE          23\n",
       "HEIST          21\n",
       "NIGHTLOCK      21\n",
       "SHOWDOWN       19\n",
       "SCANDAL        19\n",
       "TRAFFIC        19\n",
       "Name: Team, dtype: int64"
      ]
     },
     "execution_count": 147,
     "metadata": {},
     "output_type": "execute_result"
    }
   ],
   "source": [
    "stats_15usopen.Team.value_counts()"
   ]
  },
  {
   "cell_type": "markdown",
   "metadata": {},
   "source": [
    "2015 US Open Games"
   ]
  },
  {
   "cell_type": "code",
   "execution_count": 148,
   "metadata": {
    "collapsed": true
   },
   "outputs": [],
   "source": [
    "games_15usopen = {'RIOT': 7,\n",
    " 'BRUTE SQUAD': 6,\n",
    " 'SCHWA': 6,\n",
    " 'FUSION': 6,\n",
    " 'FURY': 7,\n",
    " 'PHOENIX': 6,\n",
    " 'OZONE': 6,\n",
    " 'HEIST': 6,\n",
    " 'NIGHTLOCK': 6,\n",
    " 'SHOWDOWN': 6,\n",
    " 'SCANDAL': 6,\n",
    " 'TRAFFIC': 6}"
   ]
  },
  {
   "cell_type": "code",
   "execution_count": 149,
   "metadata": {
    "collapsed": true
   },
   "outputs": [],
   "source": [
    "games_list_15usopen = []\n",
    "for item in stats_15usopen.Team:\n",
    "    games_list_15usopen.append(games_15usopen[item])"
   ]
  },
  {
   "cell_type": "code",
   "execution_count": 150,
   "metadata": {
    "collapsed": true
   },
   "outputs": [],
   "source": [
    "stats_15usopen['Games'] = games_list_15usopen"
   ]
  },
  {
   "cell_type": "markdown",
   "metadata": {},
   "source": [
    "2015 US Open Standings"
   ]
  },
  {
   "cell_type": "code",
   "execution_count": 151,
   "metadata": {
    "collapsed": true
   },
   "outputs": [],
   "source": [
    "standing_15usopen = {'RIOT': 2,\n",
    " 'BRUTE SQUAD': 3,\n",
    " 'SCHWA': 10,\n",
    " 'FUSION': 11,\n",
    " 'FURY': 1,\n",
    " 'PHOENIX': 12,\n",
    " 'OZONE': 8,\n",
    " 'HEIST': 7,\n",
    " 'NIGHTLOCK': 5,\n",
    " 'SHOWDOWN': 9,\n",
    " 'SCANDAL': 6,\n",
    " 'TRAFFIC': 3,}"
   ]
  },
  {
   "cell_type": "code",
   "execution_count": 152,
   "metadata": {
    "collapsed": true
   },
   "outputs": [],
   "source": [
    "standing_list_15usopen = []\n",
    "for item in stats_15usopen.Team:\n",
    "    standing_list_15usopen.append(standing_15usopen[item])"
   ]
  },
  {
   "cell_type": "code",
   "execution_count": 153,
   "metadata": {
    "collapsed": true
   },
   "outputs": [],
   "source": [
    "stats_15usopen['Standing'] = standing_list_15usopen"
   ]
  },
  {
   "cell_type": "markdown",
   "metadata": {},
   "source": [
    "2015 US Open Spirit Scores\n",
    "\n",
    "http://www.usaultimate.org/news/2015-us-open-spirit-of-the-game-report/"
   ]
  },
  {
   "cell_type": "code",
   "execution_count": 154,
   "metadata": {
    "collapsed": false
   },
   "outputs": [],
   "source": [
    "# spirit scores\n",
    "r = requests.get('http://www.usaultimate.org/news/2015-us-open-spirit-of-the-game-report/')\n",
    "b = BeautifulSoup(r.text, 'html.parser')"
   ]
  },
  {
   "cell_type": "code",
   "execution_count": 155,
   "metadata": {
    "collapsed": false
   },
   "outputs": [],
   "source": [
    "scores_15usopen = [str(item) for item in b.find_all('table',{'width':'600'})[2].find_all('td')[:-7]]"
   ]
  },
  {
   "cell_type": "code",
   "execution_count": 156,
   "metadata": {
    "collapsed": false
   },
   "outputs": [
    {
     "data": {
      "text/plain": [
       "{'BRUTE SQUAD': 11.0,\n",
       " 'FURY': 11.0,\n",
       " 'FUSION': 9.0,\n",
       " 'HEIST': 11.5,\n",
       " 'NIGHTLOCK': 11.83,\n",
       " 'OZONE': 11.67,\n",
       " 'PHOENIX': 11.0,\n",
       " 'RIOT': 12.2,\n",
       " 'SCANDAL': 13.67,\n",
       " 'SCHWA': 9.5,\n",
       " 'SHOWDOWN': 11.83,\n",
       " 'TRAFFIC': 10.4}"
      ]
     },
     "execution_count": 156,
     "metadata": {},
     "output_type": "execute_result"
    }
   ],
   "source": [
    "spirit_15usopen = {}\n",
    "count = 0\n",
    "\n",
    "while count < len(scores_15usopen):\n",
    "    spirit_15usopen[re.findall('([^>]*)</', scores_15usopen[count])[0].upper()] = float(scores_15usopen[count+6][4:-5])\n",
    "\n",
    "    count += 7\n",
    "    \n",
    "spirit_15usopen"
   ]
  },
  {
   "cell_type": "code",
   "execution_count": 157,
   "metadata": {
    "collapsed": true
   },
   "outputs": [],
   "source": [
    "scores_list_15usopen = []\n",
    "for item in stats_15usopen.Team:\n",
    "    scores_list_15usopen.append(spirit_15usopen[item]/20.0)"
   ]
  },
  {
   "cell_type": "code",
   "execution_count": 158,
   "metadata": {
    "collapsed": false
   },
   "outputs": [
    {
     "data": {
      "text/html": [
       "<div>\n",
       "<table border=\"1\" class=\"dataframe\">\n",
       "  <thead>\n",
       "    <tr style=\"text-align: right;\">\n",
       "      <th></th>\n",
       "      <th>Team</th>\n",
       "      <th>Number</th>\n",
       "      <th>Name</th>\n",
       "      <th>Goal</th>\n",
       "      <th>Assist</th>\n",
       "      <th>Block</th>\n",
       "      <th>Turn</th>\n",
       "      <th>Games</th>\n",
       "      <th>Tournament</th>\n",
       "      <th>Standing</th>\n",
       "      <th>Spirit</th>\n",
       "    </tr>\n",
       "  </thead>\n",
       "  <tbody>\n",
       "    <tr>\n",
       "      <th>0</th>\n",
       "      <td>NIGHTLOCK</td>\n",
       "      <td>0</td>\n",
       "      <td>MALLORY MEISER</td>\n",
       "      <td>2</td>\n",
       "      <td>0</td>\n",
       "      <td>NaN</td>\n",
       "      <td>NaN</td>\n",
       "      <td>6</td>\n",
       "      <td>2015 US Open</td>\n",
       "      <td>5</td>\n",
       "      <td>0.5915</td>\n",
       "    </tr>\n",
       "    <tr>\n",
       "      <th>1</th>\n",
       "      <td>NIGHTLOCK</td>\n",
       "      <td>03</td>\n",
       "      <td>LORYN KANEMARU</td>\n",
       "      <td>2</td>\n",
       "      <td>7</td>\n",
       "      <td>NaN</td>\n",
       "      <td>NaN</td>\n",
       "      <td>6</td>\n",
       "      <td>2015 US Open</td>\n",
       "      <td>5</td>\n",
       "      <td>0.5915</td>\n",
       "    </tr>\n",
       "    <tr>\n",
       "      <th>2</th>\n",
       "      <td>NIGHTLOCK</td>\n",
       "      <td>06</td>\n",
       "      <td>MONISHA WHITE</td>\n",
       "      <td>1</td>\n",
       "      <td>4</td>\n",
       "      <td>NaN</td>\n",
       "      <td>NaN</td>\n",
       "      <td>6</td>\n",
       "      <td>2015 US Open</td>\n",
       "      <td>5</td>\n",
       "      <td>0.5915</td>\n",
       "    </tr>\n",
       "    <tr>\n",
       "      <th>3</th>\n",
       "      <td>NIGHTLOCK</td>\n",
       "      <td>07</td>\n",
       "      <td>CLAIRE SHARMAN</td>\n",
       "      <td>7</td>\n",
       "      <td>1</td>\n",
       "      <td>NaN</td>\n",
       "      <td>NaN</td>\n",
       "      <td>6</td>\n",
       "      <td>2015 US Open</td>\n",
       "      <td>5</td>\n",
       "      <td>0.5915</td>\n",
       "    </tr>\n",
       "    <tr>\n",
       "      <th>4</th>\n",
       "      <td>NIGHTLOCK</td>\n",
       "      <td>08</td>\n",
       "      <td>RACHEL HABBERT</td>\n",
       "      <td>2</td>\n",
       "      <td>7</td>\n",
       "      <td>NaN</td>\n",
       "      <td>NaN</td>\n",
       "      <td>6</td>\n",
       "      <td>2015 US Open</td>\n",
       "      <td>5</td>\n",
       "      <td>0.5915</td>\n",
       "    </tr>\n",
       "  </tbody>\n",
       "</table>\n",
       "</div>"
      ],
      "text/plain": [
       "        Team Number            Name  Goal  Assist  Block  Turn  Games  \\\n",
       "0  NIGHTLOCK      0  MALLORY MEISER     2       0    NaN   NaN      6   \n",
       "1  NIGHTLOCK     03  LORYN KANEMARU     2       7    NaN   NaN      6   \n",
       "2  NIGHTLOCK     06   MONISHA WHITE     1       4    NaN   NaN      6   \n",
       "3  NIGHTLOCK     07  CLAIRE SHARMAN     7       1    NaN   NaN      6   \n",
       "4  NIGHTLOCK     08  RACHEL HABBERT     2       7    NaN   NaN      6   \n",
       "\n",
       "     Tournament  Standing  Spirit  \n",
       "0  2015 US Open         5  0.5915  \n",
       "1  2015 US Open         5  0.5915  \n",
       "2  2015 US Open         5  0.5915  \n",
       "3  2015 US Open         5  0.5915  \n",
       "4  2015 US Open         5  0.5915  "
      ]
     },
     "execution_count": 158,
     "metadata": {},
     "output_type": "execute_result"
    }
   ],
   "source": [
    "stats_15usopen['Spirit'] = scores_list_15usopen\n",
    "stats_15usopen = stats_15usopen[['Team', 'Number', 'Name', 'Goal', 'Assist', 'Block', 'Turn', 'Games', 'Tournament', 'Standing', 'Spirit']]\n",
    "stats_15usopen.head()"
   ]
  },
  {
   "cell_type": "markdown",
   "metadata": {},
   "source": [
    "# 2015 Club Championship Stats\n",
    "http://play.usaultimate.org/events/USA-Ultimate-National-Championships-2015/schedule/Women/Club-Women/'"
   ]
  },
  {
   "cell_type": "code",
   "execution_count": 159,
   "metadata": {
    "collapsed": false
   },
   "outputs": [],
   "source": [
    "teams_champ2015 = get_team_stat_urls('http://play.usaultimate.org/events/USA-Ultimate-National-Championships-2015/schedule/Women/Club-Women/')"
   ]
  },
  {
   "cell_type": "code",
   "execution_count": 160,
   "metadata": {
    "collapsed": false
   },
   "outputs": [
    {
     "data": {
      "text/plain": [
       "{'BENT': '/events/teams/?EventTeamId=tl1rkVLjdczXVbOWzjG8T6fVjubOyhxGoQqAHV0da4g%3d',\n",
       " 'Brute Squad': '/events/teams/?EventTeamId=c%2bbyh9S9ANQUYGFX55jj2huoFtowEZg%2fAyga4pprMQ0%3d',\n",
       " 'Capitals': '/events/teams/?EventTeamId=x4u7Gvp5rOjImw437isTD%2fs%2bQ06953u7JY%2f95O2ZmYY%3d',\n",
       " 'Fury': '/events/teams/?EventTeamId=32oHgC3wTopGTV3EhDSbH36OX0nyemEg%2bP5KQfBRE1g%3d',\n",
       " 'Heist': '/events/teams/?EventTeamId=CpQQbzcjJ0UXcqhrXjm3d8zVp0%2fIhQBVr%2fCVAX8yEAY%3d',\n",
       " 'Iris': '/events/teams/?EventTeamId=Wy3HoIVoyiewP6W0uRSYiIJo8RJY0m3zrLvGpRwtEwI%3d',\n",
       " 'Molly Brown': '/events/teams/?EventTeamId=RbDtI%2bYRGJIFXwMyY2GXHZNkAP4TG3e5cYp%2bwYagX5s%3d',\n",
       " 'Nemesis': '/events/teams/?EventTeamId=crhCXpLrJODvUJL6ppk9K1V8i2mXHNLATKv1ZOibPUc%3d',\n",
       " 'Nightlock': '/events/teams/?EventTeamId=EfdvGasY6mEwfXfzbwlKQKOo3de2IF4mbYrPHnmtd2Q%3d',\n",
       " 'Ozone': '/events/teams/?EventTeamId=iAImqQuifQ77w%2bC0P2niH56jBIDV%2fpmjWfCpaiDP%2brQ%3d',\n",
       " 'Phoenix': '/events/teams/?EventTeamId=CB%2br3JHfJtcIvZONww0nNVHSZZMq9jH%2frilvqOvHLyk%3d',\n",
       " 'Scandal': '/events/teams/?EventTeamId=1p1xfsPWLSJo49m2wW6PLGWhf64z3TbBK80VQYupjH4%3d',\n",
       " 'Schwa': '/events/teams/?EventTeamId=tVfG9QyqwGVHTA9%2bJr5%2f2OCqzoOVdKoauqT3wHzADl8%3d',\n",
       " 'Seattle Riot': '/events/teams/?EventTeamId=rL6ZybguUwJ2d26MOqTQkrgsVAuQwZmdj07a9vAJNiY%3d',\n",
       " 'Showdown': '/events/teams/?EventTeamId=2rKdDwlJsGvedI6QGcXrsJNiSoqMED%2fY0ah5QVEvfuU%3d',\n",
       " 'Traffic': '/events/teams/?EventTeamId=b6KwKgl3XZF4UGZSITU4rrdMUuX4kEWeE%2fOrNp3ceDg%3d'}"
      ]
     },
     "execution_count": 160,
     "metadata": {},
     "output_type": "execute_result"
    }
   ],
   "source": [
    "teams_champ2015"
   ]
  },
  {
   "cell_type": "code",
   "execution_count": 163,
   "metadata": {
    "collapsed": false
   },
   "outputs": [],
   "source": [
    "stats_15champ = DataFrame.from_dict(get_stats(teams_champ2015))"
   ]
  },
  {
   "cell_type": "code",
   "execution_count": 164,
   "metadata": {
    "collapsed": false
   },
   "outputs": [],
   "source": [
    "stats_15champ = stats_15champ[cols]\n",
    "stats_15champ['Tournament'] = '2015 USAU Club Championships'"
   ]
  },
  {
   "cell_type": "code",
   "execution_count": 165,
   "metadata": {
    "collapsed": false
   },
   "outputs": [],
   "source": [
    "for item in stats_15champ.Team:\n",
    "    if item == 'SEATTLE RIOT':\n",
    "        stats_15champ['Team'].replace(item, 'RIOT', inplace=True)"
   ]
  },
  {
   "cell_type": "markdown",
   "metadata": {},
   "source": [
    "2015 Championship Games"
   ]
  },
  {
   "cell_type": "code",
   "execution_count": 166,
   "metadata": {
    "collapsed": true
   },
   "outputs": [],
   "source": [
    "games_15champ = {'BENT': 7,\n",
    " 'BRUTE SQUAD': 7,\n",
    " 'CAPITALS': 7,\n",
    " 'FURY': 6,\n",
    " 'HEIST': 7,\n",
    " 'IRIS': 7,\n",
    " 'MOLLY BROWN': 6,\n",
    " 'NEMESIS': 7,\n",
    " 'NIGHTLOCK': 7,\n",
    " 'OZONE': 7,\n",
    " 'PHOENIX': 7,\n",
    " 'RIOT': 7,\n",
    " 'SCANDAL': 7,\n",
    " 'SCHWA': 7,\n",
    " 'SHOWDOWN': 7,\n",
    " 'TRAFFIC': 7}"
   ]
  },
  {
   "cell_type": "code",
   "execution_count": 168,
   "metadata": {
    "collapsed": false
   },
   "outputs": [],
   "source": [
    "games_list_15champ = []\n",
    "for item in stats_15champ.Team:\n",
    "    games_list_15champ.append(games_15champ[item])"
   ]
  },
  {
   "cell_type": "code",
   "execution_count": 169,
   "metadata": {
    "collapsed": false
   },
   "outputs": [],
   "source": [
    "stats_15champ['Games'] = games_list_15champ"
   ]
  },
  {
   "cell_type": "markdown",
   "metadata": {},
   "source": [
    "2015 Championship Standings"
   ]
  },
  {
   "cell_type": "code",
   "execution_count": 170,
   "metadata": {
    "collapsed": true
   },
   "outputs": [],
   "source": [
    "standing_15champ = {'BENT': 14,\n",
    " 'BRUTE SQUAD': 1,\n",
    " 'CAPITALS': 13,\n",
    " 'FURY': 3,\n",
    " 'HEIST': 9,\n",
    " 'IRIS': 12,\n",
    " 'MOLLY BROWN': 3,\n",
    " 'NEMESIS': 16,\n",
    " 'NIGHTLOCK': 7,\n",
    " 'OZONE': 9,\n",
    " 'PHOENIX': 7,\n",
    " 'RIOT': 2,\n",
    " 'SCANDAL': 6,\n",
    " 'SCHWA': 11,\n",
    " 'SHOWDOWN': 15,\n",
    " 'TRAFFIC': 5}"
   ]
  },
  {
   "cell_type": "code",
   "execution_count": 171,
   "metadata": {
    "collapsed": true
   },
   "outputs": [],
   "source": [
    "standing_list_15champ = []\n",
    "for item in stats_15champ.Team:\n",
    "    standing_list_15champ.append(standing_15champ[item])"
   ]
  },
  {
   "cell_type": "code",
   "execution_count": 172,
   "metadata": {
    "collapsed": true
   },
   "outputs": [],
   "source": [
    "stats_15champ['Standing'] = standing_list_15champ"
   ]
  },
  {
   "cell_type": "markdown",
   "metadata": {},
   "source": [
    "2015 Championship Spirit Scores\n",
    "\n",
    "http://play.usaultimate.org/events/usa-ultimate-national-championships-2015/"
   ]
  },
  {
   "cell_type": "code",
   "execution_count": 173,
   "metadata": {
    "collapsed": false
   },
   "outputs": [
    {
     "data": {
      "text/plain": [
       "[['<td width=\"150\"><strong>Team</strong></td>',\n",
       "  '<td width=\"100\"><strong>Spirit Score</strong></td>'],\n",
       " ['<td>Brute Squad</td>', '<td>\\xc2\\xa011.00</td>'],\n",
       " ['<td>Riot</td>', '<td>\\xc2\\xa014.00</td>'],\n",
       " ['<td>Fury</td>', '<td>\\xc2\\xa013.60</td>'],\n",
       " ['<td>Molly Brown</td>', '<td>\\xc2\\xa011.33</td>'],\n",
       " ['<td><span style=\"font-size: 10.9091px;\">Traffic</span></td>',\n",
       "  '<td>\\xc2\\xa012.00</td>'],\n",
       " ['<td>Scandal</td>', '<td>\\xc2\\xa011.64</td>'],\n",
       " ['<td>Nightlock</td>', '<td>\\xc2\\xa010.43</td>'],\n",
       " ['<td>Phoenix</td>', '<td>\\xc2\\xa012.00</td>'],\n",
       " ['<td>Ozone</td>', '<td>\\xc2\\xa010.71</td>'],\n",
       " ['<td>Heist</td>', '<td>\\xc2\\xa011.00</td>'],\n",
       " ['<td>Schwa</td>', '<td>\\xc2\\xa011.67</td>'],\n",
       " ['<td>Iris</td>', '<td>\\xc2\\xa011.29</td>'],\n",
       " ['<td>Capitals</td>', '<td>\\xc2\\xa010.43</td>'],\n",
       " ['<td>Bent</td>', '<td>\\xc2\\xa07.43</td>'],\n",
       " ['<td>Showdown</td>', '<td>\\xc2\\xa08.14</td>'],\n",
       " ['<td>Nemesis</td>', '<td>\\xc2\\xa011.00</td>']]"
      ]
     },
     "execution_count": 173,
     "metadata": {},
     "output_type": "execute_result"
    }
   ],
   "source": [
    "# spirit scores\n",
    "r = requests.get('http://play.usaultimate.org/events/usa-ultimate-national-championships-2015/')\n",
    "b = BeautifulSoup(r.text, 'html.parser')\n",
    "\n",
    "scores_15champ = [str(item).split('\\n')[2:5:2] for item in b.find_all('table',{'width':'400'})[2].find_all('tr')]\n",
    "scores_15champ"
   ]
  },
  {
   "cell_type": "code",
   "execution_count": 174,
   "metadata": {
    "collapsed": false
   },
   "outputs": [
    {
     "data": {
      "text/plain": [
       "{'BENT': 7.43,\n",
       " 'BRUTE SQUAD': 11.0,\n",
       " 'CAPITALS': 10.43,\n",
       " 'FURY': 13.6,\n",
       " 'HEIST': 11.0,\n",
       " 'IRIS': 11.29,\n",
       " 'MOLLY BROWN': 11.33,\n",
       " 'NEMESIS': 11.0,\n",
       " 'NIGHTLOCK': 10.43,\n",
       " 'OZONE': 10.71,\n",
       " 'PHOENIX': 12.0,\n",
       " 'RIOT': 14.0,\n",
       " 'SCANDAL': 11.64,\n",
       " 'SCHWA': 11.67,\n",
       " 'SHOWDOWN': 8.14,\n",
       " 'TRAFFIC': 12.0}"
      ]
     },
     "execution_count": 174,
     "metadata": {},
     "output_type": "execute_result"
    }
   ],
   "source": [
    "spirit_15champ = {}\n",
    "count = 1\n",
    "\n",
    "while count < len(scores_15champ):\n",
    "    spirit_15champ[re.findall('([^>]*)</', scores_15champ[count][0])[0].upper()] = float(scores_15champ[count][1][6:-5])\n",
    "\n",
    "    count += 1\n",
    "    \n",
    "spirit_15champ"
   ]
  },
  {
   "cell_type": "code",
   "execution_count": 175,
   "metadata": {
    "collapsed": false
   },
   "outputs": [],
   "source": [
    "scores_list_15champ = []\n",
    "for item in stats_15champ.Team:\n",
    "    scores_list_15champ.append(spirit_15champ[item]/20.0)"
   ]
  },
  {
   "cell_type": "code",
   "execution_count": 176,
   "metadata": {
    "collapsed": false
   },
   "outputs": [
    {
     "data": {
      "text/html": [
       "<div>\n",
       "<table border=\"1\" class=\"dataframe\">\n",
       "  <thead>\n",
       "    <tr style=\"text-align: right;\">\n",
       "      <th></th>\n",
       "      <th>Team</th>\n",
       "      <th>Number</th>\n",
       "      <th>Name</th>\n",
       "      <th>Goal</th>\n",
       "      <th>Assist</th>\n",
       "      <th>Block</th>\n",
       "      <th>Turn</th>\n",
       "      <th>Games</th>\n",
       "      <th>Tournament</th>\n",
       "      <th>Standing</th>\n",
       "      <th>Spirit</th>\n",
       "    </tr>\n",
       "  </thead>\n",
       "  <tbody>\n",
       "    <tr>\n",
       "      <th>0</th>\n",
       "      <td>IRIS</td>\n",
       "      <td>00</td>\n",
       "      <td>CAROLINE CADOTTE</td>\n",
       "      <td>0</td>\n",
       "      <td>0</td>\n",
       "      <td>NaN</td>\n",
       "      <td>NaN</td>\n",
       "      <td>7</td>\n",
       "      <td>2015 USAU Club Championships</td>\n",
       "      <td>12</td>\n",
       "      <td>0.5645</td>\n",
       "    </tr>\n",
       "    <tr>\n",
       "      <th>1</th>\n",
       "      <td>IRIS</td>\n",
       "      <td>00</td>\n",
       "      <td>MARIANNE PILON</td>\n",
       "      <td>0</td>\n",
       "      <td>0</td>\n",
       "      <td>NaN</td>\n",
       "      <td>NaN</td>\n",
       "      <td>7</td>\n",
       "      <td>2015 USAU Club Championships</td>\n",
       "      <td>12</td>\n",
       "      <td>0.5645</td>\n",
       "    </tr>\n",
       "    <tr>\n",
       "      <th>2</th>\n",
       "      <td>IRIS</td>\n",
       "      <td>00</td>\n",
       "      <td>STéPHANIE  VILLANUEVA</td>\n",
       "      <td>0</td>\n",
       "      <td>0</td>\n",
       "      <td>NaN</td>\n",
       "      <td>NaN</td>\n",
       "      <td>7</td>\n",
       "      <td>2015 USAU Club Championships</td>\n",
       "      <td>12</td>\n",
       "      <td>0.5645</td>\n",
       "    </tr>\n",
       "    <tr>\n",
       "      <th>3</th>\n",
       "      <td>IRIS</td>\n",
       "      <td>01</td>\n",
       "      <td>JULIE DAVIAU</td>\n",
       "      <td>9</td>\n",
       "      <td>1</td>\n",
       "      <td>NaN</td>\n",
       "      <td>NaN</td>\n",
       "      <td>7</td>\n",
       "      <td>2015 USAU Club Championships</td>\n",
       "      <td>12</td>\n",
       "      <td>0.5645</td>\n",
       "    </tr>\n",
       "    <tr>\n",
       "      <th>4</th>\n",
       "      <td>IRIS</td>\n",
       "      <td>04</td>\n",
       "      <td>MARIE GENEST</td>\n",
       "      <td>6</td>\n",
       "      <td>19</td>\n",
       "      <td>NaN</td>\n",
       "      <td>NaN</td>\n",
       "      <td>7</td>\n",
       "      <td>2015 USAU Club Championships</td>\n",
       "      <td>12</td>\n",
       "      <td>0.5645</td>\n",
       "    </tr>\n",
       "  </tbody>\n",
       "</table>\n",
       "</div>"
      ],
      "text/plain": [
       "   Team Number                   Name  Goal  Assist  Block  Turn  Games  \\\n",
       "0  IRIS     00       CAROLINE CADOTTE     0       0    NaN   NaN      7   \n",
       "1  IRIS     00         MARIANNE PILON     0       0    NaN   NaN      7   \n",
       "2  IRIS     00  STéPHANIE  VILLANUEVA     0       0    NaN   NaN      7   \n",
       "3  IRIS     01           JULIE DAVIAU     9       1    NaN   NaN      7   \n",
       "4  IRIS     04           MARIE GENEST     6      19    NaN   NaN      7   \n",
       "\n",
       "                     Tournament  Standing  Spirit  \n",
       "0  2015 USAU Club Championships        12  0.5645  \n",
       "1  2015 USAU Club Championships        12  0.5645  \n",
       "2  2015 USAU Club Championships        12  0.5645  \n",
       "3  2015 USAU Club Championships        12  0.5645  \n",
       "4  2015 USAU Club Championships        12  0.5645  "
      ]
     },
     "execution_count": 176,
     "metadata": {},
     "output_type": "execute_result"
    }
   ],
   "source": [
    "stats_15champ['Spirit'] = scores_list_15champ\n",
    "stats_15champ = stats_15champ[['Team', 'Number', 'Name', 'Goal', 'Assist', 'Block', 'Turn', 'Games', 'Tournament', 'Standing', 'Spirit']]\n",
    "stats_15champ.head()"
   ]
  },
  {
   "cell_type": "markdown",
   "metadata": {
    "collapsed": true
   },
   "source": [
    "## One Stat Dataframe"
   ]
  },
  {
   "cell_type": "code",
   "execution_count": 178,
   "metadata": {
    "collapsed": false
   },
   "outputs": [],
   "source": [
    "one_stat = pd.concat([stats_11champ, stats_12WUGC, stats_12usopen, stats_13WG, stats_13champ, stats_13usopen, stats_14WUCC, stats_14champ, stats_14usopen, stats_15champ, stats_15usopen], ignore_index=True)"
   ]
  },
  {
   "cell_type": "code",
   "execution_count": 180,
   "metadata": {
    "collapsed": false
   },
   "outputs": [
    {
     "data": {
      "text/html": [
       "<div>\n",
       "<table border=\"1\" class=\"dataframe\">\n",
       "  <thead>\n",
       "    <tr style=\"text-align: right;\">\n",
       "      <th></th>\n",
       "      <th>Team</th>\n",
       "      <th>Number</th>\n",
       "      <th>Name</th>\n",
       "      <th>Goal</th>\n",
       "      <th>Assist</th>\n",
       "      <th>Block</th>\n",
       "      <th>Turn</th>\n",
       "      <th>Games</th>\n",
       "      <th>Tournament</th>\n",
       "      <th>Standing</th>\n",
       "      <th>Spirit</th>\n",
       "    </tr>\n",
       "  </thead>\n",
       "  <tbody>\n",
       "    <tr>\n",
       "      <th>0</th>\n",
       "      <td>BENT</td>\n",
       "      <td>0</td>\n",
       "      <td>AKINA YOUNGE</td>\n",
       "      <td>3</td>\n",
       "      <td>1</td>\n",
       "      <td>NaN</td>\n",
       "      <td>NaN</td>\n",
       "      <td>7</td>\n",
       "      <td>2011 USAU Club Championships</td>\n",
       "      <td>16</td>\n",
       "      <td>0.858</td>\n",
       "    </tr>\n",
       "    <tr>\n",
       "      <th>1</th>\n",
       "      <td>BENT</td>\n",
       "      <td>1</td>\n",
       "      <td>NAOMI BRENDER</td>\n",
       "      <td>0</td>\n",
       "      <td>0</td>\n",
       "      <td>NaN</td>\n",
       "      <td>NaN</td>\n",
       "      <td>7</td>\n",
       "      <td>2011 USAU Club Championships</td>\n",
       "      <td>16</td>\n",
       "      <td>0.858</td>\n",
       "    </tr>\n",
       "    <tr>\n",
       "      <th>2</th>\n",
       "      <td>BENT</td>\n",
       "      <td>2</td>\n",
       "      <td>KAREN CHALIF</td>\n",
       "      <td>4</td>\n",
       "      <td>1</td>\n",
       "      <td>NaN</td>\n",
       "      <td>NaN</td>\n",
       "      <td>7</td>\n",
       "      <td>2011 USAU Club Championships</td>\n",
       "      <td>16</td>\n",
       "      <td>0.858</td>\n",
       "    </tr>\n",
       "    <tr>\n",
       "      <th>3</th>\n",
       "      <td>BENT</td>\n",
       "      <td>7</td>\n",
       "      <td>ANNE SILVER</td>\n",
       "      <td>0</td>\n",
       "      <td>0</td>\n",
       "      <td>NaN</td>\n",
       "      <td>NaN</td>\n",
       "      <td>7</td>\n",
       "      <td>2011 USAU Club Championships</td>\n",
       "      <td>16</td>\n",
       "      <td>0.858</td>\n",
       "    </tr>\n",
       "    <tr>\n",
       "      <th>4</th>\n",
       "      <td>BENT</td>\n",
       "      <td>8</td>\n",
       "      <td>MARISA WESTHEIMER</td>\n",
       "      <td>1</td>\n",
       "      <td>1</td>\n",
       "      <td>NaN</td>\n",
       "      <td>NaN</td>\n",
       "      <td>7</td>\n",
       "      <td>2011 USAU Club Championships</td>\n",
       "      <td>16</td>\n",
       "      <td>0.858</td>\n",
       "    </tr>\n",
       "  </tbody>\n",
       "</table>\n",
       "</div>"
      ],
      "text/plain": [
       "   Team Number               Name  Goal  Assist  Block  Turn  Games  \\\n",
       "0  BENT      0       AKINA YOUNGE     3       1    NaN   NaN      7   \n",
       "1  BENT      1      NAOMI BRENDER     0       0    NaN   NaN      7   \n",
       "2  BENT      2       KAREN CHALIF     4       1    NaN   NaN      7   \n",
       "3  BENT      7        ANNE SILVER     0       0    NaN   NaN      7   \n",
       "4  BENT      8  MARISA WESTHEIMER     1       1    NaN   NaN      7   \n",
       "\n",
       "                     Tournament  Standing  Spirit  \n",
       "0  2011 USAU Club Championships        16   0.858  \n",
       "1  2011 USAU Club Championships        16   0.858  \n",
       "2  2011 USAU Club Championships        16   0.858  \n",
       "3  2011 USAU Club Championships        16   0.858  \n",
       "4  2011 USAU Club Championships        16   0.858  "
      ]
     },
     "execution_count": 180,
     "metadata": {},
     "output_type": "execute_result"
    }
   ],
   "source": [
    "one_stat.head()"
   ]
  },
  {
   "cell_type": "markdown",
   "metadata": {},
   "source": [
    "## Reconcile names"
   ]
  },
  {
   "cell_type": "code",
   "execution_count": 181,
   "metadata": {
    "collapsed": true
   },
   "outputs": [],
   "source": [
    "# one_stat.replace('SANDRA JORGENSEN', 'SANDY JORGENSEN', inplace=True)\n",
    "# one_stat.replace('ABIGAIL EDWARDSVANMUIJEN', 'ABBY VANMUIJEN', inplace=True)\n",
    "# one_stat.replace('ASHLEY DALY', 'ASHLEY DALY MORGAN', inplace=True)\n",
    "# one_stat.replace('ANGELICA GELI\"\" BOYDEN', 'ANGELICA BOYDEN', inplace=True)"
   ]
  },
  {
   "cell_type": "code",
   "execution_count": 182,
   "metadata": {
    "collapsed": true
   },
   "outputs": [],
   "source": [
    "# rid of UNKNOWNs\n",
    "one_stat = one_stat[one_stat.Name != 'UNKNOWN']"
   ]
  },
  {
   "cell_type": "markdown",
   "metadata": {},
   "source": [
    "## US Teams only"
   ]
  },
  {
   "cell_type": "code",
   "execution_count": 183,
   "metadata": {
    "collapsed": false
   },
   "outputs": [
    {
     "data": {
      "text/plain": [
       "RIOT              228\n",
       "FURY              227\n",
       "SHOWDOWN          183\n",
       "SCANDAL           181\n",
       "BRUTE SQUAD       152\n",
       "PHOENIX           143\n",
       "OZONE             137\n",
       "MOLLY BROWN       128\n",
       "TRAFFIC           119\n",
       "SCHWA             103\n",
       "HEIST              99\n",
       "NIGHTLOCK          98\n",
       "NEMESIS            93\n",
       "CAPITALS           87\n",
       "BENT               74\n",
       "NOVA               42\n",
       "SAFARI             41\n",
       "REVOLUTION         28\n",
       "GREEN MEANS GO     27\n",
       "FUSION             25\n",
       "UNDERGROUND        24\n",
       "IRIS               23\n",
       "REVOLOUTION        23\n",
       "AEROSOUL           21\n",
       "TABBY ROSA         19\n",
       "DESOTO             18\n",
       "FURTHER            16\n",
       "MUD                15\n",
       "ICENI              15\n",
       "BAMBOO             15\n",
       "TEAM USA            6\n",
       "Name: Team, dtype: int64"
      ]
     },
     "execution_count": 183,
     "metadata": {},
     "output_type": "execute_result"
    }
   ],
   "source": [
    "one_stat.Team.value_counts()"
   ]
  },
  {
   "cell_type": "code",
   "execution_count": 184,
   "metadata": {
    "collapsed": true
   },
   "outputs": [],
   "source": [
    "# rid of international teams\n",
    "us_stat = one_stat[(one_stat.Team != 'TRAFFIC') & (one_stat.Team != 'CAPITALS') & (one_stat.Team != 'IRIS') & (one_stat.Team != 'NOVA') & (one_stat.Team != 'REVOLUTION') & (one_stat.Team != 'FUSION') & (one_stat.Team != 'AEROSOUL') & (one_stat.Team != 'MUD') & (one_stat.Team != 'ICENI') & (one_stat.Team != 'BAMBOO')]"
   ]
  },
  {
   "cell_type": "code",
   "execution_count": 185,
   "metadata": {
    "collapsed": false
   },
   "outputs": [
    {
     "data": {
      "text/plain": [
       "RIOT              228\n",
       "FURY              227\n",
       "SHOWDOWN          183\n",
       "SCANDAL           181\n",
       "BRUTE SQUAD       152\n",
       "PHOENIX           143\n",
       "OZONE             137\n",
       "MOLLY BROWN       128\n",
       "SCHWA             103\n",
       "HEIST              99\n",
       "NIGHTLOCK          98\n",
       "NEMESIS            93\n",
       "BENT               74\n",
       "SAFARI             41\n",
       "GREEN MEANS GO     27\n",
       "UNDERGROUND        24\n",
       "REVOLOUTION        23\n",
       "TABBY ROSA         19\n",
       "DESOTO             18\n",
       "FURTHER            16\n",
       "TEAM USA            6\n",
       "Name: Team, dtype: int64"
      ]
     },
     "execution_count": 185,
     "metadata": {},
     "output_type": "execute_result"
    }
   ],
   "source": [
    "us_stat.Team.value_counts()"
   ]
  },
  {
   "cell_type": "markdown",
   "metadata": {},
   "source": [
    "## Feature engineering"
   ]
  },
  {
   "cell_type": "code",
   "execution_count": 186,
   "metadata": {
    "collapsed": false
   },
   "outputs": [
    {
     "name": "stderr",
     "output_type": "stream",
     "text": [
      "/Users/octaviapayne/anaconda/lib/python2.7/site-packages/ipykernel/__main__.py:1: SettingWithCopyWarning: \n",
      "A value is trying to be set on a copy of a slice from a DataFrame.\n",
      "Try using .loc[row_indexer,col_indexer] = value instead\n",
      "\n",
      "See the caveats in the documentation: http://pandas.pydata.org/pandas-docs/stable/indexing.html#indexing-view-versus-copy\n",
      "  if __name__ == '__main__':\n",
      "/Users/octaviapayne/anaconda/lib/python2.7/site-packages/ipykernel/__main__.py:2: SettingWithCopyWarning: \n",
      "A value is trying to be set on a copy of a slice from a DataFrame.\n",
      "Try using .loc[row_indexer,col_indexer] = value instead\n",
      "\n",
      "See the caveats in the documentation: http://pandas.pydata.org/pandas-docs/stable/indexing.html#indexing-view-versus-copy\n",
      "  from ipykernel import kernelapp as app\n",
      "/Users/octaviapayne/anaconda/lib/python2.7/site-packages/ipykernel/__main__.py:3: SettingWithCopyWarning: \n",
      "A value is trying to be set on a copy of a slice from a DataFrame.\n",
      "Try using .loc[row_indexer,col_indexer] = value instead\n",
      "\n",
      "See the caveats in the documentation: http://pandas.pydata.org/pandas-docs/stable/indexing.html#indexing-view-versus-copy\n",
      "  app.launch_new_instance()\n",
      "/Users/octaviapayne/anaconda/lib/python2.7/site-packages/ipykernel/__main__.py:4: SettingWithCopyWarning: \n",
      "A value is trying to be set on a copy of a slice from a DataFrame.\n",
      "Try using .loc[row_indexer,col_indexer] = value instead\n",
      "\n",
      "See the caveats in the documentation: http://pandas.pydata.org/pandas-docs/stable/indexing.html#indexing-view-versus-copy\n"
     ]
    }
   ],
   "source": [
    "us_stat['GPG'] = us_stat.Goal/us_stat.Games\n",
    "us_stat['APG'] = us_stat.Assist/us_stat.Games\n",
    "us_stat['BPG'] = us_stat.Block/us_stat.Games\n",
    "us_stat['TPG'] = us_stat.Turn/us_stat.Games"
   ]
  },
  {
   "cell_type": "code",
   "execution_count": 187,
   "metadata": {
    "collapsed": false
   },
   "outputs": [],
   "source": [
    "us_stat = us_stat[['Team', 'Number', 'Name', 'Goal', 'GPG','Assist','APG','Block', 'BPG', 'Turn', 'TPG', 'Games', 'Tournament', 'Standing', 'Spirit']]"
   ]
  },
  {
   "cell_type": "code",
   "execution_count": 188,
   "metadata": {
    "collapsed": false
   },
   "outputs": [],
   "source": [
    "# mega_stats['Team_Num'] = mega_stats.Team.map({'FURY':0, 'RIOT':1, 'BRUTE SQUAD':2, 'HEIST':3, 'TRAFFIC':4, 'SCHWA':5, 'NIGHTLOCK':6,'SHOWDOWN':7, 'MOLLY BROWN':8, 'OZONE':9, 'SCANDAL':10, 'NEMESIS':11, 'CAPITALS':12, 'BENT':13, 'PHOENIX':14, 'GREEN MEANS GO':15, 'UNDERGROUND':16, 'IRIS':17, 'NOVA':18, 'TABBY ROSA':19, 'TEAM USA':20})"
   ]
  },
  {
   "cell_type": "markdown",
   "metadata": {},
   "source": [
    "## Add wg13"
   ]
  },
  {
   "cell_type": "code",
   "execution_count": 190,
   "metadata": {
    "collapsed": false
   },
   "outputs": [],
   "source": [
    "# add WG13 column (i.e. players who made WG13)\n",
    "wg13_players = ['ALEX SNYDER', 'CARA CROUCH', 'GEORGIA BOSSCHER', 'OCTAVIA PAYNE', 'SARAH GRIFFITH', 'CREE HOWARD', 'ROHRE TITCOMB', 'SANDY JORGENSEN', 'ANNA NAZAROV']"
   ]
  },
  {
   "cell_type": "code",
   "execution_count": 191,
   "metadata": {
    "collapsed": false
   },
   "outputs": [],
   "source": [
    "wg13 = []\n",
    "for item in us_stat.Name:\n",
    "    if item in wg13_players:\n",
    "        wg13.append(1)\n",
    "    else:\n",
    "        wg13.append(0)"
   ]
  },
  {
   "cell_type": "code",
   "execution_count": 192,
   "metadata": {
    "collapsed": false
   },
   "outputs": [],
   "source": [
    "us_stat['wg13'] = wg13"
   ]
  },
  {
   "cell_type": "code",
   "execution_count": 193,
   "metadata": {
    "collapsed": false
   },
   "outputs": [
    {
     "data": {
      "text/html": [
       "<div>\n",
       "<table border=\"1\" class=\"dataframe\">\n",
       "  <thead>\n",
       "    <tr style=\"text-align: right;\">\n",
       "      <th></th>\n",
       "      <th>Team</th>\n",
       "      <th>Number</th>\n",
       "      <th>Name</th>\n",
       "      <th>Goal</th>\n",
       "      <th>GPG</th>\n",
       "      <th>Assist</th>\n",
       "      <th>APG</th>\n",
       "      <th>Block</th>\n",
       "      <th>BPG</th>\n",
       "      <th>Turn</th>\n",
       "      <th>TPG</th>\n",
       "      <th>Games</th>\n",
       "      <th>Tournament</th>\n",
       "      <th>Standing</th>\n",
       "      <th>Spirit</th>\n",
       "      <th>wg13</th>\n",
       "    </tr>\n",
       "  </thead>\n",
       "  <tbody>\n",
       "    <tr>\n",
       "      <th>109</th>\n",
       "      <td>FURY</td>\n",
       "      <td>4</td>\n",
       "      <td>ALEX SNYDER</td>\n",
       "      <td>5</td>\n",
       "      <td>0.625000</td>\n",
       "      <td>15</td>\n",
       "      <td>1.875000</td>\n",
       "      <td>NaN</td>\n",
       "      <td>NaN</td>\n",
       "      <td>NaN</td>\n",
       "      <td>NaN</td>\n",
       "      <td>8</td>\n",
       "      <td>2011 USAU Club Championships</td>\n",
       "      <td>1</td>\n",
       "      <td>0.8280</td>\n",
       "      <td>1</td>\n",
       "    </tr>\n",
       "    <tr>\n",
       "      <th>118</th>\n",
       "      <td>FURY</td>\n",
       "      <td>13</td>\n",
       "      <td>CREE HOWARD</td>\n",
       "      <td>8</td>\n",
       "      <td>1.000000</td>\n",
       "      <td>4</td>\n",
       "      <td>0.500000</td>\n",
       "      <td>NaN</td>\n",
       "      <td>NaN</td>\n",
       "      <td>NaN</td>\n",
       "      <td>NaN</td>\n",
       "      <td>8</td>\n",
       "      <td>2011 USAU Club Championships</td>\n",
       "      <td>1</td>\n",
       "      <td>0.8280</td>\n",
       "      <td>1</td>\n",
       "    </tr>\n",
       "    <tr>\n",
       "      <th>121</th>\n",
       "      <td>FURY</td>\n",
       "      <td>19</td>\n",
       "      <td>GEORGIA BOSSCHER</td>\n",
       "      <td>6</td>\n",
       "      <td>0.750000</td>\n",
       "      <td>7</td>\n",
       "      <td>0.875000</td>\n",
       "      <td>NaN</td>\n",
       "      <td>NaN</td>\n",
       "      <td>NaN</td>\n",
       "      <td>NaN</td>\n",
       "      <td>8</td>\n",
       "      <td>2011 USAU Club Championships</td>\n",
       "      <td>1</td>\n",
       "      <td>0.8280</td>\n",
       "      <td>1</td>\n",
       "    </tr>\n",
       "    <tr>\n",
       "      <th>258</th>\n",
       "      <td>RIOT</td>\n",
       "      <td>4</td>\n",
       "      <td>ROHRE TITCOMB</td>\n",
       "      <td>0</td>\n",
       "      <td>0.000000</td>\n",
       "      <td>0</td>\n",
       "      <td>0.000000</td>\n",
       "      <td>NaN</td>\n",
       "      <td>NaN</td>\n",
       "      <td>NaN</td>\n",
       "      <td>NaN</td>\n",
       "      <td>8</td>\n",
       "      <td>2011 USAU Club Championships</td>\n",
       "      <td>2</td>\n",
       "      <td>0.7140</td>\n",
       "      <td>1</td>\n",
       "    </tr>\n",
       "    <tr>\n",
       "      <th>260</th>\n",
       "      <td>RIOT</td>\n",
       "      <td>6</td>\n",
       "      <td>SARAH GRIFFITH</td>\n",
       "      <td>11</td>\n",
       "      <td>1.375000</td>\n",
       "      <td>9</td>\n",
       "      <td>1.125000</td>\n",
       "      <td>NaN</td>\n",
       "      <td>NaN</td>\n",
       "      <td>NaN</td>\n",
       "      <td>NaN</td>\n",
       "      <td>8</td>\n",
       "      <td>2011 USAU Club Championships</td>\n",
       "      <td>2</td>\n",
       "      <td>0.7140</td>\n",
       "      <td>1</td>\n",
       "    </tr>\n",
       "    <tr>\n",
       "      <th>305</th>\n",
       "      <td>SCANDAL</td>\n",
       "      <td>9</td>\n",
       "      <td>OCTAVIA PAYNE</td>\n",
       "      <td>4</td>\n",
       "      <td>0.500000</td>\n",
       "      <td>20</td>\n",
       "      <td>2.500000</td>\n",
       "      <td>NaN</td>\n",
       "      <td>NaN</td>\n",
       "      <td>NaN</td>\n",
       "      <td>NaN</td>\n",
       "      <td>8</td>\n",
       "      <td>2011 USAU Club Championships</td>\n",
       "      <td>8</td>\n",
       "      <td>0.7500</td>\n",
       "      <td>1</td>\n",
       "    </tr>\n",
       "    <tr>\n",
       "      <th>319</th>\n",
       "      <td>SCANDAL</td>\n",
       "      <td>37</td>\n",
       "      <td>SANDY JORGENSEN</td>\n",
       "      <td>10</td>\n",
       "      <td>1.250000</td>\n",
       "      <td>5</td>\n",
       "      <td>0.625000</td>\n",
       "      <td>NaN</td>\n",
       "      <td>NaN</td>\n",
       "      <td>NaN</td>\n",
       "      <td>NaN</td>\n",
       "      <td>8</td>\n",
       "      <td>2011 USAU Club Championships</td>\n",
       "      <td>8</td>\n",
       "      <td>0.7500</td>\n",
       "      <td>1</td>\n",
       "    </tr>\n",
       "    <tr>\n",
       "      <th>324</th>\n",
       "      <td>SHOWDOWN</td>\n",
       "      <td>5</td>\n",
       "      <td>CARA CROUCH</td>\n",
       "      <td>6</td>\n",
       "      <td>0.666667</td>\n",
       "      <td>30</td>\n",
       "      <td>3.333333</td>\n",
       "      <td>NaN</td>\n",
       "      <td>NaN</td>\n",
       "      <td>NaN</td>\n",
       "      <td>NaN</td>\n",
       "      <td>9</td>\n",
       "      <td>2011 USAU Club Championships</td>\n",
       "      <td>6</td>\n",
       "      <td>0.7780</td>\n",
       "      <td>1</td>\n",
       "    </tr>\n",
       "    <tr>\n",
       "      <th>347</th>\n",
       "      <td>FURY</td>\n",
       "      <td>4</td>\n",
       "      <td>ALEX SNYDER</td>\n",
       "      <td>3</td>\n",
       "      <td>0.250000</td>\n",
       "      <td>32</td>\n",
       "      <td>2.666667</td>\n",
       "      <td>NaN</td>\n",
       "      <td>NaN</td>\n",
       "      <td>NaN</td>\n",
       "      <td>NaN</td>\n",
       "      <td>12</td>\n",
       "      <td>2012 WUGC</td>\n",
       "      <td>2</td>\n",
       "      <td>0.6000</td>\n",
       "      <td>1</td>\n",
       "    </tr>\n",
       "    <tr>\n",
       "      <th>348</th>\n",
       "      <td>FURY</td>\n",
       "      <td>19</td>\n",
       "      <td>GEORGIA BOSSCHER</td>\n",
       "      <td>13</td>\n",
       "      <td>1.083333</td>\n",
       "      <td>14</td>\n",
       "      <td>1.166667</td>\n",
       "      <td>NaN</td>\n",
       "      <td>NaN</td>\n",
       "      <td>NaN</td>\n",
       "      <td>NaN</td>\n",
       "      <td>12</td>\n",
       "      <td>2012 WUGC</td>\n",
       "      <td>2</td>\n",
       "      <td>0.6000</td>\n",
       "      <td>1</td>\n",
       "    </tr>\n",
       "    <tr>\n",
       "      <th>350</th>\n",
       "      <td>FURY</td>\n",
       "      <td>13</td>\n",
       "      <td>CREE HOWARD</td>\n",
       "      <td>15</td>\n",
       "      <td>1.250000</td>\n",
       "      <td>6</td>\n",
       "      <td>0.500000</td>\n",
       "      <td>NaN</td>\n",
       "      <td>NaN</td>\n",
       "      <td>NaN</td>\n",
       "      <td>NaN</td>\n",
       "      <td>12</td>\n",
       "      <td>2012 WUGC</td>\n",
       "      <td>2</td>\n",
       "      <td>0.6000</td>\n",
       "      <td>1</td>\n",
       "    </tr>\n",
       "    <tr>\n",
       "      <th>362</th>\n",
       "      <td>FURY</td>\n",
       "      <td>33</td>\n",
       "      <td>ANNA NAZAROV</td>\n",
       "      <td>4</td>\n",
       "      <td>0.333333</td>\n",
       "      <td>8</td>\n",
       "      <td>0.666667</td>\n",
       "      <td>NaN</td>\n",
       "      <td>NaN</td>\n",
       "      <td>NaN</td>\n",
       "      <td>NaN</td>\n",
       "      <td>12</td>\n",
       "      <td>2012 WUGC</td>\n",
       "      <td>2</td>\n",
       "      <td>0.6000</td>\n",
       "      <td>1</td>\n",
       "    </tr>\n",
       "    <tr>\n",
       "      <th>477</th>\n",
       "      <td>RIOT</td>\n",
       "      <td>4</td>\n",
       "      <td>ROHRE TITCOMB</td>\n",
       "      <td>1</td>\n",
       "      <td>0.111111</td>\n",
       "      <td>10</td>\n",
       "      <td>1.111111</td>\n",
       "      <td>5</td>\n",
       "      <td>0.555556</td>\n",
       "      <td>18</td>\n",
       "      <td>2.000000</td>\n",
       "      <td>9</td>\n",
       "      <td>2012 US Open</td>\n",
       "      <td>1</td>\n",
       "      <td>0.8880</td>\n",
       "      <td>1</td>\n",
       "    </tr>\n",
       "    <tr>\n",
       "      <th>479</th>\n",
       "      <td>RIOT</td>\n",
       "      <td>6</td>\n",
       "      <td>SARAH GRIFFITH</td>\n",
       "      <td>12</td>\n",
       "      <td>1.333333</td>\n",
       "      <td>4</td>\n",
       "      <td>0.444444</td>\n",
       "      <td>3</td>\n",
       "      <td>0.333333</td>\n",
       "      <td>8</td>\n",
       "      <td>0.888889</td>\n",
       "      <td>9</td>\n",
       "      <td>2012 US Open</td>\n",
       "      <td>1</td>\n",
       "      <td>0.8880</td>\n",
       "      <td>1</td>\n",
       "    </tr>\n",
       "    <tr>\n",
       "      <th>530</th>\n",
       "      <td>SCANDAL</td>\n",
       "      <td>9</td>\n",
       "      <td>OCTAVIA PAYNE</td>\n",
       "      <td>5</td>\n",
       "      <td>0.555556</td>\n",
       "      <td>14</td>\n",
       "      <td>1.555556</td>\n",
       "      <td>15</td>\n",
       "      <td>1.666667</td>\n",
       "      <td>27</td>\n",
       "      <td>3.000000</td>\n",
       "      <td>9</td>\n",
       "      <td>2012 US Open</td>\n",
       "      <td>2</td>\n",
       "      <td>0.7780</td>\n",
       "      <td>1</td>\n",
       "    </tr>\n",
       "    <tr>\n",
       "      <th>543</th>\n",
       "      <td>SCANDAL</td>\n",
       "      <td>37</td>\n",
       "      <td>SANDY JORGENSEN</td>\n",
       "      <td>11</td>\n",
       "      <td>1.222222</td>\n",
       "      <td>7</td>\n",
       "      <td>0.777778</td>\n",
       "      <td>8</td>\n",
       "      <td>0.888889</td>\n",
       "      <td>7</td>\n",
       "      <td>0.777778</td>\n",
       "      <td>9</td>\n",
       "      <td>2012 US Open</td>\n",
       "      <td>2</td>\n",
       "      <td>0.7780</td>\n",
       "      <td>1</td>\n",
       "    </tr>\n",
       "    <tr>\n",
       "      <th>557</th>\n",
       "      <td>SHOWDOWN</td>\n",
       "      <td>18</td>\n",
       "      <td>CARA CROUCH</td>\n",
       "      <td>4</td>\n",
       "      <td>0.500000</td>\n",
       "      <td>10</td>\n",
       "      <td>1.250000</td>\n",
       "      <td>2</td>\n",
       "      <td>0.250000</td>\n",
       "      <td>24</td>\n",
       "      <td>3.000000</td>\n",
       "      <td>8</td>\n",
       "      <td>2012 US Open</td>\n",
       "      <td>3</td>\n",
       "      <td>0.9000</td>\n",
       "      <td>1</td>\n",
       "    </tr>\n",
       "    <tr>\n",
       "      <th>572</th>\n",
       "      <td>TEAM USA</td>\n",
       "      <td>24</td>\n",
       "      <td>ALEX SNYDER</td>\n",
       "      <td>1</td>\n",
       "      <td>0.166667</td>\n",
       "      <td>10</td>\n",
       "      <td>1.666667</td>\n",
       "      <td>NaN</td>\n",
       "      <td>NaN</td>\n",
       "      <td>NaN</td>\n",
       "      <td>NaN</td>\n",
       "      <td>6</td>\n",
       "      <td>2013 World Games</td>\n",
       "      <td>1</td>\n",
       "      <td>NaN</td>\n",
       "      <td>1</td>\n",
       "    </tr>\n",
       "    <tr>\n",
       "      <th>573</th>\n",
       "      <td>TEAM USA</td>\n",
       "      <td>5</td>\n",
       "      <td>CARA CROUCH</td>\n",
       "      <td>2</td>\n",
       "      <td>0.333333</td>\n",
       "      <td>3</td>\n",
       "      <td>0.500000</td>\n",
       "      <td>NaN</td>\n",
       "      <td>NaN</td>\n",
       "      <td>NaN</td>\n",
       "      <td>NaN</td>\n",
       "      <td>6</td>\n",
       "      <td>2013 World Games</td>\n",
       "      <td>1</td>\n",
       "      <td>NaN</td>\n",
       "      <td>1</td>\n",
       "    </tr>\n",
       "    <tr>\n",
       "      <th>574</th>\n",
       "      <td>TEAM USA</td>\n",
       "      <td>19</td>\n",
       "      <td>GEORGIA BOSSCHER</td>\n",
       "      <td>3</td>\n",
       "      <td>0.500000</td>\n",
       "      <td>3</td>\n",
       "      <td>0.500000</td>\n",
       "      <td>NaN</td>\n",
       "      <td>NaN</td>\n",
       "      <td>NaN</td>\n",
       "      <td>NaN</td>\n",
       "      <td>6</td>\n",
       "      <td>2013 World Games</td>\n",
       "      <td>1</td>\n",
       "      <td>NaN</td>\n",
       "      <td>1</td>\n",
       "    </tr>\n",
       "    <tr>\n",
       "      <th>575</th>\n",
       "      <td>TEAM USA</td>\n",
       "      <td>9</td>\n",
       "      <td>OCTAVIA PAYNE</td>\n",
       "      <td>4</td>\n",
       "      <td>0.666667</td>\n",
       "      <td>1</td>\n",
       "      <td>0.166667</td>\n",
       "      <td>NaN</td>\n",
       "      <td>NaN</td>\n",
       "      <td>NaN</td>\n",
       "      <td>NaN</td>\n",
       "      <td>6</td>\n",
       "      <td>2013 World Games</td>\n",
       "      <td>1</td>\n",
       "      <td>NaN</td>\n",
       "      <td>1</td>\n",
       "    </tr>\n",
       "    <tr>\n",
       "      <th>576</th>\n",
       "      <td>TEAM USA</td>\n",
       "      <td>6</td>\n",
       "      <td>SARAH GRIFFITH</td>\n",
       "      <td>11</td>\n",
       "      <td>1.833333</td>\n",
       "      <td>0</td>\n",
       "      <td>0.000000</td>\n",
       "      <td>NaN</td>\n",
       "      <td>NaN</td>\n",
       "      <td>NaN</td>\n",
       "      <td>NaN</td>\n",
       "      <td>6</td>\n",
       "      <td>2013 World Games</td>\n",
       "      <td>1</td>\n",
       "      <td>NaN</td>\n",
       "      <td>1</td>\n",
       "    </tr>\n",
       "    <tr>\n",
       "      <th>577</th>\n",
       "      <td>TEAM USA</td>\n",
       "      <td>13</td>\n",
       "      <td>CREE HOWARD</td>\n",
       "      <td>6</td>\n",
       "      <td>1.000000</td>\n",
       "      <td>0</td>\n",
       "      <td>0.000000</td>\n",
       "      <td>NaN</td>\n",
       "      <td>NaN</td>\n",
       "      <td>NaN</td>\n",
       "      <td>NaN</td>\n",
       "      <td>6</td>\n",
       "      <td>2013 World Games</td>\n",
       "      <td>1</td>\n",
       "      <td>NaN</td>\n",
       "      <td>1</td>\n",
       "    </tr>\n",
       "    <tr>\n",
       "      <th>657</th>\n",
       "      <td>FURY</td>\n",
       "      <td>4</td>\n",
       "      <td>ALEX SNYDER</td>\n",
       "      <td>2</td>\n",
       "      <td>0.285714</td>\n",
       "      <td>11</td>\n",
       "      <td>1.571429</td>\n",
       "      <td>7</td>\n",
       "      <td>1.000000</td>\n",
       "      <td>9</td>\n",
       "      <td>1.285714</td>\n",
       "      <td>7</td>\n",
       "      <td>2013 USAU Club Championships</td>\n",
       "      <td>2</td>\n",
       "      <td>0.8280</td>\n",
       "      <td>1</td>\n",
       "    </tr>\n",
       "    <tr>\n",
       "      <th>666</th>\n",
       "      <td>FURY</td>\n",
       "      <td>13</td>\n",
       "      <td>CREE HOWARD</td>\n",
       "      <td>5</td>\n",
       "      <td>0.714286</td>\n",
       "      <td>1</td>\n",
       "      <td>0.142857</td>\n",
       "      <td>3</td>\n",
       "      <td>0.428571</td>\n",
       "      <td>4</td>\n",
       "      <td>0.571429</td>\n",
       "      <td>7</td>\n",
       "      <td>2013 USAU Club Championships</td>\n",
       "      <td>2</td>\n",
       "      <td>0.8280</td>\n",
       "      <td>1</td>\n",
       "    </tr>\n",
       "    <tr>\n",
       "      <th>674</th>\n",
       "      <td>FURY</td>\n",
       "      <td>33</td>\n",
       "      <td>ANNA NAZAROV</td>\n",
       "      <td>7</td>\n",
       "      <td>1.000000</td>\n",
       "      <td>4</td>\n",
       "      <td>0.571429</td>\n",
       "      <td>7</td>\n",
       "      <td>1.000000</td>\n",
       "      <td>7</td>\n",
       "      <td>1.000000</td>\n",
       "      <td>7</td>\n",
       "      <td>2013 USAU Club Championships</td>\n",
       "      <td>2</td>\n",
       "      <td>0.8280</td>\n",
       "      <td>1</td>\n",
       "    </tr>\n",
       "    <tr>\n",
       "      <th>692</th>\n",
       "      <td>HEIST</td>\n",
       "      <td>19</td>\n",
       "      <td>GEORGIA BOSSCHER</td>\n",
       "      <td>4</td>\n",
       "      <td>0.666667</td>\n",
       "      <td>4</td>\n",
       "      <td>0.666667</td>\n",
       "      <td>6</td>\n",
       "      <td>1.000000</td>\n",
       "      <td>15</td>\n",
       "      <td>2.500000</td>\n",
       "      <td>6</td>\n",
       "      <td>2013 USAU Club Championships</td>\n",
       "      <td>12</td>\n",
       "      <td>0.8340</td>\n",
       "      <td>1</td>\n",
       "    </tr>\n",
       "    <tr>\n",
       "      <th>854</th>\n",
       "      <td>RIOT</td>\n",
       "      <td>4</td>\n",
       "      <td>ROHRE TITCOMB</td>\n",
       "      <td>0</td>\n",
       "      <td>0.000000</td>\n",
       "      <td>0</td>\n",
       "      <td>0.000000</td>\n",
       "      <td>0</td>\n",
       "      <td>0.000000</td>\n",
       "      <td>0</td>\n",
       "      <td>0.000000</td>\n",
       "      <td>7</td>\n",
       "      <td>2013 USAU Club Championships</td>\n",
       "      <td>3</td>\n",
       "      <td>0.8860</td>\n",
       "      <td>1</td>\n",
       "    </tr>\n",
       "    <tr>\n",
       "      <th>856</th>\n",
       "      <td>RIOT</td>\n",
       "      <td>6</td>\n",
       "      <td>SARAH GRIFFITH</td>\n",
       "      <td>8</td>\n",
       "      <td>1.142857</td>\n",
       "      <td>17</td>\n",
       "      <td>2.428571</td>\n",
       "      <td>4</td>\n",
       "      <td>0.571429</td>\n",
       "      <td>4</td>\n",
       "      <td>0.571429</td>\n",
       "      <td>7</td>\n",
       "      <td>2013 USAU Club Championships</td>\n",
       "      <td>3</td>\n",
       "      <td>0.8860</td>\n",
       "      <td>1</td>\n",
       "    </tr>\n",
       "    <tr>\n",
       "      <th>885</th>\n",
       "      <td>SCANDAL</td>\n",
       "      <td>9</td>\n",
       "      <td>OCTAVIA PAYNE</td>\n",
       "      <td>6</td>\n",
       "      <td>0.857143</td>\n",
       "      <td>14</td>\n",
       "      <td>2.000000</td>\n",
       "      <td>8</td>\n",
       "      <td>1.142857</td>\n",
       "      <td>17</td>\n",
       "      <td>2.428571</td>\n",
       "      <td>7</td>\n",
       "      <td>2013 USAU Club Championships</td>\n",
       "      <td>1</td>\n",
       "      <td>0.8720</td>\n",
       "      <td>1</td>\n",
       "    </tr>\n",
       "    <tr>\n",
       "      <th>...</th>\n",
       "      <td>...</td>\n",
       "      <td>...</td>\n",
       "      <td>...</td>\n",
       "      <td>...</td>\n",
       "      <td>...</td>\n",
       "      <td>...</td>\n",
       "      <td>...</td>\n",
       "      <td>...</td>\n",
       "      <td>...</td>\n",
       "      <td>...</td>\n",
       "      <td>...</td>\n",
       "      <td>...</td>\n",
       "      <td>...</td>\n",
       "      <td>...</td>\n",
       "      <td>...</td>\n",
       "      <td>...</td>\n",
       "    </tr>\n",
       "    <tr>\n",
       "      <th>1203</th>\n",
       "      <td>FURY</td>\n",
       "      <td>NaN</td>\n",
       "      <td>ANNA NAZAROV</td>\n",
       "      <td>0</td>\n",
       "      <td>0.000000</td>\n",
       "      <td>1</td>\n",
       "      <td>1.000000</td>\n",
       "      <td>NaN</td>\n",
       "      <td>NaN</td>\n",
       "      <td>NaN</td>\n",
       "      <td>NaN</td>\n",
       "      <td>1</td>\n",
       "      <td>2014 WUCC</td>\n",
       "      <td>2</td>\n",
       "      <td>NaN</td>\n",
       "      <td>1</td>\n",
       "    </tr>\n",
       "    <tr>\n",
       "      <th>1223</th>\n",
       "      <td>FURY</td>\n",
       "      <td>NaN</td>\n",
       "      <td>ALEX SNYDER</td>\n",
       "      <td>0</td>\n",
       "      <td>0.000000</td>\n",
       "      <td>0</td>\n",
       "      <td>0.000000</td>\n",
       "      <td>NaN</td>\n",
       "      <td>NaN</td>\n",
       "      <td>NaN</td>\n",
       "      <td>NaN</td>\n",
       "      <td>1</td>\n",
       "      <td>2014 WUCC</td>\n",
       "      <td>2</td>\n",
       "      <td>NaN</td>\n",
       "      <td>1</td>\n",
       "    </tr>\n",
       "    <tr>\n",
       "      <th>1278</th>\n",
       "      <td>RIOT</td>\n",
       "      <td>04</td>\n",
       "      <td>ROHRE TITCOMB</td>\n",
       "      <td>1</td>\n",
       "      <td>0.166667</td>\n",
       "      <td>13</td>\n",
       "      <td>2.166667</td>\n",
       "      <td>NaN</td>\n",
       "      <td>NaN</td>\n",
       "      <td>NaN</td>\n",
       "      <td>NaN</td>\n",
       "      <td>6</td>\n",
       "      <td>2014 USAU Club Championships</td>\n",
       "      <td>3</td>\n",
       "      <td>0.7085</td>\n",
       "      <td>1</td>\n",
       "    </tr>\n",
       "    <tr>\n",
       "      <th>1280</th>\n",
       "      <td>RIOT</td>\n",
       "      <td>06</td>\n",
       "      <td>SARAH GRIFFITH</td>\n",
       "      <td>10</td>\n",
       "      <td>1.666667</td>\n",
       "      <td>7</td>\n",
       "      <td>1.166667</td>\n",
       "      <td>NaN</td>\n",
       "      <td>NaN</td>\n",
       "      <td>NaN</td>\n",
       "      <td>NaN</td>\n",
       "      <td>6</td>\n",
       "      <td>2014 USAU Club Championships</td>\n",
       "      <td>3</td>\n",
       "      <td>0.7085</td>\n",
       "      <td>1</td>\n",
       "    </tr>\n",
       "    <tr>\n",
       "      <th>1328</th>\n",
       "      <td>FURY</td>\n",
       "      <td>04</td>\n",
       "      <td>ALEX SNYDER</td>\n",
       "      <td>0</td>\n",
       "      <td>0.000000</td>\n",
       "      <td>8</td>\n",
       "      <td>1.142857</td>\n",
       "      <td>NaN</td>\n",
       "      <td>NaN</td>\n",
       "      <td>NaN</td>\n",
       "      <td>NaN</td>\n",
       "      <td>7</td>\n",
       "      <td>2014 USAU Club Championships</td>\n",
       "      <td>2</td>\n",
       "      <td>0.6715</td>\n",
       "      <td>1</td>\n",
       "    </tr>\n",
       "    <tr>\n",
       "      <th>1336</th>\n",
       "      <td>FURY</td>\n",
       "      <td>13</td>\n",
       "      <td>CREE HOWARD</td>\n",
       "      <td>4</td>\n",
       "      <td>0.571429</td>\n",
       "      <td>3</td>\n",
       "      <td>0.428571</td>\n",
       "      <td>NaN</td>\n",
       "      <td>NaN</td>\n",
       "      <td>NaN</td>\n",
       "      <td>NaN</td>\n",
       "      <td>7</td>\n",
       "      <td>2014 USAU Club Championships</td>\n",
       "      <td>2</td>\n",
       "      <td>0.6715</td>\n",
       "      <td>1</td>\n",
       "    </tr>\n",
       "    <tr>\n",
       "      <th>1345</th>\n",
       "      <td>FURY</td>\n",
       "      <td>33</td>\n",
       "      <td>ANNA NAZAROV</td>\n",
       "      <td>4</td>\n",
       "      <td>0.571429</td>\n",
       "      <td>7</td>\n",
       "      <td>1.000000</td>\n",
       "      <td>NaN</td>\n",
       "      <td>NaN</td>\n",
       "      <td>NaN</td>\n",
       "      <td>NaN</td>\n",
       "      <td>7</td>\n",
       "      <td>2014 USAU Club Championships</td>\n",
       "      <td>2</td>\n",
       "      <td>0.6715</td>\n",
       "      <td>1</td>\n",
       "    </tr>\n",
       "    <tr>\n",
       "      <th>1366</th>\n",
       "      <td>HEIST</td>\n",
       "      <td>19</td>\n",
       "      <td>GEORGIA BOSSCHER</td>\n",
       "      <td>6</td>\n",
       "      <td>1.500000</td>\n",
       "      <td>12</td>\n",
       "      <td>3.000000</td>\n",
       "      <td>NaN</td>\n",
       "      <td>NaN</td>\n",
       "      <td>NaN</td>\n",
       "      <td>NaN</td>\n",
       "      <td>4</td>\n",
       "      <td>2014 USAU Club Championships</td>\n",
       "      <td>11</td>\n",
       "      <td>0.7355</td>\n",
       "      <td>1</td>\n",
       "    </tr>\n",
       "    <tr>\n",
       "      <th>1554</th>\n",
       "      <td>SCANDAL</td>\n",
       "      <td>09</td>\n",
       "      <td>OCTAVIA PAYNE</td>\n",
       "      <td>4</td>\n",
       "      <td>0.571429</td>\n",
       "      <td>23</td>\n",
       "      <td>3.285714</td>\n",
       "      <td>NaN</td>\n",
       "      <td>NaN</td>\n",
       "      <td>NaN</td>\n",
       "      <td>NaN</td>\n",
       "      <td>7</td>\n",
       "      <td>2014 USAU Club Championships</td>\n",
       "      <td>1</td>\n",
       "      <td>0.6355</td>\n",
       "      <td>1</td>\n",
       "    </tr>\n",
       "    <tr>\n",
       "      <th>1564</th>\n",
       "      <td>SCANDAL</td>\n",
       "      <td>37</td>\n",
       "      <td>SANDY JORGENSEN</td>\n",
       "      <td>21</td>\n",
       "      <td>3.000000</td>\n",
       "      <td>4</td>\n",
       "      <td>0.571429</td>\n",
       "      <td>NaN</td>\n",
       "      <td>NaN</td>\n",
       "      <td>NaN</td>\n",
       "      <td>NaN</td>\n",
       "      <td>7</td>\n",
       "      <td>2014 USAU Club Championships</td>\n",
       "      <td>1</td>\n",
       "      <td>0.6355</td>\n",
       "      <td>1</td>\n",
       "    </tr>\n",
       "    <tr>\n",
       "      <th>1620</th>\n",
       "      <td>RIOT</td>\n",
       "      <td>04</td>\n",
       "      <td>ROHRE TITCOMB</td>\n",
       "      <td>5</td>\n",
       "      <td>0.555556</td>\n",
       "      <td>8</td>\n",
       "      <td>0.888889</td>\n",
       "      <td>NaN</td>\n",
       "      <td>NaN</td>\n",
       "      <td>NaN</td>\n",
       "      <td>NaN</td>\n",
       "      <td>9</td>\n",
       "      <td>2014 US Open</td>\n",
       "      <td>1</td>\n",
       "      <td>0.8285</td>\n",
       "      <td>1</td>\n",
       "    </tr>\n",
       "    <tr>\n",
       "      <th>1622</th>\n",
       "      <td>RIOT</td>\n",
       "      <td>06</td>\n",
       "      <td>SARAH GRIFFITH</td>\n",
       "      <td>19</td>\n",
       "      <td>2.111111</td>\n",
       "      <td>14</td>\n",
       "      <td>1.555556</td>\n",
       "      <td>NaN</td>\n",
       "      <td>NaN</td>\n",
       "      <td>NaN</td>\n",
       "      <td>NaN</td>\n",
       "      <td>9</td>\n",
       "      <td>2014 US Open</td>\n",
       "      <td>1</td>\n",
       "      <td>0.8285</td>\n",
       "      <td>1</td>\n",
       "    </tr>\n",
       "    <tr>\n",
       "      <th>1643</th>\n",
       "      <td>FURY</td>\n",
       "      <td>04</td>\n",
       "      <td>ALEX SNYDER</td>\n",
       "      <td>3</td>\n",
       "      <td>0.375000</td>\n",
       "      <td>8</td>\n",
       "      <td>1.000000</td>\n",
       "      <td>NaN</td>\n",
       "      <td>NaN</td>\n",
       "      <td>NaN</td>\n",
       "      <td>NaN</td>\n",
       "      <td>8</td>\n",
       "      <td>2014 US Open</td>\n",
       "      <td>3</td>\n",
       "      <td>0.7715</td>\n",
       "      <td>1</td>\n",
       "    </tr>\n",
       "    <tr>\n",
       "      <th>1651</th>\n",
       "      <td>FURY</td>\n",
       "      <td>13</td>\n",
       "      <td>CREE HOWARD</td>\n",
       "      <td>2</td>\n",
       "      <td>0.250000</td>\n",
       "      <td>1</td>\n",
       "      <td>0.125000</td>\n",
       "      <td>NaN</td>\n",
       "      <td>NaN</td>\n",
       "      <td>NaN</td>\n",
       "      <td>NaN</td>\n",
       "      <td>8</td>\n",
       "      <td>2014 US Open</td>\n",
       "      <td>3</td>\n",
       "      <td>0.7715</td>\n",
       "      <td>1</td>\n",
       "    </tr>\n",
       "    <tr>\n",
       "      <th>1660</th>\n",
       "      <td>FURY</td>\n",
       "      <td>33</td>\n",
       "      <td>ANNA NAZAROV</td>\n",
       "      <td>7</td>\n",
       "      <td>0.875000</td>\n",
       "      <td>13</td>\n",
       "      <td>1.625000</td>\n",
       "      <td>NaN</td>\n",
       "      <td>NaN</td>\n",
       "      <td>NaN</td>\n",
       "      <td>NaN</td>\n",
       "      <td>8</td>\n",
       "      <td>2014 US Open</td>\n",
       "      <td>3</td>\n",
       "      <td>0.7715</td>\n",
       "      <td>1</td>\n",
       "    </tr>\n",
       "    <tr>\n",
       "      <th>1757</th>\n",
       "      <td>SCANDAL</td>\n",
       "      <td>09</td>\n",
       "      <td>OCTAVIA PAYNE</td>\n",
       "      <td>3</td>\n",
       "      <td>0.428571</td>\n",
       "      <td>10</td>\n",
       "      <td>1.428571</td>\n",
       "      <td>NaN</td>\n",
       "      <td>NaN</td>\n",
       "      <td>NaN</td>\n",
       "      <td>NaN</td>\n",
       "      <td>7</td>\n",
       "      <td>2014 US Open</td>\n",
       "      <td>5</td>\n",
       "      <td>0.7715</td>\n",
       "      <td>1</td>\n",
       "    </tr>\n",
       "    <tr>\n",
       "      <th>1768</th>\n",
       "      <td>SCANDAL</td>\n",
       "      <td>37</td>\n",
       "      <td>SANDY JORGENSEN</td>\n",
       "      <td>7</td>\n",
       "      <td>1.000000</td>\n",
       "      <td>5</td>\n",
       "      <td>0.714286</td>\n",
       "      <td>NaN</td>\n",
       "      <td>NaN</td>\n",
       "      <td>NaN</td>\n",
       "      <td>NaN</td>\n",
       "      <td>7</td>\n",
       "      <td>2014 US Open</td>\n",
       "      <td>5</td>\n",
       "      <td>0.7715</td>\n",
       "      <td>1</td>\n",
       "    </tr>\n",
       "    <tr>\n",
       "      <th>1910</th>\n",
       "      <td>FURY</td>\n",
       "      <td>04</td>\n",
       "      <td>ALEX SNYDER</td>\n",
       "      <td>2</td>\n",
       "      <td>0.333333</td>\n",
       "      <td>11</td>\n",
       "      <td>1.833333</td>\n",
       "      <td>NaN</td>\n",
       "      <td>NaN</td>\n",
       "      <td>NaN</td>\n",
       "      <td>NaN</td>\n",
       "      <td>6</td>\n",
       "      <td>2015 USAU Club Championships</td>\n",
       "      <td>3</td>\n",
       "      <td>0.6800</td>\n",
       "      <td>1</td>\n",
       "    </tr>\n",
       "    <tr>\n",
       "      <th>1918</th>\n",
       "      <td>FURY</td>\n",
       "      <td>13</td>\n",
       "      <td>CREE HOWARD</td>\n",
       "      <td>4</td>\n",
       "      <td>0.666667</td>\n",
       "      <td>5</td>\n",
       "      <td>0.833333</td>\n",
       "      <td>NaN</td>\n",
       "      <td>NaN</td>\n",
       "      <td>NaN</td>\n",
       "      <td>NaN</td>\n",
       "      <td>6</td>\n",
       "      <td>2015 USAU Club Championships</td>\n",
       "      <td>3</td>\n",
       "      <td>0.6800</td>\n",
       "      <td>1</td>\n",
       "    </tr>\n",
       "    <tr>\n",
       "      <th>1929</th>\n",
       "      <td>FURY</td>\n",
       "      <td>33</td>\n",
       "      <td>ANNA NAZAROV</td>\n",
       "      <td>1</td>\n",
       "      <td>0.166667</td>\n",
       "      <td>8</td>\n",
       "      <td>1.333333</td>\n",
       "      <td>NaN</td>\n",
       "      <td>NaN</td>\n",
       "      <td>NaN</td>\n",
       "      <td>NaN</td>\n",
       "      <td>6</td>\n",
       "      <td>2015 USAU Club Championships</td>\n",
       "      <td>3</td>\n",
       "      <td>0.6800</td>\n",
       "      <td>1</td>\n",
       "    </tr>\n",
       "    <tr>\n",
       "      <th>2009</th>\n",
       "      <td>MOLLY BROWN</td>\n",
       "      <td>09</td>\n",
       "      <td>OCTAVIA PAYNE</td>\n",
       "      <td>1</td>\n",
       "      <td>0.166667</td>\n",
       "      <td>8</td>\n",
       "      <td>1.333333</td>\n",
       "      <td>NaN</td>\n",
       "      <td>NaN</td>\n",
       "      <td>NaN</td>\n",
       "      <td>NaN</td>\n",
       "      <td>6</td>\n",
       "      <td>2015 USAU Club Championships</td>\n",
       "      <td>3</td>\n",
       "      <td>0.5665</td>\n",
       "      <td>1</td>\n",
       "    </tr>\n",
       "    <tr>\n",
       "      <th>2125</th>\n",
       "      <td>SCANDAL</td>\n",
       "      <td>37</td>\n",
       "      <td>SANDY JORGENSEN</td>\n",
       "      <td>8</td>\n",
       "      <td>1.142857</td>\n",
       "      <td>8</td>\n",
       "      <td>1.142857</td>\n",
       "      <td>NaN</td>\n",
       "      <td>NaN</td>\n",
       "      <td>NaN</td>\n",
       "      <td>NaN</td>\n",
       "      <td>7</td>\n",
       "      <td>2015 USAU Club Championships</td>\n",
       "      <td>6</td>\n",
       "      <td>0.5820</td>\n",
       "      <td>1</td>\n",
       "    </tr>\n",
       "    <tr>\n",
       "      <th>2160</th>\n",
       "      <td>RIOT</td>\n",
       "      <td>04</td>\n",
       "      <td>ROHRE TITCOMB</td>\n",
       "      <td>2</td>\n",
       "      <td>0.285714</td>\n",
       "      <td>8</td>\n",
       "      <td>1.142857</td>\n",
       "      <td>NaN</td>\n",
       "      <td>NaN</td>\n",
       "      <td>NaN</td>\n",
       "      <td>NaN</td>\n",
       "      <td>7</td>\n",
       "      <td>2015 USAU Club Championships</td>\n",
       "      <td>2</td>\n",
       "      <td>0.7000</td>\n",
       "      <td>1</td>\n",
       "    </tr>\n",
       "    <tr>\n",
       "      <th>2162</th>\n",
       "      <td>RIOT</td>\n",
       "      <td>06</td>\n",
       "      <td>SARAH GRIFFITH</td>\n",
       "      <td>13</td>\n",
       "      <td>1.857143</td>\n",
       "      <td>5</td>\n",
       "      <td>0.714286</td>\n",
       "      <td>NaN</td>\n",
       "      <td>NaN</td>\n",
       "      <td>NaN</td>\n",
       "      <td>NaN</td>\n",
       "      <td>7</td>\n",
       "      <td>2015 USAU Club Championships</td>\n",
       "      <td>2</td>\n",
       "      <td>0.7000</td>\n",
       "      <td>1</td>\n",
       "    </tr>\n",
       "    <tr>\n",
       "      <th>2254</th>\n",
       "      <td>FURY</td>\n",
       "      <td>04</td>\n",
       "      <td>ALEX SNYDER</td>\n",
       "      <td>5</td>\n",
       "      <td>0.714286</td>\n",
       "      <td>11</td>\n",
       "      <td>1.571429</td>\n",
       "      <td>NaN</td>\n",
       "      <td>NaN</td>\n",
       "      <td>NaN</td>\n",
       "      <td>NaN</td>\n",
       "      <td>7</td>\n",
       "      <td>2015 US Open</td>\n",
       "      <td>1</td>\n",
       "      <td>0.5500</td>\n",
       "      <td>1</td>\n",
       "    </tr>\n",
       "    <tr>\n",
       "      <th>2262</th>\n",
       "      <td>FURY</td>\n",
       "      <td>13</td>\n",
       "      <td>CREE HOWARD</td>\n",
       "      <td>8</td>\n",
       "      <td>1.142857</td>\n",
       "      <td>8</td>\n",
       "      <td>1.142857</td>\n",
       "      <td>NaN</td>\n",
       "      <td>NaN</td>\n",
       "      <td>NaN</td>\n",
       "      <td>NaN</td>\n",
       "      <td>7</td>\n",
       "      <td>2015 US Open</td>\n",
       "      <td>1</td>\n",
       "      <td>0.5500</td>\n",
       "      <td>1</td>\n",
       "    </tr>\n",
       "    <tr>\n",
       "      <th>2273</th>\n",
       "      <td>FURY</td>\n",
       "      <td>33</td>\n",
       "      <td>ANNA NAZAROV</td>\n",
       "      <td>2</td>\n",
       "      <td>0.285714</td>\n",
       "      <td>7</td>\n",
       "      <td>1.000000</td>\n",
       "      <td>NaN</td>\n",
       "      <td>NaN</td>\n",
       "      <td>NaN</td>\n",
       "      <td>NaN</td>\n",
       "      <td>7</td>\n",
       "      <td>2015 US Open</td>\n",
       "      <td>1</td>\n",
       "      <td>0.5500</td>\n",
       "      <td>1</td>\n",
       "    </tr>\n",
       "    <tr>\n",
       "      <th>2426</th>\n",
       "      <td>SCANDAL</td>\n",
       "      <td>37</td>\n",
       "      <td>SANDY JORGENSEN</td>\n",
       "      <td>11</td>\n",
       "      <td>1.833333</td>\n",
       "      <td>5</td>\n",
       "      <td>0.833333</td>\n",
       "      <td>NaN</td>\n",
       "      <td>NaN</td>\n",
       "      <td>NaN</td>\n",
       "      <td>NaN</td>\n",
       "      <td>6</td>\n",
       "      <td>2015 US Open</td>\n",
       "      <td>6</td>\n",
       "      <td>0.6835</td>\n",
       "      <td>1</td>\n",
       "    </tr>\n",
       "    <tr>\n",
       "      <th>2434</th>\n",
       "      <td>RIOT</td>\n",
       "      <td>04</td>\n",
       "      <td>ROHRE TITCOMB</td>\n",
       "      <td>2</td>\n",
       "      <td>0.285714</td>\n",
       "      <td>5</td>\n",
       "      <td>0.714286</td>\n",
       "      <td>NaN</td>\n",
       "      <td>NaN</td>\n",
       "      <td>NaN</td>\n",
       "      <td>NaN</td>\n",
       "      <td>7</td>\n",
       "      <td>2015 US Open</td>\n",
       "      <td>2</td>\n",
       "      <td>0.6100</td>\n",
       "      <td>1</td>\n",
       "    </tr>\n",
       "    <tr>\n",
       "      <th>2436</th>\n",
       "      <td>RIOT</td>\n",
       "      <td>06</td>\n",
       "      <td>SARAH GRIFFITH</td>\n",
       "      <td>0</td>\n",
       "      <td>0.000000</td>\n",
       "      <td>0</td>\n",
       "      <td>0.000000</td>\n",
       "      <td>NaN</td>\n",
       "      <td>NaN</td>\n",
       "      <td>NaN</td>\n",
       "      <td>NaN</td>\n",
       "      <td>7</td>\n",
       "      <td>2015 US Open</td>\n",
       "      <td>2</td>\n",
       "      <td>0.6100</td>\n",
       "      <td>1</td>\n",
       "    </tr>\n",
       "  </tbody>\n",
       "</table>\n",
       "<p>72 rows × 16 columns</p>\n",
       "</div>"
      ],
      "text/plain": [
       "             Team Number              Name  Goal       GPG  Assist       APG  \\\n",
       "109          FURY      4       ALEX SNYDER     5  0.625000      15  1.875000   \n",
       "118          FURY     13       CREE HOWARD     8  1.000000       4  0.500000   \n",
       "121          FURY     19  GEORGIA BOSSCHER     6  0.750000       7  0.875000   \n",
       "258          RIOT      4     ROHRE TITCOMB     0  0.000000       0  0.000000   \n",
       "260          RIOT      6    SARAH GRIFFITH    11  1.375000       9  1.125000   \n",
       "305       SCANDAL      9     OCTAVIA PAYNE     4  0.500000      20  2.500000   \n",
       "319       SCANDAL     37   SANDY JORGENSEN    10  1.250000       5  0.625000   \n",
       "324      SHOWDOWN      5       CARA CROUCH     6  0.666667      30  3.333333   \n",
       "347          FURY      4       ALEX SNYDER     3  0.250000      32  2.666667   \n",
       "348          FURY     19  GEORGIA BOSSCHER    13  1.083333      14  1.166667   \n",
       "350          FURY     13       CREE HOWARD    15  1.250000       6  0.500000   \n",
       "362          FURY     33      ANNA NAZAROV     4  0.333333       8  0.666667   \n",
       "477          RIOT      4     ROHRE TITCOMB     1  0.111111      10  1.111111   \n",
       "479          RIOT      6    SARAH GRIFFITH    12  1.333333       4  0.444444   \n",
       "530       SCANDAL      9     OCTAVIA PAYNE     5  0.555556      14  1.555556   \n",
       "543       SCANDAL     37   SANDY JORGENSEN    11  1.222222       7  0.777778   \n",
       "557      SHOWDOWN     18       CARA CROUCH     4  0.500000      10  1.250000   \n",
       "572      TEAM USA     24       ALEX SNYDER     1  0.166667      10  1.666667   \n",
       "573      TEAM USA      5       CARA CROUCH     2  0.333333       3  0.500000   \n",
       "574      TEAM USA     19  GEORGIA BOSSCHER     3  0.500000       3  0.500000   \n",
       "575      TEAM USA      9     OCTAVIA PAYNE     4  0.666667       1  0.166667   \n",
       "576      TEAM USA      6    SARAH GRIFFITH    11  1.833333       0  0.000000   \n",
       "577      TEAM USA     13       CREE HOWARD     6  1.000000       0  0.000000   \n",
       "657          FURY      4       ALEX SNYDER     2  0.285714      11  1.571429   \n",
       "666          FURY     13       CREE HOWARD     5  0.714286       1  0.142857   \n",
       "674          FURY     33      ANNA NAZAROV     7  1.000000       4  0.571429   \n",
       "692         HEIST     19  GEORGIA BOSSCHER     4  0.666667       4  0.666667   \n",
       "854          RIOT      4     ROHRE TITCOMB     0  0.000000       0  0.000000   \n",
       "856          RIOT      6    SARAH GRIFFITH     8  1.142857      17  2.428571   \n",
       "885       SCANDAL      9     OCTAVIA PAYNE     6  0.857143      14  2.000000   \n",
       "...           ...    ...               ...   ...       ...     ...       ...   \n",
       "1203         FURY    NaN      ANNA NAZAROV     0  0.000000       1  1.000000   \n",
       "1223         FURY    NaN       ALEX SNYDER     0  0.000000       0  0.000000   \n",
       "1278         RIOT     04     ROHRE TITCOMB     1  0.166667      13  2.166667   \n",
       "1280         RIOT     06    SARAH GRIFFITH    10  1.666667       7  1.166667   \n",
       "1328         FURY     04       ALEX SNYDER     0  0.000000       8  1.142857   \n",
       "1336         FURY     13       CREE HOWARD     4  0.571429       3  0.428571   \n",
       "1345         FURY     33      ANNA NAZAROV     4  0.571429       7  1.000000   \n",
       "1366        HEIST     19  GEORGIA BOSSCHER     6  1.500000      12  3.000000   \n",
       "1554      SCANDAL     09     OCTAVIA PAYNE     4  0.571429      23  3.285714   \n",
       "1564      SCANDAL     37   SANDY JORGENSEN    21  3.000000       4  0.571429   \n",
       "1620         RIOT     04     ROHRE TITCOMB     5  0.555556       8  0.888889   \n",
       "1622         RIOT     06    SARAH GRIFFITH    19  2.111111      14  1.555556   \n",
       "1643         FURY     04       ALEX SNYDER     3  0.375000       8  1.000000   \n",
       "1651         FURY     13       CREE HOWARD     2  0.250000       1  0.125000   \n",
       "1660         FURY     33      ANNA NAZAROV     7  0.875000      13  1.625000   \n",
       "1757      SCANDAL     09     OCTAVIA PAYNE     3  0.428571      10  1.428571   \n",
       "1768      SCANDAL     37   SANDY JORGENSEN     7  1.000000       5  0.714286   \n",
       "1910         FURY     04       ALEX SNYDER     2  0.333333      11  1.833333   \n",
       "1918         FURY     13       CREE HOWARD     4  0.666667       5  0.833333   \n",
       "1929         FURY     33      ANNA NAZAROV     1  0.166667       8  1.333333   \n",
       "2009  MOLLY BROWN     09     OCTAVIA PAYNE     1  0.166667       8  1.333333   \n",
       "2125      SCANDAL     37   SANDY JORGENSEN     8  1.142857       8  1.142857   \n",
       "2160         RIOT     04     ROHRE TITCOMB     2  0.285714       8  1.142857   \n",
       "2162         RIOT     06    SARAH GRIFFITH    13  1.857143       5  0.714286   \n",
       "2254         FURY     04       ALEX SNYDER     5  0.714286      11  1.571429   \n",
       "2262         FURY     13       CREE HOWARD     8  1.142857       8  1.142857   \n",
       "2273         FURY     33      ANNA NAZAROV     2  0.285714       7  1.000000   \n",
       "2426      SCANDAL     37   SANDY JORGENSEN    11  1.833333       5  0.833333   \n",
       "2434         RIOT     04     ROHRE TITCOMB     2  0.285714       5  0.714286   \n",
       "2436         RIOT     06    SARAH GRIFFITH     0  0.000000       0  0.000000   \n",
       "\n",
       "      Block       BPG  Turn       TPG  Games                    Tournament  \\\n",
       "109     NaN       NaN   NaN       NaN      8  2011 USAU Club Championships   \n",
       "118     NaN       NaN   NaN       NaN      8  2011 USAU Club Championships   \n",
       "121     NaN       NaN   NaN       NaN      8  2011 USAU Club Championships   \n",
       "258     NaN       NaN   NaN       NaN      8  2011 USAU Club Championships   \n",
       "260     NaN       NaN   NaN       NaN      8  2011 USAU Club Championships   \n",
       "305     NaN       NaN   NaN       NaN      8  2011 USAU Club Championships   \n",
       "319     NaN       NaN   NaN       NaN      8  2011 USAU Club Championships   \n",
       "324     NaN       NaN   NaN       NaN      9  2011 USAU Club Championships   \n",
       "347     NaN       NaN   NaN       NaN     12                     2012 WUGC   \n",
       "348     NaN       NaN   NaN       NaN     12                     2012 WUGC   \n",
       "350     NaN       NaN   NaN       NaN     12                     2012 WUGC   \n",
       "362     NaN       NaN   NaN       NaN     12                     2012 WUGC   \n",
       "477       5  0.555556    18  2.000000      9                  2012 US Open   \n",
       "479       3  0.333333     8  0.888889      9                  2012 US Open   \n",
       "530      15  1.666667    27  3.000000      9                  2012 US Open   \n",
       "543       8  0.888889     7  0.777778      9                  2012 US Open   \n",
       "557       2  0.250000    24  3.000000      8                  2012 US Open   \n",
       "572     NaN       NaN   NaN       NaN      6              2013 World Games   \n",
       "573     NaN       NaN   NaN       NaN      6              2013 World Games   \n",
       "574     NaN       NaN   NaN       NaN      6              2013 World Games   \n",
       "575     NaN       NaN   NaN       NaN      6              2013 World Games   \n",
       "576     NaN       NaN   NaN       NaN      6              2013 World Games   \n",
       "577     NaN       NaN   NaN       NaN      6              2013 World Games   \n",
       "657       7  1.000000     9  1.285714      7  2013 USAU Club Championships   \n",
       "666       3  0.428571     4  0.571429      7  2013 USAU Club Championships   \n",
       "674       7  1.000000     7  1.000000      7  2013 USAU Club Championships   \n",
       "692       6  1.000000    15  2.500000      6  2013 USAU Club Championships   \n",
       "854       0  0.000000     0  0.000000      7  2013 USAU Club Championships   \n",
       "856       4  0.571429     4  0.571429      7  2013 USAU Club Championships   \n",
       "885       8  1.142857    17  2.428571      7  2013 USAU Club Championships   \n",
       "...     ...       ...   ...       ...    ...                           ...   \n",
       "1203    NaN       NaN   NaN       NaN      1                     2014 WUCC   \n",
       "1223    NaN       NaN   NaN       NaN      1                     2014 WUCC   \n",
       "1278    NaN       NaN   NaN       NaN      6  2014 USAU Club Championships   \n",
       "1280    NaN       NaN   NaN       NaN      6  2014 USAU Club Championships   \n",
       "1328    NaN       NaN   NaN       NaN      7  2014 USAU Club Championships   \n",
       "1336    NaN       NaN   NaN       NaN      7  2014 USAU Club Championships   \n",
       "1345    NaN       NaN   NaN       NaN      7  2014 USAU Club Championships   \n",
       "1366    NaN       NaN   NaN       NaN      4  2014 USAU Club Championships   \n",
       "1554    NaN       NaN   NaN       NaN      7  2014 USAU Club Championships   \n",
       "1564    NaN       NaN   NaN       NaN      7  2014 USAU Club Championships   \n",
       "1620    NaN       NaN   NaN       NaN      9                  2014 US Open   \n",
       "1622    NaN       NaN   NaN       NaN      9                  2014 US Open   \n",
       "1643    NaN       NaN   NaN       NaN      8                  2014 US Open   \n",
       "1651    NaN       NaN   NaN       NaN      8                  2014 US Open   \n",
       "1660    NaN       NaN   NaN       NaN      8                  2014 US Open   \n",
       "1757    NaN       NaN   NaN       NaN      7                  2014 US Open   \n",
       "1768    NaN       NaN   NaN       NaN      7                  2014 US Open   \n",
       "1910    NaN       NaN   NaN       NaN      6  2015 USAU Club Championships   \n",
       "1918    NaN       NaN   NaN       NaN      6  2015 USAU Club Championships   \n",
       "1929    NaN       NaN   NaN       NaN      6  2015 USAU Club Championships   \n",
       "2009    NaN       NaN   NaN       NaN      6  2015 USAU Club Championships   \n",
       "2125    NaN       NaN   NaN       NaN      7  2015 USAU Club Championships   \n",
       "2160    NaN       NaN   NaN       NaN      7  2015 USAU Club Championships   \n",
       "2162    NaN       NaN   NaN       NaN      7  2015 USAU Club Championships   \n",
       "2254    NaN       NaN   NaN       NaN      7                  2015 US Open   \n",
       "2262    NaN       NaN   NaN       NaN      7                  2015 US Open   \n",
       "2273    NaN       NaN   NaN       NaN      7                  2015 US Open   \n",
       "2426    NaN       NaN   NaN       NaN      6                  2015 US Open   \n",
       "2434    NaN       NaN   NaN       NaN      7                  2015 US Open   \n",
       "2436    NaN       NaN   NaN       NaN      7                  2015 US Open   \n",
       "\n",
       "      Standing  Spirit  wg13  \n",
       "109          1  0.8280     1  \n",
       "118          1  0.8280     1  \n",
       "121          1  0.8280     1  \n",
       "258          2  0.7140     1  \n",
       "260          2  0.7140     1  \n",
       "305          8  0.7500     1  \n",
       "319          8  0.7500     1  \n",
       "324          6  0.7780     1  \n",
       "347          2  0.6000     1  \n",
       "348          2  0.6000     1  \n",
       "350          2  0.6000     1  \n",
       "362          2  0.6000     1  \n",
       "477          1  0.8880     1  \n",
       "479          1  0.8880     1  \n",
       "530          2  0.7780     1  \n",
       "543          2  0.7780     1  \n",
       "557          3  0.9000     1  \n",
       "572          1     NaN     1  \n",
       "573          1     NaN     1  \n",
       "574          1     NaN     1  \n",
       "575          1     NaN     1  \n",
       "576          1     NaN     1  \n",
       "577          1     NaN     1  \n",
       "657          2  0.8280     1  \n",
       "666          2  0.8280     1  \n",
       "674          2  0.8280     1  \n",
       "692         12  0.8340     1  \n",
       "854          3  0.8860     1  \n",
       "856          3  0.8860     1  \n",
       "885          1  0.8720     1  \n",
       "...        ...     ...   ...  \n",
       "1203         2     NaN     1  \n",
       "1223         2     NaN     1  \n",
       "1278         3  0.7085     1  \n",
       "1280         3  0.7085     1  \n",
       "1328         2  0.6715     1  \n",
       "1336         2  0.6715     1  \n",
       "1345         2  0.6715     1  \n",
       "1366        11  0.7355     1  \n",
       "1554         1  0.6355     1  \n",
       "1564         1  0.6355     1  \n",
       "1620         1  0.8285     1  \n",
       "1622         1  0.8285     1  \n",
       "1643         3  0.7715     1  \n",
       "1651         3  0.7715     1  \n",
       "1660         3  0.7715     1  \n",
       "1757         5  0.7715     1  \n",
       "1768         5  0.7715     1  \n",
       "1910         3  0.6800     1  \n",
       "1918         3  0.6800     1  \n",
       "1929         3  0.6800     1  \n",
       "2009         3  0.5665     1  \n",
       "2125         6  0.5820     1  \n",
       "2160         2  0.7000     1  \n",
       "2162         2  0.7000     1  \n",
       "2254         1  0.5500     1  \n",
       "2262         1  0.5500     1  \n",
       "2273         1  0.5500     1  \n",
       "2426         6  0.6835     1  \n",
       "2434         2  0.6100     1  \n",
       "2436         2  0.6100     1  \n",
       "\n",
       "[72 rows x 16 columns]"
      ]
     },
     "execution_count": 193,
     "metadata": {},
     "output_type": "execute_result"
    }
   ],
   "source": [
    "us_stat[us_stat.wg13 ==1]"
   ]
  },
  {
   "cell_type": "markdown",
   "metadata": {},
   "source": [
    "## Team Names into numbers"
   ]
  },
  {
   "cell_type": "code",
   "execution_count": 219,
   "metadata": {
    "collapsed": true
   },
   "outputs": [],
   "source": [
    "#use dummies to turn team names into numbers\n",
    "# team_dummies = pd.get_dummies(us_female_stats.Team, prefix='Team')\n",
    "# us_female_stats = pd.concat([us_female_stats, team_dummies], axis=1)"
   ]
  },
  {
   "cell_type": "markdown",
   "metadata": {},
   "source": [
    "## Add tryouts"
   ]
  },
  {
   "cell_type": "code",
   "execution_count": 194,
   "metadata": {
    "collapsed": true
   },
   "outputs": [],
   "source": [
    "# scrape USAU for tryout list\n",
    "r = requests.get('http://www.usaultimate.org/news/tryout-attendees-announced-for-2016-wugc-teams/')\n",
    "b = BeautifulSoup(r.text, 'html.parser')"
   ]
  },
  {
   "cell_type": "code",
   "execution_count": 199,
   "metadata": {
    "collapsed": false
   },
   "outputs": [],
   "source": [
    "tryouts = [str(item).upper()[8:-10] for item in b.find('table').find_all('td')[::3]]"
   ]
  },
  {
   "cell_type": "code",
   "execution_count": 200,
   "metadata": {
    "collapsed": false
   },
   "outputs": [],
   "source": [
    "# add tryouts column\n",
    "\n",
    "wugc16_tryouts = []\n",
    "for item in us_stat.Name:\n",
    "    if item in tryouts:\n",
    "        wugc16_tryouts.append(1)\n",
    "    else:\n",
    "        wugc16_tryouts.append(0)"
   ]
  },
  {
   "cell_type": "code",
   "execution_count": 201,
   "metadata": {
    "collapsed": true
   },
   "outputs": [],
   "source": [
    "us_stat['wugc16_tryouts'] = wugc16_tryouts"
   ]
  },
  {
   "cell_type": "markdown",
   "metadata": {},
   "source": [
    "## Add wugc16 roster"
   ]
  },
  {
   "cell_type": "code",
   "execution_count": 202,
   "metadata": {
    "collapsed": true
   },
   "outputs": [],
   "source": [
    "# scrape USAU for wugc16 women's roster\n",
    "r = requests.get('http://www.usaultimate.org/news/usa-ultimate-announces-womens-team-for-2016-wugc/')\n",
    "b = BeautifulSoup(r.text, 'html.parser')"
   ]
  },
  {
   "cell_type": "code",
   "execution_count": 203,
   "metadata": {
    "collapsed": false
   },
   "outputs": [
    {
     "data": {
      "text/plain": [
       "[<td>Sarah Anciaux\\xa0</td>,\n",
       " <td>Georgia Bosscher\\xa0</td>,\n",
       " <td>Calise Cardenas\\xa0</td>,\n",
       " <td>Claire Chastain\\xa0</td>,\n",
       " <td>Katy Craley\\xa0</td>,\n",
       " <td>Claire Desmond\\xa0</td>,\n",
       " <td>Jenny Fey\\xa0</td>,\n",
       " <td>Katey Forth\\xa0</td>,\n",
       " <td>Sarah Griffith\\xa0</td>,\n",
       " <td>Kami Groom\\xa0</td>,\n",
       " <td>Lien Hoffmann\\xa0</td>,\n",
       " <td>Kaela Jorgenson\\xa0</td>,\n",
       " <td>Hana Kawai\\xa0</td>,\n",
       " <td>Anna Nazarov\\xa0</td>,\n",
       " <td>Octavia Payne\\xa0</td>,\n",
       " <td>Maggie Ruden\\xa0</td>,\n",
       " <td>Lauren Sadler\\xa0</td>,\n",
       " <td>Amber Sinicrope\\xa0</td>,\n",
       " <td>Dena Slattery\\xa0</td>,\n",
       " <td>Tina Snodgrass\\xa0</td>,\n",
       " <td>Alex Snyder\\xa0</td>,\n",
       " <td>Rohre Titcomb\\xa0</td>,\n",
       " <td>Leila Tunnell</td>,\n",
       " <td>Mira Walker\\xa0</td>]"
      ]
     },
     "execution_count": 203,
     "metadata": {},
     "output_type": "execute_result"
    }
   ],
   "source": [
    "b.find('table').find_all('td')[::4]"
   ]
  },
  {
   "cell_type": "code",
   "execution_count": 204,
   "metadata": {
    "collapsed": false
   },
   "outputs": [],
   "source": [
    "# import re\n",
    "# b = str(b.find('table').find_all('td')[::4][-2])"
   ]
  },
  {
   "cell_type": "code",
   "execution_count": 205,
   "metadata": {
    "collapsed": false
   },
   "outputs": [],
   "source": [
    "# re.findall('([^>]*)</', a)\n",
    "# re.findall('([^>]*)\\W?', a)\n",
    "# re.findall('\\w*\\w', b)[1] + \" \" + re.findall('\\w*\\w', b)[2]"
   ]
  },
  {
   "cell_type": "code",
   "execution_count": 206,
   "metadata": {
    "collapsed": false
   },
   "outputs": [],
   "source": [
    "# wugc16 = [str(item).upper()[str(item).index('>')+1:-7] for item in b.find('table').find_all('td')[::4]]\n",
    "import re\n",
    "\n",
    "roster = []\n",
    "\n",
    "for item in b.find('table').find_all('td')[::4]:\n",
    "    roster.append(re.findall('\\w*\\w', str(item).upper())[1] + \" \" + re.findall('\\w*\\w', str(item).upper())[2])"
   ]
  },
  {
   "cell_type": "code",
   "execution_count": 207,
   "metadata": {
    "collapsed": false
   },
   "outputs": [
    {
     "data": {
      "text/plain": [
       "['SARAH ANCIAUX',\n",
       " 'GEORGIA BOSSCHER',\n",
       " 'CALISE CARDENAS',\n",
       " 'CLAIRE CHASTAIN',\n",
       " 'KATY CRALEY',\n",
       " 'CLAIRE DESMOND',\n",
       " 'JENNY FEY',\n",
       " 'KATEY FORTH',\n",
       " 'SARAH GRIFFITH',\n",
       " 'KAMI GROOM',\n",
       " 'LIEN HOFFMANN',\n",
       " 'KAELA JORGENSON',\n",
       " 'HANA KAWAI',\n",
       " 'ANNA NAZAROV',\n",
       " 'OCTAVIA PAYNE',\n",
       " 'MAGGIE RUDEN',\n",
       " 'LAUREN SADLER',\n",
       " 'AMBER SINICROPE',\n",
       " 'DENA SLATTERY',\n",
       " 'TINA SNODGRASS',\n",
       " 'ALEX SNYDER',\n",
       " 'ROHRE TITCOMB',\n",
       " 'LEILA TUNNELL',\n",
       " 'MIRA WALKER']"
      ]
     },
     "execution_count": 207,
     "metadata": {},
     "output_type": "execute_result"
    }
   ],
   "source": [
    "roster"
   ]
  },
  {
   "cell_type": "code",
   "execution_count": 208,
   "metadata": {
    "collapsed": true
   },
   "outputs": [],
   "source": [
    "wugc16 = []\n",
    "\n",
    "for item in us_stat.Name:\n",
    "    if item in roster:\n",
    "        wugc16.append(1)\n",
    "    else:\n",
    "        wugc16.append(0)"
   ]
  },
  {
   "cell_type": "code",
   "execution_count": 209,
   "metadata": {
    "collapsed": true
   },
   "outputs": [],
   "source": [
    "us_stat['Team_WUGC16'] = wugc16"
   ]
  },
  {
   "cell_type": "code",
   "execution_count": 210,
   "metadata": {
    "collapsed": false
   },
   "outputs": [
    {
     "data": {
      "text/html": [
       "<div>\n",
       "<table border=\"1\" class=\"dataframe\">\n",
       "  <thead>\n",
       "    <tr style=\"text-align: right;\">\n",
       "      <th></th>\n",
       "      <th>Team</th>\n",
       "      <th>Number</th>\n",
       "      <th>Goal</th>\n",
       "      <th>GPG</th>\n",
       "      <th>Assist</th>\n",
       "      <th>APG</th>\n",
       "      <th>Block</th>\n",
       "      <th>BPG</th>\n",
       "      <th>Turn</th>\n",
       "      <th>TPG</th>\n",
       "      <th>Games</th>\n",
       "      <th>Tournament</th>\n",
       "      <th>Standing</th>\n",
       "      <th>Spirit</th>\n",
       "      <th>wg13</th>\n",
       "      <th>wugc16_tryouts</th>\n",
       "      <th>Team_WUGC16</th>\n",
       "    </tr>\n",
       "    <tr>\n",
       "      <th>Name</th>\n",
       "      <th></th>\n",
       "      <th></th>\n",
       "      <th></th>\n",
       "      <th></th>\n",
       "      <th></th>\n",
       "      <th></th>\n",
       "      <th></th>\n",
       "      <th></th>\n",
       "      <th></th>\n",
       "      <th></th>\n",
       "      <th></th>\n",
       "      <th></th>\n",
       "      <th></th>\n",
       "      <th></th>\n",
       "      <th></th>\n",
       "      <th></th>\n",
       "      <th></th>\n",
       "    </tr>\n",
       "  </thead>\n",
       "  <tbody>\n",
       "    <tr>\n",
       "      <th>ALEX SNYDER</th>\n",
       "      <td>10</td>\n",
       "      <td>9</td>\n",
       "      <td>10</td>\n",
       "      <td>10</td>\n",
       "      <td>10</td>\n",
       "      <td>10</td>\n",
       "      <td>2</td>\n",
       "      <td>2</td>\n",
       "      <td>2</td>\n",
       "      <td>2</td>\n",
       "      <td>10</td>\n",
       "      <td>10</td>\n",
       "      <td>10</td>\n",
       "      <td>8</td>\n",
       "      <td>10</td>\n",
       "      <td>10</td>\n",
       "      <td>10</td>\n",
       "    </tr>\n",
       "    <tr>\n",
       "      <th>AMBER SINICROPE</th>\n",
       "      <td>4</td>\n",
       "      <td>4</td>\n",
       "      <td>4</td>\n",
       "      <td>4</td>\n",
       "      <td>4</td>\n",
       "      <td>4</td>\n",
       "      <td>1</td>\n",
       "      <td>1</td>\n",
       "      <td>1</td>\n",
       "      <td>1</td>\n",
       "      <td>4</td>\n",
       "      <td>4</td>\n",
       "      <td>4</td>\n",
       "      <td>4</td>\n",
       "      <td>4</td>\n",
       "      <td>4</td>\n",
       "      <td>4</td>\n",
       "    </tr>\n",
       "    <tr>\n",
       "      <th>ANNA NAZAROV</th>\n",
       "      <td>8</td>\n",
       "      <td>7</td>\n",
       "      <td>8</td>\n",
       "      <td>8</td>\n",
       "      <td>8</td>\n",
       "      <td>8</td>\n",
       "      <td>2</td>\n",
       "      <td>2</td>\n",
       "      <td>2</td>\n",
       "      <td>2</td>\n",
       "      <td>8</td>\n",
       "      <td>8</td>\n",
       "      <td>8</td>\n",
       "      <td>7</td>\n",
       "      <td>8</td>\n",
       "      <td>8</td>\n",
       "      <td>8</td>\n",
       "    </tr>\n",
       "    <tr>\n",
       "      <th>CALISE CARDENAS</th>\n",
       "      <td>9</td>\n",
       "      <td>8</td>\n",
       "      <td>9</td>\n",
       "      <td>9</td>\n",
       "      <td>9</td>\n",
       "      <td>9</td>\n",
       "      <td>3</td>\n",
       "      <td>3</td>\n",
       "      <td>3</td>\n",
       "      <td>3</td>\n",
       "      <td>9</td>\n",
       "      <td>9</td>\n",
       "      <td>9</td>\n",
       "      <td>8</td>\n",
       "      <td>9</td>\n",
       "      <td>9</td>\n",
       "      <td>9</td>\n",
       "    </tr>\n",
       "    <tr>\n",
       "      <th>CLAIRE CHASTAIN</th>\n",
       "      <td>6</td>\n",
       "      <td>6</td>\n",
       "      <td>6</td>\n",
       "      <td>6</td>\n",
       "      <td>6</td>\n",
       "      <td>6</td>\n",
       "      <td>3</td>\n",
       "      <td>3</td>\n",
       "      <td>3</td>\n",
       "      <td>3</td>\n",
       "      <td>6</td>\n",
       "      <td>6</td>\n",
       "      <td>6</td>\n",
       "      <td>6</td>\n",
       "      <td>6</td>\n",
       "      <td>6</td>\n",
       "      <td>6</td>\n",
       "    </tr>\n",
       "    <tr>\n",
       "      <th>CLAIRE DESMOND</th>\n",
       "      <td>7</td>\n",
       "      <td>6</td>\n",
       "      <td>7</td>\n",
       "      <td>7</td>\n",
       "      <td>7</td>\n",
       "      <td>7</td>\n",
       "      <td>2</td>\n",
       "      <td>2</td>\n",
       "      <td>2</td>\n",
       "      <td>2</td>\n",
       "      <td>7</td>\n",
       "      <td>7</td>\n",
       "      <td>7</td>\n",
       "      <td>6</td>\n",
       "      <td>7</td>\n",
       "      <td>7</td>\n",
       "      <td>7</td>\n",
       "    </tr>\n",
       "    <tr>\n",
       "      <th>DENA SLATTERY</th>\n",
       "      <td>4</td>\n",
       "      <td>4</td>\n",
       "      <td>4</td>\n",
       "      <td>4</td>\n",
       "      <td>4</td>\n",
       "      <td>4</td>\n",
       "      <td>1</td>\n",
       "      <td>1</td>\n",
       "      <td>1</td>\n",
       "      <td>1</td>\n",
       "      <td>4</td>\n",
       "      <td>4</td>\n",
       "      <td>4</td>\n",
       "      <td>4</td>\n",
       "      <td>4</td>\n",
       "      <td>4</td>\n",
       "      <td>4</td>\n",
       "    </tr>\n",
       "    <tr>\n",
       "      <th>GEORGIA BOSSCHER</th>\n",
       "      <td>5</td>\n",
       "      <td>5</td>\n",
       "      <td>5</td>\n",
       "      <td>5</td>\n",
       "      <td>5</td>\n",
       "      <td>5</td>\n",
       "      <td>1</td>\n",
       "      <td>1</td>\n",
       "      <td>1</td>\n",
       "      <td>1</td>\n",
       "      <td>5</td>\n",
       "      <td>5</td>\n",
       "      <td>5</td>\n",
       "      <td>4</td>\n",
       "      <td>5</td>\n",
       "      <td>5</td>\n",
       "      <td>5</td>\n",
       "    </tr>\n",
       "    <tr>\n",
       "      <th>HANA KAWAI</th>\n",
       "      <td>9</td>\n",
       "      <td>8</td>\n",
       "      <td>9</td>\n",
       "      <td>9</td>\n",
       "      <td>9</td>\n",
       "      <td>9</td>\n",
       "      <td>3</td>\n",
       "      <td>3</td>\n",
       "      <td>3</td>\n",
       "      <td>3</td>\n",
       "      <td>9</td>\n",
       "      <td>9</td>\n",
       "      <td>9</td>\n",
       "      <td>8</td>\n",
       "      <td>9</td>\n",
       "      <td>9</td>\n",
       "      <td>9</td>\n",
       "    </tr>\n",
       "    <tr>\n",
       "      <th>JENNY FEY</th>\n",
       "      <td>5</td>\n",
       "      <td>5</td>\n",
       "      <td>5</td>\n",
       "      <td>5</td>\n",
       "      <td>5</td>\n",
       "      <td>5</td>\n",
       "      <td>2</td>\n",
       "      <td>2</td>\n",
       "      <td>2</td>\n",
       "      <td>2</td>\n",
       "      <td>5</td>\n",
       "      <td>5</td>\n",
       "      <td>5</td>\n",
       "      <td>5</td>\n",
       "      <td>5</td>\n",
       "      <td>5</td>\n",
       "      <td>5</td>\n",
       "    </tr>\n",
       "    <tr>\n",
       "      <th>KAELA JORGENSON</th>\n",
       "      <td>9</td>\n",
       "      <td>8</td>\n",
       "      <td>9</td>\n",
       "      <td>9</td>\n",
       "      <td>9</td>\n",
       "      <td>9</td>\n",
       "      <td>2</td>\n",
       "      <td>2</td>\n",
       "      <td>2</td>\n",
       "      <td>2</td>\n",
       "      <td>9</td>\n",
       "      <td>9</td>\n",
       "      <td>9</td>\n",
       "      <td>8</td>\n",
       "      <td>9</td>\n",
       "      <td>9</td>\n",
       "      <td>9</td>\n",
       "    </tr>\n",
       "    <tr>\n",
       "      <th>KAMI GROOM</th>\n",
       "      <td>6</td>\n",
       "      <td>6</td>\n",
       "      <td>6</td>\n",
       "      <td>6</td>\n",
       "      <td>6</td>\n",
       "      <td>6</td>\n",
       "      <td>1</td>\n",
       "      <td>1</td>\n",
       "      <td>1</td>\n",
       "      <td>1</td>\n",
       "      <td>6</td>\n",
       "      <td>6</td>\n",
       "      <td>6</td>\n",
       "      <td>6</td>\n",
       "      <td>6</td>\n",
       "      <td>6</td>\n",
       "      <td>6</td>\n",
       "    </tr>\n",
       "    <tr>\n",
       "      <th>KATEY FORTH</th>\n",
       "      <td>8</td>\n",
       "      <td>8</td>\n",
       "      <td>8</td>\n",
       "      <td>8</td>\n",
       "      <td>8</td>\n",
       "      <td>8</td>\n",
       "      <td>3</td>\n",
       "      <td>3</td>\n",
       "      <td>3</td>\n",
       "      <td>3</td>\n",
       "      <td>8</td>\n",
       "      <td>8</td>\n",
       "      <td>8</td>\n",
       "      <td>8</td>\n",
       "      <td>8</td>\n",
       "      <td>8</td>\n",
       "      <td>8</td>\n",
       "    </tr>\n",
       "    <tr>\n",
       "      <th>KATY CRALEY</th>\n",
       "      <td>6</td>\n",
       "      <td>6</td>\n",
       "      <td>6</td>\n",
       "      <td>6</td>\n",
       "      <td>6</td>\n",
       "      <td>6</td>\n",
       "      <td>3</td>\n",
       "      <td>3</td>\n",
       "      <td>3</td>\n",
       "      <td>3</td>\n",
       "      <td>6</td>\n",
       "      <td>6</td>\n",
       "      <td>6</td>\n",
       "      <td>6</td>\n",
       "      <td>6</td>\n",
       "      <td>6</td>\n",
       "      <td>6</td>\n",
       "    </tr>\n",
       "    <tr>\n",
       "      <th>LAUREN SADLER</th>\n",
       "      <td>6</td>\n",
       "      <td>6</td>\n",
       "      <td>6</td>\n",
       "      <td>6</td>\n",
       "      <td>6</td>\n",
       "      <td>6</td>\n",
       "      <td>2</td>\n",
       "      <td>2</td>\n",
       "      <td>2</td>\n",
       "      <td>2</td>\n",
       "      <td>6</td>\n",
       "      <td>6</td>\n",
       "      <td>6</td>\n",
       "      <td>6</td>\n",
       "      <td>6</td>\n",
       "      <td>6</td>\n",
       "      <td>6</td>\n",
       "    </tr>\n",
       "    <tr>\n",
       "      <th>LEILA TUNNELL</th>\n",
       "      <td>5</td>\n",
       "      <td>5</td>\n",
       "      <td>5</td>\n",
       "      <td>5</td>\n",
       "      <td>5</td>\n",
       "      <td>5</td>\n",
       "      <td>2</td>\n",
       "      <td>2</td>\n",
       "      <td>2</td>\n",
       "      <td>2</td>\n",
       "      <td>5</td>\n",
       "      <td>5</td>\n",
       "      <td>5</td>\n",
       "      <td>5</td>\n",
       "      <td>5</td>\n",
       "      <td>5</td>\n",
       "      <td>5</td>\n",
       "    </tr>\n",
       "    <tr>\n",
       "      <th>LIEN HOFFMANN</th>\n",
       "      <td>5</td>\n",
       "      <td>5</td>\n",
       "      <td>5</td>\n",
       "      <td>5</td>\n",
       "      <td>5</td>\n",
       "      <td>5</td>\n",
       "      <td>1</td>\n",
       "      <td>1</td>\n",
       "      <td>1</td>\n",
       "      <td>1</td>\n",
       "      <td>5</td>\n",
       "      <td>5</td>\n",
       "      <td>5</td>\n",
       "      <td>5</td>\n",
       "      <td>5</td>\n",
       "      <td>5</td>\n",
       "      <td>5</td>\n",
       "    </tr>\n",
       "    <tr>\n",
       "      <th>MAGGIE RUDEN</th>\n",
       "      <td>8</td>\n",
       "      <td>7</td>\n",
       "      <td>8</td>\n",
       "      <td>8</td>\n",
       "      <td>8</td>\n",
       "      <td>8</td>\n",
       "      <td>2</td>\n",
       "      <td>2</td>\n",
       "      <td>2</td>\n",
       "      <td>2</td>\n",
       "      <td>8</td>\n",
       "      <td>8</td>\n",
       "      <td>8</td>\n",
       "      <td>7</td>\n",
       "      <td>8</td>\n",
       "      <td>8</td>\n",
       "      <td>8</td>\n",
       "    </tr>\n",
       "    <tr>\n",
       "      <th>MIRA WALKER</th>\n",
       "      <td>6</td>\n",
       "      <td>6</td>\n",
       "      <td>6</td>\n",
       "      <td>6</td>\n",
       "      <td>6</td>\n",
       "      <td>6</td>\n",
       "      <td>2</td>\n",
       "      <td>2</td>\n",
       "      <td>2</td>\n",
       "      <td>2</td>\n",
       "      <td>6</td>\n",
       "      <td>6</td>\n",
       "      <td>6</td>\n",
       "      <td>6</td>\n",
       "      <td>6</td>\n",
       "      <td>6</td>\n",
       "      <td>6</td>\n",
       "    </tr>\n",
       "    <tr>\n",
       "      <th>OCTAVIA PAYNE</th>\n",
       "      <td>8</td>\n",
       "      <td>8</td>\n",
       "      <td>8</td>\n",
       "      <td>8</td>\n",
       "      <td>8</td>\n",
       "      <td>8</td>\n",
       "      <td>3</td>\n",
       "      <td>3</td>\n",
       "      <td>3</td>\n",
       "      <td>3</td>\n",
       "      <td>8</td>\n",
       "      <td>8</td>\n",
       "      <td>8</td>\n",
       "      <td>7</td>\n",
       "      <td>8</td>\n",
       "      <td>8</td>\n",
       "      <td>8</td>\n",
       "    </tr>\n",
       "    <tr>\n",
       "      <th>ROHRE TITCOMB</th>\n",
       "      <td>9</td>\n",
       "      <td>8</td>\n",
       "      <td>9</td>\n",
       "      <td>9</td>\n",
       "      <td>9</td>\n",
       "      <td>9</td>\n",
       "      <td>3</td>\n",
       "      <td>3</td>\n",
       "      <td>3</td>\n",
       "      <td>3</td>\n",
       "      <td>9</td>\n",
       "      <td>9</td>\n",
       "      <td>9</td>\n",
       "      <td>8</td>\n",
       "      <td>9</td>\n",
       "      <td>9</td>\n",
       "      <td>9</td>\n",
       "    </tr>\n",
       "    <tr>\n",
       "      <th>SARAH GRIFFITH</th>\n",
       "      <td>10</td>\n",
       "      <td>9</td>\n",
       "      <td>10</td>\n",
       "      <td>10</td>\n",
       "      <td>10</td>\n",
       "      <td>10</td>\n",
       "      <td>3</td>\n",
       "      <td>3</td>\n",
       "      <td>3</td>\n",
       "      <td>3</td>\n",
       "      <td>10</td>\n",
       "      <td>10</td>\n",
       "      <td>10</td>\n",
       "      <td>8</td>\n",
       "      <td>10</td>\n",
       "      <td>10</td>\n",
       "      <td>10</td>\n",
       "    </tr>\n",
       "    <tr>\n",
       "      <th>TINA SNODGRASS</th>\n",
       "      <td>2</td>\n",
       "      <td>2</td>\n",
       "      <td>2</td>\n",
       "      <td>2</td>\n",
       "      <td>2</td>\n",
       "      <td>2</td>\n",
       "      <td>1</td>\n",
       "      <td>1</td>\n",
       "      <td>1</td>\n",
       "      <td>1</td>\n",
       "      <td>2</td>\n",
       "      <td>2</td>\n",
       "      <td>2</td>\n",
       "      <td>2</td>\n",
       "      <td>2</td>\n",
       "      <td>2</td>\n",
       "      <td>2</td>\n",
       "    </tr>\n",
       "  </tbody>\n",
       "</table>\n",
       "</div>"
      ],
      "text/plain": [
       "                  Team  Number  Goal  GPG  Assist  APG  Block  BPG  Turn  TPG  \\\n",
       "Name                                                                            \n",
       "ALEX SNYDER         10       9    10   10      10   10      2    2     2    2   \n",
       "AMBER SINICROPE      4       4     4    4       4    4      1    1     1    1   \n",
       "ANNA NAZAROV         8       7     8    8       8    8      2    2     2    2   \n",
       "CALISE CARDENAS      9       8     9    9       9    9      3    3     3    3   \n",
       "CLAIRE CHASTAIN      6       6     6    6       6    6      3    3     3    3   \n",
       "CLAIRE DESMOND       7       6     7    7       7    7      2    2     2    2   \n",
       "DENA SLATTERY        4       4     4    4       4    4      1    1     1    1   \n",
       "GEORGIA BOSSCHER     5       5     5    5       5    5      1    1     1    1   \n",
       "HANA KAWAI           9       8     9    9       9    9      3    3     3    3   \n",
       "JENNY FEY            5       5     5    5       5    5      2    2     2    2   \n",
       "KAELA JORGENSON      9       8     9    9       9    9      2    2     2    2   \n",
       "KAMI GROOM           6       6     6    6       6    6      1    1     1    1   \n",
       "KATEY FORTH          8       8     8    8       8    8      3    3     3    3   \n",
       "KATY CRALEY          6       6     6    6       6    6      3    3     3    3   \n",
       "LAUREN SADLER        6       6     6    6       6    6      2    2     2    2   \n",
       "LEILA TUNNELL        5       5     5    5       5    5      2    2     2    2   \n",
       "LIEN HOFFMANN        5       5     5    5       5    5      1    1     1    1   \n",
       "MAGGIE RUDEN         8       7     8    8       8    8      2    2     2    2   \n",
       "MIRA WALKER          6       6     6    6       6    6      2    2     2    2   \n",
       "OCTAVIA PAYNE        8       8     8    8       8    8      3    3     3    3   \n",
       "ROHRE TITCOMB        9       8     9    9       9    9      3    3     3    3   \n",
       "SARAH GRIFFITH      10       9    10   10      10   10      3    3     3    3   \n",
       "TINA SNODGRASS       2       2     2    2       2    2      1    1     1    1   \n",
       "\n",
       "                  Games  Tournament  Standing  Spirit  wg13  wugc16_tryouts  \\\n",
       "Name                                                                          \n",
       "ALEX SNYDER          10          10        10       8    10              10   \n",
       "AMBER SINICROPE       4           4         4       4     4               4   \n",
       "ANNA NAZAROV          8           8         8       7     8               8   \n",
       "CALISE CARDENAS       9           9         9       8     9               9   \n",
       "CLAIRE CHASTAIN       6           6         6       6     6               6   \n",
       "CLAIRE DESMOND        7           7         7       6     7               7   \n",
       "DENA SLATTERY         4           4         4       4     4               4   \n",
       "GEORGIA BOSSCHER      5           5         5       4     5               5   \n",
       "HANA KAWAI            9           9         9       8     9               9   \n",
       "JENNY FEY             5           5         5       5     5               5   \n",
       "KAELA JORGENSON       9           9         9       8     9               9   \n",
       "KAMI GROOM            6           6         6       6     6               6   \n",
       "KATEY FORTH           8           8         8       8     8               8   \n",
       "KATY CRALEY           6           6         6       6     6               6   \n",
       "LAUREN SADLER         6           6         6       6     6               6   \n",
       "LEILA TUNNELL         5           5         5       5     5               5   \n",
       "LIEN HOFFMANN         5           5         5       5     5               5   \n",
       "MAGGIE RUDEN          8           8         8       7     8               8   \n",
       "MIRA WALKER           6           6         6       6     6               6   \n",
       "OCTAVIA PAYNE         8           8         8       7     8               8   \n",
       "ROHRE TITCOMB         9           9         9       8     9               9   \n",
       "SARAH GRIFFITH       10          10        10       8    10              10   \n",
       "TINA SNODGRASS        2           2         2       2     2               2   \n",
       "\n",
       "                  Team_WUGC16  \n",
       "Name                           \n",
       "ALEX SNYDER                10  \n",
       "AMBER SINICROPE             4  \n",
       "ANNA NAZAROV                8  \n",
       "CALISE CARDENAS             9  \n",
       "CLAIRE CHASTAIN             6  \n",
       "CLAIRE DESMOND              7  \n",
       "DENA SLATTERY               4  \n",
       "GEORGIA BOSSCHER            5  \n",
       "HANA KAWAI                  9  \n",
       "JENNY FEY                   5  \n",
       "KAELA JORGENSON             9  \n",
       "KAMI GROOM                  6  \n",
       "KATEY FORTH                 8  \n",
       "KATY CRALEY                 6  \n",
       "LAUREN SADLER               6  \n",
       "LEILA TUNNELL               5  \n",
       "LIEN HOFFMANN               5  \n",
       "MAGGIE RUDEN                8  \n",
       "MIRA WALKER                 6  \n",
       "OCTAVIA PAYNE               8  \n",
       "ROHRE TITCOMB               9  \n",
       "SARAH GRIFFITH             10  \n",
       "TINA SNODGRASS              2  "
      ]
     },
     "execution_count": 210,
     "metadata": {},
     "output_type": "execute_result"
    }
   ],
   "source": [
    "us_stat[us_stat.Team_WUGC16 == 1].groupby('Name').count()"
   ]
  },
  {
   "cell_type": "markdown",
   "metadata": {},
   "source": [
    "## Save to csv"
   ]
  },
  {
   "cell_type": "code",
   "execution_count": 211,
   "metadata": {
    "collapsed": true
   },
   "outputs": [],
   "source": [
    "# save df as csv\n",
    "us_stat.to_csv('us_stat.csv', sep=',', encoding='utf-8')"
   ]
  },
  {
   "cell_type": "code",
   "execution_count": null,
   "metadata": {
    "collapsed": true
   },
   "outputs": [],
   "source": []
  }
 ],
 "metadata": {
  "kernelspec": {
   "display_name": "Python 2",
   "language": "python",
   "name": "python2"
  },
  "language_info": {
   "codemirror_mode": {
    "name": "ipython",
    "version": 2
   },
   "file_extension": ".py",
   "mimetype": "text/x-python",
   "name": "python",
   "nbconvert_exporter": "python",
   "pygments_lexer": "ipython2",
   "version": "2.7.11"
  }
 },
 "nbformat": 4,
 "nbformat_minor": 0
}
