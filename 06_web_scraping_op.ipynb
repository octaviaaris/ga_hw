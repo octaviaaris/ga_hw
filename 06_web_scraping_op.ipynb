{
 "cells": [
  {
   "cell_type": "markdown",
   "metadata": {},
   "source": [
    "# Web Scraping with BeautifulSoup\n",
    "http://www.crummy.com/software/BeautifulSoup/bs4/doc/#"
   ]
  },
  {
   "cell_type": "markdown",
   "metadata": {},
   "source": [
    "What is web scraping?\n",
    "- Extracting information from websites (simulates a human copying and pasting)\n",
    "- Based on finding patterns in website code (usually HTML)\n",
    "\n",
    "What are best practices for web scraping?\n",
    "- Scraping too many pages too fast can get your IP address blocked\n",
    "- Pay attention to the robots exclusion standard (robots.txt)\n",
    "- Let's look at http://www.imdb.com/robots.txt\n",
    "\n",
    "What is HTML?\n",
    "- Code interpreted by a web browser to produce (\"render\") a web page\n",
    "- Let's look at example.html\n",
    "- Tags are opened and closed\n",
    "- Tags have optional attributes\n",
    "\n",
    "How to view HTML code:\n",
    "- To view the entire page: \"View Source\" or \"View Page Source\" or \"Show Page Source\"\n",
    "- To view a specific part: \"Inspect Element\"\n",
    "- Safari users: Safari menu, Preferences, Advanced, Show Develop menu in menu bar\n",
    "- Let's inspect example.html"
   ]
  },
  {
   "cell_type": "markdown",
   "metadata": {},
   "source": [
    "### Aquire Your Data"
   ]
  },
  {
   "cell_type": "code",
   "execution_count": 228,
   "metadata": {
    "collapsed": false
   },
   "outputs": [],
   "source": [
    "# read the HTML code for a web page and save as a string\n",
    "with open('../DAT-DC-10/data/example.html', 'rU') as f:\n",
    "    html = f.read()"
   ]
  },
  {
   "cell_type": "markdown",
   "metadata": {},
   "source": [
    "### Look at / Explorre Your Data (html)"
   ]
  },
  {
   "cell_type": "code",
   "execution_count": 229,
   "metadata": {
    "collapsed": false
   },
   "outputs": [],
   "source": [
    "print html"
   ]
  },
  {
   "cell_type": "code",
   "execution_count": 230,
   "metadata": {
    "collapsed": false
   },
   "outputs": [],
   "source": [
    "# convert HTML into a structured Soup object\n",
    "from bs4 import BeautifulSoup\n",
    "b = BeautifulSoup(html, 'html.parser')"
   ]
  },
  {
   "cell_type": "code",
   "execution_count": 344,
   "metadata": {
    "collapsed": false
   },
   "outputs": [],
   "source": [
    "# print out the object\n",
    "# print b\n",
    "# print b.prettify()"
   ]
  },
  {
   "cell_type": "markdown",
   "metadata": {},
   "source": [
    "#### 'find' method returns the first matching Tag (and everything inside of it)"
   ]
  },
  {
   "cell_type": "code",
   "execution_count": 232,
   "metadata": {
    "collapsed": false
   },
   "outputs": [
    {
     "data": {
      "text/plain": [
       "<h1 id=\"main\">DAT10 Class 6</h1>"
      ]
     },
     "execution_count": 232,
     "metadata": {},
     "output_type": "execute_result"
    }
   ],
   "source": [
    "# b.find(name='body')\n",
    "b.find(name='h1')\n"
   ]
  },
  {
   "cell_type": "code",
   "execution_count": 233,
   "metadata": {
    "collapsed": false
   },
   "outputs": [
    {
     "data": {
      "text/plain": [
       "u'DAT10 Class 6'"
      ]
     },
     "execution_count": 233,
     "metadata": {},
     "output_type": "execute_result"
    }
   ],
   "source": [
    "# Tags allow you to access the 'inside text'\n",
    "b.find(name='h1').text"
   ]
  },
  {
   "cell_type": "code",
   "execution_count": 234,
   "metadata": {
    "collapsed": false
   },
   "outputs": [
    {
     "data": {
      "text/plain": [
       "u'main'"
      ]
     },
     "execution_count": 234,
     "metadata": {},
     "output_type": "execute_result"
    }
   ],
   "source": [
    "# Tags also allow you to access their attributes\n",
    "b.find(name='h1')['id']"
   ]
  },
  {
   "cell_type": "markdown",
   "metadata": {},
   "source": [
    "#### 'find_all' method is useful for finding all matching Tags"
   ]
  },
  {
   "cell_type": "code",
   "execution_count": 235,
   "metadata": {
    "collapsed": false
   },
   "outputs": [
    {
     "data": {
      "text/plain": [
       "[<p class=\"topic\" id=\"api\">First, we are covering APIs, which are useful for getting data.</p>,\n",
       " <p class=\"topic\" id=\"scraping\">Then, we are covering web scraping, which is a more flexible way to get data.</p>,\n",
       " <p class=\"topic\" id=\"feedback\">Finally, I will ask you to fill out yet another feedback form!</p>,\n",
       " <p>Here are some helpful API resources:</p>,\n",
       " <p>Here are some helpful web scraping resources:</p>]"
      ]
     },
     "execution_count": 235,
     "metadata": {},
     "output_type": "execute_result"
    }
   ],
   "source": [
    "b.find_all(name='p')    # returns a ResultSet (like a list of Tags)"
   ]
  },
  {
   "cell_type": "markdown",
   "metadata": {},
   "source": [
    "### Quiz: What is the datatype returned by 'find_all'? What kinds of operations can we do on that datatype?"
   ]
  },
  {
   "cell_type": "code",
   "execution_count": null,
   "metadata": {
    "collapsed": false
   },
   "outputs": [],
   "source": []
  },
  {
   "cell_type": "markdown",
   "metadata": {},
   "source": [
    "Hint: ResultSets can be sliced"
   ]
  },
  {
   "cell_type": "code",
   "execution_count": 270,
   "metadata": {
    "collapsed": false
   },
   "outputs": [
    {
     "data": {
      "text/plain": [
       "<p class=\"navCategory\">\\n<a href=\"/movies-in-theaters/?ref_=nv_tp_inth_1\">Movies</a>,\\n                <a href=\"/chart/toptv/?ref_=nv_tp_tv250_2\">TV</a><br/>\\n                &amp; <a href=\"/showtimes/?ref_=nv_tp_sh_3\">Showtimes</a></p>"
      ]
     },
     "execution_count": 270,
     "metadata": {},
     "output_type": "execute_result"
    }
   ],
   "source": [
    "# len(b.find_all(name='p'))\n",
    "# b.find_all(name='p')[0]\n",
    "# b.find_all(name='p')[0].text\n",
    "# b.find_all(name='p')[0]['id']\n",
    "# b.find_all(name='body')"
   ]
  },
  {
   "cell_type": "code",
   "execution_count": 237,
   "metadata": {
    "collapsed": false
   },
   "outputs": [],
   "source": [
    "# iterate over a ResultSet\n",
    "results = b.find_all(name='body')\n",
    "for tag in results:\n",
    "    print tag.text"
   ]
  },
  {
   "cell_type": "code",
   "execution_count": 238,
   "metadata": {
    "collapsed": false
   },
   "outputs": [
    {
     "data": {
      "text/plain": [
       "u'First, we are covering APIs, which are useful for getting data.\\nThen, we are covering web scraping, which is a more flexible way to get data.\\nFinally, I will ask you to fill out yet another feedback form!\\nHere are some helpful API resources:\\nHere are some helpful web scraping resources:'"
      ]
     },
     "execution_count": 238,
     "metadata": {},
     "output_type": "execute_result"
    }
   ],
   "source": [
    "# Make a string with each tag.text seperated by a new line character '\\n'\n",
    "\n",
    "'\\n'.join(tag.text for tag in b.find_all(name='p'))"
   ]
  },
  {
   "cell_type": "code",
   "execution_count": null,
   "metadata": {
    "collapsed": true
   },
   "outputs": [],
   "source": []
  },
  {
   "cell_type": "markdown",
   "metadata": {},
   "source": [
    "### Quiz: How would you write the above as a list comprenhension?"
   ]
  },
  {
   "cell_type": "code",
   "execution_count": null,
   "metadata": {
    "collapsed": true
   },
   "outputs": [],
   "source": []
  },
  {
   "cell_type": "markdown",
   "metadata": {},
   "source": [
    "### Limit search by Tag attribute"
   ]
  },
  {
   "cell_type": "code",
   "execution_count": 239,
   "metadata": {
    "collapsed": false
   },
   "outputs": [
    {
     "data": {
      "text/plain": [
       "<p class=\"topic\" id=\"scraping\">Then, we are covering web scraping, which is a more flexible way to get data.</p>"
      ]
     },
     "execution_count": 239,
     "metadata": {},
     "output_type": "execute_result"
    }
   ],
   "source": [
    "b.find(name='p', attrs={'id':'scraping'})"
   ]
  },
  {
   "cell_type": "code",
   "execution_count": 240,
   "metadata": {
    "collapsed": false
   },
   "outputs": [
    {
     "data": {
      "text/plain": [
       "[<p class=\"topic\" id=\"api\">First, we are covering APIs, which are useful for getting data.</p>,\n",
       " <p class=\"topic\" id=\"scraping\">Then, we are covering web scraping, which is a more flexible way to get data.</p>,\n",
       " <p class=\"topic\" id=\"feedback\">Finally, I will ask you to fill out yet another feedback form!</p>]"
      ]
     },
     "execution_count": 240,
     "metadata": {},
     "output_type": "execute_result"
    }
   ],
   "source": [
    "b.find_all(name='p', attrs={'class':'topic'})\n",
    "# b.find_all(attrs={'class':'topic'})"
   ]
  },
  {
   "cell_type": "markdown",
   "metadata": {},
   "source": [
    "### Limit search to specific sections"
   ]
  },
  {
   "cell_type": "code",
   "execution_count": 241,
   "metadata": {
    "collapsed": false
   },
   "outputs": [
    {
     "data": {
      "text/plain": [
       "[<li>Web scraping resource 1</li>, <li>Web scraping resource 2</li>]"
      ]
     },
     "execution_count": 241,
     "metadata": {},
     "output_type": "execute_result"
    }
   ],
   "source": [
    "b.find_all(name='li')\n",
    "b.find(name='ul', attrs={'id':'scraping'}).find_all(name='li')"
   ]
  },
  {
   "cell_type": "markdown",
   "metadata": {},
   "source": [
    "## In Class Exercise"
   ]
  },
  {
   "cell_type": "markdown",
   "metadata": {},
   "source": [
    "1) Find the 'h2' tag and then print its text"
   ]
  },
  {
   "cell_type": "code",
   "execution_count": 242,
   "metadata": {
    "collapsed": false
   },
   "outputs": [
    {
     "data": {
      "text/plain": [
       "u'Resource List'"
      ]
     },
     "execution_count": 242,
     "metadata": {},
     "output_type": "execute_result"
    }
   ],
   "source": [
    "b.find(name='h2').text"
   ]
  },
  {
   "cell_type": "markdown",
   "metadata": {},
   "source": [
    "2) Find the 'p' tag with an 'id' value of 'feedback' and then print its text\n"
   ]
  },
  {
   "cell_type": "code",
   "execution_count": 243,
   "metadata": {
    "collapsed": false
   },
   "outputs": [
    {
     "data": {
      "text/plain": [
       "u'Finally, I will ask you to fill out yet another feedback form!'"
      ]
     },
     "execution_count": 243,
     "metadata": {},
     "output_type": "execute_result"
    }
   ],
   "source": [
    "b.find(name='p', attrs={'id':'feedback'}).text"
   ]
  },
  {
   "cell_type": "markdown",
   "metadata": {},
   "source": [
    "3) Find the first 'p' tag and then print the value of the 'id' attribute\n"
   ]
  },
  {
   "cell_type": "code",
   "execution_count": 244,
   "metadata": {
    "collapsed": false
   },
   "outputs": [
    {
     "data": {
      "text/plain": [
       "u'api'"
      ]
     },
     "execution_count": 244,
     "metadata": {},
     "output_type": "execute_result"
    }
   ],
   "source": [
    "b.find(name='p')['id']"
   ]
  },
  {
   "cell_type": "markdown",
   "metadata": {},
   "source": [
    "4) Print the text of all four resources"
   ]
  },
  {
   "cell_type": "code",
   "execution_count": 245,
   "metadata": {
    "collapsed": false
   },
   "outputs": [
    {
     "data": {
      "text/plain": [
       "[u'API resource 1',\n",
       " u'API resource 2',\n",
       " u'Web scraping resource 1',\n",
       " u'Web scraping resource 2']"
      ]
     },
     "execution_count": 245,
     "metadata": {},
     "output_type": "execute_result"
    }
   ],
   "source": [
    "[tag.text for tag in b.find_all(name='li')]"
   ]
  },
  {
   "cell_type": "markdown",
   "metadata": {},
   "source": [
    "5) Using a list comprehension can you extract the text of only the API resources?"
   ]
  },
  {
   "cell_type": "code",
   "execution_count": 246,
   "metadata": {
    "collapsed": false
   },
   "outputs": [
    {
     "data": {
      "text/plain": [
       "[u'API resource 1', u'API resource 2']"
      ]
     },
     "execution_count": 246,
     "metadata": {},
     "output_type": "execute_result"
    }
   ],
   "source": [
    "[tag.text for tag in b.find_all(name='li') if 'API' in tag.text]"
   ]
  },
  {
   "cell_type": "markdown",
   "metadata": {},
   "source": [
    "### Tool: Selector Gadget\n",
    "http://selectorgadget.com/"
   ]
  },
  {
   "cell_type": "markdown",
   "metadata": {},
   "source": [
    "## Scraping IMDb"
   ]
  },
  {
   "cell_type": "markdown",
   "metadata": {},
   "source": [
    "#### First open your browser and look at the website and the html structure\n",
    "\n",
    "http://www.imdb.com/title/tt0111161/"
   ]
  },
  {
   "cell_type": "markdown",
   "metadata": {},
   "source": [
    "#### Get the HTML from the Shawshank Redemption page"
   ]
  },
  {
   "cell_type": "code",
   "execution_count": 247,
   "metadata": {
    "collapsed": true
   },
   "outputs": [],
   "source": [
    "import requests\n",
    "r = requests.get('http://www.imdb.com/title/tt0111161/')"
   ]
  },
  {
   "cell_type": "markdown",
   "metadata": {},
   "source": [
    "#### What is r? What can we do with it?"
   ]
  },
  {
   "cell_type": "code",
   "execution_count": 248,
   "metadata": {
    "collapsed": false
   },
   "outputs": [
    {
     "data": {
      "text/plain": [
       "<Response [200]>"
      ]
     },
     "execution_count": 248,
     "metadata": {},
     "output_type": "execute_result"
    }
   ],
   "source": [
    "r"
   ]
  },
  {
   "cell_type": "markdown",
   "metadata": {},
   "source": [
    "#### convert HTML into Soup"
   ]
  },
  {
   "cell_type": "code",
   "execution_count": 249,
   "metadata": {
    "collapsed": false
   },
   "outputs": [],
   "source": [
    "b = BeautifulSoup(r.text, 'html.parser')\n",
    "# print b"
   ]
  },
  {
   "cell_type": "code",
   "execution_count": 250,
   "metadata": {
    "collapsed": true
   },
   "outputs": [],
   "source": [
    "# run this code if you have encoding errors\n",
    "import sys\n",
    "reload(sys)\n",
    "sys.setdefaultencoding('utf8')"
   ]
  },
  {
   "cell_type": "markdown",
   "metadata": {},
   "source": [
    "#### Get the title"
   ]
  },
  {
   "cell_type": "code",
   "execution_count": 251,
   "metadata": {
    "collapsed": false
   },
   "outputs": [
    {
     "data": {
      "text/plain": [
       "u'The Shawshank Redemption\\n                   (1994)\\n                   \\n'"
      ]
     },
     "execution_count": 251,
     "metadata": {},
     "output_type": "execute_result"
    }
   ],
   "source": [
    "b.find('h1').text"
   ]
  },
  {
   "cell_type": "markdown",
   "metadata": {},
   "source": [
    "#### Get the Star Rating (as a float)"
   ]
  },
  {
   "cell_type": "code",
   "execution_count": 252,
   "metadata": {
    "collapsed": false
   },
   "outputs": [
    {
     "data": {
      "text/plain": [
       "9.3"
      ]
     },
     "execution_count": 252,
     "metadata": {},
     "output_type": "execute_result"
    }
   ],
   "source": [
    "# get the star rating (as a float)\n",
    "float(b.find(name='span', attrs={'itemprop':'ratingValue'}).text)\n"
   ]
  },
  {
   "cell_type": "markdown",
   "metadata": {},
   "source": [
    "#### Get the Movie Rating"
   ]
  },
  {
   "cell_type": "code",
   "execution_count": 253,
   "metadata": {
    "collapsed": false
   },
   "outputs": [
    {
     "data": {
      "text/plain": [
       "u'R\\n| \\n                        2h 22min\\n                    \\n|\\nCrime, \\nDrama\\n|\\n14 October 1994 (USA)\\n\\n '"
      ]
     },
     "execution_count": 253,
     "metadata": {},
     "output_type": "execute_result"
    }
   ],
   "source": [
    "panel = b.find('meta', attrs={'itemprop':'contentRating'}) # too many\n",
    "panel.text"
   ]
  },
  {
   "cell_type": "code",
   "execution_count": 290,
   "metadata": {
    "collapsed": true
   },
   "outputs": [],
   "source": [
    "# Using the Omdbapi, request all years of the 1000 movies in the CSV. Answer the questions below.\n",
    "import pandas as pd\n",
    "movies = pd.read_csv('../DAT-DC-10/data/imdb_1000.csv')\n",
    "top_50 = movies.head(50).copy()\n",
    "\n",
    "import requests\n",
    "\n",
    "def get_movie_year(title):\n",
    "    r = requests.get('http://www.omdbapi.com/?t=' + title + '&r=json&type=movie')\n",
    "    info = r.json()\n",
    "    if info['Response'] == 'True':\n",
    "        try:\n",
    "            return int(info['Year'])\n",
    "        except:\n",
    "            'NA'\n",
    "\n",
    "from time import sleep\n",
    "years = []\n",
    "for title in top_50.title:\n",
    "    years.append(get_movie_year(title))\n",
    "    sleep(3)"
   ]
  },
  {
   "cell_type": "code",
   "execution_count": 291,
   "metadata": {
    "collapsed": false
   },
   "outputs": [
    {
     "data": {
      "text/plain": [
       "50"
      ]
     },
     "execution_count": 291,
     "metadata": {},
     "output_type": "execute_result"
    }
   ],
   "source": [
    "len(years)"
   ]
  },
  {
   "cell_type": "code",
   "execution_count": 292,
   "metadata": {
    "collapsed": false
   },
   "outputs": [
    {
     "data": {
      "text/html": [
       "<div>\n",
       "<table border=\"1\" class=\"dataframe\">\n",
       "  <thead>\n",
       "    <tr style=\"text-align: right;\">\n",
       "      <th></th>\n",
       "      <th>star_rating</th>\n",
       "      <th>title</th>\n",
       "      <th>content_rating</th>\n",
       "      <th>genre</th>\n",
       "      <th>duration</th>\n",
       "      <th>actors_list</th>\n",
       "      <th>Year</th>\n",
       "    </tr>\n",
       "  </thead>\n",
       "  <tbody>\n",
       "    <tr>\n",
       "      <th>45</th>\n",
       "      <td>8.5</td>\n",
       "      <td>Terminator 2: Judgment Day</td>\n",
       "      <td>R</td>\n",
       "      <td>Action</td>\n",
       "      <td>137</td>\n",
       "      <td>[u'Arnold Schwarzenegger', u'Linda Hamilton', ...</td>\n",
       "      <td>1991</td>\n",
       "    </tr>\n",
       "    <tr>\n",
       "      <th>46</th>\n",
       "      <td>8.5</td>\n",
       "      <td>Memento</td>\n",
       "      <td>R</td>\n",
       "      <td>Mystery</td>\n",
       "      <td>113</td>\n",
       "      <td>[u'Guy Pearce', u'Carrie-Anne Moss', u'Joe Pan...</td>\n",
       "      <td>2000</td>\n",
       "    </tr>\n",
       "    <tr>\n",
       "      <th>47</th>\n",
       "      <td>8.5</td>\n",
       "      <td>Taare Zameen Par</td>\n",
       "      <td>PG</td>\n",
       "      <td>Drama</td>\n",
       "      <td>165</td>\n",
       "      <td>[u'Darsheel Safary', u'Aamir Khan', u'Tanay Ch...</td>\n",
       "      <td>NaN</td>\n",
       "    </tr>\n",
       "    <tr>\n",
       "      <th>48</th>\n",
       "      <td>8.5</td>\n",
       "      <td>Dr. Strangelove or: How I Learned to Stop Worr...</td>\n",
       "      <td>PG</td>\n",
       "      <td>Comedy</td>\n",
       "      <td>95</td>\n",
       "      <td>[u'Peter Sellers', u'George C. Scott', u'Sterl...</td>\n",
       "      <td>1964</td>\n",
       "    </tr>\n",
       "    <tr>\n",
       "      <th>49</th>\n",
       "      <td>8.5</td>\n",
       "      <td>The Departed</td>\n",
       "      <td>R</td>\n",
       "      <td>Crime</td>\n",
       "      <td>151</td>\n",
       "      <td>[u'Leonardo DiCaprio', u'Matt Damon', u'Jack N...</td>\n",
       "      <td>2006</td>\n",
       "    </tr>\n",
       "  </tbody>\n",
       "</table>\n",
       "</div>"
      ],
      "text/plain": [
       "    star_rating                                              title  \\\n",
       "45          8.5                         Terminator 2: Judgment Day   \n",
       "46          8.5                                            Memento   \n",
       "47          8.5                                   Taare Zameen Par   \n",
       "48          8.5  Dr. Strangelove or: How I Learned to Stop Worr...   \n",
       "49          8.5                                       The Departed   \n",
       "\n",
       "   content_rating    genre  duration  \\\n",
       "45              R   Action       137   \n",
       "46              R  Mystery       113   \n",
       "47             PG    Drama       165   \n",
       "48             PG   Comedy        95   \n",
       "49              R    Crime       151   \n",
       "\n",
       "                                          actors_list  Year  \n",
       "45  [u'Arnold Schwarzenegger', u'Linda Hamilton', ...  1991  \n",
       "46  [u'Guy Pearce', u'Carrie-Anne Moss', u'Joe Pan...  2000  \n",
       "47  [u'Darsheel Safary', u'Aamir Khan', u'Tanay Ch...   NaN  \n",
       "48  [u'Peter Sellers', u'George C. Scott', u'Sterl...  1964  \n",
       "49  [u'Leonardo DiCaprio', u'Matt Damon', u'Jack N...  2006  "
      ]
     },
     "execution_count": 292,
     "metadata": {},
     "output_type": "execute_result"
    }
   ],
   "source": [
    "top_50[\"Year\"]=years\n",
    "top_50.tail(5)"
   ]
  },
  {
   "cell_type": "markdown",
   "metadata": {},
   "source": []
  },
  {
   "cell_type": "markdown",
   "metadata": {},
   "source": [
    "In-Class Exercise\n",
    "\n",
    "Intro Level:\n",
    "\n",
    "Using the Omdbapi, request all years of the 1000 movies in the CSV. Answer the questions below.\n",
    "\n",
    "Challege Challenge Level:\n",
    "\n",
    "Can you scrape the IMDB Top 250 list (http://www.imdb.com/chart/top?ref_=nv_mv_250_6) and return a Data frame with the movide name, rating, year and the unique movie identifier ie('tt0111161')? Use the function above to scrape each of the movie pages.\n",
    "\n",
    "Questions:\n",
    "How many of the Top movies are rated 'R'?\n",
    "What is the average duration of movies with a star_rating above 9?\n",
    "What is the average duration of movies before 1985 and after?"
   ]
  },
  {
   "cell_type": "code",
   "execution_count": 414,
   "metadata": {
    "collapsed": false
   },
   "outputs": [
    {
     "data": {
      "text/html": [
       "<div>\n",
       "<table border=\"1\" class=\"dataframe\">\n",
       "  <thead>\n",
       "    <tr style=\"text-align: right;\">\n",
       "      <th></th>\n",
       "      <th>Title</th>\n",
       "      <th>Year</th>\n",
       "      <th>Rating</th>\n",
       "      <th>UniqueID</th>\n",
       "    </tr>\n",
       "  </thead>\n",
       "  <tbody>\n",
       "    <tr>\n",
       "      <th>0</th>\n",
       "      <td>The Shawshank Redemption</td>\n",
       "      <td>1994</td>\n",
       "      <td>9.2</td>\n",
       "      <td>tt0111161</td>\n",
       "    </tr>\n",
       "    <tr>\n",
       "      <th>1</th>\n",
       "      <td>The Godfather</td>\n",
       "      <td>1972</td>\n",
       "      <td>9.2</td>\n",
       "      <td>tt0068646</td>\n",
       "    </tr>\n",
       "    <tr>\n",
       "      <th>2</th>\n",
       "      <td>The Godfather: Part II</td>\n",
       "      <td>1974</td>\n",
       "      <td>9.0</td>\n",
       "      <td>tt0071562</td>\n",
       "    </tr>\n",
       "    <tr>\n",
       "      <th>3</th>\n",
       "      <td>The Dark Knight</td>\n",
       "      <td>2008</td>\n",
       "      <td>8.9</td>\n",
       "      <td>tt0468569</td>\n",
       "    </tr>\n",
       "    <tr>\n",
       "      <th>4</th>\n",
       "      <td>12 Angry Men</td>\n",
       "      <td>1957</td>\n",
       "      <td>8.9</td>\n",
       "      <td>tt0050083</td>\n",
       "    </tr>\n",
       "  </tbody>\n",
       "</table>\n",
       "</div>"
      ],
      "text/plain": [
       "                      Title  Year  Rating   UniqueID\n",
       "0  The Shawshank Redemption  1994     9.2  tt0111161\n",
       "1             The Godfather  1972     9.2  tt0068646\n",
       "2    The Godfather: Part II  1974     9.0  tt0071562\n",
       "3           The Dark Knight  2008     8.9  tt0468569\n",
       "4              12 Angry Men  1957     8.9  tt0050083"
      ]
     },
     "execution_count": 414,
     "metadata": {},
     "output_type": "execute_result"
    }
   ],
   "source": [
    "# Can you scrape the IMDB Top 250 list (http://www.imdb.com/chart/top?ref_=nv_mv_250_6)\n",
    "# and return a Data frame with the movide name, rating, year and the unique movie identifier \n",
    "# ie('tt0111161')? Use the function above to scrape each of the movie pages.\n",
    "import pandas as pd\n",
    "\n",
    "r = requests.get('http://www.imdb.com/chart/top?ref_=nv_mv_250_6')\n",
    "imdb250 = BeautifulSoup(r.text, 'html.parser')\n",
    "\n",
    "# prepping list form which to pull title and year\n",
    "List = [item.text for item in imdb250.find_all(name='td', attrs={'class':'titleColumn'})]\n",
    "newList = [item.split('\\n') for item in List]\n",
    "\n",
    "# title\n",
    "titles = [item[2][6:] for item in newList]\n",
    "\n",
    "# year\n",
    "years = [int(item[3][1:5]) for item in newList]\n",
    "\n",
    "# rating\n",
    "ratingList = [item.text for item in imdb250.find_all(name='td', attrs={'class':'ratingColumn imdbRating'})]\n",
    "newList2 = [item.split('\\n') for item in ratingList]\n",
    "ratings = [float(item[1]) for item in newList2]\n",
    "\n",
    "# unique identifier\n",
    "# http://www.crummy.com/software/BeautifulSoup/bs4/doc/\n",
    "# imdb250.find_all(name='div', attrs={'class':'wlb_ribbon'})\n",
    "\n",
    "idList = [item.attrs['data-tconst'] for item in imdb250.find_all(name='div', attrs={'class':'wlb_ribbon'})]\n",
    "\n",
    "\n",
    "imdb_top250 = pd.DataFrame()\n",
    "imdb_top250['Title']=titles\n",
    "imdb_top250['Year']=years\n",
    "imdb_top250['Rating']=ratings\n",
    "imdb_top250['UniqueID']=idList\n",
    "imdb_top250.head(5)\n",
    "\n",
    "# # read the HTML code for a web page and save as a string\n",
    "# with open('../IMDbTop250.html', 'rU') as f:\n",
    "#     imdb250 = f.read()\n",
    "\n",
    "# type(imdb250)"
   ]
  },
  {
   "cell_type": "code",
   "execution_count": 442,
   "metadata": {
    "collapsed": false
   },
   "outputs": [
    {
     "data": {
      "text/html": [
       "<div>\n",
       "<table border=\"1\" class=\"dataframe\">\n",
       "  <thead>\n",
       "    <tr style=\"text-align: right;\">\n",
       "      <th></th>\n",
       "      <th>Title</th>\n",
       "      <th>Year</th>\n",
       "      <th>Rating</th>\n",
       "      <th>UniqueID</th>\n",
       "      <th>Content Rating</th>\n",
       "    </tr>\n",
       "  </thead>\n",
       "  <tbody>\n",
       "    <tr>\n",
       "      <th>0</th>\n",
       "      <td>The Shawshank Redemption</td>\n",
       "      <td>1994</td>\n",
       "      <td>9.2</td>\n",
       "      <td>tt0111161</td>\n",
       "      <td>R</td>\n",
       "    </tr>\n",
       "    <tr>\n",
       "      <th>1</th>\n",
       "      <td>The Godfather</td>\n",
       "      <td>1972</td>\n",
       "      <td>9.2</td>\n",
       "      <td>tt0068646</td>\n",
       "      <td>R</td>\n",
       "    </tr>\n",
       "    <tr>\n",
       "      <th>2</th>\n",
       "      <td>The Godfather: Part II</td>\n",
       "      <td>1974</td>\n",
       "      <td>9.0</td>\n",
       "      <td>tt0071562</td>\n",
       "      <td>R</td>\n",
       "    </tr>\n",
       "    <tr>\n",
       "      <th>3</th>\n",
       "      <td>The Dark Knight</td>\n",
       "      <td>2008</td>\n",
       "      <td>8.9</td>\n",
       "      <td>tt0468569</td>\n",
       "      <td>PG-13</td>\n",
       "    </tr>\n",
       "    <tr>\n",
       "      <th>4</th>\n",
       "      <td>12 Angry Men</td>\n",
       "      <td>1957</td>\n",
       "      <td>8.9</td>\n",
       "      <td>tt0050083</td>\n",
       "      <td>NOT RATED</td>\n",
       "    </tr>\n",
       "    <tr>\n",
       "      <th>5</th>\n",
       "      <td>Schindler's List</td>\n",
       "      <td>1993</td>\n",
       "      <td>8.9</td>\n",
       "      <td>tt0108052</td>\n",
       "      <td>R</td>\n",
       "    </tr>\n",
       "    <tr>\n",
       "      <th>6</th>\n",
       "      <td>Pulp Fiction</td>\n",
       "      <td>1994</td>\n",
       "      <td>8.9</td>\n",
       "      <td>tt0110912</td>\n",
       "      <td>R</td>\n",
       "    </tr>\n",
       "    <tr>\n",
       "      <th>7</th>\n",
       "      <td>The Good, the Bad and the Ugly</td>\n",
       "      <td>1966</td>\n",
       "      <td>8.9</td>\n",
       "      <td>tt0060196</td>\n",
       "      <td>NOT RATED</td>\n",
       "    </tr>\n",
       "    <tr>\n",
       "      <th>8</th>\n",
       "      <td>The Lord of the Rings: The Return of the King</td>\n",
       "      <td>2003</td>\n",
       "      <td>8.9</td>\n",
       "      <td>tt0167260</td>\n",
       "      <td>PG-13</td>\n",
       "    </tr>\n",
       "    <tr>\n",
       "      <th>9</th>\n",
       "      <td>Fight Club</td>\n",
       "      <td>1999</td>\n",
       "      <td>8.8</td>\n",
       "      <td>tt0137523</td>\n",
       "      <td>R</td>\n",
       "    </tr>\n",
       "    <tr>\n",
       "      <th>10</th>\n",
       "      <td>The Lord of the Rings: The Fellowship of the Ring</td>\n",
       "      <td>2001</td>\n",
       "      <td>8.8</td>\n",
       "      <td>tt0120737</td>\n",
       "      <td>PG-13</td>\n",
       "    </tr>\n",
       "    <tr>\n",
       "      <th>11</th>\n",
       "      <td>Star Wars: Episode V - The Empire Strikes Back</td>\n",
       "      <td>1980</td>\n",
       "      <td>8.7</td>\n",
       "      <td>tt0080684</td>\n",
       "      <td>PG</td>\n",
       "    </tr>\n",
       "    <tr>\n",
       "      <th>12</th>\n",
       "      <td>Forrest Gump</td>\n",
       "      <td>1994</td>\n",
       "      <td>8.7</td>\n",
       "      <td>tt0109830</td>\n",
       "      <td>PG-13</td>\n",
       "    </tr>\n",
       "    <tr>\n",
       "      <th>13</th>\n",
       "      <td>Inception</td>\n",
       "      <td>2010</td>\n",
       "      <td>8.7</td>\n",
       "      <td>tt1375666</td>\n",
       "      <td>PG-13</td>\n",
       "    </tr>\n",
       "    <tr>\n",
       "      <th>14</th>\n",
       "      <td>One Flew Over the Cuckoo's Nest</td>\n",
       "      <td>1975</td>\n",
       "      <td>8.7</td>\n",
       "      <td>tt0073486</td>\n",
       "      <td>R</td>\n",
       "    </tr>\n",
       "    <tr>\n",
       "      <th>15</th>\n",
       "      <td>The Lord of the Rings: The Two Towers</td>\n",
       "      <td>2002</td>\n",
       "      <td>8.7</td>\n",
       "      <td>tt0167261</td>\n",
       "      <td>PG-13</td>\n",
       "    </tr>\n",
       "    <tr>\n",
       "      <th>16</th>\n",
       "      <td>The Matrix</td>\n",
       "      <td>1999</td>\n",
       "      <td>8.7</td>\n",
       "      <td>tt0133093</td>\n",
       "      <td>R</td>\n",
       "    </tr>\n",
       "    <tr>\n",
       "      <th>17</th>\n",
       "      <td>Goodfellas</td>\n",
       "      <td>1990</td>\n",
       "      <td>8.7</td>\n",
       "      <td>tt0099685</td>\n",
       "      <td>R</td>\n",
       "    </tr>\n",
       "    <tr>\n",
       "      <th>18</th>\n",
       "      <td>Star Wars</td>\n",
       "      <td>1977</td>\n",
       "      <td>8.7</td>\n",
       "      <td>tt0076759</td>\n",
       "      <td>PG</td>\n",
       "    </tr>\n",
       "    <tr>\n",
       "      <th>19</th>\n",
       "      <td>Star Wars: The Force Awakens</td>\n",
       "      <td>2015</td>\n",
       "      <td>8.7</td>\n",
       "      <td>tt2488496</td>\n",
       "      <td>PG-13</td>\n",
       "    </tr>\n",
       "    <tr>\n",
       "      <th>20</th>\n",
       "      <td>Seven Samurai</td>\n",
       "      <td>1954</td>\n",
       "      <td>8.7</td>\n",
       "      <td>tt0047478</td>\n",
       "      <td>UNRATED</td>\n",
       "    </tr>\n",
       "    <tr>\n",
       "      <th>21</th>\n",
       "      <td>City of God</td>\n",
       "      <td>2002</td>\n",
       "      <td>8.6</td>\n",
       "      <td>tt0317248</td>\n",
       "      <td>R</td>\n",
       "    </tr>\n",
       "    <tr>\n",
       "      <th>22</th>\n",
       "      <td>Se7en</td>\n",
       "      <td>1995</td>\n",
       "      <td>8.6</td>\n",
       "      <td>tt0114369</td>\n",
       "      <td>R</td>\n",
       "    </tr>\n",
       "    <tr>\n",
       "      <th>23</th>\n",
       "      <td>The Silence of the Lambs</td>\n",
       "      <td>1991</td>\n",
       "      <td>8.6</td>\n",
       "      <td>tt0102926</td>\n",
       "      <td>R</td>\n",
       "    </tr>\n",
       "    <tr>\n",
       "      <th>24</th>\n",
       "      <td>The Usual Suspects</td>\n",
       "      <td>1995</td>\n",
       "      <td>8.6</td>\n",
       "      <td>tt0114814</td>\n",
       "      <td>R</td>\n",
       "    </tr>\n",
       "    <tr>\n",
       "      <th>25</th>\n",
       "      <td>It's a Wonderful Life</td>\n",
       "      <td>1946</td>\n",
       "      <td>8.6</td>\n",
       "      <td>tt0038650</td>\n",
       "      <td>APPROVED</td>\n",
       "    </tr>\n",
       "    <tr>\n",
       "      <th>26</th>\n",
       "      <td>Life Is Beautiful</td>\n",
       "      <td>1997</td>\n",
       "      <td>8.6</td>\n",
       "      <td>tt0118799</td>\n",
       "      <td>PG-13</td>\n",
       "    </tr>\n",
       "    <tr>\n",
       "      <th>27</th>\n",
       "      <td>Léon: The Professional</td>\n",
       "      <td>1994</td>\n",
       "      <td>8.6</td>\n",
       "      <td>tt0110413</td>\n",
       "      <td>R</td>\n",
       "    </tr>\n",
       "    <tr>\n",
       "      <th>28</th>\n",
       "      <td>Once Upon a Time in the West</td>\n",
       "      <td>1968</td>\n",
       "      <td>8.6</td>\n",
       "      <td>tt0064116</td>\n",
       "      <td>PG-13</td>\n",
       "    </tr>\n",
       "    <tr>\n",
       "      <th>29</th>\n",
       "      <td>Interstellar</td>\n",
       "      <td>2014</td>\n",
       "      <td>8.5</td>\n",
       "      <td>tt0816692</td>\n",
       "      <td>PG-13</td>\n",
       "    </tr>\n",
       "    <tr>\n",
       "      <th>...</th>\n",
       "      <td>...</td>\n",
       "      <td>...</td>\n",
       "      <td>...</td>\n",
       "      <td>...</td>\n",
       "      <td>...</td>\n",
       "    </tr>\n",
       "    <tr>\n",
       "      <th>220</th>\n",
       "      <td>Fanny and Alexander</td>\n",
       "      <td>1982</td>\n",
       "      <td>8.0</td>\n",
       "      <td>tt0083922</td>\n",
       "      <td>R</td>\n",
       "    </tr>\n",
       "    <tr>\n",
       "      <th>221</th>\n",
       "      <td>Throne of Blood</td>\n",
       "      <td>1957</td>\n",
       "      <td>8.0</td>\n",
       "      <td>tt0050613</td>\n",
       "      <td>UNRATED</td>\n",
       "    </tr>\n",
       "    <tr>\n",
       "      <th>222</th>\n",
       "      <td>La Haine</td>\n",
       "      <td>1995</td>\n",
       "      <td>8.0</td>\n",
       "      <td>tt0113247</td>\n",
       "      <td>NOT RATED</td>\n",
       "    </tr>\n",
       "    <tr>\n",
       "      <th>223</th>\n",
       "      <td>Guardians of the Galaxy</td>\n",
       "      <td>2014</td>\n",
       "      <td>8.0</td>\n",
       "      <td>tt2015381</td>\n",
       "      <td>PG-13</td>\n",
       "    </tr>\n",
       "    <tr>\n",
       "      <th>224</th>\n",
       "      <td>Yip Man</td>\n",
       "      <td>2008</td>\n",
       "      <td>8.0</td>\n",
       "      <td>tt1220719</td>\n",
       "      <td>R</td>\n",
       "    </tr>\n",
       "    <tr>\n",
       "      <th>225</th>\n",
       "      <td>The Imitation Game</td>\n",
       "      <td>2014</td>\n",
       "      <td>8.0</td>\n",
       "      <td>tt2084970</td>\n",
       "      <td>PG-13</td>\n",
       "    </tr>\n",
       "    <tr>\n",
       "      <th>226</th>\n",
       "      <td>The King's Speech</td>\n",
       "      <td>2010</td>\n",
       "      <td>8.0</td>\n",
       "      <td>tt1504320</td>\n",
       "      <td>R</td>\n",
       "    </tr>\n",
       "    <tr>\n",
       "      <th>227</th>\n",
       "      <td>High Noon</td>\n",
       "      <td>1952</td>\n",
       "      <td>8.0</td>\n",
       "      <td>tt0044706</td>\n",
       "      <td>PG</td>\n",
       "    </tr>\n",
       "    <tr>\n",
       "      <th>228</th>\n",
       "      <td>A Fistful of Dollars</td>\n",
       "      <td>1964</td>\n",
       "      <td>8.0</td>\n",
       "      <td>tt0058461</td>\n",
       "      <td>R</td>\n",
       "    </tr>\n",
       "    <tr>\n",
       "      <th>229</th>\n",
       "      <td>Prisoners</td>\n",
       "      <td>2013</td>\n",
       "      <td>8.0</td>\n",
       "      <td>tt1392214</td>\n",
       "      <td>R</td>\n",
       "    </tr>\n",
       "    <tr>\n",
       "      <th>230</th>\n",
       "      <td>Pirates of the Caribbean: The Curse of the Bla...</td>\n",
       "      <td>2003</td>\n",
       "      <td>8.0</td>\n",
       "      <td>tt0325980</td>\n",
       "      <td>PG-13</td>\n",
       "    </tr>\n",
       "    <tr>\n",
       "      <th>231</th>\n",
       "      <td>Castle in the Sky</td>\n",
       "      <td>1986</td>\n",
       "      <td>8.0</td>\n",
       "      <td>tt0092067</td>\n",
       "      <td>PG</td>\n",
       "    </tr>\n",
       "    <tr>\n",
       "      <th>232</th>\n",
       "      <td>The Help</td>\n",
       "      <td>2011</td>\n",
       "      <td>8.0</td>\n",
       "      <td>tt1454029</td>\n",
       "      <td>PG-13</td>\n",
       "    </tr>\n",
       "    <tr>\n",
       "      <th>233</th>\n",
       "      <td>Notorious</td>\n",
       "      <td>1946</td>\n",
       "      <td>8.0</td>\n",
       "      <td>tt0038787</td>\n",
       "      <td>APPROVED</td>\n",
       "    </tr>\n",
       "    <tr>\n",
       "      <th>234</th>\n",
       "      <td>Roman Holiday</td>\n",
       "      <td>1953</td>\n",
       "      <td>8.0</td>\n",
       "      <td>tt0046250</td>\n",
       "      <td>NOT RATED</td>\n",
       "    </tr>\n",
       "    <tr>\n",
       "      <th>235</th>\n",
       "      <td>Who's Afraid of Virginia Woolf?</td>\n",
       "      <td>1966</td>\n",
       "      <td>8.0</td>\n",
       "      <td>tt0061184</td>\n",
       "      <td>TV-MA</td>\n",
       "    </tr>\n",
       "    <tr>\n",
       "      <th>236</th>\n",
       "      <td>Spring, Summer, Fall, Winter... and Spring</td>\n",
       "      <td>2003</td>\n",
       "      <td>8.0</td>\n",
       "      <td>tt0374546</td>\n",
       "      <td>R</td>\n",
       "    </tr>\n",
       "    <tr>\n",
       "      <th>237</th>\n",
       "      <td>Papillon</td>\n",
       "      <td>1973</td>\n",
       "      <td>8.0</td>\n",
       "      <td>tt0070511</td>\n",
       "      <td>R</td>\n",
       "    </tr>\n",
       "    <tr>\n",
       "      <th>238</th>\n",
       "      <td>Beauty and the Beast</td>\n",
       "      <td>1991</td>\n",
       "      <td>8.0</td>\n",
       "      <td>tt0101414</td>\n",
       "      <td>G</td>\n",
       "    </tr>\n",
       "    <tr>\n",
       "      <th>239</th>\n",
       "      <td>The Night of the Hunter</td>\n",
       "      <td>1955</td>\n",
       "      <td>8.0</td>\n",
       "      <td>tt0048424</td>\n",
       "      <td>APPROVED</td>\n",
       "    </tr>\n",
       "    <tr>\n",
       "      <th>240</th>\n",
       "      <td>Anatomy of a Murder</td>\n",
       "      <td>1959</td>\n",
       "      <td>8.0</td>\n",
       "      <td>tt0052561</td>\n",
       "      <td>UNRATED</td>\n",
       "    </tr>\n",
       "    <tr>\n",
       "      <th>241</th>\n",
       "      <td>Before Sunset</td>\n",
       "      <td>2004</td>\n",
       "      <td>8.0</td>\n",
       "      <td>tt0381681</td>\n",
       "      <td>R</td>\n",
       "    </tr>\n",
       "    <tr>\n",
       "      <th>242</th>\n",
       "      <td>Three Colors: Red</td>\n",
       "      <td>1994</td>\n",
       "      <td>8.0</td>\n",
       "      <td>tt0111495</td>\n",
       "      <td>R</td>\n",
       "    </tr>\n",
       "    <tr>\n",
       "      <th>243</th>\n",
       "      <td>Lagaan: Once Upon a Time in India</td>\n",
       "      <td>2001</td>\n",
       "      <td>8.0</td>\n",
       "      <td>tt0169102</td>\n",
       "      <td>PG</td>\n",
       "    </tr>\n",
       "    <tr>\n",
       "      <th>244</th>\n",
       "      <td>Catch Me If You Can</td>\n",
       "      <td>2002</td>\n",
       "      <td>8.0</td>\n",
       "      <td>tt0264464</td>\n",
       "      <td>PG-13</td>\n",
       "    </tr>\n",
       "    <tr>\n",
       "      <th>245</th>\n",
       "      <td>La Strada</td>\n",
       "      <td>1954</td>\n",
       "      <td>8.0</td>\n",
       "      <td>tt0047528</td>\n",
       "      <td>NOT RATED</td>\n",
       "    </tr>\n",
       "    <tr>\n",
       "      <th>246</th>\n",
       "      <td>Akira</td>\n",
       "      <td>1988</td>\n",
       "      <td>8.0</td>\n",
       "      <td>tt0094625</td>\n",
       "      <td>R</td>\n",
       "    </tr>\n",
       "    <tr>\n",
       "      <th>247</th>\n",
       "      <td>The Graduate</td>\n",
       "      <td>1967</td>\n",
       "      <td>8.0</td>\n",
       "      <td>tt0061722</td>\n",
       "      <td>APPROVED</td>\n",
       "    </tr>\n",
       "    <tr>\n",
       "      <th>248</th>\n",
       "      <td>In the Mood for Love</td>\n",
       "      <td>2000</td>\n",
       "      <td>8.0</td>\n",
       "      <td>tt0118694</td>\n",
       "      <td>PG</td>\n",
       "    </tr>\n",
       "    <tr>\n",
       "      <th>249</th>\n",
       "      <td>Solaris</td>\n",
       "      <td>1972</td>\n",
       "      <td>8.0</td>\n",
       "      <td>tt0069293</td>\n",
       "      <td>PG</td>\n",
       "    </tr>\n",
       "  </tbody>\n",
       "</table>\n",
       "<p>250 rows × 5 columns</p>\n",
       "</div>"
      ],
      "text/plain": [
       "                                                 Title  Year  Rating  \\\n",
       "0                             The Shawshank Redemption  1994     9.2   \n",
       "1                                        The Godfather  1972     9.2   \n",
       "2                               The Godfather: Part II  1974     9.0   \n",
       "3                                      The Dark Knight  2008     8.9   \n",
       "4                                         12 Angry Men  1957     8.9   \n",
       "5                                     Schindler's List  1993     8.9   \n",
       "6                                         Pulp Fiction  1994     8.9   \n",
       "7                       The Good, the Bad and the Ugly  1966     8.9   \n",
       "8        The Lord of the Rings: The Return of the King  2003     8.9   \n",
       "9                                           Fight Club  1999     8.8   \n",
       "10   The Lord of the Rings: The Fellowship of the Ring  2001     8.8   \n",
       "11      Star Wars: Episode V - The Empire Strikes Back  1980     8.7   \n",
       "12                                        Forrest Gump  1994     8.7   \n",
       "13                                           Inception  2010     8.7   \n",
       "14                     One Flew Over the Cuckoo's Nest  1975     8.7   \n",
       "15               The Lord of the Rings: The Two Towers  2002     8.7   \n",
       "16                                          The Matrix  1999     8.7   \n",
       "17                                          Goodfellas  1990     8.7   \n",
       "18                                           Star Wars  1977     8.7   \n",
       "19                        Star Wars: The Force Awakens  2015     8.7   \n",
       "20                                       Seven Samurai  1954     8.7   \n",
       "21                                         City of God  2002     8.6   \n",
       "22                                               Se7en  1995     8.6   \n",
       "23                            The Silence of the Lambs  1991     8.6   \n",
       "24                                  The Usual Suspects  1995     8.6   \n",
       "25                               It's a Wonderful Life  1946     8.6   \n",
       "26                                   Life Is Beautiful  1997     8.6   \n",
       "27                              Léon: The Professional  1994     8.6   \n",
       "28                        Once Upon a Time in the West  1968     8.6   \n",
       "29                                        Interstellar  2014     8.5   \n",
       "..                                                 ...   ...     ...   \n",
       "220                                Fanny and Alexander  1982     8.0   \n",
       "221                                    Throne of Blood  1957     8.0   \n",
       "222                                           La Haine  1995     8.0   \n",
       "223                            Guardians of the Galaxy  2014     8.0   \n",
       "224                                            Yip Man  2008     8.0   \n",
       "225                                 The Imitation Game  2014     8.0   \n",
       "226                                  The King's Speech  2010     8.0   \n",
       "227                                          High Noon  1952     8.0   \n",
       "228                               A Fistful of Dollars  1964     8.0   \n",
       "229                                          Prisoners  2013     8.0   \n",
       "230  Pirates of the Caribbean: The Curse of the Bla...  2003     8.0   \n",
       "231                                  Castle in the Sky  1986     8.0   \n",
       "232                                           The Help  2011     8.0   \n",
       "233                                          Notorious  1946     8.0   \n",
       "234                                      Roman Holiday  1953     8.0   \n",
       "235                    Who's Afraid of Virginia Woolf?  1966     8.0   \n",
       "236         Spring, Summer, Fall, Winter... and Spring  2003     8.0   \n",
       "237                                           Papillon  1973     8.0   \n",
       "238                               Beauty and the Beast  1991     8.0   \n",
       "239                            The Night of the Hunter  1955     8.0   \n",
       "240                                Anatomy of a Murder  1959     8.0   \n",
       "241                                      Before Sunset  2004     8.0   \n",
       "242                                  Three Colors: Red  1994     8.0   \n",
       "243                  Lagaan: Once Upon a Time in India  2001     8.0   \n",
       "244                                Catch Me If You Can  2002     8.0   \n",
       "245                                          La Strada  1954     8.0   \n",
       "246                                              Akira  1988     8.0   \n",
       "247                                       The Graduate  1967     8.0   \n",
       "248                               In the Mood for Love  2000     8.0   \n",
       "249                                            Solaris  1972     8.0   \n",
       "\n",
       "      UniqueID Content Rating  \n",
       "0    tt0111161              R  \n",
       "1    tt0068646              R  \n",
       "2    tt0071562              R  \n",
       "3    tt0468569          PG-13  \n",
       "4    tt0050083      NOT RATED  \n",
       "5    tt0108052              R  \n",
       "6    tt0110912              R  \n",
       "7    tt0060196      NOT RATED  \n",
       "8    tt0167260          PG-13  \n",
       "9    tt0137523              R  \n",
       "10   tt0120737          PG-13  \n",
       "11   tt0080684             PG  \n",
       "12   tt0109830          PG-13  \n",
       "13   tt1375666          PG-13  \n",
       "14   tt0073486              R  \n",
       "15   tt0167261          PG-13  \n",
       "16   tt0133093              R  \n",
       "17   tt0099685              R  \n",
       "18   tt0076759             PG  \n",
       "19   tt2488496          PG-13  \n",
       "20   tt0047478        UNRATED  \n",
       "21   tt0317248              R  \n",
       "22   tt0114369              R  \n",
       "23   tt0102926              R  \n",
       "24   tt0114814              R  \n",
       "25   tt0038650       APPROVED  \n",
       "26   tt0118799          PG-13  \n",
       "27   tt0110413              R  \n",
       "28   tt0064116          PG-13  \n",
       "29   tt0816692          PG-13  \n",
       "..         ...            ...  \n",
       "220  tt0083922              R  \n",
       "221  tt0050613        UNRATED  \n",
       "222  tt0113247      NOT RATED  \n",
       "223  tt2015381          PG-13  \n",
       "224  tt1220719              R  \n",
       "225  tt2084970          PG-13  \n",
       "226  tt1504320              R  \n",
       "227  tt0044706             PG  \n",
       "228  tt0058461              R  \n",
       "229  tt1392214              R  \n",
       "230  tt0325980          PG-13  \n",
       "231  tt0092067             PG  \n",
       "232  tt1454029          PG-13  \n",
       "233  tt0038787       APPROVED  \n",
       "234  tt0046250      NOT RATED  \n",
       "235  tt0061184          TV-MA  \n",
       "236  tt0374546              R  \n",
       "237  tt0070511              R  \n",
       "238  tt0101414              G  \n",
       "239  tt0048424       APPROVED  \n",
       "240  tt0052561        UNRATED  \n",
       "241  tt0381681              R  \n",
       "242  tt0111495              R  \n",
       "243  tt0169102             PG  \n",
       "244  tt0264464          PG-13  \n",
       "245  tt0047528      NOT RATED  \n",
       "246  tt0094625              R  \n",
       "247  tt0061722       APPROVED  \n",
       "248  tt0118694             PG  \n",
       "249  tt0069293             PG  \n",
       "\n",
       "[250 rows x 5 columns]"
      ]
     },
     "execution_count": 442,
     "metadata": {},
     "output_type": "execute_result"
    }
   ],
   "source": [
    "# Questions:\n",
    "# How many of the Top movies are rated 'R'? \n",
    "# What is the average duration of movies with a star_rating above 9? \n",
    "# What is the average duration of movies before 1985 and after?\n",
    "\n",
    "\n",
    "# imdb250 = BeautifulSoup(r.text, 'html.parser')\n",
    "# imdb250.find(name='meta', attrs={'itemprop':'contentRating'}).attrs['content']\n",
    "\n",
    "def get_movie_rating(UniqueID):\n",
    "    r = requests.get('http://www.imdb.com/title/' + str(UniqueID))\n",
    "    movie = BeautifulSoup(r.text, 'html.parser')\n",
    "    return movie.find(name='meta', attrs={'itemprop':'contentRating'}).attrs['content']\n",
    "\n",
    "from time import sleep\n",
    "contentRating = []\n",
    "for ID in imdb_top250.UniqueID:\n",
    "    contentRating.append(get_movie_rating(ID))\n",
    "    sleep(3)\n",
    "\n",
    "imdb_top250['Content Rating']=contentRating\n",
    "imdb_top250.head()\n"
   ]
  },
  {
   "cell_type": "code",
   "execution_count": 452,
   "metadata": {
    "collapsed": false
   },
   "outputs": [
    {
     "data": {
      "text/html": [
       "<div>\n",
       "<table border=\"1\" class=\"dataframe\">\n",
       "  <thead>\n",
       "    <tr style=\"text-align: right;\">\n",
       "      <th></th>\n",
       "      <th>Title</th>\n",
       "      <th>Year</th>\n",
       "      <th>Rating</th>\n",
       "      <th>UniqueID</th>\n",
       "    </tr>\n",
       "    <tr>\n",
       "      <th>ContentRating</th>\n",
       "      <th></th>\n",
       "      <th></th>\n",
       "      <th></th>\n",
       "      <th></th>\n",
       "    </tr>\n",
       "  </thead>\n",
       "  <tbody>\n",
       "    <tr>\n",
       "      <th>APPROVED</th>\n",
       "      <td>18</td>\n",
       "      <td>18</td>\n",
       "      <td>18</td>\n",
       "      <td>18</td>\n",
       "    </tr>\n",
       "    <tr>\n",
       "      <th>G</th>\n",
       "      <td>13</td>\n",
       "      <td>13</td>\n",
       "      <td>13</td>\n",
       "      <td>13</td>\n",
       "    </tr>\n",
       "    <tr>\n",
       "      <th>M</th>\n",
       "      <td>1</td>\n",
       "      <td>1</td>\n",
       "      <td>1</td>\n",
       "      <td>1</td>\n",
       "    </tr>\n",
       "    <tr>\n",
       "      <th>NOT RATED</th>\n",
       "      <td>32</td>\n",
       "      <td>32</td>\n",
       "      <td>32</td>\n",
       "      <td>32</td>\n",
       "    </tr>\n",
       "    <tr>\n",
       "      <th>PASSED</th>\n",
       "      <td>3</td>\n",
       "      <td>3</td>\n",
       "      <td>3</td>\n",
       "      <td>3</td>\n",
       "    </tr>\n",
       "    <tr>\n",
       "      <th>PG</th>\n",
       "      <td>32</td>\n",
       "      <td>32</td>\n",
       "      <td>32</td>\n",
       "      <td>32</td>\n",
       "    </tr>\n",
       "    <tr>\n",
       "      <th>PG-13</th>\n",
       "      <td>33</td>\n",
       "      <td>33</td>\n",
       "      <td>33</td>\n",
       "      <td>33</td>\n",
       "    </tr>\n",
       "    <tr>\n",
       "      <th>R</th>\n",
       "      <td>105</td>\n",
       "      <td>105</td>\n",
       "      <td>105</td>\n",
       "      <td>105</td>\n",
       "    </tr>\n",
       "    <tr>\n",
       "      <th>TV-MA</th>\n",
       "      <td>1</td>\n",
       "      <td>1</td>\n",
       "      <td>1</td>\n",
       "      <td>1</td>\n",
       "    </tr>\n",
       "    <tr>\n",
       "      <th>UNRATED</th>\n",
       "      <td>11</td>\n",
       "      <td>11</td>\n",
       "      <td>11</td>\n",
       "      <td>11</td>\n",
       "    </tr>\n",
       "    <tr>\n",
       "      <th>X</th>\n",
       "      <td>1</td>\n",
       "      <td>1</td>\n",
       "      <td>1</td>\n",
       "      <td>1</td>\n",
       "    </tr>\n",
       "  </tbody>\n",
       "</table>\n",
       "</div>"
      ],
      "text/plain": [
       "               Title  Year  Rating  UniqueID\n",
       "ContentRating                               \n",
       "APPROVED          18    18      18        18\n",
       "G                 13    13      13        13\n",
       "M                  1     1       1         1\n",
       "NOT RATED         32    32      32        32\n",
       "PASSED             3     3       3         3\n",
       "PG                32    32      32        32\n",
       "PG-13             33    33      33        33\n",
       "R                105   105     105       105\n",
       "TV-MA              1     1       1         1\n",
       "UNRATED           11    11      11        11\n",
       "X                  1     1       1         1"
      ]
     },
     "execution_count": 452,
     "metadata": {},
     "output_type": "execute_result"
    }
   ],
   "source": [
    "# Questions:\n",
    "# How many of the Top movies are rated 'R'? \n",
    "imdb_top250.rename(columns={'Content Rating': 'ContentRating'}, inplace=True)\n",
    "imdb_top250.head(10)\n",
    "\n",
    "\n",
    "imdb_top250.groupby('ContentRating').count() # 105 movies in TOp 250 are rated R\n"
   ]
  },
  {
   "cell_type": "code",
   "execution_count": 470,
   "metadata": {
    "collapsed": false
   },
   "outputs": [
    {
     "data": {
      "text/html": [
       "<div>\n",
       "<table border=\"1\" class=\"dataframe\">\n",
       "  <thead>\n",
       "    <tr style=\"text-align: right;\">\n",
       "      <th></th>\n",
       "      <th>Title</th>\n",
       "      <th>Year</th>\n",
       "      <th>Rating</th>\n",
       "      <th>UniqueID</th>\n",
       "      <th>ContentRating</th>\n",
       "      <th>Duration</th>\n",
       "    </tr>\n",
       "  </thead>\n",
       "  <tbody>\n",
       "    <tr>\n",
       "      <th>0</th>\n",
       "      <td>The Shawshank Redemption</td>\n",
       "      <td>1994</td>\n",
       "      <td>9.2</td>\n",
       "      <td>tt0111161</td>\n",
       "      <td>R</td>\n",
       "      <td>142</td>\n",
       "    </tr>\n",
       "    <tr>\n",
       "      <th>1</th>\n",
       "      <td>The Godfather</td>\n",
       "      <td>1972</td>\n",
       "      <td>9.2</td>\n",
       "      <td>tt0068646</td>\n",
       "      <td>R</td>\n",
       "      <td>175</td>\n",
       "    </tr>\n",
       "    <tr>\n",
       "      <th>2</th>\n",
       "      <td>The Godfather: Part II</td>\n",
       "      <td>1974</td>\n",
       "      <td>9.0</td>\n",
       "      <td>tt0071562</td>\n",
       "      <td>R</td>\n",
       "      <td>202</td>\n",
       "    </tr>\n",
       "    <tr>\n",
       "      <th>3</th>\n",
       "      <td>The Dark Knight</td>\n",
       "      <td>2008</td>\n",
       "      <td>8.9</td>\n",
       "      <td>tt0468569</td>\n",
       "      <td>PG-13</td>\n",
       "      <td>152</td>\n",
       "    </tr>\n",
       "    <tr>\n",
       "      <th>4</th>\n",
       "      <td>12 Angry Men</td>\n",
       "      <td>1957</td>\n",
       "      <td>8.9</td>\n",
       "      <td>tt0050083</td>\n",
       "      <td>NOT RATED</td>\n",
       "      <td>96</td>\n",
       "    </tr>\n",
       "  </tbody>\n",
       "</table>\n",
       "</div>"
      ],
      "text/plain": [
       "                      Title  Year  Rating   UniqueID ContentRating  Duration\n",
       "0  The Shawshank Redemption  1994     9.2  tt0111161             R       142\n",
       "1             The Godfather  1972     9.2  tt0068646             R       175\n",
       "2    The Godfather: Part II  1974     9.0  tt0071562             R       202\n",
       "3           The Dark Knight  2008     8.9  tt0468569         PG-13       152\n",
       "4              12 Angry Men  1957     8.9  tt0050083     NOT RATED        96"
      ]
     },
     "execution_count": 470,
     "metadata": {},
     "output_type": "execute_result"
    }
   ],
   "source": [
    "# Questions:\n",
    "# What is the average duration of movies with a star_rating above 9? \n",
    "# What is the average duration of movies before 1985 and after?\n",
    "\n",
    "\n",
    "def get_movie_duration(UniqueID):\n",
    "    r = requests.get('http://www.imdb.com/title/' + str(UniqueID))\n",
    "    movie = BeautifulSoup(r.text, 'html.parser')\n",
    "    return int(movie.find(name='time', attrs={'itemprop':'duration'}).attrs['datetime'][2:-1])\n",
    "\n",
    "from time import sleep\n",
    "duration = []\n",
    "for ID in imdb_top250.UniqueID:\n",
    "    duration.append(get_movie_duration(ID))\n",
    "    sleep(3)\n",
    "\n",
    "imdb_top250['Duration']=duration\n",
    "imdb_top250.head()\n"
   ]
  },
  {
   "cell_type": "code",
   "execution_count": 472,
   "metadata": {
    "collapsed": false
   },
   "outputs": [
    {
     "data": {
      "text/plain": [
       "158.5"
      ]
     },
     "execution_count": 472,
     "metadata": {},
     "output_type": "execute_result"
    }
   ],
   "source": [
    "imdb_top250[imdb_top250.Rating > 9].Duration.mean()\n"
   ]
  },
  {
   "cell_type": "code",
   "execution_count": 480,
   "metadata": {
    "collapsed": false
   },
   "outputs": [
    {
     "data": {
      "text/plain": [
       "127.67256637168141"
      ]
     },
     "execution_count": 480,
     "metadata": {},
     "output_type": "execute_result"
    }
   ],
   "source": [
    "# Questions: \n",
    "# What is the average duration of movies before 1985 and after?\n",
    "imdb_top250[imdb_top250.Year < 1985].Duration.mean()"
   ]
  },
  {
   "cell_type": "code",
   "execution_count": 481,
   "metadata": {
    "collapsed": false
   },
   "outputs": [
    {
     "data": {
      "text/plain": [
       "127.82962962962964"
      ]
     },
     "execution_count": 481,
     "metadata": {},
     "output_type": "execute_result"
    }
   ],
   "source": [
    "imdb_top250[imdb_top250.Year > 1985].Duration.mean()"
   ]
  },
  {
   "cell_type": "markdown",
   "metadata": {},
   "source": [
    "### Optional Wed Scraping Homework\n",
    "\n",
    "First, define a function that accepts an IMDb ID and returns a dictionary of\n",
    "movie information: title, star_rating, description, content_rating, duration.\n",
    "The function should gather this information by scraping the IMDb website, not\n",
    "by calling the OMDb API. (This is really just a wrapper of the web scraping\n",
    "code we wrote above.)\n",
    "\n",
    "For example, `get_movie_info('tt0111161')` should return:\n",
    "```\n",
    "{'content_rating': 'R',\n",
    " 'description': u'Two imprisoned men bond over a number of years...',\n",
    " 'duration': 142,\n",
    " 'star_rating': 9.3,\n",
    " 'title': u'The Shawshank Redemption'}\n",
    " ```\n",
    "\n",
    "Then, open the file imdb_ids.txt using Python, and write a for loop that builds\n",
    "a list in which each element is a dictionary of movie information.\n",
    "Finally, convert that list into a DataFrame.\n",
    "\n",
    "### Bonus -- Challenge\n",
    "\n",
    "Can you scrape the IMDB Top 250 list (http://www.imdb.com/chart/top?ref_=nv_mv_250_6) and return a Data frame with the movide name, rating, year and the unique movie identifier ie('tt0111161')?\n",
    "\n",
    "Use the function above to scrape each of the movie pages.\n",
    "\n",
    "**Questions:**\n",
    "\n",
    "How many of the Top movies are rated 'R'?\n",
    "\n",
    "What is the average duration of movies with a star_rating above 9?\n",
    "\n",
    "What is the average duration of movies before 1985 and after?\n",
    "\n"
   ]
  },
  {
   "cell_type": "code",
   "execution_count": null,
   "metadata": {
    "collapsed": true
   },
   "outputs": [],
   "source": []
  },
  {
   "cell_type": "code",
   "execution_count": null,
   "metadata": {
    "collapsed": true
   },
   "outputs": [],
   "source": []
  },
  {
   "cell_type": "code",
   "execution_count": null,
   "metadata": {
    "collapsed": false
   },
   "outputs": [],
   "source": []
  },
  {
   "cell_type": "code",
   "execution_count": 110,
   "metadata": {
    "collapsed": false
   },
   "outputs": [],
   "source": []
  },
  {
   "cell_type": "code",
   "execution_count": null,
   "metadata": {
    "collapsed": true
   },
   "outputs": [],
   "source": []
  }
 ],
 "metadata": {
  "kernelspec": {
   "display_name": "Python 2",
   "language": "python",
   "name": "python2"
  },
  "language_info": {
   "codemirror_mode": {
    "name": "ipython",
    "version": 2
   },
   "file_extension": ".py",
   "mimetype": "text/x-python",
   "name": "python",
   "nbconvert_exporter": "python",
   "pygments_lexer": "ipython2",
   "version": "2.7.11"
  }
 },
 "nbformat": 4,
 "nbformat_minor": 0
}
