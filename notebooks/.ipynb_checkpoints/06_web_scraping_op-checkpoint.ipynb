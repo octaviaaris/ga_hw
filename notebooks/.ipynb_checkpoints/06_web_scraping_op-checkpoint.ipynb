{
 "cells": [
  {
   "cell_type": "markdown",
   "metadata": {},
   "source": [
    "# Web Scraping with BeautifulSoup\n",
    "http://www.crummy.com/software/BeautifulSoup/bs4/doc/#"
   ]
  },
  {
   "cell_type": "markdown",
   "metadata": {},
   "source": [
    "What is web scraping?\n",
    "- Extracting information from websites (simulates a human copying and pasting)\n",
    "- Based on finding patterns in website code (usually HTML)\n",
    "\n",
    "What are best practices for web scraping?\n",
    "- Scraping too many pages too fast can get your IP address blocked\n",
    "- Pay attention to the robots exclusion standard (robots.txt)\n",
    "- Let's look at http://www.imdb.com/robots.txt\n",
    "\n",
    "What is HTML?\n",
    "- Code interpreted by a web browser to produce (\"render\") a web page\n",
    "- Let's look at example.html\n",
    "- Tags are opened and closed\n",
    "- Tags have optional attributes\n",
    "\n",
    "How to view HTML code:\n",
    "- To view the entire page: \"View Source\" or \"View Page Source\" or \"Show Page Source\"\n",
    "- To view a specific part: \"Inspect Element\"\n",
    "- Safari users: Safari menu, Preferences, Advanced, Show Develop menu in menu bar\n",
    "- Let's inspect example.html"
   ]
  },
  {
   "cell_type": "markdown",
   "metadata": {},
   "source": [
    "### Aquire Your Data"
   ]
  },
  {
   "cell_type": "code",
   "execution_count": 1,
   "metadata": {
    "collapsed": false
   },
   "outputs": [],
   "source": [
    "# read the HTML code for a web page and save as a string\n",
    "with open('../DAT-DC-10/data/example.html', 'rU') as f:\n",
    "    html = f.read()"
   ]
  },
  {
   "cell_type": "markdown",
   "metadata": {},
   "source": [
    "### Look at / Explorre Your Data (html)"
   ]
  },
  {
   "cell_type": "code",
   "execution_count": 2,
   "metadata": {
    "collapsed": false
   },
   "outputs": [
    {
     "name": "stdout",
     "output_type": "stream",
     "text": [
      "<!DOCTYPE html>\n",
      "<html lang='en'>\n",
      "\n",
      "<head>\n",
      "    <title>Example Web Page</title>\n",
      "</head>\n",
      "\n",
      "<body>\n",
      "\n",
      "    <h1 id='main'>DAT10 Class 6</h1>\n",
      "\n",
      "    <p class='topic' id='api'>First, we are covering APIs, which are useful for getting data.</p>\n",
      "    <p class='topic' id='scraping'>Then, we are covering web scraping, which is a more flexible way to get data.</p>\n",
      "    <p class='topic' id='feedback'>Finally, I will ask you to fill out yet another feedback form!</p>\n",
      "\n",
      "    <h2>Resource List</h2>\n",
      "\n",
      "    <p>Here are some helpful API resources:</p>\n",
      "\n",
      "    <ul id='api'>\n",
      "        <li>API resource 1</li>\n",
      "        <li>API resource 2</li>\n",
      "    </ul>\n",
      "\n",
      "    <p>Here are some helpful web scraping resources:</p>\n",
      "\n",
      "    <ul id='scraping'>\n",
      "        <li>Web scraping resource 1</li>\n",
      "        <li>Web scraping resource 2</li>\n",
      "    </ul>\n",
      "\n",
      "</body>\n",
      "\n",
      "</html>\n",
      "\n"
     ]
    }
   ],
   "source": [
    "print html"
   ]
  },
  {
   "cell_type": "code",
   "execution_count": 3,
   "metadata": {
    "collapsed": false
   },
   "outputs": [],
   "source": [
    "# convert HTML into a structured Soup object\n",
    "from bs4 import BeautifulSoup\n",
    "b = BeautifulSoup(html, 'html.parser')"
   ]
  },
  {
   "cell_type": "code",
   "execution_count": 4,
   "metadata": {
    "collapsed": false
   },
   "outputs": [],
   "source": [
    "# print out the object\n",
    "# print b\n",
    "# print b.prettify()"
   ]
  },
  {
   "cell_type": "markdown",
   "metadata": {},
   "source": [
    "#### 'find' method returns the first matching Tag (and everything inside of it)"
   ]
  },
  {
   "cell_type": "code",
   "execution_count": 5,
   "metadata": {
    "collapsed": false
   },
   "outputs": [
    {
     "data": {
      "text/plain": [
       "<h1 id=\"main\">DAT10 Class 6</h1>"
      ]
     },
     "execution_count": 5,
     "metadata": {},
     "output_type": "execute_result"
    }
   ],
   "source": [
    "# b.find(name='body')\n",
    "b.find(name='h1')\n"
   ]
  },
  {
   "cell_type": "code",
   "execution_count": 6,
   "metadata": {
    "collapsed": false
   },
   "outputs": [
    {
     "data": {
      "text/plain": [
       "u'DAT10 Class 6'"
      ]
     },
     "execution_count": 6,
     "metadata": {},
     "output_type": "execute_result"
    }
   ],
   "source": [
    "# Tags allow you to access the 'inside text'\n",
    "b.find(name='h1').text"
   ]
  },
  {
   "cell_type": "code",
   "execution_count": 7,
   "metadata": {
    "collapsed": false
   },
   "outputs": [
    {
     "data": {
      "text/plain": [
       "u'main'"
      ]
     },
     "execution_count": 7,
     "metadata": {},
     "output_type": "execute_result"
    }
   ],
   "source": [
    "# Tags also allow you to access their attributes\n",
    "b.find(name='h1')['id']"
   ]
  },
  {
   "cell_type": "markdown",
   "metadata": {},
   "source": [
    "#### 'find_all' method is useful for finding all matching Tags"
   ]
  },
  {
   "cell_type": "code",
   "execution_count": 8,
   "metadata": {
    "collapsed": false
   },
   "outputs": [
    {
     "data": {
      "text/plain": [
       "[<p class=\"topic\" id=\"api\">First, we are covering APIs, which are useful for getting data.</p>,\n",
       " <p class=\"topic\" id=\"scraping\">Then, we are covering web scraping, which is a more flexible way to get data.</p>,\n",
       " <p class=\"topic\" id=\"feedback\">Finally, I will ask you to fill out yet another feedback form!</p>,\n",
       " <p>Here are some helpful API resources:</p>,\n",
       " <p>Here are some helpful web scraping resources:</p>]"
      ]
     },
     "execution_count": 8,
     "metadata": {},
     "output_type": "execute_result"
    }
   ],
   "source": [
    "b.find_all(name='p')    # returns a ResultSet (like a list of Tags)"
   ]
  },
  {
   "cell_type": "markdown",
   "metadata": {},
   "source": [
    "### Quiz: What is the datatype returned by 'find_all'? What kinds of operations can we do on that datatype?"
   ]
  },
  {
   "cell_type": "code",
   "execution_count": null,
   "metadata": {
    "collapsed": false
   },
   "outputs": [],
   "source": []
  },
  {
   "cell_type": "markdown",
   "metadata": {},
   "source": [
    "Hint: ResultSets can be sliced"
   ]
  },
  {
   "cell_type": "code",
   "execution_count": 9,
   "metadata": {
    "collapsed": false
   },
   "outputs": [],
   "source": [
    "# len(b.find_all(name='p'))\n",
    "# b.find_all(name='p')[0]\n",
    "# b.find_all(name='p')[0].text\n",
    "# b.find_all(name='p')[0]['id']\n",
    "# b.find_all(name='body')"
   ]
  },
  {
   "cell_type": "code",
   "execution_count": 10,
   "metadata": {
    "collapsed": false
   },
   "outputs": [
    {
     "name": "stdout",
     "output_type": "stream",
     "text": [
      "\n",
      "DAT10 Class 6\n",
      "First, we are covering APIs, which are useful for getting data.\n",
      "Then, we are covering web scraping, which is a more flexible way to get data.\n",
      "Finally, I will ask you to fill out yet another feedback form!\n",
      "Resource List\n",
      "Here are some helpful API resources:\n",
      "\n",
      "API resource 1\n",
      "API resource 2\n",
      "\n",
      "Here are some helpful web scraping resources:\n",
      "\n",
      "Web scraping resource 1\n",
      "Web scraping resource 2\n",
      "\n",
      "\n"
     ]
    }
   ],
   "source": [
    "# iterate over a ResultSet\n",
    "results = b.find_all(name='body')\n",
    "for tag in results:\n",
    "    print tag.text"
   ]
  },
  {
   "cell_type": "code",
   "execution_count": 11,
   "metadata": {
    "collapsed": false
   },
   "outputs": [
    {
     "data": {
      "text/plain": [
       "u'First, we are covering APIs, which are useful for getting data.\\nThen, we are covering web scraping, which is a more flexible way to get data.\\nFinally, I will ask you to fill out yet another feedback form!\\nHere are some helpful API resources:\\nHere are some helpful web scraping resources:'"
      ]
     },
     "execution_count": 11,
     "metadata": {},
     "output_type": "execute_result"
    }
   ],
   "source": [
    "# Make a string with each tag.text seperated by a new line character '\\n'\n",
    "\n",
    "'\\n'.join(tag.text for tag in b.find_all(name='p'))"
   ]
  },
  {
   "cell_type": "code",
   "execution_count": null,
   "metadata": {
    "collapsed": true
   },
   "outputs": [],
   "source": []
  },
  {
   "cell_type": "markdown",
   "metadata": {},
   "source": [
    "### Quiz: How would you write the above as a list comprenhension?"
   ]
  },
  {
   "cell_type": "code",
   "execution_count": null,
   "metadata": {
    "collapsed": true
   },
   "outputs": [],
   "source": []
  },
  {
   "cell_type": "markdown",
   "metadata": {},
   "source": [
    "### Limit search by Tag attribute"
   ]
  },
  {
   "cell_type": "code",
   "execution_count": 12,
   "metadata": {
    "collapsed": false
   },
   "outputs": [
    {
     "data": {
      "text/plain": [
       "<p class=\"topic\" id=\"scraping\">Then, we are covering web scraping, which is a more flexible way to get data.</p>"
      ]
     },
     "execution_count": 12,
     "metadata": {},
     "output_type": "execute_result"
    }
   ],
   "source": [
    "b.find(name='p', attrs={'id':'scraping'})"
   ]
  },
  {
   "cell_type": "code",
   "execution_count": 13,
   "metadata": {
    "collapsed": false
   },
   "outputs": [
    {
     "data": {
      "text/plain": [
       "[<p class=\"topic\" id=\"api\">First, we are covering APIs, which are useful for getting data.</p>,\n",
       " <p class=\"topic\" id=\"scraping\">Then, we are covering web scraping, which is a more flexible way to get data.</p>,\n",
       " <p class=\"topic\" id=\"feedback\">Finally, I will ask you to fill out yet another feedback form!</p>]"
      ]
     },
     "execution_count": 13,
     "metadata": {},
     "output_type": "execute_result"
    }
   ],
   "source": [
    "b.find_all(name='p', attrs={'class':'topic'})\n",
    "# b.find_all(attrs={'class':'topic'})"
   ]
  },
  {
   "cell_type": "markdown",
   "metadata": {},
   "source": [
    "### Limit search to specific sections"
   ]
  },
  {
   "cell_type": "code",
   "execution_count": 14,
   "metadata": {
    "collapsed": false
   },
   "outputs": [
    {
     "data": {
      "text/plain": [
       "[<li>Web scraping resource 1</li>, <li>Web scraping resource 2</li>]"
      ]
     },
     "execution_count": 14,
     "metadata": {},
     "output_type": "execute_result"
    }
   ],
   "source": [
    "b.find_all(name='li')\n",
    "b.find(name='ul', attrs={'id':'scraping'}).find_next_sibling(name='li')"
   ]
  },
  {
   "cell_type": "markdown",
   "metadata": {},
   "source": [
    "## In Class Exercise"
   ]
  },
  {
   "cell_type": "markdown",
   "metadata": {},
   "source": [
    "1) Find the 'h2' tag and then print its text"
   ]
  },
  {
   "cell_type": "code",
   "execution_count": 15,
   "metadata": {
    "collapsed": false
   },
   "outputs": [
    {
     "data": {
      "text/plain": [
       "u'Resource List'"
      ]
     },
     "execution_count": 15,
     "metadata": {},
     "output_type": "execute_result"
    }
   ],
   "source": [
    "b.find(name='h2').text"
   ]
  },
  {
   "cell_type": "markdown",
   "metadata": {},
   "source": [
    "2) Find the 'p' tag with an 'id' value of 'feedback' and then print its text\n"
   ]
  },
  {
   "cell_type": "code",
   "execution_count": 16,
   "metadata": {
    "collapsed": false
   },
   "outputs": [
    {
     "data": {
      "text/plain": [
       "u'Finally, I will ask you to fill out yet another feedback form!'"
      ]
     },
     "execution_count": 16,
     "metadata": {},
     "output_type": "execute_result"
    }
   ],
   "source": [
    "b.find(name='p', attrs={'id':'feedback'}).text"
   ]
  },
  {
   "cell_type": "markdown",
   "metadata": {},
   "source": [
    "3) Find the first 'p' tag and then print the value of the 'id' attribute\n"
   ]
  },
  {
   "cell_type": "code",
   "execution_count": 17,
   "metadata": {
    "collapsed": false
   },
   "outputs": [
    {
     "data": {
      "text/plain": [
       "u'api'"
      ]
     },
     "execution_count": 17,
     "metadata": {},
     "output_type": "execute_result"
    }
   ],
   "source": [
    "b.find(name='p')['id']"
   ]
  },
  {
   "cell_type": "markdown",
   "metadata": {},
   "source": [
    "4) Print the text of all four resources"
   ]
  },
  {
   "cell_type": "code",
   "execution_count": 18,
   "metadata": {
    "collapsed": false
   },
   "outputs": [
    {
     "data": {
      "text/plain": [
       "[u'API resource 1',\n",
       " u'API resource 2',\n",
       " u'Web scraping resource 1',\n",
       " u'Web scraping resource 2']"
      ]
     },
     "execution_count": 18,
     "metadata": {},
     "output_type": "execute_result"
    }
   ],
   "source": [
    "[tag.text for tag in b.find_all(name='li')]"
   ]
  },
  {
   "cell_type": "markdown",
   "metadata": {},
   "source": [
    "5) Using a list comprehension can you extract the text of only the API resources?"
   ]
  },
  {
   "cell_type": "code",
   "execution_count": 19,
   "metadata": {
    "collapsed": false
   },
   "outputs": [
    {
     "data": {
      "text/plain": [
       "[u'API resource 1', u'API resource 2']"
      ]
     },
     "execution_count": 19,
     "metadata": {},
     "output_type": "execute_result"
    }
   ],
   "source": [
    "[tag.text for tag in b.find_all(name='li') if 'API' in tag.text]"
   ]
  },
  {
   "cell_type": "markdown",
   "metadata": {},
   "source": [
    "### Tool: Selector Gadget\n",
    "http://selectorgadget.com/"
   ]
  },
  {
   "cell_type": "markdown",
   "metadata": {},
   "source": [
    "## Scraping IMDb"
   ]
  },
  {
   "cell_type": "markdown",
   "metadata": {},
   "source": [
    "#### First open your browser and look at the website and the html structure\n",
    "\n",
    "http://www.imdb.com/title/tt0111161/"
   ]
  },
  {
   "cell_type": "markdown",
   "metadata": {},
   "source": [
    "#### Get the HTML from the Shawshank Redemption page"
   ]
  },
  {
   "cell_type": "code",
   "execution_count": 20,
   "metadata": {
    "collapsed": true
   },
   "outputs": [],
   "source": [
    "import requests\n",
    "r = requests.get('http://www.imdb.com/title/tt0111161/')"
   ]
  },
  {
   "cell_type": "markdown",
   "metadata": {},
   "source": [
    "#### What is r? What can we do with it?"
   ]
  },
  {
   "cell_type": "code",
   "execution_count": 21,
   "metadata": {
    "collapsed": false
   },
   "outputs": [
    {
     "data": {
      "text/plain": [
       "<Response [200]>"
      ]
     },
     "execution_count": 21,
     "metadata": {},
     "output_type": "execute_result"
    }
   ],
   "source": [
    "r"
   ]
  },
  {
   "cell_type": "markdown",
   "metadata": {},
   "source": [
    "#### convert HTML into Soup"
   ]
  },
  {
   "cell_type": "code",
   "execution_count": 22,
   "metadata": {
    "collapsed": false
   },
   "outputs": [],
   "source": [
    "b = BeautifulSoup(r.text, 'html.parser')\n",
    "# print b"
   ]
  },
  {
   "cell_type": "code",
   "execution_count": 23,
   "metadata": {
    "collapsed": true
   },
   "outputs": [],
   "source": [
    "# run this code if you have encoding errors\n",
    "import sys\n",
    "reload(sys)\n",
    "sys.setdefaultencoding('utf8')"
   ]
  },
  {
   "cell_type": "markdown",
   "metadata": {},
   "source": [
    "#### Get the title"
   ]
  },
  {
   "cell_type": "code",
   "execution_count": 24,
   "metadata": {
    "collapsed": false
   },
   "outputs": [
    {
     "data": {
      "text/plain": [
       "u'The Shawshank Redemption\\n                   (1994)\\n                   \\n'"
      ]
     },
     "execution_count": 24,
     "metadata": {},
     "output_type": "execute_result"
    }
   ],
   "source": [
    "b.find('h1').text"
   ]
  },
  {
   "cell_type": "markdown",
   "metadata": {},
   "source": [
    "#### Get the Star Rating (as a float)"
   ]
  },
  {
   "cell_type": "code",
   "execution_count": 25,
   "metadata": {
    "collapsed": false
   },
   "outputs": [
    {
     "data": {
      "text/plain": [
       "9.3"
      ]
     },
     "execution_count": 25,
     "metadata": {},
     "output_type": "execute_result"
    }
   ],
   "source": [
    "# get the star rating (as a float)\n",
    "float(b.find(name='span', attrs={'itemprop':'ratingValue'}).text)\n"
   ]
  },
  {
   "cell_type": "markdown",
   "metadata": {},
   "source": [
    "#### Get the Movie Rating"
   ]
  },
  {
   "cell_type": "code",
   "execution_count": 26,
   "metadata": {
    "collapsed": false
   },
   "outputs": [
    {
     "data": {
      "text/plain": [
       "u'R\\n| \\n                        2h 22min\\n                    \\n|\\nCrime, \\nDrama\\n|\\n14 October 1994 (USA)\\n\\n '"
      ]
     },
     "execution_count": 26,
     "metadata": {},
     "output_type": "execute_result"
    }
   ],
   "source": [
    "panel = b.find('meta', attrs={'itemprop':'contentRating'}) # too many\n",
    "panel.text"
   ]
  },
  {
   "cell_type": "code",
   "execution_count": 27,
   "metadata": {
    "collapsed": true
   },
   "outputs": [],
   "source": [
    "# Using the Omdbapi, request all years of the 1000 movies in the CSV. Answer the questions below.\n",
    "import pandas as pd\n",
    "movies = pd.read_csv('../DAT-DC-10/data/imdb_1000.csv')\n",
    "top_50 = movies.head(50).copy()\n",
    "\n",
    "import requests\n",
    "\n",
    "def get_movie_year(title):\n",
    "    r = requests.get('http://www.omdbapi.com/?t=' + title + '&r=json&type=movie')\n",
    "    info = r.json()\n",
    "    if info['Response'] == 'True':\n",
    "        try:\n",
    "            return int(info['Year'])\n",
    "        except:\n",
    "            'NA'\n",
    "\n",
    "from time import sleep\n",
    "years = []\n",
    "for title in top_50.title:\n",
    "    years.append(get_movie_year(title))\n",
    "    sleep(3)"
   ]
  },
  {
   "cell_type": "code",
   "execution_count": 28,
   "metadata": {
    "collapsed": false
   },
   "outputs": [
    {
     "data": {
      "text/plain": [
       "50"
      ]
     },
     "execution_count": 28,
     "metadata": {},
     "output_type": "execute_result"
    }
   ],
   "source": [
    "len(years)"
   ]
  },
  {
   "cell_type": "code",
   "execution_count": 29,
   "metadata": {
    "collapsed": false
   },
   "outputs": [
    {
     "data": {
      "text/html": [
       "<div>\n",
       "<table border=\"1\" class=\"dataframe\">\n",
       "  <thead>\n",
       "    <tr style=\"text-align: right;\">\n",
       "      <th></th>\n",
       "      <th>star_rating</th>\n",
       "      <th>title</th>\n",
       "      <th>content_rating</th>\n",
       "      <th>genre</th>\n",
       "      <th>duration</th>\n",
       "      <th>actors_list</th>\n",
       "      <th>Year</th>\n",
       "    </tr>\n",
       "  </thead>\n",
       "  <tbody>\n",
       "    <tr>\n",
       "      <th>45</th>\n",
       "      <td>8.5</td>\n",
       "      <td>Terminator 2: Judgment Day</td>\n",
       "      <td>R</td>\n",
       "      <td>Action</td>\n",
       "      <td>137</td>\n",
       "      <td>[u'Arnold Schwarzenegger', u'Linda Hamilton', ...</td>\n",
       "      <td>1991</td>\n",
       "    </tr>\n",
       "    <tr>\n",
       "      <th>46</th>\n",
       "      <td>8.5</td>\n",
       "      <td>Memento</td>\n",
       "      <td>R</td>\n",
       "      <td>Mystery</td>\n",
       "      <td>113</td>\n",
       "      <td>[u'Guy Pearce', u'Carrie-Anne Moss', u'Joe Pan...</td>\n",
       "      <td>2000</td>\n",
       "    </tr>\n",
       "    <tr>\n",
       "      <th>47</th>\n",
       "      <td>8.5</td>\n",
       "      <td>Taare Zameen Par</td>\n",
       "      <td>PG</td>\n",
       "      <td>Drama</td>\n",
       "      <td>165</td>\n",
       "      <td>[u'Darsheel Safary', u'Aamir Khan', u'Tanay Ch...</td>\n",
       "      <td>NaN</td>\n",
       "    </tr>\n",
       "    <tr>\n",
       "      <th>48</th>\n",
       "      <td>8.5</td>\n",
       "      <td>Dr. Strangelove or: How I Learned to Stop Worr...</td>\n",
       "      <td>PG</td>\n",
       "      <td>Comedy</td>\n",
       "      <td>95</td>\n",
       "      <td>[u'Peter Sellers', u'George C. Scott', u'Sterl...</td>\n",
       "      <td>1964</td>\n",
       "    </tr>\n",
       "    <tr>\n",
       "      <th>49</th>\n",
       "      <td>8.5</td>\n",
       "      <td>The Departed</td>\n",
       "      <td>R</td>\n",
       "      <td>Crime</td>\n",
       "      <td>151</td>\n",
       "      <td>[u'Leonardo DiCaprio', u'Matt Damon', u'Jack N...</td>\n",
       "      <td>2006</td>\n",
       "    </tr>\n",
       "  </tbody>\n",
       "</table>\n",
       "</div>"
      ],
      "text/plain": [
       "    star_rating                                              title  \\\n",
       "45          8.5                         Terminator 2: Judgment Day   \n",
       "46          8.5                                            Memento   \n",
       "47          8.5                                   Taare Zameen Par   \n",
       "48          8.5  Dr. Strangelove or: How I Learned to Stop Worr...   \n",
       "49          8.5                                       The Departed   \n",
       "\n",
       "   content_rating    genre  duration  \\\n",
       "45              R   Action       137   \n",
       "46              R  Mystery       113   \n",
       "47             PG    Drama       165   \n",
       "48             PG   Comedy        95   \n",
       "49              R    Crime       151   \n",
       "\n",
       "                                          actors_list  Year  \n",
       "45  [u'Arnold Schwarzenegger', u'Linda Hamilton', ...  1991  \n",
       "46  [u'Guy Pearce', u'Carrie-Anne Moss', u'Joe Pan...  2000  \n",
       "47  [u'Darsheel Safary', u'Aamir Khan', u'Tanay Ch...   NaN  \n",
       "48  [u'Peter Sellers', u'George C. Scott', u'Sterl...  1964  \n",
       "49  [u'Leonardo DiCaprio', u'Matt Damon', u'Jack N...  2006  "
      ]
     },
     "execution_count": 29,
     "metadata": {},
     "output_type": "execute_result"
    }
   ],
   "source": [
    "top_50[\"Year\"]=years\n",
    "top_50.tail(5)"
   ]
  },
  {
   "cell_type": "markdown",
   "metadata": {},
   "source": []
  },
  {
   "cell_type": "markdown",
   "metadata": {},
   "source": [
    "In-Class Exercise\n",
    "\n",
    "Intro Level:\n",
    "\n",
    "Using the Omdbapi, request all years of the 1000 movies in the CSV. Answer the questions below.\n",
    "\n",
    "Challege Challenge Level:\n",
    "\n",
    "Can you scrape the IMDB Top 250 list (http://www.imdb.com/chart/top?ref_=nv_mv_250_6) and return a Data frame with the movide name, rating, year and the unique movie identifier ie('tt0111161')? Use the function above to scrape each of the movie pages.\n",
    "\n",
    "Questions:\n",
    "How many of the Top movies are rated 'R'?\n",
    "What is the average duration of movies with a star_rating above 9?\n",
    "What is the average duration of movies before 1985 and after?"
   ]
  },
  {
   "cell_type": "code",
   "execution_count": 61,
   "metadata": {
    "collapsed": false
   },
   "outputs": [
    {
     "data": {
      "text/html": [
       "<div>\n",
       "<table border=\"1\" class=\"dataframe\">\n",
       "  <thead>\n",
       "    <tr style=\"text-align: right;\">\n",
       "      <th></th>\n",
       "      <th>Title</th>\n",
       "      <th>Year</th>\n",
       "      <th>Rating</th>\n",
       "      <th>UniqueID</th>\n",
       "    </tr>\n",
       "  </thead>\n",
       "  <tbody>\n",
       "    <tr>\n",
       "      <th>245</th>\n",
       "      <td>Gangs of Wasseypur</td>\n",
       "      <td>2012</td>\n",
       "      <td>8</td>\n",
       "      <td>tt1954470</td>\n",
       "    </tr>\n",
       "    <tr>\n",
       "      <th>246</th>\n",
       "      <td>Three Colors: Red</td>\n",
       "      <td>1994</td>\n",
       "      <td>8</td>\n",
       "      <td>tt0111495</td>\n",
       "    </tr>\n",
       "    <tr>\n",
       "      <th>247</th>\n",
       "      <td>Chakde! India</td>\n",
       "      <td>2007</td>\n",
       "      <td>8</td>\n",
       "      <td>tt0871510</td>\n",
       "    </tr>\n",
       "    <tr>\n",
       "      <th>248</th>\n",
       "      <td>La Strada</td>\n",
       "      <td>1954</td>\n",
       "      <td>8</td>\n",
       "      <td>tt0047528</td>\n",
       "    </tr>\n",
       "    <tr>\n",
       "      <th>249</th>\n",
       "      <td>The Graduate</td>\n",
       "      <td>1967</td>\n",
       "      <td>8</td>\n",
       "      <td>tt0061722</td>\n",
       "    </tr>\n",
       "  </tbody>\n",
       "</table>\n",
       "</div>"
      ],
      "text/plain": [
       "                  Title  Year  Rating   UniqueID\n",
       "245  Gangs of Wasseypur  2012       8  tt1954470\n",
       "246   Three Colors: Red  1994       8  tt0111495\n",
       "247       Chakde! India  2007       8  tt0871510\n",
       "248           La Strada  1954       8  tt0047528\n",
       "249        The Graduate  1967       8  tt0061722"
      ]
     },
     "execution_count": 61,
     "metadata": {},
     "output_type": "execute_result"
    }
   ],
   "source": [
    "# Scrape the IMDB Top 250 list (http://www.imdb.com/chart/top?ref_=nv_mv_250_6)\n",
    "# and return a Data frame with the movide name, rating, year and the unique movie identifier \n",
    "# ie('tt0111161'). Use the function above to scrape each of the movie pages.\n",
    "import pandas as pd\n",
    "\n",
    "r = requests.get('http://www.imdb.com/chart/top?ref_=nv_mv_250_6')\n",
    "imdb250 = BeautifulSoup(r.text, 'html.parser')\n",
    "\n",
    "# prepping list form which to pull title and year\n",
    "List = [item.text for item in imdb250.find_all(name='td', attrs={'class':'titleColumn'})]\n",
    "newList = [item.split('\\n') for item in List]\n",
    "\n",
    "# title\n",
    "titles = [item[2][6:] for item in newList]\n",
    "\n",
    "# year\n",
    "years = [int(item[3][1:5]) for item in newList]\n",
    "\n",
    "# rating\n",
    "ratingList = [item.text for item in imdb250.find_all(name='td', attrs={'class':'ratingColumn imdbRating'})]\n",
    "newList2 = [item.split('\\n') for item in ratingList]\n",
    "ratings = [float(item[1]) for item in newList2]\n",
    "\n",
    "# unique identifier\n",
    "# http://www.crummy.com/software/BeautifulSoup/bs4/doc/\n",
    "# imdb250.find_all(name='div', attrs={'class':'wlb_ribbon'})\n",
    "\n",
    "idList = [str(item.attrs['data-tconst']) for item in imdb250.find_all(name='div', attrs={'class':'wlb_ribbon'})]\n",
    "\n",
    "\n",
    "imdb_top250 = pd.DataFrame()\n",
    "imdb_top250['Title']=titles\n",
    "imdb_top250['Year']=years\n",
    "imdb_top250['Rating']=ratings\n",
    "imdb_top250['UniqueID']=idList\n",
    "imdb_top250.tail(5)\n"
   ]
  },
  {
   "cell_type": "code",
   "execution_count": 116,
   "metadata": {
    "collapsed": false
   },
   "outputs": [
    {
     "data": {
      "text/html": [
       "<div>\n",
       "<table border=\"1\" class=\"dataframe\">\n",
       "  <thead>\n",
       "    <tr style=\"text-align: right;\">\n",
       "      <th></th>\n",
       "      <th>Title</th>\n",
       "      <th>Year</th>\n",
       "      <th>Rating</th>\n",
       "      <th>UniqueID</th>\n",
       "      <th>ContentRating</th>\n",
       "    </tr>\n",
       "  </thead>\n",
       "  <tbody>\n",
       "    <tr>\n",
       "      <th>0</th>\n",
       "      <td>The Shawshank Redemption</td>\n",
       "      <td>1994</td>\n",
       "      <td>9.2</td>\n",
       "      <td>tt0111161</td>\n",
       "      <td>R</td>\n",
       "    </tr>\n",
       "    <tr>\n",
       "      <th>1</th>\n",
       "      <td>The Godfather</td>\n",
       "      <td>1972</td>\n",
       "      <td>9.2</td>\n",
       "      <td>tt0068646</td>\n",
       "      <td>R</td>\n",
       "    </tr>\n",
       "    <tr>\n",
       "      <th>2</th>\n",
       "      <td>The Godfather: Part II</td>\n",
       "      <td>1974</td>\n",
       "      <td>9.0</td>\n",
       "      <td>tt0071562</td>\n",
       "      <td>R</td>\n",
       "    </tr>\n",
       "    <tr>\n",
       "      <th>3</th>\n",
       "      <td>The Dark Knight</td>\n",
       "      <td>2008</td>\n",
       "      <td>8.9</td>\n",
       "      <td>tt0468569</td>\n",
       "      <td>PG-13</td>\n",
       "    </tr>\n",
       "    <tr>\n",
       "      <th>4</th>\n",
       "      <td>12 Angry Men</td>\n",
       "      <td>1957</td>\n",
       "      <td>8.9</td>\n",
       "      <td>tt0050083</td>\n",
       "      <td>Not Rated</td>\n",
       "    </tr>\n",
       "    <tr>\n",
       "      <th>5</th>\n",
       "      <td>Schindler's List</td>\n",
       "      <td>1993</td>\n",
       "      <td>8.9</td>\n",
       "      <td>tt0108052</td>\n",
       "      <td>R</td>\n",
       "    </tr>\n",
       "    <tr>\n",
       "      <th>6</th>\n",
       "      <td>Pulp Fiction</td>\n",
       "      <td>1994</td>\n",
       "      <td>8.9</td>\n",
       "      <td>tt0110912</td>\n",
       "      <td>R</td>\n",
       "    </tr>\n",
       "    <tr>\n",
       "      <th>7</th>\n",
       "      <td>The Good, the Bad and the Ugly</td>\n",
       "      <td>1966</td>\n",
       "      <td>8.9</td>\n",
       "      <td>tt0060196</td>\n",
       "      <td>Not Rated</td>\n",
       "    </tr>\n",
       "    <tr>\n",
       "      <th>8</th>\n",
       "      <td>The Lord of the Rings: The Return of the King</td>\n",
       "      <td>2003</td>\n",
       "      <td>8.9</td>\n",
       "      <td>tt0167260</td>\n",
       "      <td>PG-13</td>\n",
       "    </tr>\n",
       "    <tr>\n",
       "      <th>9</th>\n",
       "      <td>Fight Club</td>\n",
       "      <td>1999</td>\n",
       "      <td>8.8</td>\n",
       "      <td>tt0137523</td>\n",
       "      <td>R</td>\n",
       "    </tr>\n",
       "    <tr>\n",
       "      <th>10</th>\n",
       "      <td>The Lord of the Rings: The Fellowship of the Ring</td>\n",
       "      <td>2001</td>\n",
       "      <td>8.8</td>\n",
       "      <td>tt0120737</td>\n",
       "      <td>PG-13</td>\n",
       "    </tr>\n",
       "    <tr>\n",
       "      <th>11</th>\n",
       "      <td>Star Wars: Episode V - The Empire Strikes Back</td>\n",
       "      <td>1980</td>\n",
       "      <td>8.7</td>\n",
       "      <td>tt0080684</td>\n",
       "      <td>PG</td>\n",
       "    </tr>\n",
       "    <tr>\n",
       "      <th>12</th>\n",
       "      <td>Forrest Gump</td>\n",
       "      <td>1994</td>\n",
       "      <td>8.7</td>\n",
       "      <td>tt0109830</td>\n",
       "      <td>PG-13</td>\n",
       "    </tr>\n",
       "    <tr>\n",
       "      <th>13</th>\n",
       "      <td>Inception</td>\n",
       "      <td>2010</td>\n",
       "      <td>8.7</td>\n",
       "      <td>tt1375666</td>\n",
       "      <td>PG-13</td>\n",
       "    </tr>\n",
       "    <tr>\n",
       "      <th>14</th>\n",
       "      <td>One Flew Over the Cuckoo's Nest</td>\n",
       "      <td>1975</td>\n",
       "      <td>8.7</td>\n",
       "      <td>tt0073486</td>\n",
       "      <td>R</td>\n",
       "    </tr>\n",
       "    <tr>\n",
       "      <th>15</th>\n",
       "      <td>The Lord of the Rings: The Two Towers</td>\n",
       "      <td>2002</td>\n",
       "      <td>8.7</td>\n",
       "      <td>tt0167261</td>\n",
       "      <td>PG-13</td>\n",
       "    </tr>\n",
       "    <tr>\n",
       "      <th>16</th>\n",
       "      <td>The Matrix</td>\n",
       "      <td>1999</td>\n",
       "      <td>8.7</td>\n",
       "      <td>tt0133093</td>\n",
       "      <td>R</td>\n",
       "    </tr>\n",
       "    <tr>\n",
       "      <th>17</th>\n",
       "      <td>Goodfellas</td>\n",
       "      <td>1990</td>\n",
       "      <td>8.7</td>\n",
       "      <td>tt0099685</td>\n",
       "      <td>R</td>\n",
       "    </tr>\n",
       "    <tr>\n",
       "      <th>18</th>\n",
       "      <td>Star Wars</td>\n",
       "      <td>1977</td>\n",
       "      <td>8.7</td>\n",
       "      <td>tt0076759</td>\n",
       "      <td>PG</td>\n",
       "    </tr>\n",
       "    <tr>\n",
       "      <th>19</th>\n",
       "      <td>Seven Samurai</td>\n",
       "      <td>1954</td>\n",
       "      <td>8.7</td>\n",
       "      <td>tt0047478</td>\n",
       "      <td>Unrated</td>\n",
       "    </tr>\n",
       "    <tr>\n",
       "      <th>20</th>\n",
       "      <td>City of God</td>\n",
       "      <td>2002</td>\n",
       "      <td>8.6</td>\n",
       "      <td>tt0317248</td>\n",
       "      <td>R</td>\n",
       "    </tr>\n",
       "    <tr>\n",
       "      <th>21</th>\n",
       "      <td>Se7en</td>\n",
       "      <td>1995</td>\n",
       "      <td>8.6</td>\n",
       "      <td>tt0114369</td>\n",
       "      <td>R</td>\n",
       "    </tr>\n",
       "    <tr>\n",
       "      <th>22</th>\n",
       "      <td>The Silence of the Lambs</td>\n",
       "      <td>1991</td>\n",
       "      <td>8.6</td>\n",
       "      <td>tt0102926</td>\n",
       "      <td>R</td>\n",
       "    </tr>\n",
       "    <tr>\n",
       "      <th>23</th>\n",
       "      <td>The Usual Suspects</td>\n",
       "      <td>1995</td>\n",
       "      <td>8.6</td>\n",
       "      <td>tt0114814</td>\n",
       "      <td>R</td>\n",
       "    </tr>\n",
       "    <tr>\n",
       "      <th>24</th>\n",
       "      <td>It's a Wonderful Life</td>\n",
       "      <td>1946</td>\n",
       "      <td>8.6</td>\n",
       "      <td>tt0038650</td>\n",
       "      <td>Approved</td>\n",
       "    </tr>\n",
       "    <tr>\n",
       "      <th>25</th>\n",
       "      <td>Life Is Beautiful</td>\n",
       "      <td>1997</td>\n",
       "      <td>8.6</td>\n",
       "      <td>tt0118799</td>\n",
       "      <td>PG-13</td>\n",
       "    </tr>\n",
       "    <tr>\n",
       "      <th>26</th>\n",
       "      <td>Léon: The Professional</td>\n",
       "      <td>1994</td>\n",
       "      <td>8.6</td>\n",
       "      <td>tt0110413</td>\n",
       "      <td>R</td>\n",
       "    </tr>\n",
       "    <tr>\n",
       "      <th>27</th>\n",
       "      <td>Once Upon a Time in the West</td>\n",
       "      <td>1968</td>\n",
       "      <td>8.6</td>\n",
       "      <td>tt0064116</td>\n",
       "      <td>PG-13</td>\n",
       "    </tr>\n",
       "    <tr>\n",
       "      <th>28</th>\n",
       "      <td>Star Wars: The Force Awakens</td>\n",
       "      <td>2015</td>\n",
       "      <td>8.5</td>\n",
       "      <td>tt2488496</td>\n",
       "      <td>PG-13</td>\n",
       "    </tr>\n",
       "    <tr>\n",
       "      <th>29</th>\n",
       "      <td>Interstellar</td>\n",
       "      <td>2014</td>\n",
       "      <td>8.5</td>\n",
       "      <td>tt0816692</td>\n",
       "      <td>PG-13</td>\n",
       "    </tr>\n",
       "    <tr>\n",
       "      <th>...</th>\n",
       "      <td>...</td>\n",
       "      <td>...</td>\n",
       "      <td>...</td>\n",
       "      <td>...</td>\n",
       "      <td>...</td>\n",
       "    </tr>\n",
       "    <tr>\n",
       "      <th>220</th>\n",
       "      <td>Barry Lyndon</td>\n",
       "      <td>1975</td>\n",
       "      <td>8.0</td>\n",
       "      <td>tt0072684</td>\n",
       "      <td>PG</td>\n",
       "    </tr>\n",
       "    <tr>\n",
       "      <th>221</th>\n",
       "      <td>Fanny and Alexander</td>\n",
       "      <td>1982</td>\n",
       "      <td>8.0</td>\n",
       "      <td>tt0083922</td>\n",
       "      <td>R</td>\n",
       "    </tr>\n",
       "    <tr>\n",
       "      <th>222</th>\n",
       "      <td>Throne of Blood</td>\n",
       "      <td>1957</td>\n",
       "      <td>8.0</td>\n",
       "      <td>tt0050613</td>\n",
       "      <td>Unrated</td>\n",
       "    </tr>\n",
       "    <tr>\n",
       "      <th>223</th>\n",
       "      <td>La Haine</td>\n",
       "      <td>1995</td>\n",
       "      <td>8.0</td>\n",
       "      <td>tt0113247</td>\n",
       "      <td>Not Rated</td>\n",
       "    </tr>\n",
       "    <tr>\n",
       "      <th>224</th>\n",
       "      <td>Guardians of the Galaxy</td>\n",
       "      <td>2014</td>\n",
       "      <td>8.0</td>\n",
       "      <td>tt2015381</td>\n",
       "      <td>PG-13</td>\n",
       "    </tr>\n",
       "    <tr>\n",
       "      <th>225</th>\n",
       "      <td>Yip Man</td>\n",
       "      <td>2008</td>\n",
       "      <td>8.0</td>\n",
       "      <td>tt1220719</td>\n",
       "      <td>R</td>\n",
       "    </tr>\n",
       "    <tr>\n",
       "      <th>226</th>\n",
       "      <td>The Imitation Game</td>\n",
       "      <td>2014</td>\n",
       "      <td>8.0</td>\n",
       "      <td>tt2084970</td>\n",
       "      <td>PG-13</td>\n",
       "    </tr>\n",
       "    <tr>\n",
       "      <th>227</th>\n",
       "      <td>The King's Speech</td>\n",
       "      <td>2010</td>\n",
       "      <td>8.0</td>\n",
       "      <td>tt1504320</td>\n",
       "      <td>R</td>\n",
       "    </tr>\n",
       "    <tr>\n",
       "      <th>228</th>\n",
       "      <td>A Fistful of Dollars</td>\n",
       "      <td>1964</td>\n",
       "      <td>8.0</td>\n",
       "      <td>tt0058461</td>\n",
       "      <td>R</td>\n",
       "    </tr>\n",
       "    <tr>\n",
       "      <th>229</th>\n",
       "      <td>High Noon</td>\n",
       "      <td>1952</td>\n",
       "      <td>8.0</td>\n",
       "      <td>tt0044706</td>\n",
       "      <td>PG</td>\n",
       "    </tr>\n",
       "    <tr>\n",
       "      <th>230</th>\n",
       "      <td>Prisoners</td>\n",
       "      <td>2013</td>\n",
       "      <td>8.0</td>\n",
       "      <td>tt1392214</td>\n",
       "      <td>R</td>\n",
       "    </tr>\n",
       "    <tr>\n",
       "      <th>231</th>\n",
       "      <td>Pirates of the Caribbean: The Curse of the Bla...</td>\n",
       "      <td>2003</td>\n",
       "      <td>8.0</td>\n",
       "      <td>tt0325980</td>\n",
       "      <td>PG-13</td>\n",
       "    </tr>\n",
       "    <tr>\n",
       "      <th>232</th>\n",
       "      <td>Castle in the Sky</td>\n",
       "      <td>1986</td>\n",
       "      <td>8.0</td>\n",
       "      <td>tt0092067</td>\n",
       "      <td>PG</td>\n",
       "    </tr>\n",
       "    <tr>\n",
       "      <th>233</th>\n",
       "      <td>The Help</td>\n",
       "      <td>2011</td>\n",
       "      <td>8.0</td>\n",
       "      <td>tt1454029</td>\n",
       "      <td>PG-13</td>\n",
       "    </tr>\n",
       "    <tr>\n",
       "      <th>234</th>\n",
       "      <td>Notorious</td>\n",
       "      <td>1946</td>\n",
       "      <td>8.0</td>\n",
       "      <td>tt0038787</td>\n",
       "      <td>Approved</td>\n",
       "    </tr>\n",
       "    <tr>\n",
       "      <th>235</th>\n",
       "      <td>Roman Holiday</td>\n",
       "      <td>1953</td>\n",
       "      <td>8.0</td>\n",
       "      <td>tt0046250</td>\n",
       "      <td>Not Rated</td>\n",
       "    </tr>\n",
       "    <tr>\n",
       "      <th>236</th>\n",
       "      <td>Who's Afraid of Virginia Woolf?</td>\n",
       "      <td>1966</td>\n",
       "      <td>8.0</td>\n",
       "      <td>tt0061184</td>\n",
       "      <td>TV-MA</td>\n",
       "    </tr>\n",
       "    <tr>\n",
       "      <th>237</th>\n",
       "      <td>Papillon</td>\n",
       "      <td>1973</td>\n",
       "      <td>8.0</td>\n",
       "      <td>tt0070511</td>\n",
       "      <td>R</td>\n",
       "    </tr>\n",
       "    <tr>\n",
       "      <th>238</th>\n",
       "      <td>Spring, Summer, Fall, Winter... and Spring</td>\n",
       "      <td>2003</td>\n",
       "      <td>8.0</td>\n",
       "      <td>tt0374546</td>\n",
       "      <td>R</td>\n",
       "    </tr>\n",
       "    <tr>\n",
       "      <th>239</th>\n",
       "      <td>Beauty and the Beast</td>\n",
       "      <td>1991</td>\n",
       "      <td>8.0</td>\n",
       "      <td>tt0101414</td>\n",
       "      <td>G</td>\n",
       "    </tr>\n",
       "    <tr>\n",
       "      <th>240</th>\n",
       "      <td>The Night of the Hunter</td>\n",
       "      <td>1955</td>\n",
       "      <td>8.0</td>\n",
       "      <td>tt0048424</td>\n",
       "      <td>Approved</td>\n",
       "    </tr>\n",
       "    <tr>\n",
       "      <th>241</th>\n",
       "      <td>Anatomy of a Murder</td>\n",
       "      <td>1959</td>\n",
       "      <td>8.0</td>\n",
       "      <td>tt0052561</td>\n",
       "      <td>Unrated</td>\n",
       "    </tr>\n",
       "    <tr>\n",
       "      <th>242</th>\n",
       "      <td>Before Sunset</td>\n",
       "      <td>2004</td>\n",
       "      <td>8.0</td>\n",
       "      <td>tt0381681</td>\n",
       "      <td>R</td>\n",
       "    </tr>\n",
       "    <tr>\n",
       "      <th>243</th>\n",
       "      <td>Catch Me If You Can</td>\n",
       "      <td>2002</td>\n",
       "      <td>8.0</td>\n",
       "      <td>tt0264464</td>\n",
       "      <td>PG-13</td>\n",
       "    </tr>\n",
       "    <tr>\n",
       "      <th>244</th>\n",
       "      <td>Lagaan: Once Upon a Time in India</td>\n",
       "      <td>2001</td>\n",
       "      <td>8.0</td>\n",
       "      <td>tt0169102</td>\n",
       "      <td>PG</td>\n",
       "    </tr>\n",
       "    <tr>\n",
       "      <th>245</th>\n",
       "      <td>Gangs of Wasseypur</td>\n",
       "      <td>2012</td>\n",
       "      <td>8.0</td>\n",
       "      <td>tt1954470</td>\n",
       "      <td>No Rating</td>\n",
       "    </tr>\n",
       "    <tr>\n",
       "      <th>246</th>\n",
       "      <td>Three Colors: Red</td>\n",
       "      <td>1994</td>\n",
       "      <td>8.0</td>\n",
       "      <td>tt0111495</td>\n",
       "      <td>R</td>\n",
       "    </tr>\n",
       "    <tr>\n",
       "      <th>247</th>\n",
       "      <td>Chakde! India</td>\n",
       "      <td>2007</td>\n",
       "      <td>8.0</td>\n",
       "      <td>tt0871510</td>\n",
       "      <td>No Rating</td>\n",
       "    </tr>\n",
       "    <tr>\n",
       "      <th>248</th>\n",
       "      <td>La Strada</td>\n",
       "      <td>1954</td>\n",
       "      <td>8.0</td>\n",
       "      <td>tt0047528</td>\n",
       "      <td>Not Rated</td>\n",
       "    </tr>\n",
       "    <tr>\n",
       "      <th>249</th>\n",
       "      <td>The Graduate</td>\n",
       "      <td>1967</td>\n",
       "      <td>8.0</td>\n",
       "      <td>tt0061722</td>\n",
       "      <td>Approved</td>\n",
       "    </tr>\n",
       "  </tbody>\n",
       "</table>\n",
       "<p>250 rows × 5 columns</p>\n",
       "</div>"
      ],
      "text/plain": [
       "                                                 Title  Year  Rating  \\\n",
       "0                             The Shawshank Redemption  1994     9.2   \n",
       "1                                        The Godfather  1972     9.2   \n",
       "2                               The Godfather: Part II  1974     9.0   \n",
       "3                                      The Dark Knight  2008     8.9   \n",
       "4                                         12 Angry Men  1957     8.9   \n",
       "5                                     Schindler's List  1993     8.9   \n",
       "6                                         Pulp Fiction  1994     8.9   \n",
       "7                       The Good, the Bad and the Ugly  1966     8.9   \n",
       "8        The Lord of the Rings: The Return of the King  2003     8.9   \n",
       "9                                           Fight Club  1999     8.8   \n",
       "10   The Lord of the Rings: The Fellowship of the Ring  2001     8.8   \n",
       "11      Star Wars: Episode V - The Empire Strikes Back  1980     8.7   \n",
       "12                                        Forrest Gump  1994     8.7   \n",
       "13                                           Inception  2010     8.7   \n",
       "14                     One Flew Over the Cuckoo's Nest  1975     8.7   \n",
       "15               The Lord of the Rings: The Two Towers  2002     8.7   \n",
       "16                                          The Matrix  1999     8.7   \n",
       "17                                          Goodfellas  1990     8.7   \n",
       "18                                           Star Wars  1977     8.7   \n",
       "19                                       Seven Samurai  1954     8.7   \n",
       "20                                         City of God  2002     8.6   \n",
       "21                                               Se7en  1995     8.6   \n",
       "22                            The Silence of the Lambs  1991     8.6   \n",
       "23                                  The Usual Suspects  1995     8.6   \n",
       "24                               It's a Wonderful Life  1946     8.6   \n",
       "25                                   Life Is Beautiful  1997     8.6   \n",
       "26                              Léon: The Professional  1994     8.6   \n",
       "27                        Once Upon a Time in the West  1968     8.6   \n",
       "28                        Star Wars: The Force Awakens  2015     8.5   \n",
       "29                                        Interstellar  2014     8.5   \n",
       "..                                                 ...   ...     ...   \n",
       "220                                       Barry Lyndon  1975     8.0   \n",
       "221                                Fanny and Alexander  1982     8.0   \n",
       "222                                    Throne of Blood  1957     8.0   \n",
       "223                                           La Haine  1995     8.0   \n",
       "224                            Guardians of the Galaxy  2014     8.0   \n",
       "225                                            Yip Man  2008     8.0   \n",
       "226                                 The Imitation Game  2014     8.0   \n",
       "227                                  The King's Speech  2010     8.0   \n",
       "228                               A Fistful of Dollars  1964     8.0   \n",
       "229                                          High Noon  1952     8.0   \n",
       "230                                          Prisoners  2013     8.0   \n",
       "231  Pirates of the Caribbean: The Curse of the Bla...  2003     8.0   \n",
       "232                                  Castle in the Sky  1986     8.0   \n",
       "233                                           The Help  2011     8.0   \n",
       "234                                          Notorious  1946     8.0   \n",
       "235                                      Roman Holiday  1953     8.0   \n",
       "236                    Who's Afraid of Virginia Woolf?  1966     8.0   \n",
       "237                                           Papillon  1973     8.0   \n",
       "238         Spring, Summer, Fall, Winter... and Spring  2003     8.0   \n",
       "239                               Beauty and the Beast  1991     8.0   \n",
       "240                            The Night of the Hunter  1955     8.0   \n",
       "241                                Anatomy of a Murder  1959     8.0   \n",
       "242                                      Before Sunset  2004     8.0   \n",
       "243                                Catch Me If You Can  2002     8.0   \n",
       "244                  Lagaan: Once Upon a Time in India  2001     8.0   \n",
       "245                                 Gangs of Wasseypur  2012     8.0   \n",
       "246                                  Three Colors: Red  1994     8.0   \n",
       "247                                      Chakde! India  2007     8.0   \n",
       "248                                          La Strada  1954     8.0   \n",
       "249                                       The Graduate  1967     8.0   \n",
       "\n",
       "      UniqueID ContentRating  \n",
       "0    tt0111161             R  \n",
       "1    tt0068646             R  \n",
       "2    tt0071562             R  \n",
       "3    tt0468569         PG-13  \n",
       "4    tt0050083     Not Rated  \n",
       "5    tt0108052             R  \n",
       "6    tt0110912             R  \n",
       "7    tt0060196     Not Rated  \n",
       "8    tt0167260         PG-13  \n",
       "9    tt0137523             R  \n",
       "10   tt0120737         PG-13  \n",
       "11   tt0080684            PG  \n",
       "12   tt0109830         PG-13  \n",
       "13   tt1375666         PG-13  \n",
       "14   tt0073486             R  \n",
       "15   tt0167261         PG-13  \n",
       "16   tt0133093             R  \n",
       "17   tt0099685             R  \n",
       "18   tt0076759            PG  \n",
       "19   tt0047478       Unrated  \n",
       "20   tt0317248             R  \n",
       "21   tt0114369             R  \n",
       "22   tt0102926             R  \n",
       "23   tt0114814             R  \n",
       "24   tt0038650      Approved  \n",
       "25   tt0118799         PG-13  \n",
       "26   tt0110413             R  \n",
       "27   tt0064116         PG-13  \n",
       "28   tt2488496         PG-13  \n",
       "29   tt0816692         PG-13  \n",
       "..         ...           ...  \n",
       "220  tt0072684            PG  \n",
       "221  tt0083922             R  \n",
       "222  tt0050613       Unrated  \n",
       "223  tt0113247     Not Rated  \n",
       "224  tt2015381         PG-13  \n",
       "225  tt1220719             R  \n",
       "226  tt2084970         PG-13  \n",
       "227  tt1504320             R  \n",
       "228  tt0058461             R  \n",
       "229  tt0044706            PG  \n",
       "230  tt1392214             R  \n",
       "231  tt0325980         PG-13  \n",
       "232  tt0092067            PG  \n",
       "233  tt1454029         PG-13  \n",
       "234  tt0038787      Approved  \n",
       "235  tt0046250     Not Rated  \n",
       "236  tt0061184         TV-MA  \n",
       "237  tt0070511             R  \n",
       "238  tt0374546             R  \n",
       "239  tt0101414             G  \n",
       "240  tt0048424      Approved  \n",
       "241  tt0052561       Unrated  \n",
       "242  tt0381681             R  \n",
       "243  tt0264464         PG-13  \n",
       "244  tt0169102            PG  \n",
       "245  tt1954470     No Rating  \n",
       "246  tt0111495             R  \n",
       "247  tt0871510     No Rating  \n",
       "248  tt0047528     Not Rated  \n",
       "249  tt0061722      Approved  \n",
       "\n",
       "[250 rows x 5 columns]"
      ]
     },
     "execution_count": 116,
     "metadata": {},
     "output_type": "execute_result"
    }
   ],
   "source": [
    "# Questions:\n",
    "# How many of the Top movies are rated 'R'? \n",
    "# What is the average duration of movies with a star_rating above 9? \n",
    "# What is the average duration of movies before 1985 and after?\n",
    "\n",
    "\n",
    "# imdb250 = BeautifulSoup(r.text, 'html.parser')\n",
    "# imdb250.find(name='meta', attrs={'itemprop':'contentRating'}).attrs['content']\n",
    "\n",
    "def get_movie_rating(UniqueID):\n",
    "    r = requests.get('http://www.imdb.com/title/' + UniqueID)\n",
    "    movie = BeautifulSoup(r.text, 'html.parser')\n",
    "    try:\n",
    "        return movie.find(name='meta', attrs={'itemprop':'contentRating'}).text.split('\\n')[0]\n",
    "    except AttributeError:\n",
    "        return 'No Rating'\n",
    "\n",
    "from time import sleep\n",
    "\n",
    "contentRating = []\n",
    "for ID in idList:\n",
    "    contentRating.append(get_movie_rating(ID))\n",
    "    sleep(3)\n",
    "\n",
    "imdb_top250['ContentRating']=contentRating\n",
    "imdb_top250\n",
    "\n",
    "# get_movie_rating(imdb_top250.UniqueID[20])\n"
   ]
  },
  {
   "cell_type": "code",
   "execution_count": 117,
   "metadata": {
    "collapsed": false
   },
   "outputs": [
    {
     "data": {
      "text/html": [
       "<div>\n",
       "<table border=\"1\" class=\"dataframe\">\n",
       "  <thead>\n",
       "    <tr style=\"text-align: right;\">\n",
       "      <th></th>\n",
       "      <th>Title</th>\n",
       "      <th>Year</th>\n",
       "      <th>Rating</th>\n",
       "      <th>UniqueID</th>\n",
       "      <th>ContentRating</th>\n",
       "    </tr>\n",
       "  </thead>\n",
       "  <tbody>\n",
       "    <tr>\n",
       "      <th>0</th>\n",
       "      <td>The Shawshank Redemption</td>\n",
       "      <td>1994</td>\n",
       "      <td>9.2</td>\n",
       "      <td>tt0111161</td>\n",
       "      <td>R</td>\n",
       "    </tr>\n",
       "    <tr>\n",
       "      <th>1</th>\n",
       "      <td>The Godfather</td>\n",
       "      <td>1972</td>\n",
       "      <td>9.2</td>\n",
       "      <td>tt0068646</td>\n",
       "      <td>R</td>\n",
       "    </tr>\n",
       "    <tr>\n",
       "      <th>2</th>\n",
       "      <td>The Godfather: Part II</td>\n",
       "      <td>1974</td>\n",
       "      <td>9.0</td>\n",
       "      <td>tt0071562</td>\n",
       "      <td>R</td>\n",
       "    </tr>\n",
       "    <tr>\n",
       "      <th>3</th>\n",
       "      <td>The Dark Knight</td>\n",
       "      <td>2008</td>\n",
       "      <td>8.9</td>\n",
       "      <td>tt0468569</td>\n",
       "      <td>PG-13</td>\n",
       "    </tr>\n",
       "    <tr>\n",
       "      <th>4</th>\n",
       "      <td>12 Angry Men</td>\n",
       "      <td>1957</td>\n",
       "      <td>8.9</td>\n",
       "      <td>tt0050083</td>\n",
       "      <td>Not Rated</td>\n",
       "    </tr>\n",
       "  </tbody>\n",
       "</table>\n",
       "</div>"
      ],
      "text/plain": [
       "                      Title  Year  Rating   UniqueID ContentRating\n",
       "0  The Shawshank Redemption  1994     9.2  tt0111161             R\n",
       "1             The Godfather  1972     9.2  tt0068646             R\n",
       "2    The Godfather: Part II  1974     9.0  tt0071562             R\n",
       "3           The Dark Knight  2008     8.9  tt0468569         PG-13\n",
       "4              12 Angry Men  1957     8.9  tt0050083     Not Rated"
      ]
     },
     "execution_count": 117,
     "metadata": {},
     "output_type": "execute_result"
    }
   ],
   "source": [
    "imdb_top250.head()"
   ]
  },
  {
   "cell_type": "code",
   "execution_count": 122,
   "metadata": {
    "collapsed": false
   },
   "outputs": [
    {
     "data": {
      "text/html": [
       "<div>\n",
       "<table border=\"1\" class=\"dataframe\">\n",
       "  <thead>\n",
       "    <tr style=\"text-align: right;\">\n",
       "      <th></th>\n",
       "      <th>Title</th>\n",
       "      <th>Year</th>\n",
       "      <th>Rating</th>\n",
       "      <th>UniqueID</th>\n",
       "    </tr>\n",
       "    <tr>\n",
       "      <th>ContentRating</th>\n",
       "      <th></th>\n",
       "      <th></th>\n",
       "      <th></th>\n",
       "      <th></th>\n",
       "    </tr>\n",
       "  </thead>\n",
       "  <tbody>\n",
       "    <tr>\n",
       "      <th>Approved</th>\n",
       "      <td>18</td>\n",
       "      <td>18</td>\n",
       "      <td>18</td>\n",
       "      <td>18</td>\n",
       "    </tr>\n",
       "    <tr>\n",
       "      <th>G</th>\n",
       "      <td>13</td>\n",
       "      <td>13</td>\n",
       "      <td>13</td>\n",
       "      <td>13</td>\n",
       "    </tr>\n",
       "    <tr>\n",
       "      <th>M</th>\n",
       "      <td>1</td>\n",
       "      <td>1</td>\n",
       "      <td>1</td>\n",
       "      <td>1</td>\n",
       "    </tr>\n",
       "    <tr>\n",
       "      <th>No Rating</th>\n",
       "      <td>2</td>\n",
       "      <td>2</td>\n",
       "      <td>2</td>\n",
       "      <td>2</td>\n",
       "    </tr>\n",
       "    <tr>\n",
       "      <th>Not Rated</th>\n",
       "      <td>32</td>\n",
       "      <td>32</td>\n",
       "      <td>32</td>\n",
       "      <td>32</td>\n",
       "    </tr>\n",
       "    <tr>\n",
       "      <th>PG</th>\n",
       "      <td>30</td>\n",
       "      <td>30</td>\n",
       "      <td>30</td>\n",
       "      <td>30</td>\n",
       "    </tr>\n",
       "    <tr>\n",
       "      <th>PG-13</th>\n",
       "      <td>34</td>\n",
       "      <td>34</td>\n",
       "      <td>34</td>\n",
       "      <td>34</td>\n",
       "    </tr>\n",
       "    <tr>\n",
       "      <th>Passed</th>\n",
       "      <td>3</td>\n",
       "      <td>3</td>\n",
       "      <td>3</td>\n",
       "      <td>3</td>\n",
       "    </tr>\n",
       "    <tr>\n",
       "      <th>R</th>\n",
       "      <td>104</td>\n",
       "      <td>104</td>\n",
       "      <td>104</td>\n",
       "      <td>104</td>\n",
       "    </tr>\n",
       "    <tr>\n",
       "      <th>TV-MA</th>\n",
       "      <td>1</td>\n",
       "      <td>1</td>\n",
       "      <td>1</td>\n",
       "      <td>1</td>\n",
       "    </tr>\n",
       "    <tr>\n",
       "      <th>Unrated</th>\n",
       "      <td>11</td>\n",
       "      <td>11</td>\n",
       "      <td>11</td>\n",
       "      <td>11</td>\n",
       "    </tr>\n",
       "    <tr>\n",
       "      <th>X</th>\n",
       "      <td>1</td>\n",
       "      <td>1</td>\n",
       "      <td>1</td>\n",
       "      <td>1</td>\n",
       "    </tr>\n",
       "  </tbody>\n",
       "</table>\n",
       "</div>"
      ],
      "text/plain": [
       "               Title  Year  Rating  UniqueID\n",
       "ContentRating                               \n",
       "Approved          18    18      18        18\n",
       "G                 13    13      13        13\n",
       "M                  1     1       1         1\n",
       "No Rating          2     2       2         2\n",
       "Not Rated         32    32      32        32\n",
       "PG                30    30      30        30\n",
       "PG-13             34    34      34        34\n",
       "Passed             3     3       3         3\n",
       "R                104   104     104       104\n",
       "TV-MA              1     1       1         1\n",
       "Unrated           11    11      11        11\n",
       "X                  1     1       1         1"
      ]
     },
     "execution_count": 122,
     "metadata": {},
     "output_type": "execute_result"
    }
   ],
   "source": [
    "# Questions:\n",
    "# How many of the Top movies are rated 'R'? \n",
    "\n",
    "imdb_top250.groupby('ContentRating').count() # 104 movies in TOp 250 are rated R\n",
    "# imdb_top250[imdb_top250.ContentRating == 'R'].count()\n"
   ]
  },
  {
   "cell_type": "code",
   "execution_count": 123,
   "metadata": {
    "collapsed": false
   },
   "outputs": [
    {
     "data": {
      "text/html": [
       "<div>\n",
       "<table border=\"1\" class=\"dataframe\">\n",
       "  <thead>\n",
       "    <tr style=\"text-align: right;\">\n",
       "      <th></th>\n",
       "      <th>Title</th>\n",
       "      <th>Year</th>\n",
       "      <th>Rating</th>\n",
       "      <th>UniqueID</th>\n",
       "      <th>ContentRating</th>\n",
       "      <th>Duration</th>\n",
       "    </tr>\n",
       "  </thead>\n",
       "  <tbody>\n",
       "    <tr>\n",
       "      <th>0</th>\n",
       "      <td>The Shawshank Redemption</td>\n",
       "      <td>1994</td>\n",
       "      <td>9.2</td>\n",
       "      <td>tt0111161</td>\n",
       "      <td>R</td>\n",
       "      <td>142</td>\n",
       "    </tr>\n",
       "    <tr>\n",
       "      <th>1</th>\n",
       "      <td>The Godfather</td>\n",
       "      <td>1972</td>\n",
       "      <td>9.2</td>\n",
       "      <td>tt0068646</td>\n",
       "      <td>R</td>\n",
       "      <td>175</td>\n",
       "    </tr>\n",
       "    <tr>\n",
       "      <th>2</th>\n",
       "      <td>The Godfather: Part II</td>\n",
       "      <td>1974</td>\n",
       "      <td>9.0</td>\n",
       "      <td>tt0071562</td>\n",
       "      <td>R</td>\n",
       "      <td>202</td>\n",
       "    </tr>\n",
       "    <tr>\n",
       "      <th>3</th>\n",
       "      <td>The Dark Knight</td>\n",
       "      <td>2008</td>\n",
       "      <td>8.9</td>\n",
       "      <td>tt0468569</td>\n",
       "      <td>PG-13</td>\n",
       "      <td>152</td>\n",
       "    </tr>\n",
       "    <tr>\n",
       "      <th>4</th>\n",
       "      <td>12 Angry Men</td>\n",
       "      <td>1957</td>\n",
       "      <td>8.9</td>\n",
       "      <td>tt0050083</td>\n",
       "      <td>Not Rated</td>\n",
       "      <td>96</td>\n",
       "    </tr>\n",
       "  </tbody>\n",
       "</table>\n",
       "</div>"
      ],
      "text/plain": [
       "                      Title  Year  Rating   UniqueID ContentRating  Duration\n",
       "0  The Shawshank Redemption  1994     9.2  tt0111161             R       142\n",
       "1             The Godfather  1972     9.2  tt0068646             R       175\n",
       "2    The Godfather: Part II  1974     9.0  tt0071562             R       202\n",
       "3           The Dark Knight  2008     8.9  tt0468569         PG-13       152\n",
       "4              12 Angry Men  1957     8.9  tt0050083     Not Rated        96"
      ]
     },
     "execution_count": 123,
     "metadata": {},
     "output_type": "execute_result"
    }
   ],
   "source": [
    "# Questions:\n",
    "# What is the average duration of movies with a star_rating above 9? \n",
    "\n",
    "def get_movie_duration(UniqueID):\n",
    "    r = requests.get('http://www.imdb.com/title/' + str(UniqueID))\n",
    "    movie = BeautifulSoup(r.text, 'html.parser')\n",
    "    return int(movie.find(name='time', attrs={'itemprop':'duration'}).attrs['datetime'][2:-1])\n",
    "\n",
    "from time import sleep\n",
    "duration = []\n",
    "for ID in imdb_top250.UniqueID:\n",
    "    duration.append(get_movie_duration(ID))\n",
    "    sleep(3)\n",
    "\n",
    "imdb_top250['Duration']=duration\n",
    "imdb_top250.head()\n"
   ]
  },
  {
   "cell_type": "code",
   "execution_count": 124,
   "metadata": {
    "collapsed": false
   },
   "outputs": [
    {
     "data": {
      "text/plain": [
       "158.5"
      ]
     },
     "execution_count": 124,
     "metadata": {},
     "output_type": "execute_result"
    }
   ],
   "source": [
    "# average duration of movies with a star_rating above 9\n",
    "imdb_top250[imdb_top250.Rating > 9].Duration.mean()\n"
   ]
  },
  {
   "cell_type": "code",
   "execution_count": 125,
   "metadata": {
    "collapsed": false
   },
   "outputs": [
    {
     "data": {
      "text/plain": [
       "127.28571428571429"
      ]
     },
     "execution_count": 125,
     "metadata": {},
     "output_type": "execute_result"
    }
   ],
   "source": [
    "# Average duration of movies before 1985\n",
    "imdb_top250[imdb_top250.Year < 1985].Duration.mean()"
   ]
  },
  {
   "cell_type": "code",
   "execution_count": 126,
   "metadata": {
    "collapsed": false
   },
   "outputs": [
    {
     "data": {
      "text/plain": [
       "129.71323529411765"
      ]
     },
     "execution_count": 126,
     "metadata": {},
     "output_type": "execute_result"
    }
   ],
   "source": [
    "# Average duration of movies and after\n",
    "imdb_top250[imdb_top250.Year > 1985].Duration.mean()"
   ]
  },
  {
   "cell_type": "markdown",
   "metadata": {},
   "source": [
    "### Optional Wed Scraping Homework\n",
    "\n",
    "First, define a function that accepts an IMDb ID and returns a dictionary of\n",
    "movie information: title, star_rating, description, content_rating, duration.\n",
    "The function should gather this information by scraping the IMDb website, not\n",
    "by calling the OMDb API. (This is really just a wrapper of the web scraping\n",
    "code we wrote above.)\n",
    "\n",
    "For example, `get_movie_info('tt0111161')` should return:\n",
    "```\n",
    "{'content_rating': 'R',\n",
    " 'description': u'Two imprisoned men bond over a number of years...',\n",
    " 'duration': 142,\n",
    " 'star_rating': 9.3,\n",
    " 'title': u'The Shawshank Redemption'}\n",
    " ```\n",
    "\n",
    "Then, open the file imdb_ids.txt using Python, and write a for loop that builds\n",
    "a list in which each element is a dictionary of movie information.\n",
    "Finally, convert that list into a DataFrame.\n",
    "\n",
    "### Bonus -- Challenge\n",
    "\n",
    "Can you scrape the IMDB Top 250 list (http://www.imdb.com/chart/top?ref_=nv_mv_250_6) and return a Data frame with the movide name, rating, year and the unique movie identifier ie('tt0111161')?\n",
    "\n",
    "Use the function above to scrape each of the movie pages.\n",
    "\n",
    "**Questions:**\n",
    "\n",
    "How many of the Top movies are rated 'R'?\n",
    "\n",
    "What is the average duration of movies with a star_rating above 9?\n",
    "\n",
    "What is the average duration of movies before 1985 and after?\n",
    "\n"
   ]
  },
  {
   "cell_type": "code",
   "execution_count": 377,
   "metadata": {
    "collapsed": false
   },
   "outputs": [
    {
     "data": {
      "text/plain": [
       "142"
      ]
     },
     "execution_count": 377,
     "metadata": {},
     "output_type": "execute_result"
    }
   ],
   "source": [
    "def get_movie_title(movieID):\n",
    "    r = requests.get('http://www.imdb.com/title/' + movieID)\n",
    "    movie = BeautifulSoup(r.text, 'html.parser')\n",
    "    try:\n",
    "        return movie.find(name='title').text.split(' (')[0]\n",
    "    except AttributeError:\n",
    "        return 'Na'\n",
    "    \n",
    "def get_movie_star_rating(movieID):\n",
    "    r = requests.get('http://www.imdb.com/title/' + movieID)\n",
    "    movie = BeautifulSoup(r.text, 'html.parser')\n",
    "    try:\n",
    "        return movie.find(name='span', attrs={'itemprop':'ratingValue'}).text\n",
    "    except AttributeError:\n",
    "        return 'Na'\n",
    "    \n",
    "# the function for description was very convoluted. any suggestions for how to streamline?\n",
    "def get_movie_description(movieID):\n",
    "    r = requests.get('http://www.imdb.com/title/' + movieID)\n",
    "    movie = BeautifulSoup(r.text, 'html.parser')\n",
    "    try:\n",
    "        return movie.find(name='div', attrs={'id':'title-overview-widget'}).text.split('\\n                    ')[3].split('\\n')[0]\n",
    "    except AttributeError:\n",
    "        return 'Na'\n",
    "    \n",
    "# def get_movie_duration(movieID):\n",
    "#     r = requests.get('http://www.imdb.com/title/' + movieID)\n",
    "#     movie = BeautifulSoup(r.text, 'html.parser')\n",
    "#     return movie.find(name='time', attrs={'itemprop':'duration'}).text # returns hours and minutes\n",
    "\n",
    "\n",
    "def get_movie_duration(UniqueID):\n",
    "    r = requests.get('http://www.imdb.com/title/' + str(UniqueID))\n",
    "    movie = BeautifulSoup(r.text, 'html.parser')\n",
    "    try:\n",
    "        return int(movie.find(name='time', attrs={'itemprop':'duration'}).attrs['datetime'][2:-1])\n",
    "    except AttributeError:\n",
    "        return 'Na'\n",
    "    \n",
    "get_movie_duration('tt1392170')\n"
   ]
  },
  {
   "cell_type": "code",
   "execution_count": 380,
   "metadata": {
    "collapsed": false
   },
   "outputs": [
    {
     "data": {
      "text/plain": [
       "{'content_rating': 'No Rating',\n",
       " 'description': 'Na',\n",
       " 'duration': 'Na',\n",
       " 'star_rating': 'Na',\n",
       " 'title': u'404 Error'}"
      ]
     },
     "execution_count": 380,
     "metadata": {},
     "output_type": "execute_result"
    }
   ],
   "source": [
    "def get_movie_info(movieID):\n",
    "    info = {}\n",
    "    info['title'] = get_movie_title(movieID)\n",
    "    info['star_rating'] = get_movie_star_rating(movieID)\n",
    "    info['description'] = get_movie_description(movieID)\n",
    "    info['content_rating'] = get_movie_rating(movieID)\n",
    "    info['duration'] = str(get_movie_duration(movieID))\n",
    "\n",
    "    return info\n",
    "    \n",
    "get_movie_info('')"
   ]
  },
  {
   "cell_type": "code",
   "execution_count": 381,
   "metadata": {
    "collapsed": true
   },
   "outputs": [],
   "source": [
    "# open the file imdb_ids.txt using Python\n",
    "with open('../DAT-DC-10/data/imdb_ids.txt', 'rU') as f:\n",
    "    imdb_ids = f.read().split('\\n')"
   ]
  },
  {
   "cell_type": "code",
   "execution_count": 382,
   "metadata": {
    "collapsed": false
   },
   "outputs": [
    {
     "data": {
      "text/plain": [
       "['tt0111161', 'tt1856010', 'tt0096694', 'tt0088763', 'tt1375666', '']"
      ]
     },
     "execution_count": 382,
     "metadata": {},
     "output_type": "execute_result"
    }
   ],
   "source": [
    "imdb_ids"
   ]
  },
  {
   "cell_type": "code",
   "execution_count": 389,
   "metadata": {
    "collapsed": false
   },
   "outputs": [
    {
     "data": {
      "text/plain": [
       "[{'content_rating': u'R',\n",
       "  'description': u'Two imprisoned men bond over a number of years, finding solace and eventual redemption through acts of common decency.',\n",
       "  'duration': '142',\n",
       "  'star_rating': u'9.3',\n",
       "  'title': u'The Shawshank Redemption'},\n",
       " {'content_rating': u'TV-MA',\n",
       "  'description': u'A Congressman works with his equally conniving wife to exact revenge on the people who betrayed him.',\n",
       "  'duration': '51',\n",
       "  'star_rating': u'9.0',\n",
       "  'title': u'House of Cards'},\n",
       " {'content_rating': u'TV-PG',\n",
       "  'description': u'A TV show centered on six students and their years at Bayside High School in Palisades, California.',\n",
       "  'duration': '30',\n",
       "  'star_rating': u'7.0',\n",
       "  'title': u'Saved by the Bell'},\n",
       " {'content_rating': u'PG',\n",
       "  'description': u'A young man is accidentally sent thirty years into the past in a time-traveling DeLorean invented by his friend, Dr. Emmett Brown, and must make sure his high-school-age parents unite in order to save his own existence.',\n",
       "  'duration': '116',\n",
       "  'star_rating': u'8.5',\n",
       "  'title': u'Back to the Future'},\n",
       " {'content_rating': u'PG-13',\n",
       "  'description': u'A thief who steals corporate secrets through use of the dream-sharing technology is given the inverse task of planting an idea into the mind of a CEO.',\n",
       "  'duration': '148',\n",
       "  'star_rating': u'8.8',\n",
       "  'title': u'Inception'},\n",
       " {'content_rating': 'No Rating',\n",
       "  'description': 'Na',\n",
       "  'duration': 'Na',\n",
       "  'star_rating': 'Na',\n",
       "  'title': u'404 Error'}]"
      ]
     },
     "execution_count": 389,
     "metadata": {},
     "output_type": "execute_result"
    }
   ],
   "source": [
    "# Write a for loop that builds a list in which each element is a dictionary of movie information \n",
    "# from time import sleep\n",
    "\n",
    "infoList = []\n",
    "for ID in range(len(imdb_ids)):\n",
    "    infoList.append(get_movie_info(imdb_ids[ID]))\n",
    "    sleep(3)\n",
    "\n",
    "infoList\n",
    "# get_movie_info(imdb_ids[0])\n"
   ]
  },
  {
   "cell_type": "code",
   "execution_count": 390,
   "metadata": {
    "collapsed": false
   },
   "outputs": [
    {
     "data": {
      "text/plain": [
       "{'0': {'content_rating': u'R',\n",
       "  'description': u'Two imprisoned men bond over a number of years, finding solace and eventual redemption through acts of common decency.',\n",
       "  'duration': '142',\n",
       "  'star_rating': u'9.3',\n",
       "  'title': u'The Shawshank Redemption'},\n",
       " '1': {'content_rating': u'TV-MA',\n",
       "  'description': u'A Congressman works with his equally conniving wife to exact revenge on the people who betrayed him.',\n",
       "  'duration': '51',\n",
       "  'star_rating': u'9.0',\n",
       "  'title': u'House of Cards'},\n",
       " '2': {'content_rating': u'TV-PG',\n",
       "  'description': u'A TV show centered on six students and their years at Bayside High School in Palisades, California.',\n",
       "  'duration': '30',\n",
       "  'star_rating': u'7.0',\n",
       "  'title': u'Saved by the Bell'},\n",
       " '3': {'content_rating': u'PG',\n",
       "  'description': u'A young man is accidentally sent thirty years into the past in a time-traveling DeLorean invented by his friend, Dr. Emmett Brown, and must make sure his high-school-age parents unite in order to save his own existence.',\n",
       "  'duration': '116',\n",
       "  'star_rating': u'8.5',\n",
       "  'title': u'Back to the Future'},\n",
       " '4': {'content_rating': u'PG-13',\n",
       "  'description': u'A thief who steals corporate secrets through use of the dream-sharing technology is given the inverse task of planting an idea into the mind of a CEO.',\n",
       "  'duration': '148',\n",
       "  'star_rating': u'8.8',\n",
       "  'title': u'Inception'},\n",
       " '5': {'content_rating': 'No Rating',\n",
       "  'description': 'Na',\n",
       "  'duration': 'Na',\n",
       "  'star_rating': 'Na',\n",
       "  'title': u'404 Error'}}"
      ]
     },
     "execution_count": 390,
     "metadata": {},
     "output_type": "execute_result"
    }
   ],
   "source": [
    "# Convert list into a DataFrame\n",
    "\n",
    "import numpy as np\n",
    "from pandas import DataFrame, Series\n",
    "\n",
    "# infoList2[0].keys()\n",
    "\n",
    "tempDict = {}\n",
    "for item in range(len(infoList)):\n",
    "    tempDict[str(item)] = infoList[item]\n",
    "\n",
    "tempDict\n"
   ]
  },
  {
   "cell_type": "code",
   "execution_count": 391,
   "metadata": {
    "collapsed": false
   },
   "outputs": [],
   "source": [
    "movieInfo = DataFrame.from_dict(tempDict, orient='index')"
   ]
  },
  {
   "cell_type": "code",
   "execution_count": 392,
   "metadata": {
    "collapsed": false
   },
   "outputs": [
    {
     "data": {
      "text/html": [
       "<div>\n",
       "<table border=\"1\" class=\"dataframe\">\n",
       "  <thead>\n",
       "    <tr style=\"text-align: right;\">\n",
       "      <th></th>\n",
       "      <th>duration</th>\n",
       "      <th>star_rating</th>\n",
       "      <th>description</th>\n",
       "      <th>content_rating</th>\n",
       "      <th>title</th>\n",
       "    </tr>\n",
       "  </thead>\n",
       "  <tbody>\n",
       "    <tr>\n",
       "      <th>0</th>\n",
       "      <td>142</td>\n",
       "      <td>9.3</td>\n",
       "      <td>Two imprisoned men bond over a number of years...</td>\n",
       "      <td>R</td>\n",
       "      <td>The Shawshank Redemption</td>\n",
       "    </tr>\n",
       "    <tr>\n",
       "      <th>1</th>\n",
       "      <td>51</td>\n",
       "      <td>9.0</td>\n",
       "      <td>A Congressman works with his equally conniving...</td>\n",
       "      <td>TV-MA</td>\n",
       "      <td>House of Cards</td>\n",
       "    </tr>\n",
       "    <tr>\n",
       "      <th>2</th>\n",
       "      <td>30</td>\n",
       "      <td>7.0</td>\n",
       "      <td>A TV show centered on six students and their y...</td>\n",
       "      <td>TV-PG</td>\n",
       "      <td>Saved by the Bell</td>\n",
       "    </tr>\n",
       "    <tr>\n",
       "      <th>3</th>\n",
       "      <td>116</td>\n",
       "      <td>8.5</td>\n",
       "      <td>A young man is accidentally sent thirty years ...</td>\n",
       "      <td>PG</td>\n",
       "      <td>Back to the Future</td>\n",
       "    </tr>\n",
       "    <tr>\n",
       "      <th>4</th>\n",
       "      <td>148</td>\n",
       "      <td>8.8</td>\n",
       "      <td>A thief who steals corporate secrets through u...</td>\n",
       "      <td>PG-13</td>\n",
       "      <td>Inception</td>\n",
       "    </tr>\n",
       "    <tr>\n",
       "      <th>5</th>\n",
       "      <td>Na</td>\n",
       "      <td>Na</td>\n",
       "      <td>Na</td>\n",
       "      <td>No Rating</td>\n",
       "      <td>404 Error</td>\n",
       "    </tr>\n",
       "  </tbody>\n",
       "</table>\n",
       "</div>"
      ],
      "text/plain": [
       "  duration star_rating                                        description  \\\n",
       "0      142         9.3  Two imprisoned men bond over a number of years...   \n",
       "1       51         9.0  A Congressman works with his equally conniving...   \n",
       "2       30         7.0  A TV show centered on six students and their y...   \n",
       "3      116         8.5  A young man is accidentally sent thirty years ...   \n",
       "4      148         8.8  A thief who steals corporate secrets through u...   \n",
       "5       Na          Na                                                 Na   \n",
       "\n",
       "  content_rating                     title  \n",
       "0              R  The Shawshank Redemption  \n",
       "1          TV-MA            House of Cards  \n",
       "2          TV-PG         Saved by the Bell  \n",
       "3             PG        Back to the Future  \n",
       "4          PG-13                 Inception  \n",
       "5      No Rating                 404 Error  "
      ]
     },
     "execution_count": 392,
     "metadata": {},
     "output_type": "execute_result"
    }
   ],
   "source": [
    "movieInfo"
   ]
  },
  {
   "cell_type": "markdown",
   "metadata": {},
   "source": [
    "## Bonus -- Challenge\n",
    "\n",
    "Scrape the IMDB Top 250 list (http://www.imdb.com/chart/top?ref_=nv_mv_250_6) and return a Data frame with the movide name, rating, year and the unique movie identifier ie('tt0111161')?\n",
    "Use the function above to scrape each of the movie pages.\n",
    "Questions:\n",
    "How many of the Top movies are rated 'R'?\n",
    "What is the average duration of movies with a star_rating above 9?\n",
    "What is the average duration of movies before 1985 and after?"
   ]
  },
  {
   "cell_type": "code",
   "execution_count": 394,
   "metadata": {
    "collapsed": false
   },
   "outputs": [],
   "source": [
    "# See above code"
   ]
  },
  {
   "cell_type": "code",
   "execution_count": null,
   "metadata": {
    "collapsed": true
   },
   "outputs": [],
   "source": []
  }
 ],
 "metadata": {
  "kernelspec": {
   "display_name": "Python 2",
   "language": "python",
   "name": "python2"
  },
  "language_info": {
   "codemirror_mode": {
    "name": "ipython",
    "version": 2
   },
   "file_extension": ".py",
   "mimetype": "text/x-python",
   "name": "python",
   "nbconvert_exporter": "python",
   "pygments_lexer": "ipython2",
   "version": "2.7.11"
  }
 },
 "nbformat": 4,
 "nbformat_minor": 0
}
