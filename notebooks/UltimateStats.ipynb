{
 "cells": [
  {
   "cell_type": "markdown",
   "metadata": {},
   "source": [
    "## 2013 Club Championship Stats"
   ]
  },
  {
   "cell_type": "code",
   "execution_count": 99,
   "metadata": {
    "collapsed": true
   },
   "outputs": [],
   "source": [
    "from bs4 import BeautifulSoup\n",
    "import pandas as pd\n",
    "import requests"
   ]
  },
  {
   "cell_type": "code",
   "execution_count": 100,
   "metadata": {
    "collapsed": false
   },
   "outputs": [],
   "source": [
    "stats = pd.read_html('../data/2013ClubChampStats.html')"
   ]
  },
  {
   "cell_type": "code",
   "execution_count": 101,
   "metadata": {
    "collapsed": false
   },
   "outputs": [
    {
     "data": {
      "text/html": [
       "<div>\n",
       "<table border=\"1\" class=\"dataframe\">\n",
       "  <thead>\n",
       "    <tr style=\"text-align: right;\">\n",
       "      <th></th>\n",
       "      <th>Team</th>\n",
       "      <th>#</th>\n",
       "      <th>Player</th>\n",
       "      <th>Goals</th>\n",
       "      <th>Assists</th>\n",
       "      <th>Ds</th>\n",
       "      <th>TOs</th>\n",
       "    </tr>\n",
       "  </thead>\n",
       "  <tbody>\n",
       "    <tr>\n",
       "      <th>0</th>\n",
       "      <td>Bent</td>\n",
       "      <td>0</td>\n",
       "      <td>Brittany Kaplan</td>\n",
       "      <td>0</td>\n",
       "      <td>3</td>\n",
       "      <td>2</td>\n",
       "      <td>5</td>\n",
       "    </tr>\n",
       "    <tr>\n",
       "      <th>1</th>\n",
       "      <td>Bent</td>\n",
       "      <td>1</td>\n",
       "      <td>Lexi Zalk</td>\n",
       "      <td>4</td>\n",
       "      <td>1</td>\n",
       "      <td>4</td>\n",
       "      <td>0</td>\n",
       "    </tr>\n",
       "    <tr>\n",
       "      <th>2</th>\n",
       "      <td>Bent</td>\n",
       "      <td>2</td>\n",
       "      <td>Karen Chalif</td>\n",
       "      <td>3</td>\n",
       "      <td>1</td>\n",
       "      <td>0</td>\n",
       "      <td>6</td>\n",
       "    </tr>\n",
       "    <tr>\n",
       "      <th>3</th>\n",
       "      <td>Bent</td>\n",
       "      <td>3</td>\n",
       "      <td>Judy Jarvis</td>\n",
       "      <td>3</td>\n",
       "      <td>7</td>\n",
       "      <td>2</td>\n",
       "      <td>11</td>\n",
       "    </tr>\n",
       "    <tr>\n",
       "      <th>4</th>\n",
       "      <td>Bent</td>\n",
       "      <td>5</td>\n",
       "      <td>Katherine Cole</td>\n",
       "      <td>1</td>\n",
       "      <td>1</td>\n",
       "      <td>1</td>\n",
       "      <td>2</td>\n",
       "    </tr>\n",
       "  </tbody>\n",
       "</table>\n",
       "</div>"
      ],
      "text/plain": [
       "   Team  #           Player  Goals  Assists  Ds  TOs\n",
       "0  Bent  0  Brittany Kaplan      0        3   2    5\n",
       "1  Bent  1        Lexi Zalk      4        1   4    0\n",
       "2  Bent  2     Karen Chalif      3        1   0    6\n",
       "3  Bent  3      Judy Jarvis      3        7   2   11\n",
       "4  Bent  5   Katherine Cole      1        1   1    2"
      ]
     },
     "execution_count": 101,
     "metadata": {},
     "output_type": "execute_result"
    }
   ],
   "source": [
    "stats_2013 = stats[0]\n",
    "stats_2013.head()"
   ]
  },
  {
   "cell_type": "markdown",
   "metadata": {},
   "source": []
  },
  {
   "cell_type": "markdown",
   "metadata": {
    "collapsed": true
   },
   "source": [
    "## 2014 Club Championship Stats"
   ]
  },
  {
   "cell_type": "code",
   "execution_count": 102,
   "metadata": {
    "collapsed": false
   },
   "outputs": [],
   "source": [
    "import requests\n",
    "from bs4 import BeautifulSoup\n",
    "import pandas as pd"
   ]
  },
  {
   "cell_type": "code",
   "execution_count": 103,
   "metadata": {
    "collapsed": true
   },
   "outputs": [],
   "source": [
    "def get_team_stat_urls(Championship_Page_URL):\n",
    "    import requests\n",
    "    from bs4 import BeautifulSoup\n",
    "    \n",
    "    r = requests.get(Championship_Page_URL) \n",
    "    b = BeautifulSoup(r.text, 'html.parser')\n",
    "\n",
    "    step1 = [str(item).split('\\n') for item in b.find_all('tr', style='border: 1px solid #eee;')]\n",
    "    step2 = [item[1][13:-9] for item in step1]\n",
    "    step3 = [item.split('\">') for item in step2]\n",
    "    step4 = [item[1].split(' (') for item in step3]\n",
    "    \n",
    "    dict_name = {}\n",
    "    \n",
    "    for item in range(16):\n",
    "        dict_name[step4[item][0]] = step3[item][0] \n",
    "    \n",
    "    return dict_name"
   ]
  },
  {
   "cell_type": "code",
   "execution_count": 354,
   "metadata": {
    "collapsed": false
   },
   "outputs": [],
   "source": [
    "teams_2014 = get_team_stat_urls('http://play.usaultimate.org/events/USA-Ultimate-National-Championships/schedule/Women/Club-Women/')"
   ]
  },
  {
   "cell_type": "code",
   "execution_count": 355,
   "metadata": {
    "collapsed": false
   },
   "outputs": [
    {
     "data": {
      "text/plain": [
       "{'Brute Squad': '/events/teams/?EventTeamId=xp%2bejIJBOcfXXkdUBdhyKw7QdaKTsy2msZaYJsN0QFI%3d',\n",
       " 'Capitals': '/events/teams/?EventTeamId=QMEULDssKTN4OuwrBMNq94efa7qxYCOB39XjXXvDBuY%3d',\n",
       " 'Fury': '/events/teams/?EventTeamId=CBkbxJkqtPUazzlNKxrMYL476TAvWyT%2b%2bII9vIya7AM%3d',\n",
       " 'Green Means Go': '/events/teams/?EventTeamId=ejfj3ptI1RiAMMNBDBMR%2bOWMPBwsN0Y86S%2fuCAYPw9U%3d',\n",
       " 'Heist': '/events/teams/?EventTeamId=h%2bkaG2ZXhVd798X3lGV7PeEc5SUIuvMgQy9BNMokNsM%3d',\n",
       " 'Molly Brown': '/events/teams/?EventTeamId=cKqY9nt%2bZuiYvmdlJ2MwdG0cK1L9yUN%2bWnowMqR1zKg%3d',\n",
       " 'Nemesis': '/events/teams/?EventTeamId=mIbs2PBWcyioQl2JAuLt1FjcCr3eIAK7iEJX3hRzIO8%3d',\n",
       " 'Nightlock': '/events/teams/?EventTeamId=KWGXFcYyimfQtEQ%2fDYoEE7kZ1HzzEC0yN7KIfYlhSWg%3d',\n",
       " 'Ozone': '/events/teams/?EventTeamId=01oilPzTzWp6xnsGkQ0uJtZl64NEdUOHJ0wQZrvMnNY%3d',\n",
       " 'Riot': '/events/teams/?EventTeamId=ddLOZCRcEzHqNrt1jat3nz4wNJ%2f7YNKK5OZQonhRuaQ%3d',\n",
       " 'Scandal': '/events/teams/?EventTeamId=m%2f3%2f0BtHZz5iI3aEgO1fqtpMAlDOwL7dnQ9uEQk0EK8%3d',\n",
       " 'Schwa': '/events/teams/?EventTeamId=esap3%2bfn3sLLAi%2bd1CxTiw7BVTCxjkAJdsoGTOIgx%2bc%3d',\n",
       " 'Showdown': '/events/teams/?EventTeamId=i9PHtiZOwQbftmahwj7ZWJSPQInr4SNYpfhAUtOB3xo%3d',\n",
       " 'Tabby Rosa': '/events/teams/?EventTeamId=BsdQC%2fDwobEqjntQ3M%2bPsGxZBLsy7MKdvHHcjWZszdU%3d',\n",
       " 'Traffic': '/events/teams/?EventTeamId=lz7rHLVbDRM0KJ9kdEdQCmulguSFhgEyLZE8x%2fjkm5A%3d',\n",
       " 'Underground': '/events/teams/?EventTeamId=3sDF4XVM1iwycJyXOa%2fItCAuNm%2b40z%2bEJPmAfa7S2BA%3d'}"
      ]
     },
     "execution_count": 355,
     "metadata": {},
     "output_type": "execute_result"
    }
   ],
   "source": [
    "teams_2014"
   ]
  },
  {
   "cell_type": "code",
   "execution_count": 356,
   "metadata": {
    "collapsed": false
   },
   "outputs": [],
   "source": [
    "# explore existing columns\n",
    "\n",
    "r = requests.get('http://play.usaultimate.org' + teams_2014['Traffic']) #any team name will do\n",
    "team_page = BeautifulSoup(r.text, 'html.parser')"
   ]
  },
  {
   "cell_type": "code",
   "execution_count": 357,
   "metadata": {
    "collapsed": false
   },
   "outputs": [],
   "source": [
    "columns_2014 = [str(item)[15:-5] for item in team_page.find('div', id='roster_list').find_all('th', span='col')]"
   ]
  },
  {
   "cell_type": "code",
   "execution_count": 358,
   "metadata": {
    "collapsed": false
   },
   "outputs": [
    {
     "data": {
      "text/plain": [
       "['No.',\n",
       " 'Name',\n",
       " 'Position',\n",
       " 'Year',\n",
       " 'Height',\n",
       " 'Goals',\n",
       " 'Assists',\n",
       " 'Ds',\n",
       " 'Turns']"
      ]
     },
     "execution_count": 358,
     "metadata": {},
     "output_type": "execute_result"
    }
   ],
   "source": [
    "columns_2014"
   ]
  },
  {
   "cell_type": "code",
   "execution_count": 359,
   "metadata": {
    "collapsed": true
   },
   "outputs": [],
   "source": [
    "def get_stats_page(team_name, dict_name):\n",
    "    # get html of team stats page\n",
    "    r = requests.get('http://play.usaultimate.org' + dict_name[team_name])\n",
    "    team_page = BeautifulSoup(r.text, 'html.parser')\n",
    "    return team_page.find('div', id='roster_list')"
   ]
  },
  {
   "cell_type": "code",
   "execution_count": 364,
   "metadata": {
    "collapsed": false
   },
   "outputs": [],
   "source": [
    "def player_info(team_name, dict_name):\n",
    "    \n",
    "    List1 = [str(item)[4:-5] for item in get_stats_page(team_name, dict_name).find_all('td')]\n",
    "    \n",
    "    playerInfo = []\n",
    "    count = 0\n",
    "    \n",
    "    while count < len(List1):\n",
    "        \n",
    "        info = {}\n",
    "\n",
    "        info['No.'] = List1[count]\n",
    "        info['Name'] = List1[count+1]\n",
    "#         info['Position'] = List1[count+2]\n",
    "#         info['Year'] = List1[count+3]\n",
    "#         info['Height'] = List1[count+4]\n",
    "        info['Goals'] = int(List1[count+5])\n",
    "        info['Assists'] = int(List1[count+6])\n",
    "        info['Ds'] = int(List1[count+7])\n",
    "        info['Turns'] = int(List1[count+8])\n",
    "        info['Team'] = team_name\n",
    "        \n",
    "        count += 9\n",
    "        playerInfo.append(info)\n",
    "    \n",
    "    return playerInfo"
   ]
  },
  {
   "cell_type": "code",
   "execution_count": 365,
   "metadata": {
    "collapsed": false
   },
   "outputs": [],
   "source": [
    "def get_stats(dict_name):\n",
    "    stats = []\n",
    "\n",
    "    for team in dict_name:\n",
    "        stats += player_info(str(team), dict_name)\n",
    "    \n",
    "    return stats"
   ]
  },
  {
   "cell_type": "code",
   "execution_count": 366,
   "metadata": {
    "collapsed": false
   },
   "outputs": [],
   "source": [
    "import numpy as np\n",
    "from pandas import DataFrame, Series\n",
    "\n",
    "stats_14 = DataFrame.from_dict(get_stats(teams_2014))"
   ]
  },
  {
   "cell_type": "code",
   "execution_count": 367,
   "metadata": {
    "collapsed": false
   },
   "outputs": [
    {
     "data": {
      "text/html": [
       "<div>\n",
       "<table border=\"1\" class=\"dataframe\">\n",
       "  <thead>\n",
       "    <tr style=\"text-align: right;\">\n",
       "      <th></th>\n",
       "      <th>Assists</th>\n",
       "      <th>Ds</th>\n",
       "      <th>Goals</th>\n",
       "      <th>Name</th>\n",
       "      <th>No.</th>\n",
       "      <th>Team</th>\n",
       "      <th>Turns</th>\n",
       "    </tr>\n",
       "  </thead>\n",
       "  <tbody>\n",
       "    <tr>\n",
       "      <th>0</th>\n",
       "      <td>0</td>\n",
       "      <td>0</td>\n",
       "      <td>0</td>\n",
       "      <td>KARA KELLY</td>\n",
       "      <td>00</td>\n",
       "      <td>Nightlock</td>\n",
       "      <td>0</td>\n",
       "    </tr>\n",
       "    <tr>\n",
       "      <th>1</th>\n",
       "      <td>2</td>\n",
       "      <td>0</td>\n",
       "      <td>2</td>\n",
       "      <td>SHARON TSENG</td>\n",
       "      <td>01</td>\n",
       "      <td>Nightlock</td>\n",
       "      <td>0</td>\n",
       "    </tr>\n",
       "    <tr>\n",
       "      <th>2</th>\n",
       "      <td>7</td>\n",
       "      <td>0</td>\n",
       "      <td>5</td>\n",
       "      <td>MARISA RAFTER</td>\n",
       "      <td>02</td>\n",
       "      <td>Nightlock</td>\n",
       "      <td>0</td>\n",
       "    </tr>\n",
       "    <tr>\n",
       "      <th>3</th>\n",
       "      <td>3</td>\n",
       "      <td>0</td>\n",
       "      <td>3</td>\n",
       "      <td>MICHAELA LEE</td>\n",
       "      <td>03</td>\n",
       "      <td>Nightlock</td>\n",
       "      <td>0</td>\n",
       "    </tr>\n",
       "    <tr>\n",
       "      <th>4</th>\n",
       "      <td>5</td>\n",
       "      <td>0</td>\n",
       "      <td>3</td>\n",
       "      <td>MARIKA AUSTIN</td>\n",
       "      <td>04</td>\n",
       "      <td>Nightlock</td>\n",
       "      <td>0</td>\n",
       "    </tr>\n",
       "  </tbody>\n",
       "</table>\n",
       "</div>"
      ],
      "text/plain": [
       "   Assists  Ds  Goals           Name No.       Team  Turns\n",
       "0        0   0      0     KARA KELLY  00  Nightlock      0\n",
       "1        2   0      2   SHARON TSENG  01  Nightlock      0\n",
       "2        7   0      5  MARISA RAFTER  02  Nightlock      0\n",
       "3        3   0      3   MICHAELA LEE  03  Nightlock      0\n",
       "4        5   0      3  MARIKA AUSTIN  04  Nightlock      0"
      ]
     },
     "execution_count": 367,
     "metadata": {},
     "output_type": "execute_result"
    }
   ],
   "source": [
    "stats_14.head()"
   ]
  },
  {
   "cell_type": "code",
   "execution_count": 369,
   "metadata": {
    "collapsed": false
   },
   "outputs": [
    {
     "data": {
      "text/plain": [
       "Assists     int64\n",
       "Ds          int64\n",
       "Goals       int64\n",
       "Name       object\n",
       "No.        object\n",
       "Team       object\n",
       "Turns       int64\n",
       "dtype: object"
      ]
     },
     "execution_count": 369,
     "metadata": {},
     "output_type": "execute_result"
    }
   ],
   "source": [
    "stats_14.dtypes"
   ]
  },
  {
   "cell_type": "code",
   "execution_count": 370,
   "metadata": {
    "collapsed": false
   },
   "outputs": [
    {
     "data": {
      "text/html": [
       "<div>\n",
       "<table border=\"1\" class=\"dataframe\">\n",
       "  <thead>\n",
       "    <tr style=\"text-align: right;\">\n",
       "      <th></th>\n",
       "      <th>Assists</th>\n",
       "      <th>Ds</th>\n",
       "      <th>Goals</th>\n",
       "      <th>Name</th>\n",
       "      <th>No.</th>\n",
       "      <th>Team</th>\n",
       "      <th>Turns</th>\n",
       "    </tr>\n",
       "  </thead>\n",
       "  <tbody>\n",
       "    <tr>\n",
       "      <th>338</th>\n",
       "      <td>4</td>\n",
       "      <td>0</td>\n",
       "      <td>21</td>\n",
       "      <td>SANDRA JORGENSEN</td>\n",
       "      <td>37</td>\n",
       "      <td>Scandal</td>\n",
       "      <td>0</td>\n",
       "    </tr>\n",
       "    <tr>\n",
       "      <th>333</th>\n",
       "      <td>5</td>\n",
       "      <td>0</td>\n",
       "      <td>10</td>\n",
       "      <td>ALICIA WHITE</td>\n",
       "      <td>19</td>\n",
       "      <td>Scandal</td>\n",
       "      <td>0</td>\n",
       "    </tr>\n",
       "    <tr>\n",
       "      <th>323</th>\n",
       "      <td>4</td>\n",
       "      <td>0</td>\n",
       "      <td>8</td>\n",
       "      <td>SARAH ITOH</td>\n",
       "      <td>04</td>\n",
       "      <td>Scandal</td>\n",
       "      <td>0</td>\n",
       "    </tr>\n",
       "    <tr>\n",
       "      <th>325</th>\n",
       "      <td>3</td>\n",
       "      <td>0</td>\n",
       "      <td>7</td>\n",
       "      <td>ASHLEY DALY MORGAN</td>\n",
       "      <td>06</td>\n",
       "      <td>Scandal</td>\n",
       "      <td>0</td>\n",
       "    </tr>\n",
       "    <tr>\n",
       "      <th>326</th>\n",
       "      <td>2</td>\n",
       "      <td>0</td>\n",
       "      <td>7</td>\n",
       "      <td>KIMBERLY BEACH</td>\n",
       "      <td>07</td>\n",
       "      <td>Scandal</td>\n",
       "      <td>0</td>\n",
       "    </tr>\n",
       "  </tbody>\n",
       "</table>\n",
       "</div>"
      ],
      "text/plain": [
       "     Assists  Ds  Goals                Name No.     Team  Turns\n",
       "338        4   0     21    SANDRA JORGENSEN  37  Scandal      0\n",
       "333        5   0     10        ALICIA WHITE  19  Scandal      0\n",
       "323        4   0      8          SARAH ITOH  04  Scandal      0\n",
       "325        3   0      7  ASHLEY DALY MORGAN  06  Scandal      0\n",
       "326        2   0      7      KIMBERLY BEACH  07  Scandal      0"
      ]
     },
     "execution_count": 370,
     "metadata": {},
     "output_type": "execute_result"
    }
   ],
   "source": [
    "stats_14[stats_14.Team == 'Scandal'].sort_values('Goals', ascending=False).head() # sort not working for goals/assists"
   ]
  },
  {
   "cell_type": "markdown",
   "metadata": {},
   "source": [
    "## 2015 Club Championship Stats"
   ]
  },
  {
   "cell_type": "code",
   "execution_count": 371,
   "metadata": {
    "collapsed": false
   },
   "outputs": [],
   "source": [
    "teams_2015 = get_team_stat_urls('http://play.usaultimate.org/events/USA-Ultimate-National-Championships-2015/schedule/Women/Club-Women/')"
   ]
  },
  {
   "cell_type": "code",
   "execution_count": 372,
   "metadata": {
    "collapsed": false
   },
   "outputs": [
    {
     "data": {
      "text/plain": [
       "{'BENT': '/events/teams/?EventTeamId=tl1rkVLjdczXVbOWzjG8T6fVjubOyhxGoQqAHV0da4g%3d',\n",
       " 'Brute Squad': '/events/teams/?EventTeamId=c%2bbyh9S9ANQUYGFX55jj2huoFtowEZg%2fAyga4pprMQ0%3d',\n",
       " 'Capitals': '/events/teams/?EventTeamId=x4u7Gvp5rOjImw437isTD%2fs%2bQ06953u7JY%2f95O2ZmYY%3d',\n",
       " 'Fury': '/events/teams/?EventTeamId=32oHgC3wTopGTV3EhDSbH36OX0nyemEg%2bP5KQfBRE1g%3d',\n",
       " 'Heist': '/events/teams/?EventTeamId=CpQQbzcjJ0UXcqhrXjm3d8zVp0%2fIhQBVr%2fCVAX8yEAY%3d',\n",
       " 'Iris': '/events/teams/?EventTeamId=Wy3HoIVoyiewP6W0uRSYiIJo8RJY0m3zrLvGpRwtEwI%3d',\n",
       " 'Molly Brown': '/events/teams/?EventTeamId=RbDtI%2bYRGJIFXwMyY2GXHZNkAP4TG3e5cYp%2bwYagX5s%3d',\n",
       " 'Nemesis': '/events/teams/?EventTeamId=crhCXpLrJODvUJL6ppk9K1V8i2mXHNLATKv1ZOibPUc%3d',\n",
       " 'Nightlock': '/events/teams/?EventTeamId=EfdvGasY6mEwfXfzbwlKQKOo3de2IF4mbYrPHnmtd2Q%3d',\n",
       " 'Ozone': '/events/teams/?EventTeamId=iAImqQuifQ77w%2bC0P2niH56jBIDV%2fpmjWfCpaiDP%2brQ%3d',\n",
       " 'Phoenix': '/events/teams/?EventTeamId=CB%2br3JHfJtcIvZONww0nNVHSZZMq9jH%2frilvqOvHLyk%3d',\n",
       " 'Scandal': '/events/teams/?EventTeamId=1p1xfsPWLSJo49m2wW6PLGWhf64z3TbBK80VQYupjH4%3d',\n",
       " 'Schwa': '/events/teams/?EventTeamId=tVfG9QyqwGVHTA9%2bJr5%2f2OCqzoOVdKoauqT3wHzADl8%3d',\n",
       " 'Seattle Riot': '/events/teams/?EventTeamId=rL6ZybguUwJ2d26MOqTQkrgsVAuQwZmdj07a9vAJNiY%3d',\n",
       " 'Showdown': '/events/teams/?EventTeamId=2rKdDwlJsGvedI6QGcXrsJNiSoqMED%2fY0ah5QVEvfuU%3d',\n",
       " 'Traffic': '/events/teams/?EventTeamId=b6KwKgl3XZF4UGZSITU4rrdMUuX4kEWeE%2fOrNp3ceDg%3d'}"
      ]
     },
     "execution_count": 372,
     "metadata": {},
     "output_type": "execute_result"
    }
   ],
   "source": [
    "teams_2015"
   ]
  },
  {
   "cell_type": "code",
   "execution_count": 373,
   "metadata": {
    "collapsed": true
   },
   "outputs": [],
   "source": [
    "stats_15 = DataFrame.from_dict(get_stats(teams_2015))"
   ]
  },
  {
   "cell_type": "code",
   "execution_count": 379,
   "metadata": {
    "collapsed": false
   },
   "outputs": [
    {
     "data": {
      "text/html": [
       "<div>\n",
       "<table border=\"1\" class=\"dataframe\">\n",
       "  <thead>\n",
       "    <tr style=\"text-align: right;\">\n",
       "      <th></th>\n",
       "      <th>Assists</th>\n",
       "      <th>Ds</th>\n",
       "      <th>Goals</th>\n",
       "      <th>Name</th>\n",
       "      <th>No.</th>\n",
       "      <th>Team</th>\n",
       "      <th>Turns</th>\n",
       "    </tr>\n",
       "  </thead>\n",
       "  <tbody>\n",
       "    <tr>\n",
       "      <th>230</th>\n",
       "      <td>1</td>\n",
       "      <td>0</td>\n",
       "      <td>10</td>\n",
       "      <td>KRISTINA SNODGRASS</td>\n",
       "      <td>21</td>\n",
       "      <td>Molly Brown</td>\n",
       "      <td>2</td>\n",
       "    </tr>\n",
       "    <tr>\n",
       "      <th>218</th>\n",
       "      <td>2</td>\n",
       "      <td>3</td>\n",
       "      <td>7</td>\n",
       "      <td>ASHLEY DALY MORGAN</td>\n",
       "      <td>06</td>\n",
       "      <td>Molly Brown</td>\n",
       "      <td>2</td>\n",
       "    </tr>\n",
       "    <tr>\n",
       "      <th>234</th>\n",
       "      <td>2</td>\n",
       "      <td>3</td>\n",
       "      <td>6</td>\n",
       "      <td>TANIA REITZ</td>\n",
       "      <td>27</td>\n",
       "      <td>Molly Brown</td>\n",
       "      <td>1</td>\n",
       "    </tr>\n",
       "    <tr>\n",
       "      <th>240</th>\n",
       "      <td>2</td>\n",
       "      <td>2</td>\n",
       "      <td>5</td>\n",
       "      <td>ALICIA WHITE</td>\n",
       "      <td>49</td>\n",
       "      <td>Molly Brown</td>\n",
       "      <td>2</td>\n",
       "    </tr>\n",
       "    <tr>\n",
       "      <th>221</th>\n",
       "      <td>3</td>\n",
       "      <td>0</td>\n",
       "      <td>4</td>\n",
       "      <td>LINDSEY CROSS</td>\n",
       "      <td>10</td>\n",
       "      <td>Molly Brown</td>\n",
       "      <td>3</td>\n",
       "    </tr>\n",
       "    <tr>\n",
       "      <th>222</th>\n",
       "      <td>7</td>\n",
       "      <td>4</td>\n",
       "      <td>4</td>\n",
       "      <td>DENA SLATTERY</td>\n",
       "      <td>11</td>\n",
       "      <td>Molly Brown</td>\n",
       "      <td>2</td>\n",
       "    </tr>\n",
       "    <tr>\n",
       "      <th>239</th>\n",
       "      <td>2</td>\n",
       "      <td>1</td>\n",
       "      <td>4</td>\n",
       "      <td>REBECCA MILLER</td>\n",
       "      <td>47</td>\n",
       "      <td>Molly Brown</td>\n",
       "      <td>3</td>\n",
       "    </tr>\n",
       "    <tr>\n",
       "      <th>226</th>\n",
       "      <td>2</td>\n",
       "      <td>1</td>\n",
       "      <td>4</td>\n",
       "      <td>MEGAN COUSINS</td>\n",
       "      <td>16</td>\n",
       "      <td>Molly Brown</td>\n",
       "      <td>3</td>\n",
       "    </tr>\n",
       "    <tr>\n",
       "      <th>228</th>\n",
       "      <td>2</td>\n",
       "      <td>1</td>\n",
       "      <td>4</td>\n",
       "      <td>CRYSTAL DAVIS</td>\n",
       "      <td>18</td>\n",
       "      <td>Molly Brown</td>\n",
       "      <td>4</td>\n",
       "    </tr>\n",
       "    <tr>\n",
       "      <th>231</th>\n",
       "      <td>2</td>\n",
       "      <td>5</td>\n",
       "      <td>3</td>\n",
       "      <td>LAUREN BOYLE</td>\n",
       "      <td>23</td>\n",
       "      <td>Molly Brown</td>\n",
       "      <td>3</td>\n",
       "    </tr>\n",
       "    <tr>\n",
       "      <th>235</th>\n",
       "      <td>5</td>\n",
       "      <td>1</td>\n",
       "      <td>3</td>\n",
       "      <td>SALLY LAMBERT</td>\n",
       "      <td>28</td>\n",
       "      <td>Molly Brown</td>\n",
       "      <td>3</td>\n",
       "    </tr>\n",
       "    <tr>\n",
       "      <th>242</th>\n",
       "      <td>0</td>\n",
       "      <td>1</td>\n",
       "      <td>2</td>\n",
       "      <td>SARA TAGGART</td>\n",
       "      <td>55</td>\n",
       "      <td>Molly Brown</td>\n",
       "      <td>0</td>\n",
       "    </tr>\n",
       "    <tr>\n",
       "      <th>236</th>\n",
       "      <td>1</td>\n",
       "      <td>2</td>\n",
       "      <td>2</td>\n",
       "      <td>LISA DOAN</td>\n",
       "      <td>29</td>\n",
       "      <td>Molly Brown</td>\n",
       "      <td>2</td>\n",
       "    </tr>\n",
       "    <tr>\n",
       "      <th>233</th>\n",
       "      <td>3</td>\n",
       "      <td>2</td>\n",
       "      <td>2</td>\n",
       "      <td>KIRSTIN JOHNSON</td>\n",
       "      <td>25</td>\n",
       "      <td>Molly Brown</td>\n",
       "      <td>6</td>\n",
       "    </tr>\n",
       "    <tr>\n",
       "      <th>232</th>\n",
       "      <td>2</td>\n",
       "      <td>0</td>\n",
       "      <td>2</td>\n",
       "      <td>LISI LOHRE</td>\n",
       "      <td>24</td>\n",
       "      <td>Molly Brown</td>\n",
       "      <td>3</td>\n",
       "    </tr>\n",
       "    <tr>\n",
       "      <th>227</th>\n",
       "      <td>2</td>\n",
       "      <td>3</td>\n",
       "      <td>2</td>\n",
       "      <td>ANNA SCHOTT</td>\n",
       "      <td>17</td>\n",
       "      <td>Molly Brown</td>\n",
       "      <td>2</td>\n",
       "    </tr>\n",
       "    <tr>\n",
       "      <th>238</th>\n",
       "      <td>1</td>\n",
       "      <td>2</td>\n",
       "      <td>2</td>\n",
       "      <td>CAROLYN MATTHEWS</td>\n",
       "      <td>42</td>\n",
       "      <td>Molly Brown</td>\n",
       "      <td>3</td>\n",
       "    </tr>\n",
       "    <tr>\n",
       "      <th>241</th>\n",
       "      <td>12</td>\n",
       "      <td>0</td>\n",
       "      <td>2</td>\n",
       "      <td>CLAIRE CHASTAIN</td>\n",
       "      <td>52</td>\n",
       "      <td>Molly Brown</td>\n",
       "      <td>8</td>\n",
       "    </tr>\n",
       "    <tr>\n",
       "      <th>217</th>\n",
       "      <td>3</td>\n",
       "      <td>0</td>\n",
       "      <td>1</td>\n",
       "      <td>SAMANTHA PELETIER</td>\n",
       "      <td>02</td>\n",
       "      <td>Molly Brown</td>\n",
       "      <td>1</td>\n",
       "    </tr>\n",
       "    <tr>\n",
       "      <th>223</th>\n",
       "      <td>1</td>\n",
       "      <td>0</td>\n",
       "      <td>1</td>\n",
       "      <td>CLAIRE HENLY</td>\n",
       "      <td>12</td>\n",
       "      <td>Molly Brown</td>\n",
       "      <td>1</td>\n",
       "    </tr>\n",
       "    <tr>\n",
       "      <th>220</th>\n",
       "      <td>8</td>\n",
       "      <td>7</td>\n",
       "      <td>1</td>\n",
       "      <td>OCTAVIA PAYNE</td>\n",
       "      <td>09</td>\n",
       "      <td>Molly Brown</td>\n",
       "      <td>8</td>\n",
       "    </tr>\n",
       "    <tr>\n",
       "      <th>237</th>\n",
       "      <td>4</td>\n",
       "      <td>1</td>\n",
       "      <td>1</td>\n",
       "      <td>JANA KRUTSINGER</td>\n",
       "      <td>33</td>\n",
       "      <td>Molly Brown</td>\n",
       "      <td>2</td>\n",
       "    </tr>\n",
       "    <tr>\n",
       "      <th>216</th>\n",
       "      <td>0</td>\n",
       "      <td>0</td>\n",
       "      <td>0</td>\n",
       "      <td>MAGGIE CHEN</td>\n",
       "      <td></td>\n",
       "      <td>Molly Brown</td>\n",
       "      <td>0</td>\n",
       "    </tr>\n",
       "    <tr>\n",
       "      <th>225</th>\n",
       "      <td>1</td>\n",
       "      <td>1</td>\n",
       "      <td>0</td>\n",
       "      <td>DOROTHE FRANKLIN</td>\n",
       "      <td>15</td>\n",
       "      <td>Molly Brown</td>\n",
       "      <td>2</td>\n",
       "    </tr>\n",
       "    <tr>\n",
       "      <th>224</th>\n",
       "      <td>0</td>\n",
       "      <td>1</td>\n",
       "      <td>0</td>\n",
       "      <td>KATIE PATTERSON</td>\n",
       "      <td>14</td>\n",
       "      <td>Molly Brown</td>\n",
       "      <td>1</td>\n",
       "    </tr>\n",
       "    <tr>\n",
       "      <th>219</th>\n",
       "      <td>2</td>\n",
       "      <td>0</td>\n",
       "      <td>0</td>\n",
       "      <td>PAIGE APPLEGATE</td>\n",
       "      <td>07</td>\n",
       "      <td>Molly Brown</td>\n",
       "      <td>0</td>\n",
       "    </tr>\n",
       "    <tr>\n",
       "      <th>229</th>\n",
       "      <td>2</td>\n",
       "      <td>2</td>\n",
       "      <td>0</td>\n",
       "      <td>CHRISTINA MICKLE</td>\n",
       "      <td>19</td>\n",
       "      <td>Molly Brown</td>\n",
       "      <td>4</td>\n",
       "    </tr>\n",
       "  </tbody>\n",
       "</table>\n",
       "</div>"
      ],
      "text/plain": [
       "     Assists  Ds  Goals                Name No.         Team  Turns\n",
       "230        1   0     10  KRISTINA SNODGRASS  21  Molly Brown      2\n",
       "218        2   3      7  ASHLEY DALY MORGAN  06  Molly Brown      2\n",
       "234        2   3      6         TANIA REITZ  27  Molly Brown      1\n",
       "240        2   2      5        ALICIA WHITE  49  Molly Brown      2\n",
       "221        3   0      4       LINDSEY CROSS  10  Molly Brown      3\n",
       "222        7   4      4       DENA SLATTERY  11  Molly Brown      2\n",
       "239        2   1      4      REBECCA MILLER  47  Molly Brown      3\n",
       "226        2   1      4       MEGAN COUSINS  16  Molly Brown      3\n",
       "228        2   1      4       CRYSTAL DAVIS  18  Molly Brown      4\n",
       "231        2   5      3        LAUREN BOYLE  23  Molly Brown      3\n",
       "235        5   1      3       SALLY LAMBERT  28  Molly Brown      3\n",
       "242        0   1      2        SARA TAGGART  55  Molly Brown      0\n",
       "236        1   2      2           LISA DOAN  29  Molly Brown      2\n",
       "233        3   2      2     KIRSTIN JOHNSON  25  Molly Brown      6\n",
       "232        2   0      2          LISI LOHRE  24  Molly Brown      3\n",
       "227        2   3      2         ANNA SCHOTT  17  Molly Brown      2\n",
       "238        1   2      2    CAROLYN MATTHEWS  42  Molly Brown      3\n",
       "241       12   0      2     CLAIRE CHASTAIN  52  Molly Brown      8\n",
       "217        3   0      1   SAMANTHA PELETIER  02  Molly Brown      1\n",
       "223        1   0      1        CLAIRE HENLY  12  Molly Brown      1\n",
       "220        8   7      1       OCTAVIA PAYNE  09  Molly Brown      8\n",
       "237        4   1      1     JANA KRUTSINGER  33  Molly Brown      2\n",
       "216        0   0      0         MAGGIE CHEN      Molly Brown      0\n",
       "225        1   1      0    DOROTHE FRANKLIN  15  Molly Brown      2\n",
       "224        0   1      0     KATIE PATTERSON  14  Molly Brown      1\n",
       "219        2   0      0     PAIGE APPLEGATE  07  Molly Brown      0\n",
       "229        2   2      0    CHRISTINA MICKLE  19  Molly Brown      4"
      ]
     },
     "execution_count": 379,
     "metadata": {},
     "output_type": "execute_result"
    }
   ],
   "source": [
    "stats_15[stats_15.Team == 'Molly Brown'].sort_values('Goals', ascending=False)"
   ]
  },
  {
   "cell_type": "code",
   "execution_count": null,
   "metadata": {
    "collapsed": true
   },
   "outputs": [],
   "source": []
  }
 ],
 "metadata": {
  "kernelspec": {
   "display_name": "Python 2",
   "language": "python",
   "name": "python2"
  },
  "language_info": {
   "codemirror_mode": {
    "name": "ipython",
    "version": 2
   },
   "file_extension": ".py",
   "mimetype": "text/x-python",
   "name": "python",
   "nbconvert_exporter": "python",
   "pygments_lexer": "ipython2",
   "version": "2.7.11"
  }
 },
 "nbformat": 4,
 "nbformat_minor": 0
}
