{
 "cells": [
  {
   "cell_type": "markdown",
   "metadata": {},
   "source": [
    "## 2013 Club Championship Stats"
   ]
  },
  {
   "cell_type": "code",
   "execution_count": 14,
   "metadata": {
    "collapsed": true
   },
   "outputs": [],
   "source": [
    "from bs4 import BeautifulSoup\n",
    "import pandas as pd\n",
    "import requests"
   ]
  },
  {
   "cell_type": "code",
   "execution_count": 15,
   "metadata": {
    "collapsed": false
   },
   "outputs": [],
   "source": [
    "stats = pd.read_html('../data/2013ClubChampStats.html')"
   ]
  },
  {
   "cell_type": "code",
   "execution_count": 16,
   "metadata": {
    "collapsed": false
   },
   "outputs": [
    {
     "data": {
      "text/html": [
       "<div>\n",
       "<table border=\"1\" class=\"dataframe\">\n",
       "  <thead>\n",
       "    <tr style=\"text-align: right;\">\n",
       "      <th></th>\n",
       "      <th>Team</th>\n",
       "      <th>#</th>\n",
       "      <th>Player</th>\n",
       "      <th>Goals</th>\n",
       "      <th>Assists</th>\n",
       "      <th>Ds</th>\n",
       "      <th>TOs</th>\n",
       "    </tr>\n",
       "  </thead>\n",
       "  <tbody>\n",
       "    <tr>\n",
       "      <th>0</th>\n",
       "      <td>Bent</td>\n",
       "      <td>0</td>\n",
       "      <td>Brittany Kaplan</td>\n",
       "      <td>0</td>\n",
       "      <td>3</td>\n",
       "      <td>2</td>\n",
       "      <td>5</td>\n",
       "    </tr>\n",
       "    <tr>\n",
       "      <th>1</th>\n",
       "      <td>Bent</td>\n",
       "      <td>1</td>\n",
       "      <td>Lexi Zalk</td>\n",
       "      <td>4</td>\n",
       "      <td>1</td>\n",
       "      <td>4</td>\n",
       "      <td>0</td>\n",
       "    </tr>\n",
       "    <tr>\n",
       "      <th>2</th>\n",
       "      <td>Bent</td>\n",
       "      <td>2</td>\n",
       "      <td>Karen Chalif</td>\n",
       "      <td>3</td>\n",
       "      <td>1</td>\n",
       "      <td>0</td>\n",
       "      <td>6</td>\n",
       "    </tr>\n",
       "    <tr>\n",
       "      <th>3</th>\n",
       "      <td>Bent</td>\n",
       "      <td>3</td>\n",
       "      <td>Judy Jarvis</td>\n",
       "      <td>3</td>\n",
       "      <td>7</td>\n",
       "      <td>2</td>\n",
       "      <td>11</td>\n",
       "    </tr>\n",
       "    <tr>\n",
       "      <th>4</th>\n",
       "      <td>Bent</td>\n",
       "      <td>5</td>\n",
       "      <td>Katherine Cole</td>\n",
       "      <td>1</td>\n",
       "      <td>1</td>\n",
       "      <td>1</td>\n",
       "      <td>2</td>\n",
       "    </tr>\n",
       "  </tbody>\n",
       "</table>\n",
       "</div>"
      ],
      "text/plain": [
       "   Team  #           Player  Goals  Assists  Ds  TOs\n",
       "0  Bent  0  Brittany Kaplan      0        3   2    5\n",
       "1  Bent  1        Lexi Zalk      4        1   4    0\n",
       "2  Bent  2     Karen Chalif      3        1   0    6\n",
       "3  Bent  3      Judy Jarvis      3        7   2   11\n",
       "4  Bent  5   Katherine Cole      1        1   1    2"
      ]
     },
     "execution_count": 16,
     "metadata": {},
     "output_type": "execute_result"
    }
   ],
   "source": [
    "stats_2013 = stats[0]\n",
    "stats_2013.head()"
   ]
  },
  {
   "cell_type": "markdown",
   "metadata": {},
   "source": []
  },
  {
   "cell_type": "markdown",
   "metadata": {
    "collapsed": true
   },
   "source": [
    "## 2014 Club Championship Stats"
   ]
  },
  {
   "cell_type": "code",
   "execution_count": 188,
   "metadata": {
    "collapsed": false
   },
   "outputs": [],
   "source": [
    "with open('../data/2014ClubChampWomensTeams.html', 'rU') as f:\n",
    "    html = f.read()"
   ]
  },
  {
   "cell_type": "code",
   "execution_count": 189,
   "metadata": {
    "collapsed": true
   },
   "outputs": [],
   "source": [
    "b = BeautifulSoup(html, 'html.parser')"
   ]
  },
  {
   "cell_type": "code",
   "execution_count": 190,
   "metadata": {
    "collapsed": false
   },
   "outputs": [],
   "source": [
    "step1 = [str(item).split('\\n') for item in b.find_all('tr', style='border: 1px solid #eee;')]\n",
    "step2 = [item[1][13:-9] for item in step1]\n",
    "step3 = [item.split('\">') for item in step2]\n",
    "step3\n",
    "step4 = [item[1].split(' (') for item in step3]"
   ]
  },
  {
   "cell_type": "code",
   "execution_count": 191,
   "metadata": {
    "collapsed": false
   },
   "outputs": [],
   "source": [
    "team_url = {}\n",
    "for item in range(16):\n",
    "    team_url[step4[item][0]] = step3[item][0]"
   ]
  },
  {
   "cell_type": "code",
   "execution_count": 192,
   "metadata": {
    "collapsed": false
   },
   "outputs": [
    {
     "data": {
      "text/plain": [
       "{'Brute Squad': '/events/teams/?EventTeamId=xp%2bejIJBOcfXXkdUBdhyKw7QdaKTsy2msZaYJsN0QFI%3d',\n",
       " 'Capitals': '/events/teams/?EventTeamId=QMEULDssKTN4OuwrBMNq94efa7qxYCOB39XjXXvDBuY%3d',\n",
       " 'Fury': '/events/teams/?EventTeamId=CBkbxJkqtPUazzlNKxrMYL476TAvWyT%2b%2bII9vIya7AM%3d',\n",
       " 'Green Means Go': '/events/teams/?EventTeamId=ejfj3ptI1RiAMMNBDBMR%2bOWMPBwsN0Y86S%2fuCAYPw9U%3d',\n",
       " 'Heist': '/events/teams/?EventTeamId=h%2bkaG2ZXhVd798X3lGV7PeEc5SUIuvMgQy9BNMokNsM%3d',\n",
       " 'Molly Brown': '/events/teams/?EventTeamId=cKqY9nt%2bZuiYvmdlJ2MwdG0cK1L9yUN%2bWnowMqR1zKg%3d',\n",
       " 'Nemesis': '/events/teams/?EventTeamId=mIbs2PBWcyioQl2JAuLt1FjcCr3eIAK7iEJX3hRzIO8%3d',\n",
       " 'Nightlock': '/events/teams/?EventTeamId=KWGXFcYyimfQtEQ%2fDYoEE7kZ1HzzEC0yN7KIfYlhSWg%3d',\n",
       " 'Ozone': '/events/teams/?EventTeamId=01oilPzTzWp6xnsGkQ0uJtZl64NEdUOHJ0wQZrvMnNY%3d',\n",
       " 'Riot': '/events/teams/?EventTeamId=ddLOZCRcEzHqNrt1jat3nz4wNJ%2f7YNKK5OZQonhRuaQ%3d',\n",
       " 'Scandal': '/events/teams/?EventTeamId=m%2f3%2f0BtHZz5iI3aEgO1fqtpMAlDOwL7dnQ9uEQk0EK8%3d',\n",
       " 'Schwa': '/events/teams/?EventTeamId=esap3%2bfn3sLLAi%2bd1CxTiw7BVTCxjkAJdsoGTOIgx%2bc%3d',\n",
       " 'Showdown': '/events/teams/?EventTeamId=i9PHtiZOwQbftmahwj7ZWJSPQInr4SNYpfhAUtOB3xo%3d',\n",
       " 'Tabby Rosa': '/events/teams/?EventTeamId=BsdQC%2fDwobEqjntQ3M%2bPsGxZBLsy7MKdvHHcjWZszdU%3d',\n",
       " 'Traffic': '/events/teams/?EventTeamId=lz7rHLVbDRM0KJ9kdEdQCmulguSFhgEyLZE8x%2fjkm5A%3d',\n",
       " 'Underground': '/events/teams/?EventTeamId=3sDF4XVM1iwycJyXOa%2fItCAuNm%2b40z%2bEJPmAfa7S2BA%3d'}"
      ]
     },
     "execution_count": 192,
     "metadata": {},
     "output_type": "execute_result"
    }
   ],
   "source": [
    "team_url"
   ]
  },
  {
   "cell_type": "code",
   "execution_count": 194,
   "metadata": {
    "collapsed": true
   },
   "outputs": [],
   "source": [
    "def get_2014_team_stats(team_name):\n",
    "    # create dict of column and value\n",
    "    r = requests.get('http://play.usaultimate.org' + team_url[team_name])\n",
    "    team_page = BeautifulSoup(r.text, 'html.parser')\n",
    "    return team_page.find('div', id='roster_list')\n",
    "    \n",
    "#     team_name = \n",
    "    "
   ]
  },
  {
   "cell_type": "code",
   "execution_count": 195,
   "metadata": {
    "collapsed": false
   },
   "outputs": [],
   "source": [
    "brute = get_2014_team_stats('Brute Squad')"
   ]
  },
  {
   "cell_type": "code",
   "execution_count": 207,
   "metadata": {
    "collapsed": false
   },
   "outputs": [
    {
     "data": {
      "text/plain": [
       "bs4.element.Tag"
      ]
     },
     "execution_count": 207,
     "metadata": {},
     "output_type": "execute_result"
    }
   ],
   "source": [
    "type(brute)"
   ]
  },
  {
   "cell_type": "code",
   "execution_count": 202,
   "metadata": {
    "collapsed": true
   },
   "outputs": [],
   "source": [
    "# setting up data frame with columns\n",
    "\n",
    "r = requests.get('http://play.usaultimate.org' + team_url['Traffic']) #any team name will do\n",
    "team_page = BeautifulSoup(r.text, 'html.parser')"
   ]
  },
  {
   "cell_type": "code",
   "execution_count": 203,
   "metadata": {
    "collapsed": false
   },
   "outputs": [],
   "source": [
    "columns_2014 = [str(item)[15:-5] for item in team_page.find('div', id='roster_list').find_all('th', span='col')]"
   ]
  },
  {
   "cell_type": "code",
   "execution_count": 204,
   "metadata": {
    "collapsed": false
   },
   "outputs": [
    {
     "data": {
      "text/plain": [
       "['No.',\n",
       " 'Name',\n",
       " 'Position',\n",
       " 'Year',\n",
       " 'Height',\n",
       " 'Goals',\n",
       " 'Assists',\n",
       " 'Ds',\n",
       " 'Turns']"
      ]
     },
     "execution_count": 204,
     "metadata": {},
     "output_type": "execute_result"
    }
   ],
   "source": [
    "columns_2014"
   ]
  },
  {
   "cell_type": "code",
   "execution_count": 205,
   "metadata": {
    "collapsed": true
   },
   "outputs": [],
   "source": [
    "stats_2014 = pd.DataFrame(columns=[columns])"
   ]
  },
  {
   "cell_type": "code",
   "execution_count": 206,
   "metadata": {
    "collapsed": false
   },
   "outputs": [
    {
     "data": {
      "text/html": [
       "<div>\n",
       "<table border=\"1\" class=\"dataframe\">\n",
       "  <thead>\n",
       "    <tr style=\"text-align: right;\">\n",
       "      <th></th>\n",
       "      <th>No.</th>\n",
       "      <th>Name</th>\n",
       "      <th>Position</th>\n",
       "      <th>Year</th>\n",
       "      <th>Height</th>\n",
       "      <th>Goals</th>\n",
       "      <th>Assists</th>\n",
       "      <th>Ds</th>\n",
       "      <th>Turns</th>\n",
       "    </tr>\n",
       "  </thead>\n",
       "  <tbody>\n",
       "  </tbody>\n",
       "</table>\n",
       "</div>"
      ],
      "text/plain": [
       "Empty DataFrame\n",
       "Columns: [No., Name, Position, Year, Height, Goals, Assists, Ds, Turns]\n",
       "Index: []"
      ]
     },
     "execution_count": 206,
     "metadata": {},
     "output_type": "execute_result"
    }
   ],
   "source": [
    "stats_2014"
   ]
  },
  {
   "cell_type": "code",
   "execution_count": null,
   "metadata": {
    "collapsed": true
   },
   "outputs": [],
   "source": [
    "def get_player_number(team_name):\n",
    "    "
   ]
  },
  {
   "cell_type": "code",
   "execution_count": 208,
   "metadata": {
    "collapsed": false
   },
   "outputs": [
    {
     "data": {
      "text/plain": [
       "bs4.element.Tag"
      ]
     },
     "execution_count": 208,
     "metadata": {},
     "output_type": "execute_result"
    }
   ],
   "source": [
    "type(team_page.find('div', id='roster_list'))"
   ]
  },
  {
   "cell_type": "code",
   "execution_count": 213,
   "metadata": {
    "collapsed": false
   },
   "outputs": [
    {
     "data": {
      "text/plain": [
       "[<td>01</td>,\n",
       " <td>KAMI GROOM</td>,\n",
       " <td></td>,\n",
       " <td></td>,\n",
       " <td></td>,\n",
       " <td>9</td>,\n",
       " <td>4</td>,\n",
       " <td>0</td>,\n",
       " <td>0</td>,\n",
       " <td>02</td>,\n",
       " <td>COURTNEY KIESOW</td>,\n",
       " <td></td>,\n",
       " <td></td>,\n",
       " <td>5'8\"</td>,\n",
       " <td>2</td>,\n",
       " <td>0</td>,\n",
       " <td>0</td>,\n",
       " <td>0</td>,\n",
       " <td>03</td>,\n",
       " <td>SARA JACOBI</td>,\n",
       " <td></td>,\n",
       " <td></td>,\n",
       " <td>5'5\"</td>,\n",
       " <td>2</td>,\n",
       " <td>0</td>,\n",
       " <td>0</td>,\n",
       " <td>0</td>,\n",
       " <td>04</td>,\n",
       " <td>ELIZABETH CALKINS</td>,\n",
       " <td></td>,\n",
       " <td></td>,\n",
       " <td></td>,\n",
       " <td>0</td>,\n",
       " <td>0</td>,\n",
       " <td>0</td>,\n",
       " <td>0</td>,\n",
       " <td>05</td>,\n",
       " <td>BLAKE SPITZ</td>,\n",
       " <td></td>,\n",
       " <td></td>,\n",
       " <td></td>,\n",
       " <td>3</td>,\n",
       " <td>0</td>,\n",
       " <td>0</td>,\n",
       " <td>0</td>,\n",
       " <td>06</td>,\n",
       " <td>CLAUDIA TAJIMA</td>,\n",
       " <td></td>,\n",
       " <td></td>,\n",
       " <td>5'6\"</td>,\n",
       " <td>2</td>,\n",
       " <td>5</td>,\n",
       " <td>0</td>,\n",
       " <td>0</td>,\n",
       " <td>07</td>,\n",
       " <td>MIA GREENWALD</td>,\n",
       " <td></td>,\n",
       " <td></td>,\n",
       " <td></td>,\n",
       " <td>0</td>,\n",
       " <td>0</td>,\n",
       " <td>0</td>,\n",
       " <td>0</td>,\n",
       " <td>09</td>,\n",
       " <td>BECCA LUDFORD</td>,\n",
       " <td></td>,\n",
       " <td></td>,\n",
       " <td>5'6\"</td>,\n",
       " <td>3</td>,\n",
       " <td>2</td>,\n",
       " <td>0</td>,\n",
       " <td>0</td>,\n",
       " <td>10</td>,\n",
       " <td>QXHNA TITCOMB</td>,\n",
       " <td></td>,\n",
       " <td></td>,\n",
       " <td>5'7\"</td>,\n",
       " <td>3</td>,\n",
       " <td>3</td>,\n",
       " <td>0</td>,\n",
       " <td>0</td>,\n",
       " <td>11</td>,\n",
       " <td>CHRISTIE KIM</td>,\n",
       " <td></td>,\n",
       " <td></td>,\n",
       " <td></td>,\n",
       " <td>3</td>,\n",
       " <td>1</td>,\n",
       " <td>0</td>,\n",
       " <td>0</td>,\n",
       " <td>12</td>,\n",
       " <td>DORY ZIPERSTEIN</td>,\n",
       " <td></td>,\n",
       " <td></td>,\n",
       " <td></td>,\n",
       " <td>0</td>,\n",
       " <td>10</td>,\n",
       " <td>0</td>,\n",
       " <td>0</td>,\n",
       " <td>13</td>,\n",
       " <td>BECKY MALINOWSKI</td>,\n",
       " <td></td>,\n",
       " <td></td>,\n",
       " <td></td>,\n",
       " <td>10</td>,\n",
       " <td>9</td>,\n",
       " <td>0</td>,\n",
       " <td>0</td>,\n",
       " <td>14</td>,\n",
       " <td>PAULA SEVILLE</td>,\n",
       " <td></td>,\n",
       " <td></td>,\n",
       " <td></td>,\n",
       " <td>2</td>,\n",
       " <td>9</td>,\n",
       " <td>0</td>,\n",
       " <td>0</td>,\n",
       " <td>16</td>,\n",
       " <td>KIRSTEN UNFRIED</td>,\n",
       " <td></td>,\n",
       " <td></td>,\n",
       " <td></td>,\n",
       " <td>5</td>,\n",
       " <td>3</td>,\n",
       " <td>0</td>,\n",
       " <td>0</td>,\n",
       " <td>17</td>,\n",
       " <td>ANGELA ZHU</td>,\n",
       " <td></td>,\n",
       " <td></td>,\n",
       " <td>1'0\"</td>,\n",
       " <td>0</td>,\n",
       " <td>4</td>,\n",
       " <td>0</td>,\n",
       " <td>0</td>,\n",
       " <td>18</td>,\n",
       " <td>LEILA TUNNELL</td>,\n",
       " <td></td>,\n",
       " <td></td>,\n",
       " <td></td>,\n",
       " <td>2</td>,\n",
       " <td>10</td>,\n",
       " <td>0</td>,\n",
       " <td>0</td>,\n",
       " <td>19</td>,\n",
       " <td>LIEN HOFFMANN</td>,\n",
       " <td></td>,\n",
       " <td></td>,\n",
       " <td>5'6\"</td>,\n",
       " <td>6</td>,\n",
       " <td>5</td>,\n",
       " <td>0</td>,\n",
       " <td>0</td>,\n",
       " <td>21</td>,\n",
       " <td>CHELSEA MURPHY</td>,\n",
       " <td></td>,\n",
       " <td></td>,\n",
       " <td>5'3\"</td>,\n",
       " <td>3</td>,\n",
       " <td>1</td>,\n",
       " <td>0</td>,\n",
       " <td>0</td>,\n",
       " <td>22</td>,\n",
       " <td>VICTORIA NEGUS</td>,\n",
       " <td></td>,\n",
       " <td></td>,\n",
       " <td></td>,\n",
       " <td>4</td>,\n",
       " <td>1</td>,\n",
       " <td>0</td>,\n",
       " <td>0</td>,\n",
       " <td>23</td>,\n",
       " <td>EMILY BAECHER</td>,\n",
       " <td></td>,\n",
       " <td></td>,\n",
       " <td></td>,\n",
       " <td>2</td>,\n",
       " <td>6</td>,\n",
       " <td>0</td>,\n",
       " <td>0</td>,\n",
       " <td>24</td>,\n",
       " <td>CHELSEA WITTE-GARCIA</td>,\n",
       " <td></td>,\n",
       " <td></td>,\n",
       " <td></td>,\n",
       " <td>4</td>,\n",
       " <td>1</td>,\n",
       " <td>0</td>,\n",
       " <td>0</td>,\n",
       " <td>25</td>,\n",
       " <td>SHIRA KLANE</td>,\n",
       " <td>Defense (Handler)</td>,\n",
       " <td></td>,\n",
       " <td>5'4\"</td>,\n",
       " <td>2</td>,\n",
       " <td>0</td>,\n",
       " <td>0</td>,\n",
       " <td>0</td>,\n",
       " <td>26</td>,\n",
       " <td>ELANA SCHWAM</td>,\n",
       " <td></td>,\n",
       " <td></td>,\n",
       " <td>5'4\"</td>,\n",
       " <td>3</td>,\n",
       " <td>1</td>,\n",
       " <td>0</td>,\n",
       " <td>0</td>,\n",
       " <td>28</td>,\n",
       " <td>VICKI CHANG</td>,\n",
       " <td>Handler</td>,\n",
       " <td></td>,\n",
       " <td>5'5\"</td>,\n",
       " <td>1</td>,\n",
       " <td>3</td>,\n",
       " <td>0</td>,\n",
       " <td>0</td>,\n",
       " <td>33</td>,\n",
       " <td>LAURA BITTERMAN</td>,\n",
       " <td></td>,\n",
       " <td></td>,\n",
       " <td></td>,\n",
       " <td>10</td>,\n",
       " <td>1</td>,\n",
       " <td>0</td>,\n",
       " <td>0</td>,\n",
       " <td>37</td>,\n",
       " <td>MOLLY HALLWEAVER</td>,\n",
       " <td></td>,\n",
       " <td></td>,\n",
       " <td></td>,\n",
       " <td>1</td>,\n",
       " <td>3</td>,\n",
       " <td>0</td>,\n",
       " <td>0</td>]"
      ]
     },
     "execution_count": 213,
     "metadata": {},
     "output_type": "execute_result"
    }
   ],
   "source": [
    "brute.find_all('td')"
   ]
  },
  {
   "cell_type": "code",
   "execution_count": null,
   "metadata": {
    "collapsed": true
   },
   "outputs": [],
   "source": []
  }
 ],
 "metadata": {
  "kernelspec": {
   "display_name": "Python 2",
   "language": "python",
   "name": "python2"
  },
  "language_info": {
   "codemirror_mode": {
    "name": "ipython",
    "version": 2
   },
   "file_extension": ".py",
   "mimetype": "text/x-python",
   "name": "python",
   "nbconvert_exporter": "python",
   "pygments_lexer": "ipython2",
   "version": "2.7.11"
  }
 },
 "nbformat": 4,
 "nbformat_minor": 0
}
